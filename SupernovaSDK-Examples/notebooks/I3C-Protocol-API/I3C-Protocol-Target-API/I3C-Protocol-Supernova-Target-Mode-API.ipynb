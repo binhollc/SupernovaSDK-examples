{
 "cells": [
  {
   "cell_type": "markdown",
   "metadata": {},
   "source": [
    "### Getting started:\n",
    "\n",
    "##### Connection Setup:\n",
    "   \n",
    "   Connect two Supernovas between them via their I3C High Voltage connectors, and connect also each one to the computer via the USB port. One will act as an I3C controller and the other one as an I3C target.\n",
    "\n",
    "   The target Supernova acts as a 2 bytes-addressable and non-linear memory of 1024 bytes. The memory can be accessed via USB when using the `i3cTargetWriteMemory` or `i3cTargetReadMemory` methods. Or it can be accessed through the I3C bus when the user requests an I3C write, I3C read or I3C write-read to the Supernova acting as the I3C controller addressing the Supernova acting as a target.\n",
    "\n",
    "##### Expected Messages and Notifications:\n",
    "\n",
    "   Both Supernovas will return a response to their requests. However, when a request is sent to the Supernova acting as a the controller to issue an I3C transfer, whether it is a private transfer or a CCC, the Supernova controller will send a response to the USB Host (in this case, this notebook), but the Supernova acting as a target will send also an asynchronous notification to notify the I3C bus event that occurred.\n",
    "   \n",
    "##### Testing Process:\n",
    "   - Run each cell in order.\n",
    "   - Look for immediate feedback:\n",
    "     - The response or the notification and response for each command directed to a Supernova.\n"
   ]
  },
  {
   "cell_type": "markdown",
   "metadata": {},
   "source": [
    "### 1. Startup"
   ]
  },
  {
   "cell_type": "markdown",
   "metadata": {},
   "source": [
    "#### 1.1 Import the python package"
   ]
  },
  {
   "cell_type": "code",
   "execution_count": null,
   "metadata": {},
   "outputs": [],
   "source": [
    "import binhosupernova\n",
    "from binhosupernova.supernova import Supernova\n",
    "from binhosupernova.commands.i3c.definitions import *\n",
    "\n",
    "import random\n",
    "import threading\n",
    "\n",
    "print_lock = threading.Lock()"
   ]
  },
  {
   "cell_type": "markdown",
   "metadata": {},
   "source": [
    "#### 1.2 List all the Supernova devices connected to the PC host\n",
    "\n",
    "The ``binhosupernova.getConnectedSupernovaDevicesList()`` returns a list of the Supernova devices plugged into the host PC machine.\n",
    "\n",
    "Two different Supernovas with different serial numbers and paths must appear in the response. Their paths are get and saved in global variables to be used later in the code to open connection."
   ]
  },
  {
   "cell_type": "code",
   "execution_count": null,
   "metadata": {},
   "outputs": [
    {
     "name": "stdout",
     "output_type": "stream",
     "text": [
      "[{'path': '\\\\\\\\?\\\\HID#VID_1FC9&PID_82FC#6&39aa8cf6&2&0000#{4d1e55b2-f16f-11cf-88cb-001111000030}', 'vendor_id': '0x1fc9', 'product_id': '0x82fc', 'serial_number': 'D6175D813F06E05EA0A6A497E6C926A', 'release_number': 256, 'manufacturer_string': 'Binho LLC', 'product_string': 'Binho Supernova', 'usage_page': 65280, 'usage': 1, 'interface_number': 0}, {'path': '\\\\\\\\?\\\\HID#VID_1FC9&PID_82FC#6&11c48e71&2&0000#{4d1e55b2-f16f-11cf-88cb-001111000030}', 'vendor_id': '0x1fc9', 'product_id': '0x82fc', 'serial_number': '39EB517A3B54BE5E95DBDDCA22B6A16', 'release_number': 256, 'manufacturer_string': 'Binho LLC', 'product_string': 'Binho Supernova', 'usage_page': 65280, 'usage': 1, 'interface_number': 0}]\n"
     ]
    }
   ],
   "source": [
    "connected_devices = binhosupernova.getConnectedSupernovaDevicesList()\n",
    "print(connected_devices)\n",
    "\n",
    "if len(connected_devices) < 2:\n",
    "    print(\"Two Supernovas connected to this PC are required\")"
   ]
  },
  {
   "cell_type": "code",
   "execution_count": 3,
   "metadata": {},
   "outputs": [],
   "source": [
    "# Get the USB path of both devices.\n",
    "I3C_TARGET_USB_PATH = connected_devices[0][\"path\"]\n",
    "I3C_CONTROLLER_USB_PATH = connected_devices[1][\"path\"]"
   ]
  },
  {
   "cell_type": "markdown",
   "metadata": {},
   "source": [
    "#### 1.3 Define a function to generate transaction IDs\n",
    "\n",
    "All the request messages sent to the Supernova from the USB Host application must include the transaction or request ID. The ID is a 2-byte integer with an allowed range of ``[1, 65535]``. The id value `0` is reserved for asynchronous notifications.\n",
    "\n",
    "In this example, a dummy function called ``getId()`` is defined to increment a transaction counter used as the ID."
   ]
  },
  {
   "cell_type": "code",
   "execution_count": 4,
   "metadata": {},
   "outputs": [],
   "source": [
    "# Auxiliar code to generate IDs\n",
    "\n",
    "counter_id = 0\n",
    "\n",
    "def getId():\n",
    "    global counter_id\n",
    "    counter_id = counter_id + 1\n",
    "    return counter_id"
   ]
  },
  {
   "cell_type": "markdown",
   "metadata": {},
   "source": [
    "#### 1.4 Define and register callbacks to handle responses and notifications from the two Supernovas (the one acting as an I3C target and the one acting as an I3C controller)\n",
    "\n",
    "To handle responses and notifications from Supernova, a callback function must be defined and registered. This function will be invoked every time the Supernova sends a response to a request, an asynchronous notification, or a message from the system.\n",
    "\n",
    "The callback function's signature is as follows: \n",
    "\n",
    "``def callback_function_name(supernova_message: dict, system_message: dict) -> None:``\n",
    "\n",
    "Once the callback function is defined, it should be registered using the ``Supernova.onEvent(callback_function)`` method."
   ]
  },
  {
   "cell_type": "code",
   "execution_count": 5,
   "metadata": {},
   "outputs": [],
   "source": [
    "shared_controller_response = {}\n",
    "\n",
    "# Define callback function\n",
    "def controller_callback_function(supernova_message: dict, system_message: dict) -> None:\n",
    "\n",
    "    global shared_controller_response\n",
    "\n",
    "    with print_lock:\n",
    "\n",
    "        if supernova_message != None:\n",
    "\n",
    "            # Print a header\n",
    "            print(\">> New message from Supernova I3C Controller:\")\n",
    "            shared_controller_response = supernova_message\n",
    "            print(supernova_message)\n",
    "\n",
    "        if system_message != None:\n",
    "\n",
    "            # Print a header\n",
    "            print(\">> New message from the SYSTEM:\")\n",
    "            print(system_message)"
   ]
  },
  {
   "cell_type": "code",
   "execution_count": 6,
   "metadata": {},
   "outputs": [],
   "source": [
    "shared_target_response = {}\n",
    "\n",
    "# Define callback function\n",
    "def target_callback_function(supernova_message: dict, system_message: dict) -> None:\n",
    "\n",
    "    global shared_target_response\n",
    "\n",
    "    with print_lock:\n",
    "\n",
    "        if supernova_message != None:\n",
    "\n",
    "            # Print a header\n",
    "            print(\">> New message from Supernova I3C Target:\")\n",
    "\n",
    "            shared_target_response = supernova_message\n",
    "            print(supernova_message)\n",
    "\n",
    "        if system_message != None:\n",
    "\n",
    "            # Print a header\n",
    "            print(\">> New message from the SYSTEM:\")\n",
    "            print(system_message)"
   ]
  },
  {
   "cell_type": "markdown",
   "metadata": {},
   "source": [
    "### 2. Configure the Supernova that will act as an I3C target"
   ]
  },
  {
   "cell_type": "markdown",
   "metadata": {},
   "source": [
    "#### 2.1 Create an instance of the Supernova class\n",
    "\n",
    "To utilize a Supernova USB host adapter device, we need to create an instance of the Supernova class."
   ]
  },
  {
   "cell_type": "code",
   "execution_count": 7,
   "metadata": {},
   "outputs": [],
   "source": [
    "supernova_target = Supernova()"
   ]
  },
  {
   "cell_type": "markdown",
   "metadata": {},
   "source": [
    "#### 2.2 Open connection to the Supernova that acts as a target using the path of one of the devices retrieved by getConnectedSupernovaDevicesList() \n",
    "\n",
    "The public method ``Supernova.open()`` establishes the connection with a Supernova device. Below is the complete signature:\n",
    "\n",
    "```python\n",
    "open(serial, path)\n",
    "```\n",
    "\n",
    "- ``serial: str``: The Supernova serial number.\n",
    "- ``path: str``: The OS HID path assigned to the device. This can be obtained using the ``binhosupernova.getConnectedSupernovaDevicesList()`` method. The ``path`` parameter is currently the only way to uniquely identify each Supernova device. Therefore, it is recommended to use the ``path`` parameter, especially when opening connections with more than one Supernova device simultaneously."
   ]
  },
  {
   "cell_type": "code",
   "execution_count": 8,
   "metadata": {},
   "outputs": [
    {
     "data": {
      "text/plain": [
       "{'module': 0,\n",
       " 'opcode': 0,\n",
       " 'message': 'Connection with Supernova device opened successfully.'}"
      ]
     },
     "execution_count": 8,
     "metadata": {},
     "output_type": "execute_result"
    }
   ],
   "source": [
    "supernova_target.open(path = I3C_TARGET_USB_PATH)"
   ]
  },
  {
   "cell_type": "markdown",
   "metadata": {},
   "source": [
    "#### 2.3 Register the callback to the I3C target"
   ]
  },
  {
   "cell_type": "code",
   "execution_count": 9,
   "metadata": {},
   "outputs": [
    {
     "data": {
      "text/plain": [
       "{'module': 0,\n",
       " 'opcode': 0,\n",
       " 'message': 'On event callback function registered successfully.'}"
      ]
     },
     "execution_count": 9,
     "metadata": {},
     "output_type": "execute_result"
    }
   ],
   "source": [
    "supernova_target.onEvent(target_callback_function)"
   ]
  },
  {
   "cell_type": "markdown",
   "metadata": {},
   "source": [
    "#### 2.4 Initialize the Supernova I3C peripheral as a target memory of 1024 registers of 1 byte data width"
   ]
  },
  {
   "cell_type": "code",
   "execution_count": 10,
   "metadata": {},
   "outputs": [
    {
     "name": "stdout",
     "output_type": "stream",
     "text": [
      "BCR:  8\n",
      "DCR:  I3C_TARGET_MEMORY\n",
      ">> New message from Supernova I3C Target:\n",
      "{'id': 1, 'command': 'I3C TARGET INIT', 'result': 'SUCCESS'}\n"
     ]
    }
   ],
   "source": [
    "memory_layout = I3cTargetMemoryLayout_t.MEMORY_1_BYTE_X_1024_REGS\n",
    "\n",
    "pid = [0x01, 0x02, 0x03, 0x04, 0x05, 0x06]\n",
    "\n",
    "bcr = I3cBcrDeviceRoleBits_t.I3C_TARGET.value | \\\n",
    "      I3cBcrAdvancedCapabilitiesBit_t.NOT_SUPPORTED.value | \\\n",
    "      I3cBcrVirtualSupportBit_t.NOT_SUPPORTED.value | \\\n",
    "      I3cBcrOfflineCapBit_t.OFFLINE_UNCAPABLE.value | \\\n",
    "      I3cBcrIbiPayloadBit_t.IBI_WITHOUT_PAYLOAD.value | \\\n",
    "      I3cBcrIbiCapableBit_t.NOT_IBI_CAPABLE.value | \\\n",
    "      I3cBcrMaxDataSpeedLimitBit_t.NO_DATA_SPEED_LIMIT.value\n",
    "print(\"BCR: \", bcr)\n",
    "\n",
    "dcr = I3cTargetDcr_t.I3C_TARGET_MEMORY\n",
    "print(\"DCR: \", dcr.name)\n",
    "\n",
    "static_address = 0x21\n",
    "\n",
    "mwl = 255\n",
    "mrl = 255\n",
    "\n",
    "request_result = supernova_target.i3cTargetInit(getId(), memory_layout, pid, bcr, dcr, static_address, mwl, mrl)"
   ]
  },
  {
   "cell_type": "markdown",
   "metadata": {},
   "source": [
    "#### 2.5 Take a look at the internal memory\n",
    "\n",
    "The public method ``Supernova.i3cTargetReadMemory()`` allows the USB Host to read data from the Supernova internal memory.\n",
    "\n",
    "```python\n",
    "i3cTargetReadMemory(id, memoryAddress, length)\n",
    "```\n",
    "\n",
    "- ``id: c_uint16``: 2-bytes integer from 1 to 65535 that identifies the command.\n",
    "- ``memoryAddress: c_uint16``: Address of the memory at which data will be read from.\n",
    "- ``length: c_uint16``: Length of the data to be read. From 1 to 1024 bytes."
   ]
  },
  {
   "cell_type": "code",
   "execution_count": 11,
   "metadata": {},
   "outputs": [
    {
     "data": {
      "text/plain": [
       "{'module': 1, 'opcode': 0, 'message': 'I3C TARGET READ MEMORY request success'}"
      ]
     },
     "execution_count": 11,
     "metadata": {},
     "output_type": "execute_result"
    },
    {
     "name": "stdout",
     "output_type": "stream",
     "text": [
      ">> New message from Supernova I3C Target:\n",
      "{'id': 2, 'command': 'I3C TARGET READ MEMORY', 'result': 'SUCCESS', 'payload_length': 15, 'payload': [0, 0, 0, 0, 0, 0, 0, 0, 0, 0, 0, 0, 0, 0, 0]}\n"
     ]
    }
   ],
   "source": [
    "supernova_target.i3cTargetReadMemory(getId(),0x0000, 15)"
   ]
  },
  {
   "cell_type": "markdown",
   "metadata": {},
   "source": [
    "#### 2.6 Write data into the internal memory\n",
    "\n",
    "The public method ``Supernova.i3cTargetWriteMemory()`` allows the USB Host to send and write data into the Supernova internal memory.\n",
    "```python\n",
    "i3cTargetWriteMemory(id, memoryAddress, data)\n",
    "```\n",
    "\n",
    "- ``id: c_uint16``: Identifies the command.\n",
    "- ``memoryAddress: c_uint16``: Address of the memory at which data will be written from.\n",
    "- ``data: list``: Data to be written into the Supernova memory."
   ]
  },
  {
   "cell_type": "code",
   "execution_count": 12,
   "metadata": {},
   "outputs": [
    {
     "data": {
      "text/plain": [
       "{'module': 1,\n",
       " 'opcode': 0,\n",
       " 'message': 'I3C TARGET WRITE MEMORY request success'}"
      ]
     },
     "execution_count": 12,
     "metadata": {},
     "output_type": "execute_result"
    },
    {
     "name": "stdout",
     "output_type": "stream",
     "text": [
      ">> New message from Supernova I3C Target:\n",
      "{'id': 3, 'command': 'I3C TARGET WRITE MEMORY', 'result': 'SUCCESS'}\n"
     ]
    }
   ],
   "source": [
    "data = [i for i in range(10,0,-1)]\n",
    "\n",
    "supernova_target.i3cTargetWriteMemory(getId(), 0x0000, data)"
   ]
  },
  {
   "cell_type": "code",
   "execution_count": 13,
   "metadata": {},
   "outputs": [
    {
     "data": {
      "text/plain": [
       "{'module': 1, 'opcode': 0, 'message': 'I3C TARGET READ MEMORY request success'}"
      ]
     },
     "execution_count": 13,
     "metadata": {},
     "output_type": "execute_result"
    },
    {
     "name": "stdout",
     "output_type": "stream",
     "text": [
      ">> New message from Supernova I3C Target:\n",
      "{'id': 4, 'command': 'I3C TARGET READ MEMORY', 'result': 'SUCCESS', 'payload_length': 15, 'payload': [10, 9, 8, 7, 6, 5, 4, 3, 2, 1, 0, 0, 0, 0, 0]}\n"
     ]
    }
   ],
   "source": [
    "supernova_target.i3cTargetReadMemory(getId(),0x0000, 15)"
   ]
  },
  {
   "cell_type": "markdown",
   "metadata": {},
   "source": [
    "#### 2.7 Data length vs available space"
   ]
  },
  {
   "cell_type": "code",
   "execution_count": 14,
   "metadata": {},
   "outputs": [
    {
     "name": "stdout",
     "output_type": "stream",
     "text": [
      "Random memory address: 653\n",
      "Available space: 371\n",
      "Create list of random numbers of length 468.\n",
      "The result will be: SURPASSED MEMORY SIZE\n",
      "\n",
      "Supernova response:\n",
      "\n"
     ]
    },
    {
     "name": "stdout",
     "output_type": "stream",
     "text": [
      ">> New message from Supernova I3C Target:\n",
      "{'id': 5, 'command': 'I3C TARGET WRITE MEMORY', 'result': 'SURPASSED_MEMORY_SIZE'}\n"
     ]
    }
   ],
   "source": [
    "memory_address = random.randint(0,1023)\n",
    "available_space = 1024 - memory_address\n",
    "\n",
    "data_length = random.randint(1,1024)\n",
    "data_to_write = random.choices(range(0,256), k=data_length)\n",
    "\n",
    "print(f\"Random memory address: {memory_address}\")\n",
    "print(f\"Available space: {available_space}\")\n",
    "print(f\"Create list of random numbers of length {data_length}.\")\n",
    "\n",
    "if available_space >= data_length:\n",
    "    print(\"The result will be: SUCCESS\\r\\n\")\n",
    "else:\n",
    "    print(\"The result will be: SURPASSED MEMORY SIZE\\r\\n\")\n",
    "\n",
    "print(\"Supernova response:\\r\\n\")\n",
    "\n",
    "request_result = supernova_target.i3cTargetWriteMemory(getId(), memory_address, data_to_write)"
   ]
  },
  {
   "cell_type": "code",
   "execution_count": 15,
   "metadata": {},
   "outputs": [
    {
     "name": "stdout",
     "output_type": "stream",
     "text": [
      ">> New message from Supernova I3C Target:\n",
      "{'id': 6, 'command': 'I3C TARGET READ MEMORY', 'result': 'SURPASSED_MEMORY_SIZE', 'payload_length': 371, 'payload': [158, 78, 211, 217, 96, 246, 14, 212, 139, 164, 114, 119, 169, 52, 61, 213, 159, 39, 226, 87, 76, 142, 98, 204, 71, 109, 80, 94, 237, 50, 167, 26, 44, 70, 149, 34, 36, 68, 18, 42, 167, 173, 95, 89, 175, 87, 67, 247, 14, 92, 247, 210, 66, 1, 155, 8, 133, 56, 17, 242, 165, 85, 123, 127, 182, 241, 189, 203, 181, 63, 238, 130, 85, 202, 42, 181, 204, 45, 222, 189, 168, 151, 156, 129, 125, 189, 56, 6, 185, 49, 198, 89, 136, 136, 114, 228, 42, 113, 71, 187, 88, 140, 73, 156, 0, 8, 152, 93, 32, 246, 87, 135, 134, 18, 63, 40, 130, 177, 178, 210, 201, 153, 210, 127, 58, 14, 40, 108, 209, 168, 78, 5, 171, 223, 251, 121, 197, 226, 68, 212, 178, 202, 76, 215, 18, 233, 19, 156, 42, 164, 85, 39, 144, 241, 253, 233, 24, 50, 149, 196, 2, 228, 172, 157, 194, 228, 158, 16, 235, 53, 125, 200, 167, 143, 93, 250, 201, 97, 128, 27, 112, 128, 55, 22, 84, 225, 144, 174, 79, 183, 5, 113, 112, 89, 7, 162, 107, 252, 57, 162, 151, 230, 191, 85, 96, 71, 74, 252, 245, 169, 37, 125, 252, 77, 91, 169, 141, 50, 195, 102, 40, 213, 13, 77, 25, 161, 153, 78, 255, 41, 64, 3, 43, 43, 19, 67, 130, 220, 77, 172, 247, 31, 3, 239, 26, 148, 59, 7, 87, 16, 160, 224, 239, 122, 193, 136, 219, 0, 130, 234, 79, 191, 249, 237, 227, 233, 194, 140, 242, 132, 107, 188, 60, 150, 171, 249, 68, 114, 132, 161, 86, 104, 202, 97, 200, 145, 23, 94, 252, 38, 208, 18, 111, 13, 172, 118, 6, 246, 32, 160, 27, 31, 103, 2, 243, 91, 36, 94, 41, 235, 15, 122, 184, 203, 31, 77, 104, 182, 40, 94, 244, 209, 60, 205, 130, 231, 13, 153, 80, 154, 236, 231, 251, 136, 116, 47, 29, 141, 226, 0, 239, 71, 115, 60, 228, 239, 132, 120, 37, 226, 61, 71, 112, 255, 199, 128, 51, 15, 5, 142, 33, 10, 238, 130, 66, 244, 193, 254, 218, 162, 143]}\n"
     ]
    }
   ],
   "source": [
    "request_result = supernova_target.i3cTargetReadMemory(getId(), memory_address, data_length)"
   ]
  },
  {
   "cell_type": "code",
   "execution_count": 16,
   "metadata": {},
   "outputs": [
    {
     "name": "stdout",
     "output_type": "stream",
     "text": [
      "Data transferred successfully!\n"
     ]
    }
   ],
   "source": [
    "if shared_target_response[\"payload\"] == data_to_write[:shared_target_response[\"payload_length\"]]:\n",
    "    print(\"Data transferred successfully!\")"
   ]
  },
  {
   "cell_type": "markdown",
   "metadata": {},
   "source": [
    "### 3. Configure the Supernova that will act as an I3C controller"
   ]
  },
  {
   "cell_type": "markdown",
   "metadata": {},
   "source": [
    "#### 3.1 Create an instance of the Supernova class\n",
    "\n",
    "To utilize a Supernova USB host adapter device, we need to create an instance of the Supernova class."
   ]
  },
  {
   "cell_type": "code",
   "execution_count": 17,
   "metadata": {},
   "outputs": [],
   "source": [
    "supernova_controller = Supernova()"
   ]
  },
  {
   "cell_type": "markdown",
   "metadata": {},
   "source": [
    "#### 3.2 Open connection to the Supernova that acts as a controller using the path of one of the devices retrieved by getConnectedSupernovaDevicesList() \n",
    "\n",
    "The public method ``Supernova.open()`` establishes the connection with a Supernova device. Below is the complete signature:\n",
    "\n",
    "```python\n",
    "open(vid, pid, serial, path)\n",
    "```\n",
    "\n",
    "- ``vid: int``: The Supernova USB VID, which is set by default.\n",
    "- ``pid: int``: The Supernova USB PID, which is set by default.\n",
    "- ``serial: str``: The Supernova serial number.\n",
    "- ``path: str``: The OS HID path assigned to the device. This can be obtained using the ``binhosupernova.getConnectedSupernovaDevicesList()`` method. The ``path`` parameter is currently the only way to uniquely identify each Supernova device. Therefore, it is recommended to use the ``path`` parameter, especially when opening connections with more than one Supernova device simultaneously."
   ]
  },
  {
   "cell_type": "code",
   "execution_count": 18,
   "metadata": {},
   "outputs": [
    {
     "data": {
      "text/plain": [
       "{'module': 0,\n",
       " 'opcode': 0,\n",
       " 'message': 'Connection with Supernova device opened successfully.'}"
      ]
     },
     "execution_count": 18,
     "metadata": {},
     "output_type": "execute_result"
    }
   ],
   "source": [
    "supernova_controller.open(path = I3C_CONTROLLER_USB_PATH)"
   ]
  },
  {
   "cell_type": "markdown",
   "metadata": {},
   "source": [
    "#### 3.3 Register the callback to the I3C controller"
   ]
  },
  {
   "cell_type": "code",
   "execution_count": 19,
   "metadata": {},
   "outputs": [
    {
     "data": {
      "text/plain": [
       "{'module': 0,\n",
       " 'opcode': 0,\n",
       " 'message': 'On event callback function registered successfully.'}"
      ]
     },
     "execution_count": 19,
     "metadata": {},
     "output_type": "execute_result"
    }
   ],
   "source": [
    "supernova_controller.onEvent(controller_callback_function)"
   ]
  },
  {
   "cell_type": "markdown",
   "metadata": {},
   "source": [
    "#### 3.4 Initialize the Supernova I3C peripheral as controller\n",
    "\n",
    "``Supernova.i3cControllerInit(id, pushPullRate, i3cOpenDrainRate, i2cOpenDrainRate)``\n",
    "\n",
    "This method initializes the Supernova as an I3C controller.\n",
    "\n",
    "  - `id: int`: A 2-byte integer that represents the transfer ID.\n",
    "  - `pushPullRate: I3cPushPullTransferRate`: Push-Pull frequency.\n",
    "  - `i3cOpenDrainRate: I3cOpenDrainTransferRate`: I3C frequency in Open Drain mode.\n",
    "  - `i2cOpenDrainRate: I2cTransferRate`: I2C frequency."
   ]
  },
  {
   "cell_type": "code",
   "execution_count": 20,
   "metadata": {},
   "outputs": [
    {
     "name": "stdout",
     "output_type": "stream",
     "text": [
      ">> New message from Supernova I3C Controller:\n",
      "{'id': 7, 'command': 'I3C CONTROLLER INIT', 'result': 'SUCCESS'}\n"
     ]
    }
   ],
   "source": [
    "request_result = supernova_controller.i3cControllerInit(getId(), I3cPushPullTransferRate.PUSH_PULL_5_MHZ, I3cOpenDrainTransferRate.OPEN_DRAIN_1_25_MHZ, I2cTransferRate._100KHz)"
   ]
  },
  {
   "cell_type": "markdown",
   "metadata": {},
   "source": [
    "#### 3.5 Set I3C bus voltage\n",
    "\n",
    "By default, both Supernovas work at 1.62V. If it is necessary to change the bus voltage, the voltage must be set in both devices."
   ]
  },
  {
   "cell_type": "code",
   "execution_count": 21,
   "metadata": {},
   "outputs": [
    {
     "data": {
      "text/plain": [
       "{'module': 1, 'opcode': 0, 'message': 'SET I3C VOLTAGE request success'}"
      ]
     },
     "execution_count": 21,
     "metadata": {},
     "output_type": "execute_result"
    },
    {
     "name": "stdout",
     "output_type": "stream",
     "text": [
      ">> New message from Supernova I3C Controller:\n",
      "{'id': 8, 'command': 'SYS SET I3C VOLTAGE', 'result': 'SUCCESS'}\n"
     ]
    }
   ],
   "source": [
    "#Uncomment lines below if it is required to change the I3C bus voltage.\n",
    "\n",
    "# Set the voltage of the Supernova acting as a controller.\n",
    "supernova_controller.setI3cVoltage(getId(), 3300)"
   ]
  },
  {
   "cell_type": "code",
   "execution_count": 22,
   "metadata": {},
   "outputs": [
    {
     "data": {
      "text/plain": [
       "{'module': 1,\n",
       " 'opcode': 0,\n",
       " 'message': 'USE EXT SRC I3C VOLTAGE request success'}"
      ]
     },
     "execution_count": 22,
     "metadata": {},
     "output_type": "execute_result"
    },
    {
     "name": "stdout",
     "output_type": "stream",
     "text": [
      ">> New message from Supernova I3C Target:\n",
      "{'id': 9, 'command': 'SYS USE EXTERNAL I3C VOLTAGE', 'result': 'SUCCESS', 'i3c_low_voltage_mV': 1, 'i3c_high_voltage_mV': 3182}\n"
     ]
    }
   ],
   "source": [
    "# In the case of the target, use one of the following methods.\n",
    "# supernova_target.setI3cVoltage(getId(), 3300)\n",
    "supernova_target.useExternalI3cVoltage(getId())"
   ]
  },
  {
   "cell_type": "markdown",
   "metadata": {},
   "source": [
    "#### 3.6 I3C bus initialization"
   ]
  },
  {
   "cell_type": "code",
   "execution_count": 23,
   "metadata": {},
   "outputs": [
    {
     "name": "stdout",
     "output_type": "stream",
     "text": [
      ">> New message from Supernova I3C Controller:\n",
      "{'id': 10, 'command': 'I3C CONTROLLER RESET BUS', 'result': 'SUCCESS'}\n"
     ]
    }
   ],
   "source": [
    "request_result = supernova_controller.i3cControllerResetBus(getId())"
   ]
  },
  {
   "cell_type": "code",
   "execution_count": 24,
   "metadata": {},
   "outputs": [
    {
     "name": "stdout",
     "output_type": "stream",
     "text": [
      ">> New message from Supernova I3C Controller:\n",
      "{'id': 11, 'command': 'I3C CONTROLLER CCC TRANSFER', 'result': 'SUCCESS', 'ccc': 'D_SETDASA', 'payload_length': 1}\n",
      ">> New message from Supernova I3C Target:\n",
      "{'id': 0, 'command': 'I3C TARGET BUS EVENT NOTIFICATION', 'result': 'SUCCESS', 'event': 'I3C_CCC_TRANSFER_EVENT', 'target_address': 0}\n"
     ]
    },
    {
     "name": "stdout",
     "output_type": "stream",
     "text": [
      ">> New message from Supernova I3C Target:\n",
      "{'id': 0, 'command': 'I3C TARGET BUS EVENT NOTIFICATION', 'result': 'SUCCESS', 'event': 'I3C_TARGET_DYN_ADDR_CHANGE_EVENT', 'new_address': 115}\n"
     ]
    }
   ],
   "source": [
    "dynamic_address = 0x73\n",
    "\n",
    "request_result = supernova_controller.i3cSETDASA(getId(), static_address, dynamic_address)"
   ]
  },
  {
   "cell_type": "code",
   "execution_count": 25,
   "metadata": {},
   "outputs": [
    {
     "name": "stdout",
     "output_type": "stream",
     "text": [
      ">> New message from Supernova I3C Controller:\n",
      "{'id': 12, 'command': 'I3C CONTROLLER GET TARGET DEVICES TABLE', 'result': 'SUCCESS', 'number_of_targets': 1, 'table': [{'static_address': 33, 'dynamic_address': 115, 'pid': [0, 0, 0, 0, 0, 0], 'bcr': 0, 'dcr': 0, 'mwl': 0, 'mrl': 0, 'max_ibi_payload_length': 0, 'configuration': {'target_type': 'I3C_DEVICE', 'interrupt_request': 'REJECT_IBI', 'controller_role_request': 'REJECT_CRR', 'setdasa': 'USE_SETDASA', 'setaasa': 'DO_NOT_USE_SETAASA', 'entdaa': 'DO_NOT_USE_ENTDAA', 'ibi_timestamp': 'DISABLE_IBIT', 'pending_read_capability': 'DISABLE_AUTOMATIC_READ'}}]}\n"
     ]
    }
   ],
   "source": [
    "request_result = supernova_controller.i3cControllerGetTargetDevicesTable(getId())"
   ]
  },
  {
   "cell_type": "markdown",
   "metadata": {},
   "source": [
    "#### 3.7 I3C CCC Transfers"
   ]
  },
  {
   "cell_type": "markdown",
   "metadata": {},
   "source": [
    "##### 3.7.1 GETPID"
   ]
  },
  {
   "cell_type": "code",
   "execution_count": 26,
   "metadata": {},
   "outputs": [
    {
     "name": "stdout",
     "output_type": "stream",
     "text": [
      ">> New message from Supernova I3C Controller:\n",
      "{'id': 13, 'command': 'I3C CONTROLLER CCC TRANSFER', 'result': 'SUCCESS', 'ccc': 'D_GETPID', 'payload_length': 6, 'payload': [1, 2, 3, 4, 5, 6]}\n",
      ">> New message from Supernova I3C Target:\n",
      "{'id': 0, 'command': 'I3C TARGET BUS EVENT NOTIFICATION', 'result': 'SUCCESS', 'event': 'I3C_CCC_TRANSFER_EVENT', 'target_address': 115}\n"
     ]
    }
   ],
   "source": [
    "request_result = supernova_controller.i3cGETPID(getId(), dynamic_address)"
   ]
  },
  {
   "cell_type": "markdown",
   "metadata": {},
   "source": [
    "##### 3.7.2 GETBCR"
   ]
  },
  {
   "cell_type": "code",
   "execution_count": 27,
   "metadata": {},
   "outputs": [
    {
     "name": "stdout",
     "output_type": "stream",
     "text": [
      ">> New message from Supernova I3C Target:\n",
      "{'id': 0, 'command': 'I3C TARGET BUS EVENT NOTIFICATION', 'result': 'SUCCESS', 'event': 'I3C_CCC_TRANSFER_EVENT', 'target_address': 115}\n",
      ">> New message from Supernova I3C Controller:\n",
      "{'id': 14, 'command': 'I3C CONTROLLER CCC TRANSFER', 'result': 'SUCCESS', 'ccc': 'D_GETBCR', 'payload_length': 1, 'payload': [8]}\n"
     ]
    }
   ],
   "source": [
    "request_result = supernova_controller.i3cGETBCR(getId(), dynamic_address)"
   ]
  },
  {
   "cell_type": "markdown",
   "metadata": {},
   "source": [
    "##### 3.7.3 GETDCR"
   ]
  },
  {
   "cell_type": "code",
   "execution_count": 28,
   "metadata": {},
   "outputs": [
    {
     "name": "stdout",
     "output_type": "stream",
     "text": [
      ">> New message from Supernova I3C Controller:"
     ]
    },
    {
     "name": "stdout",
     "output_type": "stream",
     "text": [
      "\n",
      "{'id': 15, 'command': 'I3C CONTROLLER CCC TRANSFER', 'result': 'SUCCESS', 'ccc': 'D_GETDCR', 'payload_length': 1, 'payload': [197]}\n",
      ">> New message from Supernova I3C Target:\n",
      "{'id': 0, 'command': 'I3C TARGET BUS EVENT NOTIFICATION', 'result': 'SUCCESS', 'event': 'I3C_CCC_TRANSFER_EVENT', 'target_address': 115}\n"
     ]
    }
   ],
   "source": [
    "request_result = supernova_controller.i3cGETDCR(getId(), dynamic_address)"
   ]
  },
  {
   "cell_type": "code",
   "execution_count": 29,
   "metadata": {},
   "outputs": [
    {
     "data": {
      "text/plain": [
       "'I3C_TARGET_MEMORY'"
      ]
     },
     "execution_count": 29,
     "metadata": {},
     "output_type": "execute_result"
    }
   ],
   "source": [
    "# Check DCR value meaning.\n",
    "I3cTargetDcr_t(shared_controller_response[\"payload\"][0]).name"
   ]
  },
  {
   "cell_type": "markdown",
   "metadata": {},
   "source": [
    "##### 3.7.4 GETMWL"
   ]
  },
  {
   "cell_type": "code",
   "execution_count": 30,
   "metadata": {},
   "outputs": [
    {
     "name": "stdout",
     "output_type": "stream",
     "text": [
      ">> New message from Supernova I3C Controller:\n",
      "{'id': 16, 'command': 'I3C CONTROLLER CCC TRANSFER', 'result': 'SUCCESS', 'ccc': 'D_GETMWL', 'payload_length': 2, 'payload': [0, 255]}\n",
      ">> New message from Supernova I3C Target:\n",
      "{'id': 0, 'command': 'I3C TARGET BUS EVENT NOTIFICATION', 'result': 'SUCCESS', 'event': 'I3C_CCC_TRANSFER_EVENT', 'target_address': 115}\n"
     ]
    }
   ],
   "source": [
    "request_result = supernova_controller.i3cGETMWL(getId(), dynamic_address)"
   ]
  },
  {
   "cell_type": "markdown",
   "metadata": {},
   "source": [
    "##### 3.7.5 SETMWL"
   ]
  },
  {
   "cell_type": "code",
   "execution_count": 31,
   "metadata": {},
   "outputs": [
    {
     "name": "stdout",
     "output_type": "stream",
     "text": [
      ">> New message from Supernova I3C Controller:\n",
      "{'id': 17, 'command': 'I3C CONTROLLER CCC TRANSFER', 'result': 'SUCCESS', 'ccc': 'D_SETMWL', 'payload_length': 2}\n",
      ">> New message from Supernova I3C Target:\n",
      "{'id': 0, 'command': 'I3C TARGET BUS EVENT NOTIFICATION', 'result': 'SUCCESS', 'event': 'I3C_CCC_TRANSFER_EVENT', 'target_address': 115}\n"
     ]
    }
   ],
   "source": [
    "NEW_MWL         = 1024\n",
    "\n",
    "request_result = supernova_controller.i3cDirectSETMWL(getId(), dynamic_address, NEW_MWL)"
   ]
  },
  {
   "cell_type": "markdown",
   "metadata": {},
   "source": [
    "##### 3.7.6 GETMWL"
   ]
  },
  {
   "cell_type": "code",
   "execution_count": 32,
   "metadata": {},
   "outputs": [
    {
     "name": "stdout",
     "output_type": "stream",
     "text": [
      ">> New message from Supernova I3C Target:\n",
      "{'id': 0, 'command': 'I3C TARGET BUS EVENT NOTIFICATION', 'result': 'SUCCESS', 'event': 'I3C_CCC_TRANSFER_EVENT', 'target_address': 115}\n",
      ">> New message from Supernova I3C Controller:\n",
      "{'id': 18, 'command': 'I3C CONTROLLER CCC TRANSFER', 'result': 'SUCCESS', 'ccc': 'D_GETMWL', 'payload_length': 2, 'payload': [4, 0]}\n"
     ]
    }
   ],
   "source": [
    "request_result = supernova_controller.i3cGETMWL(getId(), dynamic_address)"
   ]
  },
  {
   "cell_type": "markdown",
   "metadata": {},
   "source": [
    "##### 3.7.7 GETMRL"
   ]
  },
  {
   "cell_type": "code",
   "execution_count": 33,
   "metadata": {},
   "outputs": [
    {
     "name": "stdout",
     "output_type": "stream",
     "text": [
      ">> New message from Supernova I3C Controller:\n",
      "{'id': 19, 'command': 'I3C CONTROLLER CCC TRANSFER', 'result': 'SUCCESS', 'ccc': 'D_GETMRL', 'payload_length': 2, 'payload': [0, 255]}\n",
      ">> New message from Supernova I3C Target:\n",
      "{'id': 0, 'command': 'I3C TARGET BUS EVENT NOTIFICATION', 'result': 'SUCCESS', 'event': 'I3C_CCC_TRANSFER_EVENT', 'target_address': 115}\n"
     ]
    }
   ],
   "source": [
    "request_result = supernova_controller.i3cGETMRL(getId(), dynamic_address)"
   ]
  },
  {
   "cell_type": "markdown",
   "metadata": {},
   "source": [
    "##### 3.7.8 SETMRL"
   ]
  },
  {
   "cell_type": "code",
   "execution_count": 34,
   "metadata": {},
   "outputs": [
    {
     "name": "stdout",
     "output_type": "stream",
     "text": [
      ">> New message from Supernova I3C Controller:\n",
      "{'id': 20, 'command': 'I3C CONTROLLER CCC TRANSFER', 'result': 'SUCCESS', 'ccc': 'D_SETMRL', 'payload_length': 2}\n",
      ">> New message from Supernova I3C Target:\n",
      "{'id': 0, 'command': 'I3C TARGET BUS EVENT NOTIFICATION', 'result': 'SUCCESS', 'event': 'I3C_CCC_TRANSFER_EVENT', 'target_address': 115}\n"
     ]
    }
   ],
   "source": [
    "NEW_MRL         = 512\n",
    "\n",
    "request_result = supernova_controller.i3cDirectSETMRL(getId(), dynamic_address, NEW_MRL)"
   ]
  },
  {
   "cell_type": "markdown",
   "metadata": {},
   "source": [
    "##### 3.7.9 GETMRL"
   ]
  },
  {
   "cell_type": "code",
   "execution_count": 35,
   "metadata": {},
   "outputs": [
    {
     "name": "stdout",
     "output_type": "stream",
     "text": [
      ">> New message from Supernova I3C Target:\n",
      "{'id': 0, 'command': 'I3C TARGET BUS EVENT NOTIFICATION', 'result': 'SUCCESS', 'event': 'I3C_CCC_TRANSFER_EVENT', 'target_address': 115}\n"
     ]
    },
    {
     "name": "stdout",
     "output_type": "stream",
     "text": [
      ">> New message from Supernova I3C Controller:\n",
      "{'id': 21, 'command': 'I3C CONTROLLER CCC TRANSFER', 'result': 'SUCCESS', 'ccc': 'D_GETMRL', 'payload_length': 2, 'payload': [2, 0]}\n"
     ]
    }
   ],
   "source": [
    "request_result = supernova_controller.i3cGETMRL(getId(), dynamic_address)"
   ]
  },
  {
   "cell_type": "markdown",
   "metadata": {},
   "source": [
    "##### 3.7.10 GETSTATUS"
   ]
  },
  {
   "cell_type": "code",
   "execution_count": 36,
   "metadata": {},
   "outputs": [
    {
     "name": "stdout",
     "output_type": "stream",
     "text": [
      ">> New message from Supernova I3C Controller:\n",
      "{'id': 22, 'command': 'I3C CONTROLLER CCC TRANSFER', 'result': 'SUCCESS', 'ccc': 'D_GETSTATUS', 'payload_length': 2, 'payload': [0, 0]}\n",
      ">> New message from Supernova I3C Target:\n",
      "{'id': 0, 'command': 'I3C TARGET BUS EVENT NOTIFICATION', 'result': 'SUCCESS', 'event': 'I3C_CCC_TRANSFER_EVENT', 'target_address': 115}\n"
     ]
    }
   ],
   "source": [
    "request_result = supernova_controller.i3cGETSTATUS(getId(), dynamic_address)"
   ]
  },
  {
   "cell_type": "markdown",
   "metadata": {},
   "source": [
    "#### 3.8 Set I3C Target parameters\n",
    "\n",
    "The public method ``Supernova.i3cTargetSetParameters()`` sets the configuration of the supernova acting as a target on the I3C bus."
   ]
  },
  {
   "cell_type": "code",
   "execution_count": 37,
   "metadata": {},
   "outputs": [
    {
     "name": "stdout",
     "output_type": "stream",
     "text": [
      "BCR:  8\n",
      "DCR:  I3C_TARGET_MEMORY\n",
      ">> New message from Supernova I3C Target:\n",
      "{'id': 23, 'command': 'I3C TARGET SET PARAMETERS', 'result': 'SUCCESS'}\n"
     ]
    }
   ],
   "source": [
    "memory_layout = I3cTargetMemoryLayout_t.MEMORY_1_BYTE_X_1024_REGS\n",
    "\n",
    "pid = [0xF1, 0xF2, 0xF3, 0xF4, 0xF5, 0xF6]\n",
    "\n",
    "bcr = I3cBcrDeviceRoleBits_t.I3C_TARGET.value | \\\n",
    "      I3cBcrAdvancedCapabilitiesBit_t.NOT_SUPPORTED.value | \\\n",
    "      I3cBcrVirtualSupportBit_t.NOT_SUPPORTED.value | \\\n",
    "      I3cBcrOfflineCapBit_t.OFFLINE_UNCAPABLE.value | \\\n",
    "      I3cBcrIbiPayloadBit_t.IBI_WITHOUT_PAYLOAD.value | \\\n",
    "      I3cBcrIbiCapableBit_t.NOT_IBI_CAPABLE.value | \\\n",
    "      I3cBcrMaxDataSpeedLimitBit_t.NO_DATA_SPEED_LIMIT.value\n",
    "print(\"BCR: \", bcr)\n",
    "\n",
    "dcr = I3cTargetDcr_t.I3C_TARGET_MEMORY\n",
    "print(\"DCR: \", dcr.name)\n",
    "\n",
    "static_address = 0x21\n",
    "\n",
    "mwl = 32\n",
    "mrl = 64\n",
    "\n",
    "request_result = supernova_target.i3cTargetSetParameters(getId(), memory_layout, pid, bcr, dcr, static_address, mwl, mrl)"
   ]
  },
  {
   "cell_type": "markdown",
   "metadata": {},
   "source": [
    "3.8.1 Check the correct setting of the MWL using the method `i3cTargetSetConfiguration` above by requesting a GETMWL CCC."
   ]
  },
  {
   "cell_type": "code",
   "execution_count": 38,
   "metadata": {},
   "outputs": [
    {
     "name": "stdout",
     "output_type": "stream",
     "text": [
      ">> New message from Supernova I3C Controller:\n",
      "{'id': 24, 'command': 'I3C CONTROLLER CCC TRANSFER', 'result': 'SUCCESS', 'ccc': 'D_GETMWL', 'payload_length': 2, 'payload': [0, 32]}\n",
      ">> New message from Supernova I3C Target:\n",
      "{'id': 0, 'command': 'I3C TARGET BUS EVENT NOTIFICATION', 'result': 'SUCCESS', 'event': 'I3C_CCC_TRANSFER_EVENT', 'target_address': 115}\n"
     ]
    }
   ],
   "source": [
    "request_result = supernova_controller.i3cGETMWL(getId(), dynamic_address)"
   ]
  },
  {
   "cell_type": "markdown",
   "metadata": {},
   "source": [
    "3.8.2 Check the correct setting of the MRL using the method `i3cTargetSetConfiguration` above by requesting a GETMRL CCC."
   ]
  },
  {
   "cell_type": "code",
   "execution_count": 39,
   "metadata": {},
   "outputs": [
    {
     "name": "stdout",
     "output_type": "stream",
     "text": [
      ">> New message from Supernova I3C Controller:\n",
      "{'id': 25, 'command': 'I3C CONTROLLER CCC TRANSFER', 'result': 'SUCCESS', 'ccc': 'D_GETMRL', 'payload_length': 2, 'payload': [0, 64]}\n",
      ">> New message from Supernova I3C Target:\n",
      "{'id': 0, 'command': 'I3C TARGET BUS EVENT NOTIFICATION', 'result': 'SUCCESS', 'event': 'I3C_CCC_TRANSFER_EVENT', 'target_address': 115}\n"
     ]
    }
   ],
   "source": [
    "request_result = supernova_controller.i3cGETMRL(getId(), dynamic_address)"
   ]
  },
  {
   "cell_type": "markdown",
   "metadata": {},
   "source": [
    "3.8.3 Check the correct setting of the new PID using the method `i3cTargetSetConfiguration` above by requesting a GETPID CCC."
   ]
  },
  {
   "cell_type": "code",
   "execution_count": 40,
   "metadata": {},
   "outputs": [
    {
     "name": "stdout",
     "output_type": "stream",
     "text": [
      ">> New message from Supernova I3C Controller:\n",
      "{'id': 26, 'command': 'I3C CONTROLLER CCC TRANSFER', 'result': 'SUCCESS', 'ccc': 'D_GETPID', 'payload_length': 6, 'payload': [241, 242, 243, 244, 245, 246]}\n",
      ">> New message from Supernova I3C Target:\n",
      "{'id': 0, 'command': 'I3C TARGET BUS EVENT NOTIFICATION', 'result': 'SUCCESS', 'event': 'I3C_CCC_TRANSFER_EVENT', 'target_address': 115}\n"
     ]
    }
   ],
   "source": [
    "request_result = supernova_controller.i3cGETPID(getId(), dynamic_address)"
   ]
  },
  {
   "cell_type": "markdown",
   "metadata": {},
   "source": [
    "#### 3.9 I3C Private Transfers"
   ]
  },
  {
   "cell_type": "markdown",
   "metadata": {},
   "source": [
    "3.9.1 Previously, let's write random data into the internal memory of the target from the USB Host"
   ]
  },
  {
   "cell_type": "code",
   "execution_count": 42,
   "metadata": {},
   "outputs": [
    {
     "name": "stdout",
     "output_type": "stream",
     "text": [
      "Random memory address: 133\n",
      "Available space: 891\n",
      "Create list of random numbers of length 224.\n",
      "The result will be: SUCCESS\n",
      "\n",
      "Supernova response:\n",
      "\n"
     ]
    },
    {
     "name": "stdout",
     "output_type": "stream",
     "text": [
      ">> New message from Supernova I3C Target:\n",
      "{'id': 28, 'command': 'I3C TARGET WRITE MEMORY', 'result': 'SUCCESS'}\n"
     ]
    }
   ],
   "source": [
    "memory_address = random.randint(0,1023)\n",
    "available_space = 1024 - memory_address\n",
    "\n",
    "data_length = random.randint(1,1024)\n",
    "data_to_write = random.choices(range(0,256), k=data_length)\n",
    "\n",
    "print(f\"Random memory address: {memory_address}\")\n",
    "print(f\"Available space: {available_space}\")\n",
    "print(f\"Create list of random numbers of length {data_length}.\")\n",
    "\n",
    "if available_space >= data_length:\n",
    "    print(\"The result will be: SUCCESS\\r\\n\")\n",
    "else:\n",
    "    print(\"The result will be: SURPASSED MEMORY SIZE\\r\\n\")\n",
    "\n",
    "print(\"Supernova response:\\r\\n\")\n",
    "\n",
    "\n",
    "request_result = supernova_target.i3cTargetWriteMemory(getId(), memory_address, data_to_write)"
   ]
  },
  {
   "cell_type": "markdown",
   "metadata": {},
   "source": [
    "3.9.2 Now, let's read the written random data to compare with the data read by the I3C Controller."
   ]
  },
  {
   "cell_type": "code",
   "execution_count": 43,
   "metadata": {},
   "outputs": [
    {
     "name": "stdout",
     "output_type": "stream",
     "text": [
      ">> New message from Supernova I3C Target:\n",
      "{'id': 29, 'command': 'I3C TARGET READ MEMORY', 'result': 'SUCCESS', 'payload_length': 224, 'payload': [129, 181, 184, 234, 152, 229, 95, 123, 172, 166, 19, 245, 176, 71, 252, 92, 225, 71, 42, 99, 255, 212, 72, 224, 10, 244, 152, 50, 79, 142, 162, 252, 15, 149, 79, 206, 12, 72, 18, 128, 204, 242, 192, 77, 10, 36, 184, 73, 31, 94, 114, 23, 200, 130, 17, 177, 163, 125, 35, 171, 115, 229, 14, 29, 195, 14, 209, 121, 88, 90, 52, 23, 153, 231, 55, 74, 146, 61, 106, 86, 140, 30, 141, 164, 71, 129, 32, 144, 198, 96, 39, 41, 197, 44, 156, 12, 8, 218, 120, 204, 121, 39, 206, 104, 107, 226, 26, 5, 52, 230, 45, 44, 140, 39, 252, 27, 172, 81, 214, 172, 146, 186, 215, 235, 55, 91, 101, 28, 81, 199, 241, 146, 154, 133, 201, 203, 36, 70, 106, 95, 213, 143, 136, 76, 64, 86, 0, 148, 219, 45, 149, 74, 6, 33, 231, 87, 108, 212, 195, 117, 43, 39, 54, 63, 76, 70, 92, 168, 149, 215, 157, 20, 60, 75, 31, 83, 16, 15, 85, 198, 145, 213, 223, 141, 236, 14, 139, 239, 245, 241, 95, 244, 126, 175, 136, 111, 12, 129, 16, 179, 42, 28, 107, 92, 167, 82, 207, 84, 23, 239, 121, 247, 102, 97, 244, 194, 247, 166, 100, 84, 119, 90, 234, 237]}\n"
     ]
    }
   ],
   "source": [
    "request_result = supernova_target.i3cTargetReadMemory(getId(), memory_address, data_length)"
   ]
  },
  {
   "cell_type": "code",
   "execution_count": 44,
   "metadata": {},
   "outputs": [
    {
     "name": "stdout",
     "output_type": "stream",
     "text": [
      "[129, 181, 184, 234, 152, 229, 95, 123, 172, 166, 19, 245, 176, 71, 252, 92, 225, 71, 42, 99, 255, 212, 72, 224, 10, 244, 152, 50, 79, 142, 162, 252, 15, 149, 79, 206, 12, 72, 18, 128, 204, 242, 192, 77, 10, 36, 184, 73, 31, 94, 114, 23, 200, 130, 17, 177, 163, 125, 35, 171, 115, 229, 14, 29, 195, 14, 209, 121, 88, 90, 52, 23, 153, 231, 55, 74, 146, 61, 106, 86, 140, 30, 141, 164, 71, 129, 32, 144, 198, 96, 39, 41, 197, 44, 156, 12, 8, 218, 120, 204, 121, 39, 206, 104, 107, 226, 26, 5, 52, 230, 45, 44, 140, 39, 252, 27, 172, 81, 214, 172, 146, 186, 215, 235, 55, 91, 101, 28, 81, 199, 241, 146, 154, 133, 201, 203, 36, 70, 106, 95, 213, 143, 136, 76, 64, 86, 0, 148, 219, 45, 149, 74, 6, 33, 231, 87, 108, 212, 195, 117, 43, 39, 54, 63, 76, 70, 92, 168, 149, 215, 157, 20, 60, 75, 31, 83, 16, 15, 85, 198, 145, 213, 223, 141, 236, 14, 139, 239, 245, 241, 95, 244, 126, 175, 136, 111, 12, 129, 16, 179, 42, 28, 107, 92, 167, 82, 207, 84, 23, 239, 121, 247, 102, 97, 244, 194, 247, 166, 100, 84, 119, 90, 234, 237]\n"
     ]
    }
   ],
   "source": [
    "data_read_by_host = shared_target_response[\"payload\"][:shared_target_response[\"payload_length\"]]\n",
    "print(data_read_by_host)"
   ]
  },
  {
   "cell_type": "markdown",
   "metadata": {},
   "source": [
    "3.9.3 If required, modify the MWL and MRL from the USB Host or from the I3C Controller (SETMRL, SETMWL CCCs). In this case we are setting them from the USB Host."
   ]
  },
  {
   "cell_type": "code",
   "execution_count": 45,
   "metadata": {},
   "outputs": [
    {
     "name": "stdout",
     "output_type": "stream",
     "text": [
      "BCR:  8\n",
      "DCR:  I3C_TARGET_MEMORY\n",
      ">> New message from Supernova I3C Target:\n",
      "{'id': 30, 'command': 'I3C TARGET SET PARAMETERS', 'result': 'SUCCESS'}\n"
     ]
    }
   ],
   "source": [
    "memory_layout = I3cTargetMemoryLayout_t.MEMORY_1_BYTE_X_1024_REGS\n",
    "\n",
    "pid = [0xF1, 0xF2, 0xF3, 0xF4, 0xF5, 0xF6]\n",
    "\n",
    "bcr = I3cBcrDeviceRoleBits_t.I3C_TARGET.value | \\\n",
    "      I3cBcrAdvancedCapabilitiesBit_t.NOT_SUPPORTED.value | \\\n",
    "      I3cBcrVirtualSupportBit_t.NOT_SUPPORTED.value | \\\n",
    "      I3cBcrOfflineCapBit_t.OFFLINE_UNCAPABLE.value | \\\n",
    "      I3cBcrIbiPayloadBit_t.IBI_WITHOUT_PAYLOAD.value | \\\n",
    "      I3cBcrIbiCapableBit_t.NOT_IBI_CAPABLE.value | \\\n",
    "      I3cBcrMaxDataSpeedLimitBit_t.NO_DATA_SPEED_LIMIT.value\n",
    "print(\"BCR: \", bcr)\n",
    "\n",
    "dcr = I3cTargetDcr_t.I3C_TARGET_MEMORY\n",
    "print(\"DCR: \", dcr.name)\n",
    "\n",
    "static_address = 0x21\n",
    "\n",
    "mwl = 1024\n",
    "mrl = 1024\n",
    "\n",
    "request_result = supernova_target.i3cTargetSetParameters(getId(), memory_layout, pid, bcr, dcr, static_address, mwl, mrl)"
   ]
  },
  {
   "cell_type": "markdown",
   "metadata": {},
   "source": [
    "##### 3.9.4 I3C Private Write with empty data\n",
    "\n",
    "Update the internal pointer to the internal register address provided in the method below."
   ]
  },
  {
   "cell_type": "code",
   "execution_count": 46,
   "metadata": {},
   "outputs": [
    {
     "name": "stdout",
     "output_type": "stream",
     "text": [
      ">> New message from Supernova I3C Target:\n",
      "{'id': 0, 'command': 'I3C TARGET BUS EVENT NOTIFICATION', 'result': 'SUCCESS', 'event': 'I3C_WRITE_TRANSFER_EVENT', 'target_address': 115, 'memory_address': 133, 'payload_length': 0, 'payload': []}\n",
      ">> New message from Supernova I3C Controller:\n",
      "{'id': 31, 'command': 'I3C CONTROLLER PRIVATE TRANSFER', 'result': 'SUCCESS', 'payload_length': 0}\n"
     ]
    }
   ],
   "source": [
    "mode = TransferMode.I3C_SDR\n",
    "register_address = [ (memory_address & 0x00FF), ((memory_address & 0xFF00) >> 8) ] # LSB first.\n",
    "data = []\n",
    "\n",
    "request_result = supernova_controller.i3cControllerWrite(getId(),dynamic_address,mode,register_address, data)"
   ]
  },
  {
   "cell_type": "markdown",
   "metadata": {},
   "source": [
    "##### 3.9.5 I3C Private Read with empty register address.\n",
    "\n",
    "The target will assume that the start of the new operation is the end of the previous one."
   ]
  },
  {
   "cell_type": "code",
   "execution_count": 47,
   "metadata": {},
   "outputs": [
    {
     "name": "stdout",
     "output_type": "stream",
     "text": [
      ">> New message from Supernova I3C Controller:\n",
      "{'id': 32, 'command': 'I3C CONTROLLER PRIVATE TRANSFER', 'result': 'SUCCESS', 'payload_length': 224, 'payload': [129, 181, 184, 234, 152, 229, 95, 123, 172, 166, 19, 245, 176, 71, 252, 92, 225, 71, 42, 99, 255, 212, 72, 224, 10, 244, 152, 50, 79, 142, 162, 252, 15, 149, 79, 206, 12, 72, 18, 128, 204, 242, 192, 77, 10, 36, 184, 73, 31, 94, 114, 23, 200, 130, 17, 177, 163, 125, 35, 171, 115, 229, 14, 29, 195, 14, 209, 121, 88, 90, 52, 23, 153, 231, 55, 74, 146, 61, 106, 86, 140, 30, 141, 164, 71, 129, 32, 144, 198, 96, 39, 41, 197, 44, 156, 12, 8, 218, 120, 204, 121, 39, 206, 104, 107, 226, 26, 5, 52, 230, 45, 44, 140, 39, 252, 27, 172, 81, 214, 172, 146, 186, 215, 235, 55, 91, 101, 28, 81, 199, 241, 146, 154, 133, 201, 203, 36, 70, 106, 95, 213, 143, 136, 76, 64, 86, 0, 148, 219, 45, 149, 74, 6, 33, 231, 87, 108, 212, 195, 117, 43, 39, 54, 63, 76, 70, 92, 168, 149, 215, 157, 20, 60, 75, 31, 83, 16, 15, 85, 198, 145, 213, 223, 141, 236, 14, 139, 239, 245, 241, 95, 244, 126, 175, 136, 111, 12, 129, 16, 179, 42, 28, 107, 92, 167, 82, 207, 84, 23, 239, 121, 247, 102, 97, 244, 194, 247, 166, 100, 84, 119, 90, 234, 237]}\n",
      ">> New message from Supernova I3C Target:\n",
      "{'id': 0, 'command': 'I3C TARGET BUS EVENT NOTIFICATION', 'result': 'I3C_TRANSFER_ABORTED_BY_CONTROLLER', 'event': 'I3C_READ_TRANSFER_EVENT', 'target_address': 115, 'memory_address': 133, 'payload_length': 224, 'payload': [129, 181, 184, 234, 152, 229, 95, 123, 172, 166, 19, 245, 176, 71, 252, 92, 225, 71, 42, 99, 255, 212, 72, 224, 10, 244, 152, 50, 79, 142, 162, 252, 15, 149, 79, 206, 12, 72, 18, 128, 204, 242, 192, 77, 10, 36, 184, 73, 31, 94, 114, 23, 200, 130, 17, 177, 163, 125, 35, 171, 115, 229, 14, 29, 195, 14, 209, 121, 88, 90, 52, 23, 153, 231, 55, 74, 146, 61, 106, 86, 140, 30, 141, 164, 71, 129, 32, 144, 198, 96, 39, 41, 197, 44, 156, 12, 8, 218, 120, 204, 121, 39, 206, 104, 107, 226, 26, 5, 52, 230, 45, 44, 140, 39, 252, 27, 172, 81, 214, 172, 146, 186, 215, 235, 55, 91, 101, 28, 81, 199, 241, 146, 154, 133, 201, 203, 36, 70, 106, 95, 213, 143, 136, 76, 64, 86, 0, 148, 219, 45, 149, 74, 6, 33, 231, 87, 108, 212, 195, 117, 43, 39, 54, 63, 76, 70, 92, 168, 149, 215, 157, 20, 60, 75, 31, 83, 16, 15, 85, 198, 145, 213, 223, 141, 236, 14, 139, 239, 245, 241, 95, 244, 126, 175, 136, 111, 12, 129, 16, 179, 42, 28, 107, 92, 167, 82, 207, 84, 23, 239, 121, 247, 102, 97, 244, 194, 247, 166, 100, 84, 119, 90, 234, 237]}\n"
     ]
    }
   ],
   "source": [
    "request_result = supernova_controller.i3cControllerRead(getId(), dynamic_address, mode, [], data_length)"
   ]
  },
  {
   "cell_type": "markdown",
   "metadata": {},
   "source": [
    "3.9.6 Check if the data read by the I3C Controller is equal to the data written and read by the USB Host."
   ]
  },
  {
   "cell_type": "code",
   "execution_count": 48,
   "metadata": {},
   "outputs": [
    {
     "name": "stdout",
     "output_type": "stream",
     "text": [
      "Data successfully written by the USB Host and read by the I3C Controller!\n"
     ]
    }
   ],
   "source": [
    "data_read_by_controller = shared_controller_response[\"payload\"]\n",
    "\n",
    "if data_read_by_host == data_to_write and  data_read_by_controller == data_to_write:\n",
    "    print(\"Data successfully written by the USB Host and read by the I3C Controller!\")"
   ]
  },
  {
   "cell_type": "markdown",
   "metadata": {},
   "source": [
    "##### 3.9.2 I3C Private Read"
   ]
  },
  {
   "cell_type": "code",
   "execution_count": 49,
   "metadata": {},
   "outputs": [
    {
     "name": "stdout",
     "output_type": "stream",
     "text": [
      "Register address: [133, 0]\n",
      "Read length: 224\n",
      "\n",
      "The result of the I3C TARGET BUS EVENT NOTIFICATION will be I3C TRANSFER ABORTED BY CONTROLLER\n",
      "\n",
      ">> New message from Supernova I3C Controller:\n",
      "{'id': 33, 'command': 'I3C CONTROLLER PRIVATE TRANSFER', 'result': 'I3C_NACK_ADDRESS', 'payload_length': 0, 'payload': []}\n",
      ">> New message from Supernova I3C Target:\n",
      "{'id': 0, 'command': 'I3C TARGET BUS EVENT NOTIFICATION', 'result': 'TX_FIFO_EMPTY', 'event': 'I3C_READ_TRANSFER_EVENT', 'target_address': 115, 'memory_address': 133, 'payload_length': 0, 'payload': []}\n"
     ]
    }
   ],
   "source": [
    "mode = TransferMode.I3C_SDR\n",
    "register_address = [ (memory_address & 0x00FF), ((memory_address & 0xFF00) >> 8) ] # LSB first.\n",
    "\n",
    "if available_space >= data_length:\n",
    "    length = data_length\n",
    "else:\n",
    "    length = available_space\n",
    "\n",
    "print(f\"Register address: {register_address}\")\n",
    "print(f\"Read length: {length}\\r\\n\")\n",
    "\n",
    "if data_length >= mrl:\n",
    "    print(\"The result of the I3C TARGET BUS EVENT NOTIFICATION will be I3C TRANSFER MRL REACHED\\r\\n\")\n",
    "else:\n",
    "    print(\"The result of the I3C TARGET BUS EVENT NOTIFICATION will be I3C TRANSFER ABORTED BY CONTROLLER\\r\\n\")\n",
    "\n",
    "request_result = supernova_controller.i3cControllerRead(getId(), dynamic_address, mode, register_address, length)"
   ]
  },
  {
   "cell_type": "markdown",
   "metadata": {},
   "source": [
    "##### 3.9.5 I3C Private Write with data"
   ]
  },
  {
   "cell_type": "code",
   "execution_count": 50,
   "metadata": {},
   "outputs": [
    {
     "name": "stdout",
     "output_type": "stream",
     "text": [
      ">> New message from Supernova I3C Target:\n",
      "{'id': 34, 'command': 'I3C CONTROLLER PRIVATE TRANSFER', 'result': 'BUS_TIMEOUT', 'payload_length': 0}\n"
     ]
    }
   ],
   "source": [
    "register_address = [0x00, 0x00]\n",
    "data_to_write = [i for i in range(12)]\n",
    "\n",
    "request_result = supernova_target.i3cControllerWrite(getId(),dynamic_address, TransferMode.I3C_SDR, register_address, data_to_write)"
   ]
  },
  {
   "cell_type": "code",
   "execution_count": 51,
   "metadata": {},
   "outputs": [
    {
     "name": "stdout",
     "output_type": "stream",
     "text": [
      "Random memory address: 872\n",
      "Available space: 152\n",
      "Create list of random numbers of length 836.\n",
      "Supernovas' response:\n",
      "\n",
      ">> New message from Supernova I3C Target:\n",
      "{'id': 35, 'command': 'I3C CONTROLLER PRIVATE TRANSFER', 'result': 'I3C_NACK_ADDRESS', 'payload_length': 0}\n"
     ]
    }
   ],
   "source": [
    "memory_address = random.randint(0,1023)\n",
    "available_space = 1024 - memory_address\n",
    "\n",
    "data_length = random.randint(1,1024)\n",
    "data_to_write = random.choices(range(0,256), k=data_length)\n",
    "\n",
    "print(f\"Random memory address: {memory_address}\")\n",
    "print(f\"Available space: {available_space}\")\n",
    "print(f\"Create list of random numbers of length {data_length}.\")\n",
    "\n",
    "if available_space >= data_length and data_length < mwl:\n",
    "    print(\"The result of the I3C TARGET BUS EVENT NOTIFICATION will be: SUCCESS\\r\\n\")\n",
    "elif data_length >= mwl:\n",
    "    print(\"The result will be: I3C TRANSFER MWL REACHED\\r\\n\")\n",
    "\n",
    "print(\"Supernovas' response:\\r\\n\")\n",
    "\n",
    "register_address = [ ((memory_address & 0xFF00) >> 8), (memory_address & 0x00FF) ]\n",
    "\n",
    "request_result = supernova_target.i3cControllerWrite(getId(),dynamic_address, TransferMode.I3C_SDR, register_address, data_to_write)"
   ]
  }
 ],
 "metadata": {
  "kernelspec": {
   "display_name": "Python 3",
   "language": "python",
   "name": "python3"
  },
  "language_info": {
   "codemirror_mode": {
    "name": "ipython",
    "version": 3
   },
   "file_extension": ".py",
   "mimetype": "text/x-python",
   "name": "python",
   "nbconvert_exporter": "python",
   "pygments_lexer": "ipython3",
   "version": "3.11.9"
  },
  "orig_nbformat": 4
 },
 "nbformat": 4,
 "nbformat_minor": 2
}
