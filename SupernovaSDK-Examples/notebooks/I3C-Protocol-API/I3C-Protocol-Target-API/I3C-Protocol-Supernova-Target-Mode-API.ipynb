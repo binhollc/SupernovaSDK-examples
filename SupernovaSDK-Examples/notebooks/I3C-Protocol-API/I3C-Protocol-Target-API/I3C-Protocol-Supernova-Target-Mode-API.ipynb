{
 "cells": [
  {
   "cell_type": "markdown",
   "metadata": {},
   "source": [
    "## *To perform the Test:*\n",
    "\n",
    "**Connection Setup:**\n",
    "   - Connect two Supernovas between them via their HV bus and each one to the computer via the USB port. One will act as an I3C controller and the other one as an I3C target.\n",
    "\n",
    "   The target Supernova acts as a 2 bytes-addressable and non-linear memory of 1024 bytes. The memory can be accessed via USB when the user requests an i3cTargetWriteMemory or i3cTargetReadMemory directly to the target. Or it can be accessed through the I3C bus when the user requests an I3C write, I3C read or I3C write-read to the controller targeting the target.\n",
    "\n",
    "**Expected Messages and Notifications:**\n",
    "   - For each command directly sent to the controller, the notebook should show a the response returned by it.\n",
    "   - For each command directly sent to the target, the notebook should show a the response returned by it.\n",
    "   - For each request of an I3C write / read / write-read sent (via USB) to the controller but targeting the Supernova target, the notebook should show the response from the controller and a notification from the target\n",
    "   \n",
    "**Testing Process:**\n",
    "   - Run each cell in order.\n",
    "   - Look for immediate feedback:\n",
    "     - The response or the notification and response for each command directed to a Supernova.\n"
   ]
  },
  {
   "cell_type": "markdown",
   "metadata": {},
   "source": [
    "### 1. Startup"
   ]
  },
  {
   "cell_type": "markdown",
   "metadata": {},
   "source": [
    "#### 1.1 Import the python package"
   ]
  },
  {
   "cell_type": "code",
   "execution_count": 1,
   "metadata": {},
   "outputs": [],
   "source": [
    "from BinhoSupernova import getConnectedSupernovaDevicesList\n",
    "from BinhoSupernova.Supernova import Supernova\n",
    "from BinhoSupernova.commands.definitions import *\n",
    "import threading\n",
    "\n",
    "print_lock = threading.Lock()"
   ]
  },
  {
   "cell_type": "markdown",
   "metadata": {},
   "source": [
    "#### 1.2 List all the Supernova devices connected to the PC host\n",
    "\n",
    "The ``BinhoSupernova.getConnectedSupernovaDevicesList()`` gets a list of the Supernova devices plugged into the host PC machine.\n",
    "\n",
    "Two different Supernovas with different serial numbers and paths must appear in the response."
   ]
  },
  {
   "cell_type": "code",
   "execution_count": 2,
   "metadata": {},
   "outputs": [
    {
     "data": {
      "text/plain": [
       "[{'path': '\\\\\\\\?\\\\HID#VID_1FC9&PID_82FC#6&2fcfc8d8&0&0000#{4d1e55b2-f16f-11cf-88cb-001111000030}',\n",
       "  'vendor_id': '0x1fc9',\n",
       "  'product_id': '0x82fc',\n",
       "  'serial_number': 'D77B1F7C300FAC5184484347207B87D',\n",
       "  'release_number': 256,\n",
       "  'manufacturer_string': 'Binho LLC',\n",
       "  'product_string': 'Binho Supernova',\n",
       "  'usage_page': 65280,\n",
       "  'usage': 1,\n",
       "  'interface_number': -1},\n",
       " {'path': '\\\\\\\\?\\\\HID#VID_1FC9&PID_82FC#7&f321146&0&0000#{4d1e55b2-f16f-11cf-88cb-001111000030}',\n",
       "  'vendor_id': '0x1fc9',\n",
       "  'product_id': '0x82fc',\n",
       "  'serial_number': '59314AC593A1C05C8163B6759994476',\n",
       "  'release_number': 256,\n",
       "  'manufacturer_string': 'Binho LLC',\n",
       "  'product_string': 'Binho Supernova',\n",
       "  'usage_page': 65280,\n",
       "  'usage': 1,\n",
       "  'interface_number': -1}]"
      ]
     },
     "execution_count": 2,
     "metadata": {},
     "output_type": "execute_result"
    }
   ],
   "source": [
    "getConnectedSupernovaDevicesList()"
   ]
  },
  {
   "cell_type": "markdown",
   "metadata": {},
   "source": [
    "#### 1.3 Define a function to generate transaction IDs\n",
    "\n",
    "All the request messages sent to the Supernova from the USB Host application must include the transaction or request ID. The ID is a 2-byte integer with an allowed range of ``[0, 65535]``.\n",
    "\n",
    "In this example, a dummy function called ``getId()`` is defined to increment a transaction counter used as the ID."
   ]
  },
  {
   "cell_type": "code",
   "execution_count": 3,
   "metadata": {},
   "outputs": [],
   "source": [
    "# Auxiliar code to generate IDs\n",
    "\n",
    "counter_id = 0\n",
    "\n",
    "def getId():\n",
    "    global counter_id\n",
    "    counter_id = counter_id + 1\n",
    "    return counter_id"
   ]
  },
  {
   "cell_type": "markdown",
   "metadata": {},
   "source": [
    "#### 1.4 Define and register callbacks to handle responses and notifications from the two Supernovas (the one acting as an I3C target and the one acting as an I3C controller)\n",
    "\n",
    "To handle responses and notifications from Supernova, a callback function must be defined and registered. This function will be invoked every time the Supernova sends a response to a request, an asynchronous notification, or a message from the system.\n",
    "\n",
    "The callback function's signature is as follows: \n",
    "\n",
    "``def callback_function_name(supernova_message: dict, system_message: dict) -> None:``\n",
    "\n",
    "Once the callback function is defined, it should be registered using the ``Supernova.onEvent(callback_function)`` method."
   ]
  },
  {
   "cell_type": "code",
   "execution_count": 4,
   "metadata": {},
   "outputs": [],
   "source": [
    "import json\n",
    "\n",
    "# Define callback function\n",
    "def controller_callback_function(supernova_message: dict, system_message: dict) -> None:\n",
    "\n",
    "    with print_lock:\n",
    "    \n",
    "        if supernova_message != None:\n",
    "\n",
    "                # Print a header\n",
    "                print(\">> New message from controller SUPERNOVA:\")\n",
    "\n",
    "                # If the command is GET TARGET DEVICE TABLE, convert to json.\n",
    "                if supernova_message[\"name\"] == \"I3C GET TARGET DEVICE TABLE\" or supernova_message[\"name\"] == \"I3C TRANSFER\":\n",
    "                    responseJson = json.dumps(supernova_message, indent=4)\n",
    "                    print(responseJson)\n",
    "\n",
    "                else:\n",
    "                    print(supernova_message)\n",
    "        \n",
    "        if system_message != None:\n",
    "\n",
    "            # Print a header\n",
    "            print(\">> New message from the SYSTEM:\")\n",
    "\n",
    "            print(system_message)"
   ]
  },
  {
   "cell_type": "code",
   "execution_count": 5,
   "metadata": {},
   "outputs": [],
   "source": [
    "# Define callback function\n",
    "def target_callback_function(supernova_message: dict, system_message: dict) -> None:\n",
    "\n",
    "    with print_lock:\n",
    "\n",
    "        if supernova_message != None:\n",
    "\n",
    "                # Print a header\n",
    "                print(\">> New message from target SUPERNOVA:\")\n",
    "\n",
    "                print(supernova_message)\n",
    "        \n",
    "        if system_message != None:\n",
    "\n",
    "            # Print a header\n",
    "            print(\">> New message from the SYSTEM:\")\n",
    "\n",
    "            print(system_message)"
   ]
  },
  {
   "cell_type": "markdown",
   "metadata": {},
   "source": [
    "### 2. Configure the Supernova that will act as an I3C target"
   ]
  },
  {
   "cell_type": "markdown",
   "metadata": {},
   "source": [
    "#### 2.1 Create an instance of the Supernova class\n",
    "\n",
    "To utilize a Supernova USB host adapter device, we need to create an instance of the Supernova class."
   ]
  },
  {
   "cell_type": "code",
   "execution_count": 7,
   "metadata": {},
   "outputs": [],
   "source": [
    "supernovaTarget = Supernova()"
   ]
  },
  {
   "cell_type": "markdown",
   "metadata": {},
   "source": [
    "#### 2.2 Open connection to the Supernova that acts as a target using the path of one of the devices retrieved by getConnectedSupernovaDevicesList() \n",
    "\n",
    "The public method ``Supernova.open()`` establishes the connection with a Supernova device. Below is the complete signature:\n",
    "\n",
    "```python\n",
    "open(vid, pid, serial, path)\n",
    "```\n",
    "\n",
    "- ``vid: int``: The Supernova USB VID, which is set by default.\n",
    "- ``pid: int``: The Supernova USB PID, which is set by default.\n",
    "- ``serial: str``: The Supernova serial number.\n",
    "- ``path: str``: The OS HID path assigned to the device. This can be obtained using the ``BinhoSupernova.getConnectedSupernovaDevicesList()`` method. The ``path`` parameter is currently the only way to uniquely identify each Supernova device. Therefore, it is recommended to use the ``path`` parameter, especially when opening connections with more than one Supernova device simultaneously."
   ]
  },
  {
   "cell_type": "code",
   "execution_count": 8,
   "metadata": {},
   "outputs": [
    {
     "data": {
      "text/plain": [
       "{'module': 0,\n",
       " 'opcode': 0,\n",
       " 'message': 'Connection with Supernova device opened successfully.'}"
      ]
     },
     "execution_count": 8,
     "metadata": {},
     "output_type": "execute_result"
    }
   ],
   "source": [
    "supernovaTarget.open(path ='\\\\\\\\?\\\\HID#VID_1FC9&PID_82FC#6&2fcfc8d8&0&0000#{4d1e55b2-f16f-11cf-88cb-001111000030}')"
   ]
  },
  {
   "cell_type": "markdown",
   "metadata": {},
   "source": [
    "#### 2.3 Register the callback to the I3C target"
   ]
  },
  {
   "cell_type": "code",
   "execution_count": 9,
   "metadata": {},
   "outputs": [
    {
     "data": {
      "text/plain": [
       "{'module': 0,\n",
       " 'opcode': 0,\n",
       " 'message': 'On event callback function registered successfully.'}"
      ]
     },
     "execution_count": 9,
     "metadata": {},
     "output_type": "execute_result"
    }
   ],
   "source": [
    "supernovaTarget.onEvent(target_callback_function)"
   ]
  },
  {
   "cell_type": "markdown",
   "metadata": {},
   "source": [
    "#### 2.4 Initialize the Supernova I3C peripheral as a target memory with a register size of 1 byte"
   ]
  },
  {
   "cell_type": "code",
   "execution_count": 10,
   "metadata": {},
   "outputs": [
    {
     "name": "stdout",
     "output_type": "stream",
     "text": [
      ">> New message from target SUPERNOVA:\n",
      "{'id': 1, 'command': 16, 'name': 'I3C TARGET INIT', 'result': 'I3C_TARGET_INIT_SUCCESS'}\n"
     ]
    }
   ],
   "source": [
    "SECONDS_TO_WAIT_FOR_IBI = 0x69\n",
    "MAX_READ_LENGTH = 0x100\n",
    "MAX_WRITE_LENGTH = 0x100\n",
    "\n",
    "features =  DdrOk.ALLOWED_DDR.value |   \\\n",
    "            IgnoreTE0TE1Errors.IGNORE_ERRORS.value |   \\\n",
    "            MatchStartStop.NOT_MATCH.value |   \\\n",
    "            AlwaysNack.NOT_ALWAYS_NACK.value \n",
    "\n",
    "request_result = supernovaTarget.i3cTargetInit(getId(), I3cTargetMemoryLayout_t.MEM_1_BYTE, SECONDS_TO_WAIT_FOR_IBI, MAX_READ_LENGTH, MAX_WRITE_LENGTH, features)"
   ]
  },
  {
   "cell_type": "markdown",
   "metadata": {},
   "source": [
    "#### 2.5 Set the target Supernova PID"
   ]
  },
  {
   "cell_type": "code",
   "execution_count": 11,
   "metadata": {},
   "outputs": [
    {
     "name": "stdout",
     "output_type": "stream",
     "text": [
      ">> New message from target SUPERNOVA:\n",
      "{'id': 2, 'command': 21, 'name': 'I3C TARGET SET PID', 'result': 'I3C_TARGET_SET_PID_SUCCESS'}\n"
     ]
    }
   ],
   "source": [
    "PID = [0x02, 0x03, 0x04, 0x05, 0x06, 0x07]\n",
    "\n",
    "request_result = supernovaTarget.i3cTargetSetPid(getId(), PID)"
   ]
  },
  {
   "cell_type": "markdown",
   "metadata": {},
   "source": [
    "#### 2.6 Set the target Supernova BCR"
   ]
  },
  {
   "cell_type": "code",
   "execution_count": 12,
   "metadata": {},
   "outputs": [
    {
     "name": "stdout",
     "output_type": "stream",
     "text": [
      ">> New message from target SUPERNOVA:\n",
      "{'id': 3, 'command': 22, 'name': 'I3C TARGET SET BCR', 'usb_result': 'CMD_SUCCESSFUL', 'manager_result': 'I3C_TARGET_MGR_NO_ERROR', 'driver_result': 'I3C_TARGET_DRIVER_NO_ERROR'}\n"
     ]
    }
   ],
   "source": [
    "request_result = supernovaTarget.i3cTargetSetBcr(getId(), I3cTargetMaxDataSpeedLimit_t.MAX_DATA_SPEED_LIMIT, I3cTargetIbiCapable_t.NOT_IBI_CAPABLE, I3cTargetIbiPayload_t.IBI_WITH_PAYLOAD, I3cTargetOfflineCap_t.OFFLINE_CAPABLE, I3cTargetVirtSupport_t.VIRTUAL_TARGET_SUPPORT, I3cTargetDeviceRole_t.I3C_TARGET)"
   ]
  },
  {
   "cell_type": "markdown",
   "metadata": {},
   "source": [
    "#### 2.7 Set the target Supernova DCR"
   ]
  },
  {
   "cell_type": "code",
   "execution_count": 13,
   "metadata": {},
   "outputs": [
    {
     "name": "stdout",
     "output_type": "stream",
     "text": [
      ">> New message from target SUPERNOVA:\n",
      "{'id': 4, 'command': 23, 'name': 'I3C TARGET SET DCR', 'usb_result': 'CMD_SUCCESSFUL', 'manager_result': 'I3C_TARGET_MGR_NO_ERROR', 'driver_result': 'I3C_TARGET_DRIVER_NO_ERROR'}\n"
     ]
    }
   ],
   "source": [
    "request_result = supernovaTarget.i3cTargetSetDcr(getId(), I3cTargetDcr_t.I3C_TARGET_MEMORY)"
   ]
  },
  {
   "cell_type": "markdown",
   "metadata": {},
   "source": [
    "#### 2.8 Set the target Supernova Static Address"
   ]
  },
  {
   "cell_type": "code",
   "execution_count": 14,
   "metadata": {},
   "outputs": [
    {
     "name": "stdout",
     "output_type": "stream",
     "text": [
      ">> New message from target SUPERNOVA:\n",
      "{'id': 5, 'command': 24, 'name': 'I3C TARGET SET STATIC ADDRESS', 'usb_result': 'CMD_SUCCESSFUL', 'manager_result': 'I3C_TARGET_MGR_NO_ERROR', 'driver_result': 'I3C_TARGET_DRIVER_NO_ERROR'}\n"
     ]
    }
   ],
   "source": [
    "request_result = supernovaTarget.i3cTargetSetStaticAddr(getId(), 0x73)"
   ]
  },
  {
   "cell_type": "markdown",
   "metadata": {},
   "source": [
    "### 3. Configure the Supernova that will act as an I3C controller"
   ]
  },
  {
   "cell_type": "markdown",
   "metadata": {},
   "source": [
    "#### 3.1 Create an instance of the Supernova class\n",
    "\n",
    "To utilize a Supernova USB host adapter device, we need to create an instance of the Supernova class."
   ]
  },
  {
   "cell_type": "code",
   "execution_count": 15,
   "metadata": {},
   "outputs": [],
   "source": [
    "supernovaController = Supernova()"
   ]
  },
  {
   "cell_type": "markdown",
   "metadata": {},
   "source": [
    "#### 3.2 Open connection to the Supernova that acts as a controller using the path of one of the devices retrieved by getConnectedSupernovaDevicesList() \n",
    "\n",
    "The public method ``Supernova.open()`` establishes the connection with a Supernova device. Below is the complete signature:\n",
    "\n",
    "```python\n",
    "open(vid, pid, serial, path)\n",
    "```\n",
    "\n",
    "- ``vid: int``: The Supernova USB VID, which is set by default.\n",
    "- ``pid: int``: The Supernova USB PID, which is set by default.\n",
    "- ``serial: str``: The Supernova serial number.\n",
    "- ``path: str``: The OS HID path assigned to the device. This can be obtained using the ``BinhoSupernova.getConnectedSupernovaDevicesList()`` method. The ``path`` parameter is currently the only way to uniquely identify each Supernova device. Therefore, it is recommended to use the ``path`` parameter, especially when opening connections with more than one Supernova device simultaneously."
   ]
  },
  {
   "cell_type": "code",
   "execution_count": 16,
   "metadata": {},
   "outputs": [
    {
     "data": {
      "text/plain": [
       "{'module': 0,\n",
       " 'opcode': 0,\n",
       " 'message': 'Connection with Supernova device opened successfully.'}"
      ]
     },
     "execution_count": 16,
     "metadata": {},
     "output_type": "execute_result"
    }
   ],
   "source": [
    "supernovaController.open(path ='\\\\\\\\?\\\\HID#VID_1FC9&PID_82FC#7&f321146&0&0000#{4d1e55b2-f16f-11cf-88cb-001111000030}')"
   ]
  },
  {
   "cell_type": "markdown",
   "metadata": {},
   "source": [
    "#### 3.3 Register the callback to the I3C controller"
   ]
  },
  {
   "cell_type": "code",
   "execution_count": 17,
   "metadata": {},
   "outputs": [
    {
     "data": {
      "text/plain": [
       "{'module': 0,\n",
       " 'opcode': 0,\n",
       " 'message': 'On event callback function registered successfully.'}"
      ]
     },
     "execution_count": 17,
     "metadata": {},
     "output_type": "execute_result"
    }
   ],
   "source": [
    "supernovaController.onEvent(controller_callback_function)"
   ]
  },
  {
   "cell_type": "markdown",
   "metadata": {},
   "source": [
    "#### 3.4 Initialize the Supernova I3C peripheral as controller"
   ]
  },
  {
   "cell_type": "code",
   "execution_count": 18,
   "metadata": {},
   "outputs": [
    {
     "name": "stdout",
     "output_type": "stream",
     "text": [
      ">> New message from controller SUPERNOVA:\n",
      "{'id': 6, 'command': 1, 'name': 'I3C CONTROLLER INIT', 'result': 'I3C_CONTROLLER_INIT_SUCCESS'}\n"
     ]
    }
   ],
   "source": [
    "request_result = supernovaController.i3cControllerInit(getId())"
   ]
  },
  {
   "cell_type": "markdown",
   "metadata": {},
   "source": [
    "#### 3.5 I3C bus voltage\n",
    "\n",
    "By default, both Supernvas work at 1.62V. If it is neccessary to change the bus voltage, the voltage must be set in both devices. Currently we are adding the feature in the firmware so that the Supernova as an I3C Target will be able to set the voltage automatically base on the voltage applied in the VTARG pin."
   ]
  },
  {
   "cell_type": "code",
   "execution_count": null,
   "metadata": {},
   "outputs": [],
   "source": [
    "#Uncomment lines below if it is required to change the I3C bus voltage.\n",
    "\n",
    "#supernovaController.setI3cBusVoltage(getId(), 3300)\n",
    "#supernovaTarget.setI3cBusVoltage(getId(), 3300)"
   ]
  },
  {
   "cell_type": "markdown",
   "metadata": {},
   "source": [
    "#### 3.6 I3C bus initialization"
   ]
  },
  {
   "cell_type": "code",
   "execution_count": 19,
   "metadata": {},
   "outputs": [
    {
     "name": "stdout",
     "output_type": "stream",
     "text": [
      ">> New message from controller SUPERNOVA:\n",
      "{\n",
      "    \"id\": 7,\n",
      "    \"command\": 11,\n",
      "    \"name\": \"I3C TRANSFER\",\n",
      "    \"header\": {\n",
      "        \"tag\": \"RESPONSE_TO_REGULAR_REQUEST\",\n",
      "        \"result\": \"I3C_TRANSFER_SUCCESS\",\n",
      "        \"hasData\": true\n",
      "    },\n",
      "    \"descriptor\": {\n",
      "        \"dataLength\": 1,\n",
      "        \"errors\": [\n",
      "            \"NO_TRANSFER_ERROR\"\n",
      "        ]\n",
      "    },\n",
      "    \"data\": [\n",
      "        0\n",
      "    ]\n",
      "}\n"
     ]
    }
   ],
   "source": [
    "PUSH_PULL_RATE  = I3cPushPullTransferRate.PUSH_PULL_5_MHZ\n",
    "OPEN_DRAIN_RATE = I3cOpenDrainTransferRate.OPEN_DRAIN_1_25_MHZ\n",
    "\n",
    "request_result = supernovaController.i3cRSTDAA(getId(), PUSH_PULL_RATE, OPEN_DRAIN_RATE)"
   ]
  },
  {
   "cell_type": "code",
   "execution_count": 20,
   "metadata": {},
   "outputs": [
    {
     "name": "stdout",
     "output_type": "stream",
     "text": [
      ">> New message from target SUPERNOVA:\n",
      "{'id': 0, 'command': 20, 'name': 'I3C TARGET NOTIFICATION', 'notification_type': 'I3C_CCC', 'target_address': 0, 'usb_result': 'CMD_SUCCESSFUL', 'manager_result': 'I3C_TARGET_TRANSFER_SUCCESS', 'driver_result': ['NO_ERROR']}\n",
      ">> New message from controller SUPERNOVA:\n",
      "{\n",
      "    \"id\": 8,\n",
      "    \"command\": 11,\n",
      "    \"name\": \"I3C TRANSFER\",\n",
      "    \"header\": {\n",
      "        \"tag\": \"RESPONSE_TO_REGULAR_REQUEST\",\n",
      "        \"result\": \"I3C_TRANSFER_SUCCESS\",\n",
      "        \"hasData\": true\n",
      "    },\n",
      "    \"descriptor\": {\n",
      "        \"dataLength\": 1,\n",
      "        \"errors\": [\n",
      "            \"NO_TRANSFER_ERROR\"\n",
      "        ]\n",
      "    },\n",
      "    \"data\": [\n",
      "        0\n",
      "    ]\n",
      "}\n",
      ">> New message from target SUPERNOVA:\n",
      "{'id': 0, 'command': 20, 'name': 'I3C TARGET NOTIFICATION', 'notification_type': 'I3C_CCC', 'target_address': 0, 'usb_result': 'CMD_SUCCESSFUL', 'manager_result': 'I3C_TARGET_TRANSFER_SUCCESS', 'driver_result': ['NO_ERROR']}\n",
      ">> New message from target SUPERNOVA:\n",
      "{'id': 0, 'command': 20, 'name': 'I3C TARGET NOTIFICATION', 'notification_type': 'I3C_TARGET_ADDR_CHANGED', 'new_address': 8, 'usb_result': 'CMD_SUCCESSFUL', 'manager_result': 'I3C_TARGET_TRANSFER_SUCCESS', 'driver_result': ['NO_ERROR']}\n"
     ]
    }
   ],
   "source": [
    "PUSH_PULL_RATE  = I3cPushPullTransferRate.PUSH_PULL_5_MHZ\n",
    "OPEN_DRAIN_RATE = I3cOpenDrainTransferRate.OPEN_DRAIN_1_25_MHZ\n",
    "\n",
    "request_result = supernovaController.i3cSETDASA(getId(), 0x73, 0x08, PUSH_PULL_RATE, OPEN_DRAIN_RATE)"
   ]
  },
  {
   "cell_type": "code",
   "execution_count": 21,
   "metadata": {},
   "outputs": [
    {
     "name": "stdout",
     "output_type": "stream",
     "text": [
      ">> New message from controller SUPERNOVA:\n",
      "{\n",
      "    \"id\": 9,\n",
      "    \"command\": 3,\n",
      "    \"name\": \"I3C GET TARGET DEVICE TABLE\",\n",
      "    \"numberOfTargets\": 0,\n",
      "    \"table\": []\n",
      "}\n"
     ]
    }
   ],
   "source": [
    "request_result = supernovaController.i3cGetTargetDeviceTable(getId())"
   ]
  },
  {
   "cell_type": "markdown",
   "metadata": {},
   "source": [
    "#### 3.7 I3C CCCs"
   ]
  },
  {
   "cell_type": "markdown",
   "metadata": {},
   "source": [
    "##### 3.7.1 GETPID"
   ]
  },
  {
   "cell_type": "code",
   "execution_count": 22,
   "metadata": {},
   "outputs": [
    {
     "name": "stdout",
     "output_type": "stream",
     "text": [
      ">> New message from controller SUPERNOVA:\n",
      "{\n",
      "    \"id\": 10,\n",
      "    \"command\": 11,\n",
      "    \"name\": \"I3C TRANSFER\",\n",
      "    \"header\": {\n",
      "        \"tag\": \"RESPONSE_TO_REGULAR_REQUEST\",\n",
      "        \"result\": \"I3C_TRANSFER_SUCCESS\",\n",
      "        \"hasData\": true\n",
      "    },\n",
      "    \"descriptor\": {\n",
      "        \"dataLength\": 6,\n",
      "        \"errors\": [\n",
      "            \"NO_TRANSFER_ERROR\"\n",
      "        ]\n",
      "    },\n",
      "    \"pid\": [\n",
      "        \"0x07\",\n",
      "        \"0x06\",\n",
      "        \"0x05\",\n",
      "        \"0x04\",\n",
      "        \"0x03\",\n",
      "        \"0x02\"\n",
      "    ]\n",
      "}\n",
      ">> New message from target SUPERNOVA:\n",
      "{'id': 0, 'command': 20, 'name': 'I3C TARGET NOTIFICATION', 'notification_type': 'I3C_CCC', 'target_address': 8, 'usb_result': 'CMD_SUCCESSFUL', 'manager_result': 'I3C_TARGET_TRANSFER_SUCCESS', 'driver_result': ['NO_ERROR']}\n"
     ]
    }
   ],
   "source": [
    "TARGET_ADDRESS  = 0x08\n",
    "PUSH_PULL_RATE  = I3cPushPullTransferRate.PUSH_PULL_5_MHZ\n",
    "OPEN_DRAIN_RATE = I3cOpenDrainTransferRate.OPEN_DRAIN_1_25_MHZ\n",
    "\n",
    "request_result = supernovaController.i3cGETPID(getId(), TARGET_ADDRESS, PUSH_PULL_RATE, OPEN_DRAIN_RATE)"
   ]
  },
  {
   "cell_type": "markdown",
   "metadata": {},
   "source": [
    "##### 3.7.2 GETBCR"
   ]
  },
  {
   "cell_type": "code",
   "execution_count": 23,
   "metadata": {},
   "outputs": [
    {
     "name": "stdout",
     "output_type": "stream",
     "text": [
      ">> New message from target SUPERNOVA:\n",
      "{'id': 0, 'command': 20, 'name': 'I3C TARGET NOTIFICATION', 'notification_type': 'I3C_CCC', 'target_address': 8, 'usb_result': 'CMD_SUCCESSFUL', 'manager_result': 'I3C_TARGET_TRANSFER_SUCCESS', 'driver_result': ['NO_ERROR']}\n",
      ">> New message from controller SUPERNOVA:\n",
      "{\n",
      "    \"id\": 11,\n",
      "    \"command\": 11,\n",
      "    \"name\": \"I3C TRANSFER\",\n",
      "    \"header\": {\n",
      "        \"tag\": \"RESPONSE_TO_REGULAR_REQUEST\",\n",
      "        \"result\": \"I3C_TRANSFER_SUCCESS\",\n",
      "        \"hasData\": true\n",
      "    },\n",
      "    \"descriptor\": {\n",
      "        \"dataLength\": 1,\n",
      "        \"errors\": [\n",
      "            \"NO_TRANSFER_ERROR\"\n",
      "        ]\n",
      "    },\n",
      "    \"bcr\": {\n",
      "        \"value\": [\n",
      "            \"0b00111101\",\n",
      "            61,\n",
      "            \"0x3d\"\n",
      "        ],\n",
      "        \"description\": {\n",
      "            \"deviceRole\": \"I3C Target.\",\n",
      "            \"advancedCapabilities\": \"Supports optional advanced capabilities. Use GETCAPS CCC to deremine which ones.\",\n",
      "            \"virtualTargetSupport\": \"Is a Virtual Target, or exposes other downstream Device(s).\",\n",
      "            \"offlineCapable\": \"Device will not always respond to I3C Bus commands.\",\n",
      "            \"ibiPayload\": \"One data byte (MDB) shall follow the accepted IBI, and additional data bytes may follow.\",\n",
      "            \"ibiRequestCapable\": \"Not capable.\",\n",
      "            \"maxDataSpeedLimitation\": \"Limitation. Controller shall use the GETMXDS CCC to interrogate the Target for specific limitation.\"\n",
      "        }\n",
      "    }\n",
      "}\n"
     ]
    }
   ],
   "source": [
    "TARGET_ADDRESS  = 0x08\n",
    "PUSH_PULL_RATE  = I3cPushPullTransferRate.PUSH_PULL_5_MHZ\n",
    "OPEN_DRAIN_RATE = I3cOpenDrainTransferRate.OPEN_DRAIN_1_25_MHZ\n",
    "    \n",
    "request_result = supernovaController.i3cGETBCR(getId(), TARGET_ADDRESS, PUSH_PULL_RATE, OPEN_DRAIN_RATE)"
   ]
  },
  {
   "cell_type": "markdown",
   "metadata": {},
   "source": [
    "##### 3.7.3 GETDCR"
   ]
  },
  {
   "cell_type": "code",
   "execution_count": 24,
   "metadata": {},
   "outputs": [
    {
     "name": "stdout",
     "output_type": "stream",
     "text": [
      ">> New message from target SUPERNOVA:\n",
      "{'id': 0, 'command': 20, 'name': 'I3C TARGET NOTIFICATION', 'notification_type': 'I3C_CCC', 'target_address': 8, 'usb_result': 'CMD_SUCCESSFUL', 'manager_result': 'I3C_TARGET_TRANSFER_SUCCESS', 'driver_result': ['NO_ERROR']}\n",
      ">> New message from controller SUPERNOVA:\n",
      "{\n",
      "    \"id\": 12,\n",
      "    \"command\": 11,\n",
      "    \"name\": \"I3C TRANSFER\",\n",
      "    \"header\": {\n",
      "        \"tag\": \"RESPONSE_TO_REGULAR_REQUEST\",\n",
      "        \"result\": \"I3C_TRANSFER_SUCCESS\",\n",
      "        \"hasData\": true\n",
      "    },\n",
      "    \"descriptor\": {\n",
      "        \"dataLength\": 1,\n",
      "        \"errors\": [\n",
      "            \"NO_TRANSFER_ERROR\"\n",
      "        ]\n",
      "    },\n",
      "    \"dcr\": \"0xc5\"\n",
      "}\n"
     ]
    }
   ],
   "source": [
    "TARGET_ADDRESS  = 0x08\n",
    "PUSH_PULL_RATE  = I3cPushPullTransferRate.PUSH_PULL_5_MHZ\n",
    "OPEN_DRAIN_RATE = I3cOpenDrainTransferRate.OPEN_DRAIN_1_25_MHZ\n",
    "\n",
    "request_result = supernovaController.i3cGETDCR(getId(), TARGET_ADDRESS, PUSH_PULL_RATE, OPEN_DRAIN_RATE)"
   ]
  },
  {
   "cell_type": "markdown",
   "metadata": {},
   "source": [
    "##### 3.7.4 GETMWL"
   ]
  },
  {
   "cell_type": "code",
   "execution_count": 25,
   "metadata": {},
   "outputs": [
    {
     "name": "stdout",
     "output_type": "stream",
     "text": [
      ">> New message from target SUPERNOVA:\n",
      "{'id': 0, 'command': 20, 'name': 'I3C TARGET NOTIFICATION', 'notification_type': 'I3C_CCC', 'target_address': 8, 'usb_result': 'CMD_SUCCESSFUL', 'manager_result': 'I3C_TARGET_TRANSFER_SUCCESS', 'driver_result': ['NO_ERROR']}\n",
      ">> New message from controller SUPERNOVA:\n",
      "{\n",
      "    \"id\": 13,\n",
      "    \"command\": 11,\n",
      "    \"name\": \"I3C TRANSFER\",\n",
      "    \"header\": {\n",
      "        \"tag\": \"RESPONSE_TO_REGULAR_REQUEST\",\n",
      "        \"result\": \"I3C_TRANSFER_SUCCESS\",\n",
      "        \"hasData\": true\n",
      "    },\n",
      "    \"descriptor\": {\n",
      "        \"dataLength\": 2,\n",
      "        \"errors\": [\n",
      "            \"NO_TRANSFER_ERROR\"\n",
      "        ]\n",
      "    },\n",
      "    \"maxWriteLength\": 256\n",
      "}\n"
     ]
    }
   ],
   "source": [
    "TARGET_ADDRESS  = 0x08\n",
    "PUSH_PULL_RATE  = I3cPushPullTransferRate.PUSH_PULL_5_MHZ\n",
    "OPEN_DRAIN_RATE = I3cOpenDrainTransferRate.OPEN_DRAIN_1_25_MHZ\n",
    "\n",
    "request_result = supernovaController.i3cGETMWL(getId(), TARGET_ADDRESS, PUSH_PULL_RATE, OPEN_DRAIN_RATE)"
   ]
  },
  {
   "cell_type": "markdown",
   "metadata": {},
   "source": [
    "##### 3.7.5 SETMWL"
   ]
  },
  {
   "cell_type": "code",
   "execution_count": 26,
   "metadata": {},
   "outputs": [
    {
     "name": "stdout",
     "output_type": "stream",
     "text": [
      ">> New message from target SUPERNOVA:\n",
      "{'id': 0, 'command': 20, 'name': 'I3C TARGET NOTIFICATION', 'notification_type': 'I3C_CCC', 'target_address': 8, 'usb_result': 'CMD_SUCCESSFUL', 'manager_result': 'I3C_TARGET_TRANSFER_SUCCESS', 'driver_result': ['NO_ERROR']}\n",
      ">> New message from controller SUPERNOVA:\n",
      "{\n",
      "    \"id\": 14,\n",
      "    \"command\": 11,\n",
      "    \"name\": \"I3C TRANSFER\",\n",
      "    \"header\": {\n",
      "        \"tag\": \"RESPONSE_TO_REGULAR_REQUEST\",\n",
      "        \"result\": \"I3C_TRANSFER_SUCCESS\",\n",
      "        \"hasData\": true\n",
      "    },\n",
      "    \"descriptor\": {\n",
      "        \"dataLength\": 2,\n",
      "        \"errors\": [\n",
      "            \"NO_TRANSFER_ERROR\"\n",
      "        ]\n",
      "    },\n",
      "    \"data\": [\n",
      "        0,\n",
      "        0\n",
      "    ]\n",
      "}\n"
     ]
    }
   ],
   "source": [
    "TARGET_ADDRESS  = 0x08\n",
    "PUSH_PULL_RATE  = I3cPushPullTransferRate.PUSH_PULL_5_MHZ\n",
    "OPEN_DRAIN_RATE = I3cOpenDrainTransferRate.OPEN_DRAIN_1_25_MHZ\n",
    "NEW_MWL         = 1024\n",
    "\n",
    "request_result = supernovaController.i3cDirectSETMWL(getId(), TARGET_ADDRESS, PUSH_PULL_RATE, OPEN_DRAIN_RATE, NEW_MWL)"
   ]
  },
  {
   "cell_type": "markdown",
   "metadata": {},
   "source": [
    "##### 3.7.6 GETMWL"
   ]
  },
  {
   "cell_type": "code",
   "execution_count": 27,
   "metadata": {},
   "outputs": [
    {
     "name": "stdout",
     "output_type": "stream",
     "text": [
      ">> New message from controller SUPERNOVA:\n",
      "{\n",
      "    \"id\": 15,\n",
      "    \"command\": 11,\n",
      "    \"name\": \"I3C TRANSFER\",\n",
      "    \"header\": {\n",
      "        \"tag\": \"RESPONSE_TO_REGULAR_REQUEST\",\n",
      "        \"result\": \"I3C_TRANSFER_SUCCESS\",\n",
      "        \"hasData\": true\n",
      "    },\n",
      "    \"descriptor\": {\n",
      "        \"dataLength\": 2,\n",
      "        \"errors\": [\n",
      "            \"NO_TRANSFER_ERROR\"\n",
      "        ]\n",
      "    },\n",
      "    \"maxWriteLength\": 1024\n",
      "}\n",
      ">> New message from target SUPERNOVA:\n",
      "{'id': 0, 'command': 20, 'name': 'I3C TARGET NOTIFICATION', 'notification_type': 'I3C_CCC', 'target_address': 8, 'usb_result': 'CMD_SUCCESSFUL', 'manager_result': 'I3C_TARGET_TRANSFER_SUCCESS', 'driver_result': ['NO_ERROR']}\n"
     ]
    }
   ],
   "source": [
    "TARGET_ADDRESS  = 0x08\n",
    "PUSH_PULL_RATE  = I3cPushPullTransferRate.PUSH_PULL_5_MHZ\n",
    "OPEN_DRAIN_RATE = I3cOpenDrainTransferRate.OPEN_DRAIN_1_25_MHZ\n",
    "\n",
    "request_result = supernovaController.i3cGETMWL(getId(), TARGET_ADDRESS, PUSH_PULL_RATE, OPEN_DRAIN_RATE)"
   ]
  },
  {
   "cell_type": "markdown",
   "metadata": {},
   "source": [
    "##### 3.7.7 GETMRL"
   ]
  },
  {
   "cell_type": "code",
   "execution_count": 28,
   "metadata": {},
   "outputs": [
    {
     "name": "stdout",
     "output_type": "stream",
     "text": [
      ">> New message from target SUPERNOVA:\n",
      "{'id': 0, 'command': 20, 'name': 'I3C TARGET NOTIFICATION', 'notification_type': 'I3C_CCC', 'target_address': 8, 'usb_result': 'CMD_SUCCESSFUL', 'manager_result': 'I3C_TARGET_TRANSFER_SUCCESS', 'driver_result': ['NO_ERROR']}\n",
      ">> New message from controller SUPERNOVA:\n",
      "{\n",
      "    \"id\": 16,\n",
      "    \"command\": 11,\n",
      "    \"name\": \"I3C TRANSFER\",\n",
      "    \"header\": {\n",
      "        \"tag\": \"RESPONSE_TO_REGULAR_REQUEST\",\n",
      "        \"result\": \"I3C_TRANSFER_SUCCESS\",\n",
      "        \"hasData\": true\n",
      "    },\n",
      "    \"descriptor\": {\n",
      "        \"dataLength\": 2,\n",
      "        \"errors\": [\n",
      "            \"NO_TRANSFER_ERROR\"\n",
      "        ]\n",
      "    },\n",
      "    \"maxReadLength\": 256,\n",
      "    \"maxIbiPayloadSize\": [\n",
      "        0,\n",
      "        0,\n",
      "        0,\n",
      "        0,\n",
      "        0\n",
      "    ]\n",
      "}\n"
     ]
    }
   ],
   "source": [
    "TARGET_ADDRESS  = 0x08\n",
    "PUSH_PULL_RATE  = I3cPushPullTransferRate.PUSH_PULL_5_MHZ\n",
    "OPEN_DRAIN_RATE = I3cOpenDrainTransferRate.OPEN_DRAIN_1_25_MHZ\n",
    "\n",
    "request_result = supernovaController.i3cGETMRL(getId(), TARGET_ADDRESS, PUSH_PULL_RATE, OPEN_DRAIN_RATE)"
   ]
  },
  {
   "cell_type": "markdown",
   "metadata": {},
   "source": [
    "##### 3.7.8 SETMRL"
   ]
  },
  {
   "cell_type": "code",
   "execution_count": 29,
   "metadata": {},
   "outputs": [
    {
     "name": "stdout",
     "output_type": "stream",
     "text": [
      ">> New message from target SUPERNOVA:\n",
      "{'id': 0, 'command': 20, 'name': 'I3C TARGET NOTIFICATION', 'notification_type': 'I3C_CCC', 'target_address': 8, 'usb_result': 'CMD_SUCCESSFUL', 'manager_result': 'I3C_TARGET_TRANSFER_SUCCESS', 'driver_result': ['NO_ERROR']}\n",
      ">> New message from controller SUPERNOVA:\n",
      "{\n",
      "    \"id\": 17,\n",
      "    \"command\": 11,\n",
      "    \"name\": \"I3C TRANSFER\",\n",
      "    \"header\": {\n",
      "        \"tag\": \"RESPONSE_TO_REGULAR_REQUEST\",\n",
      "        \"result\": \"I3C_TRANSFER_SUCCESS\",\n",
      "        \"hasData\": true\n",
      "    },\n",
      "    \"descriptor\": {\n",
      "        \"dataLength\": 2,\n",
      "        \"errors\": [\n",
      "            \"NO_TRANSFER_ERROR\"\n",
      "        ]\n",
      "    },\n",
      "    \"data\": [\n",
      "        0,\n",
      "        0\n",
      "    ]\n",
      "}\n"
     ]
    }
   ],
   "source": [
    "TARGET_ADDRESS  = 0x08\n",
    "PUSH_PULL_RATE  = I3cPushPullTransferRate.PUSH_PULL_5_MHZ\n",
    "OPEN_DRAIN_RATE = I3cOpenDrainTransferRate.OPEN_DRAIN_1_25_MHZ\n",
    "NEW_MRL         = 512\n",
    "\n",
    "request_result = supernovaController.i3cDirectSETMRL(getId(), TARGET_ADDRESS, PUSH_PULL_RATE, OPEN_DRAIN_RATE, NEW_MRL)"
   ]
  },
  {
   "cell_type": "markdown",
   "metadata": {},
   "source": [
    "##### 3.7.9 GETMRL"
   ]
  },
  {
   "cell_type": "code",
   "execution_count": 30,
   "metadata": {},
   "outputs": [
    {
     "name": "stdout",
     "output_type": "stream",
     "text": [
      ">> New message from target SUPERNOVA:\n",
      "{'id': 0, 'command': 20, 'name': 'I3C TARGET NOTIFICATION', 'notification_type': 'I3C_CCC', 'target_address': 8, 'usb_result': 'CMD_SUCCESSFUL', 'manager_result': 'I3C_TARGET_TRANSFER_SUCCESS', 'driver_result': ['NO_ERROR']}\n",
      ">> New message from controller SUPERNOVA:\n",
      "{\n",
      "    \"id\": 18,\n",
      "    \"command\": 11,\n",
      "    \"name\": \"I3C TRANSFER\",\n",
      "    \"header\": {\n",
      "        \"tag\": \"RESPONSE_TO_REGULAR_REQUEST\",\n",
      "        \"result\": \"I3C_TRANSFER_SUCCESS\",\n",
      "        \"hasData\": true\n",
      "    },\n",
      "    \"descriptor\": {\n",
      "        \"dataLength\": 2,\n",
      "        \"errors\": [\n",
      "            \"NO_TRANSFER_ERROR\"\n",
      "        ]\n",
      "    },\n",
      "    \"maxReadLength\": 512,\n",
      "    \"maxIbiPayloadSize\": [\n",
      "        0,\n",
      "        0,\n",
      "        0,\n",
      "        0,\n",
      "        0\n",
      "    ]\n",
      "}\n"
     ]
    }
   ],
   "source": [
    "TARGET_ADDRESS  = 0x08\n",
    "PUSH_PULL_RATE  = I3cPushPullTransferRate.PUSH_PULL_5_MHZ\n",
    "OPEN_DRAIN_RATE = I3cOpenDrainTransferRate.OPEN_DRAIN_1_25_MHZ\n",
    "\n",
    "request_result = supernovaController.i3cGETMRL(getId(), TARGET_ADDRESS, PUSH_PULL_RATE, OPEN_DRAIN_RATE)"
   ]
  },
  {
   "cell_type": "markdown",
   "metadata": {},
   "source": [
    "##### 3.7.10 DISEC"
   ]
  },
  {
   "cell_type": "code",
   "execution_count": 31,
   "metadata": {},
   "outputs": [
    {
     "name": "stdout",
     "output_type": "stream",
     "text": [
      ">> New message from target SUPERNOVA:\n",
      "{'id': 0, 'command': 20, 'name': 'I3C TARGET NOTIFICATION', 'notification_type': 'I3C_CCC', 'target_address': 8, 'usb_result': 'CMD_SUCCESSFUL', 'manager_result': 'I3C_TARGET_TRANSFER_SUCCESS', 'driver_result': ['NO_ERROR']}\n",
      ">> New message from controller SUPERNOVA:\n",
      "{'id': 19, 'command': 7, 'name': 'I3C CLEAR FEATURE', 'result': 'I3C_CLEAR_FEATURE_SUCCESS', 'errors': ['NO_TRANSFER_ERROR']}\n"
     ]
    }
   ],
   "source": [
    "TARGET_ADDRESS  = 0x08\n",
    "\n",
    "request_result = supernovaController.i3cClearFeature(getId(), I3cClearFeatureSelector.REGULAR_IBI, TARGET_ADDRESS)"
   ]
  },
  {
   "cell_type": "markdown",
   "metadata": {},
   "source": [
    "##### 3.7.11 ENEC"
   ]
  },
  {
   "cell_type": "code",
   "execution_count": 32,
   "metadata": {},
   "outputs": [
    {
     "name": "stdout",
     "output_type": "stream",
     "text": [
      ">> New message from target SUPERNOVA:\n",
      "{'id': 0, 'command': 20, 'name': 'I3C TARGET NOTIFICATION', 'notification_type': 'I3C_CCC', 'target_address': 8, 'usb_result': 'CMD_SUCCESSFUL', 'manager_result': 'I3C_TARGET_TRANSFER_SUCCESS', 'driver_result': ['NO_ERROR']}\n",
      ">> New message from controller SUPERNOVA:\n",
      "{'id': 20, 'command': 8, 'name': 'I3C SET FEATURE', 'result': 'I3C_SET_FEATURE_SUCCESS', 'errors': ['NO_TRANSFER_ERROR']}\n"
     ]
    }
   ],
   "source": [
    "TARGET_ADDRESS  = 0x08\n",
    "\n",
    "request_result = supernovaController.i3cSetFeature(getId(), I3cSetFeatureSelector.REGULAR_IBI, TARGET_ADDRESS)"
   ]
  },
  {
   "cell_type": "markdown",
   "metadata": {},
   "source": [
    "##### 3.7.12 GET STATUS"
   ]
  },
  {
   "cell_type": "code",
   "execution_count": 33,
   "metadata": {},
   "outputs": [
    {
     "name": "stdout",
     "output_type": "stream",
     "text": [
      ">> New message from target SUPERNOVA:\n",
      "{'id': 0, 'command': 20, 'name': 'I3C TARGET NOTIFICATION', 'notification_type': 'I3C_CCC', 'target_address': 8, 'usb_result': 'CMD_SUCCESSFUL', 'manager_result': 'I3C_TARGET_TRANSFER_SUCCESS', 'driver_result': ['NO_ERROR']}\n",
      ">> New message from controller SUPERNOVA:\n",
      "{\n",
      "    \"id\": 21,\n",
      "    \"command\": 11,\n",
      "    \"name\": \"I3C TRANSFER\",\n",
      "    \"header\": {\n",
      "        \"tag\": \"RESPONSE_TO_REGULAR_REQUEST\",\n",
      "        \"result\": \"I3C_TRANSFER_SUCCESS\",\n",
      "        \"hasData\": true\n",
      "    },\n",
      "    \"descriptor\": {\n",
      "        \"dataLength\": 2,\n",
      "        \"errors\": [\n",
      "            \"NO_TRANSFER_ERROR\"\n",
      "        ]\n",
      "    },\n",
      "    \"data\": [\n",
      "        0,\n",
      "        0\n",
      "    ]\n",
      "}\n"
     ]
    }
   ],
   "source": [
    "TARGET_ADDRESS  = 0x08\n",
    "PUSH_PULL_RATE  = I3cPushPullTransferRate.PUSH_PULL_5_MHZ\n",
    "OPEN_DRAIN_RATE = I3cOpenDrainTransferRate.OPEN_DRAIN_1_25_MHZ\n",
    "\n",
    "request_result = supernovaController.i3cGETSTATUS(getId(), TARGET_ADDRESS, PUSH_PULL_RATE, OPEN_DRAIN_RATE)"
   ]
  },
  {
   "cell_type": "markdown",
   "metadata": {},
   "source": [
    "#### 3.8 I3C TARGET SET CONFIGURATION\n",
    "\n",
    "The public method ``Supernova.i3cTargetSetConfiguration()`` sets the configuration of the supernova acting as a target on the I3C bus.\n",
    "\n",
    "```python\n",
    "i3cTargetSetConfiguration(id, uSecondsToWaitForIbi, maxReadLength, maxWriteLength, targetFeatures)\n",
    "```\n",
    "\n",
    "- ``id: c_uint16``: Identifies the command.\n",
    "- ``uSecondsToWaitForIbi: c_uint8``: Micro seconds to allow an In-Band Interrupt (IBI) to drive SDA low when the controller is not doing so.\n",
    "- ``maxReadLength: c_uint16``: Maximum read length that the user wants the Supernova to handle.\n",
    "- ``maxWriteLength: c_uint16``: Maximum write length that the user wants the Supernova to handle.\n",
    "- ``targetFeatures: c_uint8``: Series of flags that describe the features of the Supernova in target mode."
   ]
  },
  {
   "cell_type": "code",
   "execution_count": 34,
   "metadata": {},
   "outputs": [
    {
     "name": "stdout",
     "output_type": "stream",
     "text": [
      ">> New message from target SUPERNOVA:\n",
      "{'id': 22, 'command': 17, 'name': 'I3C TARGET SET CONFIGURATION', 'result': 'I3C_TARGET_SET_CONF_SUCCESS'}\n"
     ]
    }
   ],
   "source": [
    "MICRO_SECONDS_TO_WAIT_FOR_IBI = 0x69\n",
    "MAX_READ_LENGTH = 0x300 # 768\n",
    "MAX_WRITE_LENGTH = 0x250 # 592\n",
    "\n",
    "features =  DdrOk.ALLOWED_DDR.value |  \\\n",
    "            IgnoreTE0TE1Errors.IGNORE_ERRORS.value |  \\\n",
    "            MatchStartStop.NOT_MATCH.value |  \\\n",
    "            AlwaysNack.NOT_ALWAYS_NACK.value\n",
    "\n",
    "request_result = supernovaTarget.i3cTargetSetConfiguration(getId(), MICRO_SECONDS_TO_WAIT_FOR_IBI, MAX_READ_LENGTH, MAX_WRITE_LENGTH, features)"
   ]
  },
  {
   "cell_type": "markdown",
   "metadata": {},
   "source": [
    "##### 3.8.1 Check the correct setting of the MWL during i3cTargetSetConfiguration requesting a GETMWL"
   ]
  },
  {
   "cell_type": "code",
   "execution_count": 35,
   "metadata": {},
   "outputs": [
    {
     "name": "stdout",
     "output_type": "stream",
     "text": [
      ">> New message from target SUPERNOVA:\n",
      "{'id': 0, 'command': 20, 'name': 'I3C TARGET NOTIFICATION', 'notification_type': 'I3C_CCC', 'target_address': 8, 'usb_result': 'CMD_SUCCESSFUL', 'manager_result': 'I3C_TARGET_TRANSFER_SUCCESS', 'driver_result': ['NO_ERROR']}\n",
      ">> New message from controller SUPERNOVA:\n",
      "{\n",
      "    \"id\": 23,\n",
      "    \"command\": 11,\n",
      "    \"name\": \"I3C TRANSFER\",\n",
      "    \"header\": {\n",
      "        \"tag\": \"RESPONSE_TO_REGULAR_REQUEST\",\n",
      "        \"result\": \"I3C_TRANSFER_SUCCESS\",\n",
      "        \"hasData\": true\n",
      "    },\n",
      "    \"descriptor\": {\n",
      "        \"dataLength\": 2,\n",
      "        \"errors\": [\n",
      "            \"NO_TRANSFER_ERROR\"\n",
      "        ]\n",
      "    },\n",
      "    \"maxWriteLength\": 592\n",
      "}\n"
     ]
    }
   ],
   "source": [
    "TARGET_ADDRESS  = 0x08\n",
    "PUSH_PULL_RATE  = I3cPushPullTransferRate.PUSH_PULL_5_MHZ\n",
    "OPEN_DRAIN_RATE = I3cOpenDrainTransferRate.OPEN_DRAIN_1_25_MHZ\n",
    "\n",
    "request_result = supernovaController.i3cGETMWL(getId(), TARGET_ADDRESS, PUSH_PULL_RATE, OPEN_DRAIN_RATE)"
   ]
  },
  {
   "cell_type": "markdown",
   "metadata": {},
   "source": [
    "##### 3.8.2 Check the correct setting of the MRL during i3cTargetSetConfiguration requesting a GETMRL"
   ]
  },
  {
   "cell_type": "code",
   "execution_count": 36,
   "metadata": {},
   "outputs": [
    {
     "name": "stdout",
     "output_type": "stream",
     "text": [
      ">> New message from controller SUPERNOVA:\n",
      "{\n",
      "    \"id\": 24,\n",
      "    \"command\": 11,\n",
      "    \"name\": \"I3C TRANSFER\",\n",
      "    \"header\": {\n",
      "        \"tag\": \"RESPONSE_TO_REGULAR_REQUEST\",\n",
      "        \"result\": \"I3C_TRANSFER_SUCCESS\",\n",
      "        \"hasData\": true\n",
      "    },\n",
      "    \"descriptor\": {\n",
      "        \"dataLength\": 2,\n",
      "        \"errors\": [\n",
      "            \"NO_TRANSFER_ERROR\"\n",
      "        ]\n",
      "    },\n",
      "    \"maxReadLength\": 768,\n",
      "    \"maxIbiPayloadSize\": [\n",
      "        0,\n",
      "        0,\n",
      "        0,\n",
      "        0,\n",
      "        0\n",
      "    ]\n",
      "}\n",
      ">> New message from target SUPERNOVA:\n",
      "{'id': 0, 'command': 20, 'name': 'I3C TARGET NOTIFICATION', 'notification_type': 'I3C_CCC', 'target_address': 8, 'usb_result': 'CMD_SUCCESSFUL', 'manager_result': 'I3C_TARGET_TRANSFER_SUCCESS', 'driver_result': ['NO_ERROR']}\n"
     ]
    }
   ],
   "source": [
    "TARGET_ADDRESS  = 0x08\n",
    "PUSH_PULL_RATE  = I3cPushPullTransferRate.PUSH_PULL_5_MHZ\n",
    "OPEN_DRAIN_RATE = I3cOpenDrainTransferRate.OPEN_DRAIN_1_25_MHZ\n",
    "\n",
    "request_result = supernovaController.i3cGETMRL(getId(), TARGET_ADDRESS, PUSH_PULL_RATE, OPEN_DRAIN_RATE)"
   ]
  },
  {
   "cell_type": "markdown",
   "metadata": {},
   "source": [
    "#### 3.9 I3C TARGET MEMORY RELATED COMMANDS WITH THE TARGET ACTING AS A MEMORY WITH A REGISTER SIZE OF 1 BYTE"
   ]
  },
  {
   "cell_type": "markdown",
   "metadata": {},
   "source": [
    "##### 3.9.1 I3C TARGET WRITE MEMORY\n",
    "\n",
    "The public method ``Supernova.i3cTargetWriteMemory()`` writes the memory of the target Supernova using only USB communication.\n",
    "\n",
    "```python\n",
    "i3cTargetWriteMemory(id, memoryAddr, data)\n",
    "```\n",
    "\n",
    "- ``id: c_uint16``: Identifies the command.\n",
    "- ``memoryAddr: c_uint16``: Address of the memory to start writing.\n",
    "- ``data: list``: Data to write."
   ]
  },
  {
   "cell_type": "code",
   "execution_count": 37,
   "metadata": {},
   "outputs": [
    {
     "name": "stdout",
     "output_type": "stream",
     "text": [
      ">> New message from target SUPERNOVA:\n",
      "{'id': 25, 'command': 18, 'name': 'I3C TARGET WRITE MEMORY', 'result': 'I3C_TARGET_WRITE_MEM_SUCCESS', 'error': 'NO_ERROR'}\n"
     ]
    }
   ],
   "source": [
    "MEMORY_ADDRESS  = 0x0000\n",
    "DATA            = [i%0xFA for i in range(0,1024)]\n",
    "\n",
    "request_result = supernovaTarget.i3cTargetWriteMemory(getId(), MEMORY_ADDRESS, DATA)"
   ]
  },
  {
   "cell_type": "markdown",
   "metadata": {},
   "source": [
    "##### 3.9.2 I3C TARGET READ MEMORY\n",
    "\n",
    "The public method ``Supernova.i3cTargetReadMemory()`` reads the memory of the target Supernova using only USB communication.\n",
    "\n",
    "```python\n",
    "i3cTargetReadMemory(id, memoryAddr, length)\n",
    "```\n",
    "\n",
    "- ``id: c_uint16``: Identifies the command.\n",
    "- ``memoryAddr: c_uint16``: Address of the memory to start reading.\n",
    "- ``length: c_uint16``: Data length the user intends to read."
   ]
  },
  {
   "cell_type": "code",
   "execution_count": 38,
   "metadata": {},
   "outputs": [
    {
     "name": "stdout",
     "output_type": "stream",
     "text": [
      ">> New message from target SUPERNOVA:\n",
      "{'id': 26, 'command': 19, 'name': 'I3C TARGET READ MEMORY', 'result': 'I3C_TARGET_READ_MEM_SUCCESS', 'error': 'NO_ERROR', 'readDataLength': 1024, 'data': [0, 1, 2, 3, 4, 5, 6, 7, 8, 9, 10, 11, 12, 13, 14, 15, 16, 17, 18, 19, 20, 21, 22, 23, 24, 25, 26, 27, 28, 29, 30, 31, 32, 33, 34, 35, 36, 37, 38, 39, 40, 41, 42, 43, 44, 45, 46, 47, 48, 49, 50, 51, 52, 53, 54, 55, 56, 57, 58, 59, 60, 61, 62, 63, 64, 65, 66, 67, 68, 69, 70, 71, 72, 73, 74, 75, 76, 77, 78, 79, 80, 81, 82, 83, 84, 85, 86, 87, 88, 89, 90, 91, 92, 93, 94, 95, 96, 97, 98, 99, 100, 101, 102, 103, 104, 105, 106, 107, 108, 109, 110, 111, 112, 113, 114, 115, 116, 117, 118, 119, 120, 121, 122, 123, 124, 125, 126, 127, 128, 129, 130, 131, 132, 133, 134, 135, 136, 137, 138, 139, 140, 141, 142, 143, 144, 145, 146, 147, 148, 149, 150, 151, 152, 153, 154, 155, 156, 157, 158, 159, 160, 161, 162, 163, 164, 165, 166, 167, 168, 169, 170, 171, 172, 173, 174, 175, 176, 177, 178, 179, 180, 181, 182, 183, 184, 185, 186, 187, 188, 189, 190, 191, 192, 193, 194, 195, 196, 197, 198, 199, 200, 201, 202, 203, 204, 205, 206, 207, 208, 209, 210, 211, 212, 213, 214, 215, 216, 217, 218, 219, 220, 221, 222, 223, 224, 225, 226, 227, 228, 229, 230, 231, 232, 233, 234, 235, 236, 237, 238, 239, 240, 241, 242, 243, 244, 245, 246, 247, 248, 249, 0, 1, 2, 3, 4, 5, 6, 7, 8, 9, 10, 11, 12, 13, 14, 15, 16, 17, 18, 19, 20, 21, 22, 23, 24, 25, 26, 27, 28, 29, 30, 31, 32, 33, 34, 35, 36, 37, 38, 39, 40, 41, 42, 43, 44, 45, 46, 47, 48, 49, 50, 51, 52, 53, 54, 55, 56, 57, 58, 59, 60, 61, 62, 63, 64, 65, 66, 67, 68, 69, 70, 71, 72, 73, 74, 75, 76, 77, 78, 79, 80, 81, 82, 83, 84, 85, 86, 87, 88, 89, 90, 91, 92, 93, 94, 95, 96, 97, 98, 99, 100, 101, 102, 103, 104, 105, 106, 107, 108, 109, 110, 111, 112, 113, 114, 115, 116, 117, 118, 119, 120, 121, 122, 123, 124, 125, 126, 127, 128, 129, 130, 131, 132, 133, 134, 135, 136, 137, 138, 139, 140, 141, 142, 143, 144, 145, 146, 147, 148, 149, 150, 151, 152, 153, 154, 155, 156, 157, 158, 159, 160, 161, 162, 163, 164, 165, 166, 167, 168, 169, 170, 171, 172, 173, 174, 175, 176, 177, 178, 179, 180, 181, 182, 183, 184, 185, 186, 187, 188, 189, 190, 191, 192, 193, 194, 195, 196, 197, 198, 199, 200, 201, 202, 203, 204, 205, 206, 207, 208, 209, 210, 211, 212, 213, 214, 215, 216, 217, 218, 219, 220, 221, 222, 223, 224, 225, 226, 227, 228, 229, 230, 231, 232, 233, 234, 235, 236, 237, 238, 239, 240, 241, 242, 243, 244, 245, 246, 247, 248, 249, 0, 1, 2, 3, 4, 5, 6, 7, 8, 9, 10, 11, 12, 13, 14, 15, 16, 17, 18, 19, 20, 21, 22, 23, 24, 25, 26, 27, 28, 29, 30, 31, 32, 33, 34, 35, 36, 37, 38, 39, 40, 41, 42, 43, 44, 45, 46, 47, 48, 49, 50, 51, 52, 53, 54, 55, 56, 57, 58, 59, 60, 61, 62, 63, 64, 65, 66, 67, 68, 69, 70, 71, 72, 73, 74, 75, 76, 77, 78, 79, 80, 81, 82, 83, 84, 85, 86, 87, 88, 89, 90, 91, 92, 93, 94, 95, 96, 97, 98, 99, 100, 101, 102, 103, 104, 105, 106, 107, 108, 109, 110, 111, 112, 113, 114, 115, 116, 117, 118, 119, 120, 121, 122, 123, 124, 125, 126, 127, 128, 129, 130, 131, 132, 133, 134, 135, 136, 137, 138, 139, 140, 141, 142, 143, 144, 145, 146, 147, 148, 149, 150, 151, 152, 153, 154, 155, 156, 157, 158, 159, 160, 161, 162, 163, 164, 165, 166, 167, 168, 169, 170, 171, 172, 173, 174, 175, 176, 177, 178, 179, 180, 181, 182, 183, 184, 185, 186, 187, 188, 189, 190, 191, 192, 193, 194, 195, 196, 197, 198, 199, 200, 201, 202, 203, 204, 205, 206, 207, 208, 209, 210, 211, 212, 213, 214, 215, 216, 217, 218, 219, 220, 221, 222, 223, 224, 225, 226, 227, 228, 229, 230, 231, 232, 233, 234, 235, 236, 237, 238, 239, 240, 241, 242, 243, 244, 245, 246, 247, 248, 249, 0, 1, 2, 3, 4, 5, 6, 7, 8, 9, 10, 11, 12, 13, 14, 15, 16, 17, 18, 19, 20, 21, 22, 23, 24, 25, 26, 27, 28, 29, 30, 31, 32, 33, 34, 35, 36, 37, 38, 39, 40, 41, 42, 43, 44, 45, 46, 47, 48, 49, 50, 51, 52, 53, 54, 55, 56, 57, 58, 59, 60, 61, 62, 63, 64, 65, 66, 67, 68, 69, 70, 71, 72, 73, 74, 75, 76, 77, 78, 79, 80, 81, 82, 83, 84, 85, 86, 87, 88, 89, 90, 91, 92, 93, 94, 95, 96, 97, 98, 99, 100, 101, 102, 103, 104, 105, 106, 107, 108, 109, 110, 111, 112, 113, 114, 115, 116, 117, 118, 119, 120, 121, 122, 123, 124, 125, 126, 127, 128, 129, 130, 131, 132, 133, 134, 135, 136, 137, 138, 139, 140, 141, 142, 143, 144, 145, 146, 147, 148, 149, 150, 151, 152, 153, 154, 155, 156, 157, 158, 159, 160, 161, 162, 163, 164, 165, 166, 167, 168, 169, 170, 171, 172, 173, 174, 175, 176, 177, 178, 179, 180, 181, 182, 183, 184, 185, 186, 187, 188, 189, 190, 191, 192, 193, 194, 195, 196, 197, 198, 199, 200, 201, 202, 203, 204, 205, 206, 207, 208, 209, 210, 211, 212, 213, 214, 215, 216, 217, 218, 219, 220, 221, 222, 223, 224, 225, 226, 227, 228, 229, 230, 231, 232, 233, 234, 235, 236, 237, 238, 239, 240, 241, 242, 243, 244, 245, 246, 247, 248, 249, 0, 1, 2, 3, 4, 5, 6, 7, 8, 9, 10, 11, 12, 13, 14, 15, 16, 17, 18, 19, 20, 21, 22, 23]}\n"
     ]
    }
   ],
   "source": [
    "MEMORY_ADDRESS  = 0x0000\n",
    "DATA_LENGTH     = 1024 # in bytes\n",
    "\n",
    "request_result = supernovaTarget.i3cTargetReadMemory(getId(), MEMORY_ADDRESS, DATA_LENGTH)"
   ]
  },
  {
   "cell_type": "markdown",
   "metadata": {},
   "source": [
    "#### 3.10 I3C WRITE AND READ"
   ]
  },
  {
   "cell_type": "markdown",
   "metadata": {},
   "source": [
    "##### 3.10.1 I3C WRITE INDICATING THE START ADDRESS AND THE DATA"
   ]
  },
  {
   "cell_type": "code",
   "execution_count": 39,
   "metadata": {},
   "outputs": [
    {
     "name": "stdout",
     "output_type": "stream",
     "text": [
      ">> New message from target SUPERNOVA:\n",
      "{'id': 0, 'command': 20, 'name': 'I3C TARGET NOTIFICATION', 'notification_type': 'I3C_TARGET_READ', 'target_address': 8, 'memory_address': 0, 'transfer_length': 5, 'usb_result': 'CMD_SUCCESSFUL', 'manager_result': 'I3C_TARGET_TRANSFER_SUCCESS', 'driver_result': ['NO_ERROR'], 'data': [238, 238, 238, 238, 238]}\n",
      ">> New message from controller SUPERNOVA:\n",
      "{\n",
      "    \"id\": 27,\n",
      "    \"command\": 11,\n",
      "    \"name\": \"I3C TRANSFER\",\n",
      "    \"header\": {\n",
      "        \"tag\": \"RESPONSE_TO_REGULAR_REQUEST\",\n",
      "        \"result\": \"I3C_TRANSFER_SUCCESS\",\n",
      "        \"hasData\": false\n",
      "    },\n",
      "    \"descriptor\": {\n",
      "        \"dataLength\": 0,\n",
      "        \"errors\": [\n",
      "            \"NO_TRANSFER_ERROR\"\n",
      "        ]\n",
      "    },\n",
      "    \"data\": []\n",
      "}\n"
     ]
    }
   ],
   "source": [
    "TARGET_ADDR     = 0x08\n",
    "MODE            = TransferMode.I3C_SDR\n",
    "PUSH_PULL_RATE  = I3cPushPullTransferRate.PUSH_PULL_3_75_MHZ\n",
    "OPEN_DRAIN_RATE = I3cOpenDrainTransferRate.OPEN_DRAIN_100_KHZ\n",
    "REG_ADDR        = [0x00, 0x00]\n",
    "DATA            = [0xEE for i in range(5)]\n",
    "\n",
    "request_result = supernovaController.i3cWrite(getId(), \n",
    "                                    TARGET_ADDR, \n",
    "                                    MODE, \n",
    "                                    PUSH_PULL_RATE, \n",
    "                                    OPEN_DRAIN_RATE, \n",
    "                                    REG_ADDR, \n",
    "                                    DATA)"
   ]
  },
  {
   "cell_type": "markdown",
   "metadata": {},
   "source": [
    "##### 3.10.2 I3C READ WITHOUT INDICATING THE START ADDRESS\n",
    "\n",
    "The target will assume that the start of the new operation is the end of the previous one"
   ]
  },
  {
   "cell_type": "code",
   "execution_count": 40,
   "metadata": {},
   "outputs": [
    {
     "name": "stdout",
     "output_type": "stream",
     "text": [
      ">> New message from target SUPERNOVA:\n",
      "{'id': 0, 'command': 20, 'name': 'I3C TARGET NOTIFICATION', 'notification_type': 'I3C_TARGET_WRITE', 'target_address': 8, 'memory_address': 5, 'transfer_length': 10, 'usb_result': 'CMD_SUCCESSFUL', 'manager_result': 'I3C_TARGET_TRANSFER_SUCCESS', 'driver_result': ['ABORT_CONDITION'], 'data': [5, 6, 7, 8, 9, 10, 11, 12, 13, 14]}\n",
      ">> New message from controller SUPERNOVA:\n",
      "{\n",
      "    \"id\": 28,\n",
      "    \"command\": 11,\n",
      "    \"name\": \"I3C TRANSFER\",\n",
      "    \"header\": {\n",
      "        \"tag\": \"RESPONSE_TO_REGULAR_REQUEST\",\n",
      "        \"result\": \"I3C_TRANSFER_SUCCESS\",\n",
      "        \"hasData\": true\n",
      "    },\n",
      "    \"descriptor\": {\n",
      "        \"dataLength\": 10,\n",
      "        \"errors\": [\n",
      "            \"NO_TRANSFER_ERROR\"\n",
      "        ]\n",
      "    },\n",
      "    \"data\": [\n",
      "        5,\n",
      "        6,\n",
      "        7,\n",
      "        8,\n",
      "        9,\n",
      "        10,\n",
      "        11,\n",
      "        12,\n",
      "        13,\n",
      "        14\n",
      "    ]\n",
      "}\n"
     ]
    }
   ],
   "source": [
    "TARGET_ADDR     = 0x08\n",
    "MODE            = TransferMode.I3C_SDR\n",
    "PUSH_PULL_RATE  = I3cPushPullTransferRate.PUSH_PULL_3_75_MHZ\n",
    "OPEN_DRAIN_RATE = I3cOpenDrainTransferRate.OPEN_DRAIN_100_KHZ\n",
    "REG_ADDR        = []\n",
    "LENGTH          = 10\n",
    "\n",
    "request_result = supernovaController.i3cRead(getId(), \n",
    "                                    TARGET_ADDR, \n",
    "                                    MODE, \n",
    "                                    PUSH_PULL_RATE, \n",
    "                                    OPEN_DRAIN_RATE, \n",
    "                                    REG_ADDR, \n",
    "                                    LENGTH)"
   ]
  },
  {
   "cell_type": "markdown",
   "metadata": {},
   "source": [
    "##### 3.10.3 I3C WRITE-READ\n",
    "\n",
    "A write followed by a read with a RS in between"
   ]
  },
  {
   "cell_type": "code",
   "execution_count": 41,
   "metadata": {},
   "outputs": [
    {
     "name": "stdout",
     "output_type": "stream",
     "text": [
      ">> New message from target SUPERNOVA:\n",
      "{'id': 0, 'command': 20, 'name': 'I3C TARGET NOTIFICATION', 'notification_type': 'I3C_TARGET_WRITE', 'target_address': 8, 'memory_address': 700, 'transfer_length': 5, 'usb_result': 'CMD_SUCCESSFUL', 'manager_result': 'I3C_TARGET_TRANSFER_SUCCESS', 'driver_result': ['ABORT_CONDITION'], 'data': [200, 201, 202, 203, 204]}\n",
      ">> New message from controller SUPERNOVA:\n",
      "{\n",
      "    \"id\": 29,\n",
      "    \"command\": 11,\n",
      "    \"name\": \"I3C TRANSFER\",\n",
      "    \"header\": {\n",
      "        \"tag\": \"RESPONSE_TO_REGULAR_REQUEST\",\n",
      "        \"result\": \"I3C_TRANSFER_SUCCESS\",\n",
      "        \"hasData\": true\n",
      "    },\n",
      "    \"descriptor\": {\n",
      "        \"dataLength\": 5,\n",
      "        \"errors\": [\n",
      "            \"NO_TRANSFER_ERROR\"\n",
      "        ]\n",
      "    },\n",
      "    \"data\": [\n",
      "        200,\n",
      "        201,\n",
      "        202,\n",
      "        203,\n",
      "        204\n",
      "    ]\n",
      "}\n"
     ]
    }
   ],
   "source": [
    "TARGET_ADDR     = 0x08\n",
    "MODE            = TransferMode.I3C_SDR\n",
    "PUSH_PULL_RATE  = I3cPushPullTransferRate.PUSH_PULL_3_75_MHZ\n",
    "OPEN_DRAIN_RATE = I3cOpenDrainTransferRate.OPEN_DRAIN_100_KHZ\n",
    "REG_ADDR        = [0xBC, 0x02] # 700\n",
    "LENGTH          = 5 # in bytes\n",
    "\n",
    "request_result = supernovaController.i3cRead(getId(), \n",
    "                                    TARGET_ADDR, \n",
    "                                    MODE, \n",
    "                                    PUSH_PULL_RATE, \n",
    "                                    OPEN_DRAIN_RATE, \n",
    "                                    REG_ADDR, \n",
    "                                    LENGTH)"
   ]
  },
  {
   "cell_type": "markdown",
   "metadata": {},
   "source": [
    "##### 3.10.4 I3C WRITE INDICATING THE START ADDRESS FOLLOWED BY A READ WITHOUT ADDRESS"
   ]
  },
  {
   "cell_type": "code",
   "execution_count": 42,
   "metadata": {},
   "outputs": [
    {
     "name": "stdout",
     "output_type": "stream",
     "text": [
      ">> New message from target SUPERNOVA:\n",
      "{'id': 0, 'command': 20, 'name': 'I3C TARGET NOTIFICATION', 'notification_type': 'I3C_TARGET_READ', 'target_address': 8, 'memory_address': 1012, 'transfer_length': 0, 'usb_result': 'CMD_SUCCESSFUL', 'manager_result': 'I3C_TARGET_TRANSFER_SUCCESS', 'driver_result': ['NO_ERROR'], 'data': []}\n",
      ">> New message from controller SUPERNOVA:\n",
      "{\n",
      "    \"id\": 30,\n",
      "    \"command\": 11,\n",
      "    \"name\": \"I3C TRANSFER\",\n",
      "    \"header\": {\n",
      "        \"tag\": \"RESPONSE_TO_REGULAR_REQUEST\",\n",
      "        \"result\": \"I3C_TRANSFER_SUCCESS\",\n",
      "        \"hasData\": false\n",
      "    },\n",
      "    \"descriptor\": {\n",
      "        \"dataLength\": 0,\n",
      "        \"errors\": [\n",
      "            \"NO_TRANSFER_ERROR\"\n",
      "        ]\n",
      "    },\n",
      "    \"data\": []\n",
      "}\n"
     ]
    }
   ],
   "source": [
    "TARGET_ADDR     = 0x08\n",
    "MODE            = TransferMode.I3C_SDR\n",
    "PUSH_PULL_RATE  = I3cPushPullTransferRate.PUSH_PULL_3_75_MHZ\n",
    "OPEN_DRAIN_RATE = I3cOpenDrainTransferRate.OPEN_DRAIN_100_KHZ\n",
    "REG_ADDR        = [0xF4, 0x03] # 1012\n",
    "DATA            = []\n",
    "\n",
    "request_result = supernovaController.i3cWrite(getId(), \n",
    "                                    TARGET_ADDR, \n",
    "                                    MODE, \n",
    "                                    PUSH_PULL_RATE, \n",
    "                                    OPEN_DRAIN_RATE, \n",
    "                                    REG_ADDR, \n",
    "                                    DATA)"
   ]
  },
  {
   "cell_type": "code",
   "execution_count": 43,
   "metadata": {},
   "outputs": [
    {
     "name": "stdout",
     "output_type": "stream",
     "text": [
      ">> New message from controller SUPERNOVA:\n",
      "{\n",
      "    \"id\": 31,\n",
      "    \"command\": 11,\n",
      "    \"name\": \"I3C TRANSFER\",\n",
      "    \"header\": {\n",
      "        \"tag\": \"RESPONSE_TO_REGULAR_REQUEST\",\n",
      "        \"result\": \"I3C_TRANSFER_SUCCESS\",\n",
      "        \"hasData\": true\n",
      "    },\n",
      "    \"descriptor\": {\n",
      "        \"dataLength\": 6,\n",
      "        \"errors\": [\n",
      "            \"NO_TRANSFER_ERROR\"\n",
      "        ]\n",
      "    },\n",
      "    \"data\": [\n",
      "        12,\n",
      "        13,\n",
      "        14,\n",
      "        15,\n",
      "        16,\n",
      "        17\n",
      "    ]\n",
      "}\n",
      ">> New message from target SUPERNOVA:\n",
      "{'id': 0, 'command': 20, 'name': 'I3C TARGET NOTIFICATION', 'notification_type': 'I3C_TARGET_WRITE', 'target_address': 8, 'memory_address': 1012, 'transfer_length': 6, 'usb_result': 'CMD_SUCCESSFUL', 'manager_result': 'I3C_TARGET_TRANSFER_SUCCESS', 'driver_result': ['ABORT_CONDITION'], 'data': [12, 13, 14, 15, 16, 17]}\n"
     ]
    }
   ],
   "source": [
    "TARGET_ADDR     = 0x08\n",
    "MODE            = TransferMode.I3C_SDR\n",
    "PUSH_PULL_RATE  = I3cPushPullTransferRate.PUSH_PULL_3_75_MHZ\n",
    "OPEN_DRAIN_RATE = I3cOpenDrainTransferRate.OPEN_DRAIN_100_KHZ\n",
    "REG_ADDR        = []\n",
    "LENGTH          = 6\n",
    "\n",
    "request_result = supernovaController.i3cRead(getId(), \n",
    "                                    TARGET_ADDR, \n",
    "                                    MODE, \n",
    "                                    PUSH_PULL_RATE, \n",
    "                                    OPEN_DRAIN_RATE, \n",
    "                                    REG_ADDR, \n",
    "                                    LENGTH)"
   ]
  },
  {
   "cell_type": "markdown",
   "metadata": {},
   "source": [
    "#### 3.10.5 BORDER CASES"
   ]
  },
  {
   "cell_type": "markdown",
   "metadata": {},
   "source": [
    "##### 3.10.5.1 USER TRIES TO START A TRANSFER SURPASSING THE MEMORY RANGE\n",
    "\n",
    "The target will ignore the bytes of address and will start the transfer from the end of the the previous one."
   ]
  },
  {
   "cell_type": "code",
   "execution_count": 44,
   "metadata": {},
   "outputs": [
    {
     "name": "stdout",
     "output_type": "stream",
     "text": [
      ">> New message from controller SUPERNOVA:\n",
      "{\n",
      "    \"id\": 32,\n",
      "    \"command\": 11,\n",
      "    \"name\": \"I3C TRANSFER\",\n",
      "    \"header\": {\n",
      "        \"tag\": \"RESPONSE_TO_REGULAR_REQUEST\",\n",
      "        \"result\": \"I3C_TRANSFER_SUCCESS\",\n",
      "        \"hasData\": false\n",
      "    },\n",
      "    \"descriptor\": {\n",
      "        \"dataLength\": 0,\n",
      "        \"errors\": [\n",
      "            \"NO_TRANSFER_ERROR\"\n",
      "        ]\n",
      "    },\n",
      "    \"data\": []\n",
      "}\n",
      ">> New message from target SUPERNOVA:\n",
      "{'id': 0, 'command': 20, 'name': 'I3C TARGET NOTIFICATION', 'notification_type': 'I3C_TARGET_READ', 'target_address': 8, 'memory_address': 1018, 'transfer_length': 4, 'usb_result': 'CMD_SUCCESSFUL', 'manager_result': 'I3C_TARGET_TRANSFER_SUCCESS', 'driver_result': ['NO_ERROR'], 'data': [238, 238, 238, 238]}\n"
     ]
    }
   ],
   "source": [
    "TARGET_ADDR     = 0x08\n",
    "MODE            = TransferMode.I3C_SDR\n",
    "PUSH_PULL_RATE  = I3cPushPullTransferRate.PUSH_PULL_3_75_MHZ\n",
    "OPEN_DRAIN_RATE = I3cOpenDrainTransferRate.OPEN_DRAIN_100_KHZ\n",
    "REG_ADDR        = [0x01, 0x04] # 1025\n",
    "DATA            = [0xEE for i in range(4)]\n",
    "\n",
    "request_result = supernovaController.i3cWrite(getId(), \n",
    "                                    TARGET_ADDR, \n",
    "                                    MODE, \n",
    "                                    PUSH_PULL_RATE, \n",
    "                                    OPEN_DRAIN_RATE, \n",
    "                                    REG_ADDR, \n",
    "                                    DATA)"
   ]
  },
  {
   "cell_type": "markdown",
   "metadata": {},
   "source": [
    "##### 3.10.5.2 THE TRANSFER STARTS IN AN ALLOWED ADDRESS BUT TRIES TO SURPASS THE MEMORY RANGE ON THE GO\n",
    "\n",
    "It will only modify the bytes in the allowed range and discard the rest. The end of the transfer is taken as the end of the memory"
   ]
  },
  {
   "cell_type": "code",
   "execution_count": 45,
   "metadata": {},
   "outputs": [
    {
     "name": "stdout",
     "output_type": "stream",
     "text": [
      ">> New message from controller SUPERNOVA:\n",
      "{\n",
      "    \"id\": 33,\n",
      "    \"command\": 11,\n",
      "    \"name\": \"I3C TRANSFER\",\n",
      "    \"header\": {\n",
      "        \"tag\": \"RESPONSE_TO_REGULAR_REQUEST\",\n",
      "        \"result\": \"I3C_TRANSFER_SUCCESS\",\n",
      "        \"hasData\": false\n",
      "    },\n",
      "    \"descriptor\": {\n",
      "        \"dataLength\": 0,\n",
      "        \"errors\": [\n",
      "            \"NO_TRANSFER_ERROR\"\n",
      "        ]\n",
      "    },\n",
      "    \"data\": []\n",
      "}\n",
      ">> New message from target SUPERNOVA:\n",
      "{'id': 0, 'command': 20, 'name': 'I3C TARGET NOTIFICATION', 'notification_type': 'I3C_TARGET_READ', 'target_address': 8, 'memory_address': 1020, 'transfer_length': 0, 'usb_result': 'CMD_SUCCESSFUL', 'manager_result': 'I3C_TARGET_TRANSFER_SUCCESS', 'driver_result': ['NO_ERROR'], 'data': []}\n"
     ]
    }
   ],
   "source": [
    "TARGET_ADDR     = 0x08\n",
    "MODE            = TransferMode.I3C_SDR\n",
    "PUSH_PULL_RATE  = I3cPushPullTransferRate.PUSH_PULL_3_75_MHZ\n",
    "OPEN_DRAIN_RATE = I3cOpenDrainTransferRate.OPEN_DRAIN_100_KHZ\n",
    "REG_ADDR        = [0xFC, 0x03] # 1020\n",
    "DATA            = []\n",
    "\n",
    "request_result = supernovaController.i3cWrite(getId(), \n",
    "                                    TARGET_ADDR, \n",
    "                                    MODE, \n",
    "                                    PUSH_PULL_RATE, \n",
    "                                    OPEN_DRAIN_RATE, \n",
    "                                    REG_ADDR, \n",
    "                                    DATA)"
   ]
  },
  {
   "cell_type": "code",
   "execution_count": 46,
   "metadata": {},
   "outputs": [
    {
     "name": "stdout",
     "output_type": "stream",
     "text": [
      ">> New message from target SUPERNOVA:\n",
      "{'id': 0, 'command': 20, 'name': 'I3C TARGET NOTIFICATION', 'notification_type': 'I3C_TARGET_WRITE', 'target_address': 8, 'memory_address': 1020, 'transfer_length': 4, 'usb_result': 'CMD_SUCCESSFUL', 'manager_result': 'I3C_TARGET_TRANSFER_SUCCESS', 'driver_result': ['NO_ERROR'], 'data': [238, 238, 22, 23]}\n",
      ">> New message from controller SUPERNOVA:\n",
      "{\n",
      "    \"id\": 34,\n",
      "    \"command\": 11,\n",
      "    \"name\": \"I3C TRANSFER\",\n",
      "    \"header\": {\n",
      "        \"tag\": \"RESPONSE_TO_REGULAR_REQUEST\",\n",
      "        \"result\": \"I3C_TRANSFER_SUCCESS\",\n",
      "        \"hasData\": true\n",
      "    },\n",
      "    \"descriptor\": {\n",
      "        \"dataLength\": 30,\n",
      "        \"errors\": [\n",
      "            \"NO_TRANSFER_ERROR\"\n",
      "        ]\n",
      "    },\n",
      "    \"data\": [\n",
      "        238,\n",
      "        238,\n",
      "        22,\n",
      "        23,\n",
      "        0,\n",
      "        0,\n",
      "        0,\n",
      "        0,\n",
      "        0,\n",
      "        0,\n",
      "        0,\n",
      "        0,\n",
      "        0,\n",
      "        0,\n",
      "        0,\n",
      "        0,\n",
      "        0,\n",
      "        0,\n",
      "        0,\n",
      "        0,\n",
      "        0,\n",
      "        0,\n",
      "        0,\n",
      "        0,\n",
      "        0,\n",
      "        0,\n",
      "        0,\n",
      "        0,\n",
      "        0,\n",
      "        0\n",
      "    ]\n",
      "}\n"
     ]
    }
   ],
   "source": [
    "TARGET_ADDR     = 0x08\n",
    "MODE            = TransferMode.I3C_SDR\n",
    "PUSH_PULL_RATE  = I3cPushPullTransferRate.PUSH_PULL_3_75_MHZ\n",
    "OPEN_DRAIN_RATE = I3cOpenDrainTransferRate.OPEN_DRAIN_100_KHZ\n",
    "REG_ADDR        = []\n",
    "LENGTH          = 30\n",
    "\n",
    "request_result = supernovaController.i3cRead(getId(), \n",
    "                                    TARGET_ADDR, \n",
    "                                    MODE, \n",
    "                                    PUSH_PULL_RATE, \n",
    "                                    OPEN_DRAIN_RATE, \n",
    "                                    REG_ADDR, \n",
    "                                    LENGTH)"
   ]
  },
  {
   "cell_type": "markdown",
   "metadata": {},
   "source": [
    "#### 3.11 Initialize the Supernova I3C peripheral as a target memory with a register size of 4 bytes"
   ]
  },
  {
   "cell_type": "code",
   "execution_count": 47,
   "metadata": {},
   "outputs": [
    {
     "name": "stdout",
     "output_type": "stream",
     "text": [
      ">> New message from target SUPERNOVA:\n",
      "{'id': 35, 'command': 16, 'name': 'I3C TARGET INIT', 'result': 'I3C_TARGET_INIT_SUCCESS'}\n"
     ]
    }
   ],
   "source": [
    "MICRO_SECONDS_TO_WAIT_FOR_IBI = 0x69\n",
    "MAX_READ_LENGTH = 0x100\n",
    "MAX_WRITE_LENGTH = 0x100\n",
    "\n",
    "features =  DdrOk.ALLOWED_DDR.value |   \\\n",
    "            IgnoreTE0TE1Errors.IGNORE_ERRORS.value |   \\\n",
    "            MatchStartStop.NOT_MATCH.value |   \\\n",
    "            AlwaysNack.NOT_ALWAYS_NACK.value \n",
    "\n",
    "request_result = supernovaTarget.i3cTargetInit(getId(), I3cTargetMemoryLayout_t.MEM_4_BYTES, MICRO_SECONDS_TO_WAIT_FOR_IBI, MAX_READ_LENGTH, MAX_WRITE_LENGTH, features)"
   ]
  },
  {
   "cell_type": "markdown",
   "metadata": {},
   "source": [
    "#### 3.12 Init the bus"
   ]
  },
  {
   "cell_type": "code",
   "execution_count": 48,
   "metadata": {},
   "outputs": [
    {
     "name": "stdout",
     "output_type": "stream",
     "text": [
      ">> New message from target SUPERNOVA:\n",
      "{'id': 0, 'command': 20, 'name': 'I3C TARGET NOTIFICATION', 'notification_type': 'I3C_CCC', 'target_address': 0, 'usb_result': 'CMD_SUCCESSFUL', 'manager_result': 'I3C_TARGET_TRANSFER_SUCCESS', 'driver_result': ['NO_ERROR']}\n",
      ">> New message from controller SUPERNOVA:\n",
      "{'id': 36, 'command': 2, 'name': 'I3C INIT BUS', 'result': 'I3C_BUS_INIT_SUCCESS', 'errors': ['NO_TRANSFER_ERROR']}\n",
      ">> New message from target SUPERNOVA:\n",
      "{'id': 0, 'command': 20, 'name': 'I3C TARGET NOTIFICATION', 'notification_type': 'I3C_CCC', 'target_address': 0, 'usb_result': 'CMD_SUCCESSFUL', 'manager_result': 'I3C_TARGET_TRANSFER_SUCCESS', 'driver_result': ['NO_ERROR']}\n",
      ">> New message from target SUPERNOVA:\n",
      "{'id': 0, 'command': 20, 'name': 'I3C TARGET NOTIFICATION', 'notification_type': 'I3C_TARGET_ADDR_CHANGED', 'new_address': 8, 'usb_result': 'CMD_SUCCESSFUL', 'manager_result': 'I3C_TARGET_TRANSFER_SUCCESS', 'driver_result': ['NO_ERROR']}\n"
     ]
    }
   ],
   "source": [
    "request_result = supernovaController.i3cInitBus(getId())"
   ]
  },
  {
   "cell_type": "markdown",
   "metadata": {},
   "source": [
    "#### 3.13 I3C TARGET MEMORY RELATED COMMANDS WITH THE TARGET ACTING AS A MEMORY WITH A REGISTER SIZE OF 4 BYTES"
   ]
  },
  {
   "cell_type": "code",
   "execution_count": 49,
   "metadata": {},
   "outputs": [
    {
     "name": "stdout",
     "output_type": "stream",
     "text": [
      ">> New message from target SUPERNOVA:\n",
      "{'id': 37, 'command': 18, 'name': 'I3C TARGET WRITE MEMORY', 'result': 'I3C_TARGET_WRITE_MEM_SUCCESS', 'error': 'NO_ERROR'}\n"
     ]
    }
   ],
   "source": [
    "MEMORY_ADDRESS  = 0x0000\n",
    "DATA            = [i%0xFA for i in range(0,1024)]\n",
    "\n",
    "request_result = supernovaTarget.i3cTargetWriteMemory(getId(), MEMORY_ADDRESS, DATA)"
   ]
  },
  {
   "cell_type": "markdown",
   "metadata": {},
   "source": [
    "##### 3.13.1 I3C TARGET WRITE MEMORY\n",
    "\n",
    "The public method ``Supernova.i3cTargetWriteMemory()`` writes the memory of the target Supernova using only USB communication.\n",
    "\n",
    "```python\n",
    "i3cTargetWriteMemory(id, memoryAddr, data)\n",
    "```\n",
    "\n",
    "- ``id: c_uint16``: Identifies the command.\n",
    "- ``memoryAddr: c_uint16``: Address of the memory to start writing.\n",
    "- ``data: list``: Data to write."
   ]
  },
  {
   "cell_type": "code",
   "execution_count": 50,
   "metadata": {},
   "outputs": [
    {
     "name": "stdout",
     "output_type": "stream",
     "text": [
      ">> New message from target SUPERNOVA:\n",
      "{'id': 38, 'command': 18, 'name': 'I3C TARGET WRITE MEMORY', 'result': 'I3C_TARGET_WRITE_MEM_SUCCESS', 'error': 'NO_ERROR'}\n"
     ]
    }
   ],
   "source": [
    "MEMORY_ADDRESS  = 0x0A\n",
    "DATA            = [0xFF for i in range(0,8)]\n",
    "\n",
    "request_result = supernovaTarget.i3cTargetWriteMemory(getId(), MEMORY_ADDRESS, DATA)"
   ]
  },
  {
   "cell_type": "markdown",
   "metadata": {},
   "source": [
    "##### 3.13.2 I3C TARGET READ MEMORY\n",
    "\n",
    "The public method ``Supernova.i3cTargetReadMemory()`` reads the memory of the target Supernova using only USB communication.\n",
    "\n",
    "```python\n",
    "i3cTargetReadMemory(id, memoryAddr, length)\n",
    "```\n",
    "\n",
    "- ``id: c_uint16``: Identifies the command.\n",
    "- ``memoryAddr: c_uint16``: Address of the memory to start reading.\n",
    "- ``length: c_uint16``: Data length the user intends to read."
   ]
  },
  {
   "cell_type": "code",
   "execution_count": 51,
   "metadata": {},
   "outputs": [
    {
     "name": "stdout",
     "output_type": "stream",
     "text": [
      ">> New message from target SUPERNOVA:\n",
      "{'id': 39, 'command': 19, 'name': 'I3C TARGET READ MEMORY', 'result': 'I3C_TARGET_READ_MEM_SUCCESS', 'error': 'NO_ERROR', 'readDataLength': 1024, 'data': [0, 1, 2, 3, 4, 5, 6, 7, 8, 9, 10, 11, 12, 13, 14, 15, 16, 17, 18, 19, 20, 21, 22, 23, 24, 25, 26, 27, 28, 29, 30, 31, 32, 33, 34, 35, 36, 37, 38, 39, 255, 255, 255, 255, 255, 255, 255, 255, 48, 49, 50, 51, 52, 53, 54, 55, 56, 57, 58, 59, 60, 61, 62, 63, 64, 65, 66, 67, 68, 69, 70, 71, 72, 73, 74, 75, 76, 77, 78, 79, 80, 81, 82, 83, 84, 85, 86, 87, 88, 89, 90, 91, 92, 93, 94, 95, 96, 97, 98, 99, 100, 101, 102, 103, 104, 105, 106, 107, 108, 109, 110, 111, 112, 113, 114, 115, 116, 117, 118, 119, 120, 121, 122, 123, 124, 125, 126, 127, 128, 129, 130, 131, 132, 133, 134, 135, 136, 137, 138, 139, 140, 141, 142, 143, 144, 145, 146, 147, 148, 149, 150, 151, 152, 153, 154, 155, 156, 157, 158, 159, 160, 161, 162, 163, 164, 165, 166, 167, 168, 169, 170, 171, 172, 173, 174, 175, 176, 177, 178, 179, 180, 181, 182, 183, 184, 185, 186, 187, 188, 189, 190, 191, 192, 193, 194, 195, 196, 197, 198, 199, 200, 201, 202, 203, 204, 205, 206, 207, 208, 209, 210, 211, 212, 213, 214, 215, 216, 217, 218, 219, 220, 221, 222, 223, 224, 225, 226, 227, 228, 229, 230, 231, 232, 233, 234, 235, 236, 237, 238, 239, 240, 241, 242, 243, 244, 245, 246, 247, 248, 249, 0, 1, 2, 3, 4, 5, 6, 7, 8, 9, 10, 11, 12, 13, 14, 15, 16, 17, 18, 19, 20, 21, 22, 23, 24, 25, 26, 27, 28, 29, 30, 31, 32, 33, 34, 35, 36, 37, 38, 39, 40, 41, 42, 43, 44, 45, 46, 47, 48, 49, 50, 51, 52, 53, 54, 55, 56, 57, 58, 59, 60, 61, 62, 63, 64, 65, 66, 67, 68, 69, 70, 71, 72, 73, 74, 75, 76, 77, 78, 79, 80, 81, 82, 83, 84, 85, 86, 87, 88, 89, 90, 91, 92, 93, 94, 95, 96, 97, 98, 99, 100, 101, 102, 103, 104, 105, 106, 107, 108, 109, 110, 111, 112, 113, 114, 115, 116, 117, 118, 119, 120, 121, 122, 123, 124, 125, 126, 127, 128, 129, 130, 131, 132, 133, 134, 135, 136, 137, 138, 139, 140, 141, 142, 143, 144, 145, 146, 147, 148, 149, 150, 151, 152, 153, 154, 155, 156, 157, 158, 159, 160, 161, 162, 163, 164, 165, 166, 167, 168, 169, 170, 171, 172, 173, 174, 175, 176, 177, 178, 179, 180, 181, 182, 183, 184, 185, 186, 187, 188, 189, 190, 191, 192, 193, 194, 195, 196, 197, 198, 199, 200, 201, 202, 203, 204, 205, 206, 207, 208, 209, 210, 211, 212, 213, 214, 215, 216, 217, 218, 219, 220, 221, 222, 223, 224, 225, 226, 227, 228, 229, 230, 231, 232, 233, 234, 235, 236, 237, 238, 239, 240, 241, 242, 243, 244, 245, 246, 247, 248, 249, 0, 1, 2, 3, 4, 5, 6, 7, 8, 9, 10, 11, 12, 13, 14, 15, 16, 17, 18, 19, 20, 21, 22, 23, 24, 25, 26, 27, 28, 29, 30, 31, 32, 33, 34, 35, 36, 37, 38, 39, 40, 41, 42, 43, 44, 45, 46, 47, 48, 49, 50, 51, 52, 53, 54, 55, 56, 57, 58, 59, 60, 61, 62, 63, 64, 65, 66, 67, 68, 69, 70, 71, 72, 73, 74, 75, 76, 77, 78, 79, 80, 81, 82, 83, 84, 85, 86, 87, 88, 89, 90, 91, 92, 93, 94, 95, 96, 97, 98, 99, 100, 101, 102, 103, 104, 105, 106, 107, 108, 109, 110, 111, 112, 113, 114, 115, 116, 117, 118, 119, 120, 121, 122, 123, 124, 125, 126, 127, 128, 129, 130, 131, 132, 133, 134, 135, 136, 137, 138, 139, 140, 141, 142, 143, 144, 145, 146, 147, 148, 149, 150, 151, 152, 153, 154, 155, 156, 157, 158, 159, 160, 161, 162, 163, 164, 165, 166, 167, 168, 169, 170, 171, 172, 173, 174, 175, 176, 177, 178, 179, 180, 181, 182, 183, 184, 185, 186, 187, 188, 189, 190, 191, 192, 193, 194, 195, 196, 197, 198, 199, 200, 201, 202, 203, 204, 205, 206, 207, 208, 209, 210, 211, 212, 213, 214, 215, 216, 217, 218, 219, 220, 221, 222, 223, 224, 225, 226, 227, 228, 229, 230, 231, 232, 233, 234, 235, 236, 237, 238, 239, 240, 241, 242, 243, 244, 245, 246, 247, 248, 249, 0, 1, 2, 3, 4, 5, 6, 7, 8, 9, 10, 11, 12, 13, 14, 15, 16, 17, 18, 19, 20, 21, 22, 23, 24, 25, 26, 27, 28, 29, 30, 31, 32, 33, 34, 35, 36, 37, 38, 39, 40, 41, 42, 43, 44, 45, 46, 47, 48, 49, 50, 51, 52, 53, 54, 55, 56, 57, 58, 59, 60, 61, 62, 63, 64, 65, 66, 67, 68, 69, 70, 71, 72, 73, 74, 75, 76, 77, 78, 79, 80, 81, 82, 83, 84, 85, 86, 87, 88, 89, 90, 91, 92, 93, 94, 95, 96, 97, 98, 99, 100, 101, 102, 103, 104, 105, 106, 107, 108, 109, 110, 111, 112, 113, 114, 115, 116, 117, 118, 119, 120, 121, 122, 123, 124, 125, 126, 127, 128, 129, 130, 131, 132, 133, 134, 135, 136, 137, 138, 139, 140, 141, 142, 143, 144, 145, 146, 147, 148, 149, 150, 151, 152, 153, 154, 155, 156, 157, 158, 159, 160, 161, 162, 163, 164, 165, 166, 167, 168, 169, 170, 171, 172, 173, 174, 175, 176, 177, 178, 179, 180, 181, 182, 183, 184, 185, 186, 187, 188, 189, 190, 191, 192, 193, 194, 195, 196, 197, 198, 199, 200, 201, 202, 203, 204, 205, 206, 207, 208, 209, 210, 211, 212, 213, 214, 215, 216, 217, 218, 219, 220, 221, 222, 223, 224, 225, 226, 227, 228, 229, 230, 231, 232, 233, 234, 235, 236, 237, 238, 239, 240, 241, 242, 243, 244, 245, 246, 247, 248, 249, 0, 1, 2, 3, 4, 5, 6, 7, 8, 9, 10, 11, 12, 13, 14, 15, 16, 17, 18, 19, 20, 21, 22, 23]}\n"
     ]
    }
   ],
   "source": [
    "MEMORY_ADDRESS  = 0x00\n",
    "DATA_LENGTH     = 1024 # in bytes\n",
    "\n",
    "request_result = supernovaTarget.i3cTargetReadMemory(getId(), MEMORY_ADDRESS, DATA_LENGTH)"
   ]
  },
  {
   "cell_type": "markdown",
   "metadata": {},
   "source": [
    "#### 3.14 I3C WRITE AND READ"
   ]
  },
  {
   "cell_type": "markdown",
   "metadata": {},
   "source": [
    "##### 3.14.1 I3C WRITE INDICATING THE START ADDRESS AND THE DATA"
   ]
  },
  {
   "cell_type": "code",
   "execution_count": 52,
   "metadata": {},
   "outputs": [
    {
     "name": "stdout",
     "output_type": "stream",
     "text": [
      ">> New message from target SUPERNOVA:\n",
      "{'id': 0, 'command': 20, 'name': 'I3C TARGET NOTIFICATION', 'notification_type': 'I3C_TARGET_READ', 'target_address': 8, 'memory_address': 59, 'transfer_length': 8, 'usb_result': 'CMD_SUCCESSFUL', 'manager_result': 'I3C_TARGET_TRANSFER_SUCCESS', 'driver_result': ['NO_ERROR'], 'data': [238, 238, 238, 238, 238, 238, 238, 238]}\n",
      ">> New message from controller SUPERNOVA:\n",
      "{\n",
      "    \"id\": 40,\n",
      "    \"command\": 11,\n",
      "    \"name\": \"I3C TRANSFER\",\n",
      "    \"header\": {\n",
      "        \"tag\": \"RESPONSE_TO_REGULAR_REQUEST\",\n",
      "        \"result\": \"I3C_TRANSFER_SUCCESS\",\n",
      "        \"hasData\": false\n",
      "    },\n",
      "    \"descriptor\": {\n",
      "        \"dataLength\": 0,\n",
      "        \"errors\": [\n",
      "            \"NO_TRANSFER_ERROR\"\n",
      "        ]\n",
      "    },\n",
      "    \"data\": []\n",
      "}\n"
     ]
    }
   ],
   "source": [
    "TARGET_ADDR     = 0x08\n",
    "MODE            = TransferMode.I3C_SDR\n",
    "PUSH_PULL_RATE  = I3cPushPullTransferRate.PUSH_PULL_3_75_MHZ\n",
    "OPEN_DRAIN_RATE = I3cOpenDrainTransferRate.OPEN_DRAIN_100_KHZ\n",
    "REG_ADDR        = [0x3B] # register 59 = byte 236\n",
    "DATA            = [0xEE for i in range(8)]\n",
    "\n",
    "request_result = supernovaController.i3cWrite(getId(), \n",
    "                                    TARGET_ADDR, \n",
    "                                    MODE, \n",
    "                                    PUSH_PULL_RATE, \n",
    "                                    OPEN_DRAIN_RATE, \n",
    "                                    REG_ADDR, \n",
    "                                    DATA)"
   ]
  },
  {
   "cell_type": "markdown",
   "metadata": {},
   "source": [
    "##### 3.14.2 I3C READ WITHOUT INDICATING THE START ADDRESS\n",
    "\n",
    "The target will assume that the start of the new operation is the end of the previous one"
   ]
  },
  {
   "cell_type": "code",
   "execution_count": 53,
   "metadata": {},
   "outputs": [
    {
     "name": "stdout",
     "output_type": "stream",
     "text": [
      ">> New message from controller SUPERNOVA:\n",
      "{\n",
      "    \"id\": 41,\n",
      "    \"command\": 11,\n",
      "    \"name\": \"I3C TRANSFER\",\n",
      "    \"header\": {\n",
      "        \"tag\": \"RESPONSE_TO_REGULAR_REQUEST\",\n",
      "        \"result\": \"I3C_TRANSFER_SUCCESS\",\n",
      "        \"hasData\": true\n",
      "    },\n",
      "    \"descriptor\": {\n",
      "        \"dataLength\": 4,\n",
      "        \"errors\": [\n",
      "            \"NO_TRANSFER_ERROR\"\n",
      "        ]\n",
      "    },\n",
      "    \"data\": [\n",
      "        244,\n",
      "        245,\n",
      "        246,\n",
      "        247\n",
      "    ]\n",
      "}\n",
      ">> New message from target SUPERNOVA:\n",
      "{'id': 0, 'command': 20, 'name': 'I3C TARGET NOTIFICATION', 'notification_type': 'I3C_TARGET_WRITE', 'target_address': 8, 'memory_address': 61, 'transfer_length': 4, 'usb_result': 'CMD_SUCCESSFUL', 'manager_result': 'I3C_TARGET_TRANSFER_SUCCESS', 'driver_result': ['ABORT_CONDITION'], 'data': [244, 245, 246, 247]}\n"
     ]
    }
   ],
   "source": [
    "TARGET_ADDR     = 0x08\n",
    "MODE            = TransferMode.I3C_SDR\n",
    "PUSH_PULL_RATE  = I3cPushPullTransferRate.PUSH_PULL_3_75_MHZ\n",
    "OPEN_DRAIN_RATE = I3cOpenDrainTransferRate.OPEN_DRAIN_100_KHZ\n",
    "REG_ADDR        = []\n",
    "LENGTH          = 4\n",
    "\n",
    "request_result = supernovaController.i3cRead(getId(), \n",
    "                                    TARGET_ADDR, \n",
    "                                    MODE, \n",
    "                                    PUSH_PULL_RATE, \n",
    "                                    OPEN_DRAIN_RATE, \n",
    "                                    REG_ADDR, \n",
    "                                    LENGTH)"
   ]
  },
  {
   "cell_type": "markdown",
   "metadata": {},
   "source": [
    "##### 3.14.3 I3C WRITE-READ\n",
    "\n",
    "A write followed by a read with a RS in between"
   ]
  },
  {
   "cell_type": "code",
   "execution_count": 54,
   "metadata": {},
   "outputs": [
    {
     "name": "stdout",
     "output_type": "stream",
     "text": [
      ">> New message from controller SUPERNOVA:\n",
      "{\n",
      "    \"id\": 42,\n",
      "    \"command\": 11,\n",
      "    \"name\": \"I3C TRANSFER\",\n",
      "    \"header\": {\n",
      "        \"tag\": \"RESPONSE_TO_REGULAR_REQUEST\",\n",
      "        \"result\": \"I3C_TRANSFER_SUCCESS\",\n",
      "        \"hasData\": true\n",
      "    },\n",
      "    \"descriptor\": {\n",
      "        \"dataLength\": 8,\n",
      "        \"errors\": [\n",
      "            \"NO_TRANSFER_ERROR\"\n",
      "        ]\n",
      "    },\n",
      "    \"data\": [\n",
      "        0,\n",
      "        1,\n",
      "        2,\n",
      "        3,\n",
      "        4,\n",
      "        5,\n",
      "        6,\n",
      "        7\n",
      "    ]\n",
      "}\n",
      ">> New message from target SUPERNOVA:\n",
      "{'id': 0, 'command': 20, 'name': 'I3C TARGET NOTIFICATION', 'notification_type': 'I3C_TARGET_WRITE', 'target_address': 8, 'memory_address': 125, 'transfer_length': 8, 'usb_result': 'CMD_SUCCESSFUL', 'manager_result': 'I3C_TARGET_TRANSFER_SUCCESS', 'driver_result': ['ABORT_CONDITION'], 'data': [0, 1, 2, 3, 4, 5, 6, 7]}\n"
     ]
    }
   ],
   "source": [
    "TARGET_ADDR     = 0x08\n",
    "MODE            = TransferMode.I3C_SDR\n",
    "PUSH_PULL_RATE  = I3cPushPullTransferRate.PUSH_PULL_3_75_MHZ\n",
    "OPEN_DRAIN_RATE = I3cOpenDrainTransferRate.OPEN_DRAIN_100_KHZ\n",
    "REG_ADDR        = [0x7D] # register 125 = byte 500\n",
    "LENGTH          = 8 # in bytes\n",
    "\n",
    "request_result = supernovaController.i3cRead(getId(), \n",
    "                                    TARGET_ADDR, \n",
    "                                    MODE, \n",
    "                                    PUSH_PULL_RATE, \n",
    "                                    OPEN_DRAIN_RATE, \n",
    "                                    REG_ADDR, \n",
    "                                    LENGTH)"
   ]
  },
  {
   "cell_type": "markdown",
   "metadata": {},
   "source": [
    "##### 3.14.4 I3C WRITE INDICATING THE START ADDRESS FOLLOWED BY A READ WITHOUT ADDRESS"
   ]
  },
  {
   "cell_type": "code",
   "execution_count": 55,
   "metadata": {},
   "outputs": [
    {
     "name": "stdout",
     "output_type": "stream",
     "text": [
      ">> New message from target SUPERNOVA:\n",
      "{'id': 0, 'command': 20, 'name': 'I3C TARGET NOTIFICATION', 'notification_type': 'I3C_TARGET_READ', 'target_address': 8, 'memory_address': 254, 'transfer_length': 0, 'usb_result': 'CMD_SUCCESSFUL', 'manager_result': 'I3C_TARGET_TRANSFER_SUCCESS', 'driver_result': ['NO_ERROR'], 'data': []}\n",
      ">> New message from controller SUPERNOVA:\n",
      "{\n",
      "    \"id\": 43,\n",
      "    \"command\": 11,\n",
      "    \"name\": \"I3C TRANSFER\",\n",
      "    \"header\": {\n",
      "        \"tag\": \"RESPONSE_TO_REGULAR_REQUEST\",\n",
      "        \"result\": \"I3C_TRANSFER_SUCCESS\",\n",
      "        \"hasData\": false\n",
      "    },\n",
      "    \"descriptor\": {\n",
      "        \"dataLength\": 0,\n",
      "        \"errors\": [\n",
      "            \"NO_TRANSFER_ERROR\"\n",
      "        ]\n",
      "    },\n",
      "    \"data\": []\n",
      "}\n"
     ]
    }
   ],
   "source": [
    "TARGET_ADDR     = 0x08\n",
    "MODE            = TransferMode.I3C_SDR\n",
    "PUSH_PULL_RATE  = I3cPushPullTransferRate.PUSH_PULL_3_75_MHZ\n",
    "OPEN_DRAIN_RATE = I3cOpenDrainTransferRate.OPEN_DRAIN_100_KHZ\n",
    "REG_ADDR        = [0xFE] # register 254 = byte 1016  \n",
    "DATA            = []\n",
    "\n",
    "request_result = supernovaController.i3cWrite(getId(), \n",
    "                                    TARGET_ADDR, \n",
    "                                    MODE, \n",
    "                                    PUSH_PULL_RATE, \n",
    "                                    OPEN_DRAIN_RATE, \n",
    "                                    REG_ADDR, \n",
    "                                    DATA)"
   ]
  },
  {
   "cell_type": "code",
   "execution_count": 56,
   "metadata": {},
   "outputs": [
    {
     "name": "stdout",
     "output_type": "stream",
     "text": [
      ">> New message from target SUPERNOVA:\n",
      "{'id': 0, 'command': 20, 'name': 'I3C TARGET NOTIFICATION', 'notification_type': 'I3C_TARGET_WRITE', 'target_address': 8, 'memory_address': 254, 'transfer_length': 4, 'usb_result': 'CMD_SUCCESSFUL', 'manager_result': 'I3C_TARGET_TRANSFER_SUCCESS', 'driver_result': ['ABORT_CONDITION'], 'data': [16, 17, 18, 19]}\n",
      ">> New message from controller SUPERNOVA:\n",
      "{\n",
      "    \"id\": 44,\n",
      "    \"command\": 11,\n",
      "    \"name\": \"I3C TRANSFER\",\n",
      "    \"header\": {\n",
      "        \"tag\": \"RESPONSE_TO_REGULAR_REQUEST\",\n",
      "        \"result\": \"I3C_TRANSFER_SUCCESS\",\n",
      "        \"hasData\": true\n",
      "    },\n",
      "    \"descriptor\": {\n",
      "        \"dataLength\": 4,\n",
      "        \"errors\": [\n",
      "            \"NO_TRANSFER_ERROR\"\n",
      "        ]\n",
      "    },\n",
      "    \"data\": [\n",
      "        16,\n",
      "        17,\n",
      "        18,\n",
      "        19\n",
      "    ]\n",
      "}\n"
     ]
    }
   ],
   "source": [
    "TARGET_ADDR     = 0x08\n",
    "MODE            = TransferMode.I3C_SDR\n",
    "PUSH_PULL_RATE  = I3cPushPullTransferRate.PUSH_PULL_3_75_MHZ\n",
    "OPEN_DRAIN_RATE = I3cOpenDrainTransferRate.OPEN_DRAIN_100_KHZ\n",
    "REG_ADDR        = []\n",
    "LENGTH          = 4\n",
    "\n",
    "request_result = supernovaController.i3cRead(getId(), \n",
    "                                    TARGET_ADDR, \n",
    "                                    MODE, \n",
    "                                    PUSH_PULL_RATE, \n",
    "                                    OPEN_DRAIN_RATE, \n",
    "                                    REG_ADDR, \n",
    "                                    LENGTH)"
   ]
  },
  {
   "cell_type": "markdown",
   "metadata": {},
   "source": [
    "#### 3.14.5 BORDER CASES"
   ]
  },
  {
   "cell_type": "markdown",
   "metadata": {},
   "source": [
    "##### 3.14.5.1 THE TRANSFER STARTS IN AN ALLOWED ADDRESS BUT TRIES TO SURPASS THE MEMORY RANGE ON THE GO\n",
    "\n",
    "It will only modify the bytes in the allowed range and discard the rest. The end of the transfer is taken as the end of the memory"
   ]
  },
  {
   "cell_type": "code",
   "execution_count": 57,
   "metadata": {},
   "outputs": [
    {
     "name": "stdout",
     "output_type": "stream",
     "text": [
      ">> New message from controller SUPERNOVA:\n",
      "{\n",
      "    \"id\": 45,\n",
      "    \"command\": 11,\n",
      "    \"name\": \"I3C TRANSFER\",\n",
      "    \"header\": {\n",
      "        \"tag\": \"RESPONSE_TO_REGULAR_REQUEST\",\n",
      "        \"result\": \"I3C_TRANSFER_SUCCESS\",\n",
      "        \"hasData\": false\n",
      "    },\n",
      "    \"descriptor\": {\n",
      "        \"dataLength\": 0,\n",
      "        \"errors\": [\n",
      "            \"NO_TRANSFER_ERROR\"\n",
      "        ]\n",
      "    },\n",
      "    \"data\": []\n",
      "}\n",
      ">> New message from target SUPERNOVA:\n",
      "{'id': 0, 'command': 20, 'name': 'I3C TARGET NOTIFICATION', 'notification_type': 'I3C_TARGET_READ', 'target_address': 8, 'memory_address': 253, 'transfer_length': 0, 'usb_result': 'CMD_SUCCESSFUL', 'manager_result': 'I3C_TARGET_TRANSFER_SUCCESS', 'driver_result': ['NO_ERROR'], 'data': []}\n"
     ]
    }
   ],
   "source": [
    "TARGET_ADDR     = 0x08\n",
    "MODE            = TransferMode.I3C_SDR\n",
    "PUSH_PULL_RATE  = I3cPushPullTransferRate.PUSH_PULL_3_75_MHZ\n",
    "OPEN_DRAIN_RATE = I3cOpenDrainTransferRate.OPEN_DRAIN_100_KHZ\n",
    "REG_ADDR        = [0xFD] # register 253 = byte 1012\n",
    "DATA            = []\n",
    "\n",
    "request_result = supernovaController.i3cWrite(getId(), \n",
    "                                    TARGET_ADDR, \n",
    "                                    MODE, \n",
    "                                    PUSH_PULL_RATE, \n",
    "                                    OPEN_DRAIN_RATE, \n",
    "                                    REG_ADDR, \n",
    "                                    DATA)"
   ]
  },
  {
   "cell_type": "code",
   "execution_count": 58,
   "metadata": {},
   "outputs": [
    {
     "name": "stdout",
     "output_type": "stream",
     "text": [
      ">> New message from controller SUPERNOVA:\n",
      "{\n",
      "    \"id\": 46,\n",
      "    \"command\": 11,\n",
      "    \"name\": \"I3C TRANSFER\",\n",
      "    \"header\": {\n",
      "        \"tag\": \"RESPONSE_TO_REGULAR_REQUEST\",\n",
      "        \"result\": \"I3C_TRANSFER_SUCCESS\",\n",
      "        \"hasData\": true\n",
      "    },\n",
      "    \"descriptor\": {\n",
      "        \"dataLength\": 40,\n",
      "        \"errors\": [\n",
      "            \"NO_TRANSFER_ERROR\"\n",
      "        ]\n",
      "    },\n",
      "    \"data\": [\n",
      "        12,\n",
      "        13,\n",
      "        14,\n",
      "        15,\n",
      "        16,\n",
      "        17,\n",
      "        18,\n",
      "        19,\n",
      "        20,\n",
      "        21,\n",
      "        22,\n",
      "        23,\n",
      "        0,\n",
      "        0,\n",
      "        0,\n",
      "        0,\n",
      "        0,\n",
      "        0,\n",
      "        0,\n",
      "        0,\n",
      "        0,\n",
      "        0,\n",
      "        0,\n",
      "        0,\n",
      "        0,\n",
      "        0,\n",
      "        0,\n",
      "        0,\n",
      "        0,\n",
      "        0,\n",
      "        0,\n",
      "        0,\n",
      "        0,\n",
      "        0,\n",
      "        0,\n",
      "        0,\n",
      "        0,\n",
      "        0,\n",
      "        0,\n",
      "        0\n",
      "    ]\n",
      "}\n",
      ">> New message from target SUPERNOVA:\n",
      "{'id': 0, 'command': 20, 'name': 'I3C TARGET NOTIFICATION', 'notification_type': 'I3C_TARGET_WRITE', 'target_address': 8, 'memory_address': 253, 'transfer_length': 12, 'usb_result': 'CMD_SUCCESSFUL', 'manager_result': 'I3C_TARGET_TRANSFER_SUCCESS', 'driver_result': ['NO_ERROR'], 'data': [12, 13, 14, 15, 16, 17, 18, 19, 20, 21, 22, 23]}\n"
     ]
    }
   ],
   "source": [
    "TARGET_ADDR     = 0x08\n",
    "MODE            = TransferMode.I3C_SDR\n",
    "PUSH_PULL_RATE  = I3cPushPullTransferRate.PUSH_PULL_3_75_MHZ\n",
    "OPEN_DRAIN_RATE = I3cOpenDrainTransferRate.OPEN_DRAIN_100_KHZ\n",
    "REG_ADDR        = []\n",
    "LENGTH          = 40\n",
    "\n",
    "request_result = supernovaController.i3cRead(getId(), \n",
    "                                    TARGET_ADDR, \n",
    "                                    MODE, \n",
    "                                    PUSH_PULL_RATE, \n",
    "                                    OPEN_DRAIN_RATE, \n",
    "                                    REG_ADDR, \n",
    "                                    LENGTH)"
   ]
  },
  {
   "cell_type": "markdown",
   "metadata": {},
   "source": [
    "#### 3.15 LONG TRANSFERS"
   ]
  },
  {
   "cell_type": "markdown",
   "metadata": {},
   "source": [
    "##### 3.15.1 I3C WRITE INDICATING THE START ADDRESS AND THE DATA"
   ]
  },
  {
   "cell_type": "code",
   "execution_count": 59,
   "metadata": {},
   "outputs": [
    {
     "name": "stdout",
     "output_type": "stream",
     "text": [
      ">> New message from controller SUPERNOVA:\n",
      "{\n",
      "    \"id\": 47,\n",
      "    \"command\": 11,\n",
      "    \"name\": \"I3C TRANSFER\",\n",
      "    \"header\": {\n",
      "        \"tag\": \"RESPONSE_TO_REGULAR_REQUEST\",\n",
      "        \"result\": \"I3C_TRANSFER_SUCCESS\",\n",
      "        \"hasData\": false\n",
      "    },\n",
      "    \"descriptor\": {\n",
      "        \"dataLength\": 0,\n",
      "        \"errors\": [\n",
      "            \"NO_TRANSFER_ERROR\"\n",
      "        ]\n",
      "    },\n",
      "    \"data\": []\n",
      "}\n",
      ">> New message from target SUPERNOVA:\n",
      "{'id': 0, 'command': 20, 'name': 'I3C TARGET NOTIFICATION', 'notification_type': 'I3C_TARGET_READ', 'target_address': 8, 'memory_address': 0, 'transfer_length': 255, 'usb_result': 'CMD_SUCCESSFUL', 'manager_result': 'I3C_TARGET_TRANSFER_SUCCESS', 'driver_result': ['MRL_REACHED'], 'data': [71, 71, 71, 71, 71, 71, 71, 71, 71, 71, 71, 71, 71, 71, 71, 71, 71, 71, 71, 71, 71, 71, 71, 71, 71, 71, 71, 71, 71, 71, 71, 71, 71, 71, 71, 71, 71, 71, 71, 71, 71, 71, 71, 71, 71, 71, 71, 71, 71, 71, 71, 71, 71, 71, 71, 71, 71, 71, 71, 71, 71, 71, 71, 71, 71, 71, 71, 71, 71, 71, 71, 71, 71, 71, 71, 71, 71, 71, 71, 71, 71, 71, 71, 71, 71, 71, 71, 71, 71, 71, 71, 71, 71, 71, 71, 71, 71, 71, 71, 71, 71, 71, 71, 71, 71, 71, 71, 71, 71, 71, 71, 71, 71, 71, 71, 71, 71, 71, 71, 71, 71, 71, 71, 71, 71, 71, 71, 71, 71, 71, 71, 71, 71, 71, 71, 71, 71, 71, 71, 71, 71, 71, 71, 71, 71, 71, 71, 71, 71, 71, 71, 71, 71, 71, 71, 71, 71, 71, 71, 71, 71, 71, 71, 71, 71, 71, 71, 71, 71, 71, 71, 71, 71, 71, 71, 71, 71, 71, 71, 71, 71, 71, 71, 71, 71, 71, 71, 71, 71, 71, 71, 71, 71, 71, 71, 71, 71, 71, 71, 71, 71, 71, 71, 71, 71, 71, 71, 71, 71, 71, 71, 71, 71, 71, 71, 71, 71, 71, 71, 71, 71, 71, 71, 71, 71, 71, 71, 71, 71, 71, 71, 71, 71, 71, 71, 71, 71, 71, 71, 71, 71, 71, 71, 71, 71, 71, 71, 71, 71, 71, 71, 71, 71, 71, 7]}\n"
     ]
    }
   ],
   "source": [
    "TARGET_ADDR     = 0x08\n",
    "MODE            = TransferMode.I3C_SDR\n",
    "PUSH_PULL_RATE  = I3cPushPullTransferRate.PUSH_PULL_3_75_MHZ\n",
    "OPEN_DRAIN_RATE = I3cOpenDrainTransferRate.OPEN_DRAIN_100_KHZ\n",
    "REG_ADDR        = [0x00] \n",
    "DATA            = [0x47 for i in range(254)] + [0x07] + [0x37 for i in range(769)]\n",
    "\n",
    "request_result = supernovaController.i3cWrite(getId(), \n",
    "                                    TARGET_ADDR, \n",
    "                                    MODE, \n",
    "                                    PUSH_PULL_RATE, \n",
    "                                    OPEN_DRAIN_RATE, \n",
    "                                    REG_ADDR, \n",
    "                                    DATA)"
   ]
  },
  {
   "cell_type": "markdown",
   "metadata": {},
   "source": [
    "##### 3.15.2 I3C WRITE-READ\n",
    "\n",
    "A write followed by a read with a RS in between"
   ]
  },
  {
   "cell_type": "code",
   "execution_count": 60,
   "metadata": {},
   "outputs": [
    {
     "name": "stdout",
     "output_type": "stream",
     "text": [
      ">> New message from controller SUPERNOVA:\n",
      "{\n",
      "    \"id\": 48,\n",
      "    \"command\": 11,\n",
      "    \"name\": \"I3C TRANSFER\",\n",
      "    \"header\": {\n",
      "        \"tag\": \"RESPONSE_TO_REGULAR_REQUEST\",\n",
      "        \"result\": \"I3C_TRANSFER_SUCCESS\",\n",
      "        \"hasData\": true\n",
      "    },\n",
      "    \"descriptor\": {\n",
      "        \"dataLength\": 255,\n",
      "        \"errors\": [\n",
      "            \"NO_TRANSFER_ERROR\"\n",
      "        ]\n",
      "    },\n",
      "    \"data\": [\n",
      "        71,\n",
      "        71,\n",
      "        71,\n",
      "        71,\n",
      "        71,\n",
      "        71,\n",
      "        71,\n",
      "        71,\n",
      "        71,\n",
      "        71,\n",
      "        71,\n",
      "        71,\n",
      "        71,\n",
      "        71,\n",
      "        71,\n",
      "        71,\n",
      "        71,\n",
      "        71,\n",
      "        71,\n",
      "        71,\n",
      "        71,\n",
      "        71,\n",
      "        71,\n",
      "        71,\n",
      "        71,\n",
      "        71,\n",
      "        71,\n",
      "        71,\n",
      "        71,\n",
      "        71,\n",
      "        71,\n",
      "        71,\n",
      "        71,\n",
      "        71,\n",
      "        71,\n",
      "        71,\n",
      "        71,\n",
      "        71,\n",
      "        71,\n",
      "        71,\n",
      "        71,\n",
      "        71,\n",
      "        71,\n",
      "        71,\n",
      "        71,\n",
      "        71,\n",
      "        71,\n",
      "        71,\n",
      "        71,\n",
      "        71,\n",
      "        71,\n",
      "        71,\n",
      "        71,\n",
      "        71,\n",
      "        71,\n",
      "        71,\n",
      "        71,\n",
      "        71,\n",
      "        71,\n",
      "        71,\n",
      "        71,\n",
      "        71,\n",
      "        71,\n",
      "        71,\n",
      "        71,\n",
      "        71,\n",
      "        71,\n",
      "        71,\n",
      "        71,\n",
      "        71,\n",
      "        71,\n",
      "        71,\n",
      "        71,\n",
      "        71,\n",
      "        71,\n",
      "        71,\n",
      "        71,\n",
      "        71,\n",
      "        71,\n",
      "        71,\n",
      "        71,\n",
      "        71,\n",
      "        71,\n",
      "        71,\n",
      "        71,\n",
      "        71,\n",
      "        71,\n",
      "        71,\n",
      "        71,\n",
      "        71,\n",
      "        71,\n",
      "        71,\n",
      "        71,\n",
      "        71,\n",
      "        71,\n",
      "        71,\n",
      "        71,\n",
      "        71,\n",
      "        71,\n",
      "        71,\n",
      "        71,\n",
      "        71,\n",
      "        71,\n",
      "        71,\n",
      "        71,\n",
      "        71,\n",
      "        71,\n",
      "        71,\n",
      "        71,\n",
      "        71,\n",
      "        71,\n",
      "        71,\n",
      "        71,\n",
      "        71,\n",
      "        71,\n",
      "        71,\n",
      "        71,\n",
      "        71,\n",
      "        71,\n",
      "        71,\n",
      "        71,\n",
      "        71,\n",
      "        71,\n",
      "        71,\n",
      "        71,\n",
      "        71,\n",
      "        71,\n",
      "        71,\n",
      "        71,\n",
      "        71,\n",
      "        71,\n",
      "        71,\n",
      "        71,\n",
      "        71,\n",
      "        71,\n",
      "        71,\n",
      "        71,\n",
      "        71,\n",
      "        71,\n",
      "        71,\n",
      "        71,\n",
      "        71,\n",
      "        71,\n",
      "        71,\n",
      "        71,\n",
      "        71,\n",
      "        71,\n",
      "        71,\n",
      "        71,\n",
      "        71,\n",
      "        71,\n",
      "        71,\n",
      "        71,\n",
      "        71,\n",
      "        71,\n",
      "        71,\n",
      "        71,\n",
      "        71,\n",
      "        71,\n",
      "        71,\n",
      "        71,\n",
      "        71,\n",
      "        71,\n",
      "        71,\n",
      "        71,\n",
      "        71,\n",
      "        71,\n",
      "        71,\n",
      "        71,\n",
      "        71,\n",
      "        71,\n",
      "        71,\n",
      "        71,\n",
      "        71,\n",
      "        71,\n",
      "        71,\n",
      "        71,\n",
      "        71,\n",
      "        71,\n",
      "        71,\n",
      "        71,\n",
      "        71,\n",
      "        71,\n",
      "        71,\n",
      "        71,\n",
      "        71,\n",
      "        71,\n",
      "        71,\n",
      "        71,\n",
      "        71,\n",
      "        71,\n",
      "        71,\n",
      "        71,\n",
      "        71,\n",
      "        71,\n",
      "        71,\n",
      "        71,\n",
      "        71,\n",
      "        71,\n",
      "        71,\n",
      "        71,\n",
      "        71,\n",
      "        71,\n",
      "        71,\n",
      "        71,\n",
      "        71,\n",
      "        71,\n",
      "        71,\n",
      "        71,\n",
      "        71,\n",
      "        71,\n",
      "        71,\n",
      "        71,\n",
      "        71,\n",
      "        71,\n",
      "        71,\n",
      "        71,\n",
      "        71,\n",
      "        71,\n",
      "        71,\n",
      "        71,\n",
      "        71,\n",
      "        71,\n",
      "        71,\n",
      "        71,\n",
      "        71,\n",
      "        71,\n",
      "        71,\n",
      "        71,\n",
      "        71,\n",
      "        71,\n",
      "        71,\n",
      "        71,\n",
      "        71,\n",
      "        71,\n",
      "        71,\n",
      "        71,\n",
      "        71,\n",
      "        71,\n",
      "        71,\n",
      "        71,\n",
      "        71,\n",
      "        71,\n",
      "        71,\n",
      "        71,\n",
      "        71,\n",
      "        71,\n",
      "        71,\n",
      "        71,\n",
      "        71,\n",
      "        71,\n",
      "        71,\n",
      "        71,\n",
      "        71,\n",
      "        7\n",
      "    ]\n",
      "}\n",
      ">> New message from target SUPERNOVA:\n",
      "{'id': 0, 'command': 20, 'name': 'I3C TARGET NOTIFICATION', 'notification_type': 'I3C_TARGET_WRITE', 'target_address': 8, 'memory_address': 0, 'transfer_length': 255, 'usb_result': 'CMD_SUCCESSFUL', 'manager_result': 'I3C_TARGET_TRANSFER_SUCCESS', 'driver_result': ['ABORT_CONDITION'], 'data': [71, 71, 71, 71, 71, 71, 71, 71, 71, 71, 71, 71, 71, 71, 71, 71, 71, 71, 71, 71, 71, 71, 71, 71, 71, 71, 71, 71, 71, 71, 71, 71, 71, 71, 71, 71, 71, 71, 71, 71, 71, 71, 71, 71, 71, 71, 71, 71, 71, 71, 71, 71, 71, 71, 71, 71, 71, 71, 71, 71, 71, 71, 71, 71, 71, 71, 71, 71, 71, 71, 71, 71, 71, 71, 71, 71, 71, 71, 71, 71, 71, 71, 71, 71, 71, 71, 71, 71, 71, 71, 71, 71, 71, 71, 71, 71, 71, 71, 71, 71, 71, 71, 71, 71, 71, 71, 71, 71, 71, 71, 71, 71, 71, 71, 71, 71, 71, 71, 71, 71, 71, 71, 71, 71, 71, 71, 71, 71, 71, 71, 71, 71, 71, 71, 71, 71, 71, 71, 71, 71, 71, 71, 71, 71, 71, 71, 71, 71, 71, 71, 71, 71, 71, 71, 71, 71, 71, 71, 71, 71, 71, 71, 71, 71, 71, 71, 71, 71, 71, 71, 71, 71, 71, 71, 71, 71, 71, 71, 71, 71, 71, 71, 71, 71, 71, 71, 71, 71, 71, 71, 71, 71, 71, 71, 71, 71, 71, 71, 71, 71, 71, 71, 71, 71, 71, 71, 71, 71, 71, 71, 71, 71, 71, 71, 71, 71, 71, 71, 71, 71, 71, 71, 71, 71, 71, 71, 71, 71, 71, 71, 71, 71, 71, 71, 71, 71, 71, 71, 71, 71, 71, 71, 71, 71, 71, 71, 71, 71, 71, 71, 71, 71, 71, 71, 7]}\n"
     ]
    }
   ],
   "source": [
    "TARGET_ADDR     = 0x08\n",
    "MODE            = TransferMode.I3C_SDR\n",
    "PUSH_PULL_RATE  = I3cPushPullTransferRate.PUSH_PULL_3_75_MHZ\n",
    "OPEN_DRAIN_RATE = I3cOpenDrainTransferRate.OPEN_DRAIN_100_KHZ\n",
    "REG_ADDR        = [0x00] \n",
    "LENGTH          = 255 # in bytes\n",
    "\n",
    "request_result = supernovaController.i3cRead(getId(), \n",
    "                                    TARGET_ADDR, \n",
    "                                    MODE, \n",
    "                                    PUSH_PULL_RATE, \n",
    "                                    OPEN_DRAIN_RATE, \n",
    "                                    REG_ADDR, \n",
    "                                    LENGTH)"
   ]
  },
  {
   "cell_type": "markdown",
   "metadata": {},
   "source": [
    "##### 3.15.3 I3C WRITE INDICATING THE START ADDRESS FOLLOWED BY A READ WITHOUT ADDRESS"
   ]
  },
  {
   "cell_type": "code",
   "execution_count": 61,
   "metadata": {},
   "outputs": [
    {
     "name": "stdout",
     "output_type": "stream",
     "text": [
      ">> New message from controller SUPERNOVA:\n",
      "{\n",
      "    \"id\": 49,\n",
      "    \"command\": 11,\n",
      "    \"name\": \"I3C TRANSFER\",\n",
      "    \"header\": {\n",
      "        \"tag\": \"RESPONSE_TO_REGULAR_REQUEST\",\n",
      "        \"result\": \"I3C_TRANSFER_SUCCESS\",\n",
      "        \"hasData\": false\n",
      "    },\n",
      "    \"descriptor\": {\n",
      "        \"dataLength\": 0,\n",
      "        \"errors\": [\n",
      "            \"NO_TRANSFER_ERROR\"\n",
      "        ]\n",
      "    },\n",
      "    \"data\": []\n",
      "}\n",
      ">> New message from target SUPERNOVA:\n",
      "{'id': 0, 'command': 20, 'name': 'I3C TARGET NOTIFICATION', 'notification_type': 'I3C_TARGET_READ', 'target_address': 8, 'memory_address': 0, 'transfer_length': 0, 'usb_result': 'CMD_SUCCESSFUL', 'manager_result': 'I3C_TARGET_TRANSFER_SUCCESS', 'driver_result': ['NO_ERROR'], 'data': []}\n"
     ]
    }
   ],
   "source": [
    "TARGET_ADDR     = 0x08\n",
    "MODE            = TransferMode.I3C_SDR\n",
    "PUSH_PULL_RATE  = I3cPushPullTransferRate.PUSH_PULL_3_75_MHZ\n",
    "OPEN_DRAIN_RATE = I3cOpenDrainTransferRate.OPEN_DRAIN_100_KHZ\n",
    "REG_ADDR        = [0x00] \n",
    "DATA            = []\n",
    "\n",
    "request_result = supernovaController.i3cWrite(getId(), \n",
    "                                    TARGET_ADDR, \n",
    "                                    MODE, \n",
    "                                    PUSH_PULL_RATE, \n",
    "                                    OPEN_DRAIN_RATE, \n",
    "                                    REG_ADDR, \n",
    "                                    DATA)"
   ]
  },
  {
   "cell_type": "code",
   "execution_count": 62,
   "metadata": {},
   "outputs": [
    {
     "name": "stdout",
     "output_type": "stream",
     "text": [
      ">> New message from controller SUPERNOVA:\n",
      "{\n",
      "    \"id\": 50,\n",
      "    \"command\": 11,\n",
      "    \"name\": \"I3C TRANSFER\",\n",
      "    \"header\": {\n",
      "        \"tag\": \"RESPONSE_TO_REGULAR_REQUEST\",\n",
      "        \"result\": \"I3C_TRANSFER_SUCCESS\",\n",
      "        \"hasData\": true\n",
      "    },\n",
      "    \"descriptor\": {\n",
      "        \"dataLength\": 255,\n",
      "        \"errors\": [\n",
      "            \"NO_TRANSFER_ERROR\"\n",
      "        ]\n",
      "    },\n",
      "    \"data\": [\n",
      "        71,\n",
      "        71,\n",
      "        71,\n",
      "        71,\n",
      "        71,\n",
      "        71,\n",
      "        71,\n",
      "        71,\n",
      "        71,\n",
      "        71,\n",
      "        71,\n",
      "        71,\n",
      "        71,\n",
      "        71,\n",
      "        71,\n",
      "        71,\n",
      "        71,\n",
      "        71,\n",
      "        71,\n",
      "        71,\n",
      "        71,\n",
      "        71,\n",
      "        71,\n",
      "        71,\n",
      "        71,\n",
      "        71,\n",
      "        71,\n",
      "        71,\n",
      "        71,\n",
      "        71,\n",
      "        71,\n",
      "        71,\n",
      "        71,\n",
      "        71,\n",
      "        71,\n",
      "        71,\n",
      "        71,\n",
      "        71,\n",
      "        71,\n",
      "        71,\n",
      "        71,\n",
      "        71,\n",
      "        71,\n",
      "        71,\n",
      "        71,\n",
      "        71,\n",
      "        71,\n",
      "        71,\n",
      "        71,\n",
      "        71,\n",
      "        71,\n",
      "        71,\n",
      "        71,\n",
      "        71,\n",
      "        71,\n",
      "        71,\n",
      "        71,\n",
      "        71,\n",
      "        71,\n",
      "        71,\n",
      "        71,\n",
      "        71,\n",
      "        71,\n",
      "        71,\n",
      "        71,\n",
      "        71,\n",
      "        71,\n",
      "        71,\n",
      "        71,\n",
      "        71,\n",
      "        71,\n",
      "        71,\n",
      "        71,\n",
      "        71,\n",
      "        71,\n",
      "        71,\n",
      "        71,\n",
      "        71,\n",
      "        71,\n",
      "        71,\n",
      "        71,\n",
      "        71,\n",
      "        71,\n",
      "        71,\n",
      "        71,\n",
      "        71,\n",
      "        71,\n",
      "        71,\n",
      "        71,\n",
      "        71,\n",
      "        71,\n",
      "        71,\n",
      "        71,\n",
      "        71,\n",
      "        71,\n",
      "        71,\n",
      "        71,\n",
      "        71,\n",
      "        71,\n",
      "        71,\n",
      "        71,\n",
      "        71,\n",
      "        71,\n",
      "        71,\n",
      "        71,\n",
      "        71,\n",
      "        71,\n",
      "        71,\n",
      "        71,\n",
      "        71,\n",
      "        71,\n",
      "        71,\n",
      "        71,\n",
      "        71,\n",
      "        71,\n",
      "        71,\n",
      "        71,\n",
      "        71,\n",
      "        71,\n",
      "        71,\n",
      "        71,\n",
      "        71,\n",
      "        71,\n",
      "        71,\n",
      "        71,\n",
      "        71,\n",
      "        71,\n",
      "        71,\n",
      "        71,\n",
      "        71,\n",
      "        71,\n",
      "        71,\n",
      "        71,\n",
      "        71,\n",
      "        71,\n",
      "        71,\n",
      "        71,\n",
      "        71,\n",
      "        71,\n",
      "        71,\n",
      "        71,\n",
      "        71,\n",
      "        71,\n",
      "        71,\n",
      "        71,\n",
      "        71,\n",
      "        71,\n",
      "        71,\n",
      "        71,\n",
      "        71,\n",
      "        71,\n",
      "        71,\n",
      "        71,\n",
      "        71,\n",
      "        71,\n",
      "        71,\n",
      "        71,\n",
      "        71,\n",
      "        71,\n",
      "        71,\n",
      "        71,\n",
      "        71,\n",
      "        71,\n",
      "        71,\n",
      "        71,\n",
      "        71,\n",
      "        71,\n",
      "        71,\n",
      "        71,\n",
      "        71,\n",
      "        71,\n",
      "        71,\n",
      "        71,\n",
      "        71,\n",
      "        71,\n",
      "        71,\n",
      "        71,\n",
      "        71,\n",
      "        71,\n",
      "        71,\n",
      "        71,\n",
      "        71,\n",
      "        71,\n",
      "        71,\n",
      "        71,\n",
      "        71,\n",
      "        71,\n",
      "        71,\n",
      "        71,\n",
      "        71,\n",
      "        71,\n",
      "        71,\n",
      "        71,\n",
      "        71,\n",
      "        71,\n",
      "        71,\n",
      "        71,\n",
      "        71,\n",
      "        71,\n",
      "        71,\n",
      "        71,\n",
      "        71,\n",
      "        71,\n",
      "        71,\n",
      "        71,\n",
      "        71,\n",
      "        71,\n",
      "        71,\n",
      "        71,\n",
      "        71,\n",
      "        71,\n",
      "        71,\n",
      "        71,\n",
      "        71,\n",
      "        71,\n",
      "        71,\n",
      "        71,\n",
      "        71,\n",
      "        71,\n",
      "        71,\n",
      "        71,\n",
      "        71,\n",
      "        71,\n",
      "        71,\n",
      "        71,\n",
      "        71,\n",
      "        71,\n",
      "        71,\n",
      "        71,\n",
      "        71,\n",
      "        71,\n",
      "        71,\n",
      "        71,\n",
      "        71,\n",
      "        71,\n",
      "        71,\n",
      "        71,\n",
      "        71,\n",
      "        71,\n",
      "        71,\n",
      "        71,\n",
      "        71,\n",
      "        71,\n",
      "        71,\n",
      "        71,\n",
      "        71,\n",
      "        71,\n",
      "        71,\n",
      "        71,\n",
      "        71,\n",
      "        71,\n",
      "        71,\n",
      "        71,\n",
      "        71,\n",
      "        7\n",
      "    ]\n",
      "}\n",
      ">> New message from target SUPERNOVA:\n",
      "{'id': 0, 'command': 20, 'name': 'I3C TARGET NOTIFICATION', 'notification_type': 'I3C_TARGET_WRITE', 'target_address': 8, 'memory_address': 0, 'transfer_length': 255, 'usb_result': 'CMD_SUCCESSFUL', 'manager_result': 'I3C_TARGET_TRANSFER_SUCCESS', 'driver_result': ['ABORT_CONDITION'], 'data': [71, 71, 71, 71, 71, 71, 71, 71, 71, 71, 71, 71, 71, 71, 71, 71, 71, 71, 71, 71, 71, 71, 71, 71, 71, 71, 71, 71, 71, 71, 71, 71, 71, 71, 71, 71, 71, 71, 71, 71, 71, 71, 71, 71, 71, 71, 71, 71, 71, 71, 71, 71, 71, 71, 71, 71, 71, 71, 71, 71, 71, 71, 71, 71, 71, 71, 71, 71, 71, 71, 71, 71, 71, 71, 71, 71, 71, 71, 71, 71, 71, 71, 71, 71, 71, 71, 71, 71, 71, 71, 71, 71, 71, 71, 71, 71, 71, 71, 71, 71, 71, 71, 71, 71, 71, 71, 71, 71, 71, 71, 71, 71, 71, 71, 71, 71, 71, 71, 71, 71, 71, 71, 71, 71, 71, 71, 71, 71, 71, 71, 71, 71, 71, 71, 71, 71, 71, 71, 71, 71, 71, 71, 71, 71, 71, 71, 71, 71, 71, 71, 71, 71, 71, 71, 71, 71, 71, 71, 71, 71, 71, 71, 71, 71, 71, 71, 71, 71, 71, 71, 71, 71, 71, 71, 71, 71, 71, 71, 71, 71, 71, 71, 71, 71, 71, 71, 71, 71, 71, 71, 71, 71, 71, 71, 71, 71, 71, 71, 71, 71, 71, 71, 71, 71, 71, 71, 71, 71, 71, 71, 71, 71, 71, 71, 71, 71, 71, 71, 71, 71, 71, 71, 71, 71, 71, 71, 71, 71, 71, 71, 71, 71, 71, 71, 71, 71, 71, 71, 71, 71, 71, 71, 71, 71, 71, 71, 71, 71, 71, 71, 71, 71, 71, 71, 7]}\n"
     ]
    }
   ],
   "source": [
    "TARGET_ADDR     = 0x08\n",
    "MODE            = TransferMode.I3C_SDR\n",
    "PUSH_PULL_RATE  = I3cPushPullTransferRate.PUSH_PULL_3_75_MHZ\n",
    "OPEN_DRAIN_RATE = I3cOpenDrainTransferRate.OPEN_DRAIN_100_KHZ\n",
    "REG_ADDR        = [0x00] \n",
    "LENGTH          = 255 # in bytes\n",
    "\n",
    "request_result = supernovaController.i3cRead(getId(), \n",
    "                                    TARGET_ADDR, \n",
    "                                    MODE, \n",
    "                                    PUSH_PULL_RATE, \n",
    "                                    OPEN_DRAIN_RATE, \n",
    "                                    REG_ADDR, \n",
    "                                    LENGTH)"
   ]
  },
  {
   "cell_type": "markdown",
   "metadata": {},
   "source": [
    "##### 3.15.3 I3C WRITE INDICATING THE START ADDRESS FOLLOWED BY A READ WITHOUT ADDRESS"
   ]
  },
  {
   "cell_type": "code",
   "execution_count": 63,
   "metadata": {},
   "outputs": [
    {
     "name": "stdout",
     "output_type": "stream",
     "text": [
      ">> New message from controller SUPERNOVA:\n",
      "{\n",
      "    \"id\": 51,\n",
      "    \"command\": 11,\n",
      "    \"name\": \"I3C TRANSFER\",\n",
      "    \"header\": {\n",
      "        \"tag\": \"RESPONSE_TO_REGULAR_REQUEST\",\n",
      "        \"result\": \"I3C_TRANSFER_SUCCESS\",\n",
      "        \"hasData\": false\n",
      "    },\n",
      "    \"descriptor\": {\n",
      "        \"dataLength\": 0,\n",
      "        \"errors\": [\n",
      "            \"NO_TRANSFER_ERROR\"\n",
      "        ]\n",
      "    },\n",
      "    \"data\": []\n",
      "}\n",
      ">> New message from target SUPERNOVA:\n",
      "{'id': 0, 'command': 20, 'name': 'I3C TARGET NOTIFICATION', 'notification_type': 'I3C_TARGET_READ', 'target_address': 8, 'memory_address': 0, 'transfer_length': 0, 'usb_result': 'CMD_SUCCESSFUL', 'manager_result': 'I3C_TARGET_TRANSFER_SUCCESS', 'driver_result': ['NO_ERROR'], 'data': []}\n"
     ]
    }
   ],
   "source": [
    "TARGET_ADDR     = 0x08\n",
    "MODE            = TransferMode.I3C_SDR\n",
    "PUSH_PULL_RATE  = I3cPushPullTransferRate.PUSH_PULL_3_75_MHZ\n",
    "OPEN_DRAIN_RATE = I3cOpenDrainTransferRate.OPEN_DRAIN_100_KHZ\n",
    "REG_ADDR        = [0x00] \n",
    "DATA            = []\n",
    "\n",
    "request_result = supernovaController.i3cWrite(getId(), \n",
    "                                    TARGET_ADDR, \n",
    "                                    MODE, \n",
    "                                    PUSH_PULL_RATE, \n",
    "                                    OPEN_DRAIN_RATE, \n",
    "                                    REG_ADDR, \n",
    "                                    DATA)"
   ]
  },
  {
   "cell_type": "code",
   "execution_count": 64,
   "metadata": {},
   "outputs": [
    {
     "name": "stdout",
     "output_type": "stream",
     "text": [
      ">> New message from target SUPERNOVA:\n",
      "{'id': 0, 'command': 20, 'name': 'I3C TARGET NOTIFICATION', 'notification_type': 'I3C_TARGET_WRITE', 'target_address': 8, 'memory_address': 0, 'transfer_length': 255, 'usb_result': 'CMD_SUCCESSFUL', 'manager_result': 'I3C_TARGET_TRANSFER_SUCCESS', 'driver_result': ['ABORT_CONDITION'], 'data': [71, 71, 71, 71, 71, 71, 71, 71, 71, 71, 71, 71, 71, 71, 71, 71, 71, 71, 71, 71, 71, 71, 71, 71, 71, 71, 71, 71, 71, 71, 71, 71, 71, 71, 71, 71, 71, 71, 71, 71, 71, 71, 71, 71, 71, 71, 71, 71, 71, 71, 71, 71, 71, 71, 71, 71, 71, 71, 71, 71, 71, 71, 71, 71, 71, 71, 71, 71, 71, 71, 71, 71, 71, 71, 71, 71, 71, 71, 71, 71, 71, 71, 71, 71, 71, 71, 71, 71, 71, 71, 71, 71, 71, 71, 71, 71, 71, 71, 71, 71, 71, 71, 71, 71, 71, 71, 71, 71, 71, 71, 71, 71, 71, 71, 71, 71, 71, 71, 71, 71, 71, 71, 71, 71, 71, 71, 71, 71, 71, 71, 71, 71, 71, 71, 71, 71, 71, 71, 71, 71, 71, 71, 71, 71, 71, 71, 71, 71, 71, 71, 71, 71, 71, 71, 71, 71, 71, 71, 71, 71, 71, 71, 71, 71, 71, 71, 71, 71, 71, 71, 71, 71, 71, 71, 71, 71, 71, 71, 71, 71, 71, 71, 71, 71, 71, 71, 71, 71, 71, 71, 71, 71, 71, 71, 71, 71, 71, 71, 71, 71, 71, 71, 71, 71, 71, 71, 71, 71, 71, 71, 71, 71, 71, 71, 71, 71, 71, 71, 71, 71, 71, 71, 71, 71, 71, 71, 71, 71, 71, 71, 71, 71, 71, 71, 71, 71, 71, 71, 71, 71, 71, 71, 71, 71, 71, 71, 71, 71, 71, 71, 71, 71, 71, 71, 7]}\n",
      ">> New message from controller SUPERNOVA:\n",
      "{\n",
      "    \"id\": 52,\n",
      "    \"command\": 11,\n",
      "    \"name\": \"I3C TRANSFER\",\n",
      "    \"header\": {\n",
      "        \"tag\": \"RESPONSE_TO_REGULAR_REQUEST\",\n",
      "        \"result\": \"I3C_TRANSFER_SUCCESS\",\n",
      "        \"hasData\": true\n",
      "    },\n",
      "    \"descriptor\": {\n",
      "        \"dataLength\": 255,\n",
      "        \"errors\": [\n",
      "            \"NO_TRANSFER_ERROR\"\n",
      "        ]\n",
      "    },\n",
      "    \"data\": [\n",
      "        71,\n",
      "        71,\n",
      "        71,\n",
      "        71,\n",
      "        71,\n",
      "        71,\n",
      "        71,\n",
      "        71,\n",
      "        71,\n",
      "        71,\n",
      "        71,\n",
      "        71,\n",
      "        71,\n",
      "        71,\n",
      "        71,\n",
      "        71,\n",
      "        71,\n",
      "        71,\n",
      "        71,\n",
      "        71,\n",
      "        71,\n",
      "        71,\n",
      "        71,\n",
      "        71,\n",
      "        71,\n",
      "        71,\n",
      "        71,\n",
      "        71,\n",
      "        71,\n",
      "        71,\n",
      "        71,\n",
      "        71,\n",
      "        71,\n",
      "        71,\n",
      "        71,\n",
      "        71,\n",
      "        71,\n",
      "        71,\n",
      "        71,\n",
      "        71,\n",
      "        71,\n",
      "        71,\n",
      "        71,\n",
      "        71,\n",
      "        71,\n",
      "        71,\n",
      "        71,\n",
      "        71,\n",
      "        71,\n",
      "        71,\n",
      "        71,\n",
      "        71,\n",
      "        71,\n",
      "        71,\n",
      "        71,\n",
      "        71,\n",
      "        71,\n",
      "        71,\n",
      "        71,\n",
      "        71,\n",
      "        71,\n",
      "        71,\n",
      "        71,\n",
      "        71,\n",
      "        71,\n",
      "        71,\n",
      "        71,\n",
      "        71,\n",
      "        71,\n",
      "        71,\n",
      "        71,\n",
      "        71,\n",
      "        71,\n",
      "        71,\n",
      "        71,\n",
      "        71,\n",
      "        71,\n",
      "        71,\n",
      "        71,\n",
      "        71,\n",
      "        71,\n",
      "        71,\n",
      "        71,\n",
      "        71,\n",
      "        71,\n",
      "        71,\n",
      "        71,\n",
      "        71,\n",
      "        71,\n",
      "        71,\n",
      "        71,\n",
      "        71,\n",
      "        71,\n",
      "        71,\n",
      "        71,\n",
      "        71,\n",
      "        71,\n",
      "        71,\n",
      "        71,\n",
      "        71,\n",
      "        71,\n",
      "        71,\n",
      "        71,\n",
      "        71,\n",
      "        71,\n",
      "        71,\n",
      "        71,\n",
      "        71,\n",
      "        71,\n",
      "        71,\n",
      "        71,\n",
      "        71,\n",
      "        71,\n",
      "        71,\n",
      "        71,\n",
      "        71,\n",
      "        71,\n",
      "        71,\n",
      "        71,\n",
      "        71,\n",
      "        71,\n",
      "        71,\n",
      "        71,\n",
      "        71,\n",
      "        71,\n",
      "        71,\n",
      "        71,\n",
      "        71,\n",
      "        71,\n",
      "        71,\n",
      "        71,\n",
      "        71,\n",
      "        71,\n",
      "        71,\n",
      "        71,\n",
      "        71,\n",
      "        71,\n",
      "        71,\n",
      "        71,\n",
      "        71,\n",
      "        71,\n",
      "        71,\n",
      "        71,\n",
      "        71,\n",
      "        71,\n",
      "        71,\n",
      "        71,\n",
      "        71,\n",
      "        71,\n",
      "        71,\n",
      "        71,\n",
      "        71,\n",
      "        71,\n",
      "        71,\n",
      "        71,\n",
      "        71,\n",
      "        71,\n",
      "        71,\n",
      "        71,\n",
      "        71,\n",
      "        71,\n",
      "        71,\n",
      "        71,\n",
      "        71,\n",
      "        71,\n",
      "        71,\n",
      "        71,\n",
      "        71,\n",
      "        71,\n",
      "        71,\n",
      "        71,\n",
      "        71,\n",
      "        71,\n",
      "        71,\n",
      "        71,\n",
      "        71,\n",
      "        71,\n",
      "        71,\n",
      "        71,\n",
      "        71,\n",
      "        71,\n",
      "        71,\n",
      "        71,\n",
      "        71,\n",
      "        71,\n",
      "        71,\n",
      "        71,\n",
      "        71,\n",
      "        71,\n",
      "        71,\n",
      "        71,\n",
      "        71,\n",
      "        71,\n",
      "        71,\n",
      "        71,\n",
      "        71,\n",
      "        71,\n",
      "        71,\n",
      "        71,\n",
      "        71,\n",
      "        71,\n",
      "        71,\n",
      "        71,\n",
      "        71,\n",
      "        71,\n",
      "        71,\n",
      "        71,\n",
      "        71,\n",
      "        71,\n",
      "        71,\n",
      "        71,\n",
      "        71,\n",
      "        71,\n",
      "        71,\n",
      "        71,\n",
      "        71,\n",
      "        71,\n",
      "        71,\n",
      "        71,\n",
      "        71,\n",
      "        71,\n",
      "        71,\n",
      "        71,\n",
      "        71,\n",
      "        71,\n",
      "        71,\n",
      "        71,\n",
      "        71,\n",
      "        71,\n",
      "        71,\n",
      "        71,\n",
      "        71,\n",
      "        71,\n",
      "        71,\n",
      "        71,\n",
      "        71,\n",
      "        71,\n",
      "        71,\n",
      "        71,\n",
      "        71,\n",
      "        71,\n",
      "        71,\n",
      "        71,\n",
      "        71,\n",
      "        71,\n",
      "        71,\n",
      "        71,\n",
      "        71,\n",
      "        71,\n",
      "        71,\n",
      "        71,\n",
      "        71,\n",
      "        71,\n",
      "        71,\n",
      "        7\n",
      "    ]\n",
      "}\n"
     ]
    }
   ],
   "source": [
    "TARGET_ADDR     = 0x08\n",
    "MODE            = TransferMode.I3C_SDR\n",
    "PUSH_PULL_RATE  = I3cPushPullTransferRate.PUSH_PULL_3_75_MHZ\n",
    "OPEN_DRAIN_RATE = I3cOpenDrainTransferRate.OPEN_DRAIN_100_KHZ\n",
    "REG_ADDR        = []\n",
    "LENGTH          = 255\n",
    "\n",
    "request_result = supernovaController.i3cRead(getId(), \n",
    "                                    TARGET_ADDR, \n",
    "                                    MODE, \n",
    "                                    PUSH_PULL_RATE, \n",
    "                                    OPEN_DRAIN_RATE, \n",
    "                                    REG_ADDR, \n",
    "                                    LENGTH)"
   ]
  }
 ],
 "metadata": {
  "kernelspec": {
   "display_name": "Python 3",
   "language": "python",
   "name": "python3"
  },
  "language_info": {
   "codemirror_mode": {
    "name": "ipython",
    "version": 3
   },
   "file_extension": ".py",
   "mimetype": "text/x-python",
   "name": "python",
   "nbconvert_exporter": "python",
   "pygments_lexer": "ipython3",
   "version": "3.11.8"
  },
  "orig_nbformat": 4
 },
 "nbformat": 4,
 "nbformat_minor": 2
}
