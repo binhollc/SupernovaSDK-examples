{
 "cells": [
  {
   "cell_type": "markdown",
   "metadata": {},
   "source": [
    "### Getting started:\n",
    "\n",
    "##### Connection Setup:\n",
    "   \n",
    "   Connect two Supernovas between them via their I3C High Voltage connectors, and connect also each one to the computer via the USB port. One will act as an I3C controller and the other one as an I3C target.\n",
    "\n",
    "   The target Supernova acts as a 2 bytes-addressable and non-linear memory of 1024 bytes. The memory can be accessed via USB when using the `i3cTargetWriteMemory` or `i3cTargetReadMemory` methods. Or it can be accessed through the I3C bus when the user requests an I3C write, I3C read or I3C write-read to the Supernova acting as the I3C controller addressing the Supernova acting as a target.\n",
    "\n",
    "##### Expected Messages and Notifications:\n",
    "\n",
    "   Both Supernovas will return a response to their requests. However, when a request is sent to the Supernova acting as a the controller to issue an I3C transfer, whether it is a private transfer or a CCC, the Supernova controller will send a response to the USB Host (in this case, this notebook), but the Supernova acting as a target will send also an asynchronous notification to notify the I3C bus event that occurred.\n",
    "   \n",
    "##### Testing Process:\n",
    "   - Run each cell in order.\n",
    "   - Look for immediate feedback:\n",
    "     - The response or the notification and response for each command directed to a Supernova.\n"
   ]
  },
  {
   "cell_type": "markdown",
   "metadata": {},
   "source": [
    "### 1. Startup"
   ]
  },
  {
   "cell_type": "markdown",
   "metadata": {},
   "source": [
    "#### 1.1 Import the python package"
   ]
  },
  {
   "cell_type": "code",
   "execution_count": 1,
   "metadata": {},
   "outputs": [],
   "source": [
    "import BinhoSupernova\n",
    "from BinhoSupernova.Supernova import Supernova\n",
    "from BinhoSupernova.commands.i3c.definitions import *\n",
    "\n",
    "import random\n",
    "import threading\n",
    "\n",
    "print_lock = threading.Lock()"
   ]
  },
  {
   "cell_type": "markdown",
   "metadata": {},
   "source": [
    "#### 1.2 List all the Supernova devices connected to the PC host\n",
    "\n",
    "The ``BinhoSupernova.getConnectedSupernovaDevicesList()`` returns a list of the Supernova devices plugged into the host PC machine.\n",
    "\n",
    "Two different Supernovas with different serial numbers and paths must appear in the response. Their paths are get and saved in global variables to be used later in the code to open connection."
   ]
  },
  {
   "cell_type": "code",
   "execution_count": null,
   "metadata": {},
   "outputs": [],
   "source": [
    "connected_devices = BinhoSupernova.getConnectedSupernovaDevicesList()\n",
    "print(connected_devices)\n",
    "\n",
    "if len(connected_devices) < 2:\n",
    "    print(\"Two Supernovas connected to this PC are required\")"
   ]
  },
  {
   "cell_type": "code",
   "execution_count": null,
   "metadata": {},
   "outputs": [],
   "source": [
    "# Get the USB path of both devices.\n",
    "I3C_TARGET_USB_PATH = connected_devices[0][\"path\"]\n",
    "I3C_CONTROLLER_USB_PATH = connected_devices[1][\"path\"]"
   ]
  },
  {
   "cell_type": "markdown",
   "metadata": {},
   "source": [
    "#### 1.3 Define a function to generate transaction IDs\n",
    "\n",
    "All the request messages sent to the Supernova from the USB Host application must include the transaction or request ID. The ID is a 2-byte integer with an allowed range of ``[1, 65535]``. The id value `0` is reserved for asynchronous notifications.\n",
    "\n",
    "In this example, a dummy function called ``getId()`` is defined to increment a transaction counter used as the ID."
   ]
  },
  {
   "cell_type": "code",
   "execution_count": 3,
   "metadata": {},
   "outputs": [],
   "source": [
    "# Auxiliar code to generate IDs\n",
    "\n",
    "counter_id = 0\n",
    "\n",
    "def getId():\n",
    "    global counter_id\n",
    "    counter_id = counter_id + 1\n",
    "    return counter_id"
   ]
  },
  {
   "cell_type": "markdown",
   "metadata": {},
   "source": [
    "#### 1.4 Define and register callbacks to handle responses and notifications from the two Supernovas (the one acting as an I3C target and the one acting as an I3C controller)\n",
    "\n",
    "To handle responses and notifications from Supernova, a callback function must be defined and registered. This function will be invoked every time the Supernova sends a response to a request, an asynchronous notification, or a message from the system.\n",
    "\n",
    "The callback function's signature is as follows: \n",
    "\n",
    "``def callback_function_name(supernova_message: dict, system_message: dict) -> None:``\n",
    "\n",
    "Once the callback function is defined, it should be registered using the ``Supernova.onEvent(callback_function)`` method."
   ]
  },
  {
   "cell_type": "code",
   "execution_count": 4,
   "metadata": {},
   "outputs": [],
   "source": [
    "shared_controller_response = [0]\n",
    "\n",
    "# Define callback function\n",
    "def controller_callback_function(supernova_message: dict, system_message: dict) -> None:\n",
    "\n",
    "    with print_lock:\n",
    "\n",
    "        if supernova_message != None:\n",
    "\n",
    "            # Print a header\n",
    "            print(\">> New message from Supernova I3C Controller:\")\n",
    "            shared_controller_response[0] = supernova_message\n",
    "            print(supernova_message)\n",
    "\n",
    "        if system_message != None:\n",
    "\n",
    "            # Print a header\n",
    "            print(\">> New message from the SYSTEM:\")\n",
    "            print(system_message)"
   ]
  },
  {
   "cell_type": "code",
   "execution_count": 5,
   "metadata": {},
   "outputs": [],
   "source": [
    "# Define callback function\n",
    "def target_callback_function(supernova_message: dict, system_message: dict) -> None:\n",
    "\n",
    "    with print_lock:\n",
    "\n",
    "        if supernova_message != None:\n",
    "\n",
    "            # Print a header\n",
    "            print(\">> New message from Supernova I3C Target:\")\n",
    "            print(supernova_message)\n",
    "\n",
    "        if system_message != None:\n",
    "\n",
    "            # Print a header\n",
    "            print(\">> New message from the SYSTEM:\")\n",
    "            print(system_message)"
   ]
  },
  {
   "cell_type": "markdown",
   "metadata": {},
   "source": [
    "### 2. Configure the Supernova that will act as an I3C target"
   ]
  },
  {
   "cell_type": "markdown",
   "metadata": {},
   "source": [
    "#### 2.1 Create an instance of the Supernova class\n",
    "\n",
    "To utilize a Supernova USB host adapter device, we need to create an instance of the Supernova class."
   ]
  },
  {
   "cell_type": "code",
   "execution_count": 7,
   "metadata": {},
   "outputs": [],
   "source": [
    "supernova_target = Supernova()"
   ]
  },
  {
   "cell_type": "markdown",
   "metadata": {},
   "source": [
    "#### 2.2 Open connection to the Supernova that acts as a target using the path of one of the devices retrieved by getConnectedSupernovaDevicesList() \n",
    "\n",
    "The public method ``Supernova.open()`` establishes the connection with a Supernova device. Below is the complete signature:\n",
    "\n",
    "```python\n",
    "open(vid, pid, serial, path)\n",
    "```\n",
    "\n",
    "- ``vid: int``: The Supernova USB VID, which is set by default.\n",
    "- ``pid: int``: The Supernova USB PID, which is set by default.\n",
    "- ``serial: str``: The Supernova serial number.\n",
    "- ``path: str``: The OS HID path assigned to the device. This can be obtained using the ``BinhoSupernova.getConnectedSupernovaDevicesList()`` method. The ``path`` parameter is currently the only way to uniquely identify each Supernova device. Therefore, it is recommended to use the ``path`` parameter, especially when opening connections with more than one Supernova device simultaneously."
   ]
  },
  {
   "cell_type": "code",
   "execution_count": null,
   "metadata": {},
   "outputs": [],
   "source": [
    "supernova_target.open(path = I3C_TARGET_USB_PATH)"
   ]
  },
  {
   "cell_type": "markdown",
   "metadata": {},
   "source": [
    "#### 2.3 Register the callback to the I3C target"
   ]
  },
  {
   "cell_type": "code",
   "execution_count": null,
   "metadata": {},
   "outputs": [],
   "source": [
    "supernova_target.onEvent(target_callback_function)"
   ]
  },
  {
   "cell_type": "markdown",
   "metadata": {},
   "source": [
    "#### 2.4 Initialize the Supernova I3C peripheral as a target memory of 1024 registers of 1 byte data width"
   ]
  },
  {
   "cell_type": "code",
   "execution_count": null,
   "metadata": {},
   "outputs": [],
   "source": [
    "memory_layout = I3cTargetMemoryLayout_t.MEMORY_1_BYTE_X_1024_REGS\n",
    "\n",
    "pid = [0x01, 0x02, 0x03, 0x04, 0x05, 0x06]\n",
    "\n",
    "bcr = I3cBcrDeviceRoleBits_t.I3C_TARGET.value | \\\n",
    "      I3cBcrAdvancedCapabilitiesBit_t.NOT_SUPPORTED.value | \\\n",
    "      I3cBcrVirtualSupportBit_t.NOT_SUPPORTED.value | \\\n",
    "      I3cBcrOfflineCapBit_t.OFFLINE_UNCAPABLE.value | \\\n",
    "      I3cBcrIbiPayloadBit_t.IBI_WITHOUT_PAYLOAD.value | \\\n",
    "      I3cBcrIbiCapableBit_t.NOT_IBI_CAPABLE.value | \\\n",
    "      I3cBcrMaxDataSpeedLimitBit_t.NO_DATA_SPEED_LIMIT.value\n",
    "print(\"BCR: \", bcr)\n",
    "\n",
    "dcr = I3cTargetDcr_t.I3C_TARGET_MEMORY\n",
    "print(\"DCR: \", dcr)\n",
    "\n",
    "static_address = 0x21\n",
    "\n",
    "mwl = 255\n",
    "mrl = 255\n",
    "\n",
    "request_result = supernova_target.i3cTargetInit(getId(), memory_layout, pid, bcr, dcr, static_address, mwl, mrl)"
   ]
  },
  {
   "cell_type": "markdown",
   "metadata": {},
   "source": [
    "#### 2.5 Take a look at the internal memory\n",
    "\n",
    "The public method ``Supernova.i3cTargetReadMemory()`` allows the USB Host to read data from the Supernova internal memory.\n",
    "\n",
    "```python\n",
    "i3cTargetReadMemory(id, memoryAddress, length)\n",
    "```\n",
    "\n",
    "- ``id: c_uint16``: 2-bytes integer from 1 to 65535 that identifies the command.\n",
    "- ``memoryAddress: c_uint16``: Address of the memory at which data will be read from.\n",
    "- ``length: c_uint16``: Length of the data to be read. From 1 to 1024 bytes."
   ]
  },
  {
   "cell_type": "code",
   "execution_count": null,
   "metadata": {},
   "outputs": [],
   "source": [
    "supernova_target.i3cTargetReadMemory(getId(),0x0000, 15)"
   ]
  },
  {
   "cell_type": "markdown",
   "metadata": {},
   "source": [
    "#### 2.6 Write data into the internal memory\n",
    "\n",
    "The public method ``Supernova.i3cTargetWriteMemory()`` allows the USB Host to send and write data into the Supernova internal memory.\n",
    "```python\n",
    "i3cTargetWriteMemory(id, memoryAddress, data)\n",
    "```\n",
    "\n",
    "- ``id: c_uint16``: Identifies the command.\n",
    "- ``memoryAddress: c_uint16``: Address of the memory at which data will be written from.\n",
    "- ``data: list``: Data to be written into the Supernova memory."
   ]
  },
  {
   "cell_type": "code",
   "execution_count": null,
   "metadata": {},
   "outputs": [],
   "source": [
    "data = [i for i in range(10,0,-1)]\n",
    "\n",
    "supernova_target.i3cTargetWriteMemory(getId(), 0x0000, data)"
   ]
  },
  {
   "cell_type": "code",
   "execution_count": null,
   "metadata": {},
   "outputs": [],
   "source": [
    "supernova_target.i3cTargetReadMemory(getId(),0x0000, 15)"
   ]
  },
  {
   "cell_type": "markdown",
   "metadata": {},
   "source": [
    "#### 2.7 Data length vs available space"
   ]
  },
  {
   "cell_type": "code",
   "execution_count": null,
   "metadata": {},
   "outputs": [],
   "source": [
    "memory_address = random.randint(0,1023)\n",
    "available_space = 1024 - memory_address\n",
    "\n",
    "data_length = random.randint(1,1024)\n",
    "data_to_write = random.choices(range(0,256), k=data_length)\n",
    "\n",
    "print(f\"Random memory address: {memory_address}\")\n",
    "print(f\"Available space: {available_space}\")\n",
    "print(f\"Create list of random numbers of length {data_length}.\")\n",
    "\n",
    "if available_space >= data_length:\n",
    "    print(\"The result will be: SUCCESS\")\n",
    "else:\n",
    "    print(\"The result will be: SURPASSED MEMORY SIZE\")\n",
    "\n",
    "print()\n",
    "print(\"Supernova response:\")\n",
    "print()\n",
    "\n",
    "request_result = supernova_target.i3cTargetWriteMemory(getId(), memory_address, data_to_write)"
   ]
  },
  {
   "cell_type": "code",
   "execution_count": null,
   "metadata": {},
   "outputs": [],
   "source": [
    "request_result = supernova_target.i3cTargetReadMemory(getId(), memory_address, data_length)"
   ]
  },
  {
   "cell_type": "code",
   "execution_count": null,
   "metadata": {},
   "outputs": [],
   "source": [
    "if shared_target_response[\"payload\"] == data_to_write[:shared_target_response[\"payload_length\"]]:\n",
    "    print(\"Data transferred successfully!\")"
   ]
  },
  {
   "cell_type": "markdown",
   "metadata": {},
   "source": [
    "### 3. Configure the Supernova that will act as an I3C controller"
   ]
  },
  {
   "cell_type": "markdown",
   "metadata": {},
   "source": [
    "#### 3.1 Create an instance of the Supernova class\n",
    "\n",
    "To utilize a Supernova USB host adapter device, we need to create an instance of the Supernova class."
   ]
  },
  {
   "cell_type": "code",
   "execution_count": 15,
   "metadata": {},
   "outputs": [],
   "source": [
    "supernova_controller = Supernova()"
   ]
  },
  {
   "cell_type": "markdown",
   "metadata": {},
   "source": [
    "#### 3.2 Open connection to the Supernova that acts as a controller using the path of one of the devices retrieved by getConnectedSupernovaDevicesList() \n",
    "\n",
    "The public method ``Supernova.open()`` establishes the connection with a Supernova device. Below is the complete signature:\n",
    "\n",
    "```python\n",
    "open(vid, pid, serial, path)\n",
    "```\n",
    "\n",
    "- ``vid: int``: The Supernova USB VID, which is set by default.\n",
    "- ``pid: int``: The Supernova USB PID, which is set by default.\n",
    "- ``serial: str``: The Supernova serial number.\n",
    "- ``path: str``: The OS HID path assigned to the device. This can be obtained using the ``BinhoSupernova.getConnectedSupernovaDevicesList()`` method. The ``path`` parameter is currently the only way to uniquely identify each Supernova device. Therefore, it is recommended to use the ``path`` parameter, especially when opening connections with more than one Supernova device simultaneously."
   ]
  },
  {
   "cell_type": "code",
   "execution_count": null,
   "metadata": {},
   "outputs": [],
   "source": [
    "supernova_controller.open(path = I3C_CONTROLLER_USB_PATH)"
   ]
  },
  {
   "cell_type": "markdown",
   "metadata": {},
   "source": [
    "#### 3.3 Register the callback to the I3C controller"
   ]
  },
  {
   "cell_type": "code",
   "execution_count": null,
   "metadata": {},
   "outputs": [],
   "source": [
    "supernova_controller.onEvent(controller_callback_function)"
   ]
  },
  {
   "cell_type": "markdown",
   "metadata": {},
   "source": [
    "#### 3.4 Initialize the Supernova I3C peripheral as controller\n",
    "\n",
    "``Supernova.i3cControllerInit(id, pushPullRate, i3cOpenDrainRate, i2cOpenDrainRate)``\n",
    "\n",
    "This method initializes the Supernova as an I3C controller.\n",
    "\n",
    "  - `id: int`: A 2-byte integer that represents the transfer ID.\n",
    "  - `pushPullRate: I3cPushPullTransferRate`: Push-Pull frequency.\n",
    "  - `i3cOpenDrainRate: I3cOpenDrainTransferRate`: I3C frequency in Open Drain mode.\n",
    "  - `i2cOpenDrainRate: I2cTransferRate`: I2C frequency."
   ]
  },
  {
   "cell_type": "code",
   "execution_count": null,
   "metadata": {},
   "outputs": [],
   "source": [
    "request_result = supernova_controller.i3cControllerInit(getId(), I3cPushPullTransferRate.PUSH_PULL_5_MHZ, I3cOpenDrainTransferRate.OPEN_DRAIN_1_25_MHZ, I2cTransferRate._100KHz)"
   ]
  },
  {
   "cell_type": "markdown",
   "metadata": {},
   "source": [
    "#### 3.5 Set I3C bus voltage\n",
    "\n",
    "By default, both Supernovas work at 1.62V. If it is necessary to change the bus voltage, the voltage must be set in both devices."
   ]
  },
  {
   "cell_type": "code",
   "execution_count": null,
   "metadata": {},
   "outputs": [],
   "source": [
    "#Uncomment lines below if it is required to change the I3C bus voltage.\n",
    "\n",
    "# Set the voltage of the Supernova acting as a controller.\n",
    "supernova_controller.setI3cVoltage(getId(), 3300)\n",
    "\n",
    "# In the case of the target, use one of the following methods.\n",
    "# supernova_target.setI3cVoltage(getId(), 3300)\n",
    "supernova_target.useExternalI3cVoltage(getId())"
   ]
  },
  {
   "cell_type": "markdown",
   "metadata": {},
   "source": [
    "#### 3.6 I3C bus initialization"
   ]
  },
  {
   "cell_type": "code",
   "execution_count": null,
   "metadata": {},
   "outputs": [],
   "source": [
    "request_result = supernova_controller.i3cControllerResetBus(getId())"
   ]
  },
  {
   "cell_type": "code",
   "execution_count": null,
   "metadata": {},
   "outputs": [],
   "source": [
    "dynamic_address = 0x73\n",
    "\n",
    "request_result = supernova_controller.i3cSETDASA(getId(), static_address, dynamic_address)"
   ]
  },
  {
   "cell_type": "code",
   "execution_count": null,
   "metadata": {},
   "outputs": [],
   "source": [
    "request_result = supernova_controller.i3cControllerGetTargetDevicesTable(getId())"
   ]
  },
  {
   "cell_type": "markdown",
   "metadata": {},
   "source": [
    "#### 3.7 I3C CCC Transfers"
   ]
  },
  {
   "cell_type": "markdown",
   "metadata": {},
   "source": [
    "##### 3.7.1 GETPID"
   ]
  },
  {
   "cell_type": "code",
   "execution_count": null,
   "metadata": {},
   "outputs": [],
   "source": [
    "TARGET_ADDRESS  = dynamic_address\n",
    "\n",
    "request_result = supernova_controller.i3cGETPID(getId(), TARGET_ADDRESS)"
   ]
  },
  {
   "cell_type": "markdown",
   "metadata": {},
   "source": [
    "##### 3.7.2 GETBCR"
   ]
  },
  {
   "cell_type": "code",
   "execution_count": null,
   "metadata": {},
   "outputs": [],
   "source": [
    "TARGET_ADDRESS  = dynamic_address\n",
    "\n",
    "request_result = supernova_controller.i3cGETBCR(getId(), TARGET_ADDRESS)"
   ]
  },
  {
   "cell_type": "markdown",
   "metadata": {},
   "source": [
    "##### 3.7.3 GETDCR"
   ]
  },
  {
   "cell_type": "code",
   "execution_count": null,
   "metadata": {},
   "outputs": [],
   "source": [
    "TARGET_ADDRESS  = dynamic_address\n",
    "\n",
    "request_result = supernova_controller.i3cGETDCR(getId(), TARGET_ADDRESS)"
   ]
  },
  {
   "cell_type": "code",
   "execution_count": null,
   "metadata": {},
   "outputs": [],
   "source": [
    "# Check DCR value meaning.\n",
    "I3cTargetDcr_t(shared_controller_response[0][\"payload\"][0]).name"
   ]
  },
  {
   "cell_type": "markdown",
   "metadata": {},
   "source": [
    "##### 3.7.4 GETMWL"
   ]
  },
  {
   "cell_type": "code",
   "execution_count": null,
   "metadata": {},
   "outputs": [],
   "source": [
    "TARGET_ADDRESS  = dynamic_address\n",
    "\n",
    "request_result = supernova_controller.i3cGETMWL(getId(), TARGET_ADDRESS)"
   ]
  },
  {
   "cell_type": "markdown",
   "metadata": {},
   "source": [
    "##### 3.7.5 SETMWL"
   ]
  },
  {
   "cell_type": "code",
   "execution_count": null,
   "metadata": {},
   "outputs": [],
   "source": [
    "TARGET_ADDRESS  = dynamic_address\n",
    "\n",
    "request_result = supernova_controller.i3cGETMWL(getId(), TARGET_ADDRESS)"
   ]
  },
  {
   "cell_type": "markdown",
   "metadata": {},
   "source": [
    "##### 3.7.6 GETMWL"
   ]
  },
  {
   "cell_type": "code",
   "execution_count": null,
   "metadata": {},
   "outputs": [],
   "source": [
    "TARGET_ADDRESS  = dynamic_address\n",
    "\n",
    "request_result = supernova_controller.i3cGETMWL(getId(), TARGET_ADDRESS)"
   ]
  },
  {
   "cell_type": "markdown",
   "metadata": {},
   "source": [
    "##### 3.7.7 GETMRL"
   ]
  },
  {
   "cell_type": "code",
   "execution_count": null,
   "metadata": {},
   "outputs": [],
   "source": [
    "TARGET_ADDRESS  = dynamic_address\n",
    "\n",
    "request_result = supernova_controller.i3cGETMWL(getId(), TARGET_ADDRESS)"
   ]
  },
  {
   "cell_type": "markdown",
   "metadata": {},
   "source": [
    "##### 3.7.8 SETMRL"
   ]
  },
  {
   "cell_type": "code",
   "execution_count": null,
   "metadata": {},
   "outputs": [],
   "source": [
    "TARGET_ADDRESS  = dynamic_address\n",
    "NEW_MRL         = 512\n",
    "\n",
    "request_result = supernova_controller.i3cDirectSETMRL(getId(), TARGET_ADDRESS, NEW_MRL)"
   ]
  },
  {
   "cell_type": "markdown",
   "metadata": {},
   "source": [
    "##### 3.7.9 GETMRL"
   ]
  },
  {
   "cell_type": "code",
   "execution_count": null,
   "metadata": {},
   "outputs": [],
   "source": [
    "TARGET_ADDRESS  = dynamic_address\n",
    "\n",
    "request_result = supernova_controller.i3cGETMRL(getId(), TARGET_ADDRESS)"
   ]
  },
  {
   "cell_type": "markdown",
   "metadata": {},
   "source": [
    "##### 3.7.10 GETSTATUS"
   ]
  },
  {
   "cell_type": "code",
   "execution_count": null,
   "metadata": {},
   "outputs": [],
   "source": [
    "TARGET_ADDRESS  = dynamic_address\n",
    "\n",
    "request_result = supernova_controller.i3cGETSTATUS(getId(), TARGET_ADDRESS)"
   ]
  },
  {
   "cell_type": "markdown",
   "metadata": {},
   "source": [
    "#### 3.8 Set I3C Target parameters\n",
    "\n",
    "The public method ``Supernova.i3cTargetSetParameters()`` sets the configuration of the supernova acting as a target on the I3C bus."
   ]
  },
  {
   "cell_type": "code",
   "execution_count": null,
   "metadata": {},
   "outputs": [],
   "source": [
    "memory_layout = I3cTargetMemoryLayout_t.MEMORY_1_BYTE_X_1024_REGS\n",
    "\n",
    "mwl = 32\n",
    "mrl = 64\n",
    "\n",
    "request_result = supernova_target.i3cTargetSetParameters(getId(), memory_layout, mwl, mrl)"
   ]
  },
  {
   "cell_type": "markdown",
   "metadata": {},
   "source": [
    "3.8.1 Check the correct setting of the MWL using the method `i3cTargetSetConfiguration` above by requesting a GETMWL CCC."
   ]
  },
  {
   "cell_type": "code",
   "execution_count": null,
   "metadata": {},
   "outputs": [],
   "source": [
    "TARGET_ADDRESS  = dynamic_address\n",
    "\n",
    "request_result = supernova_controller.i3cGETMWL(getId(), TARGET_ADDRESS)"
   ]
  },
  {
   "cell_type": "markdown",
   "metadata": {},
   "source": [
    "3.8.2 Check the correct setting of the MRL using the method `i3cTargetSetConfiguration` above by requesting a GETMRL CCC."
   ]
  },
  {
   "cell_type": "code",
   "execution_count": null,
   "metadata": {},
   "outputs": [],
   "source": [
    "TARGET_ADDRESS  = dynamic_address\n",
    "\n",
    "request_result = supernova_controller.i3cGETMRL(getId(), TARGET_ADDRESS)"
   ]
  },
  {
   "cell_type": "markdown",
   "metadata": {},
   "source": [
    "#### 3.9 I3C Private Transfers"
   ]
  },
  {
   "cell_type": "markdown",
   "metadata": {},
   "source": [
    "##### 3.9.1 I3C TARGET WRITE MEMORY\n",
    "\n",
    "The public method ``Supernova.i3cTargetWriteMemory()`` writes the memory of the target Supernova using only USB communication.\n",
    "\n",
    "```python\n",
    "i3cTargetWriteMemory(id, memoryAddr, data)\n",
    "```\n",
    "\n",
    "- ``id: c_uint16``: Identifies the command.\n",
    "- ``memoryAddr: c_uint16``: Address of the memory to start writing.\n",
    "- ``data: list``: Data to write."
   ]
  },
  {
   "cell_type": "code",
   "execution_count": null,
   "metadata": {},
   "outputs": [],
   "source": [
    "MEMORY_ADDRESS  = 0x0000\n",
    "DATA            = [i%0xFA for i in range(0,1024)]\n",
    "\n",
    "request_result = supernova_target.i3cTargetWriteMemory(getId(), MEMORY_ADDRESS, DATA)"
   ]
  },
  {
   "cell_type": "markdown",
   "metadata": {},
   "source": [
    "##### 3.9.2 I3C TARGET READ MEMORY\n",
    "\n",
    "The public method ``Supernova.i3cTargetReadMemory()`` reads the memory of the target Supernova using only USB communication.\n",
    "\n",
    "```python\n",
    "i3cTargetReadMemory(id, memoryAddr, length)\n",
    "```\n",
    "\n",
    "- ``id: c_uint16``: Identifies the command.\n",
    "- ``memoryAddr: c_uint16``: Address of the memory to start reading.\n",
    "- ``length: c_uint16``: Data length the user intends to read."
   ]
  },
  {
   "cell_type": "code",
   "execution_count": null,
   "metadata": {},
   "outputs": [],
   "source": [
    "MEMORY_ADDRESS  = 0x0000\n",
    "DATA_LENGTH     = 1024 # in bytes\n",
    "\n",
    "request_result = supernova_target.i3cTargetReadMemory(getId(), MEMORY_ADDRESS, DATA_LENGTH)"
   ]
  },
  {
   "cell_type": "markdown",
   "metadata": {},
   "source": [
    "#### 3.10 I3C WRITE AND READ"
   ]
  },
  {
   "cell_type": "markdown",
   "metadata": {},
   "source": [
    "##### 3.10.1 I3C WRITE INDICATING THE START ADDRESS AND THE DATA"
   ]
  },
  {
   "cell_type": "code",
   "execution_count": null,
   "metadata": {},
   "outputs": [],
   "source": [
    "TARGET_ADDR     = 0x08\n",
    "MODE            = TransferMode.I3C_SDR\n",
    "PUSH_PULL_RATE  = I3cPushPullTransferRate.PUSH_PULL_3_75_MHZ\n",
    "OPEN_DRAIN_RATE = I3cOpenDrainTransferRate.OPEN_DRAIN_100_KHZ\n",
    "REG_ADDR        = [0x00, 0x00]\n",
    "DATA            = [0xEE for i in range(5)]\n",
    "\n",
    "request_result = supernova_controller.i3cWrite(getId(), \n",
    "                                    TARGET_ADDR, \n",
    "                                    MODE, \n",
    "                                    PUSH_PULL_RATE, \n",
    "                                    OPEN_DRAIN_RATE, \n",
    "                                    REG_ADDR, \n",
    "                                    DATA)"
   ]
  },
  {
   "cell_type": "markdown",
   "metadata": {},
   "source": [
    "##### 3.10.2 I3C READ WITHOUT INDICATING THE START ADDRESS\n",
    "\n",
    "The target will assume that the start of the new operation is the end of the previous one"
   ]
  },
  {
   "cell_type": "code",
   "execution_count": null,
   "metadata": {},
   "outputs": [],
   "source": [
    "TARGET_ADDR     = 0x08\n",
    "MODE            = TransferMode.I3C_SDR\n",
    "PUSH_PULL_RATE  = I3cPushPullTransferRate.PUSH_PULL_3_75_MHZ\n",
    "OPEN_DRAIN_RATE = I3cOpenDrainTransferRate.OPEN_DRAIN_100_KHZ\n",
    "REG_ADDR        = []\n",
    "LENGTH          = 10\n",
    "\n",
    "request_result = supernova_controller.i3cRead(getId(), \n",
    "                                    TARGET_ADDR, \n",
    "                                    MODE, \n",
    "                                    PUSH_PULL_RATE, \n",
    "                                    OPEN_DRAIN_RATE, \n",
    "                                    REG_ADDR, \n",
    "                                    LENGTH)"
   ]
  },
  {
   "cell_type": "markdown",
   "metadata": {},
   "source": [
    "##### 3.10.3 I3C WRITE-READ\n",
    "\n",
    "A write followed by a read with a RS in between"
   ]
  },
  {
   "cell_type": "code",
   "execution_count": null,
   "metadata": {},
   "outputs": [],
   "source": [
    "TARGET_ADDR     = 0x08\n",
    "MODE            = TransferMode.I3C_SDR\n",
    "PUSH_PULL_RATE  = I3cPushPullTransferRate.PUSH_PULL_3_75_MHZ\n",
    "OPEN_DRAIN_RATE = I3cOpenDrainTransferRate.OPEN_DRAIN_100_KHZ\n",
    "REG_ADDR        = [0xBC, 0x02] # 700\n",
    "LENGTH          = 5 # in bytes\n",
    "\n",
    "request_result = supernova_controller.i3cRead(getId(), \n",
    "                                    TARGET_ADDR, \n",
    "                                    MODE, \n",
    "                                    PUSH_PULL_RATE, \n",
    "                                    OPEN_DRAIN_RATE, \n",
    "                                    REG_ADDR, \n",
    "                                    LENGTH)"
   ]
  },
  {
   "cell_type": "markdown",
   "metadata": {},
   "source": [
    "##### 3.10.4 I3C WRITE INDICATING THE START ADDRESS FOLLOWED BY A READ WITHOUT ADDRESS"
   ]
  },
  {
   "cell_type": "code",
   "execution_count": null,
   "metadata": {},
   "outputs": [],
   "source": [
    "TARGET_ADDR     = 0x08\n",
    "MODE            = TransferMode.I3C_SDR\n",
    "PUSH_PULL_RATE  = I3cPushPullTransferRate.PUSH_PULL_3_75_MHZ\n",
    "OPEN_DRAIN_RATE = I3cOpenDrainTransferRate.OPEN_DRAIN_100_KHZ\n",
    "REG_ADDR        = [0xF4, 0x03] # 1012\n",
    "DATA            = []\n",
    "\n",
    "request_result = supernova_controller.i3cWrite(getId(), \n",
    "                                    TARGET_ADDR, \n",
    "                                    MODE, \n",
    "                                    PUSH_PULL_RATE, \n",
    "                                    OPEN_DRAIN_RATE, \n",
    "                                    REG_ADDR, \n",
    "                                    DATA)"
   ]
  },
  {
   "cell_type": "code",
   "execution_count": null,
   "metadata": {},
   "outputs": [],
   "source": [
    "TARGET_ADDR     = 0x08\n",
    "MODE            = TransferMode.I3C_SDR\n",
    "PUSH_PULL_RATE  = I3cPushPullTransferRate.PUSH_PULL_3_75_MHZ\n",
    "OPEN_DRAIN_RATE = I3cOpenDrainTransferRate.OPEN_DRAIN_100_KHZ\n",
    "REG_ADDR        = []\n",
    "LENGTH          = 6\n",
    "\n",
    "request_result = supernova_controller.i3cRead(getId(), \n",
    "                                    TARGET_ADDR, \n",
    "                                    MODE, \n",
    "                                    PUSH_PULL_RATE, \n",
    "                                    OPEN_DRAIN_RATE, \n",
    "                                    REG_ADDR, \n",
    "                                    LENGTH)"
   ]
  },
  {
   "cell_type": "markdown",
   "metadata": {},
   "source": [
    "#### 3.10.5 BORDER CASES"
   ]
  },
  {
   "cell_type": "markdown",
   "metadata": {},
   "source": [
    "##### 3.10.5.1 USER TRIES TO START A TRANSFER SURPASSING THE MEMORY RANGE\n",
    "\n",
    "The target will ignore the bytes of address and will start the transfer from the end of the the previous one."
   ]
  },
  {
   "cell_type": "code",
   "execution_count": null,
   "metadata": {},
   "outputs": [],
   "source": [
    "TARGET_ADDR     = 0x08\n",
    "MODE            = TransferMode.I3C_SDR\n",
    "PUSH_PULL_RATE  = I3cPushPullTransferRate.PUSH_PULL_3_75_MHZ\n",
    "OPEN_DRAIN_RATE = I3cOpenDrainTransferRate.OPEN_DRAIN_100_KHZ\n",
    "REG_ADDR        = [0x01, 0x04] # 1025\n",
    "DATA            = [0xEE for i in range(4)]\n",
    "\n",
    "request_result = supernova_controller.i3cWrite(getId(), \n",
    "                                    TARGET_ADDR, \n",
    "                                    MODE, \n",
    "                                    PUSH_PULL_RATE, \n",
    "                                    OPEN_DRAIN_RATE, \n",
    "                                    REG_ADDR, \n",
    "                                    DATA)"
   ]
  },
  {
   "cell_type": "markdown",
   "metadata": {},
   "source": [
    "##### 3.10.5.2 THE TRANSFER STARTS IN AN ALLOWED ADDRESS BUT TRIES TO SURPASS THE MEMORY RANGE ON THE GO\n",
    "\n",
    "It will only modify the bytes in the allowed range and discard the rest. The end of the transfer is taken as the end of the memory"
   ]
  },
  {
   "cell_type": "code",
   "execution_count": null,
   "metadata": {},
   "outputs": [],
   "source": [
    "TARGET_ADDR     = 0x08\n",
    "MODE            = TransferMode.I3C_SDR\n",
    "PUSH_PULL_RATE  = I3cPushPullTransferRate.PUSH_PULL_3_75_MHZ\n",
    "OPEN_DRAIN_RATE = I3cOpenDrainTransferRate.OPEN_DRAIN_100_KHZ\n",
    "REG_ADDR        = [0xFC, 0x03] # 1020\n",
    "DATA            = []\n",
    "\n",
    "request_result = supernova_controller.i3cWrite(getId(), \n",
    "                                    TARGET_ADDR, \n",
    "                                    MODE, \n",
    "                                    PUSH_PULL_RATE, \n",
    "                                    OPEN_DRAIN_RATE, \n",
    "                                    REG_ADDR, \n",
    "                                    DATA)"
   ]
  },
  {
   "cell_type": "code",
   "execution_count": null,
   "metadata": {},
   "outputs": [],
   "source": [
    "TARGET_ADDR     = 0x08\n",
    "MODE            = TransferMode.I3C_SDR\n",
    "PUSH_PULL_RATE  = I3cPushPullTransferRate.PUSH_PULL_3_75_MHZ\n",
    "OPEN_DRAIN_RATE = I3cOpenDrainTransferRate.OPEN_DRAIN_100_KHZ\n",
    "REG_ADDR        = []\n",
    "LENGTH          = 30\n",
    "\n",
    "request_result = supernova_controller.i3cRead(getId(), \n",
    "                                    TARGET_ADDR, \n",
    "                                    MODE, \n",
    "                                    PUSH_PULL_RATE, \n",
    "                                    OPEN_DRAIN_RATE, \n",
    "                                    REG_ADDR, \n",
    "                                    LENGTH)"
   ]
  },
  {
   "cell_type": "markdown",
   "metadata": {},
   "source": [
    "#### 3.11 Initialize the Supernova I3C peripheral as a target memory with a register size of 4 bytes"
   ]
  },
  {
   "cell_type": "code",
   "execution_count": null,
   "metadata": {},
   "outputs": [],
   "source": [
    "MICRO_SECONDS_TO_WAIT_FOR_IBI = 0x69\n",
    "MAX_READ_LENGTH = 0x100\n",
    "MAX_WRITE_LENGTH = 0x100\n",
    "\n",
    "features =  DdrOk.ALLOWED_DDR.value |   \\\n",
    "            IgnoreTE0TE1Errors.IGNORE_ERRORS.value |   \\\n",
    "            MatchStartStop.NOT_MATCH.value |   \\\n",
    "            AlwaysNack.NOT_ALWAYS_NACK.value \n",
    "\n",
    "request_result = supernova_target.i3cTargetInit(getId(), I3cTargetMemoryLayout_t.MEM_4_BYTES, MICRO_SECONDS_TO_WAIT_FOR_IBI, MAX_READ_LENGTH, MAX_WRITE_LENGTH, features)"
   ]
  },
  {
   "cell_type": "markdown",
   "metadata": {},
   "source": [
    "#### 3.12 Init the bus"
   ]
  },
  {
   "cell_type": "code",
   "execution_count": null,
   "metadata": {},
   "outputs": [],
   "source": [
    "request_result = supernova_controller.i3cInitBus(getId())"
   ]
  },
  {
   "cell_type": "markdown",
   "metadata": {},
   "source": [
    "#### 3.13 I3C TARGET MEMORY RELATED COMMANDS WITH THE TARGET ACTING AS A MEMORY WITH A REGISTER SIZE OF 4 BYTES"
   ]
  },
  {
   "cell_type": "code",
   "execution_count": null,
   "metadata": {},
   "outputs": [],
   "source": [
    "MEMORY_ADDRESS  = 0x0000\n",
    "DATA            = [i%0xFA for i in range(0,1024)]\n",
    "\n",
    "request_result = supernova_target.i3cTargetWriteMemory(getId(), MEMORY_ADDRESS, DATA)"
   ]
  },
  {
   "cell_type": "markdown",
   "metadata": {},
   "source": [
    "##### 3.13.1 I3C TARGET WRITE MEMORY\n",
    "\n",
    "The public method ``Supernova.i3cTargetWriteMemory()`` writes the memory of the target Supernova using only USB communication.\n",
    "\n",
    "```python\n",
    "i3cTargetWriteMemory(id, memoryAddr, data)\n",
    "```\n",
    "\n",
    "- ``id: c_uint16``: Identifies the command.\n",
    "- ``memoryAddr: c_uint16``: Address of the memory to start writing.\n",
    "- ``data: list``: Data to write."
   ]
  },
  {
   "cell_type": "code",
   "execution_count": null,
   "metadata": {},
   "outputs": [],
   "source": [
    "MEMORY_ADDRESS  = 0x0A\n",
    "DATA            = [0xFF for i in range(0,8)]\n",
    "\n",
    "request_result = supernova_target.i3cTargetWriteMemory(getId(), MEMORY_ADDRESS, DATA)"
   ]
  },
  {
   "cell_type": "markdown",
   "metadata": {},
   "source": [
    "##### 3.13.2 I3C TARGET READ MEMORY\n",
    "\n",
    "The public method ``Supernova.i3cTargetReadMemory()`` reads the memory of the target Supernova using only USB communication.\n",
    "\n",
    "```python\n",
    "i3cTargetReadMemory(id, memoryAddr, length)\n",
    "```\n",
    "\n",
    "- ``id: c_uint16``: Identifies the command.\n",
    "- ``memoryAddr: c_uint16``: Address of the memory to start reading.\n",
    "- ``length: c_uint16``: Data length the user intends to read."
   ]
  },
  {
   "cell_type": "code",
   "execution_count": null,
   "metadata": {},
   "outputs": [],
   "source": [
    "MEMORY_ADDRESS  = 0x00\n",
    "DATA_LENGTH     = 1024 # in bytes\n",
    "\n",
    "request_result = supernova_target.i3cTargetReadMemory(getId(), MEMORY_ADDRESS, DATA_LENGTH)"
   ]
  },
  {
   "cell_type": "markdown",
   "metadata": {},
   "source": [
    "#### 3.14 I3C WRITE AND READ"
   ]
  },
  {
   "cell_type": "markdown",
   "metadata": {},
   "source": [
    "##### 3.14.1 I3C WRITE INDICATING THE START ADDRESS AND THE DATA"
   ]
  },
  {
   "cell_type": "code",
   "execution_count": null,
   "metadata": {},
   "outputs": [],
   "source": [
    "TARGET_ADDR     = 0x08\n",
    "MODE            = TransferMode.I3C_SDR\n",
    "PUSH_PULL_RATE  = I3cPushPullTransferRate.PUSH_PULL_3_75_MHZ\n",
    "OPEN_DRAIN_RATE = I3cOpenDrainTransferRate.OPEN_DRAIN_100_KHZ\n",
    "REG_ADDR        = [0x3B] # register 59 = byte 236\n",
    "DATA            = [0xEE for i in range(8)]\n",
    "\n",
    "request_result = supernova_controller.i3cWrite(getId(), \n",
    "                                    TARGET_ADDR, \n",
    "                                    MODE, \n",
    "                                    PUSH_PULL_RATE, \n",
    "                                    OPEN_DRAIN_RATE, \n",
    "                                    REG_ADDR, \n",
    "                                    DATA)"
   ]
  },
  {
   "cell_type": "markdown",
   "metadata": {},
   "source": [
    "##### 3.14.2 I3C READ WITHOUT INDICATING THE START ADDRESS\n",
    "\n",
    "The target will assume that the start of the new operation is the end of the previous one"
   ]
  },
  {
   "cell_type": "code",
   "execution_count": null,
   "metadata": {},
   "outputs": [],
   "source": [
    "TARGET_ADDR     = 0x08\n",
    "MODE            = TransferMode.I3C_SDR\n",
    "PUSH_PULL_RATE  = I3cPushPullTransferRate.PUSH_PULL_3_75_MHZ\n",
    "OPEN_DRAIN_RATE = I3cOpenDrainTransferRate.OPEN_DRAIN_100_KHZ\n",
    "REG_ADDR        = []\n",
    "LENGTH          = 4\n",
    "\n",
    "request_result = supernova_controller.i3cRead(getId(), \n",
    "                                    TARGET_ADDR, \n",
    "                                    MODE, \n",
    "                                    PUSH_PULL_RATE, \n",
    "                                    OPEN_DRAIN_RATE, \n",
    "                                    REG_ADDR, \n",
    "                                    LENGTH)"
   ]
  },
  {
   "cell_type": "markdown",
   "metadata": {},
   "source": [
    "##### 3.14.3 I3C WRITE-READ\n",
    "\n",
    "A write followed by a read with a RS in between"
   ]
  },
  {
   "cell_type": "code",
   "execution_count": null,
   "metadata": {},
   "outputs": [],
   "source": [
    "TARGET_ADDR     = 0x08\n",
    "MODE            = TransferMode.I3C_SDR\n",
    "PUSH_PULL_RATE  = I3cPushPullTransferRate.PUSH_PULL_3_75_MHZ\n",
    "OPEN_DRAIN_RATE = I3cOpenDrainTransferRate.OPEN_DRAIN_100_KHZ\n",
    "REG_ADDR        = [0x7D] # register 125 = byte 500\n",
    "LENGTH          = 8 # in bytes\n",
    "\n",
    "request_result = supernova_controller.i3cRead(getId(), \n",
    "                                    TARGET_ADDR, \n",
    "                                    MODE, \n",
    "                                    PUSH_PULL_RATE, \n",
    "                                    OPEN_DRAIN_RATE, \n",
    "                                    REG_ADDR, \n",
    "                                    LENGTH)"
   ]
  },
  {
   "cell_type": "markdown",
   "metadata": {},
   "source": [
    "##### 3.14.4 I3C WRITE INDICATING THE START ADDRESS FOLLOWED BY A READ WITHOUT ADDRESS"
   ]
  },
  {
   "cell_type": "code",
   "execution_count": null,
   "metadata": {},
   "outputs": [],
   "source": [
    "TARGET_ADDR     = 0x08\n",
    "MODE            = TransferMode.I3C_SDR\n",
    "PUSH_PULL_RATE  = I3cPushPullTransferRate.PUSH_PULL_3_75_MHZ\n",
    "OPEN_DRAIN_RATE = I3cOpenDrainTransferRate.OPEN_DRAIN_100_KHZ\n",
    "REG_ADDR        = [0xFE] # register 254 = byte 1016  \n",
    "DATA            = []\n",
    "\n",
    "request_result = supernova_controller.i3cWrite(getId(), \n",
    "                                    TARGET_ADDR, \n",
    "                                    MODE, \n",
    "                                    PUSH_PULL_RATE, \n",
    "                                    OPEN_DRAIN_RATE, \n",
    "                                    REG_ADDR, \n",
    "                                    DATA)"
   ]
  },
  {
   "cell_type": "code",
   "execution_count": null,
   "metadata": {},
   "outputs": [],
   "source": [
    "TARGET_ADDR     = 0x08\n",
    "MODE            = TransferMode.I3C_SDR\n",
    "PUSH_PULL_RATE  = I3cPushPullTransferRate.PUSH_PULL_3_75_MHZ\n",
    "OPEN_DRAIN_RATE = I3cOpenDrainTransferRate.OPEN_DRAIN_100_KHZ\n",
    "REG_ADDR        = []\n",
    "LENGTH          = 4\n",
    "\n",
    "request_result = supernova_controller.i3cRead(getId(), \n",
    "                                    TARGET_ADDR, \n",
    "                                    MODE, \n",
    "                                    PUSH_PULL_RATE, \n",
    "                                    OPEN_DRAIN_RATE, \n",
    "                                    REG_ADDR, \n",
    "                                    LENGTH)"
   ]
  },
  {
   "cell_type": "markdown",
   "metadata": {},
   "source": [
    "#### 3.14.5 BORDER CASES"
   ]
  },
  {
   "cell_type": "markdown",
   "metadata": {},
   "source": [
    "##### 3.14.5.1 THE TRANSFER STARTS IN AN ALLOWED ADDRESS BUT TRIES TO SURPASS THE MEMORY RANGE ON THE GO\n",
    "\n",
    "It will only modify the bytes in the allowed range and discard the rest. The end of the transfer is taken as the end of the memory"
   ]
  },
  {
   "cell_type": "code",
   "execution_count": null,
   "metadata": {},
   "outputs": [],
   "source": [
    "TARGET_ADDR     = 0x08\n",
    "MODE            = TransferMode.I3C_SDR\n",
    "PUSH_PULL_RATE  = I3cPushPullTransferRate.PUSH_PULL_3_75_MHZ\n",
    "OPEN_DRAIN_RATE = I3cOpenDrainTransferRate.OPEN_DRAIN_100_KHZ\n",
    "REG_ADDR        = [0xFD] # register 253 = byte 1012\n",
    "DATA            = []\n",
    "\n",
    "request_result = supernova_controller.i3cWrite(getId(), \n",
    "                                    TARGET_ADDR, \n",
    "                                    MODE, \n",
    "                                    PUSH_PULL_RATE, \n",
    "                                    OPEN_DRAIN_RATE, \n",
    "                                    REG_ADDR, \n",
    "                                    DATA)"
   ]
  },
  {
   "cell_type": "code",
   "execution_count": null,
   "metadata": {},
   "outputs": [],
   "source": [
    "TARGET_ADDR     = 0x08\n",
    "MODE            = TransferMode.I3C_SDR\n",
    "PUSH_PULL_RATE  = I3cPushPullTransferRate.PUSH_PULL_3_75_MHZ\n",
    "OPEN_DRAIN_RATE = I3cOpenDrainTransferRate.OPEN_DRAIN_100_KHZ\n",
    "REG_ADDR        = []\n",
    "LENGTH          = 40\n",
    "\n",
    "request_result = supernova_controller.i3cRead(getId(), \n",
    "                                    TARGET_ADDR, \n",
    "                                    MODE, \n",
    "                                    PUSH_PULL_RATE, \n",
    "                                    OPEN_DRAIN_RATE, \n",
    "                                    REG_ADDR, \n",
    "                                    LENGTH)"
   ]
  },
  {
   "cell_type": "markdown",
   "metadata": {},
   "source": [
    "#### 3.15 LONG TRANSFERS"
   ]
  },
  {
   "cell_type": "markdown",
   "metadata": {},
   "source": [
    "##### 3.15.1 I3C WRITE INDICATING THE START ADDRESS AND THE DATA"
   ]
  },
  {
   "cell_type": "code",
   "execution_count": null,
   "metadata": {},
   "outputs": [],
   "source": [
    "TARGET_ADDR     = 0x08\n",
    "MODE            = TransferMode.I3C_SDR\n",
    "PUSH_PULL_RATE  = I3cPushPullTransferRate.PUSH_PULL_3_75_MHZ\n",
    "OPEN_DRAIN_RATE = I3cOpenDrainTransferRate.OPEN_DRAIN_100_KHZ\n",
    "REG_ADDR        = [0x00] \n",
    "DATA            = [0x47 for i in range(254)] + [0x07] + [0x37 for i in range(769)]\n",
    "\n",
    "request_result = supernova_controller.i3cWrite(getId(), \n",
    "                                    TARGET_ADDR, \n",
    "                                    MODE, \n",
    "                                    PUSH_PULL_RATE, \n",
    "                                    OPEN_DRAIN_RATE, \n",
    "                                    REG_ADDR, \n",
    "                                    DATA)"
   ]
  },
  {
   "cell_type": "markdown",
   "metadata": {},
   "source": [
    "##### 3.15.2 I3C WRITE-READ\n",
    "\n",
    "A write followed by a read with a RS in between"
   ]
  },
  {
   "cell_type": "code",
   "execution_count": null,
   "metadata": {},
   "outputs": [],
   "source": [
    "TARGET_ADDR     = 0x08\n",
    "MODE            = TransferMode.I3C_SDR\n",
    "PUSH_PULL_RATE  = I3cPushPullTransferRate.PUSH_PULL_3_75_MHZ\n",
    "OPEN_DRAIN_RATE = I3cOpenDrainTransferRate.OPEN_DRAIN_100_KHZ\n",
    "REG_ADDR        = [0x00] \n",
    "LENGTH          = 255 # in bytes\n",
    "\n",
    "request_result = supernova_controller.i3cRead(getId(), \n",
    "                                    TARGET_ADDR, \n",
    "                                    MODE, \n",
    "                                    PUSH_PULL_RATE, \n",
    "                                    OPEN_DRAIN_RATE, \n",
    "                                    REG_ADDR, \n",
    "                                    LENGTH)"
   ]
  },
  {
   "cell_type": "markdown",
   "metadata": {},
   "source": [
    "##### 3.15.3 I3C WRITE INDICATING THE START ADDRESS FOLLOWED BY A READ WITHOUT ADDRESS"
   ]
  },
  {
   "cell_type": "code",
   "execution_count": null,
   "metadata": {},
   "outputs": [],
   "source": [
    "TARGET_ADDR     = 0x08\n",
    "MODE            = TransferMode.I3C_SDR\n",
    "PUSH_PULL_RATE  = I3cPushPullTransferRate.PUSH_PULL_3_75_MHZ\n",
    "OPEN_DRAIN_RATE = I3cOpenDrainTransferRate.OPEN_DRAIN_100_KHZ\n",
    "REG_ADDR        = [0x00] \n",
    "DATA            = []\n",
    "\n",
    "request_result = supernova_controller.i3cWrite(getId(), \n",
    "                                    TARGET_ADDR, \n",
    "                                    MODE, \n",
    "                                    PUSH_PULL_RATE, \n",
    "                                    OPEN_DRAIN_RATE, \n",
    "                                    REG_ADDR, \n",
    "                                    DATA)"
   ]
  },
  {
   "cell_type": "code",
   "execution_count": null,
   "metadata": {},
   "outputs": [],
   "source": [
    "TARGET_ADDR     = 0x08\n",
    "MODE            = TransferMode.I3C_SDR\n",
    "PUSH_PULL_RATE  = I3cPushPullTransferRate.PUSH_PULL_3_75_MHZ\n",
    "OPEN_DRAIN_RATE = I3cOpenDrainTransferRate.OPEN_DRAIN_100_KHZ\n",
    "REG_ADDR        = [0x00] \n",
    "LENGTH          = 255 # in bytes\n",
    "\n",
    "request_result = supernova_controller.i3cRead(getId(), \n",
    "                                    TARGET_ADDR, \n",
    "                                    MODE, \n",
    "                                    PUSH_PULL_RATE, \n",
    "                                    OPEN_DRAIN_RATE, \n",
    "                                    REG_ADDR, \n",
    "                                    LENGTH)"
   ]
  },
  {
   "cell_type": "markdown",
   "metadata": {},
   "source": [
    "##### 3.15.3 I3C WRITE INDICATING THE START ADDRESS FOLLOWED BY A READ WITHOUT ADDRESS"
   ]
  },
  {
   "cell_type": "code",
   "execution_count": null,
   "metadata": {},
   "outputs": [],
   "source": [
    "TARGET_ADDR     = 0x08\n",
    "MODE            = TransferMode.I3C_SDR\n",
    "PUSH_PULL_RATE  = I3cPushPullTransferRate.PUSH_PULL_3_75_MHZ\n",
    "OPEN_DRAIN_RATE = I3cOpenDrainTransferRate.OPEN_DRAIN_100_KHZ\n",
    "REG_ADDR        = [0x00] \n",
    "DATA            = []\n",
    "\n",
    "request_result = supernova_controller.i3cWrite(getId(), \n",
    "                                    TARGET_ADDR, \n",
    "                                    MODE, \n",
    "                                    PUSH_PULL_RATE, \n",
    "                                    OPEN_DRAIN_RATE, \n",
    "                                    REG_ADDR, \n",
    "                                    DATA)"
   ]
  },
  {
   "cell_type": "code",
   "execution_count": null,
   "metadata": {},
   "outputs": [],
   "source": [
    "TARGET_ADDR     = 0x08\n",
    "MODE            = TransferMode.I3C_SDR\n",
    "PUSH_PULL_RATE  = I3cPushPullTransferRate.PUSH_PULL_3_75_MHZ\n",
    "OPEN_DRAIN_RATE = I3cOpenDrainTransferRate.OPEN_DRAIN_100_KHZ\n",
    "REG_ADDR        = []\n",
    "LENGTH          = 255\n",
    "\n",
    "request_result = supernova_controller.i3cRead(getId(), \n",
    "                                    TARGET_ADDR, \n",
    "                                    MODE, \n",
    "                                    PUSH_PULL_RATE, \n",
    "                                    OPEN_DRAIN_RATE, \n",
    "                                    REG_ADDR, \n",
    "                                    LENGTH)"
   ]
  }
 ],
 "metadata": {
  "kernelspec": {
   "display_name": "Python 3",
   "language": "python",
   "name": "python3"
  },
  "language_info": {
   "codemirror_mode": {
    "name": "ipython",
    "version": 3
   },
   "file_extension": ".py",
   "mimetype": "text/x-python",
   "name": "python",
   "nbconvert_exporter": "python",
   "pygments_lexer": "ipython3",
   "version": "3.11.8"
  },
  "orig_nbformat": 4
 },
 "nbformat": 4,
 "nbformat_minor": 2
}
