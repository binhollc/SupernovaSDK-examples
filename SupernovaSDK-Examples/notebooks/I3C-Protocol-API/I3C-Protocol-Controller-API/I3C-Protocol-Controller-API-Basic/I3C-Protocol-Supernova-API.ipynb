{
 "cells": [
  {
   "cell_type": "code",
   "execution_count": null,
   "metadata": {},
   "outputs": [],
   "source": [
    "# Import Python package\n",
    "import binhosupernova\n",
    "from binhosupernova.supernova import Supernova\n",
    "from binhosupernova.commands.i3c.definitions import *\n",
    "from binhosupernova.commands.system.definitions import GetUsbStringSubCommand"
   ]
  },
  {
   "cell_type": "markdown",
   "metadata": {},
   "source": [
    "## Getting started"
   ]
  },
  {
   "attachments": {},
   "cell_type": "markdown",
   "metadata": {},
   "source": [
    "#### 1. List all the Supernova devices connected to the PC host\n",
    "\n",
    "The ``binhosupernova.getConnectedSupernovaDevicesList()`` gets a list of the Supernova devices plugged into the host PC machine."
   ]
  },
  {
   "cell_type": "code",
   "execution_count": null,
   "metadata": {},
   "outputs": [
    {
     "data": {
      "text/plain": [
       "[{'path': '\\\\\\\\?\\\\HID#VID_1FC9&PID_82FC#6&39aa8cf6&2&0000#{4d1e55b2-f16f-11cf-88cb-001111000030}',\n",
       "  'vendor_id': '0x1fc9',\n",
       "  'product_id': '0x82fc',\n",
       "  'serial_number': 'D6175D813F06E05EA0A6A497E6C926A',\n",
       "  'release_number': 256,\n",
       "  'manufacturer_string': 'Binho LLC',\n",
       "  'product_string': 'Binho Supernova',\n",
       "  'usage_page': 65280,\n",
       "  'usage': 1,\n",
       "  'interface_number': 0}]"
      ]
     },
     "execution_count": 2,
     "metadata": {},
     "output_type": "execute_result"
    }
   ],
   "source": [
    "binhosupernova.getConnectedSupernovaDevicesList()"
   ]
  },
  {
   "attachments": {},
   "cell_type": "markdown",
   "metadata": {},
   "source": [
    "#### 2. Create an instance of the Supernova class\n",
    "\n",
    "To utilize a Supernova USB host adapter device, we need to create an instance of the Supernova class."
   ]
  },
  {
   "cell_type": "code",
   "execution_count": 3,
   "metadata": {},
   "outputs": [],
   "source": [
    "# Create a device instance. One instance of the Supernova class represents a Supernova USB host adapter device.\n",
    "supernova = Supernova()"
   ]
  },
  {
   "cell_type": "markdown",
   "metadata": {},
   "source": [
    "#### 3. Open connection to the Supernova device\n",
    "\n",
    "The public method ``Supernova.open()`` establishes the connection with a Supernova device. Below is the complete signature:\n",
    "\n",
    "```python\n",
    "open(serial, path)\n",
    "```\n",
    "\n",
    "- ``serial: str``: The Supernova serial number.\n",
    "- ``path: str``: The OS HID path assigned to the device. This can be obtained using the ``binhosupernova.getConnectedSupernovaDevicesList()`` method. The ``path`` parameter is currently the only way to uniquely identify each Supernova device. Therefore, it is recommended to use the ``path`` parameter, especially when opening connections with more than one Supernova device simultaneously."
   ]
  },
  {
   "cell_type": "code",
   "execution_count": 4,
   "metadata": {},
   "outputs": [
    {
     "data": {
      "text/plain": [
       "{'module': 0,\n",
       " 'opcode': 0,\n",
       " 'message': 'Connection with Supernova device opened successfully.'}"
      ]
     },
     "execution_count": 4,
     "metadata": {},
     "output_type": "execute_result"
    }
   ],
   "source": [
    "# Use the method by default to connect to only one Supernova device.\n",
    "supernova.open()\n",
    "\n",
    "# Otherwise, use the path attribute to identify each Supernova device. Uncomment the line below and comment the line #2.\n",
    "# supernova.open(path='\\\\\\\\?\\\\HID#VID_1FC9&PID_82FC#6&48d9417&0&0000#{4d1e55b2-f16f-11cf-88cb-001111000030}')"
   ]
  },
  {
   "attachments": {},
   "cell_type": "markdown",
   "metadata": {},
   "source": [
    "#### 4. Define and register a callback to handle responses and notifications from Supernova\n",
    "\n",
    "To handle responses and notifications from Supernova, a callback function must be defined and registered. This function will be invoked every time the Supernova sends a response to a request, an asynchronous notification, or a message from the system.\n",
    "\n",
    "The callback function's signature is as follows: \n",
    "\n",
    "``def callback_function_name(supernova_message: dict, system_message: dict) -> None:``\n",
    "\n",
    "Once the callback function is defined, it should be registered using the ``Supernova.onEvent(callback_function)`` method."
   ]
  },
  {
   "cell_type": "code",
   "execution_count": 5,
   "metadata": {},
   "outputs": [],
   "source": [
    "# Define callback function\n",
    "def callback_function(supernova_message: dict, system_message: dict) -> None:\n",
    "\n",
    "    if supernova_message != None:\n",
    "\n",
    "        # Print a header\n",
    "        print(\">> New message from SUPERNOVA:\")\n",
    "        print(supernova_message)\n",
    "\n",
    "    if system_message != None:\n",
    "\n",
    "        # Print a header\n",
    "        print(\">> New message from the SYSTEM:\")\n",
    "        print(system_message)"
   ]
  },
  {
   "cell_type": "code",
   "execution_count": 6,
   "metadata": {},
   "outputs": [
    {
     "data": {
      "text/plain": [
       "{'module': 0,\n",
       " 'opcode': 0,\n",
       " 'message': 'On event callback function registered successfully.'}"
      ]
     },
     "execution_count": 6,
     "metadata": {},
     "output_type": "execute_result"
    }
   ],
   "source": [
    "# Register callback function\n",
    "supernova.onEvent(callback_function)"
   ]
  },
  {
   "attachments": {},
   "cell_type": "markdown",
   "metadata": {},
   "source": [
    "#### 5. Define a function to generate transaction IDs\n",
    "\n",
    "All the request messages sent to the Supernova from the USB Host application must include the transaction or request ID. The ID is a 2-byte integer with an allowed range of ``[1, 65535]``.\n",
    "\n",
    "In this example, a dummy function called ``getId()`` is defined to increment a transaction counter used as the ID."
   ]
  },
  {
   "cell_type": "code",
   "execution_count": 7,
   "metadata": {},
   "outputs": [],
   "source": [
    "#Auxiliar code to generate IDs.\n",
    "\n",
    "counter_id = 0\n",
    "\n",
    "def getId():\n",
    "    global counter_id\n",
    "    counter_id = counter_id + 1\n",
    "    return counter_id"
   ]
  },
  {
   "cell_type": "markdown",
   "metadata": {},
   "source": [
    "#### 6. Test communication with a basic command such as ``GET USB STRING``\n",
    "\n",
    "The ``GET USB STRING`` command allows you to retrieve various string values related to the product, such as the manufacturer, product name, serial number, firmware version, and hardware version. This command serves as a basic test to verify the communication and functionality with the Supernova device. By successfully receiving the expected string values, you can ensure that the communication between the PC host and the Supernova device is functioning as expected."
   ]
  },
  {
   "cell_type": "code",
   "execution_count": 8,
   "metadata": {},
   "outputs": [
    {
     "name": "stdout",
     "output_type": "stream",
     "text": [
      ">> New message from SUPERNOVA:\n",
      "{'id': 1, 'command': 'SYS GET USB STRING', 'result': 'SUCCESS', 'payload_length': 12, 'payload': 'MN-Binho LLC'}\n",
      ">> New message from SUPERNOVA:\n",
      "{'id': 2, 'command': 'SYS GET USB STRING', 'result': 'SUCCESS', 'payload_length': 18, 'payload': 'PR-Binho Supernova'}\n",
      ">> New message from SUPERNOVA:\n",
      "{'id': 3, 'command': 'SYS GET USB STRING', 'result': 'SUCCESS', 'payload_length': 35, 'payload': 'SN-D6175D813F06E05EA0A6A497E6C926A6'}\n",
      ">> New message from SUPERNOVA:\n",
      "{'id': 4, 'command': 'SYS GET USB STRING', 'result': 'SUCCESS', 'payload_length': 20, 'payload': 'FW-3.2.0-272-078e740'}\n",
      ">> New message from SUPERNOVA:\n",
      "{'id': 5, 'command': 'SYS GET USB STRING', 'result': 'SUCCESS', 'payload_length': 4, 'payload': 'HW-C'}\n"
     ]
    }
   ],
   "source": [
    "# GET USB STRING - Get Manufacturer\n",
    "request_result = supernova.getUsbString(getId(), GetUsbStringSubCommand.MANUFACTURER)\n",
    "\n",
    "# GET USB STRING  - Get Product Name\n",
    "request_result = supernova.getUsbString(getId(), GetUsbStringSubCommand.PRODUCT_NAME)\n",
    "\n",
    "# GET USB STRING  - Get Serial Number\n",
    "request_result = supernova.getUsbString(getId(), GetUsbStringSubCommand.SERIAL_NUMBER)\n",
    "\n",
    "# GET USB STRING  - Firmware Version\n",
    "request_result = supernova.getUsbString(getId(), GetUsbStringSubCommand.FW_VERSION)\n",
    "\n",
    "# GET USB STRING  - Hardware Version\n",
    "request_result = supernova.getUsbString(getId(), GetUsbStringSubCommand.HW_VERSION)"
   ]
  },
  {
   "attachments": {},
   "cell_type": "markdown",
   "metadata": {},
   "source": [
    "## I3C Protocol API\n",
    "\n",
    "The I3C Protocol API methods are described below."
   ]
  },
  {
   "cell_type": "markdown",
   "metadata": {},
   "source": [
    "### 1. Configure the Supernova as an I3C Controller\n",
    "\n",
    "``Supernova.i3cControllerInit(id, pushPullRate, i3cOpenDrainRate, i2cOpenDrainRate)``\n",
    "\n",
    "This method initializes the Supernova as an I3C controller.\n",
    "\n",
    "  - `id: int`: A 2-byte integer that represents the transfer ID.\n",
    "  - `pushPullRate: I3cPushPullTransferRate`: Push-Pull frequency.\n",
    "  - `i3cOpenDrainRate: I3cOpenDrainTransferRate`: I3C frequency in Open Drain mode.\n",
    "  - `i2cOpenDrainRate: I2cTransferRate`: I2C frequency."
   ]
  },
  {
   "cell_type": "code",
   "execution_count": 9,
   "metadata": {},
   "outputs": [
    {
     "data": {
      "text/plain": [
       "{'module': 1, 'opcode': 0, 'message': 'I3C CONTROLLER INIT request success'}"
      ]
     },
     "execution_count": 9,
     "metadata": {},
     "output_type": "execute_result"
    },
    {
     "name": "stdout",
     "output_type": "stream",
     "text": [
      ">> New message from SUPERNOVA:\n",
      "{'id': 6, 'command': 'I3C CONTROLLER INIT', 'result': 'SUCCESS'}\n"
     ]
    }
   ],
   "source": [
    "supernova.i3cControllerInit(getId(), I3cPushPullTransferRate.PUSH_PULL_3_75_MHZ, I3cOpenDrainTransferRate.OPEN_DRAIN_250_KHZ, I2cTransferRate._400KHz)"
   ]
  },
  {
   "cell_type": "markdown",
   "metadata": {},
   "source": [
    "### 2. Set I3C voltage\n",
    "\n",
    "``Supernova.setI3cVoltage(id, voltage_mV)``\n",
    "\n",
    "This method supplies the indicated voltage to the I3C bus in mV, ranging from 800 mV up to 3300 mV. \n",
    "\n",
    "- ``id: int`` : A 2-byte integer that represents the transfer ID.\n",
    "- ``voltage_mV: c_int16 ``: The voltage parameter is a 2-byte integer in the range [800, 3300] mV and allows the value 0 mV to power off the output voltage.\n",
    "\n",
    "There are 2 I3C ports:\n",
    "- I3C LV: from 800 mV to 1199 mV\n",
    "- I3C HV: from 1200 mV to 3300 mV"
   ]
  },
  {
   "cell_type": "code",
   "execution_count": 10,
   "metadata": {},
   "outputs": [
    {
     "data": {
      "text/plain": [
       "{'module': 1, 'opcode': 0, 'message': 'SET I3C VOLTAGE request success'}"
      ]
     },
     "execution_count": 10,
     "metadata": {},
     "output_type": "execute_result"
    },
    {
     "name": "stdout",
     "output_type": "stream",
     "text": [
      ">> New message from SUPERNOVA:\n",
      "{'id': 7, 'command': 'SYS SET I3C VOLTAGE', 'result': 'SUCCESS'}\n"
     ]
    }
   ],
   "source": [
    "supernova.setI3cVoltage(getId(), 3300)"
   ]
  },
  {
   "attachments": {},
   "cell_type": "markdown",
   "metadata": {},
   "source": [
    "### 3. I3C bus initialization\n",
    "\n",
    "There are two options:\n",
    "1. Initialize the bus with an **empty target devices table** and scan the I3C bus.\n",
    "2. Add target to the target device table before initializing the bus.\n",
    "\n",
    "In this case, the I3C Controller performs an RSTDAA and ENTDAA CCC. If one or more I3C Targets acknowledge the Broadcast Address 0x7E, then the Supernova \n",
    "will assign the lower available and valid dynamic address."
   ]
  },
  {
   "cell_type": "markdown",
   "metadata": {},
   "source": [
    "Previously, retrieve the target devices table with the method: `Supernova.i3cControllerGetTargetDevicesTable(getId())`"
   ]
  },
  {
   "cell_type": "code",
   "execution_count": 11,
   "metadata": {},
   "outputs": [
    {
     "name": "stdout",
     "output_type": "stream",
     "text": [
      ">> New message from SUPERNOVA:\n",
      "{'id': 8, 'command': 'I3C CONTROLLER GET TARGET DEVICES TABLE', 'result': 'SUCCESS', 'number_of_targets': 3, 'table': [{'static_address': 80, 'dynamic_address': 0, 'pid': [0, 0, 0, 0, 0, 0], 'bcr': 0, 'dcr': 0, 'mwl': 0, 'mrl': 0, 'max_ibi_payload_length': 0, 'configuration': {'target_type': 'I2C_DEVICE', 'interrupt_request': 'REJECT_IBI', 'controller_role_request': 'REJECT_CRR', 'setdasa': 'DO_NOT_USE_SETDASA', 'setaasa': 'DO_NOT_USE_SETAASA', 'entdaa': 'DO_NOT_USE_ENTDAA', 'ibi_timestamp': 'DISABLE_IBIT', 'pending_read_capability': 'DISABLE_AUTOMATIC_READ'}}, {'static_address': 107, 'dynamic_address': 10, 'pid': [0, 0, 0, 0, 0, 0], 'bcr': 0, 'dcr': 0, 'mwl': 0, 'mrl': 0, 'max_ibi_payload_length': 0, 'configuration': {'target_type': 'I3C_DEVICE', 'interrupt_request': 'ACCEPT_IBI', 'controller_role_request': 'REJECT_CRR', 'setdasa': 'USE_SETDASA', 'setaasa': 'DO_NOT_USE_SETAASA', 'entdaa': 'DO_NOT_USE_ENTDAA', 'ibi_timestamp': 'DISABLE_IBIT', 'pending_read_capability': 'DISABLE_AUTOMATIC_READ'}}, {'static_address': 0, 'dynamic_address': 11, 'pid': [7, 112, 16, 67, 16, 0], 'bcr': 6, 'dcr': 239, 'mwl': 0, 'mrl': 0, 'max_ibi_payload_length': 0, 'configuration': {'target_type': 'I3C_DEVICE', 'interrupt_request': 'ACCEPT_IBI', 'controller_role_request': 'REJECT_CRR', 'setdasa': 'DO_NOT_USE_SETDASA', 'setaasa': 'DO_NOT_USE_SETAASA', 'entdaa': 'USE_ENTDAA', 'ibi_timestamp': 'DISABLE_IBIT', 'pending_read_capability': 'DISABLE_AUTOMATIC_READ'}}]}\n"
     ]
    }
   ],
   "source": [
    "# Get the Target Devices Table from the Supernova. It must be empty before the bus initialization.\n",
    "request_result = supernova.i3cControllerGetTargetDevicesTable(getId())"
   ]
  },
  {
   "cell_type": "markdown",
   "metadata": {},
   "source": [
    "`Supernova.i3cControllerInitBus(id, table)`\n",
    "\n",
    "- `id: int`: A 2-byte integer that represents the transfer ID.\n",
    "- `table: dict`: A Python dictionary containing information about the target devices table. Default value: `None`"
   ]
  },
  {
   "cell_type": "code",
   "execution_count": 12,
   "metadata": {},
   "outputs": [
    {
     "name": "stdout",
     "output_type": "stream",
     "text": [
      ">> New message from SUPERNOVA:\n",
      "{'id': 9, 'command': 'I3C CONTROLLER INIT BUS', 'result': 'SUCCESS', 'invalid_addresses': []}\n"
     ]
    }
   ],
   "source": [
    "# Initialize and scan the I3C bus.\n",
    "request_result = supernova.i3cControllerInitBus(getId())"
   ]
  },
  {
   "cell_type": "code",
   "execution_count": 13,
   "metadata": {},
   "outputs": [
    {
     "name": "stdout",
     "output_type": "stream",
     "text": [
      ">> New message from SUPERNOVA:\n",
      "{'id': 10, 'command': 'I3C CONTROLLER GET TARGET DEVICES TABLE', 'result': 'SUCCESS', 'number_of_targets': 2, 'table': [{'static_address': 0, 'dynamic_address': 8, 'pid': [2, 8, 0, 112, 146, 11], 'bcr': 7, 'dcr': 68, 'mwl': 0, 'mrl': 0, 'max_ibi_payload_length': 0, 'configuration': {'target_type': 'I3C_DEVICE', 'interrupt_request': 'ACCEPT_IBI', 'controller_role_request': 'REJECT_CRR', 'setdasa': 'DO_NOT_USE_SETDASA', 'setaasa': 'DO_NOT_USE_SETAASA', 'entdaa': 'USE_ENTDAA', 'ibi_timestamp': 'DISABLE_IBIT', 'pending_read_capability': 'DISABLE_AUTOMATIC_READ'}}, {'static_address': 0, 'dynamic_address': 9, 'pid': [7, 112, 16, 67, 16, 0], 'bcr': 6, 'dcr': 239, 'mwl': 0, 'mrl': 0, 'max_ibi_payload_length': 0, 'configuration': {'target_type': 'I3C_DEVICE', 'interrupt_request': 'ACCEPT_IBI', 'controller_role_request': 'REJECT_CRR', 'setdasa': 'DO_NOT_USE_SETDASA', 'setaasa': 'DO_NOT_USE_SETAASA', 'entdaa': 'USE_ENTDAA', 'ibi_timestamp': 'DISABLE_IBIT', 'pending_read_capability': 'DISABLE_AUTOMATIC_READ'}}]}\n"
     ]
    }
   ],
   "source": [
    "request_result = supernova.i3cControllerGetTargetDevicesTable(getId())"
   ]
  },
  {
   "cell_type": "markdown",
   "metadata": {},
   "source": [
    "2. Reset I3C BUS\n",
    "\n",
    "Let's reset the bus to initialize the bus again, this time sending a non-empty target devices table to the Supernova."
   ]
  },
  {
   "cell_type": "markdown",
   "metadata": {},
   "source": [
    "`Supernova.i3cControllerResetBus(id)`\n",
    "\n",
    "This method requests the Supernova to: 1. issue an RSTDAA CCC, 2. free the already assigned dynamic addresses and 3. clean up the target devices table. \n",
    "\n",
    "- `id: int`: A 2-byte integer that represents the transfer ID."
   ]
  },
  {
   "cell_type": "code",
   "execution_count": 14,
   "metadata": {},
   "outputs": [
    {
     "data": {
      "text/plain": [
       "{'module': 1,\n",
       " 'opcode': 0,\n",
       " 'message': 'I3C CONTROLLER RESET BUS request success'}"
      ]
     },
     "execution_count": 14,
     "metadata": {},
     "output_type": "execute_result"
    },
    {
     "name": "stdout",
     "output_type": "stream",
     "text": [
      ">> New message from SUPERNOVA:\n",
      "{'id': 11, 'command': 'I3C CONTROLLER RESET BUS', 'result': 'SUCCESS'}\n"
     ]
    }
   ],
   "source": [
    "supernova.i3cControllerResetBus(getId())"
   ]
  },
  {
   "cell_type": "code",
   "execution_count": 15,
   "metadata": {},
   "outputs": [],
   "source": [
    "# The target devices table must be empty again after resetting the bus.\n",
    "request_result = supernova.i3cControllerGetTargetDevicesTable(getId())"
   ]
  },
  {
   "attachments": {},
   "cell_type": "markdown",
   "metadata": {},
   "source": [
    "3. Add targets to the target device table before initializing the bus using a Python dictionary"
   ]
  },
  {
   "cell_type": "code",
   "execution_count": 16,
   "metadata": {},
   "outputs": [
    {
     "name": "stdout",
     "output_type": "stream",
     "text": [
      ">> New message from SUPERNOVA:\n",
      "{'id': 12, 'command': 'I3C CONTROLLER GET TARGET DEVICES TABLE', 'result': 'SUCCESS', 'number_of_targets': 0, 'table': []}\n",
      ">> New message from SUPERNOVA:\n",
      "{'id': 13, 'command': 'I3C CONTROLLER INIT BUS', 'result': 'SUCCESS', 'invalid_addresses': []}\n"
     ]
    }
   ],
   "source": [
    "\"\"\"\n",
    "If the static address of a target is known, send it to the Supernova. The static address is mandatory\n",
    "if it is expected to assign the dynamic address of the target through SETDASA or SETAASA CCCs.\n",
    "\"\"\"\n",
    "LSMD6V_STATIC_ADDRESS = 0x6B        #ST LSM6DSV Static Address\n",
    "\n",
    "\"\"\"\n",
    "Select the dynamic address to be assigned to the I3C Target.\n",
    "\"\"\"\n",
    "LSMD6V_DYNAMIC_ADDRESS = 0x0A\n",
    "\n",
    "\"\"\"\n",
    "Set the features and the behavior of the I3C Target. For instance, in case that the I3C Target BCR[1] is\n",
    "set, which means that the I3C Target support In-Band Interrupt (IBI) requests, define whether the Supernova\n",
    "must accept or reject IBIs request from the target. Define also if the dynamic address will be assigned\n",
    "using ENTDAA, SETDASA or SETAASA. To assign the dynamic address set above using ENTDAA, it is mandatory\n",
    "to set also the BCR, DCR and PID in the table. If SETDASA or SETAASA are used, it is mandatory to set\n",
    "the static address. It is also important to add here the I2C devices, setting the static address and the\n",
    "target type as I2C_DEVICE.\n",
    "\n",
    "In the example below, the SETDASA CCC is used to set the dynamic address set above to the target.\n",
    "\"\"\"\n",
    "LSMD6V_CONFIGURATION = {\n",
    "        \"targetType\": TargetType.I3C_DEVICE,\n",
    "        \"IBIRequest\": TargetInterruptRequest.REJECT_IBI,\n",
    "        \"CRRequest\": ControllerRoleRequest.REJECT_CRR,\n",
    "        \"daaUseSETDASA\": SetdasaConfiguration.USE_SETDASA,\n",
    "        \"daaUseSETAASA\": SetaasaConfiguration.DO_NOT_USE_SETAASA,\n",
    "        \"daaUseENTDAA\": EntdaaConfiguration.DO_NOT_USE_ENTDAA,\n",
    "        \"ibiTimestampEnable\": IBiTimestamp.DISABLE_IBIT,\n",
    "        \"pendingReadCapability\": PendingReadCapability.DISABLE_AUTOMATIC_READ\n",
    "}\n",
    "\n",
    "\"\"\"\n",
    "In the example below, the ENTDAA CCC is used to set the target dynamic address. To identify the target\n",
    "is mandatory to set the PID, BCR and DCR.\n",
    "\n",
    "\"\"\"\n",
    "BMI323_DYNAMIC_ADDRESS = 0x0B\n",
    "\n",
    "BMI323_PID = [0x07, 0x70, 0x10, 0x43, 0x10, 0x00]\n",
    "BMI323_BCR = 0x06\n",
    "BMI323_DCR = 0xEF\n",
    "\n",
    "BMI323_CONFIGURATION = {\n",
    "        \"targetType\": TargetType.I3C_DEVICE,\n",
    "        \"IBIRequest\": TargetInterruptRequest.ACCEPT_IBI,\n",
    "        \"CRRequest\": ControllerRoleRequest.ACCEPT_CRR,\n",
    "        \"daaUseSETDASA\": SetdasaConfiguration.DO_NOT_USE_SETDASA,\n",
    "        \"daaUseSETAASA\": SetaasaConfiguration.DO_NOT_USE_SETAASA,\n",
    "        \"daaUseENTDAA\": EntdaaConfiguration.USE_ENTDAA,\n",
    "        \"ibiTimestampEnable\": IBiTimestamp.DISABLE_IBIT,\n",
    "        \"pendingReadCapability\": PendingReadCapability.DISABLE_AUTOMATIC_READ\n",
    "}\n",
    "\n",
    "\"\"\"\n",
    "Add an I2C Device too. In this case, it can be the Sparkfun EEPROM breakout board or the Adafruit I2C FRAM memory.\n",
    "\"\"\"\n",
    "I2C_STATIC_ADDRESS = 0x50\n",
    "\n",
    "I2C_CONFIGURATION = {\n",
    "        \"targetType\": TargetType.I2C_DEVICE,\n",
    "        \"IBIRequest\": TargetInterruptRequest.REJECT_IBI,\n",
    "        \"CRRequest\": ControllerRoleRequest.REJECT_CRR,\n",
    "        \"daaUseSETDASA\": SetdasaConfiguration.DO_NOT_USE_SETDASA,\n",
    "        \"daaUseSETAASA\": SetaasaConfiguration.DO_NOT_USE_SETAASA,\n",
    "        \"daaUseENTDAA\": EntdaaConfiguration.DO_NOT_USE_ENTDAA,\n",
    "        \"ibiTimestampEnable\": IBiTimestamp.DISABLE_IBIT,\n",
    "        \"pendingReadCapability\": PendingReadCapability.DISABLE_AUTOMATIC_READ\n",
    "}\n",
    "\n",
    "\"\"\"\n",
    "Create the target devices table to be transferred to the Supernova. This table is a dictionary whose keys\n",
    "are integer numbers starting from 0 and the maximum value possible is 10, which means that the maximum number\n",
    "of I3C Targets is 11.\n",
    "\"\"\"\n",
    "table = {0: {'staticAddress': LSMD6V_STATIC_ADDRESS,\n",
    "        'dynamicAddress': LSMD6V_DYNAMIC_ADDRESS,\n",
    "        'bcr': 0x00,\n",
    "        'dcr': 0x00,\n",
    "        'pid': [0x00, 0x00, 0x00, 0x00, 0x00, 0x00],\n",
    "        'configuration': LSMD6V_CONFIGURATION},\n",
    "        1: {'staticAddress': 0x00,\n",
    "        'dynamicAddress': BMI323_DYNAMIC_ADDRESS,\n",
    "        'bcr': BMI323_BCR,\n",
    "        'dcr': BMI323_DCR,\n",
    "        'pid': BMI323_PID,\n",
    "        'configuration': BMI323_CONFIGURATION},\n",
    "        2: {'staticAddress': I2C_STATIC_ADDRESS,\n",
    "        'dynamicAddress': 0x00,\n",
    "        'bcr': 0x00,\n",
    "        'dcr': 0x00,\n",
    "        'pid': [0x00, 0x00, 0x00, 0x00, 0x00, 0x00],\n",
    "        'configuration': I2C_CONFIGURATION}\n",
    "        }\n",
    "\n",
    "\"\"\"\n",
    "Initialize the bus using the predefined target devices table.\n",
    "\"\"\"\n",
    "request_result = supernova.i3cControllerInitBus(getId(), table)"
   ]
  },
  {
   "cell_type": "code",
   "execution_count": 17,
   "metadata": {},
   "outputs": [
    {
     "name": "stdout",
     "output_type": "stream",
     "text": [
      ">> New message from SUPERNOVA:\n",
      "{'id': 14, 'command': 'I3C CONTROLLER GET TARGET DEVICES TABLE', 'result': 'SUCCESS', 'number_of_targets': 3, 'table': [{'static_address': 80, 'dynamic_address': 0, 'pid': [0, 0, 0, 0, 0, 0], 'bcr': 0, 'dcr': 0, 'mwl': 0, 'mrl': 0, 'max_ibi_payload_length': 0, 'configuration': {'target_type': 'I2C_DEVICE', 'interrupt_request': 'REJECT_IBI', 'controller_role_request': 'REJECT_CRR', 'setdasa': 'DO_NOT_USE_SETDASA', 'setaasa': 'DO_NOT_USE_SETAASA', 'entdaa': 'DO_NOT_USE_ENTDAA', 'ibi_timestamp': 'DISABLE_IBIT', 'pending_read_capability': 'DISABLE_AUTOMATIC_READ'}}, {'static_address': 107, 'dynamic_address': 10, 'pid': [0, 0, 0, 0, 0, 0], 'bcr': 0, 'dcr': 0, 'mwl': 0, 'mrl': 0, 'max_ibi_payload_length': 0, 'configuration': {'target_type': 'I3C_DEVICE', 'interrupt_request': 'REJECT_IBI', 'controller_role_request': 'REJECT_CRR', 'setdasa': 'USE_SETDASA', 'setaasa': 'DO_NOT_USE_SETAASA', 'entdaa': 'DO_NOT_USE_ENTDAA', 'ibi_timestamp': 'DISABLE_IBIT', 'pending_read_capability': 'DISABLE_AUTOMATIC_READ'}}, {'static_address': 0, 'dynamic_address': 11, 'pid': [7, 112, 16, 67, 16, 0], 'bcr': 6, 'dcr': 239, 'mwl': 0, 'mrl': 0, 'max_ibi_payload_length': 0, 'configuration': {'target_type': 'I3C_DEVICE', 'interrupt_request': 'ACCEPT_IBI', 'controller_role_request': 'ACCEPT_CRR', 'setdasa': 'DO_NOT_USE_SETDASA', 'setaasa': 'DO_NOT_USE_SETAASA', 'entdaa': 'USE_ENTDAA', 'ibi_timestamp': 'DISABLE_IBIT', 'pending_read_capability': 'DISABLE_AUTOMATIC_READ'}}]}\n"
     ]
    }
   ],
   "source": [
    "# Get the update target devices table.\n",
    "request_result = supernova.i3cControllerGetTargetDevicesTable(getId())"
   ]
  },
  {
   "cell_type": "markdown",
   "metadata": {},
   "source": [
    "### 4. Set/Change target configuration"
   ]
  },
  {
   "cell_type": "markdown",
   "metadata": {},
   "source": [
    "`Supernova.i3cControllerSetTargetDeviceConfiguration(id, entry)`\n",
    "\n",
    "- `id: int`: A 2-byte integer that represents the transfer ID.\n",
    "- `entry: dict`: A Python dictionary containing information about the target whose configuration is set."
   ]
  },
  {
   "cell_type": "code",
   "execution_count": 18,
   "metadata": {},
   "outputs": [
    {
     "data": {
      "text/plain": [
       "{'module': 1,\n",
       " 'opcode': 0,\n",
       " 'message': 'I3C SET TARGET DEVICE CONFIG request success'}"
      ]
     },
     "execution_count": 18,
     "metadata": {},
     "output_type": "execute_result"
    },
    {
     "name": "stdout",
     "output_type": "stream",
     "text": [
      ">> New message from SUPERNOVA:\n",
      "{'id': 15, 'command': 'I3C CONTROLLER SET TARGET DEVICE CONFIG', 'result': 'SUCCESS'}\n"
     ]
    }
   ],
   "source": [
    "NEW_LSMD6V_CONFIGURATION = {\n",
    "        \"targetType\": TargetType.I3C_DEVICE,\n",
    "        \"IBIRequest\": TargetInterruptRequest.ACCEPT_IBI,              # Accept IBIs request.\n",
    "        \"CRRequest\": ControllerRoleRequest.REJECT_CRR,\n",
    "        \"daaUseSETDASA\": SetdasaConfiguration.USE_SETDASA,\n",
    "        \"daaUseSETAASA\": SetaasaConfiguration.DO_NOT_USE_SETAASA,\n",
    "        \"daaUseENTDAA\": EntdaaConfiguration.DO_NOT_USE_ENTDAA,\n",
    "        \"ibiTimestampEnable\": IBiTimestamp.DISABLE_IBIT,\n",
    "        \"pendingReadCapability\": PendingReadCapability.DISABLE_AUTOMATIC_READ\n",
    "}\n",
    "\n",
    "supernova.i3cControllerSetTargetDeviceConfiguration(getId(), LSMD6V_DYNAMIC_ADDRESS, NEW_LSMD6V_CONFIGURATION)"
   ]
  },
  {
   "cell_type": "code",
   "execution_count": 19,
   "metadata": {},
   "outputs": [
    {
     "data": {
      "text/plain": [
       "{'module': 1,\n",
       " 'opcode': 0,\n",
       " 'message': 'I3C SET TARGET DEVICE CONFIG request success'}"
      ]
     },
     "execution_count": 19,
     "metadata": {},
     "output_type": "execute_result"
    },
    {
     "name": "stdout",
     "output_type": "stream",
     "text": [
      ">> New message from SUPERNOVA:\n",
      "{'id': 16, 'command': 'I3C CONTROLLER SET TARGET DEVICE CONFIG', 'result': 'SUCCESS'}\n"
     ]
    }
   ],
   "source": [
    "NEW_BMI323_CONFIGURATION = {\n",
    "        \"targetType\": TargetType.I3C_DEVICE,\n",
    "        \"IBIRequest\": TargetInterruptRequest.ACCEPT_IBI,\n",
    "        \"CRRequest\": ControllerRoleRequest.REJECT_CRR,                  # Reject CRR\n",
    "        \"daaUseSETDASA\": SetdasaConfiguration.DO_NOT_USE_SETDASA,\n",
    "        \"daaUseSETAASA\": SetaasaConfiguration.DO_NOT_USE_SETAASA,\n",
    "        \"daaUseENTDAA\": EntdaaConfiguration.USE_ENTDAA,\n",
    "        \"ibiTimestampEnable\": IBiTimestamp.DISABLE_IBIT,\n",
    "        \"pendingReadCapability\": PendingReadCapability.DISABLE_AUTOMATIC_READ\n",
    "}\n",
    "\n",
    "supernova.i3cControllerSetTargetDeviceConfiguration(getId(), BMI323_DYNAMIC_ADDRESS, NEW_BMI323_CONFIGURATION)"
   ]
  },
  {
   "cell_type": "markdown",
   "metadata": {},
   "source": [
    "The line of code below showcase the error returned when the dynamic address is not part of the target devices table."
   ]
  },
  {
   "cell_type": "code",
   "execution_count": 20,
   "metadata": {},
   "outputs": [
    {
     "data": {
      "text/plain": [
       "{'module': 1,\n",
       " 'opcode': 0,\n",
       " 'message': 'I3C SET TARGET DEVICE CONFIG request success'}"
      ]
     },
     "execution_count": 20,
     "metadata": {},
     "output_type": "execute_result"
    },
    {
     "name": "stdout",
     "output_type": "stream",
     "text": [
      ">> New message from SUPERNOVA:\n",
      "{'id': 17, 'command': 'I3C CONTROLLER SET TARGET DEVICE CONFIG', 'result': 'TARGET_ADDRESS_NOT_FOUND_IN_THE_TABLE'}\n"
     ]
    }
   ],
   "source": [
    "supernova.i3cControllerSetTargetDeviceConfiguration(getId(), 0x70, NEW_LSMD6V_CONFIGURATION)"
   ]
  },
  {
   "cell_type": "code",
   "execution_count": 21,
   "metadata": {},
   "outputs": [
    {
     "name": "stdout",
     "output_type": "stream",
     "text": [
      ">> New message from SUPERNOVA:\n",
      "{'id': 18, 'command': 'I3C CONTROLLER GET TARGET DEVICES TABLE', 'result': 'SUCCESS', 'number_of_targets': 3, 'table': [{'static_address': 80, 'dynamic_address': 0, 'pid': [0, 0, 0, 0, 0, 0], 'bcr': 0, 'dcr': 0, 'mwl': 0, 'mrl': 0, 'max_ibi_payload_length': 0, 'configuration': {'target_type': 'I2C_DEVICE', 'interrupt_request': 'REJECT_IBI', 'controller_role_request': 'REJECT_CRR', 'setdasa': 'DO_NOT_USE_SETDASA', 'setaasa': 'DO_NOT_USE_SETAASA', 'entdaa': 'DO_NOT_USE_ENTDAA', 'ibi_timestamp': 'DISABLE_IBIT', 'pending_read_capability': 'DISABLE_AUTOMATIC_READ'}}, {'static_address': 107, 'dynamic_address': 10, 'pid': [0, 0, 0, 0, 0, 0], 'bcr': 0, 'dcr': 0, 'mwl': 0, 'mrl': 0, 'max_ibi_payload_length': 0, 'configuration': {'target_type': 'I3C_DEVICE', 'interrupt_request': 'ACCEPT_IBI', 'controller_role_request': 'REJECT_CRR', 'setdasa': 'USE_SETDASA', 'setaasa': 'DO_NOT_USE_SETAASA', 'entdaa': 'DO_NOT_USE_ENTDAA', 'ibi_timestamp': 'DISABLE_IBIT', 'pending_read_capability': 'DISABLE_AUTOMATIC_READ'}}, {'static_address': 0, 'dynamic_address': 11, 'pid': [7, 112, 16, 67, 16, 0], 'bcr': 6, 'dcr': 239, 'mwl': 0, 'mrl': 0, 'max_ibi_payload_length': 0, 'configuration': {'target_type': 'I3C_DEVICE', 'interrupt_request': 'ACCEPT_IBI', 'controller_role_request': 'REJECT_CRR', 'setdasa': 'DO_NOT_USE_SETDASA', 'setaasa': 'DO_NOT_USE_SETAASA', 'entdaa': 'USE_ENTDAA', 'ibi_timestamp': 'DISABLE_IBIT', 'pending_read_capability': 'DISABLE_AUTOMATIC_READ'}}]}\n"
     ]
    }
   ],
   "source": [
    "request_result = supernova.i3cControllerGetTargetDevicesTable(getId())"
   ]
  },
  {
   "cell_type": "markdown",
   "metadata": {},
   "source": [
    "### 5. Set Frequencies\n",
    "\n",
    "``Supernova.i3cControllerSetParameters(id, pushPullRate, i3cOpenDrainRate, i2cOpenDrainRate)``\n",
    "\n",
    "This method allows the user to set the different frequencies.\n",
    "\n",
    "  - `id: int`: A 2-byte integer that represents the transfer ID.\n",
    "  - `pushPullRate: I3cPushPullTransferRate`: Push-Pull frequency.\n",
    "  - `i3cOpenDrainRate: I3cOpenDrainTransferRate`: I3C frequency in Open Drain mode.\n",
    "  - `i2cOpenDrainRate: I2cTransferRate`: I2C frequency."
   ]
  },
  {
   "cell_type": "code",
   "execution_count": 22,
   "metadata": {},
   "outputs": [
    {
     "data": {
      "text/plain": [
       "{'module': 1,\n",
       " 'opcode': 0,\n",
       " 'message': 'I3C CONTROLLER SET PARAMETERS request success'}"
      ]
     },
     "execution_count": 22,
     "metadata": {},
     "output_type": "execute_result"
    },
    {
     "name": "stdout",
     "output_type": "stream",
     "text": [
      ">> New message from SUPERNOVA:\n",
      "{'id': 19, 'command': 'I3C CONTROLLER SET PARAMETERS', 'result': 'SUCCESS'}\n"
     ]
    }
   ],
   "source": [
    "supernova.i3cControllerSetParameters(getId(), I3cPushPullTransferRate.PUSH_PULL_3_75_MHZ, I3cOpenDrainTransferRate.OPEN_DRAIN_500_KHZ, I2cTransferRate._1MHz)"
   ]
  },
  {
   "attachments": {},
   "cell_type": "markdown",
   "metadata": {},
   "source": [
    "### 6. I3C Private Transfers"
   ]
  },
  {
   "cell_type": "markdown",
   "metadata": {},
   "source": [
    "#### 6.1. I2C Legacy over I3C\n",
    "\n",
    "The Supernova, as stated in the MIPI I3C specification, supports backward compatibility with I2C. When an I2C device is connected to the bus,\n",
    "the device must be added to the I3C Target Devices Table as explained above in section 3.3. Then the Supernova API allows to issue I2C Write,\n",
    "I2C Read and I2C Read From (I2C Write + RS + I3C Read) transfers."
   ]
  },
  {
   "cell_type": "code",
   "execution_count": 23,
   "metadata": {},
   "outputs": [
    {
     "name": "stdout",
     "output_type": "stream",
     "text": [
      ">> New message from SUPERNOVA:\n",
      "{'id': 20, 'command': 'I3C CONTROLLER PRIVATE TRANSFER', 'result': 'SUCCESS', 'payload_length': 10}\n"
     ]
    }
   ],
   "source": [
    "ID              = getId()\n",
    "TARGET_ADDR     = 0x50\n",
    "MODE            = TransferMode.I2C_MODE\n",
    "REG_ADDR        = [0x00, 0x00]\n",
    "DATA            = [33 for i in range(10)]\n",
    "\n",
    "# API I3C Read\n",
    "request_result = supernova.i3cControllerWrite(ID, TARGET_ADDR, MODE, REG_ADDR, DATA)"
   ]
  },
  {
   "cell_type": "code",
   "execution_count": 24,
   "metadata": {},
   "outputs": [
    {
     "name": "stdout",
     "output_type": "stream",
     "text": [
      ">> New message from SUPERNOVA:\n",
      "{'id': 21, 'command': 'I3C CONTROLLER PRIVATE TRANSFER', 'result': 'SUCCESS', 'payload_length': 77, 'payload': [33, 33, 33, 33, 33, 33, 33, 33, 33, 33, 44, 44, 44, 44, 44, 44, 44, 44, 44, 44, 44, 44, 44, 44, 44, 44, 44, 44, 44, 44, 44, 44, 44, 44, 44, 44, 44, 44, 44, 44, 44, 44, 44, 44, 44, 44, 44, 44, 44, 44, 44, 44, 44, 44, 44, 44, 44, 44, 44, 44, 44, 44, 44, 44, 44, 44, 44, 44, 44, 44, 44, 44, 44, 44, 44, 44, 44]}\n"
     ]
    }
   ],
   "source": [
    "ID              = getId()\n",
    "TARGET_ADDR     = 0x50\n",
    "MODE            = TransferMode.I2C_MODE\n",
    "REG_ADDR        = [0x00,0x00]                                       # If this list is empty [], then only and I2C Read transfer is issued.\n",
    "LEN             = 77\n",
    "\n",
    "# API I3C Read\n",
    "request_result = supernova.i3cControllerRead(ID, TARGET_ADDR, MODE, REG_ADDR, LEN)"
   ]
  },
  {
   "cell_type": "markdown",
   "metadata": {},
   "source": [
    "#### 6.2 Private Write/Read Transfers"
   ]
  },
  {
   "cell_type": "markdown",
   "metadata": {},
   "source": [
    "#### 6.2.1 Private Read Transfers"
   ]
  },
  {
   "cell_type": "code",
   "execution_count": 25,
   "metadata": {},
   "outputs": [
    {
     "name": "stdout",
     "output_type": "stream",
     "text": [
      ">> New message from SUPERNOVA:\n",
      "{'id': 22, 'command': 'I3C CONTROLLER PRIVATE TRANSFER', 'result': 'SUCCESS', 'payload_length': 6, 'payload': [0, 0, 35, 0, 0, 0]}\n"
     ]
    }
   ],
   "source": [
    "TARGET_ADDR     = 0x0A\n",
    "MODE            = TransferMode.I3C_SDR\n",
    "REG_ADDR        = [0x00]\n",
    "LEN             = 6\n",
    "\n",
    "# API I3C Read\n",
    "request_result = supernova.i3cControllerRead(getId(), TARGET_ADDR, MODE, REG_ADDR, LEN, startWith7E=False)"
   ]
  },
  {
   "cell_type": "markdown",
   "metadata": {},
   "source": [
    "#### 6.2.2 Private Write Transfers"
   ]
  },
  {
   "cell_type": "code",
   "execution_count": 26,
   "metadata": {},
   "outputs": [
    {
     "name": "stdout",
     "output_type": "stream",
     "text": [
      ">> New message from SUPERNOVA:\n",
      "{'id': 23, 'command': 'I3C CONTROLLER PRIVATE TRANSFER', 'result': 'SUCCESS', 'payload_length': 10}\n"
     ]
    }
   ],
   "source": [
    "TARGET_ADDR     = 0x0B\n",
    "MODE            = TransferMode.I3C_SDR\n",
    "REG_ADDR        = [0x05, 0x06]\n",
    "DATA            = [i for i in range(10)]        # Python list of bytes. Maximum length of 1024 bytes.\n",
    "\n",
    "# API I3C Write\n",
    "request_result = supernova.i3cControllerWrite(getId(),TARGET_ADDR,MODE,REG_ADDR,DATA,startWith7E=False)"
   ]
  },
  {
   "attachments": {},
   "cell_type": "markdown",
   "metadata": {},
   "source": [
    "#### 7 Common command code"
   ]
  },
  {
   "attachments": {},
   "cell_type": "markdown",
   "metadata": {},
   "source": [
    "##### 7.1 GETPID"
   ]
  },
  {
   "cell_type": "code",
   "execution_count": 27,
   "metadata": {},
   "outputs": [
    {
     "name": "stdout",
     "output_type": "stream",
     "text": [
      ">> New message from SUPERNOVA:\n",
      "{'id': 24, 'command': 'I3C CONTROLLER CCC TRANSFER', 'result': 'SUCCESS', 'ccc': 'D_GETPID', 'payload_length': 6, 'payload': [2, 8, 0, 112, 146, 11]}\n"
     ]
    }
   ],
   "source": [
    "TARGET_ADDR = 0x0A\n",
    "\n",
    "request_result = supernova.i3cGETPID(getId(),TARGET_ADDR)"
   ]
  },
  {
   "attachments": {},
   "cell_type": "markdown",
   "metadata": {},
   "source": [
    "##### 7.2 GETBCR"
   ]
  },
  {
   "cell_type": "code",
   "execution_count": 28,
   "metadata": {},
   "outputs": [
    {
     "name": "stdout",
     "output_type": "stream",
     "text": [
      ">> New message from SUPERNOVA:\n",
      "{'id': 25, 'command': 'I3C CONTROLLER CCC TRANSFER', 'result': 'SUCCESS', 'ccc': 'D_GETBCR', 'payload_length': 1, 'payload': [7]}\n"
     ]
    }
   ],
   "source": [
    "TARGET_ADDR = 0x0A\n",
    "\n",
    "request_result = supernova.i3cGETBCR(getId(), TARGET_ADDR)"
   ]
  },
  {
   "attachments": {},
   "cell_type": "markdown",
   "metadata": {},
   "source": [
    "##### 7.3 GETDCR"
   ]
  },
  {
   "cell_type": "code",
   "execution_count": 29,
   "metadata": {},
   "outputs": [
    {
     "name": "stdout",
     "output_type": "stream",
     "text": [
      ">> New message from SUPERNOVA:\n",
      "{'id': 26, 'command': 'I3C CONTROLLER CCC TRANSFER', 'result': 'SUCCESS', 'ccc': 'D_GETDCR', 'payload_length': 1, 'payload': [68]}\n"
     ]
    }
   ],
   "source": [
    "TARGET_ADDR = 0x0A\n",
    "\n",
    "request_result = supernova.i3cGETDCR(getId(), TARGET_ADDR)"
   ]
  },
  {
   "attachments": {},
   "cell_type": "markdown",
   "metadata": {},
   "source": [
    "##### 7.4 GETCAPS"
   ]
  },
  {
   "cell_type": "code",
   "execution_count": 30,
   "metadata": {},
   "outputs": [
    {
     "name": "stdout",
     "output_type": "stream",
     "text": [
      ">> New message from SUPERNOVA:\n",
      "{'id': 27, 'command': 'I3C CONTROLLER CCC TRANSFER', 'result': 'SUCCESS', 'ccc': 'D_GETCAPS', 'payload_length': 4, 'payload': [0, 17, 24, 0]}\n"
     ]
    }
   ],
   "source": [
    "TARGET_ADDR = 0x0A\n",
    "\n",
    "request_result = supernova.i3cGETCAPS(getId(), TARGET_ADDR)"
   ]
  },
  {
   "attachments": {},
   "cell_type": "markdown",
   "metadata": {},
   "source": [
    "##### 7.5 GETMXDS"
   ]
  },
  {
   "cell_type": "code",
   "execution_count": 31,
   "metadata": {},
   "outputs": [
    {
     "name": "stdout",
     "output_type": "stream",
     "text": [
      ">> New message from SUPERNOVA:\n",
      "{'id': 28, 'command': 'I3C CONTROLLER CCC TRANSFER', 'result': 'SUCCESS', 'ccc': 'D_GETMXDS', 'payload_length': 2, 'payload': [8, 96]}\n"
     ]
    }
   ],
   "source": [
    "TARGET_ADDR = 0x0A\n",
    "\n",
    "request_result = supernova.i3cGETMXDS(getId(), TARGET_ADDR)"
   ]
  },
  {
   "attachments": {},
   "cell_type": "markdown",
   "metadata": {},
   "source": [
    "##### 7.6 GETMRL"
   ]
  },
  {
   "cell_type": "code",
   "execution_count": 32,
   "metadata": {},
   "outputs": [
    {
     "name": "stdout",
     "output_type": "stream",
     "text": [
      ">> New message from SUPERNOVA:\n",
      "{'id': 29, 'command': 'I3C CONTROLLER CCC TRANSFER', 'result': 'SUCCESS', 'ccc': 'D_GETMRL', 'payload_length': 3, 'payload': [0, 16, 10]}\n"
     ]
    }
   ],
   "source": [
    "TARGET_ADDR = 0x0A\n",
    "\n",
    "request_result = supernova.i3cGETMRL(getId(), TARGET_ADDR)"
   ]
  },
  {
   "attachments": {},
   "cell_type": "markdown",
   "metadata": {},
   "source": [
    "##### 7.7 Direct SETMRL"
   ]
  },
  {
   "cell_type": "code",
   "execution_count": 33,
   "metadata": {},
   "outputs": [
    {
     "name": "stdout",
     "output_type": "stream",
     "text": [
      ">> New message from SUPERNOVA:\n",
      "{'id': 30, 'command': 'I3C CONTROLLER CCC TRANSFER', 'result': 'SUCCESS', 'ccc': 'D_SETMRL', 'payload_length': 3}\n"
     ]
    }
   ],
   "source": [
    "TARGET_ADDR = 0x0A\n",
    "MAXIMUM_READ_LEN = 127\n",
    "IBI_PAYLOAD_SIZE = 0x03\n",
    "\n",
    "request_result = supernova.i3cDirectSETMRL(getId(), TARGET_ADDR, MAXIMUM_READ_LEN, IBI_PAYLOAD_SIZE)"
   ]
  },
  {
   "attachments": {},
   "cell_type": "markdown",
   "metadata": {},
   "source": [
    "##### 7.8 Braodcast SETMRL"
   ]
  },
  {
   "cell_type": "code",
   "execution_count": 34,
   "metadata": {},
   "outputs": [
    {
     "name": "stdout",
     "output_type": "stream",
     "text": [
      ">> New message from SUPERNOVA:\n",
      "{'id': 31, 'command': 'I3C CONTROLLER CCC TRANSFER', 'result': 'SUCCESS', 'ccc': 'B_SETMRL', 'payload_length': 4}\n"
     ]
    }
   ],
   "source": [
    "MAXIMUM_READ_LEN = 0x0052\n",
    "IBI_PAYLOAD_SIZE = 0x04\n",
    "\n",
    "request_result = supernova.i3cBroadcastSETMRL(getId(), MAXIMUM_READ_LEN, IBI_PAYLOAD_SIZE)"
   ]
  },
  {
   "attachments": {},
   "cell_type": "markdown",
   "metadata": {},
   "source": [
    "##### 7.9 GETMWL"
   ]
  },
  {
   "cell_type": "code",
   "execution_count": 35,
   "metadata": {},
   "outputs": [
    {
     "name": "stdout",
     "output_type": "stream",
     "text": [
      ">> New message from SUPERNOVA:\n",
      "{'id': 32, 'command': 'I3C CONTROLLER CCC TRANSFER', 'result': 'SUCCESS', 'ccc': 'D_GETMWL', 'payload_length': 2, 'payload': [0, 8]}\n"
     ]
    }
   ],
   "source": [
    "TARGET_ADDR = 0x0A\n",
    "\n",
    "request_result = supernova.i3cGETMWL(getId(), TARGET_ADDR)"
   ]
  },
  {
   "attachments": {},
   "cell_type": "markdown",
   "metadata": {},
   "source": [
    "##### 7.10 Direct SETMWL"
   ]
  },
  {
   "cell_type": "code",
   "execution_count": 36,
   "metadata": {},
   "outputs": [
    {
     "name": "stdout",
     "output_type": "stream",
     "text": [
      ">> New message from SUPERNOVA:\n",
      "{'id': 33, 'command': 'I3C CONTROLLER CCC TRANSFER', 'result': 'SUCCESS', 'ccc': 'D_SETMWL', 'payload_length': 2}\n"
     ]
    }
   ],
   "source": [
    "TARGET_ADDR = 0x0A\n",
    "MAXIMUM_WRITE_LEN = 0X0102\n",
    "\n",
    "request_result = supernova.i3cDirectSETMWL(getId(),\n",
    "                                            TARGET_ADDR,\n",
    "                                            MAXIMUM_WRITE_LEN)"
   ]
  },
  {
   "attachments": {},
   "cell_type": "markdown",
   "metadata": {},
   "source": [
    "##### 7.11 Broadcast SETMWL"
   ]
  },
  {
   "cell_type": "code",
   "execution_count": 37,
   "metadata": {},
   "outputs": [
    {
     "name": "stdout",
     "output_type": "stream",
     "text": [
      ">> New message from SUPERNOVA:\n",
      "{'id': 34, 'command': 'I3C CONTROLLER CCC TRANSFER', 'result': 'SUCCESS', 'ccc': 'B_SETMWL', 'payload_length': 3}\n"
     ]
    }
   ],
   "source": [
    "MAXIMUM_WRITE_LEN = 0X0304\n",
    "\n",
    "request_result = supernova.i3cBroadcastSETMWL(getId(), MAXIMUM_WRITE_LEN)"
   ]
  },
  {
   "cell_type": "markdown",
   "metadata": {},
   "source": [
    "##### 7.12 Direct DISEC"
   ]
  },
  {
   "cell_type": "code",
   "execution_count": 38,
   "metadata": {},
   "outputs": [
    {
     "name": "stdout",
     "output_type": "stream",
     "text": [
      ">> New message from SUPERNOVA:\n",
      "{'id': 35, 'command': 'I3C CONTROLLER CCC TRANSFER', 'result': 'SUCCESS', 'ccc': 'D_DISEC', 'payload_length': 1}\n"
     ]
    }
   ],
   "source": [
    "request_result = supernova.i3cDirectDISEC(getId(), LSMD6V_DYNAMIC_ADDRESS, [ENEC.ENINT, ENEC.ENHJ])"
   ]
  },
  {
   "cell_type": "markdown",
   "metadata": {},
   "source": [
    "##### 7.13 Broadcast ENEC"
   ]
  },
  {
   "cell_type": "code",
   "execution_count": 39,
   "metadata": {},
   "outputs": [
    {
     "name": "stdout",
     "output_type": "stream",
     "text": [
      ">> New message from SUPERNOVA:\n",
      "{'id': 36, 'command': 'I3C CONTROLLER CCC TRANSFER', 'result': 'SUCCESS', 'ccc': 'B_ENEC', 'payload_length': 2}\n"
     ]
    }
   ],
   "source": [
    "request_result = supernova.i3cBroadcastENEC(getId(), [DISEC.DISHJ])"
   ]
  },
  {
   "cell_type": "code",
   "execution_count": 40,
   "metadata": {},
   "outputs": [
    {
     "name": "stdout",
     "output_type": "stream",
     "text": [
      ">> New message from SUPERNOVA:\n",
      "{'id': 37, 'command': 'I3C CONTROLLER CCC TRANSFER', 'result': 'SUCCESS', 'ccc': 'D_SETNEWDA', 'payload_length': 1}\n"
     ]
    }
   ],
   "source": [
    "NEW_BMI323_DYN_ADDR = 0x21\n",
    "\n",
    "request_result = supernova.i3cSETNEWDA(getId(), BMI323_DYNAMIC_ADDRESS, NEW_BMI323_DYN_ADDR)"
   ]
  },
  {
   "cell_type": "code",
   "execution_count": 42,
   "metadata": {},
   "outputs": [
    {
     "name": "stdout",
     "output_type": "stream",
     "text": [
      ">> New message from SUPERNOVA:\n",
      "{'id': 39, 'command': 'I3C CONTROLLER CCC TRANSFER', 'result': 'I3C_NACK_ADDRESS', 'ccc': 'D_GETMWL', 'payload_length': 0, 'payload': []}\n"
     ]
    }
   ],
   "source": [
    "request_result = supernova.i3cGETMWL(getId(), BMI323_DYNAMIC_ADDRESS)"
   ]
  },
  {
   "cell_type": "code",
   "execution_count": 43,
   "metadata": {},
   "outputs": [
    {
     "name": "stdout",
     "output_type": "stream",
     "text": [
      ">> New message from SUPERNOVA:\n",
      "{'id': 40, 'command': 'I3C CONTROLLER CCC TRANSFER', 'result': 'SUCCESS', 'ccc': 'D_GETMWL', 'payload_length': 2, 'payload': [0, 0]}\n"
     ]
    }
   ],
   "source": [
    "request_result = supernova.i3cGETMWL(getId(), NEW_BMI323_DYN_ADDR)"
   ]
  },
  {
   "cell_type": "code",
   "execution_count": 44,
   "metadata": {},
   "outputs": [
    {
     "name": "stdout",
     "output_type": "stream",
     "text": [
      ">> New message from SUPERNOVA:\n",
      "{'id': 41, 'command': 'I3C CONTROLLER GET TARGET DEVICES TABLE', 'result': 'SUCCESS', 'number_of_targets': 3, 'table': [{'static_address': 80, 'dynamic_address': 0, 'pid': [0, 0, 0, 0, 0, 0], 'bcr': 0, 'dcr': 0, 'mwl': 0, 'mrl': 0, 'max_ibi_payload_length': 0, 'configuration': {'target_type': 'I2C_DEVICE', 'interrupt_request': 'REJECT_IBI', 'controller_role_request': 'REJECT_CRR', 'setdasa': 'DO_NOT_USE_SETDASA', 'setaasa': 'DO_NOT_USE_SETAASA', 'entdaa': 'DO_NOT_USE_ENTDAA', 'ibi_timestamp': 'DISABLE_IBIT', 'pending_read_capability': 'DISABLE_AUTOMATIC_READ'}}, {'static_address': 107, 'dynamic_address': 10, 'pid': [2, 8, 0, 112, 146, 11], 'bcr': 7, 'dcr': 68, 'mwl': 0, 'mrl': 0, 'max_ibi_payload_length': 0, 'configuration': {'target_type': 'I3C_DEVICE', 'interrupt_request': 'ACCEPT_IBI', 'controller_role_request': 'REJECT_CRR', 'setdasa': 'USE_SETDASA', 'setaasa': 'DO_NOT_USE_SETAASA', 'entdaa': 'DO_NOT_USE_ENTDAA', 'ibi_timestamp': 'DISABLE_IBIT', 'pending_read_capability': 'DISABLE_AUTOMATIC_READ'}}, {'static_address': 0, 'dynamic_address': 33, 'pid': [7, 112, 16, 67, 16, 0], 'bcr': 6, 'dcr': 239, 'mwl': 0, 'mrl': 0, 'max_ibi_payload_length': 0, 'configuration': {'target_type': 'I3C_DEVICE', 'interrupt_request': 'ACCEPT_IBI', 'controller_role_request': 'REJECT_CRR', 'setdasa': 'DO_NOT_USE_SETDASA', 'setaasa': 'DO_NOT_USE_SETAASA', 'entdaa': 'USE_ENTDAA', 'ibi_timestamp': 'DISABLE_IBIT', 'pending_read_capability': 'DISABLE_AUTOMATIC_READ'}}]}\n"
     ]
    }
   ],
   "source": [
    "request_result = supernova.i3cControllerGetTargetDevicesTable(getId())"
   ]
  },
  {
   "cell_type": "markdown",
   "metadata": {},
   "source": [
    "### 8. I3C Target Reset\n",
    "\n",
    "The Supernova as the I3C Controller provides support to the I3C Target Reset Pattern. The SUpernova class provides methods to support the RSTACT CCC and a separated method to trigger the I3C Target Reset Pattern into the bus."
   ]
  },
  {
   "cell_type": "markdown",
   "metadata": {},
   "source": [
    "##### 8.1 Direct RSTACT in read mode"
   ]
  },
  {
   "cell_type": "code",
   "execution_count": 45,
   "metadata": {},
   "outputs": [
    {
     "name": "stdout",
     "output_type": "stream",
     "text": [
      ">> New message from SUPERNOVA:\n",
      "{'id': 42, 'command': 'I3C CONTROLLER CCC TRANSFER', 'result': 'SUCCESS', 'ccc': 'D_RSTACT', 'payload_length': 1, 'payload': [0]}\n"
     ]
    }
   ],
   "source": [
    "TARGET_ADDR     = 0x0A\n",
    "\n",
    "request_result = supernova.i3cDirectRSTACT(getId(), TARGET_ADDR, I3cTargetResetDefByte.RESET_I3C_PERIPHERAL, TransferDirection.READ)"
   ]
  },
  {
   "cell_type": "markdown",
   "metadata": {},
   "source": [
    "##### 8.2 Direct RSTACT in write mode"
   ]
  },
  {
   "cell_type": "code",
   "execution_count": 46,
   "metadata": {},
   "outputs": [
    {
     "name": "stdout",
     "output_type": "stream",
     "text": [
      ">> New message from SUPERNOVA:\n",
      "{'id': 43, 'command': 'I3C CONTROLLER CCC TRANSFER', 'result': 'SUCCESS', 'ccc': 'D_RSTACT', 'payload_length': 2}\n"
     ]
    }
   ],
   "source": [
    "TARGET_ADDR     = 0x0A\n",
    "\n",
    "request_result = supernova.i3cDirectRSTACT(getId(), TARGET_ADDR, I3cTargetResetDefByte.RESET_I3C_PERIPHERAL, TransferDirection.WRITE)"
   ]
  },
  {
   "cell_type": "markdown",
   "metadata": {},
   "source": [
    "##### 8.3 Trigger the Target Reset Pattern"
   ]
  },
  {
   "cell_type": "code",
   "execution_count": 47,
   "metadata": {},
   "outputs": [
    {
     "name": "stdout",
     "output_type": "stream",
     "text": [
      ">> New message from SUPERNOVA:\n",
      "{'id': 44, 'command': 'I3C CONTROLLER TRIGGER PATTERN', 'result': 'SUCCESS', 'pattern': 'I3C_TARGET_RESET_PATTERN'}\n"
     ]
    }
   ],
   "source": [
    "request_result = supernova.i3cControllerTriggerTargetResetPattern(getId())"
   ]
  },
  {
   "cell_type": "markdown",
   "metadata": {},
   "source": [
    "##### 8.4 Reset all the whole Targets using Broadcast RSTACT CCC."
   ]
  },
  {
   "cell_type": "code",
   "execution_count": 48,
   "metadata": {},
   "outputs": [
    {
     "name": "stdout",
     "output_type": "stream",
     "text": [
      ">> New message from SUPERNOVA:\n",
      "{'id': 45, 'command': 'I3C CONTROLLER CCC TRANSFER', 'result': 'SUCCESS', 'ccc': 'B_RSTACT', 'payload_length': 2}\n"
     ]
    }
   ],
   "source": [
    "TARGET_ADDR     = 0x0A\n",
    "\n",
    "request_result = supernova.i3cBroadcastRSTACT(getId(), I3cTargetResetDefByte.RESET_WHOLE_TARGET)"
   ]
  },
  {
   "cell_type": "code",
   "execution_count": 49,
   "metadata": {},
   "outputs": [
    {
     "name": "stdout",
     "output_type": "stream",
     "text": [
      ">> New message from SUPERNOVA:\n",
      "{'id': 46, 'command': 'I3C CONTROLLER TRIGGER PATTERN', 'result': 'SUCCESS', 'pattern': 'I3C_TARGET_RESET_PATTERN'}\n"
     ]
    }
   ],
   "source": [
    "request_result = supernova.i3cControllerTriggerTargetResetPattern(getId())"
   ]
  },
  {
   "cell_type": "markdown",
   "metadata": {},
   "source": [
    "### 9. I3C HDR Exit Pattern\n",
    "\n",
    "The Supernova as the I3C Controller provides support to the I3C HDR Exit Pattern."
   ]
  },
  {
   "cell_type": "code",
   "execution_count": 50,
   "metadata": {},
   "outputs": [
    {
     "name": "stdout",
     "output_type": "stream",
     "text": [
      ">> New message from SUPERNOVA:\n",
      "{'id': 47, 'command': 'I3C CONTROLLER TRIGGER PATTERN', 'result': 'SUCCESS', 'pattern': 'I3C_HDR_EXIT_PATTERN'}\n"
     ]
    }
   ],
   "source": [
    "request_result = supernova.i3cControllerTriggerHdrExitPattern(getId())"
   ]
  },
  {
   "cell_type": "markdown",
   "metadata": {},
   "source": [
    "### 10. Close communication\n",
    "\n",
    "Use the ``Supernova.close()`` method to end the communication with the Supernova device and release the used memory in the background like threads and so on."
   ]
  },
  {
   "cell_type": "code",
   "execution_count": 51,
   "metadata": {},
   "outputs": [
    {
     "data": {
      "text/plain": [
       "{'module': 0, 'opcode': 0, 'message': 'Communication closed successfully.'}"
      ]
     },
     "execution_count": 51,
     "metadata": {},
     "output_type": "execute_result"
    }
   ],
   "source": [
    "# Close the communication with the Supernova device.\n",
    "supernova.close()"
   ]
  }
 ],
 "metadata": {
  "kernelspec": {
   "display_name": "Python 3",
   "language": "python",
   "name": "python3"
  },
  "language_info": {
   "codemirror_mode": {
    "name": "ipython",
    "version": 3
   },
   "file_extension": ".py",
   "mimetype": "text/x-python",
   "name": "python",
   "nbconvert_exporter": "python",
   "pygments_lexer": "ipython3",
   "version": "3.11.9"
  },
  "orig_nbformat": 4
 },
 "nbformat": 4,
 "nbformat_minor": 2
}
