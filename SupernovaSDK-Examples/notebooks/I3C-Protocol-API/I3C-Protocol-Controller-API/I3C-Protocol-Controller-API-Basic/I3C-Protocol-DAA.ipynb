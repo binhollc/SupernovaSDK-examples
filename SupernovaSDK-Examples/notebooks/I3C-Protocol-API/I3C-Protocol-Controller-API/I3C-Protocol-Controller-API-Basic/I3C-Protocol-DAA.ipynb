{
 "cells": [
  {
   "cell_type": "markdown",
   "metadata": {},
   "source": [
    "### Getting started\n",
    "\n",
    "##### Connection Setup:\n",
    "   - Connect a Supernova with firmware version 4.0.0 or higher to a BMM350 Bosch target via the I3C HV bus. The Supernova will act as an I3C controller while the BMM350 as an I3C target.\n",
    "   - Other I3C targets may be used, but you should check their static address and DAA allowed methods to properly test the device and understand the outcome of the evaluation.\n",
    "\n",
    "##### Expected Messages and Notifications:\n",
    "   - For each command sent to the I3C controller, the notebook should show the response returned by it.\n",
    "   - Calling `i3cControllerGetTargetDevicesTable`, you can verify that the Target Devices Table is updated after each DAA method if run successfully: `i3cRSTDAA`, ``i3cSETDASA``, ``i3cSETAASA``, ``i3cENTDAA``, ``i3cControllerInitBus``, and `i3cControllerResetBus`\n",
    "   \n",
    "#####  Testing Process:\n",
    "   - Run each cell in order.\n",
    "   - Look for immediate feedback:\n",
    "     - The response for each command directed to a Supernova.\n"
   ]
  },
  {
   "cell_type": "markdown",
   "metadata": {},
   "source": [
    "### 1. Startup"
   ]
  },
  {
   "cell_type": "markdown",
   "metadata": {},
   "source": [
    "#### 1.1 Import the python package"
   ]
  },
  {
   "cell_type": "code",
   "execution_count": 9,
   "metadata": {},
   "outputs": [],
   "source": [
    "# Import Python package\n",
    "import binhosupernova\n",
    "from binhosupernova.supernova import Supernova\n",
    "from binhosupernova.commands.i3c.definitions import *"
   ]
  },
  {
   "cell_type": "markdown",
   "metadata": {},
   "source": [
    "#### 1.2 Define a function to generate transaction IDs\n",
    "\n",
    "All the request messages sent to the Supernova from the USB Host application must include the transaction or request ID. The ID is a 2-byte integer with an allowed range of ``[1, 65535]``.\n",
    "\n",
    "In this example, a dummy function called ``getId()`` is defined to increment a transaction counter used as the ID."
   ]
  },
  {
   "cell_type": "code",
   "execution_count": 10,
   "metadata": {},
   "outputs": [],
   "source": [
    "#Auxiliar code to generate IDs.\n",
    "\n",
    "counter_id = 0\n",
    "\n",
    "def getId():\n",
    "    global counter_id\n",
    "    counter_id = counter_id + 1\n",
    "    return counter_id"
   ]
  },
  {
   "cell_type": "markdown",
   "metadata": {},
   "source": [
    "#### 1.3 List all the Supernova devices connected to the PC host\n",
    "\n",
    "The ``binhosupernova.getConnectedSupernovaDevicesList()`` gets a list of the Supernova devices plugged into the host PC machine."
   ]
  },
  {
   "cell_type": "code",
   "execution_count": 11,
   "metadata": {},
   "outputs": [
    {
     "data": {
      "text/plain": [
       "[{'path': '\\\\\\\\?\\\\HID#VID_1FC9&PID_82FC#7&9e2d326&0&0000#{4d1e55b2-f16f-11cf-88cb-001111000030}',\n",
       "  'vendor_id': '0x1fc9',\n",
       "  'product_id': '0x82fc',\n",
       "  'serial_number': '5F4BCE79166A34559DF3081DF5A8769D',\n",
       "  'manufacturer_string': 'Binho LLC',\n",
       "  'product_string': 'Binho Supernova',\n",
       "  'hardware_version': 'C',\n",
       "  'firmware_version': '4.1.2'}]"
      ]
     },
     "execution_count": 11,
     "metadata": {},
     "output_type": "execute_result"
    }
   ],
   "source": [
    "binhosupernova.getConnectedSupernovaDevicesList()"
   ]
  },
  {
   "attachments": {},
   "cell_type": "markdown",
   "metadata": {},
   "source": [
    "#### 1.4 Create an instance of the Supernova class\n",
    "\n",
    "To utilize a Supernova USB host adapter device, we need to create an instance of the Supernova class."
   ]
  },
  {
   "cell_type": "code",
   "execution_count": 12,
   "metadata": {},
   "outputs": [],
   "source": [
    "# Create a device instance. One instance of the Supernova class represents a Supernova USB host adapter device.\n",
    "supernova = Supernova()"
   ]
  },
  {
   "cell_type": "markdown",
   "metadata": {},
   "source": [
    "#### 1.5 Open connection to the Supernova device\n",
    "\n",
    "The public method ``Supernova.open()`` establishes the connection with a Supernova device. Below is the complete signature:\n",
    "\n",
    "```python\n",
    "open(serial, path)\n",
    "```\n",
    "\n",
    "- ``serial: str``: The Supernova serial number.\n",
    "- ``path: str``: The OS HID path assigned to the device. This can be obtained using the ``binhosupernova.getConnectedSupernovaDevicesList()`` method. The ``path`` parameter is currently the only way to uniquely identify each Supernova device. Therefore, it is recommended to use the ``path`` parameter, especially when opening connections with more than one Supernova device simultaneously.\n"
   ]
  },
  {
   "cell_type": "code",
   "execution_count": 13,
   "metadata": {},
   "outputs": [
    {
     "data": {
      "text/plain": [
       "{'module': 0,\n",
       " 'opcode': 0,\n",
       " 'message': 'Connection with Supernova device opened successfully.'}"
      ]
     },
     "execution_count": 13,
     "metadata": {},
     "output_type": "execute_result"
    }
   ],
   "source": [
    "# Use the method by default to connect to only one Supernova device.\n",
    "supernova.open()\n",
    "\n",
    "# Otherwise, use the path attribute to identify each Supernova device. Uncomment the line below and comment the line #2.\n",
    "# supernova.open(path='\\\\\\\\?\\\\HID#VID_1FC9&PID_82FC#6&48d9417&0&0000#{4d1e55b2-f16f-11cf-88cb-001111000030}')"
   ]
  },
  {
   "attachments": {},
   "cell_type": "markdown",
   "metadata": {},
   "source": [
    "#### 1.6 Define and register a callback to handle responses and notifications from Supernova\n",
    "\n",
    "To handle responses and notifications from Supernova, a callback function must be defined and registered. This function will be invoked every time the Supernova sends a response to a request, an asynchronous notification, or a message from the system.\n",
    "\n",
    "The callback function's signature is as follows: \n",
    "\n",
    "``def callback_function_name(supernova_message: dict, system_message: dict) -> None:``\n",
    "\n",
    "Once the callback function is defined, it should be registered using the ``Supernova.onEvent(callback_function)`` method."
   ]
  },
  {
   "cell_type": "code",
   "execution_count": 14,
   "metadata": {},
   "outputs": [],
   "source": [
    "# Define callback function\n",
    "def callback_function(supernova_message: dict, system_message: dict) -> None:\n",
    "\n",
    "    if supernova_message != None:\n",
    "\n",
    "        # Print a header\n",
    "        print(\">> New message from SUPERNOVA:\")\n",
    "        print(supernova_message)\n",
    "\n",
    "    if system_message != None:\n",
    "\n",
    "        # Print a header\n",
    "        print(\">> New message from the SYSTEM:\")\n",
    "        print(system_message)"
   ]
  },
  {
   "cell_type": "code",
   "execution_count": 15,
   "metadata": {},
   "outputs": [
    {
     "data": {
      "text/plain": [
       "{'module': 0,\n",
       " 'opcode': 0,\n",
       " 'message': 'On event callback function registered successfully.'}"
      ]
     },
     "execution_count": 15,
     "metadata": {},
     "output_type": "execute_result"
    }
   ],
   "source": [
    "# Register callback function\n",
    "supernova.onEvent(callback_function)"
   ]
  },
  {
   "attachments": {},
   "cell_type": "markdown",
   "metadata": {},
   "source": [
    "### 2. I3C Protocol API\n",
    "\n",
    "The I3C Protocol API methods are described below."
   ]
  },
  {
   "cell_type": "markdown",
   "metadata": {},
   "source": [
    "### 2.1 Configure the Supernova as an I3C Controller\n",
    "\n",
    "``Supernova.i3cControllerInit(id, pushPullRate, i3cOpenDrainRate, i2cOpenDrainRate)``\n",
    "\n",
    "This method initializes the Supernova as an I3C controller.\n",
    "\n",
    "  - `id: int`: A 2-byte integer that represents the transfer ID.\n",
    "  - `pushPullRate: I3cPushPullTransferRate`: Push-Pull frequency.\n",
    "  - `i3cOpenDrainRate: I3cOpenDrainTransferRate`: I3C frequency in Open Drain mode.\n",
    "  - `i2cOpenDrainRate: I2cTransferRate`: I2C frequency."
   ]
  },
  {
   "cell_type": "code",
   "execution_count": 16,
   "metadata": {},
   "outputs": [
    {
     "data": {
      "text/plain": [
       "{'module': 1, 'opcode': 0, 'message': 'I3C CONTROLLER INIT request success'}"
      ]
     },
     "execution_count": 16,
     "metadata": {},
     "output_type": "execute_result"
    },
    {
     "name": "stdout",
     "output_type": "stream",
     "text": [
      ">> New message from SUPERNOVA:\n",
      "{'id': 1, 'command': 'I3C CONTROLLER INIT', 'result': 'SUCCESS'}\n"
     ]
    }
   ],
   "source": [
    "supernova.i3cControllerInit(getId(), I3cPushPullTransferRate.PUSH_PULL_3_125_MHZ_25_DC, I3cOpenDrainTransferRate.OPEN_DRAIN_1_MHZ, I2cTransferRate._400KHz)"
   ]
  },
  {
   "cell_type": "markdown",
   "metadata": {},
   "source": [
    "### 2.2 Set I3C voltage\n",
    "\n",
    "``Supernova.setI3cVoltage(id, voltage_mV)``\n",
    "\n",
    "This method supplies the indicated voltage to the I3C bus in mV, ranging from 800 mV up to 3300 mV. \n",
    "\n",
    "- ``id: int`` : A 2-byte integer that represents the transfer ID.\n",
    "- ``voltage_mV: c_int16 ``: The voltage parameter is a 2-byte integer in the range [800, 3300] mV and allows the value 0 mV to power off the output voltage.\n",
    "\n",
    "There are 2 I3C ports:\n",
    "- I3C LV: from 800 mV to 1199 mV\n",
    "- I3C HV: from 1200 mV to 3300 mV"
   ]
  },
  {
   "cell_type": "code",
   "execution_count": 9,
   "metadata": {},
   "outputs": [
    {
     "name": "stdout",
     "output_type": "stream",
     "text": [
      ">> New message from SUPERNOVA:\n",
      "{'id': 2, 'command': 'SYS SET I3C VOLTAGE', 'result': 'SUCCESS'}\n"
     ]
    }
   ],
   "source": [
    "request_result = supernova.setI3cVoltage(getId(), 3300)"
   ]
  },
  {
   "attachments": {},
   "cell_type": "markdown",
   "metadata": {},
   "source": [
    "### 2.3 I3C bus initialization\n",
    "\n",
    "``Supernova.i3cControllerInitBus`` will execute a RSTDAA and then try to perform the DAA in the order specified by the MIPI Alliance: SETDASA, SETAASA and finally ENTDAA.\n",
    "  - SETDASA will be executed if there is at least one target in the table argument for ``i3cControllerInitBus`` that allows SETDASA.\n",
    "  - SETAASA will be executed if there is at least one target in the table argument for ``i3cControllerInitBus`` that allows SETAASA but doesn't allow SETDASA.\n",
    "  - ENTDAA will be executed if the table is not full or if there is at least one target in the table argument for ``i3cControllerInitBus`` that allows ENTDAA but doesn't allow SETDASA nor SETAASA."
   ]
  },
  {
   "cell_type": "markdown",
   "metadata": {},
   "source": [
    "#### 2.3.1 Using ``i3cControllerInitBus`` with no target entries as argument\n",
    "\n",
    "The CCCs involved are:\n",
    "- RSTDAA\n",
    "- ENTDAA since the Target Devices Table is empty when invoking i3cInitBus\n"
   ]
  },
  {
   "cell_type": "code",
   "execution_count": 10,
   "metadata": {},
   "outputs": [
    {
     "name": "stdout",
     "output_type": "stream",
     "text": [
      ">> New message from SUPERNOVA:\n",
      "{'id': 3, 'command': 'I3C CONTROLLER GET TARGET DEVICES TABLE', 'result': 'SUCCESS', 'number_of_targets': 0, 'table': []}\n"
     ]
    }
   ],
   "source": [
    "# Get the Target Devices Table from the Supernova. It must be empty before the bus initialization.\n",
    "request_result = supernova.i3cControllerGetTargetDevicesTable(getId())"
   ]
  },
  {
   "cell_type": "code",
   "execution_count": 11,
   "metadata": {},
   "outputs": [
    {
     "name": "stdout",
     "output_type": "stream",
     "text": [
      ">> New message from SUPERNOVA:\n",
      "{'id': 4, 'command': 'I3C CONTROLLER INIT BUS', 'result': 'SUCCESS', 'invalid_addresses': []}\n"
     ]
    }
   ],
   "source": [
    "# Initialize and scan the I3C bus.\n",
    "request_result = supernova.i3cControllerInitBus(getId())"
   ]
  },
  {
   "cell_type": "code",
   "execution_count": 12,
   "metadata": {},
   "outputs": [
    {
     "name": "stdout",
     "output_type": "stream",
     "text": [
      ">> New message from SUPERNOVA:\n",
      "{'id': 5, 'command': 'I3C CONTROLLER GET TARGET DEVICES TABLE', 'result': 'SUCCESS', 'number_of_targets': 2, 'table': [{'static_address': 0, 'dynamic_address': 8, 'pid': [2, 8, 0, 112, 146, 11], 'bcr': 7, 'dcr': 68, 'mwl': 0, 'mrl': 0, 'max_ibi_payload_length': 0, 'configuration': {'target_type': 'I3C_DEVICE', 'interrupt_request': 'ACCEPT_IBI', 'controller_role_request': 'REJECT_CRR', 'setdasa': 'DO_NOT_USE_SETDASA', 'setaasa': 'DO_NOT_USE_SETAASA', 'entdaa': 'USE_ENTDAA', 'ibi_timestamp': 'DISABLE_IBIT', 'pending_read_capability': 'DISABLE_AUTOMATIC_READ'}}, {'static_address': 0, 'dynamic_address': 9, 'pid': [7, 112, 16, 51, 0, 0], 'bcr': 38, 'dcr': 67, 'mwl': 0, 'mrl': 0, 'max_ibi_payload_length': 0, 'configuration': {'target_type': 'I3C_DEVICE', 'interrupt_request': 'ACCEPT_IBI', 'controller_role_request': 'REJECT_CRR', 'setdasa': 'DO_NOT_USE_SETDASA', 'setaasa': 'DO_NOT_USE_SETAASA', 'entdaa': 'USE_ENTDAA', 'ibi_timestamp': 'DISABLE_IBIT', 'pending_read_capability': 'DISABLE_AUTOMATIC_READ'}}]}\n"
     ]
    }
   ],
   "source": [
    "# Get the Target Devices Table from the Supernova\n",
    "request_result = supernova.i3cControllerGetTargetDevicesTable(getId())"
   ]
  },
  {
   "cell_type": "code",
   "execution_count": 13,
   "metadata": {},
   "outputs": [
    {
     "name": "stdout",
     "output_type": "stream",
     "text": [
      ">> New message from SUPERNOVA:\n",
      "{'id': 6, 'command': 'I3C CONTROLLER RESET BUS', 'result': 'SUCCESS'}\n"
     ]
    }
   ],
   "source": [
    "# Reset the bus before testing other initialization options.\n",
    "request_result = supernova.i3cControllerResetBus(getId())"
   ]
  },
  {
   "cell_type": "code",
   "execution_count": 14,
   "metadata": {},
   "outputs": [
    {
     "name": "stdout",
     "output_type": "stream",
     "text": [
      ">> New message from SUPERNOVA:\n",
      "{'id': 7, 'command': 'I3C CONTROLLER GET TARGET DEVICES TABLE', 'result': 'SUCCESS', 'number_of_targets': 0, 'table': []}\n"
     ]
    }
   ],
   "source": [
    "# Get the Target Devices Table from the Supernova\n",
    "request_result = supernova.i3cControllerGetTargetDevicesTable(getId())"
   ]
  },
  {
   "cell_type": "markdown",
   "metadata": {},
   "source": [
    "#### 2.3.2 Using i3cInitBus with a target entry as argument\n",
    "\n",
    "The CCCs involved are:\n",
    "- RSTDAA \n",
    "- SETDASA since there is at least one entry that supports SETDASA \n",
    "- ENTDAA since the Target Devices Table is empty when invoking i3cInitBus\n"
   ]
  },
  {
   "cell_type": "code",
   "execution_count": 15,
   "metadata": {},
   "outputs": [
    {
     "name": "stdout",
     "output_type": "stream",
     "text": [
      ">> New message from SUPERNOVA:\n",
      "{'id': 8, 'command': 'I3C CONTROLLER INIT BUS', 'result': 'SUCCESS', 'invalid_addresses': []}\n"
     ]
    }
   ],
   "source": [
    "'''\n",
    "If the static address of a target is known, sent it to the Supernova. The static address is mandatory\n",
    "if it is expected to assign the dynamic address of the target through SETDASA or SETAASA CCCs.\n",
    "'''\n",
    "BMM350_STATIC_ADDRESS = 0x14\n",
    "\n",
    "'''\n",
    "Select the dynamic address to be assigned to the I3C Target if the DAA method is a SETDASA.\n",
    "'''\n",
    "BMM350_DYNAMIC_ADDRESS = 0x0C\n",
    "\n",
    "\"\"\"\n",
    "Set the features and the behavior of the I3C Target. For instance, in case that the I3C Target BCR[1] is\n",
    "set, which means that the I3C Target support In-Band Interrupt (IBI) requests, define whether the Supernova\n",
    "must accept or reject IBIs request from the target. Define also if the dynamic address will be assigned\n",
    "using ENTDAA, SETDASA or SETAASA. To assign the dynamic address set above using ENTDAA, it is mandatory\n",
    "to set also the BCR, DCR and PID in the table. If SETDASA or SETAASA are used, it is mandatory to set\n",
    "the static address. It is also important to add here the I2C devices, setting the static address and the\n",
    "target type as I2C_DEVICE.\n",
    "\n",
    "In the example below, the SETDASA CCC is used to set the dynamic address set above to the target.\n",
    "\"\"\"\n",
    "BMM350_CONFIGURATION = {\n",
    "        \"targetType\": TargetType.I3C_DEVICE,\n",
    "        \"IBIRequest\": TargetInterruptRequest.ACCEPT_IBI,\n",
    "        \"CRRequest\": ControllerRoleRequest.REJECT_CRR,\n",
    "        \"daaUseSETDASA\": SetdasaConfiguration.USE_SETDASA,\n",
    "        \"daaUseSETAASA\": SetaasaConfiguration.DO_NOT_USE_SETAASA,\n",
    "        \"daaUseENTDAA\": EntdaaConfiguration.DO_NOT_USE_ENTDAA,\n",
    "        \"ibiTimestampEnable\": IBiTimestamp.DISABLE_IBIT,\n",
    "        \"pendingReadCapability\": PendingReadCapability.DISABLE_AUTOMATIC_READ\n",
    "}\n",
    "\n",
    "'''\n",
    "Create the target devices table to be transferred to the Supernova. This table is a dictionary whose keys\n",
    "are integer numbers starting from 0 and the maximum value possible is 10, which means that the maximum number\n",
    "of I3C Targets is 11.\n",
    "'''\n",
    "table = {0: {'staticAddress': BMM350_STATIC_ADDRESS,\n",
    "        'dynamicAddress': BMM350_DYNAMIC_ADDRESS,\n",
    "        'bcr': 0x00,\n",
    "        'dcr': 0x00,\n",
    "        'pid': [0x00, 0x00, 0x00, 0x00, 0x00, 0x00],\n",
    "        'configuration': BMM350_CONFIGURATION}}\n",
    "\n",
    "'''\n",
    "Initialize the bus using the predefined target devices table.\n",
    "'''\n",
    "request_result = supernova.i3cControllerInitBus(getId(), table)"
   ]
  },
  {
   "cell_type": "code",
   "execution_count": 16,
   "metadata": {},
   "outputs": [
    {
     "name": "stdout",
     "output_type": "stream",
     "text": [
      ">> New message from SUPERNOVA:\n",
      "{'id': 9, 'command': 'I3C CONTROLLER GET TARGET DEVICES TABLE', 'result': 'SUCCESS', 'number_of_targets': 2, 'table': [{'static_address': 20, 'dynamic_address': 12, 'pid': [0, 0, 0, 0, 0, 0], 'bcr': 0, 'dcr': 0, 'mwl': 0, 'mrl': 0, 'max_ibi_payload_length': 0, 'configuration': {'target_type': 'I3C_DEVICE', 'interrupt_request': 'ACCEPT_IBI', 'controller_role_request': 'REJECT_CRR', 'setdasa': 'USE_SETDASA', 'setaasa': 'DO_NOT_USE_SETAASA', 'entdaa': 'DO_NOT_USE_ENTDAA', 'ibi_timestamp': 'DISABLE_IBIT', 'pending_read_capability': 'DISABLE_AUTOMATIC_READ'}}, {'static_address': 0, 'dynamic_address': 8, 'pid': [2, 8, 0, 112, 146, 11], 'bcr': 7, 'dcr': 68, 'mwl': 0, 'mrl': 0, 'max_ibi_payload_length': 0, 'configuration': {'target_type': 'I3C_DEVICE', 'interrupt_request': 'ACCEPT_IBI', 'controller_role_request': 'REJECT_CRR', 'setdasa': 'DO_NOT_USE_SETDASA', 'setaasa': 'DO_NOT_USE_SETAASA', 'entdaa': 'USE_ENTDAA', 'ibi_timestamp': 'DISABLE_IBIT', 'pending_read_capability': 'DISABLE_AUTOMATIC_READ'}}]}\n"
     ]
    }
   ],
   "source": [
    "# Get the update target devices table.\n",
    "request_result = supernova.i3cControllerGetTargetDevicesTable(getId())"
   ]
  },
  {
   "cell_type": "markdown",
   "metadata": {},
   "source": [
    "#### 2.3.3 Using SETDASA CCC method directly"
   ]
  },
  {
   "cell_type": "markdown",
   "metadata": {},
   "source": [
    "First, let's reset the bus.\n",
    "\n",
    "`Supernova.i3cControllerResetBus(id)`\n",
    "\n",
    "This method requests the Supernova to: 1. issue an RSTDAA CCC, 2. free the already assigned dynamic addresses and 3. clean up the target devices table. \n",
    "\n",
    "- `id: int`: A 2-byte integer that represents the transfer ID."
   ]
  },
  {
   "cell_type": "code",
   "execution_count": 17,
   "metadata": {},
   "outputs": [
    {
     "data": {
      "text/plain": [
       "{'module': 1,\n",
       " 'opcode': 0,\n",
       " 'message': 'I3C CONTROLLER RESET BUS request success'}"
      ]
     },
     "execution_count": 17,
     "metadata": {},
     "output_type": "execute_result"
    },
    {
     "name": "stdout",
     "output_type": "stream",
     "text": [
      ">> New message from SUPERNOVA:\n",
      "{'id': 10, 'command': 'I3C CONTROLLER RESET BUS', 'result': 'SUCCESS'}\n"
     ]
    }
   ],
   "source": [
    "supernova.i3cControllerResetBus(getId())"
   ]
  },
  {
   "cell_type": "code",
   "execution_count": 18,
   "metadata": {},
   "outputs": [
    {
     "name": "stdout",
     "output_type": "stream",
     "text": [
      ">> New message from SUPERNOVA:\n",
      "{'id': 11, 'command': 'I3C CONTROLLER GET TARGET DEVICES TABLE', 'result': 'SUCCESS', 'number_of_targets': 0, 'table': []}\n"
     ]
    }
   ],
   "source": [
    "# Get the update target devices table\n",
    "request_result = supernova.i3cControllerGetTargetDevicesTable(getId())"
   ]
  },
  {
   "cell_type": "code",
   "execution_count": 19,
   "metadata": {},
   "outputs": [
    {
     "name": "stdout",
     "output_type": "stream",
     "text": [
      ">> New message from SUPERNOVA:\n",
      "{'id': 12, 'command': 'I3C CONTROLLER CCC TRANSFER', 'result': 'SUCCESS', 'ccc': 'D_SETDASA', 'payload_length': 1}\n"
     ]
    }
   ],
   "source": [
    "BMM350_STATIC_ADDRESS = 0x14\n",
    "BMM350_DYNAMIC_ADDRESS = 0x0A\n",
    "\n",
    "# Request a SETDASA\n",
    "request_result = supernova.i3cSETDASA(getId(), BMM350_STATIC_ADDRESS, BMM350_DYNAMIC_ADDRESS)"
   ]
  },
  {
   "cell_type": "code",
   "execution_count": 20,
   "metadata": {},
   "outputs": [
    {
     "name": "stdout",
     "output_type": "stream",
     "text": [
      ">> New message from SUPERNOVA:\n",
      "{'id': 13, 'command': 'I3C CONTROLLER GET TARGET DEVICES TABLE', 'result': 'SUCCESS', 'number_of_targets': 1, 'table': [{'static_address': 20, 'dynamic_address': 10, 'pid': [0, 0, 0, 0, 0, 0], 'bcr': 0, 'dcr': 0, 'mwl': 0, 'mrl': 0, 'max_ibi_payload_length': 0, 'configuration': {'target_type': 'I3C_DEVICE', 'interrupt_request': 'REJECT_IBI', 'controller_role_request': 'REJECT_CRR', 'setdasa': 'USE_SETDASA', 'setaasa': 'DO_NOT_USE_SETAASA', 'entdaa': 'DO_NOT_USE_ENTDAA', 'ibi_timestamp': 'DISABLE_IBIT', 'pending_read_capability': 'DISABLE_AUTOMATIC_READ'}}]}\n"
     ]
    }
   ],
   "source": [
    "# Get the update target devices table\n",
    "request_result = supernova.i3cControllerGetTargetDevicesTable(getId())"
   ]
  },
  {
   "cell_type": "markdown",
   "metadata": {},
   "source": [
    "#### 2.3.4 Using SETAASA"
   ]
  },
  {
   "cell_type": "code",
   "execution_count": 21,
   "metadata": {},
   "outputs": [
    {
     "data": {
      "text/plain": [
       "{'module': 1,\n",
       " 'opcode': 0,\n",
       " 'message': 'I3C CONTROLLER RESET BUS request success'}"
      ]
     },
     "execution_count": 21,
     "metadata": {},
     "output_type": "execute_result"
    },
    {
     "name": "stdout",
     "output_type": "stream",
     "text": [
      ">> New message from SUPERNOVA:\n",
      "{'id': 14, 'command': 'I3C CONTROLLER RESET BUS', 'result': 'SUCCESS'}\n"
     ]
    }
   ],
   "source": [
    "supernova.i3cControllerResetBus(getId())"
   ]
  },
  {
   "cell_type": "code",
   "execution_count": 22,
   "metadata": {},
   "outputs": [
    {
     "name": "stdout",
     "output_type": "stream",
     "text": [
      ">> New message from SUPERNOVA:\n",
      "{'id': 15, 'command': 'I3C CONTROLLER GET TARGET DEVICES TABLE', 'result': 'SUCCESS', 'number_of_targets': 0, 'table': []}\n"
     ]
    }
   ],
   "source": [
    "# Get the update target devices table\n",
    "request_result = supernova.i3cControllerGetTargetDevicesTable(getId())"
   ]
  },
  {
   "cell_type": "code",
   "execution_count": 23,
   "metadata": {},
   "outputs": [
    {
     "name": "stdout",
     "output_type": "stream",
     "text": [
      ">> New message from SUPERNOVA:\n",
      "{'id': 16, 'command': 'I3C CONTROLLER CCC TRANSFER', 'result': 'SUCCESS', 'ccc': 'B_SETAASA', 'payload_length': 1}\n"
     ]
    }
   ],
   "source": [
    "BMM350_STATIC_ADDRESS = 0x14\n",
    "\n",
    "# Request a SETAASA\n",
    "request_result = supernova.i3cSETAASA(getId(), [BMM350_STATIC_ADDRESS])"
   ]
  },
  {
   "cell_type": "code",
   "execution_count": 24,
   "metadata": {},
   "outputs": [
    {
     "name": "stdout",
     "output_type": "stream",
     "text": [
      ">> New message from SUPERNOVA:\n",
      "{'id': 17, 'command': 'I3C CONTROLLER GET TARGET DEVICES TABLE', 'result': 'SUCCESS', 'number_of_targets': 1, 'table': [{'static_address': 20, 'dynamic_address': 20, 'pid': [0, 0, 0, 0, 0, 0], 'bcr': 0, 'dcr': 0, 'mwl': 0, 'mrl': 0, 'max_ibi_payload_length': 0, 'configuration': {'target_type': 'I3C_DEVICE', 'interrupt_request': 'REJECT_IBI', 'controller_role_request': 'REJECT_CRR', 'setdasa': 'DO_NOT_USE_SETDASA', 'setaasa': 'USE_SETAASA', 'entdaa': 'DO_NOT_USE_ENTDAA', 'ibi_timestamp': 'DISABLE_IBIT', 'pending_read_capability': 'DISABLE_AUTOMATIC_READ'}}]}\n"
     ]
    }
   ],
   "source": [
    "# Get the update target devices table\n",
    "request_result = supernova.i3cControllerGetTargetDevicesTable(getId())"
   ]
  },
  {
   "cell_type": "markdown",
   "metadata": {},
   "source": [
    "#### 2.3.5 Using ENTDAA"
   ]
  },
  {
   "cell_type": "code",
   "execution_count": 25,
   "metadata": {},
   "outputs": [
    {
     "data": {
      "text/plain": [
       "{'module': 1,\n",
       " 'opcode': 0,\n",
       " 'message': 'I3C CONTROLLER RESET BUS request success'}"
      ]
     },
     "execution_count": 25,
     "metadata": {},
     "output_type": "execute_result"
    },
    {
     "name": "stdout",
     "output_type": "stream",
     "text": [
      ">> New message from SUPERNOVA:\n",
      "{'id': 18, 'command': 'I3C CONTROLLER RESET BUS', 'result': 'SUCCESS'}\n"
     ]
    }
   ],
   "source": [
    "supernova.i3cControllerResetBus(getId())"
   ]
  },
  {
   "cell_type": "code",
   "execution_count": 26,
   "metadata": {},
   "outputs": [
    {
     "name": "stdout",
     "output_type": "stream",
     "text": [
      ">> New message from SUPERNOVA:\n",
      "{'id': 19, 'command': 'I3C CONTROLLER GET TARGET DEVICES TABLE', 'result': 'SUCCESS', 'number_of_targets': 0, 'table': []}\n"
     ]
    }
   ],
   "source": [
    "# Get the update target devices table\n",
    "request_result = supernova.i3cControllerGetTargetDevicesTable(getId())"
   ]
  },
  {
   "cell_type": "code",
   "execution_count": 27,
   "metadata": {},
   "outputs": [
    {
     "name": "stdout",
     "output_type": "stream",
     "text": [
      ">> New message from SUPERNOVA:\n",
      "{'id': 20, 'command': 'I3C CONTROLLER CCC TRANSFER', 'result': 'SUCCESS', 'ccc': 'B_ENTDAA', 'payload_length': 0}\n"
     ]
    }
   ],
   "source": [
    "\"\"\"\n",
    "If the static address of a target is known, sent it to the Supernova. The static address is mandatory\n",
    "if it is expected to assign the dynamic address of the target through SETDASA or SETAASA CCCs.\n",
    "\"\"\"\n",
    "BMM350_STATIC_ADDRESS = 0x14\n",
    "\n",
    "\"\"\"\n",
    "Select the dynamic address to be assigned to the I3C Target if the DAA method is a SETDASA.\n",
    "\"\"\"\n",
    "BMM350_DYNAMIC_ADDRESS = 0x0C\n",
    "\n",
    "\"\"\"\n",
    "Set the features and the behavior of the I3C Target. For instance, in case that the I3C Target BCR[1] is\n",
    "set, which means that the I3C Target support In-Band Interrupt (IBI) requests, define whether the Supernova\n",
    "must accept or reject IBIs request from the target. Define also if the dynamic address will be assigned\n",
    "using ENTDAA, SETDASA or SETAASA. To assign the dynamic address set above using ENTDAA, it is mandatory\n",
    "to set also the BCR, DCR and PID in the table. If SETDASA or SETAASA are used, it is mandatory to set\n",
    "the static address. It is also important to add here the I2C devices, setting the static address and the\n",
    "target type as I2C_DEVICE.\n",
    "In the example below, the ENTDAA CCC is used to set the dynamic address set above to the target.\n",
    "\"\"\"\n",
    "BMM350_CONFIGURATION = {\n",
    "        \"targetType\": TargetType.I3C_DEVICE,\n",
    "        \"IBIRequest\": TargetInterruptRequest.ACCEPT_IBI,\n",
    "        \"CRRequest\": ControllerRoleRequest.REJECT_CRR,\n",
    "        \"daaUseSETDASA\": SetdasaConfiguration.DO_NOT_USE_SETDASA,\n",
    "        \"daaUseSETAASA\": SetaasaConfiguration.DO_NOT_USE_SETAASA,\n",
    "        \"daaUseENTDAA\": EntdaaConfiguration.USE_ENTDAA,\n",
    "        \"ibiTimestampEnable\": IBiTimestamp.DISABLE_IBIT,\n",
    "        \"pendingReadCapability\": PendingReadCapability.DISABLE_AUTOMATIC_READ\n",
    "}\n",
    "\n",
    "\"\"\"\n",
    "Create the target devices table to be transferred to the Supernova. This table is a dictionary whose keys\n",
    "are integer numbers starting from 0 and the maximum value possible is 10, which means that the maximum number\n",
    "of I3C Targets is 11.\n",
    "\"\"\"\n",
    "table = {0: {'staticAddress': BMM350_STATIC_ADDRESS,\n",
    "        'dynamicAddress': BMM350_DYNAMIC_ADDRESS,\n",
    "        'bcr': 0x00,\n",
    "        'dcr': 0x00,\n",
    "        'pid': [0x00, 0x00, 0x00, 0x00, 0x00, 0x00],\n",
    "        'configuration': BMM350_CONFIGURATION}}\n",
    "\n",
    "# Initialize and scan the I3C bus.\n",
    "request_result = supernova.i3cENTDAA(getId(), table)"
   ]
  },
  {
   "cell_type": "code",
   "execution_count": 28,
   "metadata": {},
   "outputs": [
    {
     "name": "stdout",
     "output_type": "stream",
     "text": [
      ">> New message from SUPERNOVA:\n",
      "{'id': 21, 'command': 'I3C CONTROLLER GET TARGET DEVICES TABLE', 'result': 'SUCCESS', 'number_of_targets': 2, 'table': [{'static_address': 0, 'dynamic_address': 8, 'pid': [2, 8, 0, 112, 146, 11], 'bcr': 7, 'dcr': 68, 'mwl': 0, 'mrl': 0, 'max_ibi_payload_length': 0, 'configuration': {'target_type': 'I3C_DEVICE', 'interrupt_request': 'ACCEPT_IBI', 'controller_role_request': 'REJECT_CRR', 'setdasa': 'DO_NOT_USE_SETDASA', 'setaasa': 'DO_NOT_USE_SETAASA', 'entdaa': 'USE_ENTDAA', 'ibi_timestamp': 'DISABLE_IBIT', 'pending_read_capability': 'DISABLE_AUTOMATIC_READ'}}, {'static_address': 0, 'dynamic_address': 9, 'pid': [7, 112, 16, 51, 0, 0], 'bcr': 38, 'dcr': 67, 'mwl': 0, 'mrl': 0, 'max_ibi_payload_length': 0, 'configuration': {'target_type': 'I3C_DEVICE', 'interrupt_request': 'ACCEPT_IBI', 'controller_role_request': 'REJECT_CRR', 'setdasa': 'DO_NOT_USE_SETDASA', 'setaasa': 'DO_NOT_USE_SETAASA', 'entdaa': 'USE_ENTDAA', 'ibi_timestamp': 'DISABLE_IBIT', 'pending_read_capability': 'DISABLE_AUTOMATIC_READ'}}]}\n"
     ]
    }
   ],
   "source": [
    "# Get the update target devices table.\n",
    "request_result = supernova.i3cControllerGetTargetDevicesTable(getId())"
   ]
  },
  {
   "cell_type": "markdown",
   "metadata": {},
   "source": [
    "#### 2.3.6 Change the dynamic address using SETNEWDA"
   ]
  },
  {
   "cell_type": "code",
   "execution_count": 29,
   "metadata": {},
   "outputs": [
    {
     "name": "stdout",
     "output_type": "stream",
     "text": [
      ">> New message from SUPERNOVA:\n",
      "{'id': 22, 'command': 'I3C CONTROLLER CCC TRANSFER', 'result': 'SUCCESS', 'ccc': 'D_SETNEWDA', 'payload_length': 1}\n"
     ]
    }
   ],
   "source": [
    "OLD_DYNAMIC_ADDRESS = 0x08\n",
    "NEW_DYNAMIC_ADDRESS = 0x0F\n",
    "\n",
    "request_result = supernova.i3cSETNEWDA(getId(), OLD_DYNAMIC_ADDRESS, NEW_DYNAMIC_ADDRESS)"
   ]
  },
  {
   "cell_type": "code",
   "execution_count": 30,
   "metadata": {},
   "outputs": [
    {
     "name": "stdout",
     "output_type": "stream",
     "text": [
      ">> New message from SUPERNOVA:\n",
      "{'id': 23, 'command': 'I3C CONTROLLER GET TARGET DEVICES TABLE', 'result': 'SUCCESS', 'number_of_targets': 2, 'table': [{'static_address': 0, 'dynamic_address': 15, 'pid': [2, 8, 0, 112, 146, 11], 'bcr': 7, 'dcr': 68, 'mwl': 0, 'mrl': 0, 'max_ibi_payload_length': 0, 'configuration': {'target_type': 'I3C_DEVICE', 'interrupt_request': 'ACCEPT_IBI', 'controller_role_request': 'REJECT_CRR', 'setdasa': 'DO_NOT_USE_SETDASA', 'setaasa': 'DO_NOT_USE_SETAASA', 'entdaa': 'USE_ENTDAA', 'ibi_timestamp': 'DISABLE_IBIT', 'pending_read_capability': 'DISABLE_AUTOMATIC_READ'}}, {'static_address': 0, 'dynamic_address': 9, 'pid': [7, 112, 16, 51, 0, 0], 'bcr': 38, 'dcr': 67, 'mwl': 0, 'mrl': 0, 'max_ibi_payload_length': 0, 'configuration': {'target_type': 'I3C_DEVICE', 'interrupt_request': 'ACCEPT_IBI', 'controller_role_request': 'REJECT_CRR', 'setdasa': 'DO_NOT_USE_SETDASA', 'setaasa': 'DO_NOT_USE_SETAASA', 'entdaa': 'USE_ENTDAA', 'ibi_timestamp': 'DISABLE_IBIT', 'pending_read_capability': 'DISABLE_AUTOMATIC_READ'}}]}\n"
     ]
    }
   ],
   "source": [
    "# Get the update target devices table\n",
    "request_result = supernova.i3cControllerGetTargetDevicesTable(getId())"
   ]
  },
  {
   "cell_type": "code",
   "execution_count": 31,
   "metadata": {},
   "outputs": [
    {
     "data": {
      "text/plain": [
       "{'module': 1,\n",
       " 'opcode': 0,\n",
       " 'message': 'I3C CONTROLLER RESET BUS request success'}"
      ]
     },
     "execution_count": 31,
     "metadata": {},
     "output_type": "execute_result"
    },
    {
     "name": "stdout",
     "output_type": "stream",
     "text": [
      ">> New message from SUPERNOVA:\n",
      "{'id': 24, 'command': 'I3C CONTROLLER RESET BUS', 'result': 'SUCCESS'}\n"
     ]
    }
   ],
   "source": [
    "supernova.i3cControllerResetBus(getId())"
   ]
  },
  {
   "cell_type": "markdown",
   "metadata": {},
   "source": [
    "### 3. Close communication\n",
    "\n",
    "Use the ``Supernova.close()`` method to end the communication with the Supernova device and release the used memory in the background like threads and so on."
   ]
  },
  {
   "cell_type": "code",
   "execution_count": 17,
   "metadata": {},
   "outputs": [
    {
     "data": {
      "text/plain": [
       "{'module': 0, 'opcode': 0, 'message': 'Communication closed successfully.'}"
      ]
     },
     "execution_count": 17,
     "metadata": {},
     "output_type": "execute_result"
    }
   ],
   "source": [
    "# Close the communication with the Supernova device.\n",
    "supernova.close()"
   ]
  }
 ],
 "metadata": {
  "kernelspec": {
   "display_name": "Python 3",
   "language": "python",
   "name": "python3"
  },
  "language_info": {
   "codemirror_mode": {
    "name": "ipython",
    "version": 3
   },
   "file_extension": ".py",
   "mimetype": "text/x-python",
   "name": "python",
   "nbconvert_exporter": "python",
   "pygments_lexer": "ipython3",
   "version": "3.11.9"
  },
  "orig_nbformat": 4
 },
 "nbformat": 4,
 "nbformat_minor": 2
}
