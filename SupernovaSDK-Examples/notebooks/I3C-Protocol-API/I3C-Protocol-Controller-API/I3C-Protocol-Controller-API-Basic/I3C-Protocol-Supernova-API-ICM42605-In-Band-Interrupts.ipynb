{
 "cells": [
  {
   "cell_type": "code",
   "execution_count": null,
   "metadata": {},
   "outputs": [],
   "source": [
    "# Import Python package\n",
    "from binhosupernova import getConnectedSupernovaDevicesList\n",
    "from binhosupernova.supernova import Supernova\n",
    "from binhosupernova.commands.i3c.definitions import *"
   ]
  },
  {
   "attachments": {},
   "cell_type": "markdown",
   "metadata": {},
   "source": [
    "#### 1. List all the Supernova devices conneted to the PC host"
   ]
  },
  {
   "cell_type": "code",
   "execution_count": 2,
   "metadata": {},
   "outputs": [
    {
     "data": {
      "text/plain": [
       "[{'path': '\\\\\\\\?\\\\HID#VID_1FC9&PID_82FC#6&11c48e71&2&0000#{4d1e55b2-f16f-11cf-88cb-001111000030}',\n",
       "  'vendor_id': '0x1fc9',\n",
       "  'product_id': '0x82fc',\n",
       "  'serial_number': '39EB517A3B54BE5E95DBDDCA22B6A16',\n",
       "  'release_number': 256,\n",
       "  'manufacturer_string': 'Binho LLC',\n",
       "  'product_string': 'Binho Supernova',\n",
       "  'usage_page': 65280,\n",
       "  'usage': 1,\n",
       "  'interface_number': 0}]"
      ]
     },
     "execution_count": 2,
     "metadata": {},
     "output_type": "execute_result"
    }
   ],
   "source": [
    "getConnectedSupernovaDevicesList()"
   ]
  },
  {
   "attachments": {},
   "cell_type": "markdown",
   "metadata": {},
   "source": [
    "#### 2. Create an instance of the Supernova class\n",
    "\n",
    "To utilize a Supernova USB host adapter device, we need to create an instance of the Supernova class."
   ]
  },
  {
   "cell_type": "code",
   "execution_count": 3,
   "metadata": {},
   "outputs": [],
   "source": [
    "# Create device instance\n",
    "supernova = Supernova()"
   ]
  },
  {
   "cell_type": "markdown",
   "metadata": {},
   "source": [
    "#### 3. Open connection to the Supernova device\n",
    "\n",
    "The public method ``Supernova.open()`` establishes the connection with a Supernova device. Below is the complete signature:\n",
    "\n",
    "```python\n",
    "open(vid, pid, serial, path)\n",
    "```\n",
    "\n",
    "- ``vid: int``: The Supernova USB VID, which is set by default.\n",
    "- ``pid: int``: The Supernova USB PID, which is set by default.\n",
    "- ``serial: str``: The Supernova serial number.\n",
    "- ``path: str``: The OS HID path assigned to the device. This can be obtained using the ``binhosupernova.getConnectedSupernovaDevicesList()`` method. The ``path`` parameter is currently the only way to uniquely identify each Supernova device. Therefore, it is recommended to use the ``path`` parameter, especially when opening connections with more than one Supernova device simultaneously."
   ]
  },
  {
   "cell_type": "code",
   "execution_count": 4,
   "metadata": {},
   "outputs": [
    {
     "data": {
      "text/plain": [
       "{'module': 0,\n",
       " 'opcode': 0,\n",
       " 'message': 'Connection with Supernova device opened successfully.'}"
      ]
     },
     "execution_count": 4,
     "metadata": {},
     "output_type": "execute_result"
    }
   ],
   "source": [
    "# Use the method by default to connect to only one Supernova device.\n",
    "supernova.open()\n",
    "\n",
    "# Otherwise, use the path attribute to identify each Supernova device. Uncomment the line below and comment the line #2.\n",
    "# supernova.open(path='\\\\\\\\?\\\\HID#VID_1FC9&PID_82FC#6&48d9417&0&0000#{4d1e55b2-f16f-11cf-88cb-001111000030}')"
   ]
  },
  {
   "attachments": {},
   "cell_type": "markdown",
   "metadata": {},
   "source": [
    "#### 4. Define and register a callback to handle responses and notifications from Supernova\n",
    "\n",
    "To handle responses and notifications from Supernova, a callback function must be defined and registered. This function will be invoked every time the Supernova sends a response to a request, an asynchronous notification, or a message from the system.\n",
    "\n",
    "The callback function's signature is as follows: \n",
    "\n",
    "``def callback_function_name(supernova_message: dict, system_message: dict) -> None:``\n",
    "\n",
    "Once the callback function is defined, it should be registered using the ``Supernova.onEvent(callback_function)`` method."
   ]
  },
  {
   "cell_type": "code",
   "execution_count": 5,
   "metadata": {},
   "outputs": [],
   "source": [
    "def callback_function(supernova_message: dict, system_message: dict) -> None:\n",
    "\n",
    "    if supernova_message != None:\n",
    "\n",
    "        # Print a header\n",
    "        print(\">> New message from SUPERNOVA:\")\n",
    "        print(supernova_message)\n",
    "\n",
    "    if system_message != None:\n",
    "\n",
    "        # Print a header\n",
    "        print(\">> New message from the SYSTEM:\")\n",
    "        print(system_message)"
   ]
  },
  {
   "cell_type": "code",
   "execution_count": 6,
   "metadata": {},
   "outputs": [
    {
     "data": {
      "text/plain": [
       "{'module': 0,\n",
       " 'opcode': 0,\n",
       " 'message': 'On event callback function registered successfully.'}"
      ]
     },
     "execution_count": 6,
     "metadata": {},
     "output_type": "execute_result"
    }
   ],
   "source": [
    "supernova.onEvent(callback_function)"
   ]
  },
  {
   "cell_type": "markdown",
   "metadata": {},
   "source": [
    "#### 5. Define a function to generate transaction IDs\n",
    "\n",
    "All the request messages sent to the Supernova from the USB Host application must include the transaction or request ID. The ID is a 2-byte integer with an allowed range of ``[1, 65535]``.\n",
    "\n",
    "In this example, a dummy function called ``getId()`` is defined to increment a transaction counter used as the ID."
   ]
  },
  {
   "cell_type": "code",
   "execution_count": 7,
   "metadata": {},
   "outputs": [],
   "source": [
    "#Auxiliar code to generate IDs.\n",
    "\n",
    "counter_id = 0\n",
    "\n",
    "def getId():\n",
    "    global counter_id\n",
    "    counter_id = counter_id + 1\n",
    "    return counter_id"
   ]
  },
  {
   "cell_type": "markdown",
   "metadata": {},
   "source": [
    "## I3C Protocol API\n",
    "\n",
    "The I3C Protocol API methods are described below."
   ]
  },
  {
   "cell_type": "markdown",
   "metadata": {},
   "source": [
    "### 1. Configure the Supernova as an I3C Controller\n",
    "\n",
    "``Supernova.i3cControllerInit(id, pushPullRate, i3cOpenDrainRate, i2cOpenDrainRate)``\n",
    "\n",
    "This method initializes the Supernova as an I3C controller.\n",
    "\n",
    "  - `id: int`: A 2-byte integer that represents the transfer ID.\n",
    "  - `pushPullRate: I3cPushPullTransferRate`: Push-Pull frequency.\n",
    "  - `i3cOpenDrainRate: I3cOpenDrainTransferRate`: I3C frequency in Open Drain mode.\n",
    "  - `i2cOpenDrainRate: I2cTransferRate`: I2C frequency."
   ]
  },
  {
   "cell_type": "code",
   "execution_count": 9,
   "metadata": {},
   "outputs": [
    {
     "data": {
      "text/plain": [
       "{'module': 1, 'opcode': 0, 'message': 'I3C CONTROLLER INIT request success'}"
      ]
     },
     "execution_count": 9,
     "metadata": {},
     "output_type": "execute_result"
    },
    {
     "name": "stdout",
     "output_type": "stream",
     "text": [
      ">> New message from SUPERNOVA:\n",
      "{'id': 2, 'command': 'I3C CONTROLLER INIT', 'result': 'SUCCESS'}\n"
     ]
    }
   ],
   "source": [
    "supernova.i3cControllerInit(getId(), I3cPushPullTransferRate.PUSH_PULL_3_75_MHZ, I3cOpenDrainTransferRate.OPEN_DRAIN_250_KHZ, I2cTransferRate._400KHz)"
   ]
  },
  {
   "attachments": {},
   "cell_type": "markdown",
   "metadata": {},
   "source": [
    "### 2. Set I3C voltage\n",
    "\n",
    "``Supernova.setI3cVoltage(id, voltage_mV)``\n",
    "\n",
    "This method supplies the indicated voltage to the I3C bus in mV, ranging from 800 mV up to 3300 mV. \n",
    "\n",
    "- ``id: int`` : A 2-byte integer that represents the transfer ID.\n",
    "- ``voltage_mV: c_int16 ``: The voltage parameter is a 2-byte integer in the range [800, 3300].\n",
    "\n",
    "There are 2 I3C ports:\n",
    "- I3C LV: from 800 mV to 1199 mV\n",
    "- I3C HV: from 1200 mV to 3300 mV"
   ]
  },
  {
   "cell_type": "code",
   "execution_count": 10,
   "metadata": {},
   "outputs": [
    {
     "name": "stdout",
     "output_type": "stream",
     "text": [
      ">> New message from SUPERNOVA:\n",
      "{'id': 3, 'command': 'SYS SET I3C VOLTAGE', 'result': 'SUCCESS'}\n"
     ]
    }
   ],
   "source": [
    "request_result = supernova.setI3cVoltage(getId(), 3300)"
   ]
  },
  {
   "attachments": {},
   "cell_type": "markdown",
   "metadata": {},
   "source": [
    "### 3. I3C bus initialization\n",
    "\n",
    "There are two options:\n",
    "1. Initialize the bus with an **empty target devices table** and scan the I3C bus.\n",
    "2. Add target to the target device table before initializing the bus.\n",
    "\n",
    "In this case, the I3C Controller performs an RSTDAA and ENTDAA CCC. If one or more I3C Targets acknowledge the Broadcast Address 0x7E, then the Supernova \n",
    "will assign the lower available and valid dynamic address."
   ]
  },
  {
   "cell_type": "code",
   "execution_count": 12,
   "metadata": {},
   "outputs": [
    {
     "name": "stdout",
     "output_type": "stream",
     "text": [
      ">> New message from SUPERNOVA:\n",
      "{'id': 4, 'command': 'I3C CONTROLLER GET TARGET DEVICES TABLE', 'result': 'SUCCESS', 'number_of_targets': 0, 'table': []}\n"
     ]
    }
   ],
   "source": [
    "request_result = supernova.i3cControllerGetTargetDevicesTable(getId())"
   ]
  },
  {
   "attachments": {},
   "cell_type": "markdown",
   "metadata": {},
   "source": [
    "Add targets to the target devices table using a Python dictionary"
   ]
  },
  {
   "cell_type": "code",
   "execution_count": 13,
   "metadata": {},
   "outputs": [
    {
     "name": "stdout",
     "output_type": "stream",
     "text": [
      ">> New message from SUPERNOVA:\n",
      "{'id': 5, 'command': 'I3C CONTROLLER INIT BUS', 'result': 'SUCCESS', 'invalid_addresses': []}\n"
     ]
    }
   ],
   "source": [
    "ICM_STATIC_ADDRESS = 0x69\n",
    "ICM_DYNAMIC_ADDRESS = 0x08\n",
    "\n",
    "ICM_CONFIGURATION = {\n",
    "        \"targetType\": TargetType.I3C_DEVICE,\n",
    "        \"IBIRequest\": TargetInterruptRequest.ACCEPT_IBI,\n",
    "        \"CRRequest\": ControllerRoleRequest.REJECT_CRR,\n",
    "        \"daaUseSETDASA\": SetdasaConfiguration.USE_SETDASA,\n",
    "        \"daaUseSETAASA\": SetaasaConfiguration.DO_NOT_USE_SETAASA,\n",
    "        \"daaUseENTDAA\": EntdaaConfiguration.DO_NOT_USE_ENTDAA,\n",
    "        \"ibiTimestampEnable\": IBiTimestamp.DISABLE_IBIT,\n",
    "        \"pendingReadCapability\": PendingReadCapability.DISABLE_AUTOMATIC_READ\n",
    "}\n",
    "\n",
    "table = {0: {'staticAddress': ICM_STATIC_ADDRESS,\n",
    "        'dynamicAddress': ICM_DYNAMIC_ADDRESS,\n",
    "        'bcr': 0x00,\n",
    "        'dcr': 0x00,\n",
    "        'pid': [0x00, 0x00, 0x00, 0x00, 0x00, 0x00],\n",
    "        'configuration': ICM_CONFIGURATION}}\n",
    "\n",
    "request_result = supernova.i3cControllerInitBus(getId(), table)"
   ]
  },
  {
   "cell_type": "code",
   "execution_count": 14,
   "metadata": {},
   "outputs": [
    {
     "name": "stdout",
     "output_type": "stream",
     "text": [
      ">> New message from SUPERNOVA:\n",
      "{'id': 6, 'command': 'I3C CONTROLLER GET TARGET DEVICES TABLE', 'result': 'SUCCESS', 'number_of_targets': 1, 'table': [{'static_address': 105, 'dynamic_address': 8, 'pid': [0, 0, 0, 0, 0, 0], 'bcr': 0, 'dcr': 0, 'mwl': 0, 'mrl': 0, 'max_ibi_payload_length': 0, 'configuration': {'target_type': 'I3C_DEVICE', 'interrupt_request': 'ACCEPT_IBI', 'controller_role_request': 'REJECT_CRR', 'setdasa': 'USE_SETDASA', 'setaasa': 'DO_NOT_USE_SETAASA', 'entdaa': 'DO_NOT_USE_ENTDAA', 'ibi_timestamp': 'DISABLE_IBIT', 'pending_read_capability': 'DISABLE_AUTOMATIC_READ'}}]}\n"
     ]
    }
   ],
   "source": [
    "request_result = supernova.i3cControllerGetTargetDevicesTable(getId())"
   ]
  },
  {
   "attachments": {},
   "cell_type": "markdown",
   "metadata": {},
   "source": [
    "### 4. I3C Transfers"
   ]
  },
  {
   "attachments": {},
   "cell_type": "markdown",
   "metadata": {},
   "source": [
    "#### 4.1 Update PID, BCR and DCR"
   ]
  },
  {
   "cell_type": "code",
   "execution_count": 15,
   "metadata": {},
   "outputs": [
    {
     "name": "stdout",
     "output_type": "stream",
     "text": [
      ">> New message from SUPERNOVA:\n",
      "{'id': 7, 'command': 'I3C CONTROLLER CCC TRANSFER', 'result': 'SUCCESS', 'ccc': 'D_GETPID', 'payload_length': 6, 'payload': [4, 106, 0, 0, 0, 0]}\n"
     ]
    }
   ],
   "source": [
    "TARGET_ADDR = ICM_DYNAMIC_ADDRESS\n",
    "\n",
    "request_result = supernova.i3cGETPID(getId(), TARGET_ADDR)"
   ]
  },
  {
   "cell_type": "code",
   "execution_count": 16,
   "metadata": {},
   "outputs": [
    {
     "name": "stdout",
     "output_type": "stream",
     "text": [
      ">> New message from SUPERNOVA:\n",
      "{'id': 8, 'command': 'I3C CONTROLLER CCC TRANSFER', 'result': 'SUCCESS', 'ccc': 'D_GETBCR', 'payload_length': 1, 'payload': [39]}\n"
     ]
    }
   ],
   "source": [
    "TARGET_ADDR = ICM_DYNAMIC_ADDRESS\n",
    "\n",
    "request_result = supernova.i3cGETBCR(getId(), TARGET_ADDR)"
   ]
  },
  {
   "cell_type": "code",
   "execution_count": 17,
   "metadata": {},
   "outputs": [
    {
     "name": "stdout",
     "output_type": "stream",
     "text": [
      ">> New message from SUPERNOVA:\n",
      "{'id': 9, 'command': 'I3C CONTROLLER CCC TRANSFER', 'result': 'SUCCESS', 'ccc': 'D_GETDCR', 'payload_length': 1, 'payload': [160]}\n"
     ]
    }
   ],
   "source": [
    "TARGET_ADDR = ICM_DYNAMIC_ADDRESS\n",
    "\n",
    "request_result = supernova.i3cGETDCR(getId(), TARGET_ADDR)"
   ]
  },
  {
   "attachments": {},
   "cell_type": "markdown",
   "metadata": {},
   "source": [
    "#### 4.2 Set MWL and MRL"
   ]
  },
  {
   "cell_type": "code",
   "execution_count": 18,
   "metadata": {},
   "outputs": [
    {
     "name": "stdout",
     "output_type": "stream",
     "text": [
      ">> New message from SUPERNOVA:\n",
      "{'id': 10, 'command': 'I3C CONTROLLER CCC TRANSFER', 'result': 'SUCCESS', 'ccc': 'D_SETMRL', 'payload_length': 2}\n"
     ]
    }
   ],
   "source": [
    "TARGET_ADDR = ICM_DYNAMIC_ADDRESS\n",
    "MAXIMUM_READ_LEN = 512\n",
    "\n",
    "request_result = supernova.i3cDirectSETMRL(getId(), TARGET_ADDR, MAXIMUM_READ_LEN)"
   ]
  },
  {
   "cell_type": "code",
   "execution_count": 19,
   "metadata": {},
   "outputs": [
    {
     "name": "stdout",
     "output_type": "stream",
     "text": [
      ">> New message from SUPERNOVA:\n",
      "{'id': 11, 'command': 'I3C CONTROLLER CCC TRANSFER', 'result': 'SUCCESS', 'ccc': 'B_SETMWL', 'payload_length': 3}\n"
     ]
    }
   ],
   "source": [
    "MAXIMUM_WRITE_LEN = 256\n",
    "\n",
    "request_result = supernova.i3cBroadcastSETMWL(getId(), MAXIMUM_WRITE_LEN)"
   ]
  },
  {
   "attachments": {},
   "cell_type": "markdown",
   "metadata": {},
   "source": [
    "#### 4.3 Disable In-Band interrupts"
   ]
  },
  {
   "cell_type": "code",
   "execution_count": 20,
   "metadata": {},
   "outputs": [
    {
     "name": "stdout",
     "output_type": "stream",
     "text": [
      ">> New message from SUPERNOVA:\n",
      "{'id': 12, 'command': 'I3C CONTROLLER CCC TRANSFER', 'result': 'SUCCESS', 'ccc': 'D_DISEC', 'payload_length': 1}\n"
     ]
    }
   ],
   "source": [
    "request_result = supernova.i3cDirectDISEC(getId(),ICM_DYNAMIC_ADDRESS,[DISEC.DISHJ,DISEC.DISINT])"
   ]
  },
  {
   "attachments": {},
   "cell_type": "markdown",
   "metadata": {},
   "source": [
    "#### 4.4 Configure sensor"
   ]
  },
  {
   "attachments": {},
   "cell_type": "markdown",
   "metadata": {},
   "source": [
    "1. Write ``REG_BANK_SEL``\n",
    "\n",
    "Change register bank to bank 0."
   ]
  },
  {
   "cell_type": "code",
   "execution_count": 22,
   "metadata": {},
   "outputs": [
    {
     "name": "stdout",
     "output_type": "stream",
     "text": [
      ">> New message from SUPERNOVA:\n",
      "{'id': 13, 'command': 'I3C CONTROLLER PRIVATE TRANSFER', 'result': 'SUCCESS', 'payload_length': 1}\n"
     ]
    }
   ],
   "source": [
    "# REG_BANK_SEL register address\n",
    "REG_BANK_SEL    = 0x76\n",
    "VALUE           = 0x00\n",
    "\n",
    "# API I3C Write\n",
    "request_result = supernova.i3cControllerWrite(getId(), ICM_DYNAMIC_ADDRESS, TransferMode.I3C_SDR, [REG_BANK_SEL], [VALUE])"
   ]
  },
  {
   "attachments": {},
   "cell_type": "markdown",
   "metadata": {},
   "source": [
    "2. Write ``PWR_MGMT0`` register\n",
    "\n",
    "Turn off Accelerometer to modify registers value."
   ]
  },
  {
   "cell_type": "code",
   "execution_count": 23,
   "metadata": {},
   "outputs": [
    {
     "name": "stdout",
     "output_type": "stream",
     "text": [
      ">> New message from SUPERNOVA:\n",
      "{'id': 14, 'command': 'I3C CONTROLLER PRIVATE TRANSFER', 'result': 'SUCCESS', 'payload_length': 1}\n"
     ]
    }
   ],
   "source": [
    "# PWR_MGMT0 register address\n",
    "PWR_MGMT0   = 0x4E\n",
    "VALUE       = 0x20\n",
    "\n",
    "# API I3C Write\n",
    "request_result = supernova.i3cControllerWrite(getId(),ICM_DYNAMIC_ADDRESS,TransferMode.I3C_SDR,[PWR_MGMT0],[VALUE])"
   ]
  },
  {
   "attachments": {},
   "cell_type": "markdown",
   "metadata": {},
   "source": [
    "3. Write ``DRIVE_CONFIG`` register\n",
    "\n",
    "Set ``I2C_SLEW_RATE`` and ``SPI_SLEW_RATE``"
   ]
  },
  {
   "cell_type": "code",
   "execution_count": 24,
   "metadata": {},
   "outputs": [
    {
     "name": "stdout",
     "output_type": "stream",
     "text": [
      ">> New message from SUPERNOVA:\n",
      "{'id': 15, 'command': 'I3C CONTROLLER PRIVATE TRANSFER', 'result': 'SUCCESS', 'payload_length': 1}\n"
     ]
    }
   ],
   "source": [
    "# DRIVE_CONFIG register address\n",
    "DRIVE_CONFIG    = 0x13\n",
    "VALUE           = 0x05\n",
    "\n",
    "# API I3C Write\n",
    "request_result = supernova.i3cControllerWrite(getId(), ICM_DYNAMIC_ADDRESS, TransferMode.I3C_SDR, [DRIVE_CONFIG], [VALUE])"
   ]
  },
  {
   "attachments": {},
   "cell_type": "markdown",
   "metadata": {},
   "source": [
    "4. Write ``FIFO_CONFIG`` register\n",
    "\n",
    "Set Fifo mode: Stream-to-FIFO Mode"
   ]
  },
  {
   "cell_type": "code",
   "execution_count": 25,
   "metadata": {},
   "outputs": [
    {
     "name": "stdout",
     "output_type": "stream",
     "text": [
      ">> New message from SUPERNOVA:"
     ]
    },
    {
     "name": "stdout",
     "output_type": "stream",
     "text": [
      "\n",
      "{'id': 16, 'command': 'I3C CONTROLLER PRIVATE TRANSFER', 'result': 'SUCCESS', 'payload_length': 1}\n"
     ]
    }
   ],
   "source": [
    "# FIFO_CONFIG register address\n",
    "FIFO_CONFIG = 0x16\n",
    "VALUE       = 0x40\n",
    "\n",
    "# API I3C Write\n",
    "request_result = supernova.i3cControllerWrite(getId(), ICM_DYNAMIC_ADDRESS, TransferMode.I3C_SDR, [FIFO_CONFIG], [VALUE])"
   ]
  },
  {
   "attachments": {},
   "cell_type": "markdown",
   "metadata": {},
   "source": [
    "5. Write ``FIFO_CONFIG1`` register\n",
    "\n",
    "- FIFO read can be partial, and resume from last read point\n",
    "- Trigger FIFO watermark interrupt on every ODR (DMA write) if FIFO_COUNT ≥ FIFO_WM_TH\n",
    "- Enable accelerometer packets to go to FIFO"
   ]
  },
  {
   "cell_type": "code",
   "execution_count": 26,
   "metadata": {},
   "outputs": [
    {
     "name": "stdout",
     "output_type": "stream",
     "text": [
      ">> New message from SUPERNOVA:\n",
      "{'id': 17, 'command': 'I3C CONTROLLER PRIVATE TRANSFER', 'result': 'SUCCESS', 'payload_length': 1}\n"
     ]
    }
   ],
   "source": [
    "# FIFO_CONFIG1 register address\n",
    "FIFO_CONFIG1    = 0x5F\n",
    "VALUE           = 0x61\n",
    "\n",
    "# API I3C Write\n",
    "request_result = supernova.i3cControllerWrite(getId(), ICM_DYNAMIC_ADDRESS, TransferMode.I3C_SDR, [FIFO_CONFIG1], [VALUE])"
   ]
  },
  {
   "cell_type": "code",
   "execution_count": 27,
   "metadata": {},
   "outputs": [
    {
     "name": "stdout",
     "output_type": "stream",
     "text": [
      ">> New message from SUPERNOVA:\n",
      "{'id': 18, 'command': 'I3C CONTROLLER PRIVATE TRANSFER', 'result': 'SUCCESS', 'payload_length': 2}\n"
     ]
    }
   ],
   "source": [
    "# FIFO_CONFIG2 register address\n",
    "FIFO_CONFIG2   = 0x60\n",
    "VALUE          = [0x0F, 0x00]\n",
    "\n",
    "# API I3C Write\n",
    "request_result = supernova.i3cControllerWrite(getId(), ICM_DYNAMIC_ADDRESS, TransferMode.I3C_SDR, [FIFO_CONFIG2], VALUE)"
   ]
  },
  {
   "attachments": {},
   "cell_type": "markdown",
   "metadata": {},
   "source": [
    "7. Write ``ACCEL_CONFIG0``\n",
    "\n",
    "Set Accelerometer ODR selection for UI interface output to 1.5625Hz (LP mode)."
   ]
  },
  {
   "cell_type": "code",
   "execution_count": 28,
   "metadata": {},
   "outputs": [
    {
     "name": "stdout",
     "output_type": "stream",
     "text": [
      ">> New message from SUPERNOVA:\n",
      "{'id': 19, 'command': 'I3C CONTROLLER PRIVATE TRANSFER', 'result': 'SUCCESS', 'payload_length': 1}\n"
     ]
    }
   ],
   "source": [
    "# ACCEL_CONFIG0 register address\n",
    "ACCEL_CONFIG0   = 0x50\n",
    "#VALUE           = 0x0A # 25Hz (LP or LN mode)\n",
    "VALUE           = 0x0E # 1.5625Hz (LP mode)\n",
    "\n",
    "# API I3C Write\n",
    "request_result = supernova.i3cControllerWrite(getId(), ICM_DYNAMIC_ADDRESS, TransferMode.I3C_SDR, [ACCEL_CONFIG0], [VALUE])"
   ]
  },
  {
   "attachments": {},
   "cell_type": "markdown",
   "metadata": {},
   "source": [
    "8. Write ``REG_BANK_SEL``\n",
    "\n",
    "Change register bank to bank 1."
   ]
  },
  {
   "cell_type": "code",
   "execution_count": 29,
   "metadata": {},
   "outputs": [
    {
     "name": "stdout",
     "output_type": "stream",
     "text": [
      ">> New message from SUPERNOVA:\n",
      "{'id': 20, 'command': 'I3C CONTROLLER PRIVATE TRANSFER', 'result': 'SUCCESS', 'payload_length': 1}\n"
     ]
    }
   ],
   "source": [
    "# REG_BANK_SEL register address\n",
    "REG_BANK_SEL    = 0x76\n",
    "VALUE           = 0x01\n",
    "\n",
    "# API I3C Write\n",
    "request_result = supernova.i3cControllerWrite(getId(),ICM_DYNAMIC_ADDRESS,TransferMode.I3C_SDR,[REG_BANK_SEL],[VALUE])"
   ]
  },
  {
   "attachments": {},
   "cell_type": "markdown",
   "metadata": {},
   "source": [
    "9. Write ``SENSOR_CONFIG0``\n",
    "\n",
    "Enable accelerometer X, Y, and Z data."
   ]
  },
  {
   "cell_type": "code",
   "execution_count": 30,
   "metadata": {},
   "outputs": [
    {
     "name": "stdout",
     "output_type": "stream",
     "text": [
      ">> New message from SUPERNOVA:\n",
      "{'id': 21, 'command': 'I3C CONTROLLER PRIVATE TRANSFER', 'result': 'SUCCESS', 'payload_length': 1}\n"
     ]
    }
   ],
   "source": [
    "# SENSOR_CONFIG0 register address\n",
    "SENSOR_CONFIG0  = 0x03\n",
    "VALUE           = 0x38\n",
    "\n",
    "# API I3C Write\n",
    "request_result = supernova.i3cControllerWrite(getId(),ICM_DYNAMIC_ADDRESS,TransferMode.I3C_SDR,[SENSOR_CONFIG0],[VALUE])"
   ]
  },
  {
   "attachments": {},
   "cell_type": "markdown",
   "metadata": {},
   "source": [
    "10. Write ``INTF_CONFIG4``\n",
    "\n",
    "Set I3C_BUS_MODE"
   ]
  },
  {
   "cell_type": "code",
   "execution_count": 31,
   "metadata": {},
   "outputs": [
    {
     "name": "stdout",
     "output_type": "stream",
     "text": [
      ">> New message from SUPERNOVA:\n",
      "{'id': 22, 'command': 'I3C CONTROLLER PRIVATE TRANSFER', 'result': 'SUCCESS', 'payload_length': 1}\n"
     ]
    }
   ],
   "source": [
    "# INTF_CONFIG4 register address\n",
    "INTF_CONFIG4    = 0x7A\n",
    "VALUE           = 0x02\n",
    "\n",
    "# API I3C Write\n",
    "request_result = supernova.i3cControllerWrite(getId(),ICM_DYNAMIC_ADDRESS,TransferMode.I3C_SDR,[INTF_CONFIG4],[VALUE])"
   ]
  },
  {
   "attachments": {},
   "cell_type": "markdown",
   "metadata": {},
   "source": [
    "11. Write ``INTF_CONFIG6``\n",
    "\n",
    "Enable I3C In-Band Interrupt"
   ]
  },
  {
   "cell_type": "code",
   "execution_count": 32,
   "metadata": {},
   "outputs": [
    {
     "name": "stdout",
     "output_type": "stream",
     "text": [
      ">> New message from SUPERNOVA:\n",
      "{'id': 23, 'command': 'I3C CONTROLLER PRIVATE TRANSFER', 'result': 'SUCCESS', 'payload_length': 1}\n"
     ]
    }
   ],
   "source": [
    "# INTF_CONFIG6 register address\n",
    "INTF_CONFIG6    = 0x7C\n",
    "VALUE           = 0x1F\n",
    "\n",
    "# API I3C Write\n",
    "request_result = supernova.i3cControllerWrite(getId(),ICM_DYNAMIC_ADDRESS,TransferMode.I3C_SDR,[INTF_CONFIG6],[VALUE])"
   ]
  },
  {
   "attachments": {},
   "cell_type": "markdown",
   "metadata": {},
   "source": [
    "12. Write ``REG_BANK_SEL``\n",
    "\n",
    "Change register bank to bank 4."
   ]
  },
  {
   "cell_type": "code",
   "execution_count": 33,
   "metadata": {},
   "outputs": [
    {
     "name": "stdout",
     "output_type": "stream",
     "text": [
      ">> New message from SUPERNOVA:\n",
      "{'id': 24, 'command': 'I3C CONTROLLER PRIVATE TRANSFER', 'result': 'SUCCESS', 'payload_length': 1}\n"
     ]
    }
   ],
   "source": [
    "# REG_BANK_SEL register address\n",
    "REG_BANK_SEL    = 0x76\n",
    "VALUE           = 0x04\n",
    "\n",
    "# API I3C Write\n",
    "request_result = supernova.i3cControllerWrite(getId(),ICM_DYNAMIC_ADDRESS,TransferMode.I3C_SDR,[REG_BANK_SEL],[VALUE])"
   ]
  },
  {
   "attachments": {},
   "cell_type": "markdown",
   "metadata": {},
   "source": [
    "13. Write ``INT_SOURCE8``\n",
    "\n",
    "Route FIFO threshold interrupt to I3C In-Band Interrupt"
   ]
  },
  {
   "cell_type": "code",
   "execution_count": 34,
   "metadata": {},
   "outputs": [
    {
     "name": "stdout",
     "output_type": "stream",
     "text": [
      ">> New message from SUPERNOVA:\n",
      "{'id': 25, 'command': 'I3C CONTROLLER PRIVATE TRANSFER', 'result': 'SUCCESS', 'payload_length': 1}\n"
     ]
    }
   ],
   "source": [
    "# INT_SOURCE8 register address\n",
    "INT_SOURCE8 = 0x4F\n",
    "VALUE       = 0x04\n",
    "\n",
    "# API I3C Write\n",
    "request_result = supernova.i3cControllerWrite(getId(),ICM_DYNAMIC_ADDRESS,TransferMode.I3C_SDR,[INT_SOURCE8],[VALUE])"
   ]
  },
  {
   "attachments": {},
   "cell_type": "markdown",
   "metadata": {},
   "source": [
    "14. Write ``REG_BANK_SEL``\n",
    "\n",
    "Change register bank to bank 0."
   ]
  },
  {
   "cell_type": "code",
   "execution_count": 35,
   "metadata": {},
   "outputs": [
    {
     "name": "stdout",
     "output_type": "stream",
     "text": [
      ">> New message from SUPERNOVA:\n",
      "{'id': 26, 'command': 'I3C CONTROLLER PRIVATE TRANSFER', 'result': 'SUCCESS', 'payload_length': 1}\n"
     ]
    }
   ],
   "source": [
    "# REG_BANK_SEL register address\n",
    "REG_BANK_SEL    = 0x76\n",
    "VALUE           = 0x00\n",
    "\n",
    "# API I3C Write\n",
    "request_result = supernova.i3cControllerWrite(getId(),ICM_DYNAMIC_ADDRESS,TransferMode.I3C_SDR,[REG_BANK_SEL],[VALUE])"
   ]
  },
  {
   "attachments": {},
   "cell_type": "markdown",
   "metadata": {},
   "source": [
    "15. Write ``PWR_MGMT0`` register\n",
    "\n",
    "Enable Temperature sensor and Accelerometer in Low Power mode"
   ]
  },
  {
   "cell_type": "code",
   "execution_count": 36,
   "metadata": {},
   "outputs": [
    {
     "name": "stdout",
     "output_type": "stream",
     "text": [
      ">> New message from SUPERNOVA:\n",
      "{'id': 27, 'command': 'I3C CONTROLLER PRIVATE TRANSFER', 'result': 'SUCCESS', 'payload_length': 1}\n"
     ]
    }
   ],
   "source": [
    "# PWR_MGMT0 register address\n",
    "PWR_MGMT0   = 0x4E\n",
    "#VALUE       = 0x03 # 11: Places accelerometer in Low Noise (LN) Mode\n",
    "VALUE       = 0x02 # 10: Places accelerometer in Low Power (LP) Mode\n",
    "\n",
    "# API I3C Write\n",
    "request_result = supernova.i3cControllerWrite(getId(),ICM_DYNAMIC_ADDRESS,TransferMode.I3C_SDR,[PWR_MGMT0],[VALUE])"
   ]
  },
  {
   "attachments": {},
   "cell_type": "markdown",
   "metadata": {},
   "source": [
    "#### 4.5 Enable In-Band interrupts"
   ]
  },
  {
   "cell_type": "code",
   "execution_count": 37,
   "metadata": {},
   "outputs": [
    {
     "name": "stdout",
     "output_type": "stream",
     "text": [
      ">> New message from SUPERNOVA:\n",
      "{'id': 28, 'command': 'I3C CONTROLLER CCC TRANSFER', 'result': 'SUCCESS', 'ccc': 'D_ENEC', 'payload_length': 1}\n",
      ">> New message from SUPERNOVA:\n",
      "{'id': 0, 'command': 'I3C CONTROLLER IBI REQUEST NOTIFICATION', 'address': 8, 'result': 'IBI_REQUEST_ACCEPTED_WITH_PAYLOAD', 'payload_length': 1, 'payload': [2]}\n"
     ]
    },
    {
     "name": "stdout",
     "output_type": "stream",
     "text": [
      ">> New message from SUPERNOVA:\n",
      "{'id': 0, 'command': 'I3C CONTROLLER IBI REQUEST NOTIFICATION', 'address': 8, 'result': 'IBI_REQUEST_ACCEPTED_WITH_PAYLOAD', 'payload_length': 1, 'payload': [2]}\n",
      ">> New message from SUPERNOVA:\n",
      "{'id': 0, 'command': 'I3C CONTROLLER IBI REQUEST NOTIFICATION', 'address': 8, 'result': 'IBI_REQUEST_ACCEPTED_WITH_PAYLOAD', 'payload_length': 1, 'payload': [2]}\n",
      ">> New message from SUPERNOVA:\n",
      "{'id': 0, 'command': 'I3C CONTROLLER IBI REQUEST NOTIFICATION', 'address': 8, 'result': 'IBI_REQUEST_ACCEPTED_WITH_PAYLOAD', 'payload_length': 1, 'payload': [2]}\n",
      ">> New message from SUPERNOVA:\n",
      "{'id': 0, 'command': 'I3C CONTROLLER IBI REQUEST NOTIFICATION', 'address': 8, 'result': 'IBI_REQUEST_ACCEPTED_WITH_PAYLOAD', 'payload_length': 1, 'payload': [2]}\n",
      ">> New message from SUPERNOVA:\n",
      "{'id': 0, 'command': 'I3C CONTROLLER IBI REQUEST NOTIFICATION', 'address': 8, 'result': 'IBI_REQUEST_ACCEPTED_WITH_PAYLOAD', 'payload_length': 1, 'payload': [2]}\n",
      ">> New message from SUPERNOVA:\n",
      "{'id': 0, 'command': 'I3C CONTROLLER IBI REQUEST NOTIFICATION', 'address': 8, 'result': 'IBI_REQUEST_ACCEPTED_WITH_PAYLOAD', 'payload_length': 1, 'payload': [2]}\n",
      ">> New message from SUPERNOVA:\n",
      "{'id': 0, 'command': 'I3C CONTROLLER IBI REQUEST NOTIFICATION', 'address': 8, 'result': 'IBI_REQUEST_ACCEPTED_WITH_PAYLOAD', 'payload_length': 1, 'payload': [2]}\n",
      ">> New message from SUPERNOVA:\n",
      "{'id': 0, 'command': 'I3C CONTROLLER IBI REQUEST NOTIFICATION', 'address': 8, 'result': 'IBI_REQUEST_ACCEPTED_WITH_PAYLOAD', 'payload_length': 1, 'payload': [2]}\n",
      ">> New message from SUPERNOVA:\n",
      "{'id': 0, 'command': 'I3C CONTROLLER IBI REQUEST NOTIFICATION', 'address': 8, 'result': 'IBI_REQUEST_ACCEPTED_WITH_PAYLOAD', 'payload_length': 1, 'payload': [2]}\n",
      ">> New message from SUPERNOVA:\n",
      "{'id': 0, 'command': 'I3C CONTROLLER IBI REQUEST NOTIFICATION', 'address': 8, 'result': 'IBI_REQUEST_ACCEPTED_WITH_PAYLOAD', 'payload_length': 1, 'payload': [2]}\n",
      ">> New message from SUPERNOVA:\n",
      "{'id': 0, 'command': 'I3C CONTROLLER IBI REQUEST NOTIFICATION', 'address': 8, 'result': 'IBI_REQUEST_ACCEPTED_WITH_PAYLOAD', 'payload_length': 1, 'payload': [2]}\n",
      ">> New message from SUPERNOVA:\n",
      "{'id': 0, 'command': 'I3C CONTROLLER IBI REQUEST NOTIFICATION', 'address': 8, 'result': 'IBI_REQUEST_ACCEPTED_WITH_PAYLOAD', 'payload_length': 1, 'payload': [2]}\n",
      ">> New message from SUPERNOVA:\n",
      "{'id': 0, 'command': 'I3C CONTROLLER IBI REQUEST NOTIFICATION', 'address': 8, 'result': 'IBI_REQUEST_ACCEPTED_WITH_PAYLOAD', 'payload_length': 1, 'payload': [2]}\n",
      ">> New message from SUPERNOVA:\n",
      "{'id': 0, 'command': 'I3C CONTROLLER IBI REQUEST NOTIFICATION', 'address': 8, 'result': 'IBI_REQUEST_ACCEPTED_WITH_PAYLOAD', 'payload_length': 1, 'payload': [2]}\n",
      ">> New message from SUPERNOVA:\n",
      "{'id': 0, 'command': 'I3C CONTROLLER IBI REQUEST NOTIFICATION', 'address': 8, 'result': 'IBI_REQUEST_ACCEPTED_WITH_PAYLOAD', 'payload_length': 1, 'payload': [2]}\n",
      ">> New message from SUPERNOVA:\n",
      "{'id': 0, 'command': 'I3C CONTROLLER IBI REQUEST NOTIFICATION', 'address': 8, 'result': 'IBI_REQUEST_ACCEPTED_WITH_PAYLOAD', 'payload_length': 1, 'payload': [2]}\n"
     ]
    }
   ],
   "source": [
    "request_result = supernova.i3cDirectENEC(getId(),ICM_DYNAMIC_ADDRESS,[ENEC.ENINT])"
   ]
  },
  {
   "cell_type": "code",
   "execution_count": 40,
   "metadata": {},
   "outputs": [
    {
     "name": "stdout",
     "output_type": "stream",
     "text": [
      ">> New message from SUPERNOVA:\n",
      "{'id': 31, 'command': 'I3C CONTROLLER CCC TRANSFER', 'result': 'SUCCESS', 'ccc': 'D_DISEC', 'payload_length': 1}\n"
     ]
    }
   ],
   "source": [
    "request_result = supernova.i3cDirectDISEC(getId(),ICM_DYNAMIC_ADDRESS,[DISEC.DISHJ,DISEC.DISINT])"
   ]
  },
  {
   "cell_type": "code",
   "execution_count": 39,
   "metadata": {},
   "outputs": [
    {
     "name": "stdout",
     "output_type": "stream",
     "text": [
      ">> New message from SUPERNOVA:\n",
      "{'id': 30, 'command': 'I3C CONTROLLER CCC TRANSFER', 'result': 'SUCCESS', 'ccc': 'D_ENEC', 'payload_length': 1}\n"
     ]
    },
    {
     "name": "stdout",
     "output_type": "stream",
     "text": [
      ">> New message from SUPERNOVA:\n",
      "{'id': 0, 'command': 'I3C CONTROLLER IBI REQUEST NOTIFICATION', 'address': 8, 'result': 'IBI_REQUEST_ACCEPTED_WITH_PAYLOAD', 'payload_length': 1, 'payload': [2]}\n",
      ">> New message from SUPERNOVA:\n",
      "{'id': 0, 'command': 'I3C CONTROLLER IBI REQUEST NOTIFICATION', 'address': 8, 'result': 'IBI_REQUEST_ACCEPTED_WITH_PAYLOAD', 'payload_length': 1, 'payload': [2]}\n",
      ">> New message from SUPERNOVA:\n",
      "{'id': 0, 'command': 'I3C CONTROLLER IBI REQUEST NOTIFICATION', 'address': 8, 'result': 'IBI_REQUEST_ACCEPTED_WITH_PAYLOAD', 'payload_length': 1, 'payload': [2]}\n",
      ">> New message from SUPERNOVA:\n",
      "{'id': 0, 'command': 'I3C CONTROLLER IBI REQUEST NOTIFICATION', 'address': 8, 'result': 'IBI_REQUEST_ACCEPTED_WITH_PAYLOAD', 'payload_length': 1, 'payload': [2]}\n",
      ">> New message from SUPERNOVA:\n",
      "{'id': 0, 'command': 'I3C CONTROLLER IBI REQUEST NOTIFICATION', 'address': 8, 'result': 'IBI_REQUEST_ACCEPTED_WITH_PAYLOAD', 'payload_length': 1, 'payload': [2]}\n",
      ">> New message from SUPERNOVA:\n",
      "{'id': 0, 'command': 'I3C CONTROLLER IBI REQUEST NOTIFICATION', 'address': 8, 'result': 'IBI_REQUEST_ACCEPTED_WITH_PAYLOAD', 'payload_length': 1, 'payload': [2]}\n",
      ">> New message from SUPERNOVA:\n",
      "{'id': 0, 'command': 'I3C CONTROLLER IBI REQUEST NOTIFICATION', 'address': 8, 'result': 'IBI_REQUEST_ACCEPTED_WITH_PAYLOAD', 'payload_length': 1, 'payload': [2]}\n",
      ">> New message from SUPERNOVA:\n",
      "{'id': 0, 'command': 'I3C CONTROLLER IBI REQUEST NOTIFICATION', 'address': 8, 'result': 'IBI_REQUEST_ACCEPTED_WITH_PAYLOAD', 'payload_length': 1, 'payload': [2]}\n",
      ">> New message from SUPERNOVA:\n",
      "{'id': 0, 'command': 'I3C CONTROLLER IBI REQUEST NOTIFICATION', 'address': 8, 'result': 'IBI_REQUEST_ACCEPTED_WITH_PAYLOAD', 'payload_length': 1, 'payload': [2]}\n",
      ">> New message from SUPERNOVA:\n",
      "{'id': 0, 'command': 'I3C CONTROLLER IBI REQUEST NOTIFICATION', 'address': 8, 'result': 'IBI_REQUEST_ACCEPTED_WITH_PAYLOAD', 'payload_length': 1, 'payload': [2]}\n",
      ">> New message from SUPERNOVA:\n",
      "{'id': 0, 'command': 'I3C CONTROLLER IBI REQUEST NOTIFICATION', 'address': 8, 'result': 'IBI_REQUEST_ACCEPTED_WITH_PAYLOAD', 'payload_length': 1, 'payload': [2]}\n",
      ">> New message from SUPERNOVA:\n",
      "{'id': 0, 'command': 'I3C CONTROLLER IBI REQUEST NOTIFICATION', 'address': 8, 'result': 'IBI_REQUEST_ACCEPTED_WITH_PAYLOAD', 'payload_length': 1, 'payload': [2]}\n",
      ">> New message from SUPERNOVA:\n",
      "{'id': 0, 'command': 'I3C CONTROLLER IBI REQUEST NOTIFICATION', 'address': 8, 'result': 'IBI_REQUEST_ACCEPTED_WITH_PAYLOAD', 'payload_length': 1, 'payload': [2]}\n",
      ">> New message from SUPERNOVA:\n",
      "{'id': 0, 'command': 'I3C CONTROLLER IBI REQUEST NOTIFICATION', 'address': 8, 'result': 'IBI_REQUEST_ACCEPTED_WITH_PAYLOAD', 'payload_length': 1, 'payload': [2]}\n",
      ">> New message from SUPERNOVA:\n",
      "{'id': 0, 'command': 'I3C CONTROLLER IBI REQUEST NOTIFICATION', 'address': 8, 'result': 'IBI_REQUEST_ACCEPTED_WITH_PAYLOAD', 'payload_length': 1, 'payload': [2]}\n",
      ">> New message from SUPERNOVA:\n",
      "{'id': 0, 'command': 'I3C CONTROLLER IBI REQUEST NOTIFICATION', 'address': 8, 'result': 'IBI_REQUEST_ACCEPTED_WITH_PAYLOAD', 'payload_length': 1, 'payload': [2]}\n",
      ">> New message from SUPERNOVA:\n",
      "{'id': 0, 'command': 'I3C CONTROLLER IBI REQUEST NOTIFICATION', 'address': 8, 'result': 'IBI_REQUEST_ACCEPTED_WITH_PAYLOAD', 'payload_length': 1, 'payload': [2]}\n"
     ]
    }
   ],
   "source": [
    "request_result = supernova.i3cDirectENEC(getId(),ICM_DYNAMIC_ADDRESS,[ENEC.ENINT])"
   ]
  },
  {
   "cell_type": "code",
   "execution_count": 41,
   "metadata": {},
   "outputs": [
    {
     "name": "stdout",
     "output_type": "stream",
     "text": [
      ">> New message from SUPERNOVA:\n",
      "{'id': 32, 'command': 'I3C CONTROLLER CCC TRANSFER', 'result': 'SUCCESS', 'ccc': 'B_ENEC', 'payload_length': 2}\n"
     ]
    },
    {
     "name": "stdout",
     "output_type": "stream",
     "text": [
      ">> New message from SUPERNOVA:\n",
      "{'id': 0, 'command': 'I3C CONTROLLER IBI REQUEST NOTIFICATION', 'address': 8, 'result': 'IBI_REQUEST_ACCEPTED_WITH_PAYLOAD', 'payload_length': 1, 'payload': [2]}\n",
      ">> New message from SUPERNOVA:\n",
      "{'id': 0, 'command': 'I3C CONTROLLER IBI REQUEST NOTIFICATION', 'address': 8, 'result': 'IBI_REQUEST_ACCEPTED_WITH_PAYLOAD', 'payload_length': 1, 'payload': [2]}\n",
      ">> New message from SUPERNOVA:\n",
      "{'id': 0, 'command': 'I3C CONTROLLER IBI REQUEST NOTIFICATION', 'address': 8, 'result': 'IBI_REQUEST_ACCEPTED_WITH_PAYLOAD', 'payload_length': 1, 'payload': [2]}\n",
      ">> New message from SUPERNOVA:\n",
      "{'id': 0, 'command': 'I3C CONTROLLER IBI REQUEST NOTIFICATION', 'address': 8, 'result': 'IBI_REQUEST_ACCEPTED_WITH_PAYLOAD', 'payload_length': 1, 'payload': [2]}\n",
      ">> New message from SUPERNOVA:\n",
      "{'id': 0, 'command': 'I3C CONTROLLER IBI REQUEST NOTIFICATION', 'address': 8, 'result': 'IBI_REQUEST_ACCEPTED_WITH_PAYLOAD', 'payload_length': 1, 'payload': [2]}\n",
      ">> New message from SUPERNOVA:\n",
      "{'id': 0, 'command': 'I3C CONTROLLER IBI REQUEST NOTIFICATION', 'address': 8, 'result': 'IBI_REQUEST_ACCEPTED_WITH_PAYLOAD', 'payload_length': 1, 'payload': [2]}\n",
      ">> New message from SUPERNOVA:\n",
      "{'id': 0, 'command': 'I3C CONTROLLER IBI REQUEST NOTIFICATION', 'address': 8, 'result': 'IBI_REQUEST_ACCEPTED_WITH_PAYLOAD', 'payload_length': 1, 'payload': [2]}\n",
      ">> New message from SUPERNOVA:\n",
      "{'id': 0, 'command': 'I3C CONTROLLER IBI REQUEST NOTIFICATION', 'address': 8, 'result': 'IBI_REQUEST_ACCEPTED_WITH_PAYLOAD', 'payload_length': 1, 'payload': [2]}\n",
      ">> New message from SUPERNOVA:\n",
      "{'id': 0, 'command': 'I3C CONTROLLER IBI REQUEST NOTIFICATION', 'address': 8, 'result': 'IBI_REQUEST_ACCEPTED_WITH_PAYLOAD', 'payload_length': 1, 'payload': [2]}\n",
      ">> New message from SUPERNOVA:\n",
      "{'id': 0, 'command': 'I3C CONTROLLER IBI REQUEST NOTIFICATION', 'address': 8, 'result': 'IBI_REQUEST_ACCEPTED_WITH_PAYLOAD', 'payload_length': 1, 'payload': [2]}\n"
     ]
    }
   ],
   "source": [
    "request_result = supernova.i3cBroadcastENEC(getId(),[ENEC.ENINT])"
   ]
  },
  {
   "cell_type": "code",
   "execution_count": 42,
   "metadata": {},
   "outputs": [
    {
     "name": "stdout",
     "output_type": "stream",
     "text": [
      ">> New message from SUPERNOVA:\n",
      "{'id': 0, 'command': 'I3C CONTROLLER IBI REQUEST NOTIFICATION', 'address': 8, 'result': 'IBI_REQUEST_ACCEPTED_WITH_PAYLOAD', 'payload_length': 1, 'payload': [2]}\n",
      ">> New message from SUPERNOVA:\n",
      "{'id': 33, 'command': 'I3C CONTROLLER CCC TRANSFER', 'result': 'SUCCESS', 'ccc': 'B_DISEC', 'payload_length': 2}\n"
     ]
    }
   ],
   "source": [
    "request_result = supernova.i3cBroadcastDISEC(getId(),[DISEC.DISINT])"
   ]
  },
  {
   "cell_type": "markdown",
   "metadata": {},
   "source": [
    "### 5. Reset I3C Bus\n",
    "\n",
    "`Supernova.i3cControllerResetBus(id)`\n",
    "\n",
    "This method requests the Supernova to: 1. issue an RSTDAA CCC, 2. free the already assigned dynamic addresses and 3. clean up the target devices table. \n",
    "\n",
    "- `id: int`: A 2-byte integer that represents the transfer ID."
   ]
  },
  {
   "cell_type": "code",
   "execution_count": 43,
   "metadata": {},
   "outputs": [
    {
     "data": {
      "text/plain": [
       "{'module': 1,\n",
       " 'opcode': 0,\n",
       " 'message': 'I3C CONTROLLER RESET BUS request success'}"
      ]
     },
     "execution_count": 43,
     "metadata": {},
     "output_type": "execute_result"
    },
    {
     "name": "stdout",
     "output_type": "stream",
     "text": [
      ">> New message from SUPERNOVA:\n",
      "{'id': 34, 'command': 'I3C CONTROLLER RESET BUS', 'result': 'SUCCESS'}\n"
     ]
    }
   ],
   "source": [
    "supernova.i3cControllerResetBus(getId())"
   ]
  },
  {
   "cell_type": "markdown",
   "metadata": {},
   "source": [
    "### 6. Close communication\n",
    "\n",
    "Use the ``Supernova.close()`` method to end the communication with the Supernova device and release the used memory in the background like threads and so on."
   ]
  },
  {
   "cell_type": "code",
   "execution_count": 44,
   "metadata": {},
   "outputs": [
    {
     "data": {
      "text/plain": [
       "{'module': 0, 'opcode': 0, 'message': 'Communication closed successfully.'}"
      ]
     },
     "execution_count": 44,
     "metadata": {},
     "output_type": "execute_result"
    }
   ],
   "source": [
    "# Close the communication with the Supernova device.\n",
    "supernova.close()"
   ]
  },
  {
   "cell_type": "code",
   "execution_count": null,
   "metadata": {},
   "outputs": [],
   "source": []
  }
 ],
 "metadata": {
  "kernelspec": {
   "display_name": "Python 3",
   "language": "python",
   "name": "python3"
  },
  "language_info": {
   "codemirror_mode": {
    "name": "ipython",
    "version": 3
   },
   "file_extension": ".py",
   "mimetype": "text/x-python",
   "name": "python",
   "nbconvert_exporter": "python",
   "pygments_lexer": "ipython3",
   "version": "3.11.1"
  },
  "orig_nbformat": 4
 },
 "nbformat": 4,
 "nbformat_minor": 2
}
