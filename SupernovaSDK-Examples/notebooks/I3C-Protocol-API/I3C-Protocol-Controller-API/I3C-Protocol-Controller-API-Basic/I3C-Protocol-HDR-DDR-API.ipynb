{
 "cells": [
  {
   "cell_type": "code",
   "execution_count": 1,
   "metadata": {},
   "outputs": [],
   "source": [
    "# Import Python package\n",
    "import binhosupernova\n",
    "from binhosupernova.supernova import Supernova\n",
    "from binhosupernova.commands.i3c.definitions import *\n",
    "from binhosupernova.commands.system.definitions import GetUsbStringSubCommand"
   ]
  },
  {
   "cell_type": "markdown",
   "metadata": {},
   "source": [
    "## Getting started"
   ]
  },
  {
   "attachments": {},
   "cell_type": "markdown",
   "metadata": {},
   "source": [
    "#### 1. List all the Supernova devices connected to the PC host\n",
    "\n",
    "The ``binhosupernova.getConnectedSupernovaDevicesList()`` gets a list of the Supernova devices plugged into the host PC machine."
   ]
  },
  {
   "cell_type": "code",
   "execution_count": 2,
   "metadata": {},
   "outputs": [
    {
     "data": {
      "text/plain": [
       "[{'path': '\\\\\\\\?\\\\HID#VID_1FC9&PID_82FC#6&2e5c94b6&0&0000#{4d1e55b2-f16f-11cf-88cb-001111000030}',\n",
       "  'vendor_id': '0x1fc9',\n",
       "  'product_id': '0x82fc',\n",
       "  'serial_number': '12B24708C123895DB326EDA7E1FBA6D6',\n",
       "  'manufacturer_string': 'Binho LLC',\n",
       "  'product_string': 'Binho Supernova',\n",
       "  'hardware_version': 'C',\n",
       "  'firmware_version': '4.1.2'}]"
      ]
     },
     "execution_count": 2,
     "metadata": {},
     "output_type": "execute_result"
    }
   ],
   "source": [
    "binhosupernova.getConnectedSupernovaDevicesList()"
   ]
  },
  {
   "attachments": {},
   "cell_type": "markdown",
   "metadata": {},
   "source": [
    "#### 2. Create an instance of the Supernova class\n",
    "\n",
    "To utilize a Supernova USB host adapter device, we need to create an instance of the Supernova class."
   ]
  },
  {
   "cell_type": "code",
   "execution_count": 3,
   "metadata": {},
   "outputs": [],
   "source": [
    "# Create a device instance. One instance of the Supernova class represents a Supernova USB host adapter device.\n",
    "supernova = Supernova()"
   ]
  },
  {
   "cell_type": "markdown",
   "metadata": {},
   "source": [
    "#### 3. Open connection to the Supernova device\n",
    "\n",
    "The public method ``Supernova.open()`` establishes the connection with a Supernova device. Below is the complete signature:\n",
    "\n",
    "```python\n",
    "open(serial, path)\n",
    "```\n",
    "\n",
    "- ``serial: str``: The Supernova serial number.\n",
    "- ``path: str``: The OS HID path assigned to the device. This can be obtained using the ``binhosupernova.getConnectedSupernovaDevicesList()`` method. The ``path`` parameter is currently the only way to uniquely identify each Supernova device. Therefore, it is recommended to use the ``path`` parameter, especially when opening connections with more than one Supernova device simultaneously."
   ]
  },
  {
   "cell_type": "code",
   "execution_count": 4,
   "metadata": {},
   "outputs": [
    {
     "data": {
      "text/plain": [
       "{'module': 0,\n",
       " 'opcode': 0,\n",
       " 'message': 'Connection with Supernova device opened successfully.'}"
      ]
     },
     "execution_count": 4,
     "metadata": {},
     "output_type": "execute_result"
    }
   ],
   "source": [
    "# Use the method by default to connect to only one Supernova device.\n",
    "supernova.open()\n",
    "\n",
    "# Otherwise, use the path attribute to identify each Supernova device. Uncomment the line below and comment the line #2.\n",
    "# supernova.open(path='\\\\\\\\?\\\\HID#VID_1FC9&PID_82FC#6&48d9417&0&0000#{4d1e55b2-f16f-11cf-88cb-001111000030}')"
   ]
  },
  {
   "attachments": {},
   "cell_type": "markdown",
   "metadata": {},
   "source": [
    "#### 4. Define and register a callback to handle responses and notifications from Supernova\n",
    "\n",
    "To handle responses and notifications from Supernova, a callback function must be defined and registered. This function will be invoked every time the Supernova sends a response to a request, an asynchronous notification, or a message from the system.\n",
    "\n",
    "The callback function's signature is as follows: \n",
    "\n",
    "``def callback_function_name(supernova_message: dict, system_message: dict) -> None:``\n",
    "\n",
    "Once the callback function is defined, it should be registered using the ``Supernova.onEvent(callback_function)`` method."
   ]
  },
  {
   "cell_type": "code",
   "execution_count": 5,
   "metadata": {},
   "outputs": [],
   "source": [
    "# Define callback function\n",
    "def callback_function(supernova_message: dict, system_message: dict) -> None:\n",
    "\n",
    "    if supernova_message != None:\n",
    "\n",
    "        # Print a header\n",
    "        print(\">> New message from SUPERNOVA:\")\n",
    "        print(supernova_message)\n",
    "\n",
    "    if system_message != None:\n",
    "\n",
    "        # Print a header\n",
    "        print(\">> New message from the SYSTEM:\")\n",
    "        print(system_message)"
   ]
  },
  {
   "cell_type": "code",
   "execution_count": 6,
   "metadata": {},
   "outputs": [
    {
     "data": {
      "text/plain": [
       "{'module': 0,\n",
       " 'opcode': 0,\n",
       " 'message': 'On event callback function registered successfully.'}"
      ]
     },
     "execution_count": 6,
     "metadata": {},
     "output_type": "execute_result"
    }
   ],
   "source": [
    "# Register callback function\n",
    "supernova.onEvent(callback_function)"
   ]
  },
  {
   "attachments": {},
   "cell_type": "markdown",
   "metadata": {},
   "source": [
    "#### 5. Define a function to generate transaction IDs\n",
    "\n",
    "All the request messages sent to the Supernova from the USB Host application must include the transaction or request ID. The ID is a 2-byte integer with an allowed range of ``[1, 65535]``.\n",
    "\n",
    "In this example, a dummy function called ``getId()`` is defined to increment a transaction counter used as the ID."
   ]
  },
  {
   "cell_type": "code",
   "execution_count": 7,
   "metadata": {},
   "outputs": [],
   "source": [
    "#Auxiliar code to generate IDs.\n",
    "\n",
    "counter_id = 0\n",
    "\n",
    "def getId():\n",
    "    global counter_id\n",
    "    counter_id = counter_id + 1\n",
    "    return counter_id"
   ]
  },
  {
   "cell_type": "markdown",
   "metadata": {},
   "source": [
    "#### 6. Test communication with a basic command such as ``GET DEVICE INFO``"
   ]
  },
  {
   "cell_type": "code",
   "execution_count": 9,
   "metadata": {},
   "outputs": [
    {
     "data": {
      "text/plain": [
       "{'module': 1, 'opcode': 0, 'message': 'GET DEVICE INFO request success'}"
      ]
     },
     "execution_count": 9,
     "metadata": {},
     "output_type": "execute_result"
    },
    {
     "name": "stdout",
     "output_type": "stream",
     "text": [
      ">> New message from SUPERNOVA:\n",
      "{'id': 6, 'command': 'SYS GET DEVICE INFO', 'result': 'SUCCESS', 'manufacturer': 'Binho LLC', 'product_name': 'Supernova', 'serial_number': '12B24708C123895DB326EDA7E1FBA6D6', 'hardware_version': 'C', 'firmware_version': '4.1.2-b782b36b', 'capabilities': {'supported_groups': ['I3C', 'I2C', 'SPI', 'UART', 'GPIO']}}\n"
     ]
    }
   ],
   "source": [
    "supernova.getDeviceInfo(getId())"
   ]
  },
  {
   "attachments": {},
   "cell_type": "markdown",
   "metadata": {},
   "source": [
    "## I3C Protocol API\n",
    "\n",
    "The I3C Protocol API methods are described below."
   ]
  },
  {
   "cell_type": "markdown",
   "metadata": {},
   "source": [
    "### 1. Configure the Supernova as an I3C Controller\n",
    "\n",
    "``Supernova.i3cControllerInit(id, pushPullRate, i3cOpenDrainRate, i2cOpenDrainRate)``\n",
    "\n",
    "This method initializes the Supernova as an I3C controller.\n",
    "\n",
    "  - `id: int`: A 2-byte integer that represents the transfer ID.\n",
    "  - `pushPullRate: I3cPushPullTransferRate`: Push-Pull frequency.\n",
    "  - `i3cOpenDrainRate: I3cOpenDrainTransferRate`: I3C frequency in Open Drain mode.\n",
    "  - `i2cOpenDrainRate: I2cTransferRate`: I2C frequency."
   ]
  },
  {
   "cell_type": "code",
   "execution_count": 11,
   "metadata": {},
   "outputs": [
    {
     "data": {
      "text/plain": [
       "{'module': 1, 'opcode': 0, 'message': 'I3C CONTROLLER INIT request success'}"
      ]
     },
     "execution_count": 11,
     "metadata": {},
     "output_type": "execute_result"
    },
    {
     "name": "stdout",
     "output_type": "stream",
     "text": [
      ">> New message from SUPERNOVA:\n",
      "{'id': 7, 'command': 'I3C CONTROLLER INIT', 'result': 'SUCCESS'}\n"
     ]
    }
   ],
   "source": [
    "supernova.i3cControllerInit(getId(), I3cPushPullTransferRate.PUSH_PULL_3_125_MHZ_31_25_DC, I3cOpenDrainTransferRate.OPEN_DRAIN_1_MHZ, I2cTransferRate._400KHz)"
   ]
  },
  {
   "cell_type": "markdown",
   "metadata": {},
   "source": [
    "### 2. Set I3C voltage\n",
    "\n",
    "``Supernova.setI3cVoltage(id, voltage_mV)``\n",
    "\n",
    "This method supplies the indicated voltage to the I3C bus in mV, ranging from 800 mV up to 3300 mV. \n",
    "\n",
    "- ``id: int`` : A 2-byte integer that represents the transfer ID.\n",
    "- ``voltage_mV: c_int16 ``: The voltage parameter is a 2-byte integer in the range [800, 3300] mV and allows the value 0 mV to power off the output voltage.\n",
    "\n",
    "There are 2 I3C ports:\n",
    "- I3C LV: from 800 mV to 1199 mV\n",
    "- I3C HV: from 1200 mV to 3300 mV"
   ]
  },
  {
   "cell_type": "code",
   "execution_count": 12,
   "metadata": {},
   "outputs": [
    {
     "data": {
      "text/plain": [
       "{'module': 1, 'opcode': 0, 'message': 'SET I3C VOLTAGE request success'}"
      ]
     },
     "execution_count": 12,
     "metadata": {},
     "output_type": "execute_result"
    },
    {
     "name": "stdout",
     "output_type": "stream",
     "text": [
      ">> New message from SUPERNOVA:\n",
      "{'id': 8, 'command': 'SYS SET I3C VOLTAGE', 'result': 'SUCCESS'}\n"
     ]
    }
   ],
   "source": [
    "supernova.setI3cVoltage(getId(), 3300)"
   ]
  },
  {
   "attachments": {},
   "cell_type": "markdown",
   "metadata": {},
   "source": [
    "### 3. I3C bus initialization\n",
    "\n",
    "There are two options:\n",
    "1. Initialize the bus with an **empty target devices table** and scan the I3C bus.\n",
    "2. Add target to the target device table before initializing the bus.\n",
    "\n",
    "In this case, the I3C Controller performs an RSTDAA and ENTDAA CCC. If one or more I3C Targets acknowledge the Broadcast Address 0x7E, then the Supernova \n",
    "will assign the lower available and valid dynamic address."
   ]
  },
  {
   "cell_type": "markdown",
   "metadata": {},
   "source": [
    "Previously, retrieve the target devices table with the method: `Supernova.i3cControllerGetTargetDevicesTable(getId())`"
   ]
  },
  {
   "cell_type": "code",
   "execution_count": 13,
   "metadata": {},
   "outputs": [
    {
     "name": "stdout",
     "output_type": "stream",
     "text": [
      ">> New message from SUPERNOVA:\n",
      "{'id': 9, 'command': 'I3C CONTROLLER GET TARGET DEVICES TABLE', 'result': 'SUCCESS', 'number_of_targets': 0, 'table': []}\n"
     ]
    }
   ],
   "source": [
    "# Get the Target Devices Table from the Supernova. It must be empty before the bus initialization.\n",
    "request_result = supernova.i3cControllerGetTargetDevicesTable(getId())"
   ]
  },
  {
   "cell_type": "markdown",
   "metadata": {},
   "source": [
    "`Supernova.i3cControllerInitBus(id, table)`\n",
    "\n",
    "- `id: int`: A 2-byte integer that represents the transfer ID.\n",
    "- `table: dict`: A Python dictionary containing information about the target devices table. Default value: `None`"
   ]
  },
  {
   "cell_type": "code",
   "execution_count": 37,
   "metadata": {},
   "outputs": [
    {
     "name": "stdout",
     "output_type": "stream",
     "text": [
      ">> New message from SUPERNOVA:\n",
      "{'id': 33, 'command': 'I3C CONTROLLER INIT BUS', 'result': 'SUCCESS', 'invalid_addresses': []}\n"
     ]
    }
   ],
   "source": [
    "# Initialize and scan the I3C bus.\n",
    "request_result = supernova.i3cControllerInitBus(getId())"
   ]
  },
  {
   "cell_type": "code",
   "execution_count": 38,
   "metadata": {},
   "outputs": [
    {
     "name": "stdout",
     "output_type": "stream",
     "text": [
      ">> New message from SUPERNOVA:\n",
      "{'id': 34, 'command': 'I3C CONTROLLER GET TARGET DEVICES TABLE', 'result': 'SUCCESS', 'number_of_targets': 1, 'table': [{'static_address': 0, 'dynamic_address': 8, 'pid': [4, 106, 0, 0, 0, 0], 'bcr': 39, 'dcr': 160, 'mwl': 0, 'mrl': 0, 'max_ibi_payload_length': 0, 'configuration': {'target_type': 'I3C_DEVICE', 'interrupt_request': 'ACCEPT_IBI', 'controller_role_request': 'REJECT_CRR', 'setdasa': 'DO_NOT_USE_SETDASA', 'setaasa': 'DO_NOT_USE_SETAASA', 'entdaa': 'USE_ENTDAA', 'ibi_timestamp': 'DISABLE_IBIT', 'pending_read_capability': 'DISABLE_AUTOMATIC_READ'}}]}\n"
     ]
    }
   ],
   "source": [
    "request_result = supernova.i3cControllerGetTargetDevicesTable(getId())"
   ]
  },
  {
   "cell_type": "markdown",
   "metadata": {},
   "source": [
    "## I3C HDR-DDR WRITE"
   ]
  },
  {
   "cell_type": "markdown",
   "metadata": {},
   "source": [
    "`Supernova.i3cControllerHdrDdrWrite(self, id: c_uint16, targetAddress: c_uint8, command: c_uint8, data: list)`\n",
    "\n",
    "- `id: int`: A 2-byte unsigned integer representing the transfer ID. The range allowed is [1, 65535].\n",
    "- `targetAddress`: The dynamic address of the target device for writing data.\n",
    "- `command`: the HDR-DDR write command that is sent as part of the HDR-DDR Command Word. It must be in the range [0x00, 0x7F].\n",
    "- `data`: A list containing the data to be written to the device. The length of this list must be a multiple of 2."
   ]
  },
  {
   "cell_type": "markdown",
   "metadata": {},
   "source": [
    "1. Validate the value passed as the command."
   ]
  },
  {
   "cell_type": "code",
   "execution_count": 40,
   "metadata": {},
   "outputs": [
    {
     "data": {
      "text/plain": [
       "{'module': 1,\n",
       " 'opcode': 1,\n",
       " 'message': 'ARGUMENT ERROR: the HDR-DDR command in write transfers must be in the range [0x00, 0x7F]'}"
      ]
     },
     "execution_count": 40,
     "metadata": {},
     "output_type": "execute_result"
    }
   ],
   "source": [
    "target_address = 0x08\n",
    "command = 0x85                      # Write command: 8'h00 to 8'h7F\n",
    "data = [i for i in range(0, 20)]\n",
    "\n",
    "supernova.i3cControllerHdrDdrWrite(getId(), target_address, command, data)"
   ]
  },
  {
   "cell_type": "markdown",
   "metadata": {},
   "source": [
    "2. Validate the length of the data."
   ]
  },
  {
   "cell_type": "code",
   "execution_count": 41,
   "metadata": {},
   "outputs": [
    {
     "data": {
      "text/plain": [
       "{'module': 1,\n",
       " 'opcode': 1,\n",
       " 'message': 'ARGUMENT ERROR: data array length must be even in the range [2, 1024]'}"
      ]
     },
     "execution_count": 41,
     "metadata": {},
     "output_type": "execute_result"
    }
   ],
   "source": [
    "target_address = 0x08\n",
    "command = 0x05                      # Write command: 8'h00 to 8'h7F.\n",
    "data = [i for i in range(0, 7)]     # Length must be multiple of 2.\n",
    "\n",
    "supernova.i3cControllerHdrDdrWrite(getId(), target_address, command, data)"
   ]
  },
  {
   "cell_type": "markdown",
   "metadata": {},
   "source": [
    "3. All the parameters are correctly validated."
   ]
  },
  {
   "cell_type": "code",
   "execution_count": 42,
   "metadata": {},
   "outputs": [
    {
     "data": {
      "text/plain": [
       "{'module': 1,\n",
       " 'opcode': 0,\n",
       " 'message': 'I3C CONTROLLER PRIVATE WRITE request success'}"
      ]
     },
     "execution_count": 42,
     "metadata": {},
     "output_type": "execute_result"
    },
    {
     "name": "stdout",
     "output_type": "stream",
     "text": [
      ">> New message from SUPERNOVA:\n",
      "{'id': 37, 'command': 'I3C CONTROLLER PRIVATE TRANSFER', 'result': 'SUCCESS', 'payload_length': 19}\n"
     ]
    }
   ],
   "source": [
    "target_address = 0x08\n",
    "command = 0x04                       # Write command: 8'h00 to 8'h7F.\n",
    "data = [i for i in range(0, 18)]     # Length must be multiple of 2.\n",
    "\n",
    "supernova.i3cControllerHdrDdrWrite(getId(), target_address, command, data)"
   ]
  },
  {
   "cell_type": "code",
   "execution_count": 43,
   "metadata": {},
   "outputs": [
    {
     "data": {
      "text/plain": [
       "{'module': 1,\n",
       " 'opcode': 0,\n",
       " 'message': 'I3C CONTROLLER PRIVATE WRITE request success'}"
      ]
     },
     "execution_count": 43,
     "metadata": {},
     "output_type": "execute_result"
    },
    {
     "name": "stdout",
     "output_type": "stream",
     "text": [
      ">> New message from SUPERNOVA:\n",
      "{'id': 38, 'command': 'I3C CONTROLLER PRIVATE TRANSFER', 'result': 'SUCCESS', 'payload_length': 61}\n"
     ]
    }
   ],
   "source": [
    "target_address = 0x08\n",
    "command = 0x04                      # Write command: 8'h00 to 8'h7F.\n",
    "data = [i for i in range(0, 60)]     # Length must be multiple of 2.\n",
    "\n",
    "supernova.i3cControllerHdrDdrWrite(getId(), target_address, command, data)"
   ]
  },
  {
   "cell_type": "markdown",
   "metadata": {},
   "source": [
    "## I3C HDR-DDR READ"
   ]
  },
  {
   "cell_type": "markdown",
   "metadata": {},
   "source": [
    "`Supernova.i3cControllerHdrDdrRead(self, id: c_uint16, targetAddress: c_uint8, command: c_uint8, length: c_uint16)`\n",
    "\n",
    "- `id: int`: A 2-byte unsigned integer representing the transfer ID. The range allowed is [1, 65535].\n",
    "- `targetAddress`: The dynamic address of the target device.\n",
    "- `command`: the HDR-DDR read command that is sent as part of the HDR-DDR Command Word. It must be in the range [0x80, 0xFF].\n",
    "- `length`: The length of the data to be read. The length must be multiple of 2."
   ]
  },
  {
   "cell_type": "markdown",
   "metadata": {},
   "source": [
    "1. Validate the value passed as the command."
   ]
  },
  {
   "cell_type": "code",
   "execution_count": 45,
   "metadata": {},
   "outputs": [
    {
     "data": {
      "text/plain": [
       "{'module': 1,\n",
       " 'opcode': 1,\n",
       " 'message': 'ARGUMENT ERROR: the HDR-DDR command in read transfers must be in the range [0x80, 0xFF]'}"
      ]
     },
     "execution_count": 45,
     "metadata": {},
     "output_type": "execute_result"
    }
   ],
   "source": [
    "target_address = 0x08\n",
    "command = 0x03                      # Read command: 8'h80 to 8'hFF\n",
    "length = 18\n",
    "\n",
    "supernova.i3cControllerHdrDdrRead(getId(), target_address, command, length)"
   ]
  },
  {
   "cell_type": "markdown",
   "metadata": {},
   "source": [
    "2. Validate the length of the data."
   ]
  },
  {
   "cell_type": "code",
   "execution_count": 46,
   "metadata": {},
   "outputs": [
    {
     "data": {
      "text/plain": [
       "{'module': 1,\n",
       " 'opcode': 1,\n",
       " 'message': 'ARGUMENT ERROR: data length must be even and in the range [2, 1024]'}"
      ]
     },
     "execution_count": 46,
     "metadata": {},
     "output_type": "execute_result"
    }
   ],
   "source": [
    "target_address = 0x08\n",
    "command = 0x80                      # Read command: 8'h80 to 8'hFF\n",
    "length = 17\n",
    "\n",
    "supernova.i3cControllerHdrDdrRead(getId(), target_address, command, length)"
   ]
  },
  {
   "cell_type": "markdown",
   "metadata": {},
   "source": [
    "3. All the parameters are set correctly."
   ]
  },
  {
   "cell_type": "markdown",
   "metadata": {},
   "source": [
    "In the cell below, an I3C SDR Private Write Transfer is run to reset the internal register address of the ICM426xx target to 0x00 and read back the data written using the method `i3cControllerHdrDddWrite` described above."
   ]
  },
  {
   "cell_type": "code",
   "execution_count": null,
   "metadata": {},
   "outputs": [
    {
     "data": {
      "text/plain": [
       "{'module': 1,\n",
       " 'opcode': 0,\n",
       " 'message': 'I3C CONTROLLER PRIVATE WRITE request success'}"
      ]
     },
     "execution_count": 44,
     "metadata": {},
     "output_type": "execute_result"
    },
    {
     "name": "stdout",
     "output_type": "stream",
     "text": [
      ">> New message from SUPERNOVA:\n",
      "{'id': 39, 'command': 'I3C CONTROLLER PRIVATE TRANSFER', 'result': 'SUCCESS', 'payload_length': 30}\n"
     ]
    }
   ],
   "source": [
    "TARGET_ADDR     = 0x08\n",
    "MODE            = TransferMode.I3C_SDR\n",
    "REG_ADDR        = [0x00]\n",
    "DATA            = []        # Python list of bytes. Maximum length of 1024 bytes.\n",
    "\n",
    "# API I3C Write\n",
    "supernova.i3cControllerWrite(getId(),TARGET_ADDR,MODE,REG_ADDR,DATA,startWith7E=True)"
   ]
  },
  {
   "cell_type": "code",
   "execution_count": 47,
   "metadata": {},
   "outputs": [
    {
     "name": "stdout",
     "output_type": "stream",
     "text": [
      ">> New message from SUPERNOVA:"
     ]
    },
    {
     "data": {
      "text/plain": [
       "{'module': 1,\n",
       " 'opcode': 0,\n",
       " 'message': 'I3C CONTROLLER PRIVATE READ request success'}"
      ]
     },
     "execution_count": 47,
     "metadata": {},
     "output_type": "execute_result"
    },
    {
     "name": "stdout",
     "output_type": "stream",
     "text": [
      "\n",
      "{'id': 42, 'command': 'I3C CONTROLLER PRIVATE TRANSFER', 'result': 'SUCCESS', 'payload_length': 16, 'payload': [0, 128, 0, 128, 0, 128, 0, 128, 0, 128, 0, 128, 0, 0, 0, 16]}\n"
     ]
    }
   ],
   "source": [
    "target_address = 0x08\n",
    "command = 0x80                      # Read command: 8'h80 to 8'hFF\n",
    "length = 16\n",
    "\n",
    "supernova.i3cControllerHdrDdrRead(getId(), target_address, command, length)"
   ]
  },
  {
   "cell_type": "markdown",
   "metadata": {},
   "source": [
    "Set the MRL to 20 bytes."
   ]
  },
  {
   "cell_type": "code",
   "execution_count": 49,
   "metadata": {},
   "outputs": [
    {
     "name": "stdout",
     "output_type": "stream",
     "text": [
      ">> New message from SUPERNOVA:"
     ]
    },
    {
     "data": {
      "text/plain": [
       "{'module': 1, 'opcode': 0, 'message': 'I3C SEND CCC request success'}"
      ]
     },
     "execution_count": 49,
     "metadata": {},
     "output_type": "execute_result"
    },
    {
     "name": "stdout",
     "output_type": "stream",
     "text": [
      "\n",
      "{'id': 44, 'command': 'I3C CONTROLLER CCC TRANSFER', 'result': 'SUCCESS', 'ccc': 'D_SETMRL', 'payload_length': 2}\n"
     ]
    }
   ],
   "source": [
    "supernova.i3cDirectSETMRL(getId(), 0x08, 20)"
   ]
  },
  {
   "cell_type": "markdown",
   "metadata": {},
   "source": [
    "Try to read 30 bytes from the target, but only 20 are returned by the target because of the SETMRL set above."
   ]
  },
  {
   "cell_type": "code",
   "execution_count": 50,
   "metadata": {},
   "outputs": [
    {
     "name": "stdout",
     "output_type": "stream",
     "text": [
      ">> New message from SUPERNOVA:"
     ]
    },
    {
     "data": {
      "text/plain": [
       "{'module': 1,\n",
       " 'opcode': 0,\n",
       " 'message': 'I3C CONTROLLER PRIVATE READ request success'}"
      ]
     },
     "execution_count": 50,
     "metadata": {},
     "output_type": "execute_result"
    },
    {
     "name": "stdout",
     "output_type": "stream",
     "text": [
      "\n",
      "{'id': 45, 'command': 'I3C CONTROLLER PRIVATE TRANSFER', 'result': 'SUCCESS', 'payload_length': 20, 'payload': [1, 0, 3, 4, 5, 6, 7, 8, 9, 10, 11, 12, 13, 14, 15, 16, 17, 18, 19, 20]}\n"
     ]
    }
   ],
   "source": [
    "target_address = 0x08\n",
    "command = 0x80                      # Read command: 8'h80 to 8'hFF\n",
    "length = 30\n",
    "\n",
    "supernova.i3cControllerHdrDdrRead(getId(), target_address, command, length)"
   ]
  },
  {
   "cell_type": "code",
   "execution_count": 51,
   "metadata": {},
   "outputs": [
    {
     "name": "stdout",
     "output_type": "stream",
     "text": [
      ">> New message from SUPERNOVA:"
     ]
    },
    {
     "data": {
      "text/plain": [
       "{'module': 1,\n",
       " 'opcode': 0,\n",
       " 'message': 'I3C CONTROLLER TRIGGER PATTERN request success'}"
      ]
     },
     "execution_count": 51,
     "metadata": {},
     "output_type": "execute_result"
    },
    {
     "name": "stdout",
     "output_type": "stream",
     "text": [
      "\n",
      "{'id': 46, 'command': 'I3C CONTROLLER TRIGGER PATTERN', 'result': 'SUCCESS', 'pattern': 'I3C_HDR_EXIT_PATTERN'}\n"
     ]
    }
   ],
   "source": [
    "supernova.i3cControllerTriggerHdrExitPattern(getId())"
   ]
  },
  {
   "cell_type": "markdown",
   "metadata": {},
   "source": [
    "## I3C HDR-DDR CCCs"
   ]
  },
  {
   "cell_type": "markdown",
   "metadata": {},
   "source": [
    "As of now, the Supernova SDK does not include explicit methods for issuing Common Command Codes (CCCs) in HDR-DDR mode. Since CCCs in HDR-DDR mode are less common than in SDR mode, a generic method is provided to issue all CCCs in HDR-DDR mode. Examples of using this generic method are shown below."
   ]
  },
  {
   "cell_type": "markdown",
   "metadata": {},
   "source": [
    "#### HDR-DDR Broadcast DISEC (0x01)"
   ]
  },
  {
   "cell_type": "code",
   "execution_count": 59,
   "metadata": {},
   "outputs": [
    {
     "data": {
      "text/plain": [
       "{'module': 1, 'opcode': 0, 'message': 'I3C SEND CCC request success'}"
      ]
     },
     "execution_count": 59,
     "metadata": {},
     "output_type": "execute_result"
    },
    {
     "name": "stdout",
     "output_type": "stream",
     "text": [
      ">> New message from SUPERNOVA:\n",
      "{'id': 54, 'command': 'I3C CONTROLLER CCC TRANSFER', 'result': 'SUCCESS', 'ccc': 'B_DISEC', 'payload_length': 3}\n"
     ]
    }
   ],
   "source": [
    "supernova.i3cControllerCccTransfer(id=getId(),\n",
    "                                   cmdType=I3cCccType.CCC_WITH_DEFINING_BYTE,\n",
    "                                   direction=TransferDirection.WRITE,\n",
    "                                   targetAddress=0x7E,\n",
    "                                   mode=TransferMode.I3C_HDR_DDR,\n",
    "                                   defByte=0X00,                    # This value must be 0x00 if the CCC does not have a defining byte.\n",
    "                                   ccc=CCC.B_DISEC,\n",
    "                                   length=1,\n",
    "                                   data= [DISEC.DISINT.value | DISEC.DISHJ.value])"
   ]
  },
  {
   "cell_type": "markdown",
   "metadata": {},
   "source": [
    "#### HDR-DDR Broadcast ENEC (0x01)"
   ]
  },
  {
   "cell_type": "code",
   "execution_count": 60,
   "metadata": {},
   "outputs": [
    {
     "data": {
      "text/plain": [
       "{'module': 1, 'opcode': 0, 'message': 'I3C SEND CCC request success'}"
      ]
     },
     "execution_count": 60,
     "metadata": {},
     "output_type": "execute_result"
    },
    {
     "name": "stdout",
     "output_type": "stream",
     "text": [
      ">> New message from SUPERNOVA:\n",
      "{'id': 55, 'command': 'I3C CONTROLLER CCC TRANSFER', 'result': 'SUCCESS', 'ccc': 'B_ENEC', 'payload_length': 3}\n"
     ]
    }
   ],
   "source": [
    "supernova.i3cControllerCccTransfer(id=getId(),\n",
    "                                   cmdType=I3cCccType.CCC_WITH_DEFINING_BYTE,\n",
    "                                   direction=TransferDirection.WRITE,\n",
    "                                   targetAddress=0x7E,\n",
    "                                   mode=TransferMode.I3C_HDR_DDR,\n",
    "                                   defByte=0X00,                    # This value must be 0x00 if the CCC does not have a defining byte.\n",
    "                                   ccc=CCC.B_ENEC,\n",
    "                                   length=1,\n",
    "                                   data= [ENEC.ENINT.value])"
   ]
  },
  {
   "cell_type": "markdown",
   "metadata": {},
   "source": [
    "#### HDR-DDR Direct DISEC (0x01)"
   ]
  },
  {
   "cell_type": "code",
   "execution_count": 61,
   "metadata": {},
   "outputs": [
    {
     "name": "stdout",
     "output_type": "stream",
     "text": [
      ">> New message from SUPERNOVA:\n",
      "{'id': 56, 'command': 'I3C CONTROLLER CCC TRANSFER', 'result': 'SUCCESS', 'ccc': 'D_DISEC', 'payload_length': 1}\n"
     ]
    },
    {
     "data": {
      "text/plain": [
       "{'module': 1, 'opcode': 0, 'message': 'I3C SEND CCC request success'}"
      ]
     },
     "execution_count": 61,
     "metadata": {},
     "output_type": "execute_result"
    }
   ],
   "source": [
    "supernova.i3cControllerCccTransfer(id=getId(),\n",
    "                                   cmdType=I3cCccType.CCC_WITH_DEFINING_BYTE,\n",
    "                                   direction=TransferDirection.WRITE,\n",
    "                                   targetAddress=0x08,\n",
    "                                   mode=TransferMode.I3C_HDR_DDR,\n",
    "                                   defByte=0X00,                    # This value must be 0x00 if the CCC does not have a defining byte.\n",
    "                                   ccc=CCC.D_DISEC,\n",
    "                                   length=1,\n",
    "                                   data= [DISEC.DISINT.value | DISEC.DISHJ.value])"
   ]
  },
  {
   "cell_type": "markdown",
   "metadata": {},
   "source": [
    "#### HDR-DDR Direct ENEC (0x01)"
   ]
  },
  {
   "cell_type": "code",
   "execution_count": 62,
   "metadata": {},
   "outputs": [
    {
     "data": {
      "text/plain": [
       "{'module': 1, 'opcode': 0, 'message': 'I3C SEND CCC request success'}"
      ]
     },
     "execution_count": 62,
     "metadata": {},
     "output_type": "execute_result"
    },
    {
     "name": "stdout",
     "output_type": "stream",
     "text": [
      ">> New message from SUPERNOVA:\n",
      "{'id': 57, 'command': 'I3C CONTROLLER CCC TRANSFER', 'result': 'SUCCESS', 'ccc': 'D_ENEC', 'payload_length': 1}\n"
     ]
    }
   ],
   "source": [
    "supernova.i3cControllerCccTransfer(id=getId(),\n",
    "                                   cmdType=I3cCccType.CCC_WITH_DEFINING_BYTE,\n",
    "                                   direction=TransferDirection.WRITE,\n",
    "                                   targetAddress=0x08,\n",
    "                                   mode=TransferMode.I3C_HDR_DDR,\n",
    "                                   defByte=0X00,                    # This value must be 0x00 if the CCC does not have a defining byte.\n",
    "                                   ccc=CCC.D_ENEC,\n",
    "                                   length=1,\n",
    "                                   data= [ENEC.ENINT.value])"
   ]
  },
  {
   "cell_type": "markdown",
   "metadata": {},
   "source": [
    "#### HDR-DDR - Broadcast SETMRL (0x0A)"
   ]
  },
  {
   "cell_type": "code",
   "execution_count": 63,
   "metadata": {},
   "outputs": [
    {
     "data": {
      "text/plain": [
       "{'module': 1, 'opcode': 0, 'message': 'I3C SEND CCC request success'}"
      ]
     },
     "execution_count": 63,
     "metadata": {},
     "output_type": "execute_result"
    },
    {
     "name": "stdout",
     "output_type": "stream",
     "text": [
      ">> New message from SUPERNOVA:\n",
      "{'id': 58, 'command': 'I3C CONTROLLER CCC TRANSFER', 'result': 'SUCCESS', 'ccc': 'B_SETMRL', 'payload_length': 5}\n"
     ]
    }
   ],
   "source": [
    "supernova.i3cControllerCccTransfer(id=getId(),\n",
    "                                   cmdType=I3cCccType.CCC_WITHOUT_DEFINING_BYTE,\n",
    "                                   direction=TransferDirection.WRITE,\n",
    "                                   targetAddress=0x7E,\n",
    "                                   mode=TransferMode.I3C_HDR_DDR,\n",
    "                                   defByte=0X00,                    # This value must be 0x00 if the CCC does not have a defining byte.\n",
    "                                   ccc=CCC.B_SETMRL,\n",
    "                                   length=3,\n",
    "                                   data=[0x01, 0x02, 0x03])"
   ]
  },
  {
   "cell_type": "markdown",
   "metadata": {},
   "source": [
    "#### HDR-DDR Broadcast RSTACT (0x2A)"
   ]
  },
  {
   "cell_type": "code",
   "execution_count": 64,
   "metadata": {},
   "outputs": [
    {
     "data": {
      "text/plain": [
       "{'module': 1, 'opcode': 0, 'message': 'I3C SEND CCC request success'}"
      ]
     },
     "execution_count": 64,
     "metadata": {},
     "output_type": "execute_result"
    },
    {
     "name": "stdout",
     "output_type": "stream",
     "text": [
      ">> New message from SUPERNOVA:\n",
      "{'id': 59, 'command': 'I3C CONTROLLER CCC TRANSFER', 'result': 'SUCCESS', 'ccc': 'B_RSTACT', 'payload_length': 2}\n"
     ]
    }
   ],
   "source": [
    "supernova.i3cControllerCccTransfer(id=getId(),\n",
    "                                   cmdType=I3cCccType.CCC_WITH_DEFINING_BYTE,\n",
    "                                   direction=TransferDirection.WRITE,\n",
    "                                   targetAddress=0x7E,\n",
    "                                   mode=TransferMode.I3C_HDR_DDR,\n",
    "                                   defByte=I3cTargetResetDefByte.RESET_I3C_PERIPHERAL.value,                    # This value must be 0x00 if the CCC does not have a defining byte.\n",
    "                                   ccc=CCC.B_RSTACT,\n",
    "                                   length=0,\n",
    "                                   data=[])"
   ]
  },
  {
   "cell_type": "markdown",
   "metadata": {},
   "source": [
    "#### HDR-DDR Direct SETMRL (0x8A)"
   ]
  },
  {
   "cell_type": "code",
   "execution_count": 65,
   "metadata": {},
   "outputs": [
    {
     "name": "stdout",
     "output_type": "stream",
     "text": [
      ">> New message from SUPERNOVA:"
     ]
    },
    {
     "data": {
      "text/plain": [
       "{'module': 1, 'opcode': 0, 'message': 'I3C SEND CCC request success'}"
      ]
     },
     "execution_count": 65,
     "metadata": {},
     "output_type": "execute_result"
    },
    {
     "name": "stdout",
     "output_type": "stream",
     "text": [
      "\n",
      "{'id': 60, 'command': 'I3C CONTROLLER CCC TRANSFER', 'result': 'SUCCESS', 'ccc': 'D_SETMRL', 'payload_length': 2}\n"
     ]
    }
   ],
   "source": [
    "supernova.i3cControllerCccTransfer(id=getId(),\n",
    "                                   cmdType=I3cCccType.CCC_WITHOUT_DEFINING_BYTE,\n",
    "                                   direction=TransferDirection.WRITE,\n",
    "                                   targetAddress=0x08,\n",
    "                                   mode=TransferMode.I3C_HDR_DDR,\n",
    "                                   defByte=0x00,                    # This value must be 0x00 if the CCC does not have a defining byte.\n",
    "                                   ccc=CCC.D_SETMRL,\n",
    "                                   length=2,\n",
    "                                   data=[0xAB,0xCD])"
   ]
  },
  {
   "cell_type": "markdown",
   "metadata": {},
   "source": [
    "#### HDR-DDR Direct GETMRL (0x8C)"
   ]
  },
  {
   "cell_type": "code",
   "execution_count": 66,
   "metadata": {},
   "outputs": [
    {
     "data": {
      "text/plain": [
       "{'module': 1, 'opcode': 0, 'message': 'I3C SEND CCC request success'}"
      ]
     },
     "execution_count": 66,
     "metadata": {},
     "output_type": "execute_result"
    },
    {
     "name": "stdout",
     "output_type": "stream",
     "text": [
      ">> New message from SUPERNOVA:\n",
      "{'id': 61, 'command': 'I3C CONTROLLER CCC TRANSFER', 'result': 'SUCCESS', 'ccc': 'D_GETMRL', 'payload_length': 2, 'payload': [0, 0]}\n"
     ]
    }
   ],
   "source": [
    "supernova.i3cControllerCccTransfer(id=getId(),\n",
    "                                   cmdType=I3cCccType.CCC_WITHOUT_DEFINING_BYTE,\n",
    "                                   direction=TransferDirection.READ,\n",
    "                                   targetAddress=0x08,\n",
    "                                   mode=TransferMode.I3C_HDR_DDR,\n",
    "                                   defByte=0x00,                    # This value must be 0x00 if the CCC does not have a defining byte.\n",
    "                                   ccc=CCC.D_GETMRL,\n",
    "                                   length=2,\n",
    "                                   data=[])"
   ]
  },
  {
   "cell_type": "code",
   "execution_count": 67,
   "metadata": {},
   "outputs": [
    {
     "name": "stdout",
     "output_type": "stream",
     "text": [
      ">> New message from SUPERNOVA:"
     ]
    },
    {
     "data": {
      "text/plain": [
       "{'module': 1, 'opcode': 0, 'message': 'I3C SEND CCC request success'}"
      ]
     },
     "execution_count": 67,
     "metadata": {},
     "output_type": "execute_result"
    },
    {
     "name": "stdout",
     "output_type": "stream",
     "text": [
      "\n",
      "{'id': 62, 'command': 'I3C CONTROLLER CCC TRANSFER', 'result': 'SUCCESS', 'ccc': 'D_GETMRL', 'payload_length': 2, 'payload': [0, 250]}\n"
     ]
    }
   ],
   "source": [
    "supernova.i3cGETMRL(getId(), 0x08)"
   ]
  },
  {
   "cell_type": "markdown",
   "metadata": {},
   "source": [
    "#### HDR-DDR Broadcast SETMRL (0x8A)"
   ]
  },
  {
   "cell_type": "code",
   "execution_count": 68,
   "metadata": {},
   "outputs": [
    {
     "data": {
      "text/plain": [
       "{'module': 1, 'opcode': 0, 'message': 'I3C SEND CCC request success'}"
      ]
     },
     "execution_count": 68,
     "metadata": {},
     "output_type": "execute_result"
    },
    {
     "name": "stdout",
     "output_type": "stream",
     "text": [
      ">> New message from SUPERNOVA:\n",
      "{'id': 63, 'command': 'I3C CONTROLLER CCC TRANSFER', 'result': 'SUCCESS', 'ccc': 'B_SETMRL', 'payload_length': 4}\n"
     ]
    }
   ],
   "source": [
    "supernova.i3cControllerCccTransfer(id=getId(),\n",
    "                                   cmdType=I3cCccType.CCC_WITHOUT_DEFINING_BYTE,\n",
    "                                   direction=TransferDirection.WRITE,\n",
    "                                   targetAddress=0x7E,\n",
    "                                   mode=TransferMode.I3C_HDR_DDR,\n",
    "                                   defByte=0x00,                    # This value must be 0x00 if the CCC does not have a defining byte.\n",
    "                                   ccc=CCC.B_SETMRL,\n",
    "                                   length=2,\n",
    "                                   data=[0xAB,0xCD])"
   ]
  },
  {
   "cell_type": "markdown",
   "metadata": {},
   "source": [
    "### Reset I3C BUS\n",
    "\n",
    "Let's reset the bus to initialize the bus again, this time sending a non-empty target devices table to the Supernova."
   ]
  },
  {
   "cell_type": "markdown",
   "metadata": {},
   "source": [
    "`Supernova.i3cControllerResetBus(id)`\n",
    "\n",
    "This method requests the Supernova to: 1. issue an RSTDAA CCC, 2. free the already assigned dynamic addresses and 3. clean up the target devices table. \n",
    "\n",
    "- `id: int`: A 2-byte integer that represents the transfer ID."
   ]
  },
  {
   "cell_type": "code",
   "execution_count": null,
   "metadata": {},
   "outputs": [],
   "source": [
    "supernova.i3cControllerResetBus(getId())"
   ]
  },
  {
   "cell_type": "code",
   "execution_count": null,
   "metadata": {},
   "outputs": [],
   "source": [
    "# The target devices table must be empty again after resetting the bus.\n",
    "request_result = supernova.i3cControllerGetTargetDevicesTable(getId())"
   ]
  },
  {
   "attachments": {},
   "cell_type": "markdown",
   "metadata": {},
   "source": [
    "3. Add targets to the target device table before initializing the bus using a Python dictionary"
   ]
  },
  {
   "cell_type": "markdown",
   "metadata": {},
   "source": [
    "### Close communication\n",
    "\n",
    "Use the ``Supernova.close()`` method to end the communication with the Supernova device and release the used memory in the background like threads and so on."
   ]
  },
  {
   "cell_type": "code",
   "execution_count": null,
   "metadata": {},
   "outputs": [],
   "source": [
    "# Close the communication with the Supernova device.\n",
    "supernova.close()"
   ]
  }
 ],
 "metadata": {
  "kernelspec": {
   "display_name": "Python 3",
   "language": "python",
   "name": "python3"
  },
  "language_info": {
   "codemirror_mode": {
    "name": "ipython",
    "version": 3
   },
   "file_extension": ".py",
   "mimetype": "text/x-python",
   "name": "python",
   "nbconvert_exporter": "python",
   "pygments_lexer": "ipython3",
   "version": "3.11.1"
  },
  "orig_nbformat": 4
 },
 "nbformat": 4,
 "nbformat_minor": 2
}
