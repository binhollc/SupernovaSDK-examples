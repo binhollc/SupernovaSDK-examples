{
 "cells": [
  {
   "cell_type": "code",
   "execution_count": 25,
   "metadata": {},
   "outputs": [],
   "source": [
    "# Import Python package\n",
    "import BinhoSupernova\n",
    "from BinhoSupernova.Supernova import Supernova\n",
    "from BinhoSupernova.commands.i3c.definitions import *"
   ]
  },
  {
   "cell_type": "markdown",
   "metadata": {},
   "source": [
    "## Getting started"
   ]
  },
  {
   "attachments": {},
   "cell_type": "markdown",
   "metadata": {},
   "source": [
    "#### 1. List all the Supernova devices connected to the PC host\n",
    "\n",
    "The ``BinhoSupernova.getConnectedSupernovaDevicesList()`` gets a list of the Supernova devices plugged into the host PC machine."
   ]
  },
  {
   "cell_type": "code",
   "execution_count": 26,
   "metadata": {},
   "outputs": [
    {
     "data": {
      "text/plain": [
       "[{'path': '\\\\\\\\?\\\\HID#VID_1FC9&PID_82FC#6&39aa8cf6&2&0000#{4d1e55b2-f16f-11cf-88cb-001111000030}',\n",
       "  'vendor_id': '0x1fc9',\n",
       "  'product_id': '0x82fc',\n",
       "  'serial_number': 'D6175D813F06E05EA0A6A497E6C926A',\n",
       "  'release_number': 256,\n",
       "  'manufacturer_string': 'Binho LLC',\n",
       "  'product_string': 'Binho Supernova',\n",
       "  'usage_page': 65280,\n",
       "  'usage': 1,\n",
       "  'interface_number': 0}]"
      ]
     },
     "execution_count": 26,
     "metadata": {},
     "output_type": "execute_result"
    }
   ],
   "source": [
    "BinhoSupernova.getConnectedSupernovaDevicesList()"
   ]
  },
  {
   "attachments": {},
   "cell_type": "markdown",
   "metadata": {},
   "source": [
    "#### 2. Create an instance of the Supernova class\n",
    "\n",
    "To utilize a Supernova USB host adapter device, we need to create an instance of the Supernova class."
   ]
  },
  {
   "cell_type": "code",
   "execution_count": 27,
   "metadata": {},
   "outputs": [],
   "source": [
    "# Create a device instance. One instance of the Supernova class represents a Supernova USB host adapter device.\n",
    "supernova = Supernova()"
   ]
  },
  {
   "cell_type": "markdown",
   "metadata": {},
   "source": [
    "#### 3. Open connection to the Supernova device\n",
    "\n",
    "The public method ``Supernova.open()`` establishes the connection with a Supernova device. Below is the complete signature:\n",
    "\n",
    "```python\n",
    "open(vid, pid, serial, path)\n",
    "```\n",
    "\n",
    "- ``vid: int``: The Supernova USB VID, which is set by default.\n",
    "- ``pid: int``: The Supernova USB PID, which is set by default.\n",
    "- ``serial: str``: The Supernova serial number.\n",
    "- ``path: str``: The OS HID path assigned to the device. This can be obtained using the ``BinhoSupernova.getConnectedSupernovaDevicesList()`` method. The ``path`` parameter is currently the only way to uniquely identify each Supernova device. Therefore, it is recommended to use the ``path`` parameter, especially when opening connections with more than one Supernova device simultaneously."
   ]
  },
  {
   "cell_type": "code",
   "execution_count": 28,
   "metadata": {},
   "outputs": [
    {
     "data": {
      "text/plain": [
       "{'module': 0,\n",
       " 'opcode': 0,\n",
       " 'message': 'Connection with Supernova device opened successfully.'}"
      ]
     },
     "execution_count": 28,
     "metadata": {},
     "output_type": "execute_result"
    }
   ],
   "source": [
    "# Use the method by default to connect to only one Supernova device.\n",
    "supernova.open()\n",
    "\n",
    "# Otherwise, use the path attribute to identify each Supernova device. Uncomment the line below and comment the line #2.\n",
    "# supernova.open(path='\\\\\\\\?\\\\HID#VID_1FC9&PID_82FC#6&48d9417&0&0000#{4d1e55b2-f16f-11cf-88cb-001111000030}')"
   ]
  },
  {
   "attachments": {},
   "cell_type": "markdown",
   "metadata": {},
   "source": [
    "#### 4. Define and register a callback to handle responses and notifications from Supernova\n",
    "\n",
    "To handle responses and notifications from Supernova, a callback function must be defined and registered. This function will be invoked every time the Supernova sends a response to a request, an asynchronous notification, or a message from the system.\n",
    "\n",
    "The callback function's signature is as follows: \n",
    "\n",
    "``def callback_function_name(supernova_message: dict, system_message: dict) -> None:``\n",
    "\n",
    "Once the callback function is defined, it should be registered using the ``Supernova.onEvent(callback_function)`` method."
   ]
  },
  {
   "cell_type": "code",
   "execution_count": 29,
   "metadata": {},
   "outputs": [],
   "source": [
    "import json\n",
    "\n",
    "# Define callback function\n",
    "def callback_function(supernova_message: dict, system_message: dict) -> None:\n",
    "\n",
    "    if supernova_message != None:\n",
    "\n",
    "        # Print a header\n",
    "        print(\">> New message from SUPERNOVA:\")\n",
    "\n",
    "        # If the command is GET TARGET DEVICE TABLE, convert to json.\n",
    "        if supernova_message[\"name\"] == \"I3C CONTROLLER GET TARGET DEVICES TABLE\":\n",
    "            responseJson = json.dumps(supernova_message, indent=4)\n",
    "            print(responseJson)\n",
    "        else:\n",
    "            print(supernova_message)\n",
    "\n",
    "    if system_message != None:\n",
    "\n",
    "        # Print a header\n",
    "        print(\">> New message from the SYSTEM:\")\n",
    "\n",
    "        print(system_message)"
   ]
  },
  {
   "cell_type": "code",
   "execution_count": 30,
   "metadata": {},
   "outputs": [
    {
     "data": {
      "text/plain": [
       "{'module': 0,\n",
       " 'opcode': 0,\n",
       " 'message': 'On event callback function registered successfully.'}"
      ]
     },
     "execution_count": 30,
     "metadata": {},
     "output_type": "execute_result"
    }
   ],
   "source": [
    "# Register callback function\n",
    "supernova.onEvent(callback_function)"
   ]
  },
  {
   "attachments": {},
   "cell_type": "markdown",
   "metadata": {},
   "source": [
    "#### 5. Define a function to generate transaction IDs\n",
    "\n",
    "All the request messages sent to the Supernova from the USB Host application must include the transaction or request ID. The ID is a 2-byte integer with an allowed range of ``[0, 65535]``.\n",
    "\n",
    "In this example, a dummy function called ``getId()`` is defined to increment a transaction counter used as the ID."
   ]
  },
  {
   "cell_type": "code",
   "execution_count": 31,
   "metadata": {},
   "outputs": [],
   "source": [
    "#Auxiliar code to generate IDs.\n",
    "\n",
    "counter_id = 0\n",
    "\n",
    "def getId():\n",
    "    global counter_id\n",
    "    counter_id = counter_id + 1\n",
    "    return counter_id"
   ]
  },
  {
   "attachments": {},
   "cell_type": "markdown",
   "metadata": {},
   "source": [
    "## I3C Protocol API"
   ]
  },
  {
   "cell_type": "markdown",
   "metadata": {},
   "source": [
    "### 1. Configuring the supernova/PIC18QF16Q20/I2C FRAM Setup\n",
    "\n",
    "To facilitate the Protocol Translator test:\n",
    "\n",
    "**Necessary Firmware:**\n",
    "- Supernova firmware version 2.0.0\n",
    "- Supernova SDK version 2.0.0\n",
    "- Custom image for the PIC18QF16Q20 protocol translator (located in the application folder)\n",
    "\n",
    "**Connection Arrangement:**\n",
    "\n",
    "<img src=\"assets/block_diagram.png\" alt=\"connection\" width=\"60%\">\n",
    "\n",
    "<img src=\"assets/connection.png\" alt=\"connection_diagram\" width=\"40%\">\n",
    "\n",
    "- Link the supernova High voltage I3C tiger eye to Qwiic connector with the I3C Qwiic connector on the Supernova PIC18QF16Q20 board.\n",
    "- Establish connections for SDA and SCL from the I2C/I3C Qwiic connector on the Supernova PIC18QF16Q20 board to the corresponding SCL/SDA channels of the I2C FRAM.\n",
    "- Connect VCC and GND from the I2C Qwiic on the Supernova to the VCC and GND of the I2C FRAM.\n",
    "\n",
    "   ![Connection Image Placeholder]\n",
    "\n",
    "**Testing Procedure:**\n",
    "\n",
    "The objective of this test is to utilize the PIC18QF16Q20 as a protocol translator, issuing custom I3C commands to execute the following transactions:\n",
    "- I2C write\n",
    "\n",
    "\n",
    "<img src=\"assets/i2c_write.png\" alt=\"connection\" width=\"80%\">\n",
    "\n",
    "- I2C read\n",
    "\n",
    "![I2C_read](assets/i2c_read.png)\n",
    "\n",
    "- SPI write\n",
    "\n",
    "![SPI_write](assets/spi_write.png)\n",
    "\n",
    "- SPI read\n",
    "\n",
    "![SPI_read](assets/spi_read.png)\n",
    "\n",
    "- SPI write followed by read\n",
    "\n",
    "<img src=\"assets/spi_write_read.png\" alt=\"connection\" width=\"70%\">\n",
    "\n",
    "\n",
    "For I2C transactions, an I2C FRAM will be employed for data read and write operations. To assess SPI functionality, the Supernova PIC18QF16Q20 board integrates a W25Q64JV (64M-bit) SPI Serial Flash, allowing for the execution of commands and read/write operations."
   ]
  },
  {
   "cell_type": "markdown",
   "metadata": {},
   "source": [
    "### 2. Initialize the Supernova I3C peripheral as controller\n",
    "\n",
    "``Supernova.i3cControllerInit(id, pushPullRate, i3cOpenDrainRate, i2cOpenDrainRate)``\n",
    "\n",
    "This method initializes the Supernova as an I3C controller.\n",
    "\n",
    "  - `id: int`: A 2-byte integer that represents the transfer ID.\n",
    "  - `pushPullRate: I3cPushPullTransferRate`: Push-Pull frequency. Default value: `I3cPushPullTransferRate.PUSH_PULL_3_75_MHZ`\n",
    "  - `i3cOpenDrainRate: I3cOpenDrainTransferRate`: I3C frequency in Open Drain mode. Default value: `I3cOpenDrainTransferRate.OPEN_DRAIN_1_25_MHZ`\n",
    "  - `i2cOpenDrainRate: I2cTransferRate`: I2C frequency. Default value: `I2cTransferRate._1MHz`"
   ]
  },
  {
   "cell_type": "code",
   "execution_count": 32,
   "metadata": {},
   "outputs": [
    {
     "name": "stdout",
     "output_type": "stream",
     "text": [
      "Send:  [31, 0, 1, 0, 1, 25, 0, 3, 2]\n"
     ]
    },
    {
     "data": {
      "text/plain": [
       "{'module': 1, 'opcode': 0, 'message': 'I3C CONTROLLER INIT request success'}"
      ]
     },
     "execution_count": 32,
     "metadata": {},
     "output_type": "execute_result"
    },
    {
     "name": "stdout",
     "output_type": "stream",
     "text": [
      "Receive:  [1, 0, 1, 25, 0, 0]\n",
      ">> New message from SUPERNOVA:\n",
      "{'id': 1, 'command': 6401, 'name': 'I3C CONTROLLER INIT', 'result': 'SUCCESS'}\n"
     ]
    }
   ],
   "source": [
    "supernova.i3cControllerInit(getId())"
   ]
  },
  {
   "cell_type": "markdown",
   "metadata": {},
   "source": [
    "### 3. Adjust I3C Bus Voltage\n",
    "\n",
    "As this example utilizes the secondary I3C bus on the PIC18QF16Q20, it is essential to set the bus voltage to 1.2V for optimal operation."
   ]
  },
  {
   "cell_type": "code",
   "execution_count": 33,
   "metadata": {},
   "outputs": [
    {
     "name": "stdout",
     "output_type": "stream",
     "text": [
      "Send:  [27, 0, 2, 0, 4, 4, 176, 4]\n"
     ]
    },
    {
     "name": "stdout",
     "output_type": "stream",
     "text": [
      "Receive:  [2, 0, 4, 4, 0, 0]\n",
      ">> New message from SUPERNOVA:\n",
      "{'id': 2, 'command': 1028, 'name': 'SYS SET I3C VOLTAGE', 'result': 'SUCCESS'}\n"
     ]
    }
   ],
   "source": [
    "request_result = supernova.setI3cVoltage(getId(), 1200)"
   ]
  },
  {
   "attachments": {},
   "cell_type": "markdown",
   "metadata": {},
   "source": [
    "### 4. Initialize the I3C Bus\n",
    "\n",
    "1. Examine the device table prior to the PIC18QF16Q20 hot-joining."
   ]
  },
  {
   "cell_type": "code",
   "execution_count": 34,
   "metadata": {},
   "outputs": [
    {
     "name": "stdout",
     "output_type": "stream",
     "text": [
      "Send:  [19, 0, 3, 0, 6, 25]\n",
      "Receive:  [3, 0, 6, 25, 0, 0, 0]\n",
      ">> New message from SUPERNOVA:\n",
      "{\n",
      "    \"id\": 3,\n",
      "    \"command\": 6406,\n",
      "    \"name\": \"I3C CONTROLLER GET TARGET DEVICES TABLE\",\n",
      "    \"result\": \"SUCCESS\",\n",
      "    \"numberOfDevices\": 0,\n",
      "    \"targetsList\": []\n",
      "}\n"
     ]
    }
   ],
   "source": [
    "request_result = supernova.i3cControllerGetTargetDevicesTable(getId())"
   ]
  },
  {
   "cell_type": "markdown",
   "metadata": {},
   "source": [
    "2. I3C Bus Initialization\n",
    "\n",
    "The Supernova conducts an I3C initialization on an unpopulated bus, resulting in no target ACKs. Following the execution of this cell, connect the PIC18QF16Q20. The PIC18QF16Q20 firmware performs a hot-join, integrating itself into the I3C bus and updating the device table."
   ]
  },
  {
   "cell_type": "code",
   "execution_count": 36,
   "metadata": {},
   "outputs": [
    {
     "name": "stdout",
     "output_type": "stream",
     "text": [
      "Send:  [23, 0, 5, 0, 4, 25, 0]\n",
      "Receive:  [5, 0, 4, 25, 7, 6, 0]\n",
      ">> New message from SUPERNOVA:\n",
      "{'id': 5, 'command': 6404, 'name': 'I3C CONTROLLER INIT BUS', 'result': 'I3C_BUS_INIT_NACK_RSTDAA', 'invalidAddresses': []}\n"
     ]
    },
    {
     "name": "stdout",
     "output_type": "stream",
     "text": [
      "Receive:  [0, 0, 130, 25, 0, 0, 0, 6, 154, 0, 0, 0, 0, 30, 198, 8]\n",
      ">> New message from SUPERNOVA:\n",
      "{'id': 0, 'command': 6530, 'name': 'I3C CONTROLLER HJ REQUEST NOTIFICATION', 'response': 'IBI_ACKED', 'pid': [6, 154, 0, 0, 0, 0], 'bcr': 30, 'dcr': 198, 'dynamicAddress': 8}\n"
     ]
    }
   ],
   "source": [
    "# Initialize and scan the I3C bus.\n",
    "request_result = supernova.i3cControllerInitBus(getId())"
   ]
  },
  {
   "cell_type": "markdown",
   "metadata": {},
   "source": [
    "3. Examine the device table after the PIC18QF16Q20 hot-joining."
   ]
  },
  {
   "cell_type": "code",
   "execution_count": 37,
   "metadata": {},
   "outputs": [
    {
     "name": "stdout",
     "output_type": "stream",
     "text": [
      "Send:  [19, 0, 6, 0, 6, 25]\n",
      "Receive:  [6, 0, 6, 25, 0, 0, 1, 0, 8, 6, 154, 0, 0, 0, 0, 30, 198, 0, 0, 0, 0, 0, 34]\n",
      ">> New message from SUPERNOVA:\n",
      "{\n",
      "    \"id\": 6,\n",
      "    \"command\": 6406,\n",
      "    \"name\": \"I3C CONTROLLER GET TARGET DEVICES TABLE\",\n",
      "    \"result\": \"SUCCESS\",\n",
      "    \"numberOfDevices\": 1,\n",
      "    \"targetsList\": [\n",
      "        {\n",
      "            \"staticAddress\": 0,\n",
      "            \"dynamicAddress\": 8,\n",
      "            \"pid\": [\n",
      "                6,\n",
      "                154,\n",
      "                0,\n",
      "                0,\n",
      "                0,\n",
      "                0\n",
      "            ],\n",
      "            \"bcr\": 30,\n",
      "            \"dcr\": 198,\n",
      "            \"mwl\": 0,\n",
      "            \"mrl\": 0,\n",
      "            \"maxIbiPayloadLength\": 0,\n",
      "            \"configuration\": {\n",
      "                \"targetType\": \"I3C_DEVICE\",\n",
      "                \"interruptRequest\": \"ACCEPT_IBI\",\n",
      "                \"controllerRoleRequest\": \"REJECT_CRR\",\n",
      "                \"setdasa\": \"DO_NOT_USE_SETDASA\",\n",
      "                \"setaasa\": \"DO_NOT_USE_SETAASA\",\n",
      "                \"entdaa\": \"USE_ENTDAA\",\n",
      "                \"ibiTimestamp\": \"DISABLE_IBIT\",\n",
      "                \"pendingReadCapability\": \"DISABLE_AUTOMATIC_READ\"\n",
      "            }\n",
      "        }\n",
      "    ]\n",
      "}\n"
     ]
    }
   ],
   "source": [
    "request_result = supernova.i3cControllerGetTargetDevicesTable(getId())"
   ]
  },
  {
   "cell_type": "markdown",
   "metadata": {},
   "source": [
    "### 5. Communicate with the I2C peripheral"
   ]
  },
  {
   "cell_type": "markdown",
   "metadata": {},
   "source": [
    "To verify the proper functionality of the I2C FRAM, we will execute the following transactions:\n",
    "\n",
    "1. **I2C Write Transaction:**\n",
    "   - Write data [0x06,0x07,0x08,0x09,0x0A] to the register [0x00,0x00].\n",
    "\n",
    "2. **I2C Write to Specific Register:**\n",
    "   - Direct an I2C write to the register [0x00,0x00].\n",
    "\n",
    "3. **I2C Read Transaction:**\n",
    "   - Perform an I2C read of length 5 to retrieve the previously written data.\n",
    "\n",
    "#### Execution Steps:\n",
    "To initiate the first transaction, execute an I3C write to the dynamic address of the PIC18QF16Q20 (0x08). The data to be written includes:\n",
    "   - Command ID for the I2C write command (0x40)\n",
    "   - I2C address right-shifted by one (original address: 0x50, shifted address: 0xA0)\n",
    "   - Register to write to [0x00,0x00]\n",
    "   - Data to be written [0x06,0x07,0x08,0x09,0x0A]"
   ]
  },
  {
   "cell_type": "code",
   "execution_count": 38,
   "metadata": {},
   "outputs": [
    {
     "name": "stdout",
     "output_type": "stream",
     "text": [
      "Send:  [91, 0, 7, 0, 8, 25, 8, 16, 0, 0, 0, 0, 0, 9, 0, 64, 160, 0, 0, 241, 242, 243, 244, 245]\n",
      "Receive:  [7, 0, 8, 25, 0, 0, 8, 0, 0, 0]\n",
      ">> New message from SUPERNOVA:\n",
      "{'id': 7, 'command': 6408, 'name': 'I3C CONTROLLER PRIVATE TRANSFER', 'result': 'SUCCESS', 'payloadLength': 0, 'payload': []}\n"
     ]
    }
   ],
   "source": [
    "TARGET_ADDR     = 0x08\n",
    "MODE            = TransferMode.I3C_SDR\n",
    "REG_ADDR        = []\n",
    "DATA            = [0x40, 0xA0,0x00, 0x00, 0xf1, 0xf2, 0xf3, 0xf4, 0xf5]        # Python list of bytes. Maximum length of 1024 bytes.\n",
    "\n",
    "# API I3C Write\n",
    "request_result = supernova.i3cControllerWrite(getId(),\n",
    "                                    TARGET_ADDR,\n",
    "                                    MODE,\n",
    "                                    REG_ADDR,\n",
    "                                    DATA)"
   ]
  },
  {
   "cell_type": "markdown",
   "metadata": {},
   "source": [
    "For the second transaction, resetting the data pointer to the [0x00,0x00] register is achieved by performing an I3C write with the following data:\n",
    "\n",
    "   - Command ID for the I2C write command (0x40)\n",
    "   - I2C address right-shifted by one (original address: 0x50, shifted address: 0xA0)\n",
    "   - Register to write to [0x00,0x00]\n",
    "   - Empty data payload\n",
    " "
   ]
  },
  {
   "cell_type": "code",
   "execution_count": 39,
   "metadata": {},
   "outputs": [
    {
     "name": "stdout",
     "output_type": "stream",
     "text": [
      "Send:  [71, 0, 8, 0, 8, 25, 8, 16, 0, 0, 0, 0, 0, 4, 0, 64, 160, 0, 0]\n",
      "Receive:  [8, 0, 8, 25, 0, 0, 8, 0, 0, 0]\n",
      ">> New message from SUPERNOVA:\n",
      "{'id': 8, 'command': 6408, 'name': 'I3C CONTROLLER PRIVATE TRANSFER', 'result': 'SUCCESS', 'payloadLength': 0, 'payload': []}\n"
     ]
    }
   ],
   "source": [
    "TARGET_ADDR     = 0x08\n",
    "MODE            = TransferMode.I3C_SDR\n",
    "REG_ADDR        = []\n",
    "DATA            = [0x40, 0xA0, 0x00, 0x00]        # Python list of bytes. Maximum length of 1024 bytes.\n",
    "\n",
    "# API I3C Write\n",
    "request_result = supernova.i3cControllerWrite(getId(),\n",
    "                                    TARGET_ADDR,\n",
    "                                    MODE,\n",
    "                                    REG_ADDR,\n",
    "                                    DATA)"
   ]
  },
  {
   "cell_type": "markdown",
   "metadata": {},
   "source": [
    "For the final transaction, executing a write command involves sending the following I3C data:\n",
    "\n",
    "   - Command ID for the I2C read command (0x20)\n",
    "   - I2C address right-shifted by one (original address: 0x50, shifted address: 0xA0)\n",
    "   - Amount of data to read (0x05)\n",
    "\n",
    "This initiates an I2C read to the designated address with the specified length. The data resulting from this read will be received via I3C in an IBI with payload. This IBI includes a mandatory data byte of 0x00, and the remaining payload constituting the read data."
   ]
  },
  {
   "cell_type": "code",
   "execution_count": 40,
   "metadata": {},
   "outputs": [
    {
     "name": "stdout",
     "output_type": "stream",
     "text": [
      "Send:  [67, 0, 9, 0, 8, 25, 8, 16, 0, 0, 0, 0, 0, 3, 0, 32, 160, 5]\n",
      "Receive:  [9, 0, 8, 25, 0, 0, 8, 0, 0, 0]\n",
      ">> New message from SUPERNOVA:\n",
      "{'id': 9, 'command': 6408, 'name': 'I3C CONTROLLER PRIVATE TRANSFER', 'result': 'SUCCESS', 'payloadLength': 0, 'payload': []}\n"
     ]
    },
    {
     "name": "stdout",
     "output_type": "stream",
     "text": [
      "Receive:  [0, 0, 129, 25, 0, 0, 8, 2, 6, 0, 241, 242, 243, 244, 245, 0, 0]\n",
      ">> New message from SUPERNOVA:\n",
      "{'id': 0, 'command': 6529, 'name': 'I3C CONTROLLER IBI REQUEST NOTIFICATION', 'address': 8, 'response': 'IBI_ACKED_WITH_PAYLOAD', 'payloadLength': 6, 'payload': [0, 241, 242, 243, 244, 245]}\n"
     ]
    }
   ],
   "source": [
    "TARGET_ADDR     = 0x08\n",
    "MODE            = TransferMode.I3C_SDR\n",
    "REG_ADDR        = []\n",
    "DATA            = [0x20, 0xA0, 0x05]        # Python list of bytes. Maximum length of 1024 bytes.\n",
    "\n",
    "# API I3C Write\n",
    "request_result = supernova.i3cControllerWrite(getId(),\n",
    "                                    TARGET_ADDR,\n",
    "                                    MODE,\n",
    "                                    REG_ADDR,\n",
    "                                    DATA)"
   ]
  },
  {
   "cell_type": "markdown",
   "metadata": {},
   "source": [
    "### 6. Communicate with the SPI peripheral"
   ]
  },
  {
   "cell_type": "markdown",
   "metadata": {},
   "source": [
    "To validate the SPI communication, we will execute specific SPI commands tailored for the Supernova PIC18QF16Q20 board's SPI FLASH. Here are some examples:\n",
    "\n",
    "1. **Get JEDEC ID:**\n",
    "   - Execute the command to retrieve the JEDEC ID from the SPI FLASH.\n",
    "\n",
    "2. **Write Status Register-1:**\n",
    "   - Perform the command to write to Status Register-1.\n",
    "\n",
    "3. **Read Status Register-1:**\n",
    "   - Execute the command to read from Status Register-1.\n",
    "\n",
    "These commands will allow us to assess the SPI communication and validate the Supernova PIC18QF16Q20 board's interaction with the SPI FLASH."
   ]
  },
  {
   "cell_type": "markdown",
   "metadata": {},
   "source": [
    "To obtain the JEDEC ID, the SPI command 0x9F should be issued via SPI, followed by reading 3 bytes of data. To accomplish this, the write/read SPI command (0x60) for the PIC18QF16Q20 should be utilized, requiring the following data to be sent via I3C:\n",
    "\n",
    "- Command ID for the SPI write/read command (0x60)\n",
    "- Amount of data to read (0x03)\n",
    "- Data to write (the SPI command for getting JEDEC ID 0x9F)\n",
    "\n",
    "Similar to the I2C read transaction, once the data is retrieved via SPI, an IBI will be sent via I3C with the mandatory data byte (MDB) set to 0x00 and the 3 bytes of read data."
   ]
  },
  {
   "cell_type": "code",
   "execution_count": 41,
   "metadata": {},
   "outputs": [
    {
     "name": "stdout",
     "output_type": "stream",
     "text": [
      "Send:  [67, 0, 10, 0, 8, 25, 8, 16, 0, 0, 0, 0, 0, 3, 0, 96, 3, 159]\n",
      "Receive:  [10, 0, 8, 25, 0, 0, 8, 0, 0, 0]\n",
      ">> New message from SUPERNOVA:\n",
      "{'id': 10, 'command': 6408, 'name': 'I3C CONTROLLER PRIVATE TRANSFER', 'result': 'SUCCESS', 'payloadLength': 0, 'payload': []}\n"
     ]
    },
    {
     "name": "stdout",
     "output_type": "stream",
     "text": [
      "Receive:  [0, 0, 129, 25, 0, 0, 8, 2, 4, 0, 239, 64, 23, 0, 0, 0, 0]\n",
      ">> New message from SUPERNOVA:\n",
      "{'id': 0, 'command': 6529, 'name': 'I3C CONTROLLER IBI REQUEST NOTIFICATION', 'address': 8, 'response': 'IBI_ACKED_WITH_PAYLOAD', 'payloadLength': 4, 'payload': [0, 239, 64, 23]}\n"
     ]
    }
   ],
   "source": [
    "TARGET_ADDR     = 0x08\n",
    "MODE            = TransferMode.I3C_SDR\n",
    "REG_ADDR        = []\n",
    "DATA            = [0x60, 0x03, 0x9F]        # Python list of bytes. Maximum length of 1024 bytes.\n",
    "\n",
    "# API I3C Write\n",
    "request_result = supernova.i3cControllerWrite(getId(),\n",
    "                                    TARGET_ADDR,\n",
    "                                    MODE,\n",
    "                                    REG_ADDR,\n",
    "                                    DATA)"
   ]
  },
  {
   "cell_type": "markdown",
   "metadata": {},
   "source": [
    "To perform the Write Status Register-1 SPI command, we need to first enable write transactions by issuing the Write Enable command (0x06). The necessary data to be sent via I3C includes:\n",
    "\n",
    "- Command ID for the SPI write command (0x41)\n",
    "- Data to write (the SPI Write Enable command value 0x9F)\n",
    "\n",
    "\n"
   ]
  },
  {
   "cell_type": "code",
   "execution_count": 42,
   "metadata": {},
   "outputs": [
    {
     "name": "stdout",
     "output_type": "stream",
     "text": [
      "Send:  [63, 0, 11, 0, 8, 25, 8, 16, 0, 0, 0, 0, 0, 2, 0, 65, 6]\n",
      "Receive:  [11, 0, 8, 25, 0, 0, 8, 0, 0, 0]\n",
      ">> New message from SUPERNOVA:\n",
      "{'id': 11, 'command': 6408, 'name': 'I3C CONTROLLER PRIVATE TRANSFER', 'result': 'SUCCESS', 'payloadLength': 0, 'payload': []}\n"
     ]
    }
   ],
   "source": [
    "TARGET_ADDR     = 0x08\n",
    "MODE            = TransferMode.I3C_SDR\n",
    "REG_ADDR        = []\n",
    "DATA            = [0x41, 0x06]        # Python list of bytes. Maximum length of 1024 bytes.\n",
    "\n",
    "# API I3C Write\n",
    "request_result = supernova.i3cControllerWrite(getId(),\n",
    "                                    TARGET_ADDR,\n",
    "                                    MODE,\n",
    "                                    REG_ADDR,\n",
    "                                    DATA)"
   ]
  },
  {
   "cell_type": "markdown",
   "metadata": {},
   "source": [
    "To execute the Write Status Register-1 SPI command, the requisite data to be sent via I3C includes:\n",
    "\n",
    "- Command ID for the SPI write command (0x41)\n",
    "- Data to write\n",
    "    - Write Status Register-1 SPI command (0x01)\n",
    "    - Data to be written to the register (0x60)\n",
    "\n",
    "Configuring the Register-1 with the value 0x60 involves setting:\n",
    "\n",
    "\n",
    "\n",
    "![I2C_read](assets/Register.png)\n",
    "\n",
    "- SEC to 1: Block Protect Bits (BP2, BP1, BP0) protect 4KB Sectors.\n",
    "- TB to 1: Block Protect Bits (BP2, BP1, BP0) protect from the Bottom.\n",
    "\n",
    "\n",
    "\n",
    "\n"
   ]
  },
  {
   "cell_type": "code",
   "execution_count": 43,
   "metadata": {},
   "outputs": [
    {
     "name": "stdout",
     "output_type": "stream",
     "text": [
      "Send:  [67, 0, 12, 0, 8, 25, 8, 16, 0, 0, 0, 0, 0, 3, 0, 65, 1, 96]\n",
      "Receive:  [12, 0, 8, 25, 0, 0, 8, 0, 0, 0]\n",
      ">> New message from SUPERNOVA:\n",
      "{'id': 12, 'command': 6408, 'name': 'I3C CONTROLLER PRIVATE TRANSFER', 'result': 'SUCCESS', 'payloadLength': 0, 'payload': []}\n"
     ]
    }
   ],
   "source": [
    "TARGET_ADDR     = 0x08\n",
    "MODE            = TransferMode.I3C_SDR\n",
    "REG_ADDR        = []\n",
    "DATA            = [0x41, 0x01, 0x60]        # Python list of bytes. Maximum length of 1024 bytes.\n",
    "\n",
    "# API I3C Write\n",
    "request_result = supernova.i3cControllerWrite(getId(),\n",
    "                                    TARGET_ADDR,\n",
    "                                    MODE,\n",
    "                                    REG_ADDR,\n",
    "                                    DATA)"
   ]
  },
  {
   "cell_type": "markdown",
   "metadata": {},
   "source": [
    "To execute the Read Status Register-1 SPI command, the following I3C data must be transmitted:\n",
    "\n",
    "- Command ID for the SPI write/read command (0x60)\n",
    "- Amount of data to read (0x01 from the register) \n",
    "- Data to write (SPI command for reading the Status Register-1, 0x05)\n",
    "\n",
    "Similar to the previous transactions, the data from the Status Register-1 value is transmitted via IBI on the I3C bus. As configured earlier, the expected value should be 0x60."
   ]
  },
  {
   "cell_type": "code",
   "execution_count": 44,
   "metadata": {},
   "outputs": [
    {
     "name": "stdout",
     "output_type": "stream",
     "text": [
      "Send:  [67, 0, 13, 0, 8, 25, 8, 16, 0, 0, 0, 0, 0, 3, 0, 96, 1, 5]\n",
      "Receive:  [13, 0, 8, 25, 0, 0, 8, 0, 0, 0]\n",
      ">> New message from SUPERNOVA:\n",
      "{'id': 13, 'command': 6408, 'name': 'I3C CONTROLLER PRIVATE TRANSFER', 'result': 'SUCCESS', 'payloadLength': 0, 'payload': []}\n"
     ]
    },
    {
     "name": "stdout",
     "output_type": "stream",
     "text": [
      "Receive:  [0, 0, 129, 25, 0, 0, 8, 2, 2, 0, 96, 0, 0, 0, 0, 0, 0]\n",
      ">> New message from SUPERNOVA:\n",
      "{'id': 0, 'command': 6529, 'name': 'I3C CONTROLLER IBI REQUEST NOTIFICATION', 'address': 8, 'response': 'IBI_ACKED_WITH_PAYLOAD', 'payloadLength': 2, 'payload': [0, 96]}\n"
     ]
    }
   ],
   "source": [
    "TARGET_ADDR     = 0x08\n",
    "MODE            = TransferMode.I3C_SDR\n",
    "REG_ADDR        = []\n",
    "DATA            = [0x60, 0x01, 0x05]        # Python list of bytes. Maximum length of 1024 bytes.\n",
    "\n",
    "# API I3C Write\n",
    "request_result = supernova.i3cControllerWrite(getId(),\n",
    "                                    TARGET_ADDR,\n",
    "                                    MODE,\n",
    "                                    REG_ADDR,\n",
    "                                    DATA)"
   ]
  },
  {
   "cell_type": "code",
   "execution_count": 45,
   "metadata": {},
   "outputs": [
    {
     "data": {
      "text/plain": [
       "{'module': 0, 'opcode': 0, 'message': 'Communication closed successfully.'}"
      ]
     },
     "execution_count": 45,
     "metadata": {},
     "output_type": "execute_result"
    }
   ],
   "source": [
    "supernova.close()"
   ]
  },
  {
   "cell_type": "code",
   "execution_count": null,
   "metadata": {},
   "outputs": [],
   "source": []
  }
 ],
 "metadata": {
  "kernelspec": {
   "display_name": "Python 3",
   "language": "python",
   "name": "python3"
  },
  "language_info": {
   "codemirror_mode": {
    "name": "ipython",
    "version": 3
   },
   "file_extension": ".py",
   "mimetype": "text/x-python",
   "name": "python",
   "nbconvert_exporter": "python",
   "pygments_lexer": "ipython3",
   "version": "3.11.1"
  },
  "orig_nbformat": 4
 },
 "nbformat": 4,
 "nbformat_minor": 2
}
