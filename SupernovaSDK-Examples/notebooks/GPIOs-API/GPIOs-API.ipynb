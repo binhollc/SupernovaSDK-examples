{
 "cells": [
  {
   "cell_type": "code",
   "execution_count": 1,
   "metadata": {},
   "outputs": [],
   "source": [
    "# Import Python package\n",
    "import binhosupernova\n",
    "from binhosupernova.supernova import Supernova\n",
    "from binhosupernova.commands.gpio.definitions import *\n",
    "from binhosupernova.commands.system.definitions import *"
   ]
  },
  {
   "cell_type": "markdown",
   "metadata": {},
   "source": [
    "## Getting started"
   ]
  },
  {
   "attachments": {},
   "cell_type": "markdown",
   "metadata": {},
   "source": [
    "#### 1. List all the Supernova devices connected to the PC host\n",
    "\n",
    "The ``binhosupernova.getConnectedSupernovaDevicesList()`` gets a list of the Supernova devices plugged into the host PC machine."
   ]
  },
  {
   "cell_type": "code",
   "execution_count": 2,
   "metadata": {},
   "outputs": [
    {
     "data": {
      "text/plain": [
       "[{'path': '\\\\\\\\?\\\\HID#VID_1FC9&PID_82FC#7&9e2d326&0&0000#{4d1e55b2-f16f-11cf-88cb-001111000030}',\n",
       "  'vendor_id': '0x1fc9',\n",
       "  'product_id': '0x82fc',\n",
       "  'serial_number': '5F4BCE79166A34559DF3081DF5A8769D',\n",
       "  'manufacturer_string': 'Binho LLC',\n",
       "  'product_string': 'Binho Supernova',\n",
       "  'hardware_version': 'C',\n",
       "  'firmware_version': '4.1.2'}]"
      ]
     },
     "execution_count": 2,
     "metadata": {},
     "output_type": "execute_result"
    }
   ],
   "source": [
    "binhosupernova.getConnectedSupernovaDevicesList()"
   ]
  },
  {
   "attachments": {},
   "cell_type": "markdown",
   "metadata": {},
   "source": [
    "#### 2. Create an instance of the Supernova class\n",
    "\n",
    "To utilize a Supernova USB host adapter device, we need to create an instance of the Supernova class."
   ]
  },
  {
   "cell_type": "code",
   "execution_count": 3,
   "metadata": {},
   "outputs": [],
   "source": [
    "# Create a device instance. One instance of the Supernova class represents a Supernova USB host adapter device.\n",
    "supernova = Supernova()"
   ]
  },
  {
   "cell_type": "markdown",
   "metadata": {},
   "source": [
    "#### 3. Open connection to the Supernova device\n",
    "\n",
    "The public method ``Supernova.open()`` establishes the connection with a Supernova device. Below is the complete signature:\n",
    "\n",
    "```python\n",
    "open(serial, path)\n",
    "```\n",
    "\n",
    "- ``serial: str``: The Supernova serial number.\n",
    "- ``path: str``: The OS HID path assigned to the device. This can be obtained using the ``binhosupernova.getConnectedSupernovaDevicesList()`` method. The ``path`` parameter is currently the only way to uniquely identify each Supernova device. Therefore, it is recommended to use the ``path`` parameter, especially when opening connections with more than one Supernova device simultaneously."
   ]
  },
  {
   "cell_type": "code",
   "execution_count": 4,
   "metadata": {},
   "outputs": [
    {
     "data": {
      "text/plain": [
       "{'module': 0,\n",
       " 'opcode': 0,\n",
       " 'message': 'Connection with Supernova device opened successfully.'}"
      ]
     },
     "execution_count": 4,
     "metadata": {},
     "output_type": "execute_result"
    }
   ],
   "source": [
    "# Use the method by default to connect to only one Supernova device.\n",
    "supernova.open()\n",
    "\n",
    "# Otherwise, use the path attribute to identify each Supernova device. Uncomment the line below and comment the line #2.\n",
    "# supernova.open(path='\\\\\\\\?\\\\HID#VID_1FC9&PID_82FC#6&48d9417&0&0000#{4d1e55b2-f16f-11cf-88cb-001111000030}')"
   ]
  },
  {
   "cell_type": "markdown",
   "metadata": {},
   "source": [
    "#### 4. Define and register a callback to handle responses and notifications from Supernova\n",
    "\n",
    "To handle responses and notifications from Supernova, a callback function must be defined and registered. This function will be invoked every time the Supernova sends a response to a request, an asynchronous notification, or a message from the system.\n",
    "\n",
    "The callback function's signature is as follows: \n",
    "\n",
    "``def callback_function_name(supernova_message: dict, system_message: dict) -> None:``\n",
    "\n",
    "Once the callback function is defined, it should be registered using the ``Supernova.onEvent(callback_function)`` method."
   ]
  },
  {
   "cell_type": "code",
   "execution_count": 5,
   "metadata": {},
   "outputs": [],
   "source": [
    "# Define callback function\n",
    "def callback_function(supernova_message: dict, system_message: dict) -> None:\n",
    "\n",
    "    if supernova_message != None:\n",
    "\n",
    "        # Print mesasage\n",
    "        print(\">> New message from SUPERNOVA:\")\n",
    "        print(supernova_message)\n",
    "\n",
    "    if system_message != None:\n",
    "\n",
    "        # Print message\n",
    "        print(\">> New message from the SYSTEM:\")\n",
    "        print(system_message)"
   ]
  },
  {
   "cell_type": "code",
   "execution_count": 6,
   "metadata": {},
   "outputs": [
    {
     "data": {
      "text/plain": [
       "{'module': 0,\n",
       " 'opcode': 0,\n",
       " 'message': 'On event callback function registered successfully.'}"
      ]
     },
     "execution_count": 6,
     "metadata": {},
     "output_type": "execute_result"
    }
   ],
   "source": [
    "# Register callback function\n",
    "supernova.onEvent(callback_function)"
   ]
  },
  {
   "attachments": {},
   "cell_type": "markdown",
   "metadata": {},
   "source": [
    "#### 5. Define a function to generate transaction IDs\n",
    "\n",
    "All the request messages sent to the Supernova from the USB Host application must include the transaction or request ID. The ID is a 2-byte integer with an allowed range of ``[1, 65535]``.\n",
    "\n",
    "In this example, a dummy function called ``getId()`` is defined to increment a transaction counter used as the ID."
   ]
  },
  {
   "cell_type": "code",
   "execution_count": 7,
   "metadata": {},
   "outputs": [],
   "source": [
    "#Auxiliar code to generate IDs.\n",
    "\n",
    "counter_id = 0\n",
    "\n",
    "def getId():\n",
    "    global counter_id\n",
    "    counter_id = counter_id + 1\n",
    "    return counter_id"
   ]
  },
  {
   "attachments": {},
   "cell_type": "markdown",
   "metadata": {},
   "source": [
    "#### 6. Test communication with a basic command such as ``GET USB STRING``\n",
    "\n",
    "The ``GET USB STRING`` command allows you to retrieve various string values related to the product, such as the manufacturer, product name, serial number, firmware version, and hardware version. This command serves as a basic test to verify the communication and functionality with the Supernova device. By successfully receiving the expected string values, you can ensure that the communication between the PC host and the Supernova device is functioning as expected."
   ]
  },
  {
   "cell_type": "code",
   "execution_count": 8,
   "metadata": {},
   "outputs": [
    {
     "name": "stdout",
     "output_type": "stream",
     "text": [
      ">> New message from SUPERNOVA:\n",
      "{'id': 1, 'command': 'SYS GET USB STRING', 'result': 'SUCCESS', 'payload_length': 12, 'payload': 'MN-Binho LLC'}\n",
      ">> New message from SUPERNOVA:\n",
      "{'id': 2, 'command': 'SYS GET USB STRING', 'result': 'SUCCESS', 'payload_length': 18, 'payload': 'PR-Binho Supernova'}\n",
      ">> New message from SUPERNOVA:\n",
      "{'id': 3, 'command': 'SYS GET USB STRING', 'result': 'SUCCESS', 'payload_length': 35, 'payload': 'SN-5F4BCE79166A34559DF3081DF5A8769D'}\n",
      ">> New message from SUPERNOVA:\n",
      "{'id': 4, 'command': 'SYS GET USB STRING', 'result': 'SUCCESS', 'payload_length': 8, 'payload': 'FW-4.1.2'}\n",
      ">> New message from SUPERNOVA:\n",
      "{'id': 5, 'command': 'SYS GET USB STRING', 'result': 'SUCCESS', 'payload_length': 4, 'payload': 'HW-C'}\n"
     ]
    }
   ],
   "source": [
    "# GET USB STRING - Get Manufacturer\n",
    "request_result = supernova.getUsbString(getId(), GetUsbStringSubCommand.MANUFACTURER)\n",
    "\n",
    "# GET USB STRING  - Get Product Name\n",
    "request_result = supernova.getUsbString(getId(), GetUsbStringSubCommand.PRODUCT_NAME)\n",
    "\n",
    "# GET USB STRING  - Get Serial Number\n",
    "request_result = supernova.getUsbString(getId(), GetUsbStringSubCommand.SERIAL_NUMBER)\n",
    "\n",
    "# GET USB STRING  - Firmware Version\n",
    "request_result = supernova.getUsbString(getId(), GetUsbStringSubCommand.FW_VERSION)\n",
    "\n",
    "# GET USB STRING  - Hardware Version\n",
    "request_result = supernova.getUsbString(getId(), GetUsbStringSubCommand.HW_VERSION)"
   ]
  },
  {
   "cell_type": "markdown",
   "metadata": {},
   "source": [
    "#### 7. Set the voltage of the GPIO pins\n",
    "\n",
    "For the Rev. B Supernova device use the ``setI3cVoltage`` function to set the voltage of GPIO pin 1 and 2, the rest of the GPIOs work on 3.3V.\n"
   ]
  },
  {
   "cell_type": "code",
   "execution_count": 9,
   "metadata": {},
   "outputs": [
    {
     "name": "stdout",
     "output_type": "stream",
     "text": [
      ">> New message from SUPERNOVA:\n",
      "{'id': 6, 'command': 'SYS SET I3C VOLTAGE', 'result': 'SUCCESS'}\n"
     ]
    }
   ],
   "source": [
    "request_result = supernova.setI3cVoltage(getId(), 1800)"
   ]
  },
  {
   "cell_type": "markdown",
   "metadata": {},
   "source": [
    "For the Rev. C Supernova device use the ``setI2cSpiUartGpioVoltage`` function to set the voltage of all the GPIO pins.\n",
    "\n",
    "``Supernova.setI2cSpiUartGpioVoltage(id, voltage_mV)``\n",
    "\n",
    "This method supplies the indicated voltage to the bus in mV, ranging from 1200 mV up to 3300 mV. It also allows setting the value 0 mV to power off the output voltage.\n",
    "\n",
    "- ``id: int`` : A 2-byte integer that represents the transfer ID.\n",
    "- ``voltage_mV: c_int16 ``: The voltage parameter is a 2-byte integer in the range [1200, 3300] mV and allows the value 0 mV to power off the output voltage."
   ]
  },
  {
   "cell_type": "code",
   "execution_count": 10,
   "metadata": {},
   "outputs": [
    {
     "name": "stdout",
     "output_type": "stream",
     "text": [
      ">> New message from SUPERNOVA:\n",
      "{'id': 7, 'command': 'SYS SET I2C SPI UART GPIO VOLTAGE', 'result': 'SUCCESS'}\n"
     ]
    }
   ],
   "source": [
    "request_result = supernova.setI2cSpiUartGpioVoltage(getId(), 1800)"
   ]
  },
  {
   "cell_type": "markdown",
   "metadata": {},
   "source": [
    "## GPIO API\n",
    "\n",
    "To perform the GPIO test:\n",
    "\n",
    "**Connection Setup:**\n",
    "   - Physically connect the GPIO 5 pin to the GPIO 6 pin on your device."
   ]
  },
  {
   "cell_type": "markdown",
   "metadata": {},
   "source": [
    "**1. Configure GPIO:**\n",
    "\n",
    "When configuring a GPIO pin, consider the following configurable parameters:\n",
    "\n",
    "* _Pin Number:_  \n",
    "   - Defines the GPIO pin to configure.  \n",
    "\n",
    "* _functionality:_ \n",
    "   - Specifies the desired functionality to be configured.  \n",
    "\n",
    "For this case we are configuring GPIO 6 as a Digital Output:"
   ]
  },
  {
   "cell_type": "code",
   "execution_count": 11,
   "metadata": {},
   "outputs": [
    {
     "name": "stdout",
     "output_type": "stream",
     "text": [
      ">> New message from SUPERNOVA:\n",
      "{'id': 8, 'command': 'GPIO CONFIGURE PIN', 'result': 'SUCCESS'}\n"
     ]
    }
   ],
   "source": [
    "request_result = supernova.gpioConfigurePin(getId(), pinNumber = GpioPinNumber.GPIO_6, functionality = GpioFunctionality.DIGITAL_OUTPUT)\n"
   ]
  },
  {
   "cell_type": "markdown",
   "metadata": {},
   "source": [
    "And GPIO 5 as a Digital Input:"
   ]
  },
  {
   "cell_type": "code",
   "execution_count": 12,
   "metadata": {},
   "outputs": [
    {
     "name": "stdout",
     "output_type": "stream",
     "text": [
      ">> New message from SUPERNOVA:\n",
      "{'id': 9, 'command': 'GPIO CONFIGURE PIN', 'result': 'SUCCESS'}\n"
     ]
    }
   ],
   "source": [
    "request_result = supernova.gpioConfigurePin(getId(), pinNumber = GpioPinNumber.GPIO_5, functionality = GpioFunctionality.DIGITAL_INPUT)\n"
   ]
  },
  {
   "cell_type": "markdown",
   "metadata": {},
   "source": [
    "**GPIO Digital Write:**\n",
    "\n",
    "To perform a Digital Write for a Digital Output pin we need:\n",
    "\n",
    "* _Pin Number:_  \n",
    "   - Defines the GPIO pin to write to.  \n",
    "\n",
    "* _Logic Level:_ \n",
    "   - Specifies the desired logic level to be written.  \n",
    "\n",
    "Since the GPIO 6 was configured as a Digital Output, we can write any logic level we desire."
   ]
  },
  {
   "cell_type": "code",
   "execution_count": 13,
   "metadata": {},
   "outputs": [
    {
     "name": "stdout",
     "output_type": "stream",
     "text": [
      ">> New message from SUPERNOVA:\n",
      "{'id': 10, 'command': 'GPIO DIGITAL WRITE', 'result': 'SUCCESS'}\n"
     ]
    }
   ],
   "source": [
    "request_result = supernova.gpioDigitalWrite(getId(), pinNumber = GpioPinNumber.GPIO_6, logicLevel = GpioLogicLevel.HIGH)"
   ]
  },
  {
   "cell_type": "markdown",
   "metadata": {},
   "source": [
    "**GPIO Digital Read:**\n",
    "\n",
    "To perform a Digital Read for a Digital Input pin we need:\n",
    "\n",
    "* _Pin Number:_  \n",
    "   - Defines the GPIO pin to read from.  \n",
    "\n",
    "This function will return the read logic level by the specified GPIO pin.\n",
    "\n",
    "Since the GPIO 5 was configured as a Digital Input, we can read the pin logic level. Also, the GPIO_5 and GPIO_6 are connected, the read value must be the configured before."
   ]
  },
  {
   "cell_type": "code",
   "execution_count": 14,
   "metadata": {},
   "outputs": [
    {
     "name": "stdout",
     "output_type": "stream",
     "text": [
      ">> New message from SUPERNOVA:\n",
      "{'id': 11, 'command': 'GPIO DIGITAL READ', 'result': 'SUCCESS', 'logic_level': 'HIGH'}\n"
     ]
    }
   ],
   "source": [
    "request_result = supernova.gpioDigitalRead(getId(), pinNumber = GpioPinNumber.GPIO_5)"
   ]
  },
  {
   "cell_type": "markdown",
   "metadata": {},
   "source": [
    "**GPIO Set Interrupts:**\n",
    "\n",
    "GPIO pins configured as a Digital Input can have interruptions attached, to configure the interruption we need:\n",
    "To perform a Digital Read for a Digital Input pin we need:\n",
    "\n",
    "* _Pin Number:_  \n",
    "   - Defines the GPIO pin to set an interruption to.  \n",
    "\n",
    "* _Trigger:_  \n",
    "   - Defines the condition to match for an interruption to be triggered.  \n",
    "\n",
    "Since the GPIO 5 was configured as a Digital Input, we can set an interruption to it. In this case the trigger used is for both rising and falling edges, so both of them will trigger a notification back. "
   ]
  },
  {
   "cell_type": "code",
   "execution_count": 15,
   "metadata": {},
   "outputs": [
    {
     "name": "stdout",
     "output_type": "stream",
     "text": [
      ">> New message from SUPERNOVA:\n",
      "{'id': 12, 'command': 'GPIO SET INTERRUPT', 'result': 'SUCCESS'}\n"
     ]
    }
   ],
   "source": [
    "request_result = supernova.gpioSetInterrupt(getId(), pinNumber = GpioPinNumber.GPIO_5, trigger= GpioTriggerType.TRIGGER_BOTH_EDGES)"
   ]
  },
  {
   "cell_type": "markdown",
   "metadata": {},
   "source": [
    "To test this, we can change the value of the GPIO 6 pin, to generate rising and falling edges. A notification from the Supernova will appear after each change in logic level."
   ]
  },
  {
   "cell_type": "code",
   "execution_count": 16,
   "metadata": {},
   "outputs": [
    {
     "name": "stdout",
     "output_type": "stream",
     "text": [
      ">> New message from SUPERNOVA:\n",
      "{'id': 13, 'command': 'GPIO DIGITAL WRITE', 'result': 'SUCCESS'}\n"
     ]
    },
    {
     "name": "stdout",
     "output_type": "stream",
     "text": [
      ">> New message from SUPERNOVA:\n",
      "{'id': 0, 'command': 'GPIO INTERRUPT NOTIFICATION', 'result': 'SUCCESS', 'pin_number': 'GPIO_5'}\n"
     ]
    }
   ],
   "source": [
    "request_result = supernova.gpioDigitalWrite(getId(), pinNumber = GpioPinNumber.GPIO_6, logicLevel = GpioLogicLevel.LOW)"
   ]
  },
  {
   "cell_type": "code",
   "execution_count": 17,
   "metadata": {},
   "outputs": [
    {
     "name": "stdout",
     "output_type": "stream",
     "text": [
      ">> New message from SUPERNOVA:\n",
      "{'id': 14, 'command': 'GPIO DIGITAL WRITE', 'result': 'SUCCESS'}\n"
     ]
    },
    {
     "name": "stdout",
     "output_type": "stream",
     "text": [
      ">> New message from SUPERNOVA:\n",
      "{'id': 0, 'command': 'GPIO INTERRUPT NOTIFICATION', 'result': 'SUCCESS', 'pin_number': 'GPIO_5'}\n"
     ]
    }
   ],
   "source": [
    "request_result = supernova.gpioDigitalWrite(getId(), pinNumber = GpioPinNumber.GPIO_6, logicLevel = GpioLogicLevel.HIGH)"
   ]
  },
  {
   "cell_type": "markdown",
   "metadata": {},
   "source": [
    "**GPIO Disable Interrupts:**\n",
    "\n",
    "To stop the interruptions from a specified GPIO pin we need:\n",
    "\n",
    "* _Pin Number:_  \n",
    "   - Defines the GPIO pin to disable interrupts.   "
   ]
  },
  {
   "cell_type": "code",
   "execution_count": 18,
   "metadata": {},
   "outputs": [
    {
     "name": "stdout",
     "output_type": "stream",
     "text": [
      ">> New message from SUPERNOVA:"
     ]
    },
    {
     "name": "stdout",
     "output_type": "stream",
     "text": [
      "\n",
      "{'id': 15, 'command': 'GPIO DISABLE INTERRUPT', 'result': 'SUCCESS'}\n"
     ]
    }
   ],
   "source": [
    "request_result = supernova.gpioDisableInterrupt(getId(), pinNumber = GpioPinNumber.GPIO_5)"
   ]
  },
  {
   "cell_type": "markdown",
   "metadata": {},
   "source": [
    "After disabling the interruptions, a change of logic level will not generate a notification."
   ]
  },
  {
   "cell_type": "code",
   "execution_count": 19,
   "metadata": {},
   "outputs": [
    {
     "name": "stdout",
     "output_type": "stream",
     "text": [
      ">> New message from SUPERNOVA:\n",
      "{'id': 16, 'command': 'GPIO DIGITAL WRITE', 'result': 'SUCCESS'}\n"
     ]
    }
   ],
   "source": [
    "request_result = supernova.gpioDigitalWrite(getId(), pinNumber = GpioPinNumber.GPIO_6, logicLevel = GpioLogicLevel.LOW)"
   ]
  },
  {
   "cell_type": "code",
   "execution_count": 20,
   "metadata": {},
   "outputs": [
    {
     "name": "stdout",
     "output_type": "stream",
     "text": [
      ">> New message from SUPERNOVA:\n",
      "{'id': 17, 'command': 'GPIO DIGITAL WRITE', 'result': 'SUCCESS'}\n"
     ]
    }
   ],
   "source": [
    "request_result = supernova.gpioDigitalWrite(getId(), pinNumber = GpioPinNumber.GPIO_6, logicLevel = GpioLogicLevel.HIGH)"
   ]
  },
  {
   "cell_type": "markdown",
   "metadata": {},
   "source": [
    "## Close communication\n",
    "\n",
    "Use the ``Supernova.close()`` method to end the communication with the Supernova device and release the used memory in the background like threads and so on."
   ]
  },
  {
   "cell_type": "code",
   "execution_count": 21,
   "metadata": {},
   "outputs": [
    {
     "data": {
      "text/plain": [
       "{'module': 0, 'opcode': 0, 'message': 'Communication closed successfully.'}"
      ]
     },
     "execution_count": 21,
     "metadata": {},
     "output_type": "execute_result"
    }
   ],
   "source": [
    "# Close the communication with the Supernova device.\n",
    "supernova.close()"
   ]
  },
  {
   "cell_type": "code",
   "execution_count": null,
   "metadata": {},
   "outputs": [],
   "source": []
  }
 ],
 "metadata": {
  "kernelspec": {
   "display_name": "Python 3",
   "language": "python",
   "name": "python3"
  },
  "language_info": {
   "codemirror_mode": {
    "name": "ipython",
    "version": 3
   },
   "file_extension": ".py",
   "mimetype": "text/x-python",
   "name": "python",
   "nbconvert_exporter": "python",
   "pygments_lexer": "ipython3",
   "version": "3.11.9"
  },
  "orig_nbformat": 4
 },
 "nbformat": 4,
 "nbformat_minor": 2
}
