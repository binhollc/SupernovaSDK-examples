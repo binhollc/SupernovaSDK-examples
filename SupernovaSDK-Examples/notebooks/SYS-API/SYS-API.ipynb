{
 "cells": [
  {
   "cell_type": "code",
   "execution_count": 1,
   "metadata": {},
   "outputs": [],
   "source": [
    "# Import Python package\n",
    "import BinhoSupernova\n",
    "from BinhoSupernova.Supernova import Supernova\n",
    "from BinhoSupernova.commands.system.definitions import GetUsbStringSubCommand"
   ]
  },
  {
   "cell_type": "markdown",
   "metadata": {},
   "source": [
    "## Getting started"
   ]
  },
  {
   "attachments": {},
   "cell_type": "markdown",
   "metadata": {},
   "source": [
    "#### 1. List all the Supernova devices connected to the PC host\n",
    "\n",
    "The ``BinhoSupernova.getConnectedSupernovaDevicesList()`` gets a list of the Supernova devices plugged into the host PC machine."
   ]
  },
  {
   "cell_type": "code",
   "execution_count": 2,
   "metadata": {},
   "outputs": [
    {
     "data": {
      "text/plain": [
       "[{'path': '\\\\\\\\?\\\\HID#VID_1FC9&PID_82FC#7&8ada5c5&1&0000#{4d1e55b2-f16f-11cf-88cb-001111000030}',\n",
       "  'vendor_id': '0x1fc9',\n",
       "  'product_id': '0x82fc',\n",
       "  'serial_number': '12B24708C123895DB326EDA7E1FBA6D',\n",
       "  'release_number': 256,\n",
       "  'manufacturer_string': 'Binho LLC',\n",
       "  'product_string': 'Binho Supernova',\n",
       "  'usage_page': 65280,\n",
       "  'usage': 1,\n",
       "  'interface_number': 0}]"
      ]
     },
     "execution_count": 2,
     "metadata": {},
     "output_type": "execute_result"
    }
   ],
   "source": [
    "BinhoSupernova.getConnectedSupernovaDevicesList()"
   ]
  },
  {
   "attachments": {},
   "cell_type": "markdown",
   "metadata": {},
   "source": [
    "#### 2. Create an instance of the Supernova class\n",
    "\n",
    "To utilize a Supernova USB host adapter device, we need to create an instance of the Supernova class."
   ]
  },
  {
   "cell_type": "code",
   "execution_count": 3,
   "metadata": {},
   "outputs": [],
   "source": [
    "# Create a device instance. One instance of the Supernova class represents a Supernova USB host adapter device.\n",
    "supernova = Supernova()"
   ]
  },
  {
   "cell_type": "markdown",
   "metadata": {},
   "source": [
    "#### 3. Open connection to the Supernova device\n",
    "\n",
    "The public method ``Supernova.open()`` establishes the connection with a Supernova device. Below is the complete signature:\n",
    "\n",
    "```python\n",
    "open(serial, path)\n",
    "```\n",
    "\n",
    "- ``serial: str``: The Supernova serial number.\n",
    "- ``path: str``: The OS HID path assigned to the device. This can be obtained using the ``BinhoSupernova.getConnectedSupernovaDevicesList()`` method. The ``path`` parameter is currently the only way to uniquely identify each Supernova device. Therefore, it is recommended to use the ``path`` parameter, especially when opening connections with more than one Supernova device simultaneously."
   ]
  },
  {
   "cell_type": "code",
   "execution_count": 4,
   "metadata": {},
   "outputs": [
    {
     "data": {
      "text/plain": [
       "{'module': 0,\n",
       " 'opcode': 0,\n",
       " 'message': 'Connection with Supernova device opened successfully.'}"
      ]
     },
     "execution_count": 4,
     "metadata": {},
     "output_type": "execute_result"
    }
   ],
   "source": [
    "# Use the method by default to connect to only one Supernova device.\n",
    "supernova.open()\n",
    "\n",
    "# Otherwise, use the path attribute to identify each Supernova device. Uncomment the line below and comment the line #2.\n",
    "# supernova.open(path='\\\\\\\\?\\\\HID#VID_1FC9&PID_82FC#6&48d9417&0&0000#{4d1e55b2-f16f-11cf-88cb-001111000030}')"
   ]
  },
  {
   "cell_type": "markdown",
   "metadata": {},
   "source": [
    "#### 4. Define and register a callback to handle responses and notifications from Supernova\n",
    "\n",
    "To handle responses and notifications from Supernova, a callback function must be defined and registered. This function will be invoked every time the Supernova sends a response to a request, an asynchronous notification, or a message from the system.\n",
    "\n",
    "The callback function's signature is as follows: \n",
    "\n",
    "``def callback_function_name(supernova_message: dict, system_message: dict) -> None:``\n",
    "\n",
    "Once the callback function is defined, it should be registered using the ``Supernova.onEvent(callback_function)`` method."
   ]
  },
  {
   "cell_type": "code",
   "execution_count": 5,
   "metadata": {},
   "outputs": [],
   "source": [
    "# Define callback function\n",
    "def callback_function(supernova_message: dict, system_message: dict) -> None:\n",
    "\n",
    "    if supernova_message != None:\n",
    "\n",
    "        # Print mesasage\n",
    "        print(\">> New message from SUPERNOVA:\")\n",
    "        print(supernova_message)\n",
    "\n",
    "    if system_message != None:\n",
    "\n",
    "        # Print message\n",
    "        print(\">> New message from the SYSTEM:\")\n",
    "        print(system_message)"
   ]
  },
  {
   "cell_type": "code",
   "execution_count": 6,
   "metadata": {},
   "outputs": [
    {
     "data": {
      "text/plain": [
       "{'module': 0,\n",
       " 'opcode': 0,\n",
       " 'message': 'On event callback function registered successfully.'}"
      ]
     },
     "execution_count": 6,
     "metadata": {},
     "output_type": "execute_result"
    }
   ],
   "source": [
    "# Register callback function\n",
    "supernova.onEvent(callback_function)"
   ]
  },
  {
   "attachments": {},
   "cell_type": "markdown",
   "metadata": {},
   "source": [
    "#### 5. Define a function to generate transaction IDs\n",
    "\n",
    "All the request messages sent to the Supernova from the USB Host application must include the transaction or request ID. The ID is a 2-byte integer with an allowed range of ``[1, 65535]``.\n",
    "\n",
    "In this example, a dummy function called ``getId()`` is defined to increment a transaction counter used as the ID."
   ]
  },
  {
   "cell_type": "code",
   "execution_count": 7,
   "metadata": {},
   "outputs": [],
   "source": [
    "#Auxiliar code to generate IDs.\n",
    "\n",
    "counter_id = 0\n",
    "\n",
    "def getId():\n",
    "    global counter_id\n",
    "    counter_id = counter_id + 1\n",
    "    return counter_id"
   ]
  },
  {
   "cell_type": "markdown",
   "metadata": {},
   "source": [
    "## System API"
   ]
  },
  {
   "cell_type": "markdown",
   "metadata": {},
   "source": [
    "``Supernova.resetDevice(id)``\n",
    "\n",
    "This method resets the Supernova. As a result an `UsbDisconnectionError Exception` will be raised when the devices is reset. \n",
    "\n",
    "- ``id: int`` : A 2-byte integer that represents the transfer ID.\n"
   ]
  },
  {
   "cell_type": "code",
   "execution_count": null,
   "metadata": {},
   "outputs": [],
   "source": [
    "supernova.resetDevice(getId())"
   ]
  },
  {
   "cell_type": "markdown",
   "metadata": {},
   "source": [
    "``Supernova.enterBootMode(id)``\n",
    "\n",
    "This method makes the Supernova jump to the USB bootloader. As a result an `UsbDisconnectionError Exception` will be raised when the devices is reset and then a new USB mass storage device should be enumerated by the OS whose name should be **SUPERNOVA**. \n",
    "\n",
    "- ``id: int`` : A 2-byte integer that represents the transfer ID.\n"
   ]
  },
  {
   "cell_type": "code",
   "execution_count": null,
   "metadata": {},
   "outputs": [],
   "source": [
    "supernova.enterBootMode(getId())"
   ]
  },
  {
   "attachments": {},
   "cell_type": "markdown",
   "metadata": {},
   "source": [
    "``Supernova.getUsbString(id, subCommand)``\n",
    "\n",
    "The ``GET USB STRING`` command allows you to retrieve various string values related to the product, such as the manufacturer, product name, serial number, firmware version, and hardware version. This command serves as a basic test to verify the communication and functionality with the Supernova device. By successfully receiving the expected string values, you can ensure that the communication between the PC host and the Supernova device is functioning as expected.\n",
    "\n",
    "- ``id: int`` : A 2-byte integer that represents the transfer ID.\n",
    "- ``subCommand: GetUsbStringSubCommand``: The subcommand parameter indicates which string must be returned by the device."
   ]
  },
  {
   "cell_type": "code",
   "execution_count": 8,
   "metadata": {},
   "outputs": [
    {
     "name": "stdout",
     "output_type": "stream",
     "text": [
      ">> New message from SUPERNOVA:\n",
      "{'id': 1, 'command': 'SYS GET USB STRING', 'result': 'SUCCESS', 'payload_length': 12, 'payload': 'MN-Binho LLC'}\n",
      ">> New message from SUPERNOVA:\n",
      "{'id': 2, 'command': 'SYS GET USB STRING', 'result': 'SUCCESS', 'payload_length': 18, 'payload': 'PR-Binho Supernova'}\n",
      ">> New message from SUPERNOVA:\n",
      "{'id': 3, 'command': 'SYS GET USB STRING', 'result': 'SUCCESS', 'payload_length': 35, 'payload': 'SN-12B24708C123895DB326EDA7E1FBA6D6'}\n",
      ">> New message from SUPERNOVA:\n",
      "{'id': 4, 'command': 'SYS GET USB STRING', 'result': 'SUCCESS', 'payload_length': 20, 'payload': 'FW-3.2.0-275-1e81ddc'}\n",
      ">> New message from SUPERNOVA:\n",
      "{'id': 5, 'command': 'SYS GET USB STRING', 'result': 'SUCCESS', 'payload_length': 4, 'payload': 'HW-C'}\n"
     ]
    }
   ],
   "source": [
    "# GET USB STRING - Get Manufacturer\n",
    "request_result = supernova.getUsbString(getId(), GetUsbStringSubCommand.MANUFACTURER)\n",
    "\n",
    "# GET USB STRING  - Get Product Name\n",
    "request_result = supernova.getUsbString(getId(), GetUsbStringSubCommand.PRODUCT_NAME)\n",
    "\n",
    "# GET USB STRING  - Get Serial Number\n",
    "request_result = supernova.getUsbString(getId(), GetUsbStringSubCommand.SERIAL_NUMBER)\n",
    "\n",
    "# GET USB STRING  - Firmware Version\n",
    "request_result = supernova.getUsbString(getId(), GetUsbStringSubCommand.FW_VERSION)\n",
    "\n",
    "# GET USB STRING  - Hardware Version\n",
    "request_result = supernova.getUsbString(getId(), GetUsbStringSubCommand.HW_VERSION)"
   ]
  },
  {
   "cell_type": "markdown",
   "metadata": {},
   "source": [
    "``Supernova.setI3cVoltage(id, voltage_mV)``\n",
    "\n",
    "This method supplies the indicated voltage to the I3C bus in mV, ranging from 800 mV up to 3300 mV. It also allows setting the value 0 mV to power off the output voltage.\n",
    "\n",
    "- ``id: int`` : A 2-byte integer that represents the transfer ID.\n",
    "- ``voltage_mV: c_int16 ``: The voltage parameter is a 2-byte integer in the range [800, 3300] mV and allows the value 0 mV to power off the output voltage."
   ]
  },
  {
   "cell_type": "code",
   "execution_count": 9,
   "metadata": {},
   "outputs": [
    {
     "data": {
      "text/plain": [
       "{'module': 1, 'opcode': 0, 'message': 'SET I3C VOLTAGE request success'}"
      ]
     },
     "execution_count": 9,
     "metadata": {},
     "output_type": "execute_result"
    },
    {
     "name": "stdout",
     "output_type": "stream",
     "text": [
      ">> New message from SUPERNOVA:\n",
      "{'id': 6, 'command': 'SYS SET I3C VOLTAGE', 'result': 'SUCCESS'}\n"
     ]
    }
   ],
   "source": [
    "supernova.setI3cVoltage(getId(), 3300)"
   ]
  },
  {
   "cell_type": "markdown",
   "metadata": {},
   "source": [
    "``Supernova.setI2cSpiUartGpioVoltage(id, voltage_mV)``\n",
    "\n",
    "This method supplies the indicated voltage to the bus in mV, ranging from 1200 mV up to 3300 mV. It also allows setting the value 0 mV to power off the output voltage.\n",
    "\n",
    "- ``id: int`` : A 2-byte integer that represents the transfer ID.\n",
    "- ``voltage_mV: c_int16 ``: The voltage parameter is a 2-byte integer in the range [1200, 3300] mV and allows the value 0 mV to power off the output voltage."
   ]
  },
  {
   "cell_type": "code",
   "execution_count": 10,
   "metadata": {},
   "outputs": [
    {
     "data": {
      "text/plain": [
       "{'module': 1,\n",
       " 'opcode': 0,\n",
       " 'message': 'SET I2C SPI UART GPIO VOLTAGE request success'}"
      ]
     },
     "execution_count": 10,
     "metadata": {},
     "output_type": "execute_result"
    },
    {
     "name": "stdout",
     "output_type": "stream",
     "text": [
      ">> New message from SUPERNOVA:\n",
      "{'id': 7, 'command': 'SYS SET I2C SPI UART GPIO VOLTAGE', 'result': 'SUCCESS'}\n",
      ">> New message from SUPERNOVA:\n",
      "{'id': 0, 'command': 'SYS I3C CONNECTOR EVENT NOTIFICATION', 'result': 'SUCCESS', 'event': 'I3C_CONNECTOR_PLUGGED', 'port': 'I3C_LOW_VOLTAGE_PORT', 'connector_type': 'I3C_HARNESS'}\n"
     ]
    }
   ],
   "source": [
    "supernova.setI2cSpiUartGpioVoltage(getId(), 3300)"
   ]
  },
  {
   "cell_type": "markdown",
   "metadata": {},
   "source": [
    "``Supernova.getI3cConnectorStatus(id)``\n",
    "\n",
    "This method returns the status of both I3C ports, including whether or not a connector is plugged, and if so, which connector type and in which port.\n",
    "\n",
    "- ``id: int`` : A 2-byte integer that represents the transfer ID."
   ]
  },
  {
   "cell_type": "code",
   "execution_count": 11,
   "metadata": {},
   "outputs": [
    {
     "data": {
      "text/plain": [
       "{'module': 1,\n",
       " 'opcode': 0,\n",
       " 'message': 'GET I3C CONNECTORS STATUS request success'}"
      ]
     },
     "execution_count": 11,
     "metadata": {},
     "output_type": "execute_result"
    },
    {
     "name": "stdout",
     "output_type": "stream",
     "text": [
      ">> New message from SUPERNOVA:\n",
      "{'id': 8, 'command': 'SYS GET I3C CONNECTOR STATUS', 'result': 'SUCCESS', 'i3c_low_voltage_port': {'state': 'I3C_CONNECTOR_PLUGGED', 'connector_type': 'I3C_HARNESS'}, 'i3c_high_voltage_port': {'state': 'I3C_CONNECTOR_UNPLUGGED', 'connector_type': 'NO_CONNECTOR'}}\n"
     ]
    }
   ],
   "source": [
    "supernova.getI3cConnectorsStatus(getId())"
   ]
  },
  {
   "cell_type": "markdown",
   "metadata": {},
   "source": [
    "``Supernova.getAnalogMeasurements(id)``\n",
    "\n",
    "This method returns the voltage of all the internal and external power domains, in mV.\n",
    "\n",
    "- ``id: int`` : A 2-byte integer that represents the transfer ID."
   ]
  },
  {
   "cell_type": "code",
   "execution_count": 12,
   "metadata": {},
   "outputs": [
    {
     "data": {
      "text/plain": [
       "{'module': 1,\n",
       " 'opcode': 0,\n",
       " 'message': 'GET ANALOG MEASUREMENTS request success'}"
      ]
     },
     "execution_count": 12,
     "metadata": {},
     "output_type": "execute_result"
    },
    {
     "name": "stdout",
     "output_type": "stream",
     "text": [
      ">> New message from SUPERNOVA:\n",
      "{'id': 9, 'command': 'SYS GET ANALOG MEASUREMENTS', 'result': 'SUCCESS', 'i2c_spi_uart_gpio_vtarg': {'internal_mV': 3299, 'external_mV': 3299}, 'i3c_low_voltage_vtarg': {'internal_mV': 1310, 'external_mV': 2}, 'i3c_high_voltage_vtarg': {'internal_mV': 3299, 'external_mV': 3299}}\n"
     ]
    }
   ],
   "source": [
    "supernova.getAnalogMeasurements(getId())"
   ]
  },
  {
   "cell_type": "markdown",
   "metadata": {},
   "source": [
    "``Supernova.useExternalI3cVoltage(id)``\n",
    "\n",
    "This method indicates that an external voltage source is used to supply the I3C bus and the Supernova must set its internal voltage to meet the external voltage. This methods returns the voltage measured in the VTARG pins.\n",
    "\n",
    "- ``id: int`` : A 2-byte integer that represents the transfer ID."
   ]
  },
  {
   "cell_type": "code",
   "execution_count": 13,
   "metadata": {},
   "outputs": [
    {
     "data": {
      "text/plain": [
       "{'module': 1,\n",
       " 'opcode': 0,\n",
       " 'message': 'USE EXT SRC I3C VOLTAGE request success'}"
      ]
     },
     "execution_count": 13,
     "metadata": {},
     "output_type": "execute_result"
    },
    {
     "name": "stdout",
     "output_type": "stream",
     "text": [
      ">> New message from SUPERNOVA:\n",
      "{'id': 10, 'command': 'SYS USE EXTERNAL I3C VOLTAGE', 'result': 'I3C_PORTS_NOT_POWERED', 'i3c_low_voltage_mV': 0, 'i3c_high_voltage_mV': 1}\n"
     ]
    }
   ],
   "source": [
    "supernova.useExternalI3cVoltage(getId())"
   ]
  },
  {
   "cell_type": "markdown",
   "metadata": {},
   "source": [
    "``Supernova.useExternalI2cSpiUartGpioVoltage(id)``\n",
    "\n",
    "This method indicates that an external voltage source is used to supply the I2C, SPI and UART buses as well as GPIOs interface, and the Supernova must set its internal voltage to meet the external voltage. This methods returns the voltage measured in the VTARG pin.\n",
    "\n",
    "- ``id: int`` : A 2-byte integer that represents the transfer ID."
   ]
  },
  {
   "cell_type": "code",
   "execution_count": 14,
   "metadata": {},
   "outputs": [
    {
     "data": {
      "text/plain": [
       "{'module': 1,\n",
       " 'opcode': 0,\n",
       " 'message': 'USE EXT SRC I2C-SPI-UART-GPIO VOLTAGE request success'}"
      ]
     },
     "execution_count": 14,
     "metadata": {},
     "output_type": "execute_result"
    },
    {
     "name": "stdout",
     "output_type": "stream",
     "text": [
      ">> New message from SUPERNOVA:\n",
      "{'id': 11, 'command': 'SYS USE EXTERNAL I2C SPI UART GPIO VOLTAGE', 'result': 'VOLTAGE_OUT_OF_RANGE', 'voltage_mV': 2}\n"
     ]
    }
   ],
   "source": [
    "supernova.useExternalI2cSpiUartGpioVoltage(getId())"
   ]
  },
  {
   "cell_type": "markdown",
   "metadata": {},
   "source": [
    "## Close communication\n",
    "\n",
    "Use the ``Supernova.close()`` method to end the communication with the Supernova device and release the used memory in the background like threads and so on."
   ]
  },
  {
   "cell_type": "code",
   "execution_count": 15,
   "metadata": {},
   "outputs": [
    {
     "data": {
      "text/plain": [
       "{'module': 0, 'opcode': 0, 'message': 'Communication closed successfully.'}"
      ]
     },
     "execution_count": 15,
     "metadata": {},
     "output_type": "execute_result"
    }
   ],
   "source": [
    "# Close the communication with the Supernova device.\n",
    "supernova.close()"
   ]
  }
 ],
 "metadata": {
  "kernelspec": {
   "display_name": "Python 3",
   "language": "python",
   "name": "python3"
  },
  "language_info": {
   "codemirror_mode": {
    "name": "ipython",
    "version": 3
   },
   "file_extension": ".py",
   "mimetype": "text/x-python",
   "name": "python",
   "nbconvert_exporter": "python",
   "pygments_lexer": "ipython3",
   "version": "3.11.9"
  },
  "orig_nbformat": 4
 },
 "nbformat": 4,
 "nbformat_minor": 2
}
