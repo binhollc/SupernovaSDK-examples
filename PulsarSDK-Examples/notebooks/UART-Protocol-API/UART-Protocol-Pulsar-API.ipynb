{
 "cells": [
  {
   "cell_type": "code",
   "execution_count": 1,
   "metadata": {},
   "outputs": [],
   "source": [
    "# Import Python package\n",
    "import BinhoPulsar\n",
    "from BinhoPulsar.Pulsar import Pulsar\n",
    "from BinhoPulsar.commands.uart.definitions import *\n"
   ]
  },
  {
   "cell_type": "markdown",
   "metadata": {},
   "source": [
    "## Getting started"
   ]
  },
  {
   "attachments": {},
   "cell_type": "markdown",
   "metadata": {},
   "source": [
    "#### 1. List all the Pulsar devices connected to the PC host\n",
    "\n",
    "The ``BinhoPulsar.getConnectedPulsarDevicesList()`` gets a list of the Pulsar devices plugged into the host PC machine."
   ]
  },
  {
   "cell_type": "code",
   "execution_count": 2,
   "metadata": {},
   "outputs": [
    {
     "data": {
      "text/plain": [
       "[{'path': '\\\\\\\\?\\\\HID#VID_1FC9&PID_82FD#7&2450afe2&0&0000#{4d1e55b2-f16f-11cf-88cb-001111000030}',\n",
       "  'vendor_id': '0x1fc9',\n",
       "  'product_id': '0x82fd',\n",
       "  'serial_number': '80F39E5FDBEF2053B16BBC5AB6EFA89',\n",
       "  'release_number': 256,\n",
       "  'manufacturer_string': 'Binho LLC',\n",
       "  'product_string': 'Binho Pulsar',\n",
       "  'usage_page': 65280,\n",
       "  'usage': 1,\n",
       "  'interface_number': 0}]"
      ]
     },
     "execution_count": 2,
     "metadata": {},
     "output_type": "execute_result"
    }
   ],
   "source": [
    "BinhoPulsar.getConnectedPulsarDevicesList()"
   ]
  },
  {
   "attachments": {},
   "cell_type": "markdown",
   "metadata": {},
   "source": [
    "#### 2. Create an instance of the Pulsar class\n",
    "\n",
    "To utilize a Pulsar USB host adapter device, we need to create an instance of the Pulsar class."
   ]
  },
  {
   "cell_type": "code",
   "execution_count": 3,
   "metadata": {},
   "outputs": [],
   "source": [
    "# Create a device instance. One instance of the Pulsar class represents a Pulsar USB host adapter device.\n",
    "pulsar = Pulsar()"
   ]
  },
  {
   "cell_type": "markdown",
   "metadata": {},
   "source": [
    "#### 3. Open connection to the Pulsar device\n",
    "\n",
    "The public method ``Pulsar.open()`` establishes the connection with a Pulsar device. Below is the complete signature:\n",
    "\n",
    "```python\n",
    "open(serial, path)\n",
    "```\n",
    "\n",
    "- ``serial: str``: The Pulsar serial number.\n",
    "- ``path: str``: The OS HID path assigned to the device. This can be obtained using the ``BinhoPulsar.getConnectedPulsarDevicesList()`` method. The ``path`` parameter is currently the only way to uniquely identify each Pulsar device. Therefore, it is recommended to use the ``path`` parameter, especially when opening connections with more than one Pulsar device simultaneously.\n"
   ]
  },
  {
   "cell_type": "code",
   "execution_count": 4,
   "metadata": {},
   "outputs": [
    {
     "data": {
      "text/plain": [
       "{'module': 0,\n",
       " 'opcode': 0,\n",
       " 'message': 'Connection with Pulsar device opened successfully.'}"
      ]
     },
     "execution_count": 4,
     "metadata": {},
     "output_type": "execute_result"
    }
   ],
   "source": [
    "# Use the method by default to connect to only one Pulsar device.\n",
    "pulsar.open()\n",
    "\n",
    "# Otherwise, use the path attribute to identify each Pulsar device. Uncomment the line below and comment the line #2.\n",
    "# pulsar.open(path='\\\\\\\\?\\\\HID#VID_1FC9&PID_82FC#6&48d9417&0&0000#{4d1e55b2-f16f-11cf-88cb-001111000030}')"
   ]
  },
  {
   "cell_type": "markdown",
   "metadata": {},
   "source": [
    "#### 4. Define and register a callback to handle responses and notifications from Pulsar\n",
    "\n",
    "To handle responses and notifications from Pulsar, a callback function must be defined and registered. This function will be invoked every time the Pulsar sends a response to a request, an asynchronous notification, or a message from the system.\n",
    "\n",
    "The callback function's signature is as follows: \n",
    "\n",
    "``def callback_function_name(pulsar_message: dict, system_message: dict) -> None:``\n",
    "\n",
    "Once the callback function is defined, it should be registered using the ``Pulsar.onEvent(callback_function)`` method."
   ]
  },
  {
   "cell_type": "code",
   "execution_count": 5,
   "metadata": {},
   "outputs": [],
   "source": [
    "# Define callback function\n",
    "def callback_function(pulsar_message: dict, system_message: dict) -> None:\n",
    "\n",
    "    if pulsar_message != None:\n",
    "\n",
    "        # Print mesasage\n",
    "        print(\">> New message from PULSAR:\")\n",
    "        print(pulsar_message)\n",
    "\n",
    "    if system_message != None:\n",
    "\n",
    "        # Print message\n",
    "        print(\">> New message from the SYSTEM:\")\n",
    "        print(system_message)"
   ]
  },
  {
   "cell_type": "code",
   "execution_count": 6,
   "metadata": {},
   "outputs": [
    {
     "data": {
      "text/plain": [
       "{'module': 0,\n",
       " 'opcode': 0,\n",
       " 'message': 'On event callback function registered successfully.'}"
      ]
     },
     "execution_count": 6,
     "metadata": {},
     "output_type": "execute_result"
    }
   ],
   "source": [
    "# Register callback function\n",
    "pulsar.onEvent(callback_function)"
   ]
  },
  {
   "attachments": {},
   "cell_type": "markdown",
   "metadata": {},
   "source": [
    "#### 5. Define a function to generate transaction IDs\n",
    "\n",
    "All the request messages sent to the Pulsar from the USB Host application must include the transaction or request ID. The ID is a 2-byte integer with an allowed range of ``[1, 65535]``.\n",
    "\n",
    "In this example, a dummy function called ``getId()`` is defined to increment a transaction counter used as the ID."
   ]
  },
  {
   "cell_type": "code",
   "execution_count": 8,
   "metadata": {},
   "outputs": [],
   "source": [
    "#Auxiliary code to generate IDs.\n",
    "\n",
    "counter_id = 0\n",
    "\n",
    "def getId():\n",
    "    global counter_id\n",
    "    counter_id = counter_id + 1\n",
    "    return counter_id"
   ]
  },
  {
   "cell_type": "markdown",
   "metadata": {},
   "source": [
    "## Using the UART peripheral  "
   ]
  },
  {
   "cell_type": "markdown",
   "metadata": {},
   "source": [
    "### 1. Connecting TX to RX for UART Loopback Test\n",
    "\n",
    "To perform the UART test:\n",
    "\n",
    "**Connection Setup:**\n",
    "   - Physically connect the TX (transmit) pin to the RX (receive) pin on your device.\n",
    "   - This direct connection forms a loopback, allowing transmitted data to be immediately received back by the device.\n",
    "\n",
    "**Expected Messages and Notifications:**\n",
    "   - Upon writing data:\n",
    "     - Expect a confirmation of the write status.\n",
    "     - If the write is successful, anticipate a notification containing the transmitted data.\n",
    "   \n",
    "**Testing Process:**\n",
    "   - Write data using the Pulsars's functionalities.\n",
    "   - Look for immediate feedback:\n",
    "     - Confirmation message indicating the write status.\n",
    "     - Notification displaying the transmitted data if the write operation succeeds.\n",
    "\n"
   ]
  },
  {
   "cell_type": "markdown",
   "metadata": {},
   "source": [
    "### 2. Initializing the UART Peripheral\n",
    "\n",
    "To initialize the UART peripheral:\n",
    "\n",
    "**Setting UART Peripheral Voltage:**\n",
    "   - Before initializing, ensure the UART peripheral voltage is appropriately configured (3.3V in this case).\n",
    "   - Proper voltage settings are crucial for the correct operation of the UART communication.\n",
    "\n",
    "``Pulsar.setI2cSpiUartGpioVoltage(id, voltage_mV)``\n",
    "\n",
    "This method supplies the indicated voltage to the bus in mV, ranging from 1200 mV up to 3300 mV. It also allows setting the value 0 mV to power off the output voltage.\n",
    "\n",
    "- ``id: int`` : A 2-byte integer that represents the transfer ID.\n",
    "- ``voltage_mV: c_int16 ``: The voltage parameter is a 2-byte integer in the range [1200, 3300] mV and allows the value 0 mV to power off the output voltage."
   ]
  },
  {
   "cell_type": "code",
   "execution_count": 9,
   "metadata": {},
   "outputs": [
    {
     "data": {
      "text/plain": [
       "{'module': 1,\n",
       " 'opcode': 0,\n",
       " 'message': 'SET I2C SPI UART GPIO VOLTAGE request success'}"
      ]
     },
     "execution_count": 9,
     "metadata": {},
     "output_type": "execute_result"
    },
    {
     "name": "stdout",
     "output_type": "stream",
     "text": [
      ">> New message from PULSAR:\n",
      "{'id': 1, 'command': 'SYS SET I2C SPI UART GPIO VOLTAGE', 'result': 'SUCCESS'}\n"
     ]
    }
   ],
   "source": [
    "pulsar.setI2cSpiUartGpioVoltage(getId(),3300)"
   ]
  },
  {
   "cell_type": "markdown",
   "metadata": {},
   "source": [
    "**Initialize UART:**\n",
    "\n",
    "When initializing the UART peripheral, consider the following configurable parameters:\n",
    "\n",
    "* _Baudrate:_  \n",
    "   - Defines the speed of data transmission, ranging from 600 bps to 115200 bps.  \n",
    "\n",
    "* _Hardware Handshake:_\n",
    "   - Enables or disables the Request to Send/Clear to Send (RTS/CTS) signal for flow control.  \n",
    "\n",
    "* _Parity Mode:_ \n",
    "   - Refers to the parity check used in UART packages, offering error detection.\n",
    "\n",
    "* _Data Character Size:_ \n",
    "   - Determines the length of each UART data package in bits.\n",
    "   \n",
    "* _Stop Bit:_  \n",
    "   - Specifies the number of stop bits used at the end of each UART transaction.\n",
    "\n",
    "For this case we are using:\n",
    "\n",
    "* Baudrate: 600bps\n",
    "* Hardware handshake: False\n",
    "* Parity Mode: No parity\n",
    "* Data size: 8 bit data size\n",
    "* Stop Bit: single stop bit (1 bit stop)  \n",
    "\n"
   ]
  },
  {
   "cell_type": "code",
   "execution_count": 10,
   "metadata": {},
   "outputs": [
    {
     "data": {
      "text/plain": [
       "{'module': 1, 'opcode': 0, 'message': 'UART INIT request success'}"
      ]
     },
     "execution_count": 10,
     "metadata": {},
     "output_type": "execute_result"
    },
    {
     "name": "stdout",
     "output_type": "stream",
     "text": [
      ">> New message from PULSAR:\n",
      "{'id': 2, 'command': 'UART INIT', 'result': 'SUCCESS'}\n"
     ]
    }
   ],
   "source": [
    "pulsar.uartInit(getId(),UartBaudRate.UART_BAUD_600, False, UartParity.UART_NO_PARITY, UartDataSize.UART_8BIT_BYTE,UartStopBit.UART_ONE_STOP_BIT)"
   ]
  },
  {
   "cell_type": "markdown",
   "metadata": {},
   "source": [
    "### 3. Sending Data via UART\n",
    "\n",
    "The Pulsar system can transmit data via UART, the data to be transmitted must adhere to specific criteria:\n",
    "\n",
    "**Data Format:**\n",
    "   - The data format consists of an array with a length less than 1024.\n",
    "   - Each element in the array represents a byte value, constrained within the range of 0x00 to 0xFF.\n",
    "\n",
    "For this test an array with 1024 elements, where each value stays within the byte range by using the modulo operation (`%`) with `0xFF` is used.\n"
   ]
  },
  {
   "cell_type": "code",
   "execution_count": 11,
   "metadata": {},
   "outputs": [],
   "source": [
    "data = [i%0xFF for i in range(0,70)]"
   ]
  },
  {
   "cell_type": "code",
   "execution_count": 12,
   "metadata": {},
   "outputs": [
    {
     "data": {
      "text/plain": [
       "{'module': 1, 'opcode': 0, 'message': 'UART SEND MESSAGE request success'}"
      ]
     },
     "execution_count": 12,
     "metadata": {},
     "output_type": "execute_result"
    },
    {
     "name": "stdout",
     "output_type": "stream",
     "text": [
      ">> New message from PULSAR:\n",
      "{'id': 3, 'command': 'UART SEND', 'result': 'SUCCESS'}\n",
      ">> New message from PULSAR:\n",
      "{'id': 0, 'command': 'UART RECEIVE NOTIFICATION', 'result': 'SUCCESS', 'payload_length': 70, 'payload': [0, 1, 2, 3, 4, 5, 6, 7, 8, 9, 10, 11, 12, 13, 14, 15, 16, 17, 18, 19, 20, 21, 22, 23, 24, 25, 26, 27, 28, 29, 30, 31, 32, 33, 34, 35, 36, 37, 38, 39, 40, 41, 42, 43, 44, 45, 46, 47, 48, 49, 50, 51, 52, 53, 54, 55, 56, 57, 58, 59, 60, 61, 62, 63, 64, 65, 66, 67, 68, 69]}\n"
     ]
    }
   ],
   "source": [
    "pulsar.uartSendMessage(getId(),data)"
   ]
  },
  {
   "cell_type": "markdown",
   "metadata": {},
   "source": [
    "## Change the UART peripheral parameters\n",
    "\n",
    "Once the UART peripheral is initialized, adjustments to its configuration can be made using the _uartSetParameters_ function. This function allows modification of the following parameters, similar to the initialization:\n",
    "\n",
    "* _Baudrate:_  \n",
    "   - Defines the speed of data transmission, ranging from 600 bps to 115200 bps.  \n",
    "\n",
    "* _Hardware Handshake:_\n",
    "   - Enables or disables the Request to Send/Clear to Send (RTS/CTS) signal for flow control.  \n",
    "\n",
    "* _Parity Mode:_ \n",
    "   - Refers to the parity check used in UART packages, offering error detection.\n",
    "\n",
    "* _Data Character Size:_ \n",
    "   - Determines the length of each UART data package in bits.\n",
    "   \n",
    "* _Stop Bit:_  \n",
    "   - Specifies the number of stop bits used at the end of each UART transaction.\n"
   ]
  },
  {
   "cell_type": "markdown",
   "metadata": {},
   "source": [
    "### Baudrate 1200 bps\n",
    "\n",
    "For this case we are using:\n",
    "\n",
    "* Baudrate: 1200 bps\n",
    "* Hardware handshake: False\n",
    "* Parity Mode: No parity\n",
    "* Data size: 8 bit data\n",
    "* Stop Bit: 1 bit stop \n"
   ]
  },
  {
   "cell_type": "code",
   "execution_count": 13,
   "metadata": {},
   "outputs": [
    {
     "data": {
      "text/plain": [
       "{'module': 1, 'opcode': 0, 'message': 'UART SET PARAMETERS request success'}"
      ]
     },
     "execution_count": 13,
     "metadata": {},
     "output_type": "execute_result"
    },
    {
     "name": "stdout",
     "output_type": "stream",
     "text": [
      ">> New message from PULSAR:\n",
      "{'id': 4, 'command': 'UART SET PARAMETERS', 'result': 'SUCCESS'}\n"
     ]
    }
   ],
   "source": [
    "pulsar.uartSetParameters(getId(),UartBaudRate.UART_BAUD_1200,False,UartParity.UART_NO_PARITY,UartDataSize.UART_8BIT_BYTE,UartStopBit.UART_ONE_STOP_BIT)"
   ]
  },
  {
   "cell_type": "code",
   "execution_count": 14,
   "metadata": {},
   "outputs": [
    {
     "data": {
      "text/plain": [
       "{'module': 1, 'opcode': 0, 'message': 'UART SEND MESSAGE request success'}"
      ]
     },
     "execution_count": 14,
     "metadata": {},
     "output_type": "execute_result"
    },
    {
     "name": "stdout",
     "output_type": "stream",
     "text": [
      ">> New message from PULSAR:\n",
      "{'id': 5, 'command': 'UART SEND', 'result': 'SUCCESS'}\n",
      ">> New message from PULSAR:\n",
      "{'id': 0, 'command': 'UART RECEIVE NOTIFICATION', 'result': 'SUCCESS', 'payload_length': 70, 'payload': [0, 1, 2, 3, 4, 5, 6, 7, 8, 9, 10, 11, 12, 13, 14, 15, 16, 17, 18, 19, 20, 21, 22, 23, 24, 25, 26, 27, 28, 29, 30, 31, 32, 33, 34, 35, 36, 37, 38, 39, 40, 41, 42, 43, 44, 45, 46, 47, 48, 49, 50, 51, 52, 53, 54, 55, 56, 57, 58, 59, 60, 61, 62, 63, 64, 65, 66, 67, 68, 69]}\n"
     ]
    }
   ],
   "source": [
    "pulsar.uartSendMessage(getId(),data)"
   ]
  },
  {
   "cell_type": "markdown",
   "metadata": {},
   "source": [
    "### Baudrate 2400 bps\n",
    "\n",
    "For this case we are using:\n",
    "\n",
    "* Baudrate: 2400 bps\n",
    "* Hardware handshake: False\n",
    "* Parity Mode: No parity\n",
    "* Data size: 8 bit data\n",
    "* Stop Bit: 1 bit stop "
   ]
  },
  {
   "cell_type": "code",
   "execution_count": 15,
   "metadata": {},
   "outputs": [
    {
     "data": {
      "text/plain": [
       "{'module': 1, 'opcode': 0, 'message': 'UART SET PARAMETERS request success'}"
      ]
     },
     "execution_count": 15,
     "metadata": {},
     "output_type": "execute_result"
    },
    {
     "name": "stdout",
     "output_type": "stream",
     "text": [
      ">> New message from PULSAR:\n",
      "{'id': 6, 'command': 'UART SET PARAMETERS', 'result': 'SUCCESS'}\n"
     ]
    }
   ],
   "source": [
    "pulsar.uartSetParameters(getId(),UartBaudRate.UART_BAUD_2400,False,UartParity.UART_NO_PARITY,UartDataSize.UART_8BIT_BYTE,UartStopBit.UART_ONE_STOP_BIT)"
   ]
  },
  {
   "cell_type": "code",
   "execution_count": 16,
   "metadata": {},
   "outputs": [
    {
     "data": {
      "text/plain": [
       "{'module': 1, 'opcode': 0, 'message': 'UART SEND MESSAGE request success'}"
      ]
     },
     "execution_count": 16,
     "metadata": {},
     "output_type": "execute_result"
    },
    {
     "name": "stdout",
     "output_type": "stream",
     "text": [
      ">> New message from PULSAR:\n",
      "{'id': 7, 'command': 'UART SEND', 'result': 'SUCCESS'}\n",
      ">> New message from PULSAR:\n",
      "{'id': 0, 'command': 'UART RECEIVE NOTIFICATION', 'result': 'SUCCESS', 'payload_length': 70, 'payload': [0, 1, 2, 3, 4, 5, 6, 7, 8, 9, 10, 11, 12, 13, 14, 15, 16, 17, 18, 19, 20, 21, 22, 23, 24, 25, 26, 27, 28, 29, 30, 31, 32, 33, 34, 35, 36, 37, 38, 39, 40, 41, 42, 43, 44, 45, 46, 47, 48, 49, 50, 51, 52, 53, 54, 55, 56, 57, 58, 59, 60, 61, 62, 63, 64, 65, 66, 67, 68, 69]}\n"
     ]
    }
   ],
   "source": [
    "pulsar.uartSendMessage(getId(),data)"
   ]
  },
  {
   "cell_type": "markdown",
   "metadata": {},
   "source": [
    "### Baudrate 4800 bps\n",
    "\n",
    "For this case we are using:\n",
    "\n",
    "* Baudrate: 4800 bps\n",
    "* Hardware handshake: False\n",
    "* Parity Mode: No parity\n",
    "* Data size: 8 bit data \n",
    "* Stop Bit: 1 bit stop "
   ]
  },
  {
   "cell_type": "code",
   "execution_count": 17,
   "metadata": {},
   "outputs": [
    {
     "data": {
      "text/plain": [
       "{'module': 1, 'opcode': 0, 'message': 'UART SET PARAMETERS request success'}"
      ]
     },
     "execution_count": 17,
     "metadata": {},
     "output_type": "execute_result"
    },
    {
     "name": "stdout",
     "output_type": "stream",
     "text": [
      ">> New message from PULSAR:\n",
      "{'id': 8, 'command': 'UART SET PARAMETERS', 'result': 'SUCCESS'}\n"
     ]
    }
   ],
   "source": [
    "pulsar.uartSetParameters(getId(),UartBaudRate.UART_BAUD_4800,False,UartParity.UART_NO_PARITY,UartDataSize.UART_8BIT_BYTE,UartStopBit.UART_ONE_STOP_BIT)"
   ]
  },
  {
   "cell_type": "code",
   "execution_count": 18,
   "metadata": {},
   "outputs": [
    {
     "data": {
      "text/plain": [
       "{'module': 1, 'opcode': 0, 'message': 'UART SEND MESSAGE request success'}"
      ]
     },
     "execution_count": 18,
     "metadata": {},
     "output_type": "execute_result"
    },
    {
     "name": "stdout",
     "output_type": "stream",
     "text": [
      ">> New message from PULSAR:\n",
      "{'id': 9, 'command': 'UART SEND', 'result': 'SUCCESS'}\n",
      ">> New message from PULSAR:\n",
      "{'id': 0, 'command': 'UART RECEIVE NOTIFICATION', 'result': 'SUCCESS', 'payload_length': 70, 'payload': [0, 1, 2, 3, 4, 5, 6, 7, 8, 9, 10, 11, 12, 13, 14, 15, 16, 17, 18, 19, 20, 21, 22, 23, 24, 25, 26, 27, 28, 29, 30, 31, 32, 33, 34, 35, 36, 37, 38, 39, 40, 41, 42, 43, 44, 45, 46, 47, 48, 49, 50, 51, 52, 53, 54, 55, 56, 57, 58, 59, 60, 61, 62, 63, 64, 65, 66, 67, 68, 69]}\n"
     ]
    }
   ],
   "source": [
    "pulsar.uartSendMessage(getId(),data)"
   ]
  },
  {
   "cell_type": "markdown",
   "metadata": {},
   "source": [
    "### Baudrate 9600 bps\n",
    "\n",
    "For this case we are using:\n",
    "\n",
    "* Baudrate: 9600 bps\n",
    "* Hardware handshake: False\n",
    "* Parity Mode: No parity\n",
    "* Data size: 8 bit data\n",
    "* Stop Bit: 1 bit stop "
   ]
  },
  {
   "cell_type": "code",
   "execution_count": 19,
   "metadata": {},
   "outputs": [
    {
     "data": {
      "text/plain": [
       "{'module': 1, 'opcode': 0, 'message': 'UART SET PARAMETERS request success'}"
      ]
     },
     "execution_count": 19,
     "metadata": {},
     "output_type": "execute_result"
    },
    {
     "name": "stdout",
     "output_type": "stream",
     "text": [
      ">> New message from PULSAR:\n",
      "{'id': 10, 'command': 'UART SET PARAMETERS', 'result': 'SUCCESS'}\n"
     ]
    }
   ],
   "source": [
    "pulsar.uartSetParameters(getId(),UartBaudRate.UART_BAUD_9600,False,UartParity.UART_NO_PARITY,UartDataSize.UART_8BIT_BYTE,UartStopBit.UART_ONE_STOP_BIT)"
   ]
  },
  {
   "cell_type": "code",
   "execution_count": 20,
   "metadata": {},
   "outputs": [
    {
     "data": {
      "text/plain": [
       "{'module': 1, 'opcode': 0, 'message': 'UART SEND MESSAGE request success'}"
      ]
     },
     "execution_count": 20,
     "metadata": {},
     "output_type": "execute_result"
    },
    {
     "name": "stdout",
     "output_type": "stream",
     "text": [
      ">> New message from PULSAR:\n",
      "{'id': 11, 'command': 'UART SEND', 'result': 'SUCCESS'}\n",
      ">> New message from PULSAR:\n",
      "{'id': 0, 'command': 'UART RECEIVE NOTIFICATION', 'result': 'SUCCESS', 'payload_length': 70, 'payload': [0, 1, 2, 3, 4, 5, 6, 7, 8, 9, 10, 11, 12, 13, 14, 15, 16, 17, 18, 19, 20, 21, 22, 23, 24, 25, 26, 27, 28, 29, 30, 31, 32, 33, 34, 35, 36, 37, 38, 39, 40, 41, 42, 43, 44, 45, 46, 47, 48, 49, 50, 51, 52, 53, 54, 55, 56, 57, 58, 59, 60, 61, 62, 63, 64, 65, 66, 67, 68, 69]}\n"
     ]
    }
   ],
   "source": [
    "pulsar.uartSendMessage(getId(),data)"
   ]
  },
  {
   "cell_type": "markdown",
   "metadata": {},
   "source": [
    "### Baudrate 14400 bps\n",
    "\n",
    "For this case we are using:\n",
    "\n",
    "* Baudrate: 14400 bps\n",
    "* Hardware handshake: False\n",
    "* Parity Mode: No parity\n",
    "* Data size: 8 bit data\n",
    "* Stop Bit: 1 bit stop "
   ]
  },
  {
   "cell_type": "code",
   "execution_count": 21,
   "metadata": {},
   "outputs": [
    {
     "data": {
      "text/plain": [
       "{'module': 1, 'opcode': 0, 'message': 'UART SET PARAMETERS request success'}"
      ]
     },
     "execution_count": 21,
     "metadata": {},
     "output_type": "execute_result"
    },
    {
     "name": "stdout",
     "output_type": "stream",
     "text": [
      ">> New message from PULSAR:\n",
      "{'id': 12, 'command': 'UART SET PARAMETERS', 'result': 'SUCCESS'}\n"
     ]
    }
   ],
   "source": [
    "pulsar.uartSetParameters(getId(),UartBaudRate.UART_BAUD_14400,False,UartParity.UART_NO_PARITY,UartDataSize.UART_8BIT_BYTE,UartStopBit.UART_ONE_STOP_BIT)"
   ]
  },
  {
   "cell_type": "code",
   "execution_count": 22,
   "metadata": {},
   "outputs": [
    {
     "data": {
      "text/plain": [
       "{'module': 1, 'opcode': 0, 'message': 'UART SEND MESSAGE request success'}"
      ]
     },
     "execution_count": 22,
     "metadata": {},
     "output_type": "execute_result"
    },
    {
     "name": "stdout",
     "output_type": "stream",
     "text": [
      ">> New message from PULSAR:\n",
      "{'id': 13, 'command': 'UART SEND', 'result': 'SUCCESS'}\n",
      ">> New message from PULSAR:\n",
      "{'id': 0, 'command': 'UART RECEIVE NOTIFICATION', 'result': 'SUCCESS', 'payload_length': 70, 'payload': [0, 1, 2, 3, 4, 5, 6, 7, 8, 9, 10, 11, 12, 13, 14, 15, 16, 17, 18, 19, 20, 21, 22, 23, 24, 25, 26, 27, 28, 29, 30, 31, 32, 33, 34, 35, 36, 37, 38, 39, 40, 41, 42, 43, 44, 45, 46, 47, 48, 49, 50, 51, 52, 53, 54, 55, 56, 57, 58, 59, 60, 61, 62, 63, 64, 65, 66, 67, 68, 69]}\n"
     ]
    }
   ],
   "source": [
    "pulsar.uartSendMessage(getId(),data)"
   ]
  },
  {
   "cell_type": "markdown",
   "metadata": {},
   "source": [
    "### Baudrate 19200 bps\n",
    "\n",
    "For this case we are using:\n",
    "\n",
    "* Baudrate: 19200 bps\n",
    "* Hardware handshake: False\n",
    "* Parity Mode: No parity\n",
    "* Data size: 8 bit data \n",
    "* Stop Bit: 1 bit stop "
   ]
  },
  {
   "cell_type": "code",
   "execution_count": 23,
   "metadata": {},
   "outputs": [
    {
     "data": {
      "text/plain": [
       "{'module': 1, 'opcode': 0, 'message': 'UART SET PARAMETERS request success'}"
      ]
     },
     "execution_count": 23,
     "metadata": {},
     "output_type": "execute_result"
    },
    {
     "name": "stdout",
     "output_type": "stream",
     "text": [
      ">> New message from PULSAR:\n",
      "{'id': 14, 'command': 'UART SET PARAMETERS', 'result': 'SUCCESS'}\n"
     ]
    }
   ],
   "source": [
    "pulsar.uartSetParameters(getId(),UartBaudRate.UART_BAUD_19200,False,UartParity.UART_NO_PARITY,UartDataSize.UART_8BIT_BYTE,UartStopBit.UART_ONE_STOP_BIT)"
   ]
  },
  {
   "cell_type": "code",
   "execution_count": 24,
   "metadata": {},
   "outputs": [
    {
     "data": {
      "text/plain": [
       "{'module': 1, 'opcode': 0, 'message': 'UART SEND MESSAGE request success'}"
      ]
     },
     "execution_count": 24,
     "metadata": {},
     "output_type": "execute_result"
    },
    {
     "name": "stdout",
     "output_type": "stream",
     "text": [
      ">> New message from PULSAR:\n",
      "{'id': 15, 'command': 'UART SEND', 'result': 'SUCCESS'}\n",
      ">> New message from PULSAR:\n",
      "{'id': 0, 'command': 'UART RECEIVE NOTIFICATION', 'result': 'SUCCESS', 'payload_length': 70, 'payload': [0, 1, 2, 3, 4, 5, 6, 7, 8, 9, 10, 11, 12, 13, 14, 15, 16, 17, 18, 19, 20, 21, 22, 23, 24, 25, 26, 27, 28, 29, 30, 31, 32, 33, 34, 35, 36, 37, 38, 39, 40, 41, 42, 43, 44, 45, 46, 47, 48, 49, 50, 51, 52, 53, 54, 55, 56, 57, 58, 59, 60, 61, 62, 63, 64, 65, 66, 67, 68, 69]}\n"
     ]
    }
   ],
   "source": [
    "pulsar.uartSendMessage(getId(),data)"
   ]
  },
  {
   "cell_type": "markdown",
   "metadata": {},
   "source": [
    "### Baudrate 38400 bps\n",
    "\n",
    "For this case we are using:\n",
    "\n",
    "* Baudrate: 38400 bps\n",
    "* Hardware handshake: False\n",
    "* Parity Mode: No parity\n",
    "* Data size: 8 bit data\n",
    "* Stop Bit: 1 bit stop "
   ]
  },
  {
   "cell_type": "code",
   "execution_count": 25,
   "metadata": {},
   "outputs": [
    {
     "data": {
      "text/plain": [
       "{'module': 1, 'opcode': 0, 'message': 'UART SET PARAMETERS request success'}"
      ]
     },
     "execution_count": 25,
     "metadata": {},
     "output_type": "execute_result"
    },
    {
     "name": "stdout",
     "output_type": "stream",
     "text": [
      ">> New message from PULSAR:\n",
      "{'id': 16, 'command': 'UART SET PARAMETERS', 'result': 'SUCCESS'}\n"
     ]
    }
   ],
   "source": [
    "pulsar.uartSetParameters(getId(),UartBaudRate.UART_BAUD_38400,False,UartParity.UART_NO_PARITY,UartDataSize.UART_8BIT_BYTE,UartStopBit.UART_ONE_STOP_BIT)"
   ]
  },
  {
   "cell_type": "code",
   "execution_count": 26,
   "metadata": {},
   "outputs": [
    {
     "data": {
      "text/plain": [
       "{'module': 1, 'opcode': 0, 'message': 'UART SEND MESSAGE request success'}"
      ]
     },
     "execution_count": 26,
     "metadata": {},
     "output_type": "execute_result"
    },
    {
     "name": "stdout",
     "output_type": "stream",
     "text": [
      ">> New message from PULSAR:\n",
      "{'id': 17, 'command': 'UART SEND', 'result': 'SUCCESS'}\n",
      ">> New message from PULSAR:\n",
      "{'id': 0, 'command': 'UART RECEIVE NOTIFICATION', 'result': 'SUCCESS', 'payload_length': 70, 'payload': [0, 1, 2, 3, 4, 5, 6, 7, 8, 9, 10, 11, 12, 13, 14, 15, 16, 17, 18, 19, 20, 21, 22, 23, 24, 25, 26, 27, 28, 29, 30, 31, 32, 33, 34, 35, 36, 37, 38, 39, 40, 41, 42, 43, 44, 45, 46, 47, 48, 49, 50, 51, 52, 53, 54, 55, 56, 57, 58, 59, 60, 61, 62, 63, 64, 65, 66, 67, 68, 69]}\n"
     ]
    }
   ],
   "source": [
    "pulsar.uartSendMessage(getId(),data)"
   ]
  },
  {
   "cell_type": "markdown",
   "metadata": {},
   "source": [
    "### Baudrate 56000 bps\n",
    "\n",
    "For this case we are using:\n",
    "\n",
    "* Baudrate: 56000 bps\n",
    "* Hardware handshake: False\n",
    "* Parity Mode: No parity\n",
    "* Data size: 8 bit data\n",
    "* Stop Bit: 1 bit stop "
   ]
  },
  {
   "cell_type": "code",
   "execution_count": 27,
   "metadata": {},
   "outputs": [
    {
     "data": {
      "text/plain": [
       "{'module': 1, 'opcode': 0, 'message': 'UART SET PARAMETERS request success'}"
      ]
     },
     "execution_count": 27,
     "metadata": {},
     "output_type": "execute_result"
    },
    {
     "name": "stdout",
     "output_type": "stream",
     "text": [
      ">> New message from PULSAR:\n",
      "{'id': 18, 'command': 'UART SET PARAMETERS', 'result': 'SUCCESS'}\n"
     ]
    }
   ],
   "source": [
    "pulsar.uartSetParameters(getId(),UartBaudRate.UART_BAUD_56000,False,UartParity.UART_NO_PARITY,UartDataSize.UART_8BIT_BYTE,UartStopBit.UART_ONE_STOP_BIT)"
   ]
  },
  {
   "cell_type": "code",
   "execution_count": 28,
   "metadata": {},
   "outputs": [
    {
     "data": {
      "text/plain": [
       "{'module': 1, 'opcode': 0, 'message': 'UART SEND MESSAGE request success'}"
      ]
     },
     "execution_count": 28,
     "metadata": {},
     "output_type": "execute_result"
    },
    {
     "name": "stdout",
     "output_type": "stream",
     "text": [
      ">> New message from PULSAR:\n",
      "{'id': 19, 'command': 'UART SEND', 'result': 'SUCCESS'}\n",
      ">> New message from PULSAR:\n",
      "{'id': 0, 'command': 'UART RECEIVE NOTIFICATION', 'result': 'SUCCESS', 'payload_length': 70, 'payload': [0, 1, 2, 3, 4, 5, 6, 7, 8, 9, 10, 11, 12, 13, 14, 15, 16, 17, 18, 19, 20, 21, 22, 23, 24, 25, 26, 27, 28, 29, 30, 31, 32, 33, 34, 35, 36, 37, 38, 39, 40, 41, 42, 43, 44, 45, 46, 47, 48, 49, 50, 51, 52, 53, 54, 55, 56, 57, 58, 59, 60, 61, 62, 63, 64, 65, 66, 67, 68, 69]}\n"
     ]
    }
   ],
   "source": [
    "pulsar.uartSendMessage(getId(),data)"
   ]
  },
  {
   "cell_type": "markdown",
   "metadata": {},
   "source": [
    "### Baudrate 57600 bps\n",
    "\n",
    "For this case we are using:\n",
    "\n",
    "* Baudrate: 57600 bps\n",
    "* Hardware handshake: False\n",
    "* Parity Mode: No parity\n",
    "* Data size: 8 bit data\n",
    "* Stop Bit: 1 bit stop "
   ]
  },
  {
   "cell_type": "code",
   "execution_count": 29,
   "metadata": {},
   "outputs": [
    {
     "data": {
      "text/plain": [
       "{'module': 1, 'opcode': 0, 'message': 'UART SET PARAMETERS request success'}"
      ]
     },
     "execution_count": 29,
     "metadata": {},
     "output_type": "execute_result"
    },
    {
     "name": "stdout",
     "output_type": "stream",
     "text": [
      ">> New message from PULSAR:\n",
      "{'id': 20, 'command': 'UART SET PARAMETERS', 'result': 'SUCCESS'}\n"
     ]
    }
   ],
   "source": [
    "pulsar.uartSetParameters(getId(),UartBaudRate.UART_BAUD_57600,False,UartParity.UART_NO_PARITY,UartDataSize.UART_8BIT_BYTE,UartStopBit.UART_ONE_STOP_BIT)"
   ]
  },
  {
   "cell_type": "code",
   "execution_count": 30,
   "metadata": {},
   "outputs": [
    {
     "data": {
      "text/plain": [
       "{'module': 1, 'opcode': 0, 'message': 'UART SEND MESSAGE request success'}"
      ]
     },
     "execution_count": 30,
     "metadata": {},
     "output_type": "execute_result"
    },
    {
     "name": "stdout",
     "output_type": "stream",
     "text": [
      ">> New message from PULSAR:\n",
      "{'id': 21, 'command': 'UART SEND', 'result': 'SUCCESS'}\n",
      ">> New message from PULSAR:\n",
      "{'id': 0, 'command': 'UART RECEIVE NOTIFICATION', 'result': 'SUCCESS', 'payload_length': 70, 'payload': [0, 1, 2, 3, 4, 5, 6, 7, 8, 9, 10, 11, 12, 13, 14, 15, 16, 17, 18, 19, 20, 21, 22, 23, 24, 25, 26, 27, 28, 29, 30, 31, 32, 33, 34, 35, 36, 37, 38, 39, 40, 41, 42, 43, 44, 45, 46, 47, 48, 49, 50, 51, 52, 53, 54, 55, 56, 57, 58, 59, 60, 61, 62, 63, 64, 65, 66, 67, 68, 69]}\n"
     ]
    }
   ],
   "source": [
    "pulsar.uartSendMessage(getId(),data)"
   ]
  },
  {
   "cell_type": "markdown",
   "metadata": {},
   "source": [
    "### Baudrate 115200 bps\n",
    "\n",
    "For this case we are using:\n",
    "\n",
    "* Baudrate: 115200 bps\n",
    "* Hardware handshake: False\n",
    "* Parity Mode: No parity\n",
    "* Data size: 8 bit data\n",
    "* Stop Bit: 1 bit stop "
   ]
  },
  {
   "cell_type": "code",
   "execution_count": 31,
   "metadata": {},
   "outputs": [
    {
     "data": {
      "text/plain": [
       "{'module': 1, 'opcode': 0, 'message': 'UART SET PARAMETERS request success'}"
      ]
     },
     "execution_count": 31,
     "metadata": {},
     "output_type": "execute_result"
    },
    {
     "name": "stdout",
     "output_type": "stream",
     "text": [
      ">> New message from PULSAR:\n",
      "{'id': 22, 'command': 'UART SET PARAMETERS', 'result': 'SUCCESS'}\n"
     ]
    }
   ],
   "source": [
    "pulsar.uartSetParameters(getId(),UartBaudRate.UART_BAUD_115200,False,UartParity.UART_NO_PARITY,UartDataSize.UART_8BIT_BYTE,UartStopBit.UART_ONE_STOP_BIT)"
   ]
  },
  {
   "cell_type": "code",
   "execution_count": 32,
   "metadata": {},
   "outputs": [
    {
     "data": {
      "text/plain": [
       "{'module': 1, 'opcode': 0, 'message': 'UART SEND MESSAGE request success'}"
      ]
     },
     "execution_count": 32,
     "metadata": {},
     "output_type": "execute_result"
    },
    {
     "name": "stdout",
     "output_type": "stream",
     "text": [
      ">> New message from PULSAR:\n",
      "{'id': 23, 'command': 'UART SEND', 'result': 'SUCCESS'}\n",
      ">> New message from PULSAR:\n",
      "{'id': 0, 'command': 'UART RECEIVE NOTIFICATION', 'result': 'SUCCESS', 'payload_length': 70, 'payload': [0, 1, 2, 3, 4, 5, 6, 7, 8, 9, 10, 11, 12, 13, 14, 15, 16, 17, 18, 19, 20, 21, 22, 23, 24, 25, 26, 27, 28, 29, 30, 31, 32, 33, 34, 35, 36, 37, 38, 39, 40, 41, 42, 43, 44, 45, 46, 47, 48, 49, 50, 51, 52, 53, 54, 55, 56, 57, 58, 59, 60, 61, 62, 63, 64, 65, 66, 67, 68, 69]}\n"
     ]
    }
   ],
   "source": [
    "pulsar.uartSendMessage(getId(),data)"
   ]
  },
  {
   "cell_type": "markdown",
   "metadata": {},
   "source": [
    "### Baudrate 115200 bps and Even Parity\n",
    "\n",
    "For this case we are using:\n",
    "\n",
    "* Baudrate: 115200 bps\n",
    "* Hardware handshake: False\n",
    "* Parity Mode: Even\n",
    "* Data size: 8 bit data \n",
    "* Stop Bit: 1 bit stop "
   ]
  },
  {
   "cell_type": "code",
   "execution_count": 33,
   "metadata": {},
   "outputs": [
    {
     "data": {
      "text/plain": [
       "{'module': 1, 'opcode': 0, 'message': 'UART SET PARAMETERS request success'}"
      ]
     },
     "execution_count": 33,
     "metadata": {},
     "output_type": "execute_result"
    },
    {
     "name": "stdout",
     "output_type": "stream",
     "text": [
      ">> New message from PULSAR:\n",
      "{'id': 24, 'command': 'UART SET PARAMETERS', 'result': 'SUCCESS'}\n"
     ]
    }
   ],
   "source": [
    "pulsar.uartSetParameters(getId(),UartBaudRate.UART_BAUD_115200,False,UartParity.UART_EVEN_PARITY,UartDataSize.UART_8BIT_BYTE,UartStopBit.UART_ONE_STOP_BIT)"
   ]
  },
  {
   "cell_type": "code",
   "execution_count": 34,
   "metadata": {},
   "outputs": [
    {
     "data": {
      "text/plain": [
       "{'module': 1, 'opcode': 0, 'message': 'UART SEND MESSAGE request success'}"
      ]
     },
     "execution_count": 34,
     "metadata": {},
     "output_type": "execute_result"
    },
    {
     "name": "stdout",
     "output_type": "stream",
     "text": [
      ">> New message from PULSAR:\n",
      "{'id': 25, 'command': 'UART SEND', 'result': 'SUCCESS'}\n",
      ">> New message from PULSAR:\n",
      "{'id': 0, 'command': 'UART RECEIVE NOTIFICATION', 'result': 'SUCCESS', 'payload_length': 70, 'payload': [0, 1, 2, 3, 4, 5, 6, 7, 8, 9, 10, 11, 12, 13, 14, 15, 16, 17, 18, 19, 20, 21, 22, 23, 24, 25, 26, 27, 28, 29, 30, 31, 32, 33, 34, 35, 36, 37, 38, 39, 40, 41, 42, 43, 44, 45, 46, 47, 48, 49, 50, 51, 52, 53, 54, 55, 56, 57, 58, 59, 60, 61, 62, 63, 64, 65, 66, 67, 68, 69]}\n"
     ]
    }
   ],
   "source": [
    "pulsar.uartSendMessage(getId(),data)"
   ]
  },
  {
   "cell_type": "markdown",
   "metadata": {},
   "source": [
    "### Baudrate 115200 bps, Even Parity and 2 bit stop\n",
    "\n",
    "For this case we are using:\n",
    "\n",
    "* Baudrate: 115200 bps\n",
    "* Hardware handshake: False\n",
    "* Parity Mode: Even\n",
    "* Data size: 8 bit data \n",
    "* Stop Bit: 2 bit stop "
   ]
  },
  {
   "cell_type": "code",
   "execution_count": 35,
   "metadata": {},
   "outputs": [
    {
     "data": {
      "text/plain": [
       "{'module': 1, 'opcode': 0, 'message': 'UART SET PARAMETERS request success'}"
      ]
     },
     "execution_count": 35,
     "metadata": {},
     "output_type": "execute_result"
    },
    {
     "name": "stdout",
     "output_type": "stream",
     "text": [
      ">> New message from PULSAR:\n",
      "{'id': 26, 'command': 'UART SET PARAMETERS', 'result': 'SUCCESS'}\n"
     ]
    }
   ],
   "source": [
    "pulsar.uartSetParameters(getId(),UartBaudRate.UART_BAUD_115200,False,UartParity.UART_EVEN_PARITY,UartDataSize.UART_8BIT_BYTE,UartStopBit.UART_TWO_STOP_BIT)"
   ]
  },
  {
   "cell_type": "code",
   "execution_count": 36,
   "metadata": {},
   "outputs": [
    {
     "data": {
      "text/plain": [
       "{'module': 1, 'opcode': 0, 'message': 'UART SEND MESSAGE request success'}"
      ]
     },
     "execution_count": 36,
     "metadata": {},
     "output_type": "execute_result"
    },
    {
     "name": "stdout",
     "output_type": "stream",
     "text": [
      ">> New message from PULSAR:\n",
      "{'id': 27, 'command': 'UART SEND', 'result': 'SUCCESS'}\n",
      ">> New message from PULSAR:\n",
      "{'id': 0, 'command': 'UART RECEIVE NOTIFICATION', 'result': 'SUCCESS', 'payload_length': 70, 'payload': [0, 1, 2, 3, 4, 5, 6, 7, 8, 9, 10, 11, 12, 13, 14, 15, 16, 17, 18, 19, 20, 21, 22, 23, 24, 25, 26, 27, 28, 29, 30, 31, 32, 33, 34, 35, 36, 37, 38, 39, 40, 41, 42, 43, 44, 45, 46, 47, 48, 49, 50, 51, 52, 53, 54, 55, 56, 57, 58, 59, 60, 61, 62, 63, 64, 65, 66, 67, 68, 69]}\n"
     ]
    }
   ],
   "source": [
    "pulsar.uartSendMessage(getId(),data)"
   ]
  },
  {
   "cell_type": "markdown",
   "metadata": {},
   "source": [
    "### Baudrate 115200 bps, Even Parity, 7 bit data character and 2 stop bit\n",
    "\n",
    "For this case we are using:\n",
    "\n",
    "* Baudrate: 115200 bps\n",
    "* Hardware handshake: False\n",
    "* Parity Mode: Even\n",
    "* Data size: 7 bit data \n",
    "* Stop Bit: 2 bit stop "
   ]
  },
  {
   "cell_type": "code",
   "execution_count": 37,
   "metadata": {},
   "outputs": [
    {
     "data": {
      "text/plain": [
       "{'module': 1, 'opcode': 0, 'message': 'UART SET PARAMETERS request success'}"
      ]
     },
     "execution_count": 37,
     "metadata": {},
     "output_type": "execute_result"
    },
    {
     "name": "stdout",
     "output_type": "stream",
     "text": [
      ">> New message from PULSAR:\n",
      "{'id': 28, 'command': 'UART SET PARAMETERS', 'result': 'SUCCESS'}\n"
     ]
    }
   ],
   "source": [
    "pulsar.uartSetParameters(getId(),UartBaudRate.UART_BAUD_115200,False,UartParity.UART_EVEN_PARITY,UartDataSize.UART_7BIT_BYTE,UartStopBit.UART_ONE_STOP_BIT)"
   ]
  },
  {
   "cell_type": "code",
   "execution_count": 38,
   "metadata": {},
   "outputs": [
    {
     "data": {
      "text/plain": [
       "{'module': 1, 'opcode': 0, 'message': 'UART SEND MESSAGE request success'}"
      ]
     },
     "execution_count": 38,
     "metadata": {},
     "output_type": "execute_result"
    },
    {
     "name": "stdout",
     "output_type": "stream",
     "text": [
      ">> New message from PULSAR:\n",
      "{'id': 29, 'command': 'UART SEND', 'result': 'SUCCESS'}\n",
      ">> New message from PULSAR:\n",
      "{'id': 0, 'command': 'UART RECEIVE NOTIFICATION', 'result': 'SUCCESS', 'payload_length': 70, 'payload': [0, 1, 2, 3, 4, 5, 6, 7, 8, 9, 10, 11, 12, 13, 14, 15, 16, 17, 18, 19, 20, 21, 22, 23, 24, 25, 26, 27, 28, 29, 30, 31, 32, 33, 34, 35, 36, 37, 38, 39, 40, 41, 42, 43, 44, 45, 46, 47, 48, 49, 50, 51, 52, 53, 54, 55, 56, 57, 58, 59, 60, 61, 62, 63, 64, 65, 66, 67, 68, 69]}\n"
     ]
    }
   ],
   "source": [
    "pulsar.uartSendMessage(getId(),data)"
   ]
  },
  {
   "cell_type": "markdown",
   "metadata": {},
   "source": [
    "## Close communication\n",
    "\n",
    "Use the ``Pulsar.close()`` method to end the communication with the Pulsar device and release the used memory in the background like threads and so on."
   ]
  },
  {
   "cell_type": "code",
   "execution_count": 39,
   "metadata": {},
   "outputs": [
    {
     "data": {
      "text/plain": [
       "{'module': 0, 'opcode': 0, 'message': 'Communication closed successfully.'}"
      ]
     },
     "execution_count": 39,
     "metadata": {},
     "output_type": "execute_result"
    }
   ],
   "source": [
    "# Close the communication with the Pulsar device.\n",
    "pulsar.close()"
   ]
  }
 ],
 "metadata": {
  "kernelspec": {
   "display_name": "Python 3",
   "language": "python",
   "name": "python3"
  },
  "language_info": {
   "codemirror_mode": {
    "name": "ipython",
    "version": 3
   },
   "file_extension": ".py",
   "mimetype": "text/x-python",
   "name": "python",
   "nbconvert_exporter": "python",
   "pygments_lexer": "ipython3",
   "version": "3.11.9"
  },
  "orig_nbformat": 4
 },
 "nbformat": 4,
 "nbformat_minor": 2
}
