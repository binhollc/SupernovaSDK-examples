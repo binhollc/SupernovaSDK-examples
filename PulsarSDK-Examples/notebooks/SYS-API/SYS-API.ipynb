{
 "cells": [
  {
   "cell_type": "code",
   "execution_count": 1,
   "metadata": {},
   "outputs": [],
   "source": [
    "# Import Python package\n",
    "import binhopulsar\n",
    "from binhopulsar.pulsar import Pulsar\n",
    "from binhopulsar.commands.system.definitions import GetUsbStringSubCommand"
   ]
  },
  {
   "cell_type": "markdown",
   "metadata": {},
   "source": [
    "## Getting started"
   ]
  },
  {
   "attachments": {},
   "cell_type": "markdown",
   "metadata": {},
   "source": [
    "#### 1. List all the Pulsar devices connected to the PC host\n",
    "\n",
    "The ``binhopulsar.getConnectedPulsarDevicesList()`` gets a list of the Pulsar devices plugged into the host PC machine."
   ]
  },
  {
   "cell_type": "code",
   "execution_count": 2,
   "metadata": {},
   "outputs": [
    {
     "data": {
      "text/plain": [
       "[{'path': '\\\\\\\\?\\\\HID#VID_1FC9&PID_82FD#7&271efd59&0&0000#{4d1e55b2-f16f-11cf-88cb-001111000030}',\n",
       "  'vendor_id': '0x1fc9',\n",
       "  'product_id': '0x82fd',\n",
       "  'serial_number': '0AA4AA0BBF431055B02059D06095F7BB',\n",
       "  'manufacturer_string': 'Binho LLC',\n",
       "  'product_string': 'Binho Pulsar',\n",
       "  'hardware_version': 'B',\n",
       "  'firmware_version': '4.1.2'}]"
      ]
     },
     "execution_count": 2,
     "metadata": {},
     "output_type": "execute_result"
    }
   ],
   "source": [
    "binhopulsar.getConnectedPulsarDevicesList()"
   ]
  },
  {
   "attachments": {},
   "cell_type": "markdown",
   "metadata": {},
   "source": [
    "#### 2. Create an instance of the Pulsar class\n",
    "\n",
    "To utilize a Pulsar USB host adapter device, we need to create an instance of the Pulsar class."
   ]
  },
  {
   "cell_type": "code",
   "execution_count": 3,
   "metadata": {},
   "outputs": [],
   "source": [
    "# Create a device instance. One instance of the Pulsar class represents a Pulsar USB host adapter device.\n",
    "pulsar = Pulsar()"
   ]
  },
  {
   "cell_type": "markdown",
   "metadata": {},
   "source": [
    "#### 3. Open connection to the Pulsar device\n",
    "\n",
    "The public method ``Pulsar.open()`` establishes the connection with a Pulsar device. Below is the complete signature:\n",
    "\n",
    "```python\n",
    "open(serial, path)\n",
    "```\n",
    "\n",
    "- ``serial: str``: The Pulsar serial number.\n",
    "- ``path: str``: The OS HID path assigned to the device. This can be obtained using the ``binhopulsar.getConnectedPulsarDevicesList()`` method. The ``path`` parameter is currently the only way to uniquely identify each Pulsar device. Therefore, it is recommended to use the ``path`` parameter, especially when opening connections with more than one Pulsar device simultaneously."
   ]
  },
  {
   "cell_type": "code",
   "execution_count": 4,
   "metadata": {},
   "outputs": [
    {
     "data": {
      "text/plain": [
       "{'module': 0,\n",
       " 'opcode': 0,\n",
       " 'message': 'Connection with Pulsar device opened successfully.'}"
      ]
     },
     "execution_count": 4,
     "metadata": {},
     "output_type": "execute_result"
    }
   ],
   "source": [
    "# Use the method by default to connect to only one Pulsar device.\n",
    "pulsar.open()\n",
    "\n",
    "# Otherwise, use the path attribute to identify each Pulsar device. Uncomment the line below and comment the line #2.\n",
    "# pulsar.open(path='\\\\\\\\?\\\\HID#VID_1FC9&PID_82FC#6&48d9417&0&0000#{4d1e55b2-f16f-11cf-88cb-001111000030}')"
   ]
  },
  {
   "cell_type": "markdown",
   "metadata": {},
   "source": [
    "#### 4. Define and register a callback to handle responses and notifications from Pulsar\n",
    "\n",
    "To handle responses and notifications from Pulsar, a callback function must be defined and registered. This function will be invoked every time the Pulsar sends a response to a request, an asynchronous notification, or a message from the system.\n",
    "\n",
    "The callback function's signature is as follows: \n",
    "\n",
    "``def callback_function_name(pulsar_message: dict, system_message: dict) -> None:``\n",
    "\n",
    "Once the callback function is defined, it should be registered using the ``Pulsar.onEvent(callback_function)`` method."
   ]
  },
  {
   "cell_type": "code",
   "execution_count": 5,
   "metadata": {},
   "outputs": [],
   "source": [
    "# Define callback function\n",
    "def callback_function(pulsar_message: dict, system_message: dict) -> None:\n",
    "\n",
    "    if pulsar_message != None:\n",
    "\n",
    "        # Print mesasage\n",
    "        print(\">> New message from PULSAR:\")\n",
    "        print(pulsar_message)\n",
    "\n",
    "    if system_message != None:\n",
    "\n",
    "        # Print message\n",
    "        print(\">> New message from the SYSTEM:\")\n",
    "        print(system_message)"
   ]
  },
  {
   "cell_type": "code",
   "execution_count": 6,
   "metadata": {},
   "outputs": [
    {
     "data": {
      "text/plain": [
       "{'module': 0,\n",
       " 'opcode': 0,\n",
       " 'message': 'On event callback function registered successfully.'}"
      ]
     },
     "execution_count": 6,
     "metadata": {},
     "output_type": "execute_result"
    }
   ],
   "source": [
    "# Register callback function\n",
    "pulsar.onEvent(callback_function)"
   ]
  },
  {
   "attachments": {},
   "cell_type": "markdown",
   "metadata": {},
   "source": [
    "#### 5. Define a function to generate transaction IDs\n",
    "\n",
    "All the request messages sent to the Pulsar from the USB Host application must include the transaction or request ID. The ID is a 2-byte integer with an allowed range of ``[1, 65535]``.\n",
    "\n",
    "In this example, a dummy function called ``getId()`` is defined to increment a transaction counter used as the ID."
   ]
  },
  {
   "cell_type": "code",
   "execution_count": 7,
   "metadata": {},
   "outputs": [],
   "source": [
    "#Auxiliar code to generate IDs.\n",
    "\n",
    "counter_id = 0\n",
    "\n",
    "def getId():\n",
    "    global counter_id\n",
    "    counter_id = counter_id + 1\n",
    "    return counter_id"
   ]
  },
  {
   "cell_type": "markdown",
   "metadata": {},
   "source": [
    "## System API"
   ]
  },
  {
   "cell_type": "markdown",
   "metadata": {},
   "source": [
    "```Pulsar.getDeviceInfo(id)```\n",
    "\n",
    "This method retrieves the device metadata including: manufacturer, product name, serial number, hardware version, firmware version and the device supported groups.\n",
    "This method intends to replace the `getUsbString` method.\n",
    "- ``id: int`` : A 2-byte integer that represents the transfer ID."
   ]
  },
  {
   "cell_type": "code",
   "execution_count": 8,
   "metadata": {},
   "outputs": [
    {
     "data": {
      "text/plain": [
       "{'module': 1, 'opcode': 0, 'message': 'GET DEVICE INFO request success'}"
      ]
     },
     "execution_count": 8,
     "metadata": {},
     "output_type": "execute_result"
    },
    {
     "name": "stdout",
     "output_type": "stream",
     "text": [
      ">> New message from PULSAR:\n",
      "{'id': 1, 'command': 'SYS GET DEVICE INFO', 'result': 'SUCCESS', 'manufacturer': 'Binho LLC', 'product_name': 'Pulsar', 'serial_number': '0AA4AA0BBF431055B02059D06095F7BB', 'hardware_version': 'B', 'firmware_version': '4.1.2', 'capabilities': {'supported_groups': ['I2C', 'SPI', 'UART', 'GPIO']}}\n"
     ]
    }
   ],
   "source": [
    "pulsar.getDeviceInfo(getId())"
   ]
  },
  {
   "attachments": {},
   "cell_type": "markdown",
   "metadata": {},
   "source": [
    "``Pulsar.getUsbString(id, subCommand)``\n",
    "\n",
    "The ``GET USB STRING`` command allows you to retrieve various string values related to the product, such as the manufacturer, product name, serial number, firmware version, and hardware version. This command serves as a basic test to verify the communication and functionality with the Pulsar device. By successfully receiving the expected string values, you can ensure that the communication between the PC host and the Pulsar device is functioning as expected.\n",
    "\n",
    "- ``id: int`` : A 2-byte integer that represents the transfer ID.\n",
    "- ``subCommand: GetUsbStringSubCommand``: The subcommand parameter indicates which string must be returned by the device."
   ]
  },
  {
   "cell_type": "code",
   "execution_count": 9,
   "metadata": {},
   "outputs": [
    {
     "name": "stdout",
     "output_type": "stream",
     "text": [
      ">> New message from PULSAR:\n",
      "{'id': 2, 'command': 'SYS GET USB STRING', 'result': 'SUCCESS', 'payload_length': 12, 'payload': 'MN-Binho LLC'}\n",
      ">> New message from PULSAR:\n",
      "{'id': 3, 'command': 'SYS GET USB STRING', 'result': 'SUCCESS', 'payload_length': 15, 'payload': 'PR-Binho Pulsar'}\n",
      ">> New message from PULSAR:\n",
      "{'id': 4, 'command': 'SYS GET USB STRING', 'result': 'SUCCESS', 'payload_length': 35, 'payload': 'SN-0AA4AA0BBF431055B02059D06095F7BB'}\n",
      ">> New message from PULSAR:\n",
      "{'id': 5, 'command': 'SYS GET USB STRING', 'result': 'SUCCESS', 'payload_length': 8, 'payload': 'FW-4.1.2'}\n",
      ">> New message from PULSAR:\n",
      "{'id': 6, 'command': 'SYS GET USB STRING', 'result': 'SUCCESS', 'payload_length': 4, 'payload': 'HW-B'}\n"
     ]
    }
   ],
   "source": [
    "# GET USB STRING - Get Manufacturer\n",
    "request_result = pulsar.getUsbString(getId(), GetUsbStringSubCommand.MANUFACTURER)\n",
    "\n",
    "# GET USB STRING  - Get Product Name\n",
    "request_result = pulsar.getUsbString(getId(), GetUsbStringSubCommand.PRODUCT_NAME)\n",
    "\n",
    "# GET USB STRING  - Get Serial Number\n",
    "request_result = pulsar.getUsbString(getId(), GetUsbStringSubCommand.SERIAL_NUMBER)\n",
    "\n",
    "# GET USB STRING  - Firmware Version\n",
    "request_result = pulsar.getUsbString(getId(), GetUsbStringSubCommand.FW_VERSION)\n",
    "\n",
    "# GET USB STRING  - Hardware Version\n",
    "request_result = pulsar.getUsbString(getId(), GetUsbStringSubCommand.HW_VERSION)"
   ]
  },
  {
   "cell_type": "markdown",
   "metadata": {},
   "source": [
    "``Pulsar.setI2cSpiUartGpioVoltage(id, voltage_mV)``\n",
    "\n",
    "This method supplies the indicated voltage to the bus in mV, ranging from 1200 mV up to 3300 mV. It also allows setting the value 0 mV to power off the output voltage.\n",
    "\n",
    "- ``id: int`` : A 2-byte integer that represents the transfer ID.\n",
    "- ``voltage_mV: c_int16 ``: The voltage parameter is a 2-byte integer in the range [1200, 3300] mV and allows the value 0 mV to power off the output voltage."
   ]
  },
  {
   "cell_type": "code",
   "execution_count": 10,
   "metadata": {},
   "outputs": [
    {
     "data": {
      "text/plain": [
       "{'module': 1,\n",
       " 'opcode': 0,\n",
       " 'message': 'SET I2C SPI UART GPIO VOLTAGE request success'}"
      ]
     },
     "execution_count": 10,
     "metadata": {},
     "output_type": "execute_result"
    },
    {
     "name": "stdout",
     "output_type": "stream",
     "text": [
      ">> New message from PULSAR:\n",
      "{'id': 7, 'command': 'SYS SET I2C SPI UART GPIO VOLTAGE', 'result': 'SUCCESS'}\n"
     ]
    }
   ],
   "source": [
    "pulsar.setI2cSpiUartGpioVoltage(getId(), 3300)"
   ]
  },
  {
   "cell_type": "markdown",
   "metadata": {},
   "source": [
    "``Pulsar.getAnalogMeasurements(id)``\n",
    "\n",
    "This method returns the voltage of all the internal and external power domains, in mV.\n",
    "\n",
    "- ``id: int`` : A 2-byte integer that represents the transfer ID."
   ]
  },
  {
   "cell_type": "code",
   "execution_count": 11,
   "metadata": {},
   "outputs": [
    {
     "data": {
      "text/plain": [
       "{'module': 1,\n",
       " 'opcode': 0,\n",
       " 'message': 'GET ANALOG MEASUREMENTS request success'}"
      ]
     },
     "execution_count": 11,
     "metadata": {},
     "output_type": "execute_result"
    },
    {
     "name": "stdout",
     "output_type": "stream",
     "text": [
      ">> New message from PULSAR:\n",
      "{'id': 8, 'command': 'SYS GET ANALOG MEASUREMENTS', 'result': 'SUCCESS', 'i2c_spi_uart_gpio_vtarg': {'internal_mV': 3295, 'external_mV': 3295}, 'i3c_low_voltage_vtarg': {'internal_mV': 0, 'external_mV': 0}, 'i3c_high_voltage_vtarg': {'internal_mV': 0, 'external_mV': 0}}\n"
     ]
    }
   ],
   "source": [
    "pulsar.getAnalogMeasurements(getId())"
   ]
  },
  {
   "cell_type": "markdown",
   "metadata": {},
   "source": [
    "``Pulsar.useExternalI2cSpiUartGpioVoltage(id)``\n",
    "\n",
    "This method indicates that an external voltage source is used to supply the I2C, SPI and UART buses as well as GPIOs interface, and the Pulsar must set its internal voltage to meet the external voltage. This methods returns the voltage measured in the VTARG pin.\n",
    "\n",
    "- ``id: int`` : A 2-byte integer that represents the transfer ID."
   ]
  },
  {
   "cell_type": "code",
   "execution_count": 12,
   "metadata": {},
   "outputs": [
    {
     "data": {
      "text/plain": [
       "{'module': 1,\n",
       " 'opcode': 0,\n",
       " 'message': 'USE EXT SRC I2C-SPI-UART-GPIO VOLTAGE request success'}"
      ]
     },
     "execution_count": 12,
     "metadata": {},
     "output_type": "execute_result"
    },
    {
     "name": "stdout",
     "output_type": "stream",
     "text": [
      ">> New message from PULSAR:\n",
      "{'id': 9, 'command': 'SYS USE EXTERNAL I2C SPI UART GPIO VOLTAGE', 'result': 'VOLTAGE_OUT_OF_RANGE', 'voltage_mV': 2}\n"
     ]
    }
   ],
   "source": [
    "pulsar.useExternalI2cSpiUartGpioVoltage(getId())"
   ]
  },
  {
   "cell_type": "markdown",
   "metadata": {},
   "source": [
    "``Pulsar.resetDevice(id)``\n",
    "\n",
    "This method resets the Pulsar. As a result an `UsbDisconnectionError Exception` will be raised when the devices is reset. \n",
    "\n",
    "- ``id: int`` : A 2-byte integer that represents the transfer ID.\n"
   ]
  },
  {
   "cell_type": "code",
   "execution_count": 13,
   "metadata": {},
   "outputs": [
    {
     "name": "stdout",
     "output_type": "stream",
     "text": [
      ">> New message from the SYSTEM:\n",
      "{'module': 0, 'opcode': 5, 'message': 'Error UNEXPECTED_DISCONNECTION: Unexpected Pulsar disconnection.'}\n"
     ]
    },
    {
     "data": {
      "text/plain": [
       "{'module': 1, 'opcode': 0, 'message': 'RESET DEVICE request success'}"
      ]
     },
     "execution_count": 13,
     "metadata": {},
     "output_type": "execute_result"
    }
   ],
   "source": [
    "pulsar.resetDevice(getId())"
   ]
  },
  {
   "cell_type": "markdown",
   "metadata": {},
   "source": [
    "``Pulsar.enterBootMode(id)``\n",
    "\n",
    "This method makes the Pulsar jump to the USB bootloader. As a result an `UsbDisconnectionError Exception` will be raised when the devices is reset and then a new USB mass storage device should be enumerated by the OS whose name should be **SUPERNOVA**. \n",
    "\n",
    "- ``id: int`` : A 2-byte integer that represents the transfer ID.\n"
   ]
  },
  {
   "cell_type": "code",
   "execution_count": null,
   "metadata": {},
   "outputs": [],
   "source": [
    "pulsar.enterBootMode(getId())"
   ]
  },
  {
   "cell_type": "markdown",
   "metadata": {},
   "source": [
    "## Close communication\n",
    "\n",
    "Use the ``Pulsar.close()`` method to end the communication with the Pulsar device and release the used memory in the background like threads and so on."
   ]
  },
  {
   "cell_type": "code",
   "execution_count": null,
   "metadata": {},
   "outputs": [],
   "source": [
    "# Close the communication with the Pulsar device.\n",
    "pulsar.close()"
   ]
  }
 ],
 "metadata": {
  "kernelspec": {
   "display_name": "Python 3",
   "language": "python",
   "name": "python3"
  },
  "language_info": {
   "codemirror_mode": {
    "name": "ipython",
    "version": 3
   },
   "file_extension": ".py",
   "mimetype": "text/x-python",
   "name": "python",
   "nbconvert_exporter": "python",
   "pygments_lexer": "ipython3",
   "version": "3.11.9"
  },
  "orig_nbformat": 4
 },
 "nbformat": 4,
 "nbformat_minor": 2
}
