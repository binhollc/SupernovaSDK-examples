{
 "cells": [
  {
   "cell_type": "code",
   "execution_count": 1,
   "metadata": {},
   "outputs": [],
   "source": [
    "# Import Python package\n",
    "import BinhoPulsar\n",
    "from BinhoPulsar.Pulsar import Pulsar\n",
    "from BinhoPulsar.commands.system.definitions import *\n",
    "from BinhoPulsar.commands.i2c.definitions import *"
   ]
  },
  {
   "cell_type": "markdown",
   "metadata": {},
   "source": [
    "## Getting started"
   ]
  },
  {
   "attachments": {},
   "cell_type": "markdown",
   "metadata": {},
   "source": [
    "#### 1. List all the Pulsar devices connected to the PC host\n",
    "\n",
    "The ``BinhoPulsar.getConnectedPulsarDevicesList()`` gets a list of the Pulsar devices plugged into the host PC machine."
   ]
  },
  {
   "cell_type": "code",
   "execution_count": 2,
   "metadata": {},
   "outputs": [
    {
     "data": {
      "text/plain": [
       "[{'path': '\\\\\\\\?\\\\HID#VID_1FC9&PID_82FD#7&2450afe2&0&0000#{4d1e55b2-f16f-11cf-88cb-001111000030}',\n",
       "  'vendor_id': '0x1fc9',\n",
       "  'product_id': '0x82fd',\n",
       "  'serial_number': '80F39E5FDBEF2053B16BBC5AB6EFA89',\n",
       "  'release_number': 256,\n",
       "  'manufacturer_string': 'Binho LLC',\n",
       "  'product_string': 'Binho Pulsar',\n",
       "  'usage_page': 65280,\n",
       "  'usage': 1,\n",
       "  'interface_number': 0}]"
      ]
     },
     "execution_count": 2,
     "metadata": {},
     "output_type": "execute_result"
    }
   ],
   "source": [
    "BinhoPulsar.getConnectedPulsarDevicesList()"
   ]
  },
  {
   "attachments": {},
   "cell_type": "markdown",
   "metadata": {},
   "source": [
    "#### 2. Create an instance of the Pulsar class\n",
    "\n",
    "To utilize a Pulsar USB host adapter device, we need to create an instance of the Pulsar class."
   ]
  },
  {
   "cell_type": "code",
   "execution_count": 3,
   "metadata": {},
   "outputs": [],
   "source": [
    "# Create a device instance. One instance of the Pulsar class represents a Pulsar USB host adapter device.\n",
    "pulsar = Pulsar()"
   ]
  },
  {
   "cell_type": "markdown",
   "metadata": {},
   "source": [
    "#### 3. Open connection to the Pulsar device\n",
    "\n",
    "The public method ``Pulsar.open()`` establishes the connection with a Pulsar device. Below is the complete signature:\n",
    "\n",
    "```python\n",
    "open(serial, path)\n",
    "```\n",
    "\n",
    "- ``serial: str``: The Pulsar serial number.\n",
    "- ``path: str``: The OS HID path assigned to the device. This can be obtained using the ``BinhoPulsar.getConnectedPulsarDevicesList()`` method. The ``path`` parameter is currently the only way to uniquely identify each Pulsar device. Therefore, it is recommended to use the ``path`` parameter, especially when opening connections with more than one Pulsar device simultaneously."
   ]
  },
  {
   "cell_type": "code",
   "execution_count": 4,
   "metadata": {},
   "outputs": [
    {
     "data": {
      "text/plain": [
       "{'module': 0,\n",
       " 'opcode': 0,\n",
       " 'message': 'Connection with Pulsar device opened successfully.'}"
      ]
     },
     "execution_count": 4,
     "metadata": {},
     "output_type": "execute_result"
    }
   ],
   "source": [
    "# Use the method by default to connect to only one Pulsar device.\n",
    "pulsar.open()\n",
    "\n",
    "# Otherwise, use the path attribute to identify each Pulsar device. Uncomment the line below and comment the line #2.\n",
    "# pulsar.open(path='\\\\\\\\?\\\\HID#VID_1FC9&PID_82FD#7&384f89b9&0&0000#{4d1e55b2-f16f-11cf-88cb-001111000030}')"
   ]
  },
  {
   "cell_type": "markdown",
   "metadata": {},
   "source": [
    "#### 4. Define and register a callback to handle responses and notifications from Pulsar\n",
    "\n",
    "To handle responses and notifications from Pulsar, a callback function must be defined and registered. This function will be invoked every time the Pulsar sends a response to a request, an asynchronous notification, or a message from the system.\n",
    "\n",
    "The callback function's signature is as follows: \n",
    "\n",
    "``def callback_function_name(pulsar_message: dict, system_message: dict) -> None:``\n",
    "\n",
    "Once the callback function is defined, it should be registered using the ``Pulsar.onEvent(callback_function)`` method."
   ]
  },
  {
   "cell_type": "code",
   "execution_count": 5,
   "metadata": {},
   "outputs": [],
   "source": [
    "# Define callback function\n",
    "def callback_function(pulsar_message: dict, system_message: dict) -> None:\n",
    "    \n",
    "    if pulsar_message != None:\n",
    "\n",
    "        # Print message\n",
    "        print(\">> New message from PULSAR:\")\n",
    "        print(pulsar_message)\n",
    "    \n",
    "    if system_message != None:\n",
    "\n",
    "        # Print message\n",
    "        print(\">> New message from the SYSTEM:\")\n",
    "        print(system_message)"
   ]
  },
  {
   "cell_type": "code",
   "execution_count": 6,
   "metadata": {},
   "outputs": [
    {
     "data": {
      "text/plain": [
       "{'module': 0,\n",
       " 'opcode': 0,\n",
       " 'message': 'On event callback function registered successfully.'}"
      ]
     },
     "execution_count": 6,
     "metadata": {},
     "output_type": "execute_result"
    }
   ],
   "source": [
    "# Register callback function\n",
    "pulsar.onEvent(callback_function)"
   ]
  },
  {
   "attachments": {},
   "cell_type": "markdown",
   "metadata": {},
   "source": [
    "#### 5. Define a function to generate transaction IDs\n",
    "\n",
    "All the request messages sent to the Pulsar from the USB Host application must include the transaction or request ID. The ID is a 2-byte integer with an allowed range of ``[1, 65535]``.\n",
    "\n",
    "In this example, a dummy function called ``getId()`` is defined to increment a transaction counter used as the ID."
   ]
  },
  {
   "cell_type": "code",
   "execution_count": 7,
   "metadata": {},
   "outputs": [],
   "source": [
    "#Auxiliary code to generate IDs.\n",
    "\n",
    "counter_id = 0\n",
    "\n",
    "def getId():\n",
    "    global counter_id\n",
    "    counter_id = counter_id + 1\n",
    "    return counter_id"
   ]
  },
  {
   "attachments": {},
   "cell_type": "markdown",
   "metadata": {},
   "source": [
    "#### 6. Test communication with a basic command such as ``GET USB STRING``\n",
    "\n",
    "The ``GET USB STRING`` command allows you to retrieve various string values related to the product, such as the manufacturer, product name, serial number, firmware version, and hardware version. This command serves as a basic test to verify the communication and functionality with the Pulsar device. By successfully receiving the expected string values, you can ensure that the communication between the PC host and the Pulsar device is functioning as expected."
   ]
  },
  {
   "cell_type": "code",
   "execution_count": 8,
   "metadata": {},
   "outputs": [
    {
     "name": "stdout",
     "output_type": "stream",
     "text": [
      ">> New message from PULSAR:\n",
      "{'id': 1, 'command': 'SYS GET USB STRING', 'result': 'SUCCESS', 'payload_length': 12, 'payload': 'MN-Binho LLC'}\n",
      ">> New message from PULSAR:\n",
      "{'id': 2, 'command': 'SYS GET USB STRING', 'result': 'SUCCESS', 'payload_length': 15, 'payload': 'PR-Binho Pulsar'}\n",
      ">> New message from PULSAR:\n",
      "{'id': 3, 'command': 'SYS GET USB STRING', 'result': 'SUCCESS', 'payload_length': 35, 'payload': 'SN-80F39E5FDBEF2053B16BBC5AB6EFA89D'}\n",
      ">> New message from PULSAR:\n",
      "{'id': 4, 'command': 'SYS GET USB STRING', 'result': 'SUCCESS', 'payload_length': 8, 'payload': 'FW-4.0.0'}\n",
      ">> New message from PULSAR:\n",
      "{'id': 5, 'command': 'SYS GET USB STRING', 'result': 'SUCCESS', 'payload_length': 4, 'payload': 'HW-C'}\n"
     ]
    }
   ],
   "source": [
    "# GET USB STRING - Get Manufacturer\n",
    "r = pulsar.getUsbString(getId(), GetUsbStringSubCommand.MANUFACTURER)\n",
    "\n",
    "# GET USB STRING  - Get Product Name\n",
    "r = pulsar.getUsbString(getId(), GetUsbStringSubCommand.PRODUCT_NAME)\n",
    "\n",
    "# GET USB STRING  - Get Serial Number\n",
    "r = pulsar.getUsbString(getId(), GetUsbStringSubCommand.SERIAL_NUMBER)\n",
    "\n",
    "# GET USB STRING  - Firmware Version\n",
    "r = pulsar.getUsbString(getId(), GetUsbStringSubCommand.FW_VERSION)\n",
    "\n",
    "# GET USB STRING  - Hardware Version\n",
    "r = pulsar.getUsbString(getId(), GetUsbStringSubCommand.HW_VERSION)"
   ]
  },
  {
   "attachments": {},
   "cell_type": "markdown",
   "metadata": {},
   "source": [
    "## I2C Protocol API\n",
    "\n",
    "The I2C Protocol API methods are described below."
   ]
  },
  {
   "cell_type": "markdown",
   "metadata": {},
   "source": [
    "**I2C Bus definition**\n",
    "\n",
    "The Pulsar device has two I2C buses, A and B. The I2C Bus A corresponds to the Qwiic port, while the I2C Bus B corresponds to the Breakout Board I2C pins. To select the I2C bus to communicate with, the following variable is defined to use in the I2C-related methods. In this demonstration the I2C Bus A is used by connecting the FRAM memory to the Qwiic connector. To use the I2C Bus B modify the defined variable and connect the memory to the pins on the Breakout Board."
   ]
  },
  {
   "cell_type": "code",
   "execution_count": 9,
   "metadata": {},
   "outputs": [],
   "source": [
    "I2C_BUS = I2cBus.I2C_BUS_A"
   ]
  },
  {
   "cell_type": "markdown",
   "metadata": {},
   "source": [
    "``Pulsar.setI2cSpiUartGpioVoltage(id, voltage_mV)``\n",
    "\n",
    "This method supplies the indicated voltage to the bus in mV, ranging from 1200 mV up to 3300 mV.\n",
    "\n",
    "- ``id: int`` : A 2-byte integer that represents the transfer ID.\n",
    "- ``voltage_mV: c_int16 ``: The voltage parameter is a 2-byte integer in the range [1200, 3300] mV. It also allows the value 0 mV to power off the output voltage."
   ]
  },
  {
   "cell_type": "code",
   "execution_count": 10,
   "metadata": {},
   "outputs": [
    {
     "data": {
      "text/plain": [
       "{'module': 1,\n",
       " 'opcode': 0,\n",
       " 'message': 'SET I2C SPI UART GPIO VOLTAGE request success'}"
      ]
     },
     "execution_count": 10,
     "metadata": {},
     "output_type": "execute_result"
    },
    {
     "name": "stdout",
     "output_type": "stream",
     "text": [
      ">> New message from PULSAR:\n",
      "{'id': 6, 'command': 'SYS SET I2C SPI UART GPIO VOLTAGE', 'result': 'SUCCESS'}\n"
     ]
    }
   ],
   "source": [
    "pulsar.setI2cSpiUartGpioVoltage(getId(), 3300)"
   ]
  },
  {
   "cell_type": "markdown",
   "metadata": {},
   "source": [
    "``Pulsar.i2cControllerInit(id, busId, frequency, pullUpResistorValue)``\n",
    "\n",
    "This method initializes the Pulsar as an I2C controller.\n",
    "\n",
    "  - ``id: int`` : A 2-byte integer that represents the transfer ID.\n",
    "  - ``busId: I2cBus`` : The I2C Bus identifier.\n",
    "  - ``frequency: int`` : This parameter represents the I2C SCL frequency in Hz. Currently, the minimum allowed value is 100000 Hz and the maximum allowed value is 1000000 Hz.\n",
    "  - ``pullUpResistorsValue: I2cPullUpResistorsValue`` : This parameter indicates the desire pull up resistors value to be set in the SDA and SCL lines. This parameter can take the following values:\n",
    "\n",
    "    - ``I2cPullUpResistorsValue.I2C_PULLUP_4kOhm``\n",
    "    - ``I2cPullUpResistorsValue.I2C_PULLUP_2_2kOhm``\n",
    "    - ``I2cPullUpResistorsValue.I2C_PULLUP_1_5kOhm``\n",
    "    - ``I2cPullUpResistorsValue.I2C_PULLUP_1kOhm``\n",
    "    - ``I2cPullUpResistorsValue.I2C_PULLUP_680Ohm``\n",
    "    - ``I2cPullUpResistorsValue.I2C_PULLUP_470Ohm``\n",
    "    - ``I2cPullUpResistorsValue.I2C_PULLUP_330Ohm``\n",
    "    - ``I2cPullUpResistorsValue.I2C_PULLUP_220Ohm``\n",
    "    - ``I2cPullUpResistorsValue.I2C_PULLUP_150Ohm``\n",
    "    - ``I2cPullUpResistorsValue.I2C_PULLUP_DISABLED``"
   ]
  },
  {
   "cell_type": "code",
   "execution_count": 11,
   "metadata": {},
   "outputs": [
    {
     "data": {
      "text/plain": [
       "{'module': 1, 'opcode': 0, 'message': 'I2C CONTROLLER INIT request success'}"
      ]
     },
     "execution_count": 11,
     "metadata": {},
     "output_type": "execute_result"
    },
    {
     "name": "stdout",
     "output_type": "stream",
     "text": [
      ">> New message from PULSAR:\n",
      "{'id': 7, 'command': 'I2C CONTROLLER INIT', 'result': 'SUCCESS', 'i2c_bus': 'I2C_BUS_A'}\n"
     ]
    }
   ],
   "source": [
    "pulsar.i2cControllerInit(getId(), I2C_BUS, 1000000, I2cPullUpResistorsValue.I2C_PULLUP_DISABLE)"
   ]
  },
  {
   "cell_type": "markdown",
   "metadata": {},
   "source": [
    "``Pulsar.i2cControllerSetParameters(id, busId, frequency, pullUpResistorValue)``\n",
    "\n",
    "This method sets the I2C transfers baudrate and pull up resistors value for the SDA and SCL lines.\n",
    "\n",
    "  - ``id: int`` : A 2-byte integer that represents the transfer ID.\n",
    "  - ``busId: I2cBus`` : The I2C Bus identifier.\n",
    "  - ``frequency: int`` : This parameter represents the I2C SCL frequency in Hz. Currently, the minimum allowed value is 100000 Hz and the maximum allowed value is 1000000 Hz.\n",
    "  - ``pullUpResistorsValue: I2cPullUpResistorsValue`` : This parameter indicates the desire pull up resistors value to be set in the SDA and SCL lines. This parameter can take the following values:\n",
    "\n",
    "    - ``I2cPullUpResistorsValue.I2C_PULLUP_4kOhm``\n",
    "    - ``I2cPullUpResistorsValue.I2C_PULLUP_2_2kOhm``\n",
    "    - ``I2cPullUpResistorsValue.I2C_PULLUP_1_5kOhm``\n",
    "    - ``I2cPullUpResistorsValue.I2C_PULLUP_1kOhm``\n",
    "    - ``I2cPullUpResistorsValue.I2C_PULLUP_680Ohm``\n",
    "    - ``I2cPullUpResistorsValue.I2C_PULLUP_470Ohm``\n",
    "    - ``I2cPullUpResistorsValue.I2C_PULLUP_330Ohm``\n",
    "    - ``I2cPullUpResistorsValue.I2C_PULLUP_220Ohm``\n",
    "    - ``I2cPullUpResistorsValue.I2C_PULLUP_150Ohm``\n",
    "    - ``I2cPullUpResistorsValue.I2C_PULLUP_DISABLED``"
   ]
  },
  {
   "cell_type": "code",
   "execution_count": 12,
   "metadata": {},
   "outputs": [
    {
     "data": {
      "text/plain": [
       "{'module': 1, 'opcode': 0, 'message': 'I2C SET PARAMETERS request success'}"
      ]
     },
     "execution_count": 12,
     "metadata": {},
     "output_type": "execute_result"
    },
    {
     "name": "stdout",
     "output_type": "stream",
     "text": [
      ">> New message from PULSAR:\n",
      "{'id': 8, 'command': 'I2C CONTROLLER SET PARAMETERS', 'result': 'SUCCESS', 'i2c_bus': 'I2C_BUS_A'}\n"
     ]
    }
   ],
   "source": [
    "pulsar.i2cControllerSetParameters(getId(), I2C_BUS, 100000, I2cPullUpResistorsValue.I2C_PULLUP_2_2kOhm)"
   ]
  },
  {
   "cell_type": "markdown",
   "metadata": {},
   "source": [
    "``Pulsar.i2cSetPullUpResistors(id, busId, pullUpResistorsValue)``\n",
    "\n",
    "This method sets the I2C pull up resistors value for the SDA and SCL signals.\n",
    "\n",
    "  - ``id: int`` : A 2-byte integer that represents the transfer ID.\n",
    "  - ``busId: I2cBus`` : The I2C Bus identifier.\n",
    "  - ``pullUpResistorsValue: I2cPullUpResistorsValue`` : This parameter indicates the desire pull up resistors value to be set in the SDA and SCL lines. This parameter can take the following values:\n",
    "\n",
    "    - ``I2cPullUpResistorsValue.I2C_PULLUP_4kOhm``\n",
    "    - ``I2cPullUpResistorsValue.I2C_PULLUP_2_2kOhm``\n",
    "    - ``I2cPullUpResistorsValue.I2C_PULLUP_1_5kOhm``\n",
    "    - ``I2cPullUpResistorsValue.I2C_PULLUP_1kOhm``\n",
    "    - ``I2cPullUpResistorsValue.I2C_PULLUP_680Ohm``\n",
    "    - ``I2cPullUpResistorsValue.I2C_PULLUP_470Ohm``\n",
    "    - ``I2cPullUpResistorsValue.I2C_PULLUP_330Ohm``\n",
    "    - ``I2cPullUpResistorsValue.I2C_PULLUP_220Ohm``\n",
    "    - ``I2cPullUpResistorsValue.I2C_PULLUP_150Ohm``"
   ]
  },
  {
   "cell_type": "code",
   "execution_count": 13,
   "metadata": {},
   "outputs": [
    {
     "data": {
      "text/plain": [
       "{'module': 1,\n",
       " 'opcode': 0,\n",
       " 'message': 'I2C SET PULL UP RESISTORS request success'}"
      ]
     },
     "execution_count": 13,
     "metadata": {},
     "output_type": "execute_result"
    },
    {
     "name": "stdout",
     "output_type": "stream",
     "text": [
      ">> New message from PULSAR:\n",
      "{'id': 9, 'command': 'I2C SET PULLUP RESISTORS', 'result': 'SUCCESS', 'i2c_bus': 'I2C_BUS_A'}\n"
     ]
    }
   ],
   "source": [
    "pulsar.i2cSetPullUpResistors(getId(), I2C_BUS, I2cPullUpResistorsValue.I2C_PULLUP_4kOhm)"
   ]
  },
  {
   "cell_type": "markdown",
   "metadata": {},
   "source": [
    "``Pulsar.i2cControllerWrite(id, busId, targetAddress, registerAddress, data, isNonStop = False)``\n",
    "\n",
    "This method is used to request to the Pulsar device to perform an I2C write transfer. The\n",
    "I2C write transfer starts with a START condition and ends with a STOP condition.\n",
    "\n",
    "  - ``id: int`` : It is a 2-bytes integer that represent the transfer id.\n",
    "  - ``busId: I2cBus`` : The I2C Bus identifier.\n",
    "  - ``targetAddress: int`` : I2C target static address.\n",
    "  - ``registerAddress: list `` : A Python list that contains the memory/register address of the I2C target's internal memory, to which the data will be written. The list holds bytes, and can have a length from 0 bytes up to 4 bytes. If the list is empty, the Pulsar will ignore it and write only the data payload.\n",
    "  - ``data: list`` : A Python list that contains the I2C data to be transferred in the I2C write operation. The list holds bytes elements, and the maximum length is 1024 bytes.\n",
    "  - ``isNonStop: bool`` : (Optional) This parameter indicates if the I2C write transfer is non-stop, meaning that it ends **without** a STOP condition. If the flag is set to False, the transfer ends with STOP; otherwise, if it's True, the transfer is non-stop, without a STOP condition at the end. By default, the flag is set to False indicating the transfer ends with a STOP condition"
   ]
  },
  {
   "cell_type": "code",
   "execution_count": 14,
   "metadata": {},
   "outputs": [
    {
     "data": {
      "text/plain": [
       "{'module': 1, 'opcode': 0, 'message': 'I2C CONTROLLER WRITE request success'}"
      ]
     },
     "execution_count": 14,
     "metadata": {},
     "output_type": "execute_result"
    },
    {
     "name": "stdout",
     "output_type": "stream",
     "text": [
      ">> New message from PULSAR:\n",
      "{'id': 10, 'command': 'I2C CONTROLLER WRITE', 'result': 'SUCCESS', 'i2c_bus': 'I2C_BUS_A', 'payload_length': 111}\n"
     ]
    }
   ],
   "source": [
    "TARGET_ADDRESS   = 0x50\n",
    "TARGET_REGISTER_ADDRESS = [0,0]   # [reg, page]  \n",
    "data = [44 for i in range(1,112)]\n",
    "\n",
    "pulsar.i2cControllerWrite(getId(), I2C_BUS, TARGET_ADDRESS, TARGET_REGISTER_ADDRESS, data)"
   ]
  },
  {
   "cell_type": "markdown",
   "metadata": {},
   "source": [
    "``Pulsar.i2cControllerRead(id,  busId, targetAddress, requestDataLength, registerAddress: list = [])``\n",
    "\n",
    "This method is used to request the USB device to perform an I2C read operation. If the parameter `registerAddress` is populated, the read operation is preceded by an I2C write transfer to send the register/memory address from which the data will be read. A R-Start condition is performed between the I2C write and I2C read transfers.\n",
    "\n",
    "  - ``id: int`` : A 2-byte integer that represent the transaction ID.\n",
    "  - ``busId: I2cBus`` : The I2C Bus identifier.\n",
    "  - ``targetAddress: c_uint8`` : I2C target static address.\n",
    "  - ``requestDataLength: int`` : Length of the data to be read. The maximum value is 1024 bytes.\n",
    "  - ``registerAddress: list `` : (Optional) A Python list that contains the memory/register address of the I2C target's internal memory, from which the data will be read. The list holds bytes, and it can have a length from 0 bytes up to 4 bytes. If the list is empty, the Pulsar will perform an I2C Read operation without indicating the register address and starts reading from the last position of the previous transfer."
   ]
  },
  {
   "cell_type": "code",
   "execution_count": 15,
   "metadata": {},
   "outputs": [
    {
     "data": {
      "text/plain": [
       "{'module': 1, 'opcode': 0, 'message': 'I2C CONTROLLER READ request success'}"
      ]
     },
     "execution_count": 15,
     "metadata": {},
     "output_type": "execute_result"
    },
    {
     "name": "stdout",
     "output_type": "stream",
     "text": [
      ">> New message from PULSAR:\n",
      "{'id': 11, 'command': 'I2C CONTROLLER READ', 'result': 'SUCCESS', 'i2c_bus': 'I2C_BUS_A', 'payload_length': 30, 'payload': [44, 44, 44, 44, 44, 44, 44, 44, 44, 44, 44, 44, 44, 44, 44, 44, 44, 44, 44, 44, 44, 44, 44, 44, 44, 44, 44, 44, 44, 44]}\n"
     ]
    }
   ],
   "source": [
    "TARGET_ADDRESS =  0x50\n",
    "READ_LENGTH = 30\n",
    "# Indicate the register address to perform an I2C Read From operation\n",
    "TARGET_REGISTER_ADDRESS = [0,0]   # [reg, page]\n",
    "\n",
    "pulsar.i2cControllerRead(getId(), I2C_BUS, TARGET_ADDRESS, READ_LENGTH, TARGET_REGISTER_ADDRESS)"
   ]
  },
  {
   "cell_type": "markdown",
   "metadata": {},
   "source": [
    "**Write Non-Stop**\n",
    "\n",
    "``Pulsar.i2cControllerWrite(id, busId, targetAddress, registerAddress, data, isNonStop = True)``\n",
    "\n",
    "In this case, the I2C controller write method is used to request the the USB device to perform an I2C write operation that starts with a START condition but the STOP condition is not performed after the last byte. To indicate this, we will set the `isNonStop` flag to True."
   ]
  },
  {
   "cell_type": "code",
   "execution_count": 16,
   "metadata": {},
   "outputs": [
    {
     "data": {
      "text/plain": [
       "{'module': 1, 'opcode': 0, 'message': 'I2C CONTROLLER WRITE request success'}"
      ]
     },
     "execution_count": 16,
     "metadata": {},
     "output_type": "execute_result"
    },
    {
     "name": "stdout",
     "output_type": "stream",
     "text": [
      ">> New message from PULSAR:\n",
      "{'id': 12, 'command': 'I2C CONTROLLER WRITE', 'result': 'SUCCESS', 'i2c_bus': 'I2C_BUS_A', 'payload_length': 111}\n"
     ]
    }
   ],
   "source": [
    "TARGET_ADDRESS   = 0x50\n",
    "TARGET_REGISTER_ADDRESS = [0,0]   # [reg, page]  \n",
    "data = [55 for i in range(1,112)]\n",
    "\n",
    "pulsar.i2cControllerWrite(getId(), I2C_BUS, TARGET_ADDRESS, TARGET_REGISTER_ADDRESS, data, isNonStop=True)"
   ]
  },
  {
   "cell_type": "markdown",
   "metadata": {},
   "source": [
    "``Pulsar.i2cControllerRead(id, busId, targetAddress, requestDataLength, registerAddress: list = [])``\n",
    "\n",
    "To check the correct execution of the ``i2cControllerWrite`` command with non-stop, an ``i2cControllerRead`` command is performed, reading 70 bytes from the slave register [0, 0]"
   ]
  },
  {
   "cell_type": "code",
   "execution_count": 17,
   "metadata": {},
   "outputs": [
    {
     "data": {
      "text/plain": [
       "{'module': 1, 'opcode': 0, 'message': 'I2C CONTROLLER READ request success'}"
      ]
     },
     "execution_count": 17,
     "metadata": {},
     "output_type": "execute_result"
    },
    {
     "name": "stdout",
     "output_type": "stream",
     "text": [
      ">> New message from PULSAR:\n",
      "{'id': 13, 'command': 'I2C CONTROLLER READ', 'result': 'SUCCESS', 'i2c_bus': 'I2C_BUS_A', 'payload_length': 70, 'payload': [55, 55, 55, 55, 55, 55, 55, 55, 55, 55, 55, 55, 55, 55, 55, 55, 55, 55, 55, 55, 55, 55, 55, 55, 55, 55, 55, 55, 55, 55, 55, 55, 55, 55, 55, 55, 55, 55, 55, 55, 55, 55, 55, 55, 55, 55, 55, 55, 55, 55, 55, 55, 55, 55, 55, 55, 55, 55, 55, 55, 55, 55, 55, 55, 55, 55, 55, 55, 55, 55]}\n"
     ]
    }
   ],
   "source": [
    "TARGET_ADDRESS =  0x50\n",
    "READ_LENGTH = 70\n",
    "TARGET_REGISTER_ADDRESS = [0,0]   # [reg, page]\n",
    "\n",
    "pulsar.i2cControllerRead(getId(), I2C_BUS, TARGET_ADDRESS, READ_LENGTH, TARGET_REGISTER_ADDRESS)"
   ]
  },
  {
   "cell_type": "markdown",
   "metadata": {},
   "source": [
    "**Read**\n",
    "\n",
    "``Pulsar.i2cControllerRead(id, busId, targetAddress, requestDataLength)``\n",
    "\n",
    "In this case, the I2C controller read method is used to request the USB device to perform an I2C read operation that starts reading at the final position of the previous transfer."
   ]
  },
  {
   "cell_type": "code",
   "execution_count": 18,
   "metadata": {},
   "outputs": [
    {
     "data": {
      "text/plain": [
       "{'module': 1, 'opcode': 0, 'message': 'I2C CONTROLLER READ request success'}"
      ]
     },
     "execution_count": 18,
     "metadata": {},
     "output_type": "execute_result"
    },
    {
     "name": "stdout",
     "output_type": "stream",
     "text": [
      ">> New message from PULSAR:\n",
      "{'id': 14, 'command': 'I2C CONTROLLER READ', 'result': 'SUCCESS', 'i2c_bus': 'I2C_BUS_A', 'payload_length': 70, 'payload': [55, 55, 55, 55, 55, 55, 55, 55, 55, 55, 55, 55, 55, 55, 55, 55, 55, 55, 55, 55, 55, 55, 55, 55, 55, 55, 55, 55, 55, 55, 55, 55, 55, 55, 55, 55, 55, 55, 55, 55, 55, 178, 184, 111, 8, 187, 155, 72, 22, 34, 30, 213, 98, 81, 178, 216, 230, 170, 225, 107, 22, 8, 224, 68, 217, 146, 9, 21, 101, 233]}\n"
     ]
    }
   ],
   "source": [
    "TARGET_ADDRESS =  0x50\n",
    "READ_LENGTH = 70\n",
    "\n",
    "pulsar.i2cControllerRead(getId(), I2C_BUS, TARGET_ADDRESS, READ_LENGTH)"
   ]
  },
  {
   "cell_type": "markdown",
   "metadata": {},
   "source": [
    "## Close communication\n",
    "\n",
    "Use the ``Pulsar.close()`` method to end the communication with the Pulsar device and release the used memory in the background like threads and so on."
   ]
  },
  {
   "cell_type": "code",
   "execution_count": 19,
   "metadata": {},
   "outputs": [
    {
     "data": {
      "text/plain": [
       "{'module': 0, 'opcode': 0, 'message': 'Communication closed successfully.'}"
      ]
     },
     "execution_count": 19,
     "metadata": {},
     "output_type": "execute_result"
    }
   ],
   "source": [
    "# Close the communication with the Pulsar device.\n",
    "pulsar.close()"
   ]
  }
 ],
 "metadata": {
  "kernelspec": {
   "display_name": "Python 3",
   "language": "python",
   "name": "python3"
  },
  "language_info": {
   "codemirror_mode": {
    "name": "ipython",
    "version": 3
   },
   "file_extension": ".py",
   "mimetype": "text/x-python",
   "name": "python",
   "nbconvert_exporter": "python",
   "pygments_lexer": "ipython3",
   "version": "3.11.9"
  },
  "orig_nbformat": 4
 },
 "nbformat": 4,
 "nbformat_minor": 2
}
