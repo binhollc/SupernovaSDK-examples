{
 "cells": [
  {
   "cell_type": "code",
   "execution_count": 1,
   "metadata": {},
   "outputs": [],
   "source": [
    "# Import Python package\n",
    "import BinhoSupernova\n",
    "from BinhoSupernova.Supernova import Supernova\n",
    "from BinhoSupernova.commands.definitions import *"
   ]
  },
  {
   "cell_type": "markdown",
   "metadata": {},
   "source": [
    "## Getting started"
   ]
  },
  {
   "attachments": {},
   "cell_type": "markdown",
   "metadata": {},
   "source": [
    "#### 1. List all the Supernova devices connected to the PC host\n",
    "\n",
    "The ``BinhoSupernova.getConnectedSupernovaDevicesList()`` gets a list of the Supernova devices plugged into the host PC machine."
   ]
  },
  {
   "cell_type": "code",
   "execution_count": 2,
   "metadata": {},
   "outputs": [
    {
     "data": {
      "text/plain": [
       "[{'path': '\\\\\\\\?\\\\HID#VID_1FC9&PID_82FC#6&3ac173e5&0&0000#{4d1e55b2-f16f-11cf-88cb-001111000030}',\n",
       "  'vendor_id': '0x1fc9',\n",
       "  'product_id': '0x82fc',\n",
       "  'serial_number': '7742E9E56C791D5C9A54FCCC961E897',\n",
       "  'release_number': 256,\n",
       "  'manufacturer_string': 'Binho LLC',\n",
       "  'product_string': 'Binho Supernova',\n",
       "  'usage_page': 65280,\n",
       "  'usage': 1,\n",
       "  'interface_number': 0}]"
      ]
     },
     "execution_count": 2,
     "metadata": {},
     "output_type": "execute_result"
    }
   ],
   "source": [
    "BinhoSupernova.getConnectedSupernovaDevicesList()"
   ]
  },
  {
   "attachments": {},
   "cell_type": "markdown",
   "metadata": {},
   "source": [
    "#### 2. Create an instance of the Supernova class\n",
    "\n",
    "To utilize a Supernova USB host adapter device, we need to create an instance of the Supernova class."
   ]
  },
  {
   "cell_type": "code",
   "execution_count": 3,
   "metadata": {},
   "outputs": [],
   "source": [
    "# Create a device instance. One instance of the Supernova class represents a Supernova USB host adapter device.\n",
    "supernova = Supernova()"
   ]
  },
  {
   "cell_type": "markdown",
   "metadata": {},
   "source": [
    "#### 3. Open connection to the Supernova device\n",
    "\n",
    "The public method ``Supernova.open()`` establishes the connection with a Supernova device. Below is the complete signature:\n",
    "\n",
    "```python\n",
    "open(vid, pid, serial, path)\n",
    "```\n",
    "\n",
    "- ``vid: int``: The Supernova USB VID, which is set by default.\n",
    "- ``pid: int``: The Supernova USB PID, which is set by default.\n",
    "- ``serial: str``: The Supernova serial number.\n",
    "- ``path: str``: The OS HID path assigned to the device. This can be obtained using the ``BinhoSupernova.getConnectedSupernovaDevicesList()`` method. The ``path`` parameter is currently the only way to uniquely identify each Supernova device. Therefore, it is recommended to use the ``path`` parameter, especially when opening connections with more than one Supernova device simultaneously."
   ]
  },
  {
   "cell_type": "code",
   "execution_count": 4,
   "metadata": {},
   "outputs": [
    {
     "data": {
      "text/plain": [
       "{'module': 0,\n",
       " 'opcode': 0,\n",
       " 'message': 'Connection with Supernova device opened successfully.'}"
      ]
     },
     "execution_count": 4,
     "metadata": {},
     "output_type": "execute_result"
    }
   ],
   "source": [
    "# Use the method by default to connect to only one Supernova device.\n",
    "supernova.open()\n",
    "\n",
    "# Otherwise, use the path attribute to identify each Supernova device. Uncomment the line below and comment the line #2.\n",
    "# supernova.open(path='\\\\\\\\?\\\\HID#VID_1FC9&PID_82FC#6&48d9417&0&0000#{4d1e55b2-f16f-11cf-88cb-001111000030}')"
   ]
  },
  {
   "attachments": {},
   "cell_type": "markdown",
   "metadata": {},
   "source": [
    "#### 4. Define and register a callback to handle responses and notifications from Supernova\n",
    "\n",
    "To handle responses and notifications from Supernova, a callback function must be defined and registered. This function will be invoked every time the Supernova sends a response to a request, an asynchronous notification, or a message from the system.\n",
    "\n",
    "The callback function's signature is as follows: \n",
    "\n",
    "``def callback_function_name(supernova_message: dict, system_message: dict) -> None:``\n",
    "\n",
    "Once the callback function is defined, it should be registered using the ``Supernova.onEvent(callback_function)`` method."
   ]
  },
  {
   "cell_type": "code",
   "execution_count": 5,
   "metadata": {},
   "outputs": [],
   "source": [
    "import json\n",
    "\n",
    "# Define callback function\n",
    "def callback_function(supernova_message: dict, system_message: dict) -> None:\n",
    "    \n",
    "    if supernova_message != None:\n",
    "\n",
    "        # Print a header\n",
    "        print(\">> New message from SUPERNOVA:\")\n",
    "\n",
    "        # If the command is GET TARGET DEVICE TABLE, convert to json.\n",
    "        if supernova_message[\"name\"] == \"I3C GET TARGET DEVICE TABLE\" or supernova_message[\"name\"] == \"I3C TRANSFER\":\n",
    "            responseJson = json.dumps(supernova_message, indent=4)\n",
    "            print(responseJson)\n",
    "\n",
    "        else:\n",
    "            print(supernova_message)\n",
    "    \n",
    "    if system_message != None:\n",
    "\n",
    "        # Print a header\n",
    "        print(\">> New message from the SYSTEM:\")\n",
    "\n",
    "        print(system_message)"
   ]
  },
  {
   "cell_type": "code",
   "execution_count": 6,
   "metadata": {},
   "outputs": [
    {
     "data": {
      "text/plain": [
       "{'module': 0,\n",
       " 'opcode': 0,\n",
       " 'message': 'On event callback function registered successfully.'}"
      ]
     },
     "execution_count": 6,
     "metadata": {},
     "output_type": "execute_result"
    }
   ],
   "source": [
    "# Register callback function\n",
    "supernova.onEvent(callback_function)"
   ]
  },
  {
   "attachments": {},
   "cell_type": "markdown",
   "metadata": {},
   "source": [
    "#### 5. Define a function to generate transaction IDs\n",
    "\n",
    "All the request messages sent to the Supernova from the USB Host application must include the transaction or request ID. The ID is a 2-byte integer with an allowed range of ``[0, 65535]``.\n",
    "\n",
    "In this example, a dummy function called ``getId()`` is defined to increment a transaction counter used as the ID."
   ]
  },
  {
   "cell_type": "code",
   "execution_count": 7,
   "metadata": {},
   "outputs": [],
   "source": [
    "#Auxiliar code to generate IDs.\n",
    "\n",
    "counter_id = 0\n",
    "\n",
    "def getId():\n",
    "    global counter_id\n",
    "    counter_id = counter_id + 1\n",
    "    return counter_id"
   ]
  },
  {
   "attachments": {},
   "cell_type": "markdown",
   "metadata": {},
   "source": [
    "## I3C Protocol API"
   ]
  },
  {
   "cell_type": "markdown",
   "metadata": {},
   "source": [
    "### 1. Configuring the supernova/PIC18QF16Q20/I2C FRAM Setup\n",
    "\n",
    "To facilitate the Protocol Translator test:\n",
    "\n",
    "**Necessary Firmware:**\n",
    "- Supernova firmware version 2.0.0\n",
    "- Supernova SDK version 2.0.0\n",
    "- Custom image for the PIC18QF16Q20 protocol translator (located in the application folder)\n",
    "\n",
    "**Connection Arrangement:**\n",
    "\n",
    "<img src=\"assets/block_diagram.png\" alt=\"connection\" width=\"60%\">\n",
    "\n",
    "<img src=\"assets/connection.png\" alt=\"connection_diagram\" width=\"40%\">\n",
    "\n",
    "- Link the supernova High voltage I3C tiger eye to Qwiic connector with the I3C Qwiic connector on the Supernova PIC18QF16Q20 board.\n",
    "- Establish connections for SDA and SCL from the I2C/I3C Qwiic connector on the Supernova PIC18QF16Q20 board to the corresponding SCL/SDA channels of the I2C FRAM.\n",
    "- Connect VCC and GND from the I2C Qwiic on the Supernova to the VCC and GND of the I2C FRAM.\n",
    "\n",
    "   ![Connection Image Placeholder]\n",
    "\n",
    "**Testing Procedure:**\n",
    "\n",
    "The objective of this test is to utilize the PIC18QF16Q20 as a protocol translator, issuing custom I3C commands to execute the following transactions:\n",
    "- I2C write\n",
    "\n",
    "\n",
    "<img src=\"assets/i2c_write.png\" alt=\"connection\" width=\"80%\">\n",
    "\n",
    "- I2C read\n",
    "\n",
    "![I2C_read](assets/i2c_read.png)\n",
    "\n",
    "- SPI write\n",
    "\n",
    "![SPI_write](assets/spi_write.png)\n",
    "\n",
    "- SPI read\n",
    "\n",
    "![SPI_read](assets/spi_read.png)\n",
    "\n",
    "- SPI write followed by read\n",
    "\n",
    "<img src=\"assets/spi_write_read.png\" alt=\"connection\" width=\"70%\">\n",
    "\n",
    "\n",
    "For I2C transactions, an I2C FRAM will be employed for data read and write operations. To assess SPI functionality, the Supernova PIC18QF16Q20 board integrates a W25Q64JV (64M-bit) SPI Serial Flash, allowing for the execution of commands and read/write operations."
   ]
  },
  {
   "cell_type": "markdown",
   "metadata": {},
   "source": [
    "### 2. Initialize the Supernova I3C peripheral as controller "
   ]
  },
  {
   "cell_type": "code",
   "execution_count": 8,
   "metadata": {},
   "outputs": [
    {
     "data": {
      "text/plain": [
       "{'module': 1,\n",
       " 'opcode': 0,\n",
       " 'message': 'INITIALIZE I3C CONTROLLER requests success'}"
      ]
     },
     "execution_count": 8,
     "metadata": {},
     "output_type": "execute_result"
    },
    {
     "name": "stdout",
     "output_type": "stream",
     "text": [
      ">> New message from SUPERNOVA:\n",
      "{'id': 1, 'command': 1, 'name': 'I3C CONTROLLER INIT', 'result': 'I3C_CONTROLLER_INIT_SUCCESS'}\n"
     ]
    }
   ],
   "source": [
    "supernova.i3cControllerInit(getId())"
   ]
  },
  {
   "cell_type": "markdown",
   "metadata": {},
   "source": [
    "### 3. Adjust I3C Bus Voltage\n",
    "\n",
    "As this example utilizes the secondary I3C bus on the PIC18QF16Q20, it is essential to set the bus voltage to 1.2V for optimal operation."
   ]
  },
  {
   "cell_type": "code",
   "execution_count": 9,
   "metadata": {},
   "outputs": [
    {
     "name": "stdout",
     "output_type": "stream",
     "text": [
      ">> New message from SUPERNOVA:\n",
      "{'id': 2, 'command': 97, 'name': 'SET I3C BUS VOLTAGE', 'result': 0}\n"
     ]
    }
   ],
   "source": [
    "request_result = supernova.setI3cBusVoltage(getId(), 1200)"
   ]
  },
  {
   "attachments": {},
   "cell_type": "markdown",
   "metadata": {},
   "source": [
    "### 4. Initialize the I3C Bus\n",
    "\n",
    "1. Examine the device table prior to the PIC18QF16Q20 hot-joining."
   ]
  },
  {
   "cell_type": "code",
   "execution_count": 10,
   "metadata": {},
   "outputs": [
    {
     "name": "stdout",
     "output_type": "stream",
     "text": [
      ">> New message from SUPERNOVA:\n",
      "{\n",
      "    \"id\": 3,\n",
      "    \"command\": 3,\n",
      "    \"name\": \"I3C GET TARGET DEVICE TABLE\",\n",
      "    \"numberOfTargets\": 0,\n",
      "    \"table\": []\n",
      "}\n"
     ]
    }
   ],
   "source": [
    "request_result = supernova.i3cGetTargetDeviceTable(getId())"
   ]
  },
  {
   "cell_type": "markdown",
   "metadata": {},
   "source": [
    "2. I3C Bus Initialization\n",
    "\n",
    "The Supernova conducts an I3C initialization on an unpopulated bus, resulting in no target ACKs. Following the execution of this cell, connect the PIC18QF16Q20. The PIC18QF16Q20 firmware performs a hot-join, integrating itself into the I3C bus and updating the device table."
   ]
  },
  {
   "cell_type": "code",
   "execution_count": 11,
   "metadata": {},
   "outputs": [
    {
     "name": "stdout",
     "output_type": "stream",
     "text": [
      ">> New message from SUPERNOVA:\n",
      "{'id': 4, 'command': 2, 'name': 'I3C INIT BUS', 'result': 'RSTDAA_FAILED', 'errors': ['NACK_ERROR']}\n"
     ]
    },
    {
     "name": "stdout",
     "output_type": "stream",
     "text": [
      ">> New message from SUPERNOVA:\n",
      "{'id': 4, 'command': 12, 'name': 'I3C IBI NOTIFICATION', 'header': {'tag': 'INTERRUPT_NOTIFICATION', 'address': 8, 'type': 'IBI_HOT_JOIN', 'response': 'IBI_ACKED', 'hasData': True, 'length': 8, 'status': 0}, 'pid': ['0x06', '0x9a', '0x00', '0x00', '0x00', '0x00'], 'bcr': 30, 'dcr': 198}\n"
     ]
    }
   ],
   "source": [
    "# Initialize and scan the I3C bus.\n",
    "request_result = supernova.i3cInitBus(getId())"
   ]
  },
  {
   "cell_type": "markdown",
   "metadata": {},
   "source": [
    "3. Examine the device table after the PIC18QF16Q20 hot-joining."
   ]
  },
  {
   "cell_type": "code",
   "execution_count": 12,
   "metadata": {},
   "outputs": [
    {
     "name": "stdout",
     "output_type": "stream",
     "text": [
      ">> New message from SUPERNOVA:\n",
      "{\n",
      "    \"id\": 5,\n",
      "    \"command\": 3,\n",
      "    \"name\": \"I3C GET TARGET DEVICE TABLE\",\n",
      "    \"numberOfTargets\": 1,\n",
      "    \"table\": [\n",
      "        {\n",
      "            \"staticAddress\": 0,\n",
      "            \"dynamicAddress\": 8,\n",
      "            \"bcr\": {\n",
      "                \"value\": [\n",
      "                    \"0b00011110\",\n",
      "                    30,\n",
      "                    \"0x1e\"\n",
      "                ],\n",
      "                \"description\": {\n",
      "                    \"deviceRole\": \"I3C Target.\",\n",
      "                    \"advancedCapabilities\": \"Does not support optional advanced capabilities.\",\n",
      "                    \"virtualTargetSupport\": \"Is a Virtual Target, or exposes other downstream Device(s).\",\n",
      "                    \"offlineCapable\": \"Device will not always respond to I3C Bus commands.\",\n",
      "                    \"ibiPayload\": \"One data byte (MDB) shall follow the accepted IBI, and additional data bytes may follow.\",\n",
      "                    \"ibiRequestCapable\": \"Capable.\",\n",
      "                    \"maxDataSpeedLimitation\": \"No Limitation.\"\n",
      "                }\n",
      "            },\n",
      "            \"dcr\": 198,\n",
      "            \"pid\": [\n",
      "                \"0x06\",\n",
      "                \"0x9a\",\n",
      "                \"0x00\",\n",
      "                \"0x00\",\n",
      "                \"0x00\",\n",
      "                \"0x00\"\n",
      "            ],\n",
      "            \"maxIbiPayloadSize\": 0,\n",
      "            \"i3cFeatures\": {\n",
      "                \"targetInterruptRequest\": \"ACCEPT_INTERRUPT_REQUEST\",\n",
      "                \"controlerRoleRequest\": \"REJECT_CRR\",\n",
      "                \"ibiTimestamp\": \"DISABLE_IBIT\",\n",
      "                \"assignmentFromStaticAddress\": \"I3C_TARGET_DOES_NOT_HAVE_STATIC_ADDR\",\n",
      "                \"assignmentFromENTDAA\": \"ENABLE_ENTDAA\",\n",
      "                \"targetType\": \"I3C_DEVICE\",\n",
      "                \"pendingReadCapability\": \"NOT_SUPPORT_IBI_READ_CAPABILITY\",\n",
      "                \"validPid\": \"HAS_VALID_PID\"\n",
      "            }\n",
      "        }\n",
      "    ]\n",
      "}\n"
     ]
    }
   ],
   "source": [
    "request_result = supernova.i3cGetTargetDeviceTable(getId())"
   ]
  },
  {
   "cell_type": "markdown",
   "metadata": {},
   "source": [
    "### 5. Communicate with the I2C peripheral"
   ]
  },
  {
   "cell_type": "markdown",
   "metadata": {},
   "source": [
    "To verify the proper functionality of the I2C FRAM, we will execute the following transactions:\n",
    "\n",
    "1. **I2C Write Transaction:**\n",
    "   - Write data [0x06,0x07,0x08,0x09,0x0A] to the register [0x00,0x00].\n",
    "\n",
    "2. **I2C Write to Specific Register:**\n",
    "   - Direct an I2C write to the register [0x00,0x00].\n",
    "\n",
    "3. **I2C Read Transaction:**\n",
    "   - Perform an I2C read of length 5 to retrieve the previously written data.\n",
    "\n",
    "#### Execution Steps:\n",
    "To initiate the first transaction, execute an I3C write to the dynamic address of the PIC18QF16Q20 (0x08). The data to be written includes:\n",
    "   - Command ID for the I2C write command (0x40)\n",
    "   - I2C address right-shifted by one (original address: 0x50, shifted address: 0xA0)\n",
    "   - Register to write to [0x00,0x00]\n",
    "   - Data to be written [0x06,0x07,0x08,0x09,0x0A]"
   ]
  },
  {
   "cell_type": "code",
   "execution_count": 13,
   "metadata": {},
   "outputs": [
    {
     "name": "stdout",
     "output_type": "stream",
     "text": [
      ">> New message from SUPERNOVA:\n",
      "{\n",
      "    \"id\": 6,\n",
      "    \"command\": 11,\n",
      "    \"name\": \"I3C TRANSFER\",\n",
      "    \"header\": {\n",
      "        \"tag\": \"RESPONSE_TO_REGULAR_REQUEST\",\n",
      "        \"result\": \"I3C_TRANSFER_SUCCESS\",\n",
      "        \"hasData\": false\n",
      "    },\n",
      "    \"descriptor\": {\n",
      "        \"dataLength\": 0,\n",
      "        \"errors\": [\n",
      "            \"NO_TRANSFER_ERROR\"\n",
      "        ]\n",
      "    },\n",
      "    \"data\": []\n",
      "}\n"
     ]
    }
   ],
   "source": [
    "TARGET_ADDR     = 0x08\n",
    "MODE            = TransferMode.I3C_SDR\n",
    "PUSH_PULL_RATE  = I3cPushPullTransferRate.PUSH_PULL_5_MHZ\n",
    "OPEN_DRAIN_RATE = I3cOpenDrainTransferRate.OPEN_DRAIN_500_KHZ\n",
    "REG_ADDR        = []\n",
    "DATA            = [0x40, 0xA0,0x00, 0x00, 0x06, 0x07, 0x08, 0x09, 0x0A]        # Python list of bytes. Maximum length of 1024 bytes.\n",
    "\n",
    "# API I3C Write\n",
    "request_result = supernova.i3cWrite(getId(), \n",
    "                                    TARGET_ADDR, \n",
    "                                    MODE, \n",
    "                                    PUSH_PULL_RATE, \n",
    "                                    OPEN_DRAIN_RATE, \n",
    "                                    REG_ADDR, \n",
    "                                    DATA)"
   ]
  },
  {
   "cell_type": "markdown",
   "metadata": {},
   "source": [
    "For the second transaction, resetting the data pointer to the [0x00,0x00] register is achieved by performing an I3C write with the following data:\n",
    "\n",
    "   - Command ID for the I2C write command (0x40)\n",
    "   - I2C address right-shifted by one (original address: 0x50, shifted address: 0xA0)\n",
    "   - Register to write to [0x00,0x00]\n",
    "   - Empty data payload\n",
    " "
   ]
  },
  {
   "cell_type": "code",
   "execution_count": 14,
   "metadata": {},
   "outputs": [
    {
     "name": "stdout",
     "output_type": "stream",
     "text": [
      ">> New message from SUPERNOVA:\n",
      "{\n",
      "    \"id\": 7,\n",
      "    \"command\": 11,\n",
      "    \"name\": \"I3C TRANSFER\",\n",
      "    \"header\": {\n",
      "        \"tag\": \"RESPONSE_TO_REGULAR_REQUEST\",\n",
      "        \"result\": \"I3C_TRANSFER_SUCCESS\",\n",
      "        \"hasData\": false\n",
      "    },\n",
      "    \"descriptor\": {\n",
      "        \"dataLength\": 0,\n",
      "        \"errors\": [\n",
      "            \"NO_TRANSFER_ERROR\"\n",
      "        ]\n",
      "    },\n",
      "    \"data\": []\n",
      "}\n"
     ]
    }
   ],
   "source": [
    "TARGET_ADDR     = 0x08\n",
    "MODE            = TransferMode.I3C_SDR\n",
    "PUSH_PULL_RATE  = I3cPushPullTransferRate.PUSH_PULL_5_MHZ\n",
    "OPEN_DRAIN_RATE = I3cOpenDrainTransferRate.OPEN_DRAIN_500_KHZ\n",
    "REG_ADDR        = []\n",
    "DATA            = [0x40, 0xA0, 0x00, 0x00]        # Python list of bytes. Maximum length of 1024 bytes.\n",
    "\n",
    "# API I3C Write\n",
    "request_result = supernova.i3cWrite(getId(), \n",
    "                                    TARGET_ADDR, \n",
    "                                    MODE, \n",
    "                                    PUSH_PULL_RATE, \n",
    "                                    OPEN_DRAIN_RATE, \n",
    "                                    REG_ADDR, \n",
    "                                    DATA)"
   ]
  },
  {
   "cell_type": "markdown",
   "metadata": {},
   "source": [
    "For the final transaction, executing a write command involves sending the following I3C data:\n",
    "\n",
    "   - Command ID for the I2C read command (0x20)\n",
    "   - I2C address right-shifted by one (original address: 0x50, shifted address: 0xA0)\n",
    "   - Amount of data to read (0x05)\n",
    "\n",
    "This initiates an I2C read to the designated address with the specified length. The data resulting from this read will be received via I3C in an IBI with payload. This IBI includes a mandatory data byte of 0x00, and the remaining payload constituting the read data."
   ]
  },
  {
   "cell_type": "code",
   "execution_count": 15,
   "metadata": {},
   "outputs": [
    {
     "name": "stdout",
     "output_type": "stream",
     "text": [
      ">> New message from SUPERNOVA:\n",
      "{\n",
      "    \"id\": 8,\n",
      "    \"command\": 11,\n",
      "    \"name\": \"I3C TRANSFER\",\n",
      "    \"header\": {\n",
      "        \"tag\": \"RESPONSE_TO_REGULAR_REQUEST\",\n",
      "        \"result\": \"I3C_TRANSFER_SUCCESS\",\n",
      "        \"hasData\": false\n",
      "    },\n",
      "    \"descriptor\": {\n",
      "        \"dataLength\": 0,\n",
      "        \"errors\": [\n",
      "            \"NO_TRANSFER_ERROR\"\n",
      "        ]\n",
      "    },\n",
      "    \"data\": []\n",
      "}\n"
     ]
    },
    {
     "name": "stdout",
     "output_type": "stream",
     "text": [
      ">> New message from SUPERNOVA:\n",
      "{'id': 0, 'command': 12, 'name': 'I3C IBI NOTIFICATION', 'header': {'tag': 'INTERRUPT_NOTIFICATION', 'address': 8, 'type': 'IBI_NORMAL', 'response': 'IBI_ACKED_WITH_PAYLOAD', 'hasData': True, 'length': 6, 'status': 0}, 'MDB': {'value': 0, 'description': {'category': 'User defined.', 'description': 'Defined by the vendor and reserved for vendor definition.'}}, 'payload': [0, 6, 7, 8, 9, 10, 0, 0, 0, 0, 0, 0, 0, 0, 0, 0, 0, 0, 0, 0, 0, 0, 0, 0, 0, 0, 0, 0, 0, 0, 0, 0, 0, 0, 0, 0, 0, 0, 0, 0, 0, 0, 0, 0, 0, 0, 0, 0, 0, 0, 0, 0, 0]}\n"
     ]
    }
   ],
   "source": [
    "TARGET_ADDR     = 0x08\n",
    "MODE            = TransferMode.I3C_SDR\n",
    "PUSH_PULL_RATE  = I3cPushPullTransferRate.PUSH_PULL_5_MHZ\n",
    "OPEN_DRAIN_RATE = I3cOpenDrainTransferRate.OPEN_DRAIN_500_KHZ\n",
    "REG_ADDR        = []\n",
    "DATA            = [0x20, 0xA0, 0x05]        # Python list of bytes. Maximum length of 1024 bytes.\n",
    "\n",
    "# API I3C Write\n",
    "request_result = supernova.i3cWrite(getId(), \n",
    "                                    TARGET_ADDR, \n",
    "                                    MODE, \n",
    "                                    PUSH_PULL_RATE, \n",
    "                                    OPEN_DRAIN_RATE, \n",
    "                                    REG_ADDR, \n",
    "                                    DATA)"
   ]
  },
  {
   "cell_type": "markdown",
   "metadata": {},
   "source": [
    "### 6. Communicate with the SPI peripheral"
   ]
  },
  {
   "cell_type": "markdown",
   "metadata": {},
   "source": [
    "To validate the SPI communication, we will execute specific SPI commands tailored for the Supernova PIC18QF16Q20 board's SPI FLASH. Here are some examples:\n",
    "\n",
    "1. **Get JEDEC ID:**\n",
    "   - Execute the command to retrieve the JEDEC ID from the SPI FLASH.\n",
    "\n",
    "2. **Write Status Register-1:**\n",
    "   - Perform the command to write to Status Register-1.\n",
    "\n",
    "3. **Read Status Register-1:**\n",
    "   - Execute the command to read from Status Register-1.\n",
    "\n",
    "These commands will allow us to assess the SPI communication and validate the Supernova PIC18QF16Q20 board's interaction with the SPI FLASH."
   ]
  },
  {
   "cell_type": "markdown",
   "metadata": {},
   "source": [
    "To obtain the JEDEC ID, the SPI command 0x9F should be issued via SPI, followed by reading 3 bytes of data. To accomplish this, the write/read SPI command (0x60) for the PIC18QF16Q20 should be utilized, requiring the following data to be sent via I3C:\n",
    "\n",
    "- Command ID for the SPI write/read command (0x60)\n",
    "- Amount of data to read (0x03)\n",
    "- Data to write (the SPI command for getting JEDEC ID 0x9F)\n",
    "\n",
    "Similar to the I2C read transaction, once the data is retrieved via SPI, an IBI will be sent via I3C with the mandatory data byte (MDB) set to 0x00 and the 3 bytes of read data."
   ]
  },
  {
   "cell_type": "code",
   "execution_count": 16,
   "metadata": {},
   "outputs": [
    {
     "name": "stdout",
     "output_type": "stream",
     "text": [
      ">> New message from SUPERNOVA:\n",
      "{\n",
      "    \"id\": 9,\n",
      "    \"command\": 11,\n",
      "    \"name\": \"I3C TRANSFER\",\n",
      "    \"header\": {\n",
      "        \"tag\": \"RESPONSE_TO_REGULAR_REQUEST\",\n",
      "        \"result\": \"I3C_TRANSFER_SUCCESS\",\n",
      "        \"hasData\": false\n",
      "    },\n",
      "    \"descriptor\": {\n",
      "        \"dataLength\": 0,\n",
      "        \"errors\": [\n",
      "            \"NO_TRANSFER_ERROR\"\n",
      "        ]\n",
      "    },\n",
      "    \"data\": []\n",
      "}\n"
     ]
    },
    {
     "name": "stdout",
     "output_type": "stream",
     "text": [
      ">> New message from SUPERNOVA:\n",
      "{'id': 0, 'command': 12, 'name': 'I3C IBI NOTIFICATION', 'header': {'tag': 'INTERRUPT_NOTIFICATION', 'address': 8, 'type': 'IBI_NORMAL', 'response': 'IBI_ACKED_WITH_PAYLOAD', 'hasData': True, 'length': 4, 'status': 0}, 'MDB': {'value': 0, 'description': {'category': 'User defined.', 'description': 'Defined by the vendor and reserved for vendor definition.'}}, 'payload': [0, 239, 64, 23, 0, 0, 0, 0, 0, 0, 0, 0, 0, 0, 0, 0, 0, 0, 0, 0, 0, 0, 0, 0, 0, 0, 0, 0, 0, 0, 0, 0, 0, 0, 0, 0, 0, 0, 0, 0, 0, 0, 0, 0, 0, 0, 0, 0, 0, 0, 0, 0, 0]}\n"
     ]
    }
   ],
   "source": [
    "TARGET_ADDR     = 0x08\n",
    "MODE            = TransferMode.I3C_SDR\n",
    "PUSH_PULL_RATE  = I3cPushPullTransferRate.PUSH_PULL_5_MHZ\n",
    "OPEN_DRAIN_RATE = I3cOpenDrainTransferRate.OPEN_DRAIN_500_KHZ\n",
    "REG_ADDR        = []\n",
    "DATA            = [0x60, 0x03, 0x9F]        # Python list of bytes. Maximum length of 1024 bytes.\n",
    "\n",
    "# API I3C Write\n",
    "request_result = supernova.i3cWrite(getId(), \n",
    "                                    TARGET_ADDR, \n",
    "                                    MODE, \n",
    "                                    PUSH_PULL_RATE, \n",
    "                                    OPEN_DRAIN_RATE, \n",
    "                                    REG_ADDR, \n",
    "                                    DATA)"
   ]
  },
  {
   "cell_type": "markdown",
   "metadata": {},
   "source": [
    "To perform the Write Status Register-1 SPI command, we need to first enable write transactions by issuing the Write Enable command (0x06). The necessary data to be sent via I3C includes:\n",
    "\n",
    "- Command ID for the SPI write command (0x41)\n",
    "- Data to write (the SPI Write Enable command value 0x9F)\n",
    "\n",
    "\n"
   ]
  },
  {
   "cell_type": "code",
   "execution_count": 17,
   "metadata": {},
   "outputs": [
    {
     "name": "stdout",
     "output_type": "stream",
     "text": [
      ">> New message from SUPERNOVA:\n",
      "{\n",
      "    \"id\": 10,\n",
      "    \"command\": 11,\n",
      "    \"name\": \"I3C TRANSFER\",\n",
      "    \"header\": {\n",
      "        \"tag\": \"RESPONSE_TO_REGULAR_REQUEST\",\n",
      "        \"result\": \"I3C_TRANSFER_SUCCESS\",\n",
      "        \"hasData\": false\n",
      "    },\n",
      "    \"descriptor\": {\n",
      "        \"dataLength\": 0,\n",
      "        \"errors\": [\n",
      "            \"NO_TRANSFER_ERROR\"\n",
      "        ]\n",
      "    },\n",
      "    \"data\": []\n",
      "}\n"
     ]
    }
   ],
   "source": [
    "TARGET_ADDR     = 0x08\n",
    "MODE            = TransferMode.I3C_SDR\n",
    "PUSH_PULL_RATE  = I3cPushPullTransferRate.PUSH_PULL_5_MHZ\n",
    "OPEN_DRAIN_RATE = I3cOpenDrainTransferRate.OPEN_DRAIN_500_KHZ\n",
    "REG_ADDR        = []\n",
    "DATA            = [0x41, 0x06]        # Python list of bytes. Maximum length of 1024 bytes.\n",
    "\n",
    "# API I3C Write\n",
    "request_result = supernova.i3cWrite(getId(), \n",
    "                                    TARGET_ADDR, \n",
    "                                    MODE, \n",
    "                                    PUSH_PULL_RATE, \n",
    "                                    OPEN_DRAIN_RATE, \n",
    "                                    REG_ADDR, \n",
    "                                    DATA)"
   ]
  },
  {
   "cell_type": "markdown",
   "metadata": {},
   "source": [
    "To execute the Write Status Register-1 SPI command, the requisite data to be sent via I3C includes:\n",
    "\n",
    "- Command ID for the SPI write command (0x41)\n",
    "- Data to write\n",
    "    - Write Status Register-1 SPI command (0x01)\n",
    "    - Data to be written to the register (0x60)\n",
    "\n",
    "Configuring the Register-1 with the value 0x60 involves setting:\n",
    "\n",
    "\n",
    "\n",
    "![I2C_read](assets/Register.png)\n",
    "\n",
    "- SEC to 1: Block Protect Bits (BP2, BP1, BP0) protect 4KB Sectors.\n",
    "- TB to 1: Block Protect Bits (BP2, BP1, BP0) protect from the Bottom.\n",
    "\n",
    "\n",
    "\n",
    "\n"
   ]
  },
  {
   "cell_type": "code",
   "execution_count": 18,
   "metadata": {},
   "outputs": [
    {
     "name": "stdout",
     "output_type": "stream",
     "text": [
      ">> New message from SUPERNOVA:\n",
      "{\n",
      "    \"id\": 11,\n",
      "    \"command\": 11,\n",
      "    \"name\": \"I3C TRANSFER\",\n",
      "    \"header\": {\n",
      "        \"tag\": \"RESPONSE_TO_REGULAR_REQUEST\",\n",
      "        \"result\": \"I3C_TRANSFER_SUCCESS\",\n",
      "        \"hasData\": false\n",
      "    },\n",
      "    \"descriptor\": {\n",
      "        \"dataLength\": 0,\n",
      "        \"errors\": [\n",
      "            \"NO_TRANSFER_ERROR\"\n",
      "        ]\n",
      "    },\n",
      "    \"data\": []\n",
      "}\n"
     ]
    }
   ],
   "source": [
    "TARGET_ADDR     = 0x08\n",
    "MODE            = TransferMode.I3C_SDR\n",
    "PUSH_PULL_RATE  = I3cPushPullTransferRate.PUSH_PULL_5_MHZ\n",
    "OPEN_DRAIN_RATE = I3cOpenDrainTransferRate.OPEN_DRAIN_500_KHZ\n",
    "REG_ADDR        = []\n",
    "DATA            = [0x41, 0x01, 0x60]        # Python list of bytes. Maximum length of 1024 bytes.\n",
    "\n",
    "# API I3C Write\n",
    "request_result = supernova.i3cWrite(getId(), \n",
    "                                    TARGET_ADDR, \n",
    "                                    MODE, \n",
    "                                    PUSH_PULL_RATE, \n",
    "                                    OPEN_DRAIN_RATE, \n",
    "                                    REG_ADDR, \n",
    "                                    DATA)"
   ]
  },
  {
   "cell_type": "markdown",
   "metadata": {},
   "source": [
    "To execute the Read Status Register-1 SPI command, the following I3C data must be transmitted:\n",
    "\n",
    "- Command ID for the SPI write/read command (0x60)\n",
    "- Amount of data to read (0x01 from the register) \n",
    "- Data to write (SPI command for reading the Status Register-1, 0x05)\n",
    "\n",
    "Similar to the previous transactions, the data from the Status Register-1 value is transmitted via IBI on the I3C bus. As configured earlier, the expected value should be 0x60."
   ]
  },
  {
   "cell_type": "code",
   "execution_count": 19,
   "metadata": {},
   "outputs": [
    {
     "name": "stdout",
     "output_type": "stream",
     "text": [
      ">> New message from SUPERNOVA:\n",
      "{\n",
      "    \"id\": 12,\n",
      "    \"command\": 11,\n",
      "    \"name\": \"I3C TRANSFER\",\n",
      "    \"header\": {\n",
      "        \"tag\": \"RESPONSE_TO_REGULAR_REQUEST\",\n",
      "        \"result\": \"I3C_TRANSFER_SUCCESS\",\n",
      "        \"hasData\": false\n",
      "    },\n",
      "    \"descriptor\": {\n",
      "        \"dataLength\": 0,\n",
      "        \"errors\": [\n",
      "            \"NO_TRANSFER_ERROR\"\n",
      "        ]\n",
      "    },\n",
      "    \"data\": []\n",
      "}\n"
     ]
    },
    {
     "name": "stdout",
     "output_type": "stream",
     "text": [
      ">> New message from SUPERNOVA:\n",
      "{'id': 0, 'command': 12, 'name': 'I3C IBI NOTIFICATION', 'header': {'tag': 'INTERRUPT_NOTIFICATION', 'address': 8, 'type': 'IBI_NORMAL', 'response': 'IBI_ACKED_WITH_PAYLOAD', 'hasData': True, 'length': 2, 'status': 0}, 'MDB': {'value': 0, 'description': {'category': 'User defined.', 'description': 'Defined by the vendor and reserved for vendor definition.'}}, 'payload': [0, 96, 0, 0, 0, 0, 0, 0, 0, 0, 0, 0, 0, 0, 0, 0, 0, 0, 0, 0, 0, 0, 0, 0, 0, 0, 0, 0, 0, 0, 0, 0, 0, 0, 0, 0, 0, 0, 0, 0, 0, 0, 0, 0, 0, 0, 0, 0, 0, 0, 0, 0, 0]}\n"
     ]
    }
   ],
   "source": [
    "TARGET_ADDR     = 0x08\n",
    "MODE            = TransferMode.I3C_SDR\n",
    "PUSH_PULL_RATE  = I3cPushPullTransferRate.PUSH_PULL_5_MHZ\n",
    "OPEN_DRAIN_RATE = I3cOpenDrainTransferRate.OPEN_DRAIN_500_KHZ\n",
    "REG_ADDR        = []\n",
    "DATA            = [0x60, 0x01, 0x05]        # Python list of bytes. Maximum length of 1024 bytes.\n",
    "\n",
    "# API I3C Write\n",
    "request_result = supernova.i3cWrite(getId(), \n",
    "                                    TARGET_ADDR, \n",
    "                                    MODE, \n",
    "                                    PUSH_PULL_RATE, \n",
    "                                    OPEN_DRAIN_RATE, \n",
    "                                    REG_ADDR, \n",
    "                                    DATA)"
   ]
  }
 ],
 "metadata": {
  "kernelspec": {
   "display_name": "Python 3",
   "language": "python",
   "name": "python3"
  },
  "language_info": {
   "codemirror_mode": {
    "name": "ipython",
    "version": 3
   },
   "file_extension": ".py",
   "mimetype": "text/x-python",
   "name": "python",
   "nbconvert_exporter": "python",
   "pygments_lexer": "ipython3",
   "version": "3.11.4"
  },
  "orig_nbformat": 4
 },
 "nbformat": 4,
 "nbformat_minor": 2
}
