{
 "cells": [
  {
   "cell_type": "code",
   "execution_count": 1,
   "metadata": {},
   "outputs": [],
   "source": [
    "# Import Python package\n",
    "import BinhoSupernova\n",
    "from BinhoSupernova.Supernova import Supernova\n",
    "from BinhoSupernova.commands.definitions import *"
   ]
  },
  {
   "cell_type": "markdown",
   "metadata": {},
   "source": [
    "## Getting started"
   ]
  },
  {
   "attachments": {},
   "cell_type": "markdown",
   "metadata": {},
   "source": [
    "#### 1. List all the Supernova devices connected to the PC host\n",
    "\n",
    "The ``BinhoSupernova.getConnectedSupernovaDevicesList()`` gets a list of the Supernova devices plugged into the host PC machine."
   ]
  },
  {
   "cell_type": "code",
   "execution_count": 2,
   "metadata": {},
   "outputs": [
    {
     "data": {
      "text/plain": [
       "[{'path': '\\\\\\\\?\\\\HID#VID_1FC9&PID_82FC#7&f321146&0&0000#{4d1e55b2-f16f-11cf-88cb-001111000030}',\n",
       "  'vendor_id': '0x1fc9',\n",
       "  'product_id': '0x82fc',\n",
       "  'serial_number': '59314AC593A1C05C8163B6759994476',\n",
       "  'release_number': 256,\n",
       "  'manufacturer_string': 'Binho LLC',\n",
       "  'product_string': 'Binho Supernova',\n",
       "  'usage_page': 65280,\n",
       "  'usage': 1,\n",
       "  'interface_number': 0}]"
      ]
     },
     "execution_count": 2,
     "metadata": {},
     "output_type": "execute_result"
    }
   ],
   "source": [
    "BinhoSupernova.getConnectedSupernovaDevicesList()"
   ]
  },
  {
   "attachments": {},
   "cell_type": "markdown",
   "metadata": {},
   "source": [
    "#### 2. Create an instance of the Supernova class\n",
    "\n",
    "To utilize a Supernova USB host adapter device, we need to create an instance of the Supernova class."
   ]
  },
  {
   "cell_type": "code",
   "execution_count": 3,
   "metadata": {},
   "outputs": [],
   "source": [
    "# Create a device instance. One instance of the Supernova class represents a Supernova USB host adapter device.\n",
    "supernova = Supernova()"
   ]
  },
  {
   "cell_type": "markdown",
   "metadata": {},
   "source": [
    "#### 3. Open connection to the Supernova device\n",
    "\n",
    "The public method ``Supernova.open()`` establishes the connection with a Supernova device. Below is the complete signature:\n",
    "\n",
    "```python\n",
    "open(vid, pid, serial, path, logEnable)\n",
    "```\n",
    "\n",
    "- ``vid: int``: The Supernova USB VID, which is set by default.\n",
    "- ``pid: int``: The Supernova USB PID, which is set by default.\n",
    "- ``serial: str``: The Supernova serial number.\n",
    "- ``path: str``: The OS HID path assigned to the device. This can be obtained using the ``BinhoSupernova.getConnectedSupernovaDevicesList()`` method. The ``path`` parameter is currently the only way to uniquely identify each Supernova device. Therefore, it is recommended to use the ``path`` parameter, especially when opening connections with more than one Supernova device simultaneously.\n",
    "- ``logEnable``: A boolean flag to enable the logging of messages. Log messages are saved in a system directory based on the OS.\n"
   ]
  },
  {
   "cell_type": "code",
   "execution_count": 4,
   "metadata": {},
   "outputs": [
    {
     "data": {
      "text/plain": [
       "{'module': 0,\n",
       " 'opcode': 0,\n",
       " 'message': 'Connection with Supernova device opened successfully.'}"
      ]
     },
     "execution_count": 4,
     "metadata": {},
     "output_type": "execute_result"
    }
   ],
   "source": [
    "# Use the method by default to connect to only one Supernova device.\n",
    "supernova.open()\n",
    "\n",
    "# Otherwise, use the path attribute to identify each Supernova device. Uncomment the line below and comment the line #2.\n",
    "# supernova.open(path='\\\\\\\\?\\\\HID#VID_1FC9&PID_82FC#6&48d9417&0&0000#{4d1e55b2-f16f-11cf-88cb-001111000030}')"
   ]
  },
  {
   "attachments": {},
   "cell_type": "markdown",
   "metadata": {},
   "source": [
    "#### 4. Define and register a callback to handle responses and notifications from Supernova\n",
    "\n",
    "To handle responses and notifications from Supernova, a callback function must be defined and registered. This function will be invoked every time the Supernova sends a response to a request, an asynchronous notification, or a message from the system.\n",
    "\n",
    "The callback function's signature is as follows: \n",
    "\n",
    "``def callback_function_name(supernova_message: dict, system_message: dict) -> None:``\n",
    "\n",
    "Once the callback function is defined, it should be registered using the ``Supernova.onEvent(callback_function)`` method."
   ]
  },
  {
   "cell_type": "code",
   "execution_count": 5,
   "metadata": {},
   "outputs": [],
   "source": [
    "import json\n",
    "\n",
    "# Define callback function\n",
    "def callback_function(supernova_message: dict, system_message: dict) -> None:\n",
    "    \n",
    "    if supernova_message != None:\n",
    "\n",
    "        # Print a header\n",
    "        print(\">> New message from SUPERNOVA:\")\n",
    "\n",
    "        # If the command is GET TARGET DEVICE TABLE, convert to json.\n",
    "        if supernova_message[\"name\"] == \"I3C GET TARGET DEVICE TABLE\" or supernova_message[\"name\"] == \"I3C TRANSFER\":\n",
    "            responseJson = json.dumps(supernova_message, indent=4)\n",
    "            print(responseJson)\n",
    "\n",
    "        else:\n",
    "            print(supernova_message)\n",
    "    \n",
    "    if system_message != None:\n",
    "\n",
    "        # Print a header\n",
    "        print(\">> New message from the SYSTEM:\")\n",
    "\n",
    "        print(system_message)"
   ]
  },
  {
   "cell_type": "code",
   "execution_count": 6,
   "metadata": {},
   "outputs": [
    {
     "data": {
      "text/plain": [
       "{'module': 0,\n",
       " 'opcode': 0,\n",
       " 'message': 'On event callback function registered successfully.'}"
      ]
     },
     "execution_count": 6,
     "metadata": {},
     "output_type": "execute_result"
    }
   ],
   "source": [
    "# Register callback function\n",
    "supernova.onEvent(callback_function)"
   ]
  },
  {
   "attachments": {},
   "cell_type": "markdown",
   "metadata": {},
   "source": [
    "#### 5. Define a function to generate transaction IDs\n",
    "\n",
    "All the request messages sent to the Supernova from the USB Host application must include the transaction or request ID. The ID is a 2-byte integer with an allowed range of ``[0, 65535]``.\n",
    "\n",
    "In this example, a dummy function called ``getId()`` is defined to increment a transaction counter used as the ID."
   ]
  },
  {
   "cell_type": "code",
   "execution_count": 7,
   "metadata": {},
   "outputs": [],
   "source": [
    "#Auxiliar code to generate IDs.\n",
    "\n",
    "counter_id = 0\n",
    "\n",
    "def getId():\n",
    "    global counter_id\n",
    "    counter_id = counter_id + 1\n",
    "    return counter_id"
   ]
  },
  {
   "cell_type": "markdown",
   "metadata": {},
   "source": [
    "#### 6. Test communication with a basic command such as ``GET USB STRING``\n",
    "\n",
    "The ``GET USB STRING`` command allows you to retrieve various string values related to the product, such as the manufacturer, product name, serial number, firmware version, and hardware version. This command serves as a basic test to verify the communication and functionality with the Supernova device. By successfully receiving the expected string values, you can ensure that the communication between the PC host and the Supernova device is functioning as expected."
   ]
  },
  {
   "cell_type": "code",
   "execution_count": 9,
   "metadata": {},
   "outputs": [
    {
     "name": "stdout",
     "output_type": "stream",
     "text": [
      ">> New message from SUPERNOVA:\n",
      "{'id': 2, 'command': 96, 'name': 'GET USB STRING', 'length': 12, 'message': 'MN-Binho LLC'}\n",
      ">> New message from SUPERNOVA:\n",
      "{'id': 3, 'command': 96, 'name': 'GET USB STRING', 'length': 18, 'message': 'PR-Binho Supernova'}\n",
      ">> New message from SUPERNOVA:\n",
      "{'id': 4, 'command': 96, 'name': 'GET USB STRING', 'length': 35, 'message': 'SN-59314AC593A1C05C8163B6759994476D'}\n",
      ">> New message from SUPERNOVA:\n",
      "{'id': 5, 'command': 96, 'name': 'GET USB STRING', 'length': 19, 'message': 'FW-2.3.0-45-b3f852f'}\n",
      ">> New message from SUPERNOVA:\n",
      "{'id': 6, 'command': 96, 'name': 'GET USB STRING', 'length': 4, 'message': 'HW-B'}\n"
     ]
    }
   ],
   "source": [
    "# GET USB STRING - Get Manufacturer\n",
    "request_result = supernova.getUsbString(getId(), GetUsbStringSubCommand.MANUFACTURER)\n",
    "\n",
    "# GET USB STRING  - Get Product Name\n",
    "request_result = supernova.getUsbString(getId(), GetUsbStringSubCommand.PRODUCT_NAME)\n",
    "\n",
    "# GET USB STRING  - Get Serial Number\n",
    "request_result = supernova.getUsbString(getId(), GetUsbStringSubCommand.SERIAL_NUMBER)\n",
    "\n",
    "# GET USB STRING  - Firmware Version\n",
    "request_result = supernova.getUsbString(getId(), GetUsbStringSubCommand.FW_VERSION)\n",
    "\n",
    "# GET USB STRING  - Hardware Version\n",
    "request_result = supernova.getUsbString(getId(), GetUsbStringSubCommand.HW_VERSION)"
   ]
  },
  {
   "attachments": {},
   "cell_type": "markdown",
   "metadata": {},
   "source": [
    "## I3C Protocol API\n",
    "\n",
    "The I3C Protocol API methods are described below."
   ]
  },
  {
   "cell_type": "markdown",
   "metadata": {},
   "source": [
    "### 1. Configure the Supernova as an I3C Controller"
   ]
  },
  {
   "cell_type": "code",
   "execution_count": 9,
   "metadata": {},
   "outputs": [
    {
     "data": {
      "text/plain": [
       "{'module': 1,\n",
       " 'opcode': 0,\n",
       " 'message': 'INITIALIZE I3C CONTROLLER requests success'}"
      ]
     },
     "execution_count": 9,
     "metadata": {},
     "output_type": "execute_result"
    },
    {
     "name": "stdout",
     "output_type": "stream",
     "text": [
      ">> New message from SUPERNOVA:\n",
      "{'id': 6, 'command': 1, 'name': 'I3C CONTROLLER INIT', 'result': 'I3C_CONTROLLER_INIT_SUCCESS'}\n"
     ]
    }
   ],
   "source": [
    "supernova.i3cControllerInit(getId())"
   ]
  },
  {
   "cell_type": "markdown",
   "metadata": {},
   "source": [
    "### 2. Set I3C bus voltage\n",
    "\n",
    "There are 2 I3C ports:\n",
    "- I3C LV: from 800 mV to 1199 mV\n",
    "- I3C HV: from 1200 mV to 3300 mV"
   ]
  },
  {
   "cell_type": "code",
   "execution_count": 10,
   "metadata": {},
   "outputs": [
    {
     "name": "stdout",
     "output_type": "stream",
     "text": [
      ">> New message from SUPERNOVA:\n",
      "{'id': 7, 'command': 97, 'name': 'SET I3C BUS VOLTAGE', 'result': 0}\n"
     ]
    }
   ],
   "source": [
    "request_result = supernova.setI3cBusVoltage(getId(), 3300)"
   ]
  },
  {
   "attachments": {},
   "cell_type": "markdown",
   "metadata": {},
   "source": [
    "### 3. I3C bus initialization\n",
    "\n",
    "There are two options:\n",
    "1. Initialize the bus with an **empty target devices table** and scan the I3C bus.\n",
    "\n",
    "In this case, the I3C Controller performs an RSTDAA and ENTDAA CCC. If one or more I3C Targets acknowledge the Broadcast Address 0x7E, then the Supernova \n",
    "will assign the lower available and valid dynamic address."
   ]
  },
  {
   "cell_type": "code",
   "execution_count": 11,
   "metadata": {},
   "outputs": [
    {
     "name": "stdout",
     "output_type": "stream",
     "text": [
      ">> New message from SUPERNOVA:\n",
      "{\n",
      "    \"id\": 8,\n",
      "    \"command\": 3,\n",
      "    \"name\": \"I3C GET TARGET DEVICE TABLE\",\n",
      "    \"numberOfTargets\": 0,\n",
      "    \"table\": []\n",
      "}\n"
     ]
    }
   ],
   "source": [
    "# Get the Target Devices Table from the Supernova. It must be empty before the bus initialization.\n",
    "request_result = supernova.i3cGetTargetDeviceTable(getId())"
   ]
  },
  {
   "cell_type": "code",
   "execution_count": 14,
   "metadata": {},
   "outputs": [
    {
     "name": "stdout",
     "output_type": "stream",
     "text": [
      ">> New message from SUPERNOVA:\n",
      "{'id': 11, 'command': 2, 'name': 'I3C INIT BUS', 'result': 'I3C_BUS_INIT_SUCCESS', 'errors': ['NO_TRANSFER_ERROR']}\n"
     ]
    }
   ],
   "source": [
    "# Initialize and scan the I3C bus.\n",
    "request_result = supernova.i3cInitBus(getId())"
   ]
  },
  {
   "cell_type": "code",
   "execution_count": 15,
   "metadata": {},
   "outputs": [
    {
     "name": "stdout",
     "output_type": "stream",
     "text": [
      ">> New message from SUPERNOVA:\n",
      "{\n",
      "    \"id\": 12,\n",
      "    \"command\": 3,\n",
      "    \"name\": \"I3C GET TARGET DEVICE TABLE\",\n",
      "    \"numberOfTargets\": 1,\n",
      "    \"table\": [\n",
      "        {\n",
      "            \"staticAddress\": 0,\n",
      "            \"dynamicAddress\": 8,\n",
      "            \"bcr\": {\n",
      "                \"value\": [\n",
      "                    \"0b00000111\",\n",
      "                    7,\n",
      "                    \"0x07\"\n",
      "                ],\n",
      "                \"description\": {\n",
      "                    \"deviceRole\": \"I3C Target.\",\n",
      "                    \"advancedCapabilities\": \"Does not support optional advanced capabilities.\",\n",
      "                    \"virtualTargetSupport\": \"Is not a Virtual Target and does not expose other downstream Device(s).\",\n",
      "                    \"offlineCapable\": \"Device retains the Dynamic Address and will always respond to I3C Bus commands.\",\n",
      "                    \"ibiPayload\": \"One data byte (MDB) shall follow the accepted IBI, and additional data bytes may follow.\",\n",
      "                    \"ibiRequestCapable\": \"Capable.\",\n",
      "                    \"maxDataSpeedLimitation\": \"Limitation. Controller shall use the GETMXDS CCC to interrogate the Target for specific limitation.\"\n",
      "                }\n",
      "            },\n",
      "            \"dcr\": 68,\n",
      "            \"pid\": [\n",
      "                \"0x02\",\n",
      "                \"0x08\",\n",
      "                \"0x00\",\n",
      "                \"0x70\",\n",
      "                \"0x92\",\n",
      "                \"0x0b\"\n",
      "            ],\n",
      "            \"maxIbiPayloadSize\": 0,\n",
      "            \"i3cFeatures\": {\n",
      "                \"targetInterruptRequest\": \"ACCEPT_INTERRUPT_REQUEST\",\n",
      "                \"controlerRoleRequest\": \"REJECT_CRR\",\n",
      "                \"ibiTimestamp\": \"DISABLE_IBIT\",\n",
      "                \"assignmentFromStaticAddress\": \"I3C_TARGET_DOES_NOT_HAVE_STATIC_ADDR\",\n",
      "                \"assignmentFromENTDAA\": \"ENABLE_ENTDAA\",\n",
      "                \"targetType\": \"I3C_DEVICE\",\n",
      "                \"pendingReadCapability\": \"NOT_SUPPORT_IBI_READ_CAPABILITY\",\n",
      "                \"validPid\": \"HAS_VALID_PID\"\n",
      "            }\n",
      "        }\n",
      "    ]\n",
      "}\n"
     ]
    }
   ],
   "source": [
    "request_result = supernova.i3cGetTargetDeviceTable(getId())"
   ]
  },
  {
   "cell_type": "markdown",
   "metadata": {},
   "source": [
    "2. Reset I3C BUS\n",
    "\n",
    "Let's reset the bus to initialize the bus again, this time sending a non-empty target devices table to the Supernova."
   ]
  },
  {
   "cell_type": "code",
   "execution_count": null,
   "metadata": {},
   "outputs": [],
   "source": [
    "I3C_BROADCAST_ADDRESS = 0x7E\n",
    "\n",
    "# Reset the bus issuing the RSTDAA command and clear the target device table.\n",
    "request_result = supernova.i3cClearFeature(getId(), I3cClearFeatureSelector.I3C_BUS, I3C_BROADCAST_ADDRESS)"
   ]
  },
  {
   "cell_type": "code",
   "execution_count": null,
   "metadata": {},
   "outputs": [],
   "source": [
    "# The target devices table must be empty again after resetting the bus.\n",
    "request_result = supernova.i3cGetTargetDeviceTable(getId())"
   ]
  },
  {
   "attachments": {},
   "cell_type": "markdown",
   "metadata": {},
   "source": [
    "3. Add targets to the target device table before initializing the bus using a Python dictionary"
   ]
  },
  {
   "cell_type": "code",
   "execution_count": null,
   "metadata": {},
   "outputs": [],
   "source": [
    "'''\n",
    "If the static address of a target is known, send it to the Supernova. The static address is mandatory\n",
    "if it is expected to assign the dynamic address of the target through SETDASA or SETAASA CCCs.\n",
    "'''\n",
    "LSMD6V_STATIC_ADDRESS = 0x6B        #ST LSM6DSV Static Address\n",
    "\n",
    "'''\n",
    "Select the dynamic address to be assigned to the I3C Target.\n",
    "'''\n",
    "LSMD6V_DYNAMIC_ADDRESS = 0x0A\n",
    "\n",
    "'''\n",
    "Set the features and the behavior of the I3C Target. For instance, in case that the I3C Target BCR[1] is\n",
    "set, which means that the I3C Target support In-Band Interrupt (IBI) requests, define whether the Supernova\n",
    "must accept or reject IBIs request from the target. Define also if the dynamic address will be assigned\n",
    "using ENTDAA, SETDASA or SETAASA. To assign the dynamic address set above using ENTDAA, it is mandatory\n",
    "to set also the BCR, DCR and PID in the table. If SETDASA or SETAASA are used, it is mandatory to set\n",
    "the static address. It is also important to add here the I2C devices, setting the static address and the\n",
    "target type as I2C_DEVICE.\n",
    "\n",
    "In the example below, the SETDASA CCC is used to set the dynamic address set above to the target.\n",
    "'''\n",
    "LSMD6V_FEATURES =  TargetInterruptRequest.ACCEPT_INTERRUPT_REQUEST.value |  \\\n",
    "                    ControllerRoleRequest.REJECT_CRR.value |   \\\n",
    "                    IBiTimestamp.DISABLE_IBIT.value |   \\\n",
    "                    AssignmentFromStaticAddress.I3C_TARGET_SUPPORTS_SETDASA.value |   \\\n",
    "                    DAaWithENTDAA.DISABLE_ENTDAA.value |   \\\n",
    "                    TargetType.I3C_DEVICE.value |   \\\n",
    "                    PendingReadCapability.SUPPORT_IBI_READ_CAPABILITY.value |   \\\n",
    "                    ValidPID.HAS_VALID_PID.value\n",
    "\n",
    "'''\n",
    "In the example below, the ENTDAA CCC is used to set the target dynamic address. To identify the target\n",
    "is mandatory to set the PID, BCR and DCR.\n",
    "\n",
    "'''\n",
    "BMI323_DYNAMIC_ADDRESS = 0x0B\n",
    "\n",
    "BMI323_PID = [0x07, 0x70, 0x10, 0x43, 0x10, 0x00]\n",
    "BMI323_BCR = 0x06\n",
    "BMI323_DCR = 0xEF\n",
    "\n",
    "BMI323_FEATURES =  TargetInterruptRequest.ACCEPT_INTERRUPT_REQUEST.value |  \\\n",
    "                    ControllerRoleRequest.REJECT_CRR.value |   \\\n",
    "                    IBiTimestamp.DISABLE_IBIT.value |   \\\n",
    "                    AssignmentFromStaticAddress.I3C_TARGET_SUPPORTS_SETDASA |   \\\n",
    "                    DAaWithENTDAA.ENABLE_ENTDAA.value |   \\\n",
    "                    TargetType.I3C_DEVICE.value |   \\\n",
    "                    PendingReadCapability.SUPPORT_IBI_READ_CAPABILITY.value |   \\\n",
    "                    ValidPID.HAS_VALID_PID.value\n",
    "\n",
    "\n",
    "'''\n",
    "Add an I2C Device too. In this case, it can be the Sparkfun EEPROM breakout board or the Adafruit I2C FRAM memory.\n",
    "'''\n",
    "I2C_STATIC_ADDRESS = 0x50\n",
    "\n",
    "I2C_FEATURES =  TargetInterruptRequest.REJECT_INTERRUPT_REQUEST.value |  \\\n",
    "                ControllerRoleRequest.REJECT_CRR.value |   \\\n",
    "                IBiTimestamp.DISABLE_IBIT.value |   \\\n",
    "                AssignmentFromStaticAddress.I3C_TARGET_DOES_NOT_HAVE_STATIC_ADDR.value |   \\\n",
    "                DAaWithENTDAA.DISABLE_ENTDAA.value |   \\\n",
    "                TargetType.I2C_DEVICE.value |   \\\n",
    "                PendingReadCapability.NOT_SUPPORT_IBI_READ_CAPABILITY.value |   \\\n",
    "                ValidPID.HAS_NOT_VALID_PID.value\n",
    "\n",
    "'''\n",
    "Create the target devices table to be transferred to the Supernova. This table is a dictionary whose keys\n",
    "are integer numbers starting from 0 and the maximum value possible is 10, which means that the maximum number\n",
    "of I3C Targets is 11.\n",
    "'''\n",
    "table = {0: {'staticAddress': LSMD6V_STATIC_ADDRESS,\n",
    "        'dynamicAddress': LSMD6V_DYNAMIC_ADDRESS,\n",
    "        'bcr': 0x00,\n",
    "        'dcr': 0x00,\n",
    "        'pid': [0x00, 0x00, 0x00, 0x00, 0x00, 0x00],\n",
    "        'maxIbiPayloadLength': 9,\n",
    "        'i3cFeatures': LSMD6V_FEATURES},\n",
    "        1: {'staticAddress': 0x00,\n",
    "        'dynamicAddress': BMI323_DYNAMIC_ADDRESS,\n",
    "        'bcr': BMI323_BCR,\n",
    "        'dcr': BMI323_DCR,\n",
    "        'pid': BMI323_PID,\n",
    "        'maxIbiPayloadLength': 0,\n",
    "        'i3cFeatures': BMI323_FEATURES},\n",
    "        2: {'staticAddress': I2C_STATIC_ADDRESS,\n",
    "        'dynamicAddress': 0x00,\n",
    "        'bcr': 0x00,\n",
    "        'dcr': 0x00,\n",
    "        'pid': [0x00, 0x00, 0x00, 0x00, 0x00, 0x00],\n",
    "        'maxIbiPayloadLength': 0,\n",
    "        'i3cFeatures': I2C_FEATURES}\n",
    "        }\n",
    "\n",
    "'''\n",
    "Initialize the bus using the predefined target devices table.\n",
    "'''\n",
    "request_result = supernova.i3cInitBus(getId(), table)"
   ]
  },
  {
   "cell_type": "code",
   "execution_count": null,
   "metadata": {},
   "outputs": [],
   "source": [
    "# Get the update target devices table.\n",
    "request_result = supernova.i3cGetTargetDeviceTable(getId())"
   ]
  },
  {
   "attachments": {},
   "cell_type": "markdown",
   "metadata": {},
   "source": [
    "### 4. I3C Transfers"
   ]
  },
  {
   "cell_type": "markdown",
   "metadata": {},
   "source": [
    "#### 4.1. I2C Legacy over I3C\n",
    "\n",
    "The Supernova, as stated in the MIPI I3C specification, supports backward compatibility with I2C. When an I2C device is connected to the bus,\n",
    "the device must be added to the I3C Target Devices Table as explained above in section 3.3. Then the Supernova API allows to issue I2C Write,\n",
    "I2C Read and I2C Read From (I2C Write + RS + I3C Read) transfers."
   ]
  },
  {
   "cell_type": "code",
   "execution_count": 27,
   "metadata": {},
   "outputs": [
    {
     "name": "stdout",
     "output_type": "stream",
     "text": [
      ">> New message from SUPERNOVA:\n",
      "{\n",
      "    \"id\": 18,\n",
      "    \"command\": 11,\n",
      "    \"name\": \"I3C TRANSFER\",\n",
      "    \"header\": {\n",
      "        \"tag\": \"RESPONSE_TO_REGULAR_REQUEST\",\n",
      "        \"result\": \"I3C_TRANSFER_SUCCESS\",\n",
      "        \"hasData\": false\n",
      "    },\n",
      "    \"descriptor\": {\n",
      "        \"dataLength\": 0,\n",
      "        \"errors\": [\n",
      "            \"NO_TRANSFER_ERROR\"\n",
      "        ]\n",
      "    },\n",
      "    \"data\": []\n",
      "}\n"
     ]
    }
   ],
   "source": [
    "ID              = getId()\n",
    "TARGET_ADDR     = I2C_STATIC_ADDRESS\n",
    "MODE            = TransferMode.I2C_MODE\n",
    "PUSH_PULL_RATE  = I3cPushPullTransferRate.PUSH_PULL_3_75_MHZ    # This value is ignored.\n",
    "OPEN_DRAIN_RATE = I2cTransferRate._1MHz\n",
    "REG_ADDR        = [0x00, 0x00]\n",
    "DATA            = [i for i in range(10)]\n",
    "\n",
    "# API I3C Read\n",
    "request_result = supernova.i3cWrite(ID, TARGET_ADDR, MODE, PUSH_PULL_RATE, OPEN_DRAIN_RATE, REG_ADDR, DATA)"
   ]
  },
  {
   "cell_type": "code",
   "execution_count": 28,
   "metadata": {},
   "outputs": [
    {
     "name": "stdout",
     "output_type": "stream",
     "text": [
      ">> New message from SUPERNOVA:\n",
      "{\n",
      "    \"id\": 19,\n",
      "    \"command\": 11,\n",
      "    \"name\": \"I3C TRANSFER\",\n",
      "    \"header\": {\n",
      "        \"tag\": \"RESPONSE_TO_REGULAR_REQUEST\",\n",
      "        \"result\": \"I3C_TRANSFER_SUCCESS\",\n",
      "        \"hasData\": true\n",
      "    },\n",
      "    \"descriptor\": {\n",
      "        \"dataLength\": 5,\n",
      "        \"errors\": [\n",
      "            \"NO_TRANSFER_ERROR\"\n",
      "        ]\n",
      "    },\n",
      "    \"data\": [\n",
      "        0,\n",
      "        1,\n",
      "        2,\n",
      "        3,\n",
      "        4\n",
      "    ]\n",
      "}\n"
     ]
    }
   ],
   "source": [
    "ID              = getId()\n",
    "TARGET_ADDR     = I2C_STATIC_ADDRESS\n",
    "MODE            = TransferMode.I2C_MODE\n",
    "PUSH_PULL_RATE  = I3cPushPullTransferRate.PUSH_PULL_5_MHZ           # This value is ignored.\n",
    "OPEN_DRAIN_RATE = I2cTransferRate._400KHz\n",
    "REG_ADDR        = [0x00,0x00]                                       # If this list is empty [], then only and I2C Read transfer is issued.\n",
    "LEN             = 5\n",
    "\n",
    "# API I3C Read\n",
    "request_result = supernova.i3cRead(ID, TARGET_ADDR, MODE, PUSH_PULL_RATE, OPEN_DRAIN_RATE, REG_ADDR, LEN)"
   ]
  },
  {
   "attachments": {},
   "cell_type": "markdown",
   "metadata": {},
   "source": [
    "#### 4.2 Common command code"
   ]
  },
  {
   "attachments": {},
   "cell_type": "markdown",
   "metadata": {},
   "source": [
    "##### 4.2.0 I3C Set Feature\n",
    "\n",
    "This command performs the Broadcast or Direct ENEC CCCs based in the dynamic address set in the 3rd parameter. If address is the I3C Broadcast Address 0x7E, then the Boradcast ENEC CCC is issued, otherwise, the Direct ENEC CCC is issued. Then, the second parameter identifies the events that are enabled in the bus. The enum ``I3cSetFeatureSelector`` identifies the diferent events, and the second parameter can be an OR operation between them, for instance `I3cSetFeatureSelector.REGULAR_IBI | I3cSetFeatureSelector.HOT_JOIN`\n",
    "\n",
    "```python\n",
    "I3cSetFeatureSelector.REGULAR_IBI\n",
    "I3cSetFeatureSelector.HOT_JOIN\n",
    "I3cSetFeatureSelector.I3C_CONTROLLER_ROLE_HANDOFF\n",
    "```"
   ]
  },
  {
   "cell_type": "code",
   "execution_count": 20,
   "metadata": {},
   "outputs": [
    {
     "name": "stdout",
     "output_type": "stream",
     "text": [
      ">> New message from SUPERNOVA:\n",
      "{'id': 17, 'command': 8, 'name': 'I3C SET FEATURE', 'result': 'I3C_SET_FEATURE_SUCCESS', 'errors': ['NO_TRANSFER_ERROR']}\n"
     ]
    }
   ],
   "source": [
    "TARGET_ADDR = BMI323_DYNAMIC_ADDRESS\n",
    "BROADCAST_ADDRESS = 0x7E\n",
    "\n",
    "request_result = supernova.i3cSetFeature(getId(), I3cSetFeatureSelector.REGULAR_IBI, BROADCAST_ADDRESS)"
   ]
  },
  {
   "attachments": {},
   "cell_type": "markdown",
   "metadata": {},
   "source": [
    "##### 4.2.1 GETPID"
   ]
  },
  {
   "cell_type": "code",
   "execution_count": 16,
   "metadata": {},
   "outputs": [
    {
     "name": "stdout",
     "output_type": "stream",
     "text": [
      ">> New message from SUPERNOVA:\n",
      "{\n",
      "    \"id\": 13,\n",
      "    \"command\": 11,\n",
      "    \"name\": \"I3C TRANSFER\",\n",
      "    \"header\": {\n",
      "        \"tag\": \"RESPONSE_TO_REGULAR_REQUEST\",\n",
      "        \"result\": \"I3C_TRANSFER_SUCCESS\",\n",
      "        \"hasData\": true\n",
      "    },\n",
      "    \"descriptor\": {\n",
      "        \"dataLength\": 6,\n",
      "        \"errors\": [\n",
      "            \"NO_TRANSFER_ERROR\"\n",
      "        ]\n",
      "    },\n",
      "    \"pid\": [\n",
      "        \"0x02\",\n",
      "        \"0x08\",\n",
      "        \"0x00\",\n",
      "        \"0x70\",\n",
      "        \"0x92\",\n",
      "        \"0x0b\"\n",
      "    ]\n",
      "}\n"
     ]
    }
   ],
   "source": [
    "TARGET_ADDR = 0x08\n",
    "\n",
    "request_result = supernova.i3cGETPID(getId(), \n",
    "                                    TARGET_ADDR, \n",
    "                                    I3cPushPullTransferRate.PUSH_PULL_12_5_MHZ,\n",
    "                                    I3cOpenDrainTransferRate.OPEN_DRAIN_1_25_MHZ)"
   ]
  },
  {
   "attachments": {},
   "cell_type": "markdown",
   "metadata": {},
   "source": [
    "##### 4.2.2 GETBCR"
   ]
  },
  {
   "cell_type": "code",
   "execution_count": 22,
   "metadata": {},
   "outputs": [
    {
     "name": "stdout",
     "output_type": "stream",
     "text": [
      ">> New message from SUPERNOVA:\n",
      "{\n",
      "    \"id\": 19,\n",
      "    \"command\": 11,\n",
      "    \"name\": \"I3C TRANSFER\",\n",
      "    \"header\": {\n",
      "        \"tag\": \"RESPONSE_TO_REGULAR_REQUEST\",\n",
      "        \"result\": \"I3C_TRANSFER_SUCCESS\",\n",
      "        \"hasData\": true\n",
      "    },\n",
      "    \"descriptor\": {\n",
      "        \"dataLength\": 1,\n",
      "        \"errors\": [\n",
      "            \"NO_TRANSFER_ERROR\"\n",
      "        ]\n",
      "    },\n",
      "    \"bcr\": {\n",
      "        \"value\": [\n",
      "            \"0b00100111\",\n",
      "            39,\n",
      "            \"0x27\"\n",
      "        ],\n",
      "        \"description\": {\n",
      "            \"deviceRole\": \"I3C Target.\",\n",
      "            \"advancedCapabilities\": \"Supports optional advanced capabilities. Use GETCAPS CCC to deremine which ones.\",\n",
      "            \"virtualTargetSupport\": \"Is not a Virtual Target and does not expose other downstream Device(s).\",\n",
      "            \"offlineCapable\": \"Device retains the Dynamic Address and will always respond to I3C Bus commands.\",\n",
      "            \"ibiPayload\": \"One data byte (MDB) shall follow the accepted IBI, and additional data bytes may follow.\",\n",
      "            \"ibiRequestCapable\": \"Capable.\",\n",
      "            \"maxDataSpeedLimitation\": \"Limitation. Controller shall use the GETMXDS CCC to interrogate the Target for specific limitation.\"\n",
      "        }\n",
      "    }\n",
      "}\n"
     ]
    }
   ],
   "source": [
    "TARGET_ADDR = 0x08\n",
    "\n",
    "request_result = supernova.i3cGETBCR(getId(), \n",
    "                                    TARGET_ADDR, \n",
    "                                    I3cPushPullTransferRate.PUSH_PULL_12_5_MHZ,\n",
    "                                    I3cOpenDrainTransferRate.OPEN_DRAIN_2_5_MHZ)"
   ]
  },
  {
   "attachments": {},
   "cell_type": "markdown",
   "metadata": {},
   "source": [
    "##### 4.2.3 GETDCR"
   ]
  },
  {
   "cell_type": "code",
   "execution_count": 23,
   "metadata": {},
   "outputs": [
    {
     "name": "stdout",
     "output_type": "stream",
     "text": [
      ">> New message from SUPERNOVA:\n",
      "{\n",
      "    \"id\": 20,\n",
      "    \"command\": 11,\n",
      "    \"name\": \"I3C TRANSFER\",\n",
      "    \"header\": {\n",
      "        \"tag\": \"RESPONSE_TO_REGULAR_REQUEST\",\n",
      "        \"result\": \"I3C_TRANSFER_SUCCESS\",\n",
      "        \"hasData\": true\n",
      "    },\n",
      "    \"descriptor\": {\n",
      "        \"dataLength\": 1,\n",
      "        \"errors\": [\n",
      "            \"NO_TRANSFER_ERROR\"\n",
      "        ]\n",
      "    },\n",
      "    \"dcr\": \"0xa0\"\n",
      "}\n"
     ]
    }
   ],
   "source": [
    "TARGET_ADDR = 0x0A\n",
    "\n",
    "request_result = supernova.i3cGETDCR(getId(), \n",
    "                                    TARGET_ADDR, \n",
    "                                    I3cPushPullTransferRate.PUSH_PULL_5_MHZ,\n",
    "                                    I3cOpenDrainTransferRate.OPEN_DRAIN_1_25_MHZ)"
   ]
  },
  {
   "attachments": {},
   "cell_type": "markdown",
   "metadata": {},
   "source": [
    "##### 4.2.4 GETCAPS"
   ]
  },
  {
   "cell_type": "code",
   "execution_count": 24,
   "metadata": {},
   "outputs": [
    {
     "name": "stdout",
     "output_type": "stream",
     "text": [
      ">> New message from SUPERNOVA:\n",
      "{\n",
      "    \"id\": 21,\n",
      "    \"command\": 11,\n",
      "    \"name\": \"I3C TRANSFER\",\n",
      "    \"header\": {\n",
      "        \"tag\": \"RESPONSE_TO_REGULAR_REQUEST\",\n",
      "        \"result\": \"I3C_TRANSFER_SUCCESS\",\n",
      "        \"hasData\": true\n",
      "    },\n",
      "    \"descriptor\": {\n",
      "        \"dataLength\": 1,\n",
      "        \"errors\": [\n",
      "            \"NO_TRANSFER_ERROR\"\n",
      "        ]\n",
      "    },\n",
      "    \"caps1\": {\n",
      "        \"value\": [\n",
      "            \"0b00000001\",\n",
      "            1,\n",
      "            \"0x01\"\n",
      "        ],\n",
      "        \"description\": {\n",
      "            \"hdrMode0\": \"HDR Mode 0 (HDR-DDR) supported\",\n",
      "            \"hdrMode1\": \"HDR Mode 1 not supported (Not included in I3C Basic)\",\n",
      "            \"hdrMode2\": \"HDR Mode 2 not supported (Not included in I3C Basic)\",\n",
      "            \"hdrMode3\": \"HDR Mode 3 (HDR-BT) not supported\",\n",
      "            \"hdrMode4\": \"Reserved\",\n",
      "            \"hdrMode5\": \"Reserved\",\n",
      "            \"hdrMode6\": \"Reserved\",\n",
      "            \"hdrMode7\": \"Reserved\"\n",
      "        }\n",
      "    },\n",
      "    \"caps2\": {\n",
      "        \"value\": [\n",
      "            \"0b00000000\",\n",
      "            0,\n",
      "            \"0x00\"\n",
      "        ],\n",
      "        \"description\": {\n",
      "            \"i3cVersion\": \"0 is an illegal value\",\n",
      "            \"groupAddressCapabilities\": \"Does not support Group Address function\",\n",
      "            \"hdrDrrWriteAbort\": \"I3C Target is not capable of issuing the Write Abort in HDR-DDR Mode\",\n",
      "            \"hddrDdrAbortCRC\": \"I3C Target is not capable of emitting the CRC Word when a transaction in HDR-DDR Mode is aborted\"\n",
      "        }\n",
      "    },\n",
      "    \"caps3\": {\n",
      "        \"value\": [\n",
      "            \"0b00000000\",\n",
      "            0,\n",
      "            \"0x00\"\n",
      "        ],\n",
      "        \"description\": {\n",
      "            \"multiLaneDataTransferSupport\": \"Multi-Lane (ML) Data Transfer not supported\",\n",
      "            \"devicetoDeviceTransferSupport\": \"Device to Device Transfer (D2DXFER) Support not included in the I3C Basic Specification.\",\n",
      "            \"devicetoDeviceTransferIbiCapable\": \"Device to Device Transfer (D2DXFER) IBI Capable not included in the I3C Basic Specification.\",\n",
      "            \"GETCAPSdefiningByteSupport\": \"I3C Target does not support an optional Defining Byte for the GETCAPS CCC\",\n",
      "            \"GETSTATUSdefiningByteSupport\": \"I3C Target does not support an optional Defining Byte for the GETSTATUS CCC\",\n",
      "            \"hdrBtCrc32support\": \"I3C Target does not support CRC-32 data integrity verification in HDR Bulk Transport Mode\",\n",
      "            \"ibiMdbSupportForPendingReadNotification\": \"I3C Target does not expect that it can send In-Band Interrupt requests with a specific range of Mandatory Data Byte values to indicate a Pending Read Notification\",\n",
      "            \"reserved\": \"Reserved for future definition by MIPI Alliance I3C WG\"\n",
      "        }\n",
      "    },\n",
      "    \"caps4\": {\n",
      "        \"value\": 0,\n",
      "        \"description\": \"Reserved for future definition by MIPI Alliance I3C WG\"\n",
      "    }\n",
      "}\n"
     ]
    }
   ],
   "source": [
    "TARGET_ADDR = 0x08\n",
    "\n",
    "request_result = supernova.i3cGETCAPS(getId(), \n",
    "                                    TARGET_ADDR, \n",
    "                                    I3cPushPullTransferRate.PUSH_PULL_5_MHZ,\n",
    "                                    I3cOpenDrainTransferRate.OPEN_DRAIN_1_25_MHZ)"
   ]
  },
  {
   "attachments": {},
   "cell_type": "markdown",
   "metadata": {},
   "source": [
    "##### 4.2.5 GETMXDS"
   ]
  },
  {
   "cell_type": "code",
   "execution_count": 25,
   "metadata": {},
   "outputs": [
    {
     "name": "stdout",
     "output_type": "stream",
     "text": [
      ">> New message from SUPERNOVA:\n",
      "{\n",
      "    \"id\": 22,\n",
      "    \"command\": 11,\n",
      "    \"name\": \"I3C TRANSFER\",\n",
      "    \"header\": {\n",
      "        \"tag\": \"RESPONSE_TO_REGULAR_REQUEST\",\n",
      "        \"result\": \"I3C_TRANSFER_SUCCESS\",\n",
      "        \"hasData\": true\n",
      "    },\n",
      "    \"descriptor\": {\n",
      "        \"dataLength\": 2,\n",
      "        \"errors\": [\n",
      "            \"NO_TRANSFER_ERROR\"\n",
      "        ]\n",
      "    },\n",
      "    \"maxWr\": {\n",
      "        \"value\": [\n",
      "            \"0b00000000\",\n",
      "            0,\n",
      "            \"0x00\"\n",
      "        ],\n",
      "        \"description\": {\n",
      "            \"maxSustainedDataRate\": \"fSCL Max (default value)\",\n",
      "            \"definingByteSupport\": \"Defining byte not supported\",\n",
      "            \"reserved\": \"Reserved for future use by MIPI Alliance\"\n",
      "        }\n",
      "    },\n",
      "    \"maxRd\": {\n",
      "        \"value\": [\n",
      "            \"0b00111000\",\n",
      "            56,\n",
      "            \"0x38\"\n",
      "        ],\n",
      "        \"description\": {\n",
      "            \"maxSustainedDataRate\": \"fSCL Max (default value)\",\n",
      "            \"clockToDataTurnaroundTime\": \"Tsco is > 12 ns, and is reported by private agreement\",\n",
      "            \"writeToReadPermitsStopBetween\": \"STOP would cancel the Read\",\n",
      "            \"reserved\": \"Reserved for future use by MIPI Alliance\"\n",
      "        }\n",
      "    },\n",
      "    \"maxRdTurn\": [\n",
      "        \"0 us\",\n",
      "        \"0.000000 ms\"\n",
      "    ]\n",
      "}\n"
     ]
    }
   ],
   "source": [
    "TARGET_ADDR = 0x08\n",
    "\n",
    "request_result = supernova.i3cGETMXDS(getId(), \n",
    "                                    TARGET_ADDR, \n",
    "                                    I3cPushPullTransferRate.PUSH_PULL_5_MHZ,\n",
    "                                    I3cOpenDrainTransferRate.OPEN_DRAIN_1_25_MHZ)"
   ]
  },
  {
   "attachments": {},
   "cell_type": "markdown",
   "metadata": {},
   "source": [
    "##### 4.2.6 GETMRL"
   ]
  },
  {
   "cell_type": "code",
   "execution_count": 26,
   "metadata": {},
   "outputs": [
    {
     "name": "stdout",
     "output_type": "stream",
     "text": [
      ">> New message from SUPERNOVA:\n",
      "{\n",
      "    \"id\": 42,\n",
      "    \"command\": 11,\n",
      "    \"name\": \"I3C TRANSFER\",\n",
      "    \"header\": {\n",
      "        \"tag\": \"RESPONSE_TO_REGULAR_REQUEST\",\n",
      "        \"result\": \"I3C_TRANSFER_SUCCESS\",\n",
      "        \"hasData\": true\n",
      "    },\n",
      "    \"descriptor\": {\n",
      "        \"dataLength\": 3,\n",
      "        \"errors\": [\n",
      "            \"NO_TRANSFER_ERROR\"\n",
      "        ]\n",
      "    },\n",
      "    \"maxReadLength\": 34,\n",
      "    \"maxIbiPayloadSize\": 7\n",
      "}\n"
     ]
    }
   ],
   "source": [
    "TARGET_ADDR = 0x08\n",
    "\n",
    "request_result = supernova.i3cGETMRL(getId(),\n",
    "                                    TARGET_ADDR,\n",
    "                                    I3cPushPullTransferRate.PUSH_PULL_5_MHZ,\n",
    "                                    I3cOpenDrainTransferRate.OPEN_DRAIN_1_25_MHZ)"
   ]
  },
  {
   "attachments": {},
   "cell_type": "markdown",
   "metadata": {},
   "source": [
    "##### 4.2.7 Direct SETMRL"
   ]
  },
  {
   "cell_type": "code",
   "execution_count": 44,
   "metadata": {},
   "outputs": [
    {
     "name": "stdout",
     "output_type": "stream",
     "text": [
      ">> New message from SUPERNOVA:\n",
      "{\n",
      "    \"id\": 24,\n",
      "    \"command\": 11,\n",
      "    \"name\": \"I3C TRANSFER\",\n",
      "    \"header\": {\n",
      "        \"tag\": \"RESPONSE_TO_REGULAR_REQUEST\",\n",
      "        \"result\": \"I3C_TRANSFER_SUCCESS\",\n",
      "        \"hasData\": true\n",
      "    },\n",
      "    \"descriptor\": {\n",
      "        \"dataLength\": 2,\n",
      "        \"errors\": [\n",
      "            \"NO_TRANSFER_ERROR\"\n",
      "        ]\n",
      "    },\n",
      "    \"data\": [\n",
      "        0,\n",
      "        0\n",
      "    ]\n",
      "}\n"
     ]
    }
   ],
   "source": [
    "TARGET_ADDR = 0x08\n",
    "MAXIMUM_READ_LEN = 0x22\n",
    "IBI_PAYLOAD_SIZE = 0x07\n",
    "\n",
    "request_result = supernova.i3cDirectSETMRL(getId(),\n",
    "                                            TARGET_ADDR,\n",
    "                                            I3cPushPullTransferRate.PUSH_PULL_5_MHZ,\n",
    "                                            I3cOpenDrainTransferRate.OPEN_DRAIN_1_25_MHZ,\n",
    "                                            MAXIMUM_READ_LEN,\n",
    "                                            IBI_PAYLOAD_SIZE)"
   ]
  },
  {
   "attachments": {},
   "cell_type": "markdown",
   "metadata": {},
   "source": [
    "##### 4.2.8 Braodcast SETMRL"
   ]
  },
  {
   "cell_type": "code",
   "execution_count": 40,
   "metadata": {},
   "outputs": [
    {
     "name": "stdout",
     "output_type": "stream",
     "text": [
      ">> New message from SUPERNOVA:\n",
      "{\n",
      "    \"id\": 37,\n",
      "    \"command\": 11,\n",
      "    \"name\": \"I3C TRANSFER\",\n",
      "    \"header\": {\n",
      "        \"tag\": \"RESPONSE_TO_REGULAR_REQUEST\",\n",
      "        \"result\": \"I3C_TRANSFER_SUCCESS\",\n",
      "        \"hasData\": true\n",
      "    },\n",
      "    \"descriptor\": {\n",
      "        \"dataLength\": 3,\n",
      "        \"errors\": [\n",
      "            \"NO_TRANSFER_ERROR\"\n",
      "        ]\n",
      "    },\n",
      "    \"data\": [\n",
      "        0,\n",
      "        0,\n",
      "        0\n",
      "    ]\n",
      "}\n"
     ]
    }
   ],
   "source": [
    "MAXIMUM_READ_LEN = 0x0052\n",
    "IBI_PAYLOAD_SIZE = 0x09\n",
    "\n",
    "request_result = supernova.i3cBroadcastSETMRL(getId(),\n",
    "                                            I3cPushPullTransferRate.PUSH_PULL_5_MHZ,\n",
    "                                            I3cOpenDrainTransferRate.OPEN_DRAIN_1_25_MHZ,\n",
    "                                            MAXIMUM_READ_LEN,\n",
    "                                            IBI_PAYLOAD_SIZE)"
   ]
  },
  {
   "attachments": {},
   "cell_type": "markdown",
   "metadata": {},
   "source": [
    "##### 4.2.9 GETMWL"
   ]
  },
  {
   "cell_type": "code",
   "execution_count": 35,
   "metadata": {},
   "outputs": [
    {
     "name": "stdout",
     "output_type": "stream",
     "text": [
      ">> New message from SUPERNOVA:\n",
      "{\n",
      "    \"id\": 32,\n",
      "    \"command\": 11,\n",
      "    \"name\": \"I3C TRANSFER\",\n",
      "    \"header\": {\n",
      "        \"tag\": \"RESPONSE_TO_REGULAR_REQUEST\",\n",
      "        \"result\": \"I3C_TRANSFER_SUCCESS\",\n",
      "        \"hasData\": true\n",
      "    },\n",
      "    \"descriptor\": {\n",
      "        \"dataLength\": 2,\n",
      "        \"errors\": [\n",
      "            \"NO_TRANSFER_ERROR\"\n",
      "        ]\n",
      "    },\n",
      "    \"maxWriteLength\": 256\n",
      "}\n"
     ]
    }
   ],
   "source": [
    "TARGET_ADDR = 0x08\n",
    "\n",
    "request_result = supernova.i3cGETMWL(getId(),\n",
    "                                    TARGET_ADDR,\n",
    "                                    I3cPushPullTransferRate.PUSH_PULL_5_MHZ,\n",
    "                                    I3cOpenDrainTransferRate.OPEN_DRAIN_1_25_MHZ)"
   ]
  },
  {
   "attachments": {},
   "cell_type": "markdown",
   "metadata": {},
   "source": [
    "##### 4.2.10 Direct SETMWL"
   ]
  },
  {
   "cell_type": "code",
   "execution_count": 32,
   "metadata": {},
   "outputs": [
    {
     "name": "stdout",
     "output_type": "stream",
     "text": [
      ">> New message from SUPERNOVA:\n",
      "{\n",
      "    \"id\": 29,\n",
      "    \"command\": 11,\n",
      "    \"name\": \"I3C TRANSFER\",\n",
      "    \"header\": {\n",
      "        \"tag\": \"RESPONSE_TO_REGULAR_REQUEST\",\n",
      "        \"result\": \"I3C_TRANSFER_SUCCESS\",\n",
      "        \"hasData\": true\n",
      "    },\n",
      "    \"descriptor\": {\n",
      "        \"dataLength\": 2,\n",
      "        \"errors\": [\n",
      "            \"NO_TRANSFER_ERROR\"\n",
      "        ]\n",
      "    },\n",
      "    \"data\": [\n",
      "        0,\n",
      "        0\n",
      "    ]\n",
      "}\n"
     ]
    }
   ],
   "source": [
    "TARGET_ADDR = 0x08\n",
    "MAXIMUM_WRITE_LEN = 22\n",
    "\n",
    "request_result = supernova.i3cDirectSETMWL(getId(),\n",
    "                                            TARGET_ADDR,\n",
    "                                            I3cPushPullTransferRate.PUSH_PULL_5_MHZ,\n",
    "                                            I3cOpenDrainTransferRate.OPEN_DRAIN_1_25_MHZ,\n",
    "                                            MAXIMUM_WRITE_LEN)"
   ]
  },
  {
   "attachments": {},
   "cell_type": "markdown",
   "metadata": {},
   "source": [
    "##### 4.2.11 Broadcast SETMWL"
   ]
  },
  {
   "cell_type": "code",
   "execution_count": 34,
   "metadata": {},
   "outputs": [
    {
     "name": "stdout",
     "output_type": "stream",
     "text": [
      ">> New message from SUPERNOVA:\n",
      "{\n",
      "    \"id\": 31,\n",
      "    \"command\": 11,\n",
      "    \"name\": \"I3C TRANSFER\",\n",
      "    \"header\": {\n",
      "        \"tag\": \"RESPONSE_TO_REGULAR_REQUEST\",\n",
      "        \"result\": \"I3C_TRANSFER_SUCCESS\",\n",
      "        \"hasData\": true\n",
      "    },\n",
      "    \"descriptor\": {\n",
      "        \"dataLength\": 3,\n",
      "        \"errors\": [\n",
      "            \"NO_TRANSFER_ERROR\"\n",
      "        ]\n",
      "    },\n",
      "    \"data\": [\n",
      "        0,\n",
      "        0,\n",
      "        0\n",
      "    ]\n",
      "}\n"
     ]
    }
   ],
   "source": [
    "MAXIMUM_WRITE_LEN = 256\n",
    "\n",
    "request_result = supernova.i3cBroadcastSETMWL(getId(),\n",
    "                                                I3cPushPullTransferRate.PUSH_PULL_5_MHZ,\n",
    "                                                I3cOpenDrainTransferRate.OPEN_DRAIN_1_25_MHZ,\n",
    "                                                MAXIMUM_WRITE_LEN)"
   ]
  },
  {
   "attachments": {},
   "cell_type": "markdown",
   "metadata": {},
   "source": [
    "#### 4.3 Private Write/Read Transfers"
   ]
  },
  {
   "cell_type": "markdown",
   "metadata": {},
   "source": [
    "#### 4.3.1 Private Read Transfers"
   ]
  },
  {
   "cell_type": "code",
   "execution_count": 32,
   "metadata": {},
   "outputs": [
    {
     "name": "stdout",
     "output_type": "stream",
     "text": [
      ">> New message from SUPERNOVA:\n",
      "{\n",
      "    \"id\": 29,\n",
      "    \"command\": 11,\n",
      "    \"name\": \"I3C TRANSFER\",\n",
      "    \"header\": {\n",
      "        \"tag\": \"RESPONSE_TO_REGULAR_REQUEST\",\n",
      "        \"result\": \"I3C_TRANSFER_SUCCESS\",\n",
      "        \"hasData\": true\n",
      "    },\n",
      "    \"descriptor\": {\n",
      "        \"dataLength\": 1,\n",
      "        \"errors\": [\n",
      "            \"NO_TRANSFER_ERROR\"\n",
      "        ]\n",
      "    },\n",
      "    \"data\": [\n",
      "        66\n",
      "    ]\n",
      "}\n"
     ]
    }
   ],
   "source": [
    "TARGET_ADDR     = 0x0A      # LSM6DSV dynamic address\n",
    "MODE            = TransferMode.I3C_SDR\n",
    "PUSH_PULL_RATE  = I3cPushPullTransferRate.PUSH_PULL_12_5_MHZ\n",
    "OPEN_DRAIN_RATE = I3cOpenDrainTransferRate.OPEN_DRAIN_500_KHZ\n",
    "REG_ADDR        = [0x0F]    # WHO_AM_I register: 0x70 = 112 expected.\n",
    "LEN             = 1\n",
    "\n",
    "# API I3C Read\n",
    "request_result = supernova.i3cRead(getId(), TARGET_ADDR, MODE, PUSH_PULL_RATE, OPEN_DRAIN_RATE, REG_ADDR, LEN)"
   ]
  },
  {
   "cell_type": "markdown",
   "metadata": {},
   "source": [
    "#### 4.3.2 Private Write Transfers"
   ]
  },
  {
   "cell_type": "code",
   "execution_count": 33,
   "metadata": {},
   "outputs": [
    {
     "name": "stdout",
     "output_type": "stream",
     "text": [
      ">> New message from SUPERNOVA:\n",
      "{\n",
      "    \"id\": 30,\n",
      "    \"command\": 11,\n",
      "    \"name\": \"I3C TRANSFER\",\n",
      "    \"header\": {\n",
      "        \"tag\": \"RESPONSE_TO_REGULAR_REQUEST\",\n",
      "        \"result\": \"I3C_TRANSFER_SUCCESS\",\n",
      "        \"hasData\": false\n",
      "    },\n",
      "    \"descriptor\": {\n",
      "        \"dataLength\": 0,\n",
      "        \"errors\": [\n",
      "            \"NO_TRANSFER_ERROR\"\n",
      "        ]\n",
      "    },\n",
      "    \"data\": []\n",
      "}\n"
     ]
    }
   ],
   "source": [
    "TARGET_ADDR     = 0x08\n",
    "MODE            = TransferMode.I3C_SDR\n",
    "PUSH_PULL_RATE  = I3cPushPullTransferRate.PUSH_PULL_12_5_MHZ\n",
    "OPEN_DRAIN_RATE = I3cOpenDrainTransferRate.OPEN_DRAIN_500_KHZ\n",
    "REG_ADDR        = [0x16]\n",
    "DATA            = [0x40]        # Python list of bytes. Maximum length of 1024 bytes.\n",
    "\n",
    "# API I3C Write\n",
    "request_result = supernova.i3cWrite(getId(), \n",
    "                                    TARGET_ADDR, \n",
    "                                    MODE, \n",
    "                                    PUSH_PULL_RATE, \n",
    "                                    OPEN_DRAIN_RATE, \n",
    "                                    REG_ADDR, \n",
    "                                    DATA)"
   ]
  },
  {
   "attachments": {},
   "cell_type": "markdown",
   "metadata": {},
   "source": [
    "### 5. Change dynamic address\n",
    "\n",
    "This method allows the user to change the dynamic address to an I3C Target. In this case, the Supernova as the I3C Controller issues the CCC SETNEWDA. The new address will be updated in the target devices table if the target acknowledges it."
   ]
  },
  {
   "cell_type": "code",
   "execution_count": 34,
   "metadata": {},
   "outputs": [
    {
     "name": "stdout",
     "output_type": "stream",
     "text": [
      ">> New message from SUPERNOVA:\n",
      "{'id': 31, 'command': 5, 'name': 'I3C CHANGE DA', 'result': 'I3C_CHANGE_DYNAMIC_ADDRESS_SUCCESS', 'errors': ['NO_TRANSFER_ERROR']}\n"
     ]
    }
   ],
   "source": [
    "TARGET_ADDR     = 0x08\n",
    "NEW_ADDR        = 0x0A\n",
    "\n",
    "request_result = supernova.i3cChangeDynamicAddress(getId(), TARGET_ADDR, NEW_ADDR)\n",
    "\n",
    "# IMPORTANT: Be careful and use the new address after running this command."
   ]
  },
  {
   "cell_type": "markdown",
   "metadata": {},
   "source": [
    "### 6. I3C Target Reset\n",
    "\n",
    "The Supernova as the I3C Controller provides support to the I3C Target Reset Pattern. The SUpernova class provides methods to support the RSTACT CCC and a separated method to trigger the I3C Target Reset Pattern into the bus."
   ]
  },
  {
   "cell_type": "markdown",
   "metadata": {},
   "source": [
    "##### 6.1 Direct RSTACT in read mode"
   ]
  },
  {
   "cell_type": "code",
   "execution_count": 35,
   "metadata": {},
   "outputs": [
    {
     "name": "stdout",
     "output_type": "stream",
     "text": [
      ">> New message from SUPERNOVA:\n",
      "{\n",
      "    \"id\": 32,\n",
      "    \"command\": 11,\n",
      "    \"name\": \"I3C TRANSFER\",\n",
      "    \"header\": {\n",
      "        \"tag\": \"RESPONSE_TO_REGULAR_REQUEST\",\n",
      "        \"result\": \"I3C_TRANSFER_SUCCESS\",\n",
      "        \"hasData\": true\n",
      "    },\n",
      "    \"descriptor\": {\n",
      "        \"dataLength\": 1,\n",
      "        \"errors\": [\n",
      "            \"NO_TRANSFER_ERROR\"\n",
      "        ]\n",
      "    },\n",
      "    \"data\": [\n",
      "        0\n",
      "    ]\n",
      "}\n"
     ]
    }
   ],
   "source": [
    "TARGET_ADDR     = 0x0A\n",
    "PUSH_PULL_RATE  = I3cPushPullTransferRate.PUSH_PULL_5_MHZ\n",
    "OPEN_DRAIN_RATE = I3cOpenDrainTransferRate.OPEN_DRAIN_500_KHZ\n",
    "\n",
    "request_result = supernova.i3cDirectRSTACT(getId(), TARGET_ADDR, I3cTargetResetDefByte.RESET_I3C_PERIPHERAL, TransferDirection.READ, PUSH_PULL_RATE, OPEN_DRAIN_RATE)"
   ]
  },
  {
   "cell_type": "markdown",
   "metadata": {},
   "source": [
    "##### 6.2 Direct RSTACT in write mode"
   ]
  },
  {
   "cell_type": "code",
   "execution_count": 36,
   "metadata": {},
   "outputs": [
    {
     "name": "stdout",
     "output_type": "stream",
     "text": [
      ">> New message from SUPERNOVA:\n",
      "{\n",
      "    \"id\": 33,\n",
      "    \"command\": 11,\n",
      "    \"name\": \"I3C TRANSFER\",\n",
      "    \"header\": {\n",
      "        \"tag\": \"RESPONSE_TO_REGULAR_REQUEST\",\n",
      "        \"result\": \"I3C_TRANSFER_SUCCESS\",\n",
      "        \"hasData\": false\n",
      "    },\n",
      "    \"descriptor\": {\n",
      "        \"dataLength\": 0,\n",
      "        \"errors\": [\n",
      "            \"NO_TRANSFER_ERROR\"\n",
      "        ]\n",
      "    },\n",
      "    \"data\": []\n",
      "}\n"
     ]
    }
   ],
   "source": [
    "TARGET_ADDR     = 0x0A\n",
    "PUSH_PULL_RATE  = I3cPushPullTransferRate.PUSH_PULL_5_MHZ\n",
    "OPEN_DRAIN_RATE = I3cOpenDrainTransferRate.OPEN_DRAIN_500_KHZ\n",
    "\n",
    "request_result = supernova.i3cDirectRSTACT(getId(), TARGET_ADDR, I3cTargetResetDefByte.RESET_I3C_PERIPHERAL, TransferDirection.WRITE, PUSH_PULL_RATE, OPEN_DRAIN_RATE)"
   ]
  },
  {
   "cell_type": "markdown",
   "metadata": {},
   "source": [
    "##### 6.3 Trigger the Target Reset Pattern"
   ]
  },
  {
   "cell_type": "code",
   "execution_count": 37,
   "metadata": {},
   "outputs": [
    {
     "name": "stdout",
     "output_type": "stream",
     "text": [
      ">> New message from SUPERNOVA:\n",
      "{'id': 34, 'command': 25, 'name': 'I3C TRIGGER TARGET RESET PATTERN', 'usb_result': 'CMD_SUCCESSFUL', 'manager_result': 'I3C_CONTROLLER_MGR_NO_ERROR', 'driver_result': ['NO_TRANSFER_ERROR']}\n"
     ]
    }
   ],
   "source": [
    "request_result = supernova.i3cTriggerTargetResetPattern(getId())"
   ]
  },
  {
   "cell_type": "markdown",
   "metadata": {},
   "source": [
    "##### 6.4 Reset all the whole Targets using Broadcast RSTACT CCC."
   ]
  },
  {
   "cell_type": "code",
   "execution_count": 38,
   "metadata": {},
   "outputs": [
    {
     "name": "stdout",
     "output_type": "stream",
     "text": [
      ">> New message from SUPERNOVA:\n",
      "{\n",
      "    \"id\": 35,\n",
      "    \"command\": 11,\n",
      "    \"name\": \"I3C TRANSFER\",\n",
      "    \"header\": {\n",
      "        \"tag\": \"RESPONSE_TO_REGULAR_REQUEST\",\n",
      "        \"result\": \"I3C_TRANSFER_SUCCESS\",\n",
      "        \"hasData\": true\n",
      "    },\n",
      "    \"descriptor\": {\n",
      "        \"dataLength\": 2,\n",
      "        \"errors\": [\n",
      "            \"NO_TRANSFER_ERROR\"\n",
      "        ]\n",
      "    },\n",
      "    \"data\": [\n",
      "        0,\n",
      "        0\n",
      "    ]\n",
      "}\n"
     ]
    }
   ],
   "source": [
    "TARGET_ADDR     = 0x0A\n",
    "PUSH_PULL_RATE  = I3cPushPullTransferRate.PUSH_PULL_5_MHZ\n",
    "OPEN_DRAIN_RATE = I3cOpenDrainTransferRate.OPEN_DRAIN_500_KHZ\n",
    "\n",
    "request_result = supernova.i3cBroadcastRSTACT(getId(), I3cTargetResetDefByte.RESET_WHOLE_TARGET, PUSH_PULL_RATE, OPEN_DRAIN_RATE)"
   ]
  },
  {
   "cell_type": "code",
   "execution_count": 39,
   "metadata": {},
   "outputs": [
    {
     "name": "stdout",
     "output_type": "stream",
     "text": [
      ">> New message from SUPERNOVA:\n",
      "{'id': 36, 'command': 25, 'name': 'I3C TRIGGER TARGET RESET PATTERN', 'usb_result': 'CMD_SUCCESSFUL', 'manager_result': 'I3C_CONTROLLER_MGR_NO_ERROR', 'driver_result': ['NO_TRANSFER_ERROR']}\n"
     ]
    }
   ],
   "source": [
    "request_result = supernova.i3cTriggerTargetResetPattern(getId())"
   ]
  },
  {
   "cell_type": "markdown",
   "metadata": {},
   "source": [
    "### 7. Close communication\n",
    "\n",
    "Use the ``Supernova.close()`` method to end the communication with the Supernova device and release the used memory in the background like threads and so on."
   ]
  },
  {
   "cell_type": "code",
   "execution_count": 40,
   "metadata": {},
   "outputs": [
    {
     "data": {
      "text/plain": [
       "{'module': 0, 'opcode': 0, 'message': 'Communication closed successfully.'}"
      ]
     },
     "execution_count": 40,
     "metadata": {},
     "output_type": "execute_result"
    }
   ],
   "source": [
    "# Close the communication with the Supernova device.\n",
    "supernova.close()"
   ]
  }
 ],
 "metadata": {
  "kernelspec": {
   "display_name": "Python 3",
   "language": "python",
   "name": "python3"
  },
  "language_info": {
   "codemirror_mode": {
    "name": "ipython",
    "version": 3
   },
   "file_extension": ".py",
   "mimetype": "text/x-python",
   "name": "python",
   "nbconvert_exporter": "python",
   "pygments_lexer": "ipython3",
   "version": "3.10.6"
  },
  "orig_nbformat": 4
 },
 "nbformat": 4,
 "nbformat_minor": 2
}
