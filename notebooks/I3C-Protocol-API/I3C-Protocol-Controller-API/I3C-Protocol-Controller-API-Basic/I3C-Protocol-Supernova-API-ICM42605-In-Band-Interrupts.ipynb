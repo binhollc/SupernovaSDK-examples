{
 "cells": [
  {
   "cell_type": "markdown",
   "metadata": {},
   "source": [
    "### Description\n",
    "\n",
    "This notebook is intended to demo how the Supernova SDK handles the In-Band Interrupts notification sent by the Supernova. The notebooks uses the TDK ICM42605 as the I3C Target, and runs a sequence of I3C Private transfer to configure the target to request In-Band Interrupts. "
   ]
  },
  {
   "cell_type": "code",
   "execution_count": 1,
   "metadata": {},
   "outputs": [],
   "source": [
    "# Import Python package\n",
    "from BinhoSupernova import getConnectedSupernovaDevicesList\n",
    "from BinhoSupernova.Supernova import Supernova\n",
    "from BinhoSupernova.commands.definitions import *"
   ]
  },
  {
   "attachments": {},
   "cell_type": "markdown",
   "metadata": {},
   "source": [
    "#### 1. List all the Supernova devices conneted to the PC host"
   ]
  },
  {
   "cell_type": "code",
   "execution_count": 2,
   "metadata": {},
   "outputs": [
    {
     "data": {
      "text/plain": [
       "[{'path': '\\\\\\\\?\\\\HID#VID_1FC9&PID_82FC#7&f321146&0&0000#{4d1e55b2-f16f-11cf-88cb-001111000030}',\n",
       "  'vendor_id': '0x1fc9',\n",
       "  'product_id': '0x82fc',\n",
       "  'serial_number': '59314AC593A1C05C8163B6759994476',\n",
       "  'release_number': 256,\n",
       "  'manufacturer_string': 'Binho LLC',\n",
       "  'product_string': 'Binho Supernova',\n",
       "  'usage_page': 65280,\n",
       "  'usage': 1,\n",
       "  'interface_number': -1}]"
      ]
     },
     "execution_count": 2,
     "metadata": {},
     "output_type": "execute_result"
    }
   ],
   "source": [
    "getConnectedSupernovaDevicesList()"
   ]
  },
  {
   "attachments": {},
   "cell_type": "markdown",
   "metadata": {},
   "source": [
    "#### 2. Connect to Supernova device"
   ]
  },
  {
   "cell_type": "code",
   "execution_count": 3,
   "metadata": {},
   "outputs": [
    {
     "data": {
      "text/plain": [
       "{'module': 0,\n",
       " 'opcode': 0,\n",
       " 'message': 'Connection with Supernova device opened successfully.'}"
      ]
     },
     "execution_count": 3,
     "metadata": {},
     "output_type": "execute_result"
    }
   ],
   "source": [
    "# Create device instance\n",
    "supernova = Supernova()\n",
    "supernova.open()"
   ]
  },
  {
   "attachments": {},
   "cell_type": "markdown",
   "metadata": {},
   "source": [
    "#### 4. Define and register a callback to handle responses and notifications from Supernova"
   ]
  },
  {
   "cell_type": "code",
   "execution_count": 4,
   "metadata": {},
   "outputs": [],
   "source": [
    "import json\n",
    "\n",
    "# Define callback function\n",
    "def callback_function(supernova_message: dict, system_message: dict) -> None:\n",
    "    \n",
    "    if supernova_message != None:\n",
    "\n",
    "        # Print a header\n",
    "        print(\">> New message from SUPERNOVA:\")\n",
    "\n",
    "        # If the command is GET TARGET DEVICE TABLE, convert to json.\n",
    "        if supernova_message[\"name\"] == \"I3C GET TARGET DEVICE TABLE\" or supernova_message[\"name\"] == \"I3C TRANSFER\":\n",
    "            responseJson = json.dumps(supernova_message, indent=4)\n",
    "            print(responseJson)\n",
    "\n",
    "        else:\n",
    "            print(supernova_message)\n",
    "    \n",
    "    if system_message != None:\n",
    "\n",
    "        # Print a header\n",
    "        print(\">> New message from the SYSTEM:\")\n",
    "\n",
    "        print(system_message)"
   ]
  },
  {
   "cell_type": "code",
   "execution_count": 5,
   "metadata": {},
   "outputs": [
    {
     "data": {
      "text/plain": [
       "{'module': 0,\n",
       " 'opcode': 0,\n",
       " 'message': 'On event callback function registered successfully.'}"
      ]
     },
     "execution_count": 5,
     "metadata": {},
     "output_type": "execute_result"
    }
   ],
   "source": [
    "supernova.onEvent(callback_function)"
   ]
  },
  {
   "cell_type": "markdown",
   "metadata": {},
   "source": [
    "#### 3. Define a function to generate transfers ID"
   ]
  },
  {
   "cell_type": "code",
   "execution_count": 6,
   "metadata": {},
   "outputs": [],
   "source": [
    "#Auxiliar code to generate IDs.\n",
    "\n",
    "counter_id = 0\n",
    "\n",
    "def getId():\n",
    "    global counter_id\n",
    "    counter_id = counter_id + 1\n",
    "    return counter_id"
   ]
  },
  {
   "cell_type": "code",
   "execution_count": 7,
   "metadata": {},
   "outputs": [
    {
     "data": {
      "text/plain": [
       "{'module': 1,\n",
       " 'opcode': 0,\n",
       " 'message': 'INITIALIZE I3C CONTROLLER requests success'}"
      ]
     },
     "execution_count": 7,
     "metadata": {},
     "output_type": "execute_result"
    },
    {
     "name": "stdout",
     "output_type": "stream",
     "text": [
      ">> New message from SUPERNOVA:\n",
      "{'id': 1, 'command': 1, 'name': 'I3C CONTROLLER INIT', 'result': 'I3C_CONTROLLER_INIT_SUCCESS'}\n"
     ]
    }
   ],
   "source": [
    "supernova.i3cControllerInit(getId())"
   ]
  },
  {
   "cell_type": "code",
   "execution_count": 8,
   "metadata": {},
   "outputs": [
    {
     "name": "stdout",
     "output_type": "stream",
     "text": [
      ">> New message from SUPERNOVA:\n",
      "{'id': 2, 'command': 96, 'name': 'GET USB STRING', 'length': 20, 'message': 'FW-1.3.0-187-fc74615'}\n"
     ]
    }
   ],
   "source": [
    "request_result = supernova.getUsbString(getId(), GetUsbStringSubCommand.FW_VERSION)"
   ]
  },
  {
   "attachments": {},
   "cell_type": "markdown",
   "metadata": {},
   "source": [
    "### I3C Protocol"
   ]
  },
  {
   "cell_type": "code",
   "execution_count": 9,
   "metadata": {},
   "outputs": [
    {
     "name": "stdout",
     "output_type": "stream",
     "text": [
      ">> New message from SUPERNOVA:\n",
      "{'id': 3, 'command': 97, 'name': 'SET I3C BUS VOLTAGE', 'result': 0}\n"
     ]
    }
   ],
   "source": [
    "request_result = supernova.setI3cBusVoltage(getId(), 3300)"
   ]
  },
  {
   "attachments": {},
   "cell_type": "markdown",
   "metadata": {},
   "source": [
    "### 1. I3C bus initialization\n",
    "\n",
    "There are two options:\n",
    "- Initialize the bus with an empty target devices table and scan the I3C bus.\n",
    "- Add targets to the target device table before initializing the bus."
   ]
  },
  {
   "cell_type": "code",
   "execution_count": 10,
   "metadata": {},
   "outputs": [
    {
     "name": "stdout",
     "output_type": "stream",
     "text": [
      ">> New message from SUPERNOVA:\n",
      "{\n",
      "    \"id\": 4,\n",
      "    \"command\": 3,\n",
      "    \"name\": \"I3C GET TARGET DEVICE TABLE\",\n",
      "    \"numberOfTargets\": 0,\n",
      "    \"table\": []\n",
      "}\n"
     ]
    }
   ],
   "source": [
    "request_result = supernova.i3cGetTargetDeviceTable(getId())"
   ]
  },
  {
   "attachments": {},
   "cell_type": "markdown",
   "metadata": {},
   "source": [
    "Add targets to the target devices table using a Python dictionary"
   ]
  },
  {
   "cell_type": "code",
   "execution_count": 11,
   "metadata": {},
   "outputs": [
    {
     "name": "stdout",
     "output_type": "stream",
     "text": [
      ">> New message from SUPERNOVA:\n",
      "{'id': 5, 'command': 2, 'name': 'I3C INIT BUS', 'result': 'I3C_BUS_INIT_SUCCESS', 'errors': ['NO_TRANSFER_ERROR']}\n"
     ]
    }
   ],
   "source": [
    "ICM_STATIC_ADDRESS = 0x69\n",
    "ICM_DYNAMIC_ADDRESS = 0x08\n",
    "\n",
    "features =  TargetInterruptRequest.ACCEPT_INTERRUPT_REQUEST.value |  \\\n",
    "            ControllerRoleRequest.REJECT_CRR.value |   \\\n",
    "            IBiTimestamp.DISABLE_IBIT.value |   \\\n",
    "            AssignmentFromStaticAddress.I3C_TARGET_SUPPORTS_SETDASA.value |   \\\n",
    "            DAaWithENTDAA.ENABLE_ENTDAA.value |   \\\n",
    "            TargetType.I3C_DEVICE.value |   \\\n",
    "            PendingReadCapability.SUPPORT_IBI_READ_CAPABILITY.value |   \\\n",
    "            ValidPID.HAS_VALID_PID.value\n",
    "\n",
    "table = {0: {'staticAddress': ICM_STATIC_ADDRESS,\n",
    "        'dynamicAddress': ICM_DYNAMIC_ADDRESS,\n",
    "        'bcr': 0x00,\n",
    "        'dcr': 0x00,\n",
    "        'pid': [0x00, 0x00, 0x00, 0x00, 0x00, 0x00],\n",
    "        'maxIbiPayloadLength': 9,\n",
    "        'i3cFeatures': features}}\n",
    "\n",
    "request_result = supernova.i3cInitBus(getId(), table)"
   ]
  },
  {
   "cell_type": "code",
   "execution_count": 12,
   "metadata": {},
   "outputs": [
    {
     "name": "stdout",
     "output_type": "stream",
     "text": [
      ">> New message from SUPERNOVA:\n",
      "{\n",
      "    \"id\": 6,\n",
      "    \"command\": 3,\n",
      "    \"name\": \"I3C GET TARGET DEVICE TABLE\",\n",
      "    \"numberOfTargets\": 1,\n",
      "    \"table\": [\n",
      "        {\n",
      "            \"staticAddress\": 105,\n",
      "            \"dynamicAddress\": 8,\n",
      "            \"bcr\": {\n",
      "                \"value\": [\n",
      "                    \"0b00000000\",\n",
      "                    0,\n",
      "                    \"0x00\"\n",
      "                ],\n",
      "                \"description\": {\n",
      "                    \"deviceRole\": \"I3C Target.\",\n",
      "                    \"advancedCapabilities\": \"Does not support optional advanced capabilities.\",\n",
      "                    \"virtualTargetSupport\": \"Is not a Virtual Target and does not expose other downstream Device(s).\",\n",
      "                    \"offlineCapable\": \"Device retains the Dynamic Address and will always respond to I3C Bus commands.\",\n",
      "                    \"ibiPayload\": \"No data bytes follow the accepted IBI.\",\n",
      "                    \"ibiRequestCapable\": \"Not capable.\",\n",
      "                    \"maxDataSpeedLimitation\": \"No Limitation.\"\n",
      "                }\n",
      "            },\n",
      "            \"dcr\": 0,\n",
      "            \"pid\": [\n",
      "                \"0x00\",\n",
      "                \"0x00\",\n",
      "                \"0x00\",\n",
      "                \"0x00\",\n",
      "                \"0x00\",\n",
      "                \"0x00\"\n",
      "            ],\n",
      "            \"maxIbiPayloadSize\": 9,\n",
      "            \"i3cFeatures\": {\n",
      "                \"targetInterruptRequest\": \"ACCEPT_INTERRUPT_REQUEST\",\n",
      "                \"controlerRoleRequest\": \"REJECT_CRR\",\n",
      "                \"ibiTimestamp\": \"DISABLE_IBIT\",\n",
      "                \"assignmentFromStaticAddress\": \"I3C_TARGET_SUPPORTS_SETDASA\",\n",
      "                \"assignmentFromENTDAA\": \"ENABLE_ENTDAA\",\n",
      "                \"targetType\": \"I3C_DEVICE\",\n",
      "                \"pendingReadCapability\": \"SUPPORT_IBI_READ_CAPABILITY\",\n",
      "                \"validPid\": \"HAS_VALID_PID\"\n",
      "            }\n",
      "        }\n",
      "    ]\n",
      "}\n"
     ]
    }
   ],
   "source": [
    "request_result = supernova.i3cGetTargetDeviceTable(getId())"
   ]
  },
  {
   "attachments": {},
   "cell_type": "markdown",
   "metadata": {},
   "source": [
    "### 2. I3C Transfers"
   ]
  },
  {
   "attachments": {},
   "cell_type": "markdown",
   "metadata": {},
   "source": [
    "#### 2.1 Update PID, BCR and DCR"
   ]
  },
  {
   "cell_type": "code",
   "execution_count": 13,
   "metadata": {},
   "outputs": [
    {
     "name": "stdout",
     "output_type": "stream",
     "text": [
      ">> New message from SUPERNOVA:\n",
      "{\n",
      "    \"id\": 7,\n",
      "    \"command\": 11,\n",
      "    \"name\": \"I3C TRANSFER\",\n",
      "    \"header\": {\n",
      "        \"tag\": \"RESPONSE_TO_REGULAR_REQUEST\",\n",
      "        \"result\": \"I3C_TRANSFER_SUCCESS\",\n",
      "        \"hasData\": true\n",
      "    },\n",
      "    \"descriptor\": {\n",
      "        \"dataLength\": 6,\n",
      "        \"errors\": [\n",
      "            \"NO_TRANSFER_ERROR\"\n",
      "        ]\n",
      "    },\n",
      "    \"pid\": [\n",
      "        \"0x04\",\n",
      "        \"0x6a\",\n",
      "        \"0x00\",\n",
      "        \"0x00\",\n",
      "        \"0x00\",\n",
      "        \"0x00\"\n",
      "    ]\n",
      "}\n"
     ]
    }
   ],
   "source": [
    "TARGET_ADDR = 0x08\n",
    "\n",
    "request_result = supernova.i3cGETPID(getId(), \n",
    "                                    TARGET_ADDR, \n",
    "                                    I3cPushPullTransferRate.PUSH_PULL_5_MHZ,\n",
    "                                    I3cOpenDrainTransferRate.OPEN_DRAIN_1_25_MHZ)"
   ]
  },
  {
   "cell_type": "code",
   "execution_count": 14,
   "metadata": {},
   "outputs": [
    {
     "name": "stdout",
     "output_type": "stream",
     "text": [
      ">> New message from SUPERNOVA:\n",
      "{\n",
      "    \"id\": 8,\n",
      "    \"command\": 11,\n",
      "    \"name\": \"I3C TRANSFER\",\n",
      "    \"header\": {\n",
      "        \"tag\": \"RESPONSE_TO_REGULAR_REQUEST\",\n",
      "        \"result\": \"I3C_TRANSFER_SUCCESS\",\n",
      "        \"hasData\": true\n",
      "    },\n",
      "    \"descriptor\": {\n",
      "        \"dataLength\": 1,\n",
      "        \"errors\": [\n",
      "            \"NO_TRANSFER_ERROR\"\n",
      "        ]\n",
      "    },\n",
      "    \"bcr\": {\n",
      "        \"value\": [\n",
      "            \"0b00100111\",\n",
      "            39,\n",
      "            \"0x27\"\n",
      "        ],\n",
      "        \"description\": {\n",
      "            \"deviceRole\": \"I3C Target.\",\n",
      "            \"advancedCapabilities\": \"Supports optional advanced capabilities. Use GETCAPS CCC to deremine which ones.\",\n",
      "            \"virtualTargetSupport\": \"Is not a Virtual Target and does not expose other downstream Device(s).\",\n",
      "            \"offlineCapable\": \"Device retains the Dynamic Address and will always respond to I3C Bus commands.\",\n",
      "            \"ibiPayload\": \"One data byte (MDB) shall follow the accepted IBI, and additional data bytes may follow.\",\n",
      "            \"ibiRequestCapable\": \"Capable.\",\n",
      "            \"maxDataSpeedLimitation\": \"Limitation. Controller shall use the GETMXDS CCC to interrogate the Target for specific limitation.\"\n",
      "        }\n",
      "    }\n",
      "}\n"
     ]
    }
   ],
   "source": [
    "TARGET_ADDR = 0x08\n",
    "\n",
    "request_result = supernova.i3cGETBCR(getId(), \n",
    "                                    TARGET_ADDR, \n",
    "                                    I3cPushPullTransferRate.PUSH_PULL_12_5_MHZ,\n",
    "                                    I3cOpenDrainTransferRate.OPEN_DRAIN_4_17_MHZ)"
   ]
  },
  {
   "cell_type": "code",
   "execution_count": 15,
   "metadata": {},
   "outputs": [
    {
     "name": "stdout",
     "output_type": "stream",
     "text": [
      ">> New message from SUPERNOVA:\n",
      "{\n",
      "    \"id\": 9,\n",
      "    \"command\": 11,\n",
      "    \"name\": \"I3C TRANSFER\",\n",
      "    \"header\": {\n",
      "        \"tag\": \"RESPONSE_TO_REGULAR_REQUEST\",\n",
      "        \"result\": \"I3C_TRANSFER_SUCCESS\",\n",
      "        \"hasData\": true\n",
      "    },\n",
      "    \"descriptor\": {\n",
      "        \"dataLength\": 1,\n",
      "        \"errors\": [\n",
      "            \"NO_TRANSFER_ERROR\"\n",
      "        ]\n",
      "    },\n",
      "    \"dcr\": \"0xa0\"\n",
      "}\n"
     ]
    }
   ],
   "source": [
    "TARGET_ADDR = 0x08\n",
    "\n",
    "request_result = supernova.i3cGETDCR(getId(), \n",
    "                                    TARGET_ADDR, \n",
    "                                    I3cPushPullTransferRate.PUSH_PULL_12_5_MHZ,\n",
    "                                    I3cOpenDrainTransferRate.OPEN_DRAIN_4_17_MHZ)"
   ]
  },
  {
   "attachments": {},
   "cell_type": "markdown",
   "metadata": {},
   "source": [
    "#### 2.2 Set MWL and MRL"
   ]
  },
  {
   "cell_type": "code",
   "execution_count": 16,
   "metadata": {},
   "outputs": [
    {
     "name": "stdout",
     "output_type": "stream",
     "text": [
      ">> New message from SUPERNOVA:\n",
      "{\n",
      "    \"id\": 10,\n",
      "    \"command\": 11,\n",
      "    \"name\": \"I3C TRANSFER\",\n",
      "    \"header\": {\n",
      "        \"tag\": \"RESPONSE_TO_REGULAR_REQUEST\",\n",
      "        \"result\": \"I3C_TRANSFER_SUCCESS\",\n",
      "        \"hasData\": true\n",
      "    },\n",
      "    \"descriptor\": {\n",
      "        \"dataLength\": 2,\n",
      "        \"errors\": [\n",
      "            \"NO_TRANSFER_ERROR\"\n",
      "        ]\n",
      "    },\n",
      "    \"data\": [\n",
      "        0,\n",
      "        0\n",
      "    ]\n",
      "}\n"
     ]
    }
   ],
   "source": [
    "TARGET_ADDR = 0x08\n",
    "MAXIMUM_READ_LEN = 512\n",
    "\n",
    "request_result = supernova.i3cDirectSETMRL(getId(), \n",
    "                            TARGET_ADDR, \n",
    "                            I3cPushPullTransferRate.PUSH_PULL_12_5_MHZ,\n",
    "                            I3cOpenDrainTransferRate.OPEN_DRAIN_4_17_MHZ,\n",
    "                            MAXIMUM_READ_LEN)"
   ]
  },
  {
   "cell_type": "code",
   "execution_count": 17,
   "metadata": {},
   "outputs": [
    {
     "name": "stdout",
     "output_type": "stream",
     "text": [
      ">> New message from SUPERNOVA:\n",
      "{\n",
      "    \"id\": 11,\n",
      "    \"command\": 11,\n",
      "    \"name\": \"I3C TRANSFER\",\n",
      "    \"header\": {\n",
      "        \"tag\": \"RESPONSE_TO_REGULAR_REQUEST\",\n",
      "        \"result\": \"I3C_TRANSFER_SUCCESS\",\n",
      "        \"hasData\": true\n",
      "    },\n",
      "    \"descriptor\": {\n",
      "        \"dataLength\": 3,\n",
      "        \"errors\": [\n",
      "            \"NO_TRANSFER_ERROR\"\n",
      "        ]\n",
      "    },\n",
      "    \"data\": [\n",
      "        0,\n",
      "        0,\n",
      "        0\n",
      "    ]\n",
      "}\n"
     ]
    }
   ],
   "source": [
    "MAXIMUM_WRITE_LEN = 256\n",
    "\n",
    "request_result = supernova.i3cBroadcastSETMWL(getId(),\n",
    "                                                I3cPushPullTransferRate.PUSH_PULL_12_5_MHZ,\n",
    "                                                I3cOpenDrainTransferRate.OPEN_DRAIN_4_17_MHZ,\n",
    "                                                MAXIMUM_WRITE_LEN)"
   ]
  },
  {
   "attachments": {},
   "cell_type": "markdown",
   "metadata": {},
   "source": [
    "#### 2.3 Disable In-Band interrupts"
   ]
  },
  {
   "cell_type": "code",
   "execution_count": 18,
   "metadata": {},
   "outputs": [
    {
     "name": "stdout",
     "output_type": "stream",
     "text": [
      ">> New message from SUPERNOVA:\n",
      "{'id': 12, 'command': 7, 'name': 'I3C CLEAR FEATURE', 'result': 'I3C_CLEAR_FEATURE_SUCCESS', 'errors': ['NO_TRANSFER_ERROR']}\n"
     ]
    }
   ],
   "source": [
    "request_result = supernova.i3cClearFeature(getId(), I3cClearFeatureSelector.REGULAR_IBI, ICM_DYNAMIC_ADDRESS)"
   ]
  },
  {
   "attachments": {},
   "cell_type": "markdown",
   "metadata": {},
   "source": [
    "#### 2.4 Configure sensor"
   ]
  },
  {
   "attachments": {},
   "cell_type": "markdown",
   "metadata": {},
   "source": [
    "1. Write ``REG_BANK_SEL``\n",
    "\n",
    "Change register bank to bank 0."
   ]
  },
  {
   "cell_type": "code",
   "execution_count": 19,
   "metadata": {},
   "outputs": [
    {
     "name": "stdout",
     "output_type": "stream",
     "text": [
      ">> New message from SUPERNOVA:\n",
      "{\n",
      "    \"id\": 13,\n",
      "    \"command\": 11,\n",
      "    \"name\": \"I3C TRANSFER\",\n",
      "    \"header\": {\n",
      "        \"tag\": \"RESPONSE_TO_REGULAR_REQUEST\",\n",
      "        \"result\": \"I3C_TRANSFER_SUCCESS\",\n",
      "        \"hasData\": false\n",
      "    },\n",
      "    \"descriptor\": {\n",
      "        \"dataLength\": 0,\n",
      "        \"errors\": [\n",
      "            \"NO_TRANSFER_ERROR\"\n",
      "        ]\n",
      "    },\n",
      "    \"data\": []\n",
      "}\n"
     ]
    }
   ],
   "source": [
    "# REG_BANK_SEL register address\n",
    "REG_BANK_SEL    = 0x76\n",
    "VALUE           = 0x00\n",
    "\n",
    "# API I3C Write\n",
    "request_result = supernova.i3cWrite(getId(), \n",
    "                                    ICM_DYNAMIC_ADDRESS,\n",
    "                                    TransferMode.I3C_SDR,\n",
    "                                    I3cPushPullTransferRate.PUSH_PULL_12_5_MHZ, \n",
    "                                    I3cOpenDrainTransferRate.OPEN_DRAIN_4_17_MHZ,\n",
    "                                    [REG_BANK_SEL], \n",
    "                                    [VALUE])"
   ]
  },
  {
   "attachments": {},
   "cell_type": "markdown",
   "metadata": {},
   "source": [
    "2. Write ``PWR_MGMT0`` register\n",
    "\n",
    "Turn off Accelerometer to modify registers value."
   ]
  },
  {
   "cell_type": "code",
   "execution_count": 20,
   "metadata": {},
   "outputs": [
    {
     "name": "stdout",
     "output_type": "stream",
     "text": [
      ">> New message from SUPERNOVA:\n",
      "{\n",
      "    \"id\": 14,\n",
      "    \"command\": 11,\n",
      "    \"name\": \"I3C TRANSFER\",\n",
      "    \"header\": {\n",
      "        \"tag\": \"RESPONSE_TO_REGULAR_REQUEST\",\n",
      "        \"result\": \"I3C_TRANSFER_SUCCESS\",\n",
      "        \"hasData\": false\n",
      "    },\n",
      "    \"descriptor\": {\n",
      "        \"dataLength\": 0,\n",
      "        \"errors\": [\n",
      "            \"NO_TRANSFER_ERROR\"\n",
      "        ]\n",
      "    },\n",
      "    \"data\": []\n",
      "}\n"
     ]
    }
   ],
   "source": [
    "# PWR_MGMT0 register address\n",
    "PWR_MGMT0   = 0x4E\n",
    "VALUE       = 0x20\n",
    "\n",
    "# API I3C Write\n",
    "request_result = supernova.i3cWrite(getId(), \n",
    "                                    ICM_DYNAMIC_ADDRESS,\n",
    "                                    TransferMode.I3C_SDR,\n",
    "                                    I3cPushPullTransferRate.PUSH_PULL_12_5_MHZ, \n",
    "                                    I3cOpenDrainTransferRate.OPEN_DRAIN_4_17_MHZ,\n",
    "                                    [PWR_MGMT0], \n",
    "                                    [VALUE])"
   ]
  },
  {
   "attachments": {},
   "cell_type": "markdown",
   "metadata": {},
   "source": [
    "3. Write ``DRIVE_CONFIG`` register\n",
    "\n",
    "Set ``I2C_SLEW_RATE`` and ``SPI_SLEW_RATE``"
   ]
  },
  {
   "cell_type": "code",
   "execution_count": 21,
   "metadata": {},
   "outputs": [
    {
     "name": "stdout",
     "output_type": "stream",
     "text": [
      ">> New message from SUPERNOVA:\n",
      "{\n",
      "    \"id\": 15,\n",
      "    \"command\": 11,\n",
      "    \"name\": \"I3C TRANSFER\",\n",
      "    \"header\": {\n",
      "        \"tag\": \"RESPONSE_TO_REGULAR_REQUEST\",\n",
      "        \"result\": \"I3C_TRANSFER_SUCCESS\",\n",
      "        \"hasData\": false\n",
      "    },\n",
      "    \"descriptor\": {\n",
      "        \"dataLength\": 0,\n",
      "        \"errors\": [\n",
      "            \"NO_TRANSFER_ERROR\"\n",
      "        ]\n",
      "    },\n",
      "    \"data\": []\n",
      "}\n"
     ]
    }
   ],
   "source": [
    "# DRIVE_CONFIG register address\n",
    "DRIVE_CONFIG    = 0x13\n",
    "VALUE           = 0x05\n",
    "\n",
    "# API I3C Write\n",
    "request_result = supernova.i3cWrite(getId(), \n",
    "                                    ICM_DYNAMIC_ADDRESS,\n",
    "                                    TransferMode.I3C_SDR,\n",
    "                                    I3cPushPullTransferRate.PUSH_PULL_12_5_MHZ, \n",
    "                                    I3cOpenDrainTransferRate.OPEN_DRAIN_4_17_MHZ,\n",
    "                                    [DRIVE_CONFIG], \n",
    "                                    [VALUE])"
   ]
  },
  {
   "attachments": {},
   "cell_type": "markdown",
   "metadata": {},
   "source": [
    "4. Write ``FIFO_CONFIG`` register\n",
    "\n",
    "Set Fifo mode: Stream-to-FIFO Mode"
   ]
  },
  {
   "cell_type": "code",
   "execution_count": 22,
   "metadata": {},
   "outputs": [
    {
     "name": "stdout",
     "output_type": "stream",
     "text": [
      ">> New message from SUPERNOVA:\n",
      "{\n",
      "    \"id\": 16,\n",
      "    \"command\": 11,\n",
      "    \"name\": \"I3C TRANSFER\",\n",
      "    \"header\": {\n",
      "        \"tag\": \"RESPONSE_TO_REGULAR_REQUEST\",\n",
      "        \"result\": \"I3C_TRANSFER_SUCCESS\",\n",
      "        \"hasData\": false\n",
      "    },\n",
      "    \"descriptor\": {\n",
      "        \"dataLength\": 0,\n",
      "        \"errors\": [\n",
      "            \"NO_TRANSFER_ERROR\"\n",
      "        ]\n",
      "    },\n",
      "    \"data\": []\n",
      "}\n"
     ]
    }
   ],
   "source": [
    "# FIFO_CONFIG register address\n",
    "FIFO_CONFIG = 0x16\n",
    "VALUE       = 0x40\n",
    "\n",
    "# API I3C Write\n",
    "request_result = supernova.i3cWrite(getId(), \n",
    "                                    ICM_DYNAMIC_ADDRESS,\n",
    "                                    TransferMode.I3C_SDR,\n",
    "                                    I3cPushPullTransferRate.PUSH_PULL_12_5_MHZ, \n",
    "                                    I3cOpenDrainTransferRate.OPEN_DRAIN_4_17_MHZ,\n",
    "                                    [FIFO_CONFIG], \n",
    "                                    [VALUE])"
   ]
  },
  {
   "attachments": {},
   "cell_type": "markdown",
   "metadata": {},
   "source": [
    "5. Write ``FIFO_CONFIG1`` register\n",
    "\n",
    "- FIFO read can be partial, and resume from last read point\n",
    "- Trigger FIFO watermark interrupt on every ODR (DMA write) if FIFO_COUNT ≥ FIFO_WM_TH\n",
    "- Enable accelerometer packets to go to FIFO"
   ]
  },
  {
   "cell_type": "code",
   "execution_count": 23,
   "metadata": {},
   "outputs": [
    {
     "name": "stdout",
     "output_type": "stream",
     "text": [
      ">> New message from SUPERNOVA:\n",
      "{\n",
      "    \"id\": 17,\n",
      "    \"command\": 11,\n",
      "    \"name\": \"I3C TRANSFER\",\n",
      "    \"header\": {\n",
      "        \"tag\": \"RESPONSE_TO_REGULAR_REQUEST\",\n",
      "        \"result\": \"I3C_TRANSFER_SUCCESS\",\n",
      "        \"hasData\": false\n",
      "    },\n",
      "    \"descriptor\": {\n",
      "        \"dataLength\": 0,\n",
      "        \"errors\": [\n",
      "            \"NO_TRANSFER_ERROR\"\n",
      "        ]\n",
      "    },\n",
      "    \"data\": []\n",
      "}\n"
     ]
    }
   ],
   "source": [
    "# FIFO_CONFIG1 register address\n",
    "FIFO_CONFIG1    = 0x5F\n",
    "VALUE           = 0x61\n",
    "\n",
    "# API I3C Write\n",
    "request_result = supernova.i3cWrite(getId(), \n",
    "                                    ICM_DYNAMIC_ADDRESS,\n",
    "                                    TransferMode.I3C_SDR,\n",
    "                                    I3cPushPullTransferRate.PUSH_PULL_12_5_MHZ, \n",
    "                                    I3cOpenDrainTransferRate.OPEN_DRAIN_4_17_MHZ,\n",
    "                                    [FIFO_CONFIG1], \n",
    "                                    [VALUE])"
   ]
  },
  {
   "cell_type": "code",
   "execution_count": 24,
   "metadata": {},
   "outputs": [
    {
     "name": "stdout",
     "output_type": "stream",
     "text": [
      ">> New message from SUPERNOVA:\n",
      "{\n",
      "    \"id\": 18,\n",
      "    \"command\": 11,\n",
      "    \"name\": \"I3C TRANSFER\",\n",
      "    \"header\": {\n",
      "        \"tag\": \"RESPONSE_TO_REGULAR_REQUEST\",\n",
      "        \"result\": \"I3C_TRANSFER_SUCCESS\",\n",
      "        \"hasData\": false\n",
      "    },\n",
      "    \"descriptor\": {\n",
      "        \"dataLength\": 0,\n",
      "        \"errors\": [\n",
      "            \"NO_TRANSFER_ERROR\"\n",
      "        ]\n",
      "    },\n",
      "    \"data\": []\n",
      "}\n"
     ]
    }
   ],
   "source": [
    "# FIFO_CONFIG2 register address\n",
    "FIFO_CONFIG2   = 0x60\n",
    "VALUE          = [0x0F, 0x00]\n",
    "\n",
    "# API I3C Write\n",
    "request_result = supernova.i3cWrite(getId(), \n",
    "                                    ICM_DYNAMIC_ADDRESS,\n",
    "                                    TransferMode.I3C_SDR,\n",
    "                                    I3cPushPullTransferRate.PUSH_PULL_12_5_MHZ, \n",
    "                                    I3cOpenDrainTransferRate.OPEN_DRAIN_4_17_MHZ,\n",
    "                                    [FIFO_CONFIG2], \n",
    "                                    VALUE)"
   ]
  },
  {
   "attachments": {},
   "cell_type": "markdown",
   "metadata": {},
   "source": [
    "7. Write ``ACCEL_CONFIG0``\n",
    "\n",
    "Set Accelerometer ODR selection for UI interface output to 1.5625Hz (LP mode)."
   ]
  },
  {
   "cell_type": "code",
   "execution_count": 25,
   "metadata": {},
   "outputs": [
    {
     "name": "stdout",
     "output_type": "stream",
     "text": [
      ">> New message from SUPERNOVA:\n",
      "{\n",
      "    \"id\": 19,\n",
      "    \"command\": 11,\n",
      "    \"name\": \"I3C TRANSFER\",\n",
      "    \"header\": {\n",
      "        \"tag\": \"RESPONSE_TO_REGULAR_REQUEST\",\n",
      "        \"result\": \"I3C_TRANSFER_SUCCESS\",\n",
      "        \"hasData\": false\n",
      "    },\n",
      "    \"descriptor\": {\n",
      "        \"dataLength\": 0,\n",
      "        \"errors\": [\n",
      "            \"NO_TRANSFER_ERROR\"\n",
      "        ]\n",
      "    },\n",
      "    \"data\": []\n",
      "}\n"
     ]
    }
   ],
   "source": [
    "# ACCEL_CONFIG0 register address\n",
    "ACCEL_CONFIG0   = 0x50\n",
    "#VALUE           = 0x0A # 25Hz (LP or LN mode)\n",
    "VALUE           = 0x0E # 1.5625Hz (LP mode)\n",
    "\n",
    "# API I3C Write\n",
    "request_result = supernova.i3cWrite(getId(), \n",
    "                                    ICM_DYNAMIC_ADDRESS,\n",
    "                                    TransferMode.I3C_SDR,\n",
    "                                    I3cPushPullTransferRate.PUSH_PULL_12_5_MHZ, \n",
    "                                    I3cOpenDrainTransferRate.OPEN_DRAIN_4_17_MHZ,\n",
    "                                    [ACCEL_CONFIG0], \n",
    "                                    [VALUE])"
   ]
  },
  {
   "attachments": {},
   "cell_type": "markdown",
   "metadata": {},
   "source": [
    "8. Write ``REG_BANK_SEL``\n",
    "\n",
    "Change register bank to bank 1."
   ]
  },
  {
   "cell_type": "code",
   "execution_count": 26,
   "metadata": {},
   "outputs": [
    {
     "name": "stdout",
     "output_type": "stream",
     "text": [
      ">> New message from SUPERNOVA:\n",
      "{\n",
      "    \"id\": 20,\n",
      "    \"command\": 11,\n",
      "    \"name\": \"I3C TRANSFER\",\n",
      "    \"header\": {\n",
      "        \"tag\": \"RESPONSE_TO_REGULAR_REQUEST\",\n",
      "        \"result\": \"I3C_TRANSFER_SUCCESS\",\n",
      "        \"hasData\": false\n",
      "    },\n",
      "    \"descriptor\": {\n",
      "        \"dataLength\": 0,\n",
      "        \"errors\": [\n",
      "            \"NO_TRANSFER_ERROR\"\n",
      "        ]\n",
      "    },\n",
      "    \"data\": []\n",
      "}\n"
     ]
    }
   ],
   "source": [
    "# REG_BANK_SEL register address\n",
    "REG_BANK_SEL    = 0x76\n",
    "VALUE           = 0x01\n",
    "\n",
    "# API I3C Write\n",
    "request_result = supernova.i3cWrite(getId(), \n",
    "                                    ICM_DYNAMIC_ADDRESS,\n",
    "                                    TransferMode.I3C_SDR,\n",
    "                                    I3cPushPullTransferRate.PUSH_PULL_12_5_MHZ, \n",
    "                                    I3cOpenDrainTransferRate.OPEN_DRAIN_4_17_MHZ,\n",
    "                                    [REG_BANK_SEL], \n",
    "                                    [VALUE])"
   ]
  },
  {
   "attachments": {},
   "cell_type": "markdown",
   "metadata": {},
   "source": [
    "9. Write ``SENSOR_CONFIG0``\n",
    "\n",
    "Enable accelerometer X, Y, and Z data."
   ]
  },
  {
   "cell_type": "code",
   "execution_count": 27,
   "metadata": {},
   "outputs": [
    {
     "name": "stdout",
     "output_type": "stream",
     "text": [
      ">> New message from SUPERNOVA:\n",
      "{\n",
      "    \"id\": 21,\n",
      "    \"command\": 11,\n",
      "    \"name\": \"I3C TRANSFER\",\n",
      "    \"header\": {\n",
      "        \"tag\": \"RESPONSE_TO_REGULAR_REQUEST\",\n",
      "        \"result\": \"I3C_TRANSFER_SUCCESS\",\n",
      "        \"hasData\": false\n",
      "    },\n",
      "    \"descriptor\": {\n",
      "        \"dataLength\": 0,\n",
      "        \"errors\": [\n",
      "            \"NO_TRANSFER_ERROR\"\n",
      "        ]\n",
      "    },\n",
      "    \"data\": []\n",
      "}\n"
     ]
    }
   ],
   "source": [
    "# SENSOR_CONFIG0 register address\n",
    "SENSOR_CONFIG0  = 0x03\n",
    "VALUE           = 0x38\n",
    "\n",
    "# API I3C Write\n",
    "request_result = supernova.i3cWrite(getId(), \n",
    "                                    ICM_DYNAMIC_ADDRESS,\n",
    "                                    TransferMode.I3C_SDR,\n",
    "                                    I3cPushPullTransferRate.PUSH_PULL_12_5_MHZ, \n",
    "                                    I3cOpenDrainTransferRate.OPEN_DRAIN_4_17_MHZ,\n",
    "                                    [SENSOR_CONFIG0], \n",
    "                                    [VALUE])"
   ]
  },
  {
   "attachments": {},
   "cell_type": "markdown",
   "metadata": {},
   "source": [
    "10. Write ``INTF_CONFIG4``\n",
    "\n",
    "Set I3C_BUS_MODE"
   ]
  },
  {
   "cell_type": "code",
   "execution_count": 28,
   "metadata": {},
   "outputs": [
    {
     "name": "stdout",
     "output_type": "stream",
     "text": [
      ">> New message from SUPERNOVA:\n",
      "{\n",
      "    \"id\": 22,\n",
      "    \"command\": 11,\n",
      "    \"name\": \"I3C TRANSFER\",\n",
      "    \"header\": {\n",
      "        \"tag\": \"RESPONSE_TO_REGULAR_REQUEST\",\n",
      "        \"result\": \"I3C_TRANSFER_SUCCESS\",\n",
      "        \"hasData\": false\n",
      "    },\n",
      "    \"descriptor\": {\n",
      "        \"dataLength\": 0,\n",
      "        \"errors\": [\n",
      "            \"NO_TRANSFER_ERROR\"\n",
      "        ]\n",
      "    },\n",
      "    \"data\": []\n",
      "}\n"
     ]
    }
   ],
   "source": [
    "# INTF_CONFIG4 register address\n",
    "INTF_CONFIG4    = 0x7A\n",
    "VALUE           = 0x02\n",
    "\n",
    "# API I3C Write\n",
    "request_result = supernova.i3cWrite(getId(), \n",
    "                                    ICM_DYNAMIC_ADDRESS,\n",
    "                                    TransferMode.I3C_SDR,\n",
    "                                    I3cPushPullTransferRate.PUSH_PULL_12_5_MHZ, \n",
    "                                    I3cOpenDrainTransferRate.OPEN_DRAIN_4_17_MHZ,\n",
    "                                    [INTF_CONFIG4], \n",
    "                                    [VALUE])"
   ]
  },
  {
   "attachments": {},
   "cell_type": "markdown",
   "metadata": {},
   "source": [
    "11. Write ``INTF_CONFIG6``\n",
    "\n",
    "Enable I3C In-Band Interrupt"
   ]
  },
  {
   "cell_type": "code",
   "execution_count": 29,
   "metadata": {},
   "outputs": [
    {
     "name": "stdout",
     "output_type": "stream",
     "text": [
      ">> New message from SUPERNOVA:\n",
      "{\n",
      "    \"id\": 23,\n",
      "    \"command\": 11,\n",
      "    \"name\": \"I3C TRANSFER\",\n",
      "    \"header\": {\n",
      "        \"tag\": \"RESPONSE_TO_REGULAR_REQUEST\",\n",
      "        \"result\": \"I3C_TRANSFER_SUCCESS\",\n",
      "        \"hasData\": false\n",
      "    },\n",
      "    \"descriptor\": {\n",
      "        \"dataLength\": 0,\n",
      "        \"errors\": [\n",
      "            \"NO_TRANSFER_ERROR\"\n",
      "        ]\n",
      "    },\n",
      "    \"data\": []\n",
      "}\n"
     ]
    }
   ],
   "source": [
    "# INTF_CONFIG6 register address\n",
    "INTF_CONFIG6    = 0x7C\n",
    "VALUE           = 0x1F\n",
    "\n",
    "# API I3C Write\n",
    "request_result = supernova.i3cWrite(getId(), \n",
    "                                    ICM_DYNAMIC_ADDRESS,\n",
    "                                    TransferMode.I3C_SDR,\n",
    "                                    I3cPushPullTransferRate.PUSH_PULL_12_5_MHZ, \n",
    "                                    I3cOpenDrainTransferRate.OPEN_DRAIN_4_17_MHZ,\n",
    "                                    [INTF_CONFIG6], \n",
    "                                    [VALUE])"
   ]
  },
  {
   "attachments": {},
   "cell_type": "markdown",
   "metadata": {},
   "source": [
    "12. Write ``REG_BANK_SEL``\n",
    "\n",
    "Change register bank to bank 4."
   ]
  },
  {
   "cell_type": "code",
   "execution_count": 30,
   "metadata": {},
   "outputs": [
    {
     "name": "stdout",
     "output_type": "stream",
     "text": [
      ">> New message from SUPERNOVA:\n",
      "{\n",
      "    \"id\": 24,\n",
      "    \"command\": 11,\n",
      "    \"name\": \"I3C TRANSFER\",\n",
      "    \"header\": {\n",
      "        \"tag\": \"RESPONSE_TO_REGULAR_REQUEST\",\n",
      "        \"result\": \"I3C_TRANSFER_SUCCESS\",\n",
      "        \"hasData\": false\n",
      "    },\n",
      "    \"descriptor\": {\n",
      "        \"dataLength\": 0,\n",
      "        \"errors\": [\n",
      "            \"NO_TRANSFER_ERROR\"\n",
      "        ]\n",
      "    },\n",
      "    \"data\": []\n",
      "}\n"
     ]
    }
   ],
   "source": [
    "# REG_BANK_SEL register address\n",
    "REG_BANK_SEL    = 0x76\n",
    "VALUE           = 0x04\n",
    "\n",
    "# API I3C Write\n",
    "request_result = supernova.i3cWrite(getId(), \n",
    "                                    ICM_DYNAMIC_ADDRESS,\n",
    "                                    TransferMode.I3C_SDR,\n",
    "                                    I3cPushPullTransferRate.PUSH_PULL_12_5_MHZ, \n",
    "                                    I3cOpenDrainTransferRate.OPEN_DRAIN_4_17_MHZ,\n",
    "                                    [REG_BANK_SEL], \n",
    "                                    [VALUE])"
   ]
  },
  {
   "attachments": {},
   "cell_type": "markdown",
   "metadata": {},
   "source": [
    "13. Write ``INT_SOURCE8``\n",
    "\n",
    "Route FIFO threshold interrupt to I3C In-Band Interrupt"
   ]
  },
  {
   "cell_type": "code",
   "execution_count": 31,
   "metadata": {},
   "outputs": [
    {
     "name": "stdout",
     "output_type": "stream",
     "text": [
      ">> New message from SUPERNOVA:\n",
      "{\n",
      "    \"id\": 25,\n",
      "    \"command\": 11,\n",
      "    \"name\": \"I3C TRANSFER\",\n",
      "    \"header\": {\n",
      "        \"tag\": \"RESPONSE_TO_REGULAR_REQUEST\",\n",
      "        \"result\": \"I3C_TRANSFER_SUCCESS\",\n",
      "        \"hasData\": false\n",
      "    },\n",
      "    \"descriptor\": {\n",
      "        \"dataLength\": 0,\n",
      "        \"errors\": [\n",
      "            \"NO_TRANSFER_ERROR\"\n",
      "        ]\n",
      "    },\n",
      "    \"data\": []\n",
      "}\n"
     ]
    }
   ],
   "source": [
    "# INT_SOURCE8 register address\n",
    "INT_SOURCE8 = 0x4F\n",
    "VALUE       = 0x04\n",
    "\n",
    "# API I3C Write\n",
    "request_result = supernova.i3cWrite(getId(), \n",
    "                                    ICM_DYNAMIC_ADDRESS,\n",
    "                                    TransferMode.I3C_SDR,\n",
    "                                    I3cPushPullTransferRate.PUSH_PULL_12_5_MHZ, \n",
    "                                    I3cOpenDrainTransferRate.OPEN_DRAIN_4_17_MHZ,\n",
    "                                    [INT_SOURCE8], \n",
    "                                    [VALUE])"
   ]
  },
  {
   "attachments": {},
   "cell_type": "markdown",
   "metadata": {},
   "source": [
    "14. Write ``REG_BANK_SEL``\n",
    "\n",
    "Change register bank to bank 0."
   ]
  },
  {
   "cell_type": "code",
   "execution_count": 32,
   "metadata": {},
   "outputs": [
    {
     "name": "stdout",
     "output_type": "stream",
     "text": [
      ">> New message from SUPERNOVA:\n",
      "{\n",
      "    \"id\": 26,\n",
      "    \"command\": 11,\n",
      "    \"name\": \"I3C TRANSFER\",\n",
      "    \"header\": {\n",
      "        \"tag\": \"RESPONSE_TO_REGULAR_REQUEST\",\n",
      "        \"result\": \"I3C_TRANSFER_SUCCESS\",\n",
      "        \"hasData\": false\n",
      "    },\n",
      "    \"descriptor\": {\n",
      "        \"dataLength\": 0,\n",
      "        \"errors\": [\n",
      "            \"NO_TRANSFER_ERROR\"\n",
      "        ]\n",
      "    },\n",
      "    \"data\": []\n",
      "}\n"
     ]
    }
   ],
   "source": [
    "# REG_BANK_SEL register address\n",
    "REG_BANK_SEL    = 0x76\n",
    "VALUE           = 0x00\n",
    "\n",
    "# API I3C Write\n",
    "request_result = supernova.i3cWrite(getId(), \n",
    "                                    ICM_DYNAMIC_ADDRESS,\n",
    "                                    TransferMode.I3C_SDR,\n",
    "                                    I3cPushPullTransferRate.PUSH_PULL_12_5_MHZ, \n",
    "                                    I3cOpenDrainTransferRate.OPEN_DRAIN_4_17_MHZ,\n",
    "                                    [REG_BANK_SEL], \n",
    "                                    [VALUE])"
   ]
  },
  {
   "attachments": {},
   "cell_type": "markdown",
   "metadata": {},
   "source": [
    "15. Write ``PWR_MGMT0`` register\n",
    "\n",
    "Enable Temperature sensor and Accelerometer in Low Power mode"
   ]
  },
  {
   "cell_type": "code",
   "execution_count": 33,
   "metadata": {},
   "outputs": [
    {
     "name": "stdout",
     "output_type": "stream",
     "text": [
      ">> New message from SUPERNOVA:\n",
      "{\n",
      "    \"id\": 27,\n",
      "    \"command\": 11,\n",
      "    \"name\": \"I3C TRANSFER\",\n",
      "    \"header\": {\n",
      "        \"tag\": \"RESPONSE_TO_REGULAR_REQUEST\",\n",
      "        \"result\": \"I3C_TRANSFER_SUCCESS\",\n",
      "        \"hasData\": false\n",
      "    },\n",
      "    \"descriptor\": {\n",
      "        \"dataLength\": 0,\n",
      "        \"errors\": [\n",
      "            \"NO_TRANSFER_ERROR\"\n",
      "        ]\n",
      "    },\n",
      "    \"data\": []\n",
      "}\n"
     ]
    }
   ],
   "source": [
    "# PWR_MGMT0 register address\n",
    "PWR_MGMT0   = 0x4E\n",
    "#VALUE       = 0x03 # 11: Places accelerometer in Low Noise (LN) Mode\n",
    "VALUE       = 0x02 # 10: Places accelerometer in Low Power (LP) Mode\n",
    "\n",
    "# API I3C Write\n",
    "request_result = supernova.i3cWrite(getId(), \n",
    "                                    ICM_DYNAMIC_ADDRESS,\n",
    "                                    TransferMode.I3C_SDR,\n",
    "                                    I3cPushPullTransferRate.PUSH_PULL_12_5_MHZ, \n",
    "                                    I3cOpenDrainTransferRate.OPEN_DRAIN_4_17_MHZ,\n",
    "                                    [PWR_MGMT0], \n",
    "                                    [VALUE])"
   ]
  },
  {
   "attachments": {},
   "cell_type": "markdown",
   "metadata": {},
   "source": [
    "#### 2.4 Enable In-Band interrupts"
   ]
  },
  {
   "cell_type": "code",
   "execution_count": 34,
   "metadata": {},
   "outputs": [
    {
     "name": "stdout",
     "output_type": "stream",
     "text": [
      ">> New message from SUPERNOVA:\n",
      "{'id': 28, 'command': 8, 'name': 'I3C SET FEATURE', 'result': 'I3C_SET_FEATURE_SUCCESS', 'errors': ['NO_TRANSFER_ERROR']}\n",
      ">> New message from SUPERNOVA:\n",
      "{'id': 0, 'command': 12, 'name': 'I3C IBI NOTIFICATION', 'header': {'tag': 'INTERRUPT_NOTIFICATION', 'address': 8, 'type': 'IBI_NORMAL', 'response': 'IBI_ACKED_WITH_PAYLOAD', 'hasData': True, 'length': 1, 'status': 0}, 'MDB': {'value': 2, 'description': {'category': 'User defined.', 'description': 'Defined by the vendor and reserved for vendor definition.'}}, 'payload': [2, 0, 0, 0, 0, 0, 0, 0, 0, 0, 0, 0, 0, 0, 0, 0, 0, 0, 0, 0, 0, 0, 0, 0, 0, 0, 0, 0, 0, 0, 0, 0, 0, 0, 0, 0, 0, 0, 0, 0, 0, 0, 0, 0, 0, 0, 0, 0, 0, 0, 0, 0, 0]}\n",
      ">> New message from SUPERNOVA:\n",
      "{'id': 0, 'command': 12, 'name': 'I3C IBI NOTIFICATION', 'header': {'tag': 'INTERRUPT_NOTIFICATION', 'address': 8, 'type': 'IBI_NORMAL', 'response': 'IBI_ACKED_WITH_PAYLOAD', 'hasData': True, 'length': 1, 'status': 0}, 'MDB': {'value': 2, 'description': {'category': 'User defined.', 'description': 'Defined by the vendor and reserved for vendor definition.'}}, 'payload': [2, 0, 0, 0, 0, 0, 0, 0, 0, 0, 0, 0, 0, 0, 0, 0, 0, 0, 0, 0, 0, 0, 0, 0, 0, 0, 0, 0, 0, 0, 0, 0, 0, 0, 0, 0, 0, 0, 0, 0, 0, 0, 0, 0, 0, 0, 0, 0, 0, 0, 0, 0, 0]}\n",
      ">> New message from SUPERNOVA:\n",
      "{'id': 0, 'command': 12, 'name': 'I3C IBI NOTIFICATION', 'header': {'tag': 'INTERRUPT_NOTIFICATION', 'address': 8, 'type': 'IBI_NORMAL', 'response': 'IBI_ACKED_WITH_PAYLOAD', 'hasData': True, 'length': 1, 'status': 0}, 'MDB': {'value': 2, 'description': {'category': 'User defined.', 'description': 'Defined by the vendor and reserved for vendor definition.'}}, 'payload': [2, 0, 0, 0, 0, 0, 0, 0, 0, 0, 0, 0, 0, 0, 0, 0, 0, 0, 0, 0, 0, 0, 0, 0, 0, 0, 0, 0, 0, 0, 0, 0, 0, 0, 0, 0, 0, 0, 0, 0, 0, 0, 0, 0, 0, 0, 0, 0, 0, 0, 0, 0, 0]}\n",
      ">> New message from SUPERNOVA:\n",
      "{'id': 0, 'command': 12, 'name': 'I3C IBI NOTIFICATION', 'header': {'tag': 'INTERRUPT_NOTIFICATION', 'address': 8, 'type': 'IBI_NORMAL', 'response': 'IBI_ACKED_WITH_PAYLOAD', 'hasData': True, 'length': 1, 'status': 0}, 'MDB': {'value': 2, 'description': {'category': 'User defined.', 'description': 'Defined by the vendor and reserved for vendor definition.'}}, 'payload': [2, 0, 0, 0, 0, 0, 0, 0, 0, 0, 0, 0, 0, 0, 0, 0, 0, 0, 0, 0, 0, 0, 0, 0, 0, 0, 0, 0, 0, 0, 0, 0, 0, 0, 0, 0, 0, 0, 0, 0, 0, 0, 0, 0, 0, 0, 0, 0, 0, 0, 0, 0, 0]}\n",
      ">> New message from SUPERNOVA:\n",
      "{'id': 0, 'command': 12, 'name': 'I3C IBI NOTIFICATION', 'header': {'tag': 'INTERRUPT_NOTIFICATION', 'address': 8, 'type': 'IBI_NORMAL', 'response': 'IBI_ACKED_WITH_PAYLOAD', 'hasData': True, 'length': 1, 'status': 0}, 'MDB': {'value': 2, 'description': {'category': 'User defined.', 'description': 'Defined by the vendor and reserved for vendor definition.'}}, 'payload': [2, 0, 0, 0, 0, 0, 0, 0, 0, 0, 0, 0, 0, 0, 0, 0, 0, 0, 0, 0, 0, 0, 0, 0, 0, 0, 0, 0, 0, 0, 0, 0, 0, 0, 0, 0, 0, 0, 0, 0, 0, 0, 0, 0, 0, 0, 0, 0, 0, 0, 0, 0, 0]}\n",
      ">> New message from SUPERNOVA:\n",
      "{'id': 0, 'command': 12, 'name': 'I3C IBI NOTIFICATION', 'header': {'tag': 'INTERRUPT_NOTIFICATION', 'address': 8, 'type': 'IBI_NORMAL', 'response': 'IBI_ACKED_WITH_PAYLOAD', 'hasData': True, 'length': 1, 'status': 0}, 'MDB': {'value': 2, 'description': {'category': 'User defined.', 'description': 'Defined by the vendor and reserved for vendor definition.'}}, 'payload': [2, 0, 0, 0, 0, 0, 0, 0, 0, 0, 0, 0, 0, 0, 0, 0, 0, 0, 0, 0, 0, 0, 0, 0, 0, 0, 0, 0, 0, 0, 0, 0, 0, 0, 0, 0, 0, 0, 0, 0, 0, 0, 0, 0, 0, 0, 0, 0, 0, 0, 0, 0, 0]}\n",
      ">> New message from SUPERNOVA:\n",
      "{'id': 0, 'command': 12, 'name': 'I3C IBI NOTIFICATION', 'header': {'tag': 'INTERRUPT_NOTIFICATION', 'address': 8, 'type': 'IBI_NORMAL', 'response': 'IBI_ACKED_WITH_PAYLOAD', 'hasData': True, 'length': 1, 'status': 0}, 'MDB': {'value': 2, 'description': {'category': 'User defined.', 'description': 'Defined by the vendor and reserved for vendor definition.'}}, 'payload': [2, 0, 0, 0, 0, 0, 0, 0, 0, 0, 0, 0, 0, 0, 0, 0, 0, 0, 0, 0, 0, 0, 0, 0, 0, 0, 0, 0, 0, 0, 0, 0, 0, 0, 0, 0, 0, 0, 0, 0, 0, 0, 0, 0, 0, 0, 0, 0, 0, 0, 0, 0, 0]}\n",
      ">> New message from SUPERNOVA:\n",
      "{'id': 0, 'command': 12, 'name': 'I3C IBI NOTIFICATION', 'header': {'tag': 'INTERRUPT_NOTIFICATION', 'address': 8, 'type': 'IBI_NORMAL', 'response': 'IBI_ACKED_WITH_PAYLOAD', 'hasData': True, 'length': 1, 'status': 0}, 'MDB': {'value': 2, 'description': {'category': 'User defined.', 'description': 'Defined by the vendor and reserved for vendor definition.'}}, 'payload': [2, 0, 0, 0, 0, 0, 0, 0, 0, 0, 0, 0, 0, 0, 0, 0, 0, 0, 0, 0, 0, 0, 0, 0, 0, 0, 0, 0, 0, 0, 0, 0, 0, 0, 0, 0, 0, 0, 0, 0, 0, 0, 0, 0, 0, 0, 0, 0, 0, 0, 0, 0, 0]}\n",
      ">> New message from SUPERNOVA:\n",
      "{'id': 0, 'command': 12, 'name': 'I3C IBI NOTIFICATION', 'header': {'tag': 'INTERRUPT_NOTIFICATION', 'address': 8, 'type': 'IBI_NORMAL', 'response': 'IBI_ACKED_WITH_PAYLOAD', 'hasData': True, 'length': 1, 'status': 0}, 'MDB': {'value': 2, 'description': {'category': 'User defined.', 'description': 'Defined by the vendor and reserved for vendor definition.'}}, 'payload': [2, 0, 0, 0, 0, 0, 0, 0, 0, 0, 0, 0, 0, 0, 0, 0, 0, 0, 0, 0, 0, 0, 0, 0, 0, 0, 0, 0, 0, 0, 0, 0, 0, 0, 0, 0, 0, 0, 0, 0, 0, 0, 0, 0, 0, 0, 0, 0, 0, 0, 0, 0, 0]}\n",
      ">> New message from SUPERNOVA:\n",
      "{'id': 0, 'command': 12, 'name': 'I3C IBI NOTIFICATION', 'header': {'tag': 'INTERRUPT_NOTIFICATION', 'address': 8, 'type': 'IBI_NORMAL', 'response': 'IBI_ACKED_WITH_PAYLOAD', 'hasData': True, 'length': 1, 'status': 0}, 'MDB': {'value': 2, 'description': {'category': 'User defined.', 'description': 'Defined by the vendor and reserved for vendor definition.'}}, 'payload': [2, 0, 0, 0, 0, 0, 0, 0, 0, 0, 0, 0, 0, 0, 0, 0, 0, 0, 0, 0, 0, 0, 0, 0, 0, 0, 0, 0, 0, 0, 0, 0, 0, 0, 0, 0, 0, 0, 0, 0, 0, 0, 0, 0, 0, 0, 0, 0, 0, 0, 0, 0, 0]}\n",
      ">> New message from SUPERNOVA:\n",
      "{'id': 0, 'command': 12, 'name': 'I3C IBI NOTIFICATION', 'header': {'tag': 'INTERRUPT_NOTIFICATION', 'address': 8, 'type': 'IBI_NORMAL', 'response': 'IBI_ACKED_WITH_PAYLOAD', 'hasData': True, 'length': 1, 'status': 0}, 'MDB': {'value': 2, 'description': {'category': 'User defined.', 'description': 'Defined by the vendor and reserved for vendor definition.'}}, 'payload': [2, 0, 0, 0, 0, 0, 0, 0, 0, 0, 0, 0, 0, 0, 0, 0, 0, 0, 0, 0, 0, 0, 0, 0, 0, 0, 0, 0, 0, 0, 0, 0, 0, 0, 0, 0, 0, 0, 0, 0, 0, 0, 0, 0, 0, 0, 0, 0, 0, 0, 0, 0, 0]}\n",
      ">> New message from SUPERNOVA:\n",
      "{'id': 0, 'command': 12, 'name': 'I3C IBI NOTIFICATION', 'header': {'tag': 'INTERRUPT_NOTIFICATION', 'address': 8, 'type': 'IBI_NORMAL', 'response': 'IBI_ACKED_WITH_PAYLOAD', 'hasData': True, 'length': 1, 'status': 0}, 'MDB': {'value': 2, 'description': {'category': 'User defined.', 'description': 'Defined by the vendor and reserved for vendor definition.'}}, 'payload': [2, 0, 0, 0, 0, 0, 0, 0, 0, 0, 0, 0, 0, 0, 0, 0, 0, 0, 0, 0, 0, 0, 0, 0, 0, 0, 0, 0, 0, 0, 0, 0, 0, 0, 0, 0, 0, 0, 0, 0, 0, 0, 0, 0, 0, 0, 0, 0, 0, 0, 0, 0, 0]}\n"
     ]
    }
   ],
   "source": [
    "request_result = supernova.i3cSetFeature(getId(), I3cSetFeatureSelector.REGULAR_IBI, ICM_DYNAMIC_ADDRESS)"
   ]
  },
  {
   "cell_type": "code",
   "execution_count": 35,
   "metadata": {},
   "outputs": [
    {
     "name": "stdout",
     "output_type": "stream",
     "text": [
      ">> New message from SUPERNOVA:\n",
      "{'id': 0, 'command': 12, 'name': 'I3C IBI NOTIFICATION', 'header': {'tag': 'INTERRUPT_NOTIFICATION', 'address': 8, 'type': 'IBI_NORMAL', 'response': 'IBI_ACKED_WITH_PAYLOAD', 'hasData': True, 'length': 1, 'status': 0}, 'MDB': {'value': 2, 'description': {'category': 'User defined.', 'description': 'Defined by the vendor and reserved for vendor definition.'}}, 'payload': [2, 0, 0, 0, 0, 0, 0, 0, 0, 0, 0, 0, 0, 0, 0, 0, 0, 0, 0, 0, 0, 0, 0, 0, 0, 0, 0, 0, 0, 0, 0, 0, 0, 0, 0, 0, 0, 0, 0, 0, 0, 0, 0, 0, 0, 0, 0, 0, 0, 0, 0, 0, 0]}\n"
     ]
    }
   ],
   "source": [
    "request_result = supernova.i3cClearFeature(getId(), I3cClearFeatureSelector.REGULAR_IBI, ICM_DYNAMIC_ADDRESS)"
   ]
  },
  {
   "cell_type": "code",
   "execution_count": 36,
   "metadata": {},
   "outputs": [
    {
     "name": "stdout",
     "output_type": "stream",
     "text": [
      ">> New message from SUPERNOVA:\n",
      "{'id': 29, 'command': 8, 'name': 'I3C SET FEATURE', 'result': 'I3C_CLEAR_FEATURE_SUCCESS', 'errors': ['NO_TRANSFER_ERROR']}\n",
      ">> New message from SUPERNOVA:\n",
      "{'id': 30, 'command': 8, 'name': 'I3C SET FEATURE', 'result': 'I3C_SET_FEATURE_SUCCESS', 'errors': ['NO_TRANSFER_ERROR']}\n",
      ">> New message from SUPERNOVA:\n",
      "{'id': 0, 'command': 12, 'name': 'I3C IBI NOTIFICATION', 'header': {'tag': 'INTERRUPT_NOTIFICATION', 'address': 8, 'type': 'IBI_NORMAL', 'response': 'IBI_ACKED_WITH_PAYLOAD', 'hasData': True, 'length': 1, 'status': 0}, 'MDB': {'value': 2, 'description': {'category': 'User defined.', 'description': 'Defined by the vendor and reserved for vendor definition.'}}, 'payload': [2, 0, 0, 0, 0, 0, 0, 0, 0, 0, 0, 0, 0, 0, 0, 0, 0, 0, 0, 0, 0, 0, 0, 0, 0, 0, 0, 0, 0, 0, 0, 0, 0, 0, 0, 0, 0, 0, 0, 0, 0, 0, 0, 0, 0, 0, 0, 0, 0, 0, 0, 0, 0]}\n",
      ">> New message from SUPERNOVA:\n",
      "{'id': 0, 'command': 12, 'name': 'I3C IBI NOTIFICATION', 'header': {'tag': 'INTERRUPT_NOTIFICATION', 'address': 8, 'type': 'IBI_NORMAL', 'response': 'IBI_ACKED_WITH_PAYLOAD', 'hasData': True, 'length': 1, 'status': 0}, 'MDB': {'value': 2, 'description': {'category': 'User defined.', 'description': 'Defined by the vendor and reserved for vendor definition.'}}, 'payload': [2, 0, 0, 0, 0, 0, 0, 0, 0, 0, 0, 0, 0, 0, 0, 0, 0, 0, 0, 0, 0, 0, 0, 0, 0, 0, 0, 0, 0, 0, 0, 0, 0, 0, 0, 0, 0, 0, 0, 0, 0, 0, 0, 0, 0, 0, 0, 0, 0, 0, 0, 0, 0]}\n",
      ">> New message from SUPERNOVA:\n",
      "{'id': 0, 'command': 12, 'name': 'I3C IBI NOTIFICATION', 'header': {'tag': 'INTERRUPT_NOTIFICATION', 'address': 8, 'type': 'IBI_NORMAL', 'response': 'IBI_ACKED_WITH_PAYLOAD', 'hasData': True, 'length': 1, 'status': 0}, 'MDB': {'value': 2, 'description': {'category': 'User defined.', 'description': 'Defined by the vendor and reserved for vendor definition.'}}, 'payload': [2, 0, 0, 0, 0, 0, 0, 0, 0, 0, 0, 0, 0, 0, 0, 0, 0, 0, 0, 0, 0, 0, 0, 0, 0, 0, 0, 0, 0, 0, 0, 0, 0, 0, 0, 0, 0, 0, 0, 0, 0, 0, 0, 0, 0, 0, 0, 0, 0, 0, 0, 0, 0]}\n",
      ">> New message from SUPERNOVA:\n",
      "{'id': 0, 'command': 12, 'name': 'I3C IBI NOTIFICATION', 'header': {'tag': 'INTERRUPT_NOTIFICATION', 'address': 8, 'type': 'IBI_NORMAL', 'response': 'IBI_ACKED_WITH_PAYLOAD', 'hasData': True, 'length': 1, 'status': 0}, 'MDB': {'value': 2, 'description': {'category': 'User defined.', 'description': 'Defined by the vendor and reserved for vendor definition.'}}, 'payload': [2, 0, 0, 0, 0, 0, 0, 0, 0, 0, 0, 0, 0, 0, 0, 0, 0, 0, 0, 0, 0, 0, 0, 0, 0, 0, 0, 0, 0, 0, 0, 0, 0, 0, 0, 0, 0, 0, 0, 0, 0, 0, 0, 0, 0, 0, 0, 0, 0, 0, 0, 0, 0]}\n",
      ">> New message from SUPERNOVA:\n",
      "{'id': 0, 'command': 12, 'name': 'I3C IBI NOTIFICATION', 'header': {'tag': 'INTERRUPT_NOTIFICATION', 'address': 8, 'type': 'IBI_NORMAL', 'response': 'IBI_ACKED_WITH_PAYLOAD', 'hasData': True, 'length': 1, 'status': 0}, 'MDB': {'value': 2, 'description': {'category': 'User defined.', 'description': 'Defined by the vendor and reserved for vendor definition.'}}, 'payload': [2, 0, 0, 0, 0, 0, 0, 0, 0, 0, 0, 0, 0, 0, 0, 0, 0, 0, 0, 0, 0, 0, 0, 0, 0, 0, 0, 0, 0, 0, 0, 0, 0, 0, 0, 0, 0, 0, 0, 0, 0, 0, 0, 0, 0, 0, 0, 0, 0, 0, 0, 0, 0]}\n"
     ]
    }
   ],
   "source": [
    "request_result = supernova.i3cSetFeature(getId(), I3cSetFeatureSelector.REGULAR_IBI, 0x7E)"
   ]
  },
  {
   "cell_type": "code",
   "execution_count": 37,
   "metadata": {},
   "outputs": [
    {
     "name": "stdout",
     "output_type": "stream",
     "text": [
      ">> New message from SUPERNOVA:\n",
      "{'id': 0, 'command': 12, 'name': 'I3C IBI NOTIFICATION', 'header': {'tag': 'INTERRUPT_NOTIFICATION', 'address': 8, 'type': 'IBI_NORMAL', 'response': 'IBI_ACKED_WITH_PAYLOAD', 'hasData': True, 'length': 1, 'status': 0}, 'MDB': {'value': 2, 'description': {'category': 'User defined.', 'description': 'Defined by the vendor and reserved for vendor definition.'}}, 'payload': [2, 0, 0, 0, 0, 0, 0, 0, 0, 0, 0, 0, 0, 0, 0, 0, 0, 0, 0, 0, 0, 0, 0, 0, 0, 0, 0, 0, 0, 0, 0, 0, 0, 0, 0, 0, 0, 0, 0, 0, 0, 0, 0, 0, 0, 0, 0, 0, 0, 0, 0, 0, 0]}\n"
     ]
    }
   ],
   "source": [
    "request_result = supernova.i3cClearFeature(getId(), I3cClearFeatureSelector.REGULAR_IBI, 0X7E)"
   ]
  },
  {
   "cell_type": "code",
   "execution_count": null,
   "metadata": {},
   "outputs": [],
   "source": []
  }
 ],
 "metadata": {
  "kernelspec": {
   "display_name": "Python 3",
   "language": "python",
   "name": "python3"
  },
  "language_info": {
   "codemirror_mode": {
    "name": "ipython",
    "version": 3
   },
   "file_extension": ".py",
   "mimetype": "text/x-python",
   "name": "python",
   "nbconvert_exporter": "python",
   "pygments_lexer": "ipython3",
   "version": "3.11.7"
  },
  "orig_nbformat": 4
 },
 "nbformat": 4,
 "nbformat_minor": 2
}
