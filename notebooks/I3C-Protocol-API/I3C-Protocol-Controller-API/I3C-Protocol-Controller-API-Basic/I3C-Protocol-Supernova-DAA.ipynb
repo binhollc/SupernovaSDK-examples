{
 "cells": [
  {
   "cell_type": "markdown",
   "metadata": {},
   "source": [
    "## *To perform the Test:*\n",
    "\n",
    "**Connection Setup:**\n",
    "   - Connect a Supernova with firmware version 2.5.0 or higher to a BMM350 Bosch target via the I3C HV bus. The Supernova will act as an I3C controller while the BMM350 as an I3C target.\n",
    "  \n",
    "     Other I3C targets may be used, but you should check their static address and DAA allowed methods to properly test the device and understand the outcome of the evaluation.\n",
    "\n",
    "**Expected Messages and Notifications:**\n",
    "   - For each command sent to the I3C controller, the notebook should show the response returned by it.\n",
    "   - Calling i3cGetTargetDeviceTable, you can verify that the Target Devices Table is updated after each DAA method if run successfully: i3cRSTDAA (cleans the table), i3cSETDASA, i3cSETAASA, i3cENTDAA and i3cBusInit.\n",
    "   \n",
    "**Testing Process:**\n",
    "   - Run each cell in order.\n",
    "   - Look for immediate feedback:\n",
    "     - The response for each command directed to a Supernova.\n"
   ]
  },
  {
   "cell_type": "markdown",
   "metadata": {},
   "source": [
    "### 1. Startup"
   ]
  },
  {
   "cell_type": "markdown",
   "metadata": {},
   "source": [
    "#### 1.1 Import the python package"
   ]
  },
  {
   "cell_type": "code",
   "execution_count": 1,
   "metadata": {},
   "outputs": [],
   "source": [
    "# Import Python package\n",
    "import BinhoSupernova\n",
    "from BinhoSupernova.Supernova import Supernova\n",
    "from BinhoSupernova.commands.definitions import *"
   ]
  },
  {
   "cell_type": "markdown",
   "metadata": {},
   "source": [
    "#### 1.2 Define a function to generate transaction IDs\n",
    "\n",
    "All the request messages sent to the Supernova from the USB Host application must include the transaction or request ID. The ID is a 2-byte integer with an allowed range of ``[1, 65535]``.\n",
    "\n",
    "In this example, a dummy function called ``getId()`` is defined to increment a transaction counter used as the ID."
   ]
  },
  {
   "cell_type": "code",
   "execution_count": 2,
   "metadata": {},
   "outputs": [],
   "source": [
    "#Auxiliar code to generate IDs.\n",
    "\n",
    "counter_id = 0\n",
    "\n",
    "def getId():\n",
    "    global counter_id\n",
    "    counter_id = counter_id + 1\n",
    "    return counter_id"
   ]
  },
  {
   "cell_type": "markdown",
   "metadata": {},
   "source": [
    "#### 1.3 List all the Supernova devices connected to the PC host\n",
    "\n",
    "The ``BinhoSupernova.getConnectedSupernovaDevicesList()`` gets a list of the Supernova devices plugged into the host PC machine."
   ]
  },
  {
   "cell_type": "code",
   "execution_count": 3,
   "metadata": {},
   "outputs": [
    {
     "data": {
      "text/plain": [
       "[{'path': '\\\\\\\\?\\\\HID#VID_1FC9&PID_82FC#7&f321146&0&0000#{4d1e55b2-f16f-11cf-88cb-001111000030}',\n",
       "  'vendor_id': '0x1fc9',\n",
       "  'product_id': '0x82fc',\n",
       "  'serial_number': '59314AC593A1C05C8163B6759994476',\n",
       "  'release_number': 256,\n",
       "  'manufacturer_string': 'Binho LLC',\n",
       "  'product_string': 'Binho Supernova',\n",
       "  'usage_page': 65280,\n",
       "  'usage': 1,\n",
       "  'interface_number': -1}]"
      ]
     },
     "execution_count": 3,
     "metadata": {},
     "output_type": "execute_result"
    }
   ],
   "source": [
    "BinhoSupernova.getConnectedSupernovaDevicesList()"
   ]
  },
  {
   "attachments": {},
   "cell_type": "markdown",
   "metadata": {},
   "source": [
    "#### 1.4 Create an instance of the Supernova class\n",
    "\n",
    "To utilize a Supernova USB host adapter device, we need to create an instance of the Supernova class."
   ]
  },
  {
   "cell_type": "code",
   "execution_count": 4,
   "metadata": {},
   "outputs": [],
   "source": [
    "# Create a device instance. One instance of the Supernova class represents a Supernova USB host adapter device.\n",
    "supernova = Supernova()"
   ]
  },
  {
   "cell_type": "markdown",
   "metadata": {},
   "source": [
    "#### 1.5 Open connection to the Supernova device\n",
    "\n",
    "The public method ``Supernova.open()`` establishes the connection with a Supernova device. Below is the complete signature:\n",
    "\n",
    "```python\n",
    "open(vid, pid, serial, path)\n",
    "```\n",
    "\n",
    "- ``vid: int``: The Supernova USB VID, which is set by default.\n",
    "- ``pid: int``: The Supernova USB PID, which is set by default.\n",
    "- ``serial: str``: The Supernova serial number.\n",
    "- ``path: str``: The OS HID path assigned to the device. This can be obtained using the ``BinhoSupernova.getConnectedSupernovaDevicesList()`` method. The ``path`` parameter is currently the only way to uniquely identify each Supernova device. Therefore, it is recommended to use the ``path`` parameter, especially when opening connections with more than one Supernova device simultaneously.\n"
   ]
  },
  {
   "cell_type": "code",
   "execution_count": 5,
   "metadata": {},
   "outputs": [
    {
     "data": {
      "text/plain": [
       "{'module': 0,\n",
       " 'opcode': 0,\n",
       " 'message': 'Connection with Supernova device opened successfully.'}"
      ]
     },
     "execution_count": 5,
     "metadata": {},
     "output_type": "execute_result"
    }
   ],
   "source": [
    "# Use the method by default to connect to only one Supernova device.\n",
    "supernova.open()\n",
    "\n",
    "# Otherwise, use the path attribute to identify each Supernova device. Uncomment the line below and comment the line #2.\n",
    "# supernova.open(path='\\\\\\\\?\\\\HID#VID_1FC9&PID_82FC#6&48d9417&0&0000#{4d1e55b2-f16f-11cf-88cb-001111000030}')"
   ]
  },
  {
   "attachments": {},
   "cell_type": "markdown",
   "metadata": {},
   "source": [
    "#### 1.6 Define and register a callback to handle responses and notifications from Supernova\n",
    "\n",
    "To handle responses and notifications from Supernova, a callback function must be defined and registered. This function will be invoked every time the Supernova sends a response to a request, an asynchronous notification, or a message from the system.\n",
    "\n",
    "The callback function's signature is as follows: \n",
    "\n",
    "``def callback_function_name(supernova_message: dict, system_message: dict) -> None:``\n",
    "\n",
    "Once the callback function is defined, it should be registered using the ``Supernova.onEvent(callback_function)`` method."
   ]
  },
  {
   "cell_type": "code",
   "execution_count": 6,
   "metadata": {},
   "outputs": [],
   "source": [
    "import json\n",
    "\n",
    "# Define callback function\n",
    "def callback_function(supernova_message: dict, system_message: dict) -> None:\n",
    "    \n",
    "    if supernova_message != None:\n",
    "\n",
    "        # Print a header\n",
    "        print(\">> New message from SUPERNOVA:\")\n",
    "\n",
    "        # If the command is GET TARGET DEVICE TABLE, convert to json.\n",
    "        if supernova_message[\"name\"] == \"I3C GET TARGET DEVICE TABLE\" or supernova_message[\"name\"] == \"I3C TRANSFER\":\n",
    "            responseJson = json.dumps(supernova_message, indent=4)\n",
    "            print(responseJson)\n",
    "\n",
    "        else:\n",
    "            print(supernova_message)\n",
    "    \n",
    "    if system_message != None:\n",
    "\n",
    "        # Print a header\n",
    "        print(\">> New message from the SYSTEM:\")\n",
    "\n",
    "        print(system_message)"
   ]
  },
  {
   "cell_type": "code",
   "execution_count": 7,
   "metadata": {},
   "outputs": [
    {
     "data": {
      "text/plain": [
       "{'module': 0,\n",
       " 'opcode': 0,\n",
       " 'message': 'On event callback function registered successfully.'}"
      ]
     },
     "execution_count": 7,
     "metadata": {},
     "output_type": "execute_result"
    }
   ],
   "source": [
    "# Register callback function\n",
    "supernova.onEvent(callback_function)"
   ]
  },
  {
   "attachments": {},
   "cell_type": "markdown",
   "metadata": {},
   "source": [
    "### 2. I3C Protocol API\n",
    "\n",
    "The I3C Protocol API methods are described below."
   ]
  },
  {
   "cell_type": "markdown",
   "metadata": {},
   "source": [
    "### 2.1 Configure the Supernova as an I3C Controller"
   ]
  },
  {
   "cell_type": "code",
   "execution_count": 8,
   "metadata": {},
   "outputs": [
    {
     "name": "stdout",
     "output_type": "stream",
     "text": [
      ">> New message from SUPERNOVA:\n",
      "{'id': 1, 'command': 1, 'name': 'I3C CONTROLLER INIT', 'result': 'I3C_CONTROLLER_INIT_SUCCESS'}\n"
     ]
    }
   ],
   "source": [
    "request_result = supernova.i3cControllerInit(getId())"
   ]
  },
  {
   "cell_type": "markdown",
   "metadata": {},
   "source": [
    "### 2.2 Set I3C bus voltage\n",
    "\n",
    "There are 2 I3C ports:\n",
    "- I3C LV: from 800 mV to 1199 mV\n",
    "- I3C HV: from 1200 mV to 3300 mV"
   ]
  },
  {
   "cell_type": "code",
   "execution_count": 9,
   "metadata": {},
   "outputs": [
    {
     "name": "stdout",
     "output_type": "stream",
     "text": [
      ">> New message from SUPERNOVA:\n",
      "{'id': 2, 'command': 97, 'name': 'SET I3C BUS VOLTAGE', 'result': 0}\n"
     ]
    }
   ],
   "source": [
    "request_result = supernova.setI3cBusVoltage(getId(), 3300)"
   ]
  },
  {
   "attachments": {},
   "cell_type": "markdown",
   "metadata": {},
   "source": [
    "### 2.3 I3C bus initialization\n",
    "\n",
    "i3cInitBus will execute a RSTDAA and then try to perform the DAA in the order specified by the MIPI Alliance: SETDASA, SETAASA and finally ENTDAA.\n",
    "  - SETDASA will be executed if there is at least one target in the table argument for i3cInitBus that allows SETDASA.\n",
    "  - SETAASA will be executed if there is at least one target in the table argument for i3cInitBus that allows SETAASA but doesn't allow SETDASA.\n",
    "  - ENTDAA will be executed if the table is not full or if there is at least one target in the table argument for i3cInitBus that allows ENTDAA but doesn't allow SETDASA nor SETAASA."
   ]
  },
  {
   "cell_type": "markdown",
   "metadata": {},
   "source": [
    "#### 2.3.1 Using i3cInitBus with no target entries as argument\n",
    "\n",
    "The CCCs involved are:\n",
    "- RSTDAA\n",
    "- ENTDAA since the Target Devices Table is empty when invoking i3cInitBus\n"
   ]
  },
  {
   "cell_type": "code",
   "execution_count": 10,
   "metadata": {},
   "outputs": [
    {
     "name": "stdout",
     "output_type": "stream",
     "text": [
      ">> New message from SUPERNOVA:\n",
      "{\n",
      "    \"id\": 3,\n",
      "    \"command\": 3,\n",
      "    \"name\": \"I3C GET TARGET DEVICE TABLE\",\n",
      "    \"numberOfTargets\": 0,\n",
      "    \"table\": []\n",
      "}\n"
     ]
    }
   ],
   "source": [
    "# Get the Target Devices Table from the Supernova. It must be empty before the bus initialization.\n",
    "request_result = supernova.i3cGetTargetDeviceTable(getId())"
   ]
  },
  {
   "cell_type": "code",
   "execution_count": 11,
   "metadata": {},
   "outputs": [
    {
     "name": "stdout",
     "output_type": "stream",
     "text": [
      ">> New message from SUPERNOVA:\n",
      "{'id': 4, 'command': 2, 'name': 'I3C INIT BUS', 'result': 'I3C_BUS_INIT_SUCCESS', 'errors': ['NO_TRANSFER_ERROR']}\n"
     ]
    }
   ],
   "source": [
    "# Initialize and scan the I3C bus.\n",
    "request_result = supernova.i3cInitBus(getId())"
   ]
  },
  {
   "cell_type": "code",
   "execution_count": 12,
   "metadata": {},
   "outputs": [
    {
     "name": "stdout",
     "output_type": "stream",
     "text": [
      ">> New message from SUPERNOVA:\n",
      "{\n",
      "    \"id\": 5,\n",
      "    \"command\": 3,\n",
      "    \"name\": \"I3C GET TARGET DEVICE TABLE\",\n",
      "    \"numberOfTargets\": 1,\n",
      "    \"table\": [\n",
      "        {\n",
      "            \"staticAddress\": 0,\n",
      "            \"dynamicAddress\": 8,\n",
      "            \"bcr\": {\n",
      "                \"value\": [\n",
      "                    \"0b00100110\",\n",
      "                    38,\n",
      "                    \"0x26\"\n",
      "                ],\n",
      "                \"description\": {\n",
      "                    \"deviceRole\": \"I3C Target.\",\n",
      "                    \"advancedCapabilities\": \"Supports optional advanced capabilities. Use GETCAPS CCC to deremine which ones.\",\n",
      "                    \"virtualTargetSupport\": \"Is not a Virtual Target and does not expose other downstream Device(s).\",\n",
      "                    \"offlineCapable\": \"Device retains the Dynamic Address and will always respond to I3C Bus commands.\",\n",
      "                    \"ibiPayload\": \"One data byte (MDB) shall follow the accepted IBI, and additional data bytes may follow.\",\n",
      "                    \"ibiRequestCapable\": \"Capable.\",\n",
      "                    \"maxDataSpeedLimitation\": \"No Limitation.\"\n",
      "                }\n",
      "            },\n",
      "            \"dcr\": 67,\n",
      "            \"pid\": [\n",
      "                \"0x07\",\n",
      "                \"0x70\",\n",
      "                \"0x10\",\n",
      "                \"0x33\",\n",
      "                \"0x00\",\n",
      "                \"0x00\"\n",
      "            ],\n",
      "            \"maxIbiPayloadSize\": 0,\n",
      "            \"i3cFeatures\": {\n",
      "                \"targetInterruptRequest\": \"ACCEPT_INTERRUPT_REQUEST\",\n",
      "                \"controlerRoleRequest\": \"REJECT_CRR\",\n",
      "                \"ibiTimestamp\": \"DISABLE_IBIT\",\n",
      "                \"assignmentFromStaticAddress\": \"I3C_TARGET_DOES_NOT_HAVE_STATIC_ADDR\",\n",
      "                \"assignmentFromENTDAA\": \"ENABLE_ENTDAA\",\n",
      "                \"targetType\": \"I3C_DEVICE\",\n",
      "                \"pendingReadCapability\": \"NOT_SUPPORT_IBI_READ_CAPABILITY\",\n",
      "                \"validPid\": \"HAS_VALID_PID\"\n",
      "            }\n",
      "        }\n",
      "    ]\n",
      "}\n"
     ]
    }
   ],
   "source": [
    "# Get the Target Devices Table from the Supernova\n",
    "request_result = supernova.i3cGetTargetDeviceTable(getId())"
   ]
  },
  {
   "cell_type": "markdown",
   "metadata": {},
   "source": [
    "#### 2.3.2 Using i3cInitBus with a target entry as argument\n",
    "\n",
    "The CCCs involved are:\n",
    "- RSTDAA \n",
    "- SETDASA since there is at least one entry that supports SETDASA \n",
    "- ENTDAA since the Target Devices Table is empty when invoking i3cInitBus\n"
   ]
  },
  {
   "cell_type": "code",
   "execution_count": 13,
   "metadata": {},
   "outputs": [
    {
     "name": "stdout",
     "output_type": "stream",
     "text": [
      ">> New message from SUPERNOVA:\n",
      "{'id': 6, 'command': 2, 'name': 'I3C INIT BUS', 'result': 'I3C_BUS_INIT_SUCCESS', 'errors': ['NO_TRANSFER_ERROR']}\n"
     ]
    }
   ],
   "source": [
    "'''\n",
    "If the static address of a target is known, sent it to the Supernova. The static address is mandatory\n",
    "if it is expected to assign the dynamic address of the target through SETDASA or SETAASA CCCs.\n",
    "'''\n",
    "BMM350_STATIC_ADDRESS = 0x14\n",
    "\n",
    "'''\n",
    "Select the dynamic address to be assigned to the I3C Target if the DAA method is a SETDASA.\n",
    "'''\n",
    "BMM350_DYNAMIC_ADDRESS = 0x0C\n",
    "\n",
    "'''\n",
    "Set the features and the behavior of the I3C Target. For instance, in case that the I3C Target BCR[1] is\n",
    "set, which means that the I3C Target support In-Band Interrupt (IBI) requests, define whether the Supernova\n",
    "must accept or reject IBIs request from the target. Define also if the dynamic address will be assigned\n",
    "using ENTDAA, SETDASA or SETAASA. To assign the dynamic address set above using ENTDAA, it is mandatory\n",
    "to set also the BCR, DCR and PID in the table. If SETDASA or SETAASA are used, it is mandatory to set\n",
    "the static address. It is also important to add here the I2C devices, setting the static address and the\n",
    "target type as I2C_DEVICE.\n",
    "'''\n",
    "features =  TargetInterruptRequest.ACCEPT_INTERRUPT_REQUEST.value |  \\\n",
    "            ControllerRoleRequest.REJECT_CRR.value |   \\\n",
    "            IBiTimestamp.DISABLE_IBIT.value |   \\\n",
    "            AssignmentFromStaticAddress.I3C_TARGET_SUPPORTS_SETDASA.value |   \\\n",
    "            DAaWithENTDAA.ENABLE_ENTDAA.value |   \\\n",
    "            TargetType.I3C_DEVICE.value |   \\\n",
    "            PendingReadCapability.SUPPORT_IBI_READ_CAPABILITY.value |   \\\n",
    "            ValidPID.HAS_VALID_PID.value\n",
    "\n",
    "'''\n",
    "Create the target devices table to be transferred to the Supernova. This table is a dictionary whose keys\n",
    "are integer numbers starting from 0 and the maximum value possible is 10, which means that the maximum number\n",
    "of I3C Targets is 11.\n",
    "'''\n",
    "table = {0: {'staticAddress': BMM350_STATIC_ADDRESS,\n",
    "        'dynamicAddress': BMM350_DYNAMIC_ADDRESS,\n",
    "        'bcr': 0x00,\n",
    "        'dcr': 0x00,\n",
    "        'pid': [0x00, 0x00, 0x00, 0x00, 0x00, 0x00],\n",
    "        'maxIbiPayloadLength': 9,\n",
    "        'i3cFeatures': features}}\n",
    "\n",
    "'''\n",
    "Initialize the bus using the predefined target devices table.\n",
    "'''\n",
    "request_result = supernova.i3cInitBus(getId(), table)"
   ]
  },
  {
   "cell_type": "code",
   "execution_count": 14,
   "metadata": {},
   "outputs": [
    {
     "name": "stdout",
     "output_type": "stream",
     "text": [
      ">> New message from SUPERNOVA:\n",
      "{\n",
      "    \"id\": 7,\n",
      "    \"command\": 3,\n",
      "    \"name\": \"I3C GET TARGET DEVICE TABLE\",\n",
      "    \"numberOfTargets\": 1,\n",
      "    \"table\": [\n",
      "        {\n",
      "            \"staticAddress\": 20,\n",
      "            \"dynamicAddress\": 12,\n",
      "            \"bcr\": {\n",
      "                \"value\": [\n",
      "                    \"0b00000000\",\n",
      "                    0,\n",
      "                    \"0x00\"\n",
      "                ],\n",
      "                \"description\": {\n",
      "                    \"deviceRole\": \"I3C Target.\",\n",
      "                    \"advancedCapabilities\": \"Does not support optional advanced capabilities.\",\n",
      "                    \"virtualTargetSupport\": \"Is not a Virtual Target and does not expose other downstream Device(s).\",\n",
      "                    \"offlineCapable\": \"Device retains the Dynamic Address and will always respond to I3C Bus commands.\",\n",
      "                    \"ibiPayload\": \"No data bytes follow the accepted IBI.\",\n",
      "                    \"ibiRequestCapable\": \"Not capable.\",\n",
      "                    \"maxDataSpeedLimitation\": \"No Limitation.\"\n",
      "                }\n",
      "            },\n",
      "            \"dcr\": 0,\n",
      "            \"pid\": [\n",
      "                \"0x00\",\n",
      "                \"0x00\",\n",
      "                \"0x00\",\n",
      "                \"0x00\",\n",
      "                \"0x00\",\n",
      "                \"0x00\"\n",
      "            ],\n",
      "            \"maxIbiPayloadSize\": 9,\n",
      "            \"i3cFeatures\": {\n",
      "                \"targetInterruptRequest\": \"ACCEPT_INTERRUPT_REQUEST\",\n",
      "                \"controlerRoleRequest\": \"REJECT_CRR\",\n",
      "                \"ibiTimestamp\": \"DISABLE_IBIT\",\n",
      "                \"assignmentFromStaticAddress\": \"I3C_TARGET_SUPPORTS_SETDASA\",\n",
      "                \"assignmentFromENTDAA\": \"ENABLE_ENTDAA\",\n",
      "                \"targetType\": \"I3C_DEVICE\",\n",
      "                \"pendingReadCapability\": \"SUPPORT_IBI_READ_CAPABILITY\",\n",
      "                \"validPid\": \"HAS_VALID_PID\"\n",
      "            }\n",
      "        }\n",
      "    ]\n",
      "}\n"
     ]
    }
   ],
   "source": [
    "# Get the update target devices table.\n",
    "request_result = supernova.i3cGetTargetDeviceTable(getId())"
   ]
  },
  {
   "cell_type": "markdown",
   "metadata": {},
   "source": [
    "#### 2.3.3 Using SETDASA"
   ]
  },
  {
   "cell_type": "code",
   "execution_count": 15,
   "metadata": {},
   "outputs": [
    {
     "name": "stdout",
     "output_type": "stream",
     "text": [
      ">> New message from SUPERNOVA:\n",
      "{'id': 8, 'command': 7, 'name': 'I3C CLEAR FEATURE', 'result': 'I3C_CLEAR_FEATURE_SUCCESS', 'errors': ['NO_TRANSFER_ERROR']}\n"
     ]
    }
   ],
   "source": [
    "I3C_BROADCAST_ADDRESS = 0x7E\n",
    "\n",
    "# Reset the bus issuing the RSTDAA command and clear the target device table.\n",
    "request_result = supernova.i3cClearFeature(getId(), I3cClearFeatureSelector.I3C_BUS, I3C_BROADCAST_ADDRESS)"
   ]
  },
  {
   "cell_type": "code",
   "execution_count": 16,
   "metadata": {},
   "outputs": [
    {
     "name": "stdout",
     "output_type": "stream",
     "text": [
      ">> New message from SUPERNOVA:\n",
      "{\n",
      "    \"id\": 9,\n",
      "    \"command\": 3,\n",
      "    \"name\": \"I3C GET TARGET DEVICE TABLE\",\n",
      "    \"numberOfTargets\": 0,\n",
      "    \"table\": []\n",
      "}\n"
     ]
    }
   ],
   "source": [
    "# Get the update target devices table\n",
    "request_result = supernova.i3cGetTargetDeviceTable(getId())"
   ]
  },
  {
   "cell_type": "code",
   "execution_count": 17,
   "metadata": {},
   "outputs": [
    {
     "name": "stdout",
     "output_type": "stream",
     "text": [
      ">> New message from SUPERNOVA:\n",
      "{\n",
      "    \"id\": 10,\n",
      "    \"command\": 11,\n",
      "    \"name\": \"I3C TRANSFER\",\n",
      "    \"header\": {\n",
      "        \"tag\": \"RESPONSE_TO_REGULAR_REQUEST\",\n",
      "        \"result\": \"I3C_TRANSFER_SUCCESS\",\n",
      "        \"hasData\": true\n",
      "    },\n",
      "    \"descriptor\": {\n",
      "        \"dataLength\": 1,\n",
      "        \"errors\": [\n",
      "            \"NO_TRANSFER_ERROR\"\n",
      "        ]\n",
      "    },\n",
      "    \"invalid_addresses\": []\n",
      "}\n"
     ]
    }
   ],
   "source": [
    "BMM350_STATIC_ADDRESS = 0x14\n",
    "BMM350_DYNAMIC_ADDRESS = 0x0A\n",
    "\n",
    "# Request a SETDASA\n",
    "request_result = supernova.i3cSETDASA(getId(), BMM350_STATIC_ADDRESS, BMM350_DYNAMIC_ADDRESS, I3cPushPullTransferRate.PUSH_PULL_6_25_MHZ, I3cOpenDrainTransferRate.OPEN_DRAIN_3_125_MHZ)"
   ]
  },
  {
   "cell_type": "code",
   "execution_count": 18,
   "metadata": {},
   "outputs": [
    {
     "name": "stdout",
     "output_type": "stream",
     "text": [
      ">> New message from SUPERNOVA:\n",
      "{\n",
      "    \"id\": 11,\n",
      "    \"command\": 3,\n",
      "    \"name\": \"I3C GET TARGET DEVICE TABLE\",\n",
      "    \"numberOfTargets\": 1,\n",
      "    \"table\": [\n",
      "        {\n",
      "            \"staticAddress\": 20,\n",
      "            \"dynamicAddress\": 10,\n",
      "            \"bcr\": {\n",
      "                \"value\": [\n",
      "                    \"0b00000000\",\n",
      "                    0,\n",
      "                    \"0x00\"\n",
      "                ],\n",
      "                \"description\": {\n",
      "                    \"deviceRole\": \"I3C Target.\",\n",
      "                    \"advancedCapabilities\": \"Does not support optional advanced capabilities.\",\n",
      "                    \"virtualTargetSupport\": \"Is not a Virtual Target and does not expose other downstream Device(s).\",\n",
      "                    \"offlineCapable\": \"Device retains the Dynamic Address and will always respond to I3C Bus commands.\",\n",
      "                    \"ibiPayload\": \"No data bytes follow the accepted IBI.\",\n",
      "                    \"ibiRequestCapable\": \"Not capable.\",\n",
      "                    \"maxDataSpeedLimitation\": \"No Limitation.\"\n",
      "                }\n",
      "            },\n",
      "            \"dcr\": 0,\n",
      "            \"pid\": [\n",
      "                \"0x00\",\n",
      "                \"0x00\",\n",
      "                \"0x00\",\n",
      "                \"0x00\",\n",
      "                \"0x00\",\n",
      "                \"0x00\"\n",
      "            ],\n",
      "            \"maxIbiPayloadSize\": 0,\n",
      "            \"i3cFeatures\": {\n",
      "                \"targetInterruptRequest\": \"REJECT_INTERRUPT_REQUEST\",\n",
      "                \"controlerRoleRequest\": \"REJECT_CRR\",\n",
      "                \"ibiTimestamp\": \"DISABLE_IBIT\",\n",
      "                \"assignmentFromStaticAddress\": \"I3C_TARGET_SUPPORTS_SETDASA\",\n",
      "                \"assignmentFromENTDAA\": \"DISABLE_ENTDAA\",\n",
      "                \"targetType\": \"I3C_DEVICE\",\n",
      "                \"pendingReadCapability\": \"NOT_SUPPORT_IBI_READ_CAPABILITY\",\n",
      "                \"validPid\": \"HAS_NOT_VALID_PID\"\n",
      "            }\n",
      "        }\n",
      "    ]\n",
      "}\n"
     ]
    }
   ],
   "source": [
    "# Get the update target devices table\n",
    "request_result = supernova.i3cGetTargetDeviceTable(getId())"
   ]
  },
  {
   "cell_type": "markdown",
   "metadata": {},
   "source": [
    "#### 2.3.4 Using SETAASA"
   ]
  },
  {
   "cell_type": "code",
   "execution_count": 19,
   "metadata": {},
   "outputs": [
    {
     "name": "stdout",
     "output_type": "stream",
     "text": [
      ">> New message from SUPERNOVA:\n",
      "{'id': 12, 'command': 7, 'name': 'I3C CLEAR FEATURE', 'result': 'I3C_CLEAR_FEATURE_SUCCESS', 'errors': ['NO_TRANSFER_ERROR']}\n"
     ]
    }
   ],
   "source": [
    "I3C_BROADCAST_ADDRESS = 0x7E\n",
    "\n",
    "# Reset the bus issuing the RSTDAA command and clear the target device table.\n",
    "request_result = supernova.i3cClearFeature(getId(), I3cClearFeatureSelector.I3C_BUS, I3C_BROADCAST_ADDRESS)"
   ]
  },
  {
   "cell_type": "code",
   "execution_count": 20,
   "metadata": {},
   "outputs": [
    {
     "name": "stdout",
     "output_type": "stream",
     "text": [
      ">> New message from SUPERNOVA:\n",
      "{\n",
      "    \"id\": 13,\n",
      "    \"command\": 3,\n",
      "    \"name\": \"I3C GET TARGET DEVICE TABLE\",\n",
      "    \"numberOfTargets\": 0,\n",
      "    \"table\": []\n",
      "}\n"
     ]
    }
   ],
   "source": [
    "# Get the update target devices table\n",
    "request_result = supernova.i3cGetTargetDeviceTable(getId())"
   ]
  },
  {
   "cell_type": "code",
   "execution_count": 21,
   "metadata": {},
   "outputs": [
    {
     "name": "stdout",
     "output_type": "stream",
     "text": [
      ">> New message from SUPERNOVA:\n",
      "{\n",
      "    \"id\": 14,\n",
      "    \"command\": 11,\n",
      "    \"name\": \"I3C TRANSFER\",\n",
      "    \"header\": {\n",
      "        \"tag\": \"RESPONSE_TO_REGULAR_REQUEST\",\n",
      "        \"result\": \"I3C_TRANSFER_SUCCESS\",\n",
      "        \"hasData\": true\n",
      "    },\n",
      "    \"descriptor\": {\n",
      "        \"dataLength\": 1,\n",
      "        \"errors\": [\n",
      "            \"NO_TRANSFER_ERROR\"\n",
      "        ]\n",
      "    },\n",
      "    \"invalid_addresses\": []\n",
      "}\n"
     ]
    }
   ],
   "source": [
    "BMM350_STATIC_ADDRESS = 0x14\n",
    "\n",
    "# Request a SETAASA\n",
    "request_result = supernova.i3cSETAASA(getId(), [BMM350_STATIC_ADDRESS], I3cPushPullTransferRate.PUSH_PULL_6_25_MHZ, I3cOpenDrainTransferRate.OPEN_DRAIN_3_125_MHZ)"
   ]
  },
  {
   "cell_type": "code",
   "execution_count": 22,
   "metadata": {},
   "outputs": [
    {
     "name": "stdout",
     "output_type": "stream",
     "text": [
      ">> New message from SUPERNOVA:\n",
      "{\n",
      "    \"id\": 15,\n",
      "    \"command\": 3,\n",
      "    \"name\": \"I3C GET TARGET DEVICE TABLE\",\n",
      "    \"numberOfTargets\": 1,\n",
      "    \"table\": [\n",
      "        {\n",
      "            \"staticAddress\": 20,\n",
      "            \"dynamicAddress\": 20,\n",
      "            \"bcr\": {\n",
      "                \"value\": [\n",
      "                    \"0b00000000\",\n",
      "                    0,\n",
      "                    \"0x00\"\n",
      "                ],\n",
      "                \"description\": {\n",
      "                    \"deviceRole\": \"I3C Target.\",\n",
      "                    \"advancedCapabilities\": \"Does not support optional advanced capabilities.\",\n",
      "                    \"virtualTargetSupport\": \"Is not a Virtual Target and does not expose other downstream Device(s).\",\n",
      "                    \"offlineCapable\": \"Device retains the Dynamic Address and will always respond to I3C Bus commands.\",\n",
      "                    \"ibiPayload\": \"No data bytes follow the accepted IBI.\",\n",
      "                    \"ibiRequestCapable\": \"Not capable.\",\n",
      "                    \"maxDataSpeedLimitation\": \"No Limitation.\"\n",
      "                }\n",
      "            },\n",
      "            \"dcr\": 0,\n",
      "            \"pid\": [\n",
      "                \"0x00\",\n",
      "                \"0x00\",\n",
      "                \"0x00\",\n",
      "                \"0x00\",\n",
      "                \"0x00\",\n",
      "                \"0x00\"\n",
      "            ],\n",
      "            \"maxIbiPayloadSize\": 0,\n",
      "            \"i3cFeatures\": {\n",
      "                \"targetInterruptRequest\": \"REJECT_INTERRUPT_REQUEST\",\n",
      "                \"controlerRoleRequest\": \"REJECT_CRR\",\n",
      "                \"ibiTimestamp\": \"DISABLE_IBIT\",\n",
      "                \"assignmentFromStaticAddress\": \"I3C_TARGET_SUPPORTS_SETAASA\",\n",
      "                \"assignmentFromENTDAA\": \"DISABLE_ENTDAA\",\n",
      "                \"targetType\": \"I3C_DEVICE\",\n",
      "                \"pendingReadCapability\": \"NOT_SUPPORT_IBI_READ_CAPABILITY\",\n",
      "                \"validPid\": \"HAS_NOT_VALID_PID\"\n",
      "            }\n",
      "        }\n",
      "    ]\n",
      "}\n"
     ]
    }
   ],
   "source": [
    "# Get the update target devices table\n",
    "request_result = supernova.i3cGetTargetDeviceTable(getId())"
   ]
  },
  {
   "cell_type": "markdown",
   "metadata": {},
   "source": [
    "#### 2.3.5 Using ENTDAA"
   ]
  },
  {
   "cell_type": "code",
   "execution_count": 23,
   "metadata": {},
   "outputs": [
    {
     "name": "stdout",
     "output_type": "stream",
     "text": [
      ">> New message from SUPERNOVA:\n",
      "{'id': 16, 'command': 7, 'name': 'I3C CLEAR FEATURE', 'result': 'I3C_CLEAR_FEATURE_SUCCESS', 'errors': ['NO_TRANSFER_ERROR']}\n"
     ]
    }
   ],
   "source": [
    "I3C_BROADCAST_ADDRESS = 0x7E\n",
    "\n",
    "# Reset the bus issuing the RSTDAA command and clear the target device table.\n",
    "request_result = supernova.i3cClearFeature(getId(), I3cClearFeatureSelector.I3C_BUS, I3C_BROADCAST_ADDRESS)"
   ]
  },
  {
   "cell_type": "code",
   "execution_count": 24,
   "metadata": {},
   "outputs": [
    {
     "name": "stdout",
     "output_type": "stream",
     "text": [
      ">> New message from SUPERNOVA:\n",
      "{\n",
      "    \"id\": 17,\n",
      "    \"command\": 3,\n",
      "    \"name\": \"I3C GET TARGET DEVICE TABLE\",\n",
      "    \"numberOfTargets\": 0,\n",
      "    \"table\": []\n",
      "}\n"
     ]
    }
   ],
   "source": [
    "# Get the update target devices table.\n",
    "request_result = supernova.i3cGetTargetDeviceTable(getId())"
   ]
  },
  {
   "cell_type": "code",
   "execution_count": 25,
   "metadata": {},
   "outputs": [
    {
     "name": "stdout",
     "output_type": "stream",
     "text": [
      ">> New message from SUPERNOVA:\n",
      "{\n",
      "    \"id\": 18,\n",
      "    \"command\": 11,\n",
      "    \"name\": \"I3C TRANSFER\",\n",
      "    \"header\": {\n",
      "        \"tag\": \"RESPONSE_TO_REGULAR_REQUEST\",\n",
      "        \"result\": \"I3C_TRANSFER_SUCCESS\",\n",
      "        \"hasData\": false\n",
      "    },\n",
      "    \"descriptor\": {\n",
      "        \"dataLength\": 0,\n",
      "        \"errors\": [\n",
      "            \"NO_TRANSFER_ERROR\"\n",
      "        ]\n",
      "    },\n",
      "    \"invalid_addresses\": []\n",
      "}\n"
     ]
    }
   ],
   "source": [
    "'''\n",
    "If the static address of a target is known, sent it to the Supernova. The static address is mandatory\n",
    "if it is expected to assign the dynamic address of the target through SETDASA or SETAASA CCCs.\n",
    "'''\n",
    "BMM350_STATIC_ADDRESS = 0x14\n",
    "\n",
    "'''\n",
    "Select the dynamic address to be assigned to the I3C Target if the DAA method is a SETDASA.\n",
    "'''\n",
    "BMM350_DYNAMIC_ADDRESS = 0x0C\n",
    "\n",
    "'''\n",
    "Set the features and the behavior of the I3C Target. For instance, in case that the I3C Target BCR[1] is\n",
    "set, which means that the I3C Target support In-Band Interrupt (IBI) requests, define whether the Supernova\n",
    "must accept or reject IBIs request from the target. Define also if the dynamic address will be assigned\n",
    "using ENTDAA, SETDASA or SETAASA. To assign the dynamic address set above using ENTDAA, it is mandatory\n",
    "to set also the BCR, DCR and PID in the table. If SETDASA or SETAASA are used, it is mandatory to set\n",
    "the static address. It is also important to add here the I2C devices, setting the static address and the\n",
    "target type as I2C_DEVICE.\n",
    "'''\n",
    "features =  TargetInterruptRequest.ACCEPT_INTERRUPT_REQUEST.value |  \\\n",
    "            ControllerRoleRequest.REJECT_CRR.value |   \\\n",
    "            IBiTimestamp.DISABLE_IBIT.value |   \\\n",
    "            DAaWithENTDAA.ENABLE_ENTDAA.value |   \\\n",
    "            TargetType.I3C_DEVICE.value |   \\\n",
    "            PendingReadCapability.SUPPORT_IBI_READ_CAPABILITY.value |   \\\n",
    "            ValidPID.HAS_VALID_PID.value\n",
    "\n",
    "'''\n",
    "Create the target devices table to be transferred to the Supernova. This table is a dictionary whose keys\n",
    "are integer numbers starting from 0 and the maximum value possible is 10, which means that the maximum number\n",
    "of I3C Targets is 11.\n",
    "'''\n",
    "table = {0: {'staticAddress': BMM350_STATIC_ADDRESS,\n",
    "        'dynamicAddress': BMM350_DYNAMIC_ADDRESS,\n",
    "        'bcr': 0x26,\n",
    "        'dcr': 0x43,\n",
    "        'pid': [0x07, 0x70, 0x10, 0x33, 0x00, 0x00],\n",
    "        'maxIbiPayloadLength': 9,\n",
    "        'i3cFeatures': features}\n",
    "        }\n",
    "\n",
    "# Initialize and scan the I3C bus.\n",
    "request_result = supernova.i3cENTDAA(getId(), table)"
   ]
  },
  {
   "cell_type": "code",
   "execution_count": 26,
   "metadata": {},
   "outputs": [
    {
     "name": "stdout",
     "output_type": "stream",
     "text": [
      ">> New message from SUPERNOVA:\n",
      "{\n",
      "    \"id\": 19,\n",
      "    \"command\": 3,\n",
      "    \"name\": \"I3C GET TARGET DEVICE TABLE\",\n",
      "    \"numberOfTargets\": 1,\n",
      "    \"table\": [\n",
      "        {\n",
      "            \"staticAddress\": 20,\n",
      "            \"dynamicAddress\": 12,\n",
      "            \"bcr\": {\n",
      "                \"value\": [\n",
      "                    \"0b00100110\",\n",
      "                    38,\n",
      "                    \"0x26\"\n",
      "                ],\n",
      "                \"description\": {\n",
      "                    \"deviceRole\": \"I3C Target.\",\n",
      "                    \"advancedCapabilities\": \"Supports optional advanced capabilities. Use GETCAPS CCC to deremine which ones.\",\n",
      "                    \"virtualTargetSupport\": \"Is not a Virtual Target and does not expose other downstream Device(s).\",\n",
      "                    \"offlineCapable\": \"Device retains the Dynamic Address and will always respond to I3C Bus commands.\",\n",
      "                    \"ibiPayload\": \"One data byte (MDB) shall follow the accepted IBI, and additional data bytes may follow.\",\n",
      "                    \"ibiRequestCapable\": \"Capable.\",\n",
      "                    \"maxDataSpeedLimitation\": \"No Limitation.\"\n",
      "                }\n",
      "            },\n",
      "            \"dcr\": 67,\n",
      "            \"pid\": [\n",
      "                \"0x07\",\n",
      "                \"0x70\",\n",
      "                \"0x10\",\n",
      "                \"0x33\",\n",
      "                \"0x00\",\n",
      "                \"0x00\"\n",
      "            ],\n",
      "            \"maxIbiPayloadSize\": 9,\n",
      "            \"i3cFeatures\": {\n",
      "                \"targetInterruptRequest\": \"ACCEPT_INTERRUPT_REQUEST\",\n",
      "                \"controlerRoleRequest\": \"REJECT_CRR\",\n",
      "                \"ibiTimestamp\": \"DISABLE_IBIT\",\n",
      "                \"assignmentFromStaticAddress\": \"I3C_TARGET_DOES_NOT_HAVE_STATIC_ADDR\",\n",
      "                \"assignmentFromENTDAA\": \"ENABLE_ENTDAA\",\n",
      "                \"targetType\": \"I3C_DEVICE\",\n",
      "                \"pendingReadCapability\": \"SUPPORT_IBI_READ_CAPABILITY\",\n",
      "                \"validPid\": \"HAS_VALID_PID\"\n",
      "            }\n",
      "        }\n",
      "    ]\n",
      "}\n"
     ]
    }
   ],
   "source": [
    "# Get the update target devices table.\n",
    "request_result = supernova.i3cGetTargetDeviceTable(getId())"
   ]
  },
  {
   "cell_type": "markdown",
   "metadata": {},
   "source": [
    "### 3. Close communication\n",
    "\n",
    "Use the ``Supernova.close()`` method to end the communication with the Supernova device and release the used memory in the background like threads and so on."
   ]
  },
  {
   "cell_type": "code",
   "execution_count": 27,
   "metadata": {},
   "outputs": [
    {
     "data": {
      "text/plain": [
       "{'module': 0, 'opcode': 0, 'message': 'Communication closed successfully.'}"
      ]
     },
     "execution_count": 27,
     "metadata": {},
     "output_type": "execute_result"
    }
   ],
   "source": [
    "# Close the communication with the Supernova device.\n",
    "supernova.close()"
   ]
  }
 ],
 "metadata": {
  "kernelspec": {
   "display_name": "Python 3",
   "language": "python",
   "name": "python3"
  },
  "language_info": {
   "codemirror_mode": {
    "name": "ipython",
    "version": 3
   },
   "file_extension": ".py",
   "mimetype": "text/x-python",
   "name": "python",
   "nbconvert_exporter": "python",
   "pygments_lexer": "ipython3",
   "version": "3.11.9"
  },
  "orig_nbformat": 4
 },
 "nbformat": 4,
 "nbformat_minor": 2
}
